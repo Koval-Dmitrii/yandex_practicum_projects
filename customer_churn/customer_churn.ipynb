{
 "cells": [
  {
   "cell_type": "markdown",
   "metadata": {
    "toc": true
   },
   "source": [
    "<h1>Содержание<span class=\"tocSkip\"></span></h1>\n",
    "<div class=\"toc\"><ul class=\"toc-item\"><li><span><a href=\"#Подготовка-данных\" data-toc-modified-id=\"Подготовка-данных-1\"><span class=\"toc-item-num\">1&nbsp;&nbsp;</span>Подготовка данных</a></span><ul class=\"toc-item\"><li><span><a href=\"#Импортируем-необходимые-библиотеки-и-загружаем-датасет\" data-toc-modified-id=\"Импортируем-необходимые-библиотеки-и-загружаем-датасет-1.1\"><span class=\"toc-item-num\">1.1&nbsp;&nbsp;</span>Импортируем необходимые библиотеки и загружаем датасет</a></span></li><li><span><a href=\"#Выведим-первые-20-строк-датасета\" data-toc-modified-id=\"Выведим-первые-20-строк-датасета-1.2\"><span class=\"toc-item-num\">1.2&nbsp;&nbsp;</span>Выведим первые 20 строк датасета</a></span></li><li><span><a href=\"#Выведим-общую-информацию-про-датасет\" data-toc-modified-id=\"Выведим-общую-информацию-про-датасет-1.3\"><span class=\"toc-item-num\">1.3&nbsp;&nbsp;</span>Выведим общую информацию про датасет</a></span></li><li><span><a href=\"#Посмотрим-на-статистическую-информацию-по-столбцам\" data-toc-modified-id=\"Посмотрим-на-статистическую-информацию-по-столбцам-1.4\"><span class=\"toc-item-num\">1.4&nbsp;&nbsp;</span>Посмотрим на статистическую информацию по столбцам</a></span></li><li><span><a href=\"#Заполним-пропуски\" data-toc-modified-id=\"Заполним-пропуски-1.5\"><span class=\"toc-item-num\">1.5&nbsp;&nbsp;</span>Заполним пропуски</a></span></li><li><span><a href=\"#Изменим-типы-данных\" data-toc-modified-id=\"Изменим-типы-данных-1.6\"><span class=\"toc-item-num\">1.6&nbsp;&nbsp;</span>Изменим типы данных</a></span></li></ul></li><li><span><a href=\"#Исследование-задачи\" data-toc-modified-id=\"Исследование-задачи-2\"><span class=\"toc-item-num\">2&nbsp;&nbsp;</span>Исследование задачи</a></span><ul class=\"toc-item\"><li><span><a href=\"#Подготовим-данные-к-исследованию\" data-toc-modified-id=\"Подготовим-данные-к-исследованию-2.1\"><span class=\"toc-item-num\">2.1&nbsp;&nbsp;</span>Подготовим данные к исследованию</a></span><ul class=\"toc-item\"><li><span><a href=\"#Уберём-из-датасета-ненужные-столбцы\" data-toc-modified-id=\"Уберём-из-датасета-ненужные-столбцы-2.1.1\"><span class=\"toc-item-num\">2.1.1&nbsp;&nbsp;</span>Уберём из датасета ненужные столбцы</a></span></li></ul></li><li><span><a href=\"#Разделим-данные-на-выборки\" data-toc-modified-id=\"Разделим-данные-на-выборки-2.2\"><span class=\"toc-item-num\">2.2&nbsp;&nbsp;</span>Разделим данные на выборки</a></span><ul class=\"toc-item\"><li><span><a href=\"#Разделим-данные-на-обучающую,-валидационную-и-тестовую-выборки-в-соотношении-3:1:1\" data-toc-modified-id=\"Разделим-данные-на-обучающую,-валидационную-и-тестовую-выборки-в-соотношении-3:1:1-2.2.1\"><span class=\"toc-item-num\">2.2.1&nbsp;&nbsp;</span>Разделим данные на обучающую, валидационную и тестовую выборки в соотношении 3:1:1</a></span></li><li><span><a href=\"#Разделим-данные-по-признакам-и-целевому-признаку\" data-toc-modified-id=\"Разделим-данные-по-признакам-и-целевому-признаку-2.2.2\"><span class=\"toc-item-num\">2.2.2&nbsp;&nbsp;</span>Разделим данные по признакам и целевому признаку</a></span></li></ul></li><li><span><a href=\"#Преобразуем-данные-методом-OHE\" data-toc-modified-id=\"Преобразуем-данные-методом-OHE-2.3\"><span class=\"toc-item-num\">2.3&nbsp;&nbsp;</span>Преобразуем данные методом OHE</a></span></li><li><span><a href=\"#Масштабируем-численные-признаки\" data-toc-modified-id=\"Масштабируем-численные-признаки-2.4\"><span class=\"toc-item-num\">2.4&nbsp;&nbsp;</span>Масштабируем численные признаки</a></span></li><li><span><a href=\"#Исследуем-баланс-классов\" data-toc-modified-id=\"Исследуем-баланс-классов-2.5\"><span class=\"toc-item-num\">2.5&nbsp;&nbsp;</span>Исследуем баланс классов</a></span></li><li><span><a href=\"#Обучим-модели-машинного-обучения-без-учёта-дисбаланса\" data-toc-modified-id=\"Обучим-модели-машинного-обучения-без-учёта-дисбаланса-2.6\"><span class=\"toc-item-num\">2.6&nbsp;&nbsp;</span>Обучим модели машинного обучения без учёта дисбаланса</a></span><ul class=\"toc-item\"><li><span><a href=\"#Модель-&quot;Решающее-дерево&quot;\" data-toc-modified-id=\"Модель-&quot;Решающее-дерево&quot;-2.6.1\"><span class=\"toc-item-num\">2.6.1&nbsp;&nbsp;</span>Модель \"Решающее дерево\"</a></span></li><li><span><a href=\"#Модель-&quot;Случайный-лес&quot;\" data-toc-modified-id=\"Модель-&quot;Случайный-лес&quot;-2.6.2\"><span class=\"toc-item-num\">2.6.2&nbsp;&nbsp;</span>Модель \"Случайный лес\"</a></span></li><li><span><a href=\"#&quot;Логистическая-регрессия&quot;\" data-toc-modified-id=\"&quot;Логистическая-регрессия&quot;-2.6.3\"><span class=\"toc-item-num\">2.6.3&nbsp;&nbsp;</span>\"Логистическая регрессия\"</a></span></li></ul></li></ul></li><li><span><a href=\"#Борьба-с-дисбалансом\" data-toc-modified-id=\"Борьба-с-дисбалансом-3\"><span class=\"toc-item-num\">3&nbsp;&nbsp;</span>Борьба с дисбалансом</a></span><ul class=\"toc-item\"><li><span><a href=\"#Избавимся-от-дисбаланса-методом-upsampling\" data-toc-modified-id=\"Избавимся-от-дисбаланса-методом-upsampling-3.1\"><span class=\"toc-item-num\">3.1&nbsp;&nbsp;</span>Избавимся от дисбаланса методом upsampling</a></span><ul class=\"toc-item\"><li><span><a href=\"#Найдём-лучшую-модель-машинного-обучения\" data-toc-modified-id=\"Найдём-лучшую-модель-машинного-обучения-3.1.1\"><span class=\"toc-item-num\">3.1.1&nbsp;&nbsp;</span>Найдём лучшую модель машинного обучения</a></span><ul class=\"toc-item\"><li><span><a href=\"#Модель-&quot;Решающее-дерево&quot;\" data-toc-modified-id=\"Модель-&quot;Решающее-дерево&quot;-3.1.1.1\"><span class=\"toc-item-num\">3.1.1.1&nbsp;&nbsp;</span>Модель \"Решающее дерево\"</a></span></li><li><span><a href=\"#Модель-&quot;Случайный-лес&quot;\" data-toc-modified-id=\"Модель-&quot;Случайный-лес&quot;-3.1.1.2\"><span class=\"toc-item-num\">3.1.1.2&nbsp;&nbsp;</span>Модель \"Случайный лес\"</a></span></li><li><span><a href=\"#Модель-&quot;Логистическая-регрессия&quot;\" data-toc-modified-id=\"Модель-&quot;Логистическая-регрессия&quot;-3.1.1.3\"><span class=\"toc-item-num\">3.1.1.3&nbsp;&nbsp;</span>Модель \"Логистическая регрессия\"</a></span></li></ul></li></ul></li><li><span><a href=\"#Избавимся-от-дисбаланса-методом-downsampling\" data-toc-modified-id=\"Избавимся-от-дисбаланса-методом-downsampling-3.2\"><span class=\"toc-item-num\">3.2&nbsp;&nbsp;</span>Избавимся от дисбаланса методом downsampling</a></span><ul class=\"toc-item\"><li><span><a href=\"#Найдём-лучшую-модель-машинного-обучения\" data-toc-modified-id=\"Найдём-лучшую-модель-машинного-обучения-3.2.1\"><span class=\"toc-item-num\">3.2.1&nbsp;&nbsp;</span>Найдём лучшую модель машинного обучения</a></span><ul class=\"toc-item\"><li><span><a href=\"#Модель-&quot;Решающее-дерево&quot;\" data-toc-modified-id=\"Модель-&quot;Решающее-дерево&quot;-3.2.1.1\"><span class=\"toc-item-num\">3.2.1.1&nbsp;&nbsp;</span>Модель \"Решающее дерево\"</a></span></li><li><span><a href=\"#Модель-&quot;Случайный-лес&quot;\" data-toc-modified-id=\"Модель-&quot;Случайный-лес&quot;-3.2.1.2\"><span class=\"toc-item-num\">3.2.1.2&nbsp;&nbsp;</span>Модель \"Случайный лес\"</a></span></li><li><span><a href=\"#Модель-&quot;Логистическая-регрессия&quot;\" data-toc-modified-id=\"Модель-&quot;Логистическая-регрессия&quot;-3.2.1.3\"><span class=\"toc-item-num\">3.2.1.3&nbsp;&nbsp;</span>Модель \"Логистическая регрессия\"</a></span></li></ul></li></ul></li><li><span><a href=\"#Вывод\" data-toc-modified-id=\"Вывод-3.3\"><span class=\"toc-item-num\">3.3&nbsp;&nbsp;</span>Вывод</a></span></li></ul></li><li><span><a href=\"#Тестирование-модели\" data-toc-modified-id=\"Тестирование-модели-4\"><span class=\"toc-item-num\">4&nbsp;&nbsp;</span>Тестирование модели</a></span><ul class=\"toc-item\"><li><span><a href=\"#Проверка-модели-на-адекватность\" data-toc-modified-id=\"Проверка-модели-на-адекватность-4.1\"><span class=\"toc-item-num\">4.1&nbsp;&nbsp;</span>Проверка модели на адекватность</a></span></li></ul></li><li><span><a href=\"#Вывод\" data-toc-modified-id=\"Вывод-5\"><span class=\"toc-item-num\">5&nbsp;&nbsp;</span>Вывод</a></span></li><li><span><a href=\"#Чек-лист-готовности-проекта\" data-toc-modified-id=\"Чек-лист-готовности-проекта-6\"><span class=\"toc-item-num\">6&nbsp;&nbsp;</span>Чек-лист готовности проекта</a></span></li></ul></div>"
   ]
  },
  {
   "cell_type": "markdown",
   "metadata": {},
   "source": [
    "# Отток клиентов"
   ]
  },
  {
   "cell_type": "markdown",
   "metadata": {},
   "source": [
    "Из «Бета-Банка» стали уходить клиенты. Каждый месяц. Немного, но заметно. Банковские маркетологи посчитали: сохранять текущих клиентов дешевле, чем привлекать новых.\n",
    "\n",
    "Нужно спрогнозировать, уйдёт клиент из банка в ближайшее время или нет. Вам предоставлены исторические данные о поведении клиентов и расторжении договоров с банком. \n",
    "\n",
    "Постройте модель с предельно большим значением *F1*-меры. Чтобы сдать проект успешно, нужно довести метрику до 0.59. Проверьте *F1*-меру на тестовой выборке самостоятельно.\n",
    "\n",
    "Дополнительно измеряйте *AUC-ROC*, сравнивайте её значение с *F1*-мерой.\n",
    "\n",
    "Источник данных: [https://www.kaggle.com/barelydedicated/bank-customer-churn-modeling](https://www.kaggle.com/barelydedicated/bank-customer-churn-modeling)"
   ]
  },
  {
   "cell_type": "markdown",
   "metadata": {},
   "source": [
    "## Подготовка данных"
   ]
  },
  {
   "cell_type": "markdown",
   "metadata": {},
   "source": [
    "### Импортируем необходимые библиотеки и загружаем датасет"
   ]
  },
  {
   "cell_type": "code",
   "execution_count": 1,
   "metadata": {},
   "outputs": [],
   "source": [
    "import pandas as pd\n",
    "import matplotlib.pyplot as plt\n",
    "\n",
    "from sklearn.preprocessing import MinMaxScaler, OneHotEncoder, StandardScaler\n",
    "from sklearn.utils import shuffle\n",
    "from sklearn.model_selection import train_test_split, GridSearchCV\n",
    "from sklearn.metrics import accuracy_score, f1_score, recall_score, precision_score, roc_auc_score, roc_curve, confusion_matrix\n",
    "from sklearn.linear_model import LogisticRegression\n",
    "from sklearn.ensemble import RandomForestClassifier\n",
    "from sklearn.tree import DecisionTreeClassifier\n",
    "from sklearn.dummy import DummyClassifier\n",
    "from sklearn.compose import make_column_transformer\n",
    "\n",
    "from sklearn.preprocessing import OneHotEncoder\n",
    "\n",
    "from sklearn.compose import ColumnTransformer"
   ]
  },
  {
   "cell_type": "code",
   "execution_count": 2,
   "metadata": {},
   "outputs": [],
   "source": [
    "try:\n",
    "    data = pd.read_csv('/datasets/Churn.csv')\n",
    "except:\n",
    "    data = pd.read_csv('https://code.s3.yandex.net/datasets/Churn.csv')"
   ]
  },
  {
   "cell_type": "markdown",
   "metadata": {},
   "source": [
    "### Выведим первые 20 строк датасета"
   ]
  },
  {
   "cell_type": "code",
   "execution_count": 3,
   "metadata": {
    "scrolled": true
   },
   "outputs": [
    {
     "data": {
      "text/html": [
       "<div>\n",
       "<style scoped>\n",
       "    .dataframe tbody tr th:only-of-type {\n",
       "        vertical-align: middle;\n",
       "    }\n",
       "\n",
       "    .dataframe tbody tr th {\n",
       "        vertical-align: top;\n",
       "    }\n",
       "\n",
       "    .dataframe thead th {\n",
       "        text-align: right;\n",
       "    }\n",
       "</style>\n",
       "<table border=\"1\" class=\"dataframe\">\n",
       "  <thead>\n",
       "    <tr style=\"text-align: right;\">\n",
       "      <th></th>\n",
       "      <th>RowNumber</th>\n",
       "      <th>CustomerId</th>\n",
       "      <th>Surname</th>\n",
       "      <th>CreditScore</th>\n",
       "      <th>Geography</th>\n",
       "      <th>Gender</th>\n",
       "      <th>Age</th>\n",
       "      <th>Tenure</th>\n",
       "      <th>Balance</th>\n",
       "      <th>NumOfProducts</th>\n",
       "      <th>HasCrCard</th>\n",
       "      <th>IsActiveMember</th>\n",
       "      <th>EstimatedSalary</th>\n",
       "      <th>Exited</th>\n",
       "    </tr>\n",
       "  </thead>\n",
       "  <tbody>\n",
       "    <tr>\n",
       "      <th>0</th>\n",
       "      <td>1</td>\n",
       "      <td>15634602</td>\n",
       "      <td>Hargrave</td>\n",
       "      <td>619</td>\n",
       "      <td>France</td>\n",
       "      <td>Female</td>\n",
       "      <td>42</td>\n",
       "      <td>2.0</td>\n",
       "      <td>0.00</td>\n",
       "      <td>1</td>\n",
       "      <td>1</td>\n",
       "      <td>1</td>\n",
       "      <td>101348.88</td>\n",
       "      <td>1</td>\n",
       "    </tr>\n",
       "    <tr>\n",
       "      <th>1</th>\n",
       "      <td>2</td>\n",
       "      <td>15647311</td>\n",
       "      <td>Hill</td>\n",
       "      <td>608</td>\n",
       "      <td>Spain</td>\n",
       "      <td>Female</td>\n",
       "      <td>41</td>\n",
       "      <td>1.0</td>\n",
       "      <td>83807.86</td>\n",
       "      <td>1</td>\n",
       "      <td>0</td>\n",
       "      <td>1</td>\n",
       "      <td>112542.58</td>\n",
       "      <td>0</td>\n",
       "    </tr>\n",
       "    <tr>\n",
       "      <th>2</th>\n",
       "      <td>3</td>\n",
       "      <td>15619304</td>\n",
       "      <td>Onio</td>\n",
       "      <td>502</td>\n",
       "      <td>France</td>\n",
       "      <td>Female</td>\n",
       "      <td>42</td>\n",
       "      <td>8.0</td>\n",
       "      <td>159660.80</td>\n",
       "      <td>3</td>\n",
       "      <td>1</td>\n",
       "      <td>0</td>\n",
       "      <td>113931.57</td>\n",
       "      <td>1</td>\n",
       "    </tr>\n",
       "    <tr>\n",
       "      <th>3</th>\n",
       "      <td>4</td>\n",
       "      <td>15701354</td>\n",
       "      <td>Boni</td>\n",
       "      <td>699</td>\n",
       "      <td>France</td>\n",
       "      <td>Female</td>\n",
       "      <td>39</td>\n",
       "      <td>1.0</td>\n",
       "      <td>0.00</td>\n",
       "      <td>2</td>\n",
       "      <td>0</td>\n",
       "      <td>0</td>\n",
       "      <td>93826.63</td>\n",
       "      <td>0</td>\n",
       "    </tr>\n",
       "    <tr>\n",
       "      <th>4</th>\n",
       "      <td>5</td>\n",
       "      <td>15737888</td>\n",
       "      <td>Mitchell</td>\n",
       "      <td>850</td>\n",
       "      <td>Spain</td>\n",
       "      <td>Female</td>\n",
       "      <td>43</td>\n",
       "      <td>2.0</td>\n",
       "      <td>125510.82</td>\n",
       "      <td>1</td>\n",
       "      <td>1</td>\n",
       "      <td>1</td>\n",
       "      <td>79084.10</td>\n",
       "      <td>0</td>\n",
       "    </tr>\n",
       "    <tr>\n",
       "      <th>5</th>\n",
       "      <td>6</td>\n",
       "      <td>15574012</td>\n",
       "      <td>Chu</td>\n",
       "      <td>645</td>\n",
       "      <td>Spain</td>\n",
       "      <td>Male</td>\n",
       "      <td>44</td>\n",
       "      <td>8.0</td>\n",
       "      <td>113755.78</td>\n",
       "      <td>2</td>\n",
       "      <td>1</td>\n",
       "      <td>0</td>\n",
       "      <td>149756.71</td>\n",
       "      <td>1</td>\n",
       "    </tr>\n",
       "    <tr>\n",
       "      <th>6</th>\n",
       "      <td>7</td>\n",
       "      <td>15592531</td>\n",
       "      <td>Bartlett</td>\n",
       "      <td>822</td>\n",
       "      <td>France</td>\n",
       "      <td>Male</td>\n",
       "      <td>50</td>\n",
       "      <td>7.0</td>\n",
       "      <td>0.00</td>\n",
       "      <td>2</td>\n",
       "      <td>1</td>\n",
       "      <td>1</td>\n",
       "      <td>10062.80</td>\n",
       "      <td>0</td>\n",
       "    </tr>\n",
       "    <tr>\n",
       "      <th>7</th>\n",
       "      <td>8</td>\n",
       "      <td>15656148</td>\n",
       "      <td>Obinna</td>\n",
       "      <td>376</td>\n",
       "      <td>Germany</td>\n",
       "      <td>Female</td>\n",
       "      <td>29</td>\n",
       "      <td>4.0</td>\n",
       "      <td>115046.74</td>\n",
       "      <td>4</td>\n",
       "      <td>1</td>\n",
       "      <td>0</td>\n",
       "      <td>119346.88</td>\n",
       "      <td>1</td>\n",
       "    </tr>\n",
       "    <tr>\n",
       "      <th>8</th>\n",
       "      <td>9</td>\n",
       "      <td>15792365</td>\n",
       "      <td>He</td>\n",
       "      <td>501</td>\n",
       "      <td>France</td>\n",
       "      <td>Male</td>\n",
       "      <td>44</td>\n",
       "      <td>4.0</td>\n",
       "      <td>142051.07</td>\n",
       "      <td>2</td>\n",
       "      <td>0</td>\n",
       "      <td>1</td>\n",
       "      <td>74940.50</td>\n",
       "      <td>0</td>\n",
       "    </tr>\n",
       "    <tr>\n",
       "      <th>9</th>\n",
       "      <td>10</td>\n",
       "      <td>15592389</td>\n",
       "      <td>H?</td>\n",
       "      <td>684</td>\n",
       "      <td>France</td>\n",
       "      <td>Male</td>\n",
       "      <td>27</td>\n",
       "      <td>2.0</td>\n",
       "      <td>134603.88</td>\n",
       "      <td>1</td>\n",
       "      <td>1</td>\n",
       "      <td>1</td>\n",
       "      <td>71725.73</td>\n",
       "      <td>0</td>\n",
       "    </tr>\n",
       "    <tr>\n",
       "      <th>10</th>\n",
       "      <td>11</td>\n",
       "      <td>15767821</td>\n",
       "      <td>Bearce</td>\n",
       "      <td>528</td>\n",
       "      <td>France</td>\n",
       "      <td>Male</td>\n",
       "      <td>31</td>\n",
       "      <td>6.0</td>\n",
       "      <td>102016.72</td>\n",
       "      <td>2</td>\n",
       "      <td>0</td>\n",
       "      <td>0</td>\n",
       "      <td>80181.12</td>\n",
       "      <td>0</td>\n",
       "    </tr>\n",
       "    <tr>\n",
       "      <th>11</th>\n",
       "      <td>12</td>\n",
       "      <td>15737173</td>\n",
       "      <td>Andrews</td>\n",
       "      <td>497</td>\n",
       "      <td>Spain</td>\n",
       "      <td>Male</td>\n",
       "      <td>24</td>\n",
       "      <td>3.0</td>\n",
       "      <td>0.00</td>\n",
       "      <td>2</td>\n",
       "      <td>1</td>\n",
       "      <td>0</td>\n",
       "      <td>76390.01</td>\n",
       "      <td>0</td>\n",
       "    </tr>\n",
       "    <tr>\n",
       "      <th>12</th>\n",
       "      <td>13</td>\n",
       "      <td>15632264</td>\n",
       "      <td>Kay</td>\n",
       "      <td>476</td>\n",
       "      <td>France</td>\n",
       "      <td>Female</td>\n",
       "      <td>34</td>\n",
       "      <td>10.0</td>\n",
       "      <td>0.00</td>\n",
       "      <td>2</td>\n",
       "      <td>1</td>\n",
       "      <td>0</td>\n",
       "      <td>26260.98</td>\n",
       "      <td>0</td>\n",
       "    </tr>\n",
       "    <tr>\n",
       "      <th>13</th>\n",
       "      <td>14</td>\n",
       "      <td>15691483</td>\n",
       "      <td>Chin</td>\n",
       "      <td>549</td>\n",
       "      <td>France</td>\n",
       "      <td>Female</td>\n",
       "      <td>25</td>\n",
       "      <td>5.0</td>\n",
       "      <td>0.00</td>\n",
       "      <td>2</td>\n",
       "      <td>0</td>\n",
       "      <td>0</td>\n",
       "      <td>190857.79</td>\n",
       "      <td>0</td>\n",
       "    </tr>\n",
       "    <tr>\n",
       "      <th>14</th>\n",
       "      <td>15</td>\n",
       "      <td>15600882</td>\n",
       "      <td>Scott</td>\n",
       "      <td>635</td>\n",
       "      <td>Spain</td>\n",
       "      <td>Female</td>\n",
       "      <td>35</td>\n",
       "      <td>7.0</td>\n",
       "      <td>0.00</td>\n",
       "      <td>2</td>\n",
       "      <td>1</td>\n",
       "      <td>1</td>\n",
       "      <td>65951.65</td>\n",
       "      <td>0</td>\n",
       "    </tr>\n",
       "    <tr>\n",
       "      <th>15</th>\n",
       "      <td>16</td>\n",
       "      <td>15643966</td>\n",
       "      <td>Goforth</td>\n",
       "      <td>616</td>\n",
       "      <td>Germany</td>\n",
       "      <td>Male</td>\n",
       "      <td>45</td>\n",
       "      <td>3.0</td>\n",
       "      <td>143129.41</td>\n",
       "      <td>2</td>\n",
       "      <td>0</td>\n",
       "      <td>1</td>\n",
       "      <td>64327.26</td>\n",
       "      <td>0</td>\n",
       "    </tr>\n",
       "    <tr>\n",
       "      <th>16</th>\n",
       "      <td>17</td>\n",
       "      <td>15737452</td>\n",
       "      <td>Romeo</td>\n",
       "      <td>653</td>\n",
       "      <td>Germany</td>\n",
       "      <td>Male</td>\n",
       "      <td>58</td>\n",
       "      <td>1.0</td>\n",
       "      <td>132602.88</td>\n",
       "      <td>1</td>\n",
       "      <td>1</td>\n",
       "      <td>0</td>\n",
       "      <td>5097.67</td>\n",
       "      <td>1</td>\n",
       "    </tr>\n",
       "    <tr>\n",
       "      <th>17</th>\n",
       "      <td>18</td>\n",
       "      <td>15788218</td>\n",
       "      <td>Henderson</td>\n",
       "      <td>549</td>\n",
       "      <td>Spain</td>\n",
       "      <td>Female</td>\n",
       "      <td>24</td>\n",
       "      <td>9.0</td>\n",
       "      <td>0.00</td>\n",
       "      <td>2</td>\n",
       "      <td>1</td>\n",
       "      <td>1</td>\n",
       "      <td>14406.41</td>\n",
       "      <td>0</td>\n",
       "    </tr>\n",
       "    <tr>\n",
       "      <th>18</th>\n",
       "      <td>19</td>\n",
       "      <td>15661507</td>\n",
       "      <td>Muldrow</td>\n",
       "      <td>587</td>\n",
       "      <td>Spain</td>\n",
       "      <td>Male</td>\n",
       "      <td>45</td>\n",
       "      <td>6.0</td>\n",
       "      <td>0.00</td>\n",
       "      <td>1</td>\n",
       "      <td>0</td>\n",
       "      <td>0</td>\n",
       "      <td>158684.81</td>\n",
       "      <td>0</td>\n",
       "    </tr>\n",
       "    <tr>\n",
       "      <th>19</th>\n",
       "      <td>20</td>\n",
       "      <td>15568982</td>\n",
       "      <td>Hao</td>\n",
       "      <td>726</td>\n",
       "      <td>France</td>\n",
       "      <td>Female</td>\n",
       "      <td>24</td>\n",
       "      <td>6.0</td>\n",
       "      <td>0.00</td>\n",
       "      <td>2</td>\n",
       "      <td>1</td>\n",
       "      <td>1</td>\n",
       "      <td>54724.03</td>\n",
       "      <td>0</td>\n",
       "    </tr>\n",
       "  </tbody>\n",
       "</table>\n",
       "</div>"
      ],
      "text/plain": [
       "    RowNumber  CustomerId    Surname  CreditScore Geography  Gender  Age  \\\n",
       "0           1    15634602   Hargrave          619    France  Female   42   \n",
       "1           2    15647311       Hill          608     Spain  Female   41   \n",
       "2           3    15619304       Onio          502    France  Female   42   \n",
       "3           4    15701354       Boni          699    France  Female   39   \n",
       "4           5    15737888   Mitchell          850     Spain  Female   43   \n",
       "5           6    15574012        Chu          645     Spain    Male   44   \n",
       "6           7    15592531   Bartlett          822    France    Male   50   \n",
       "7           8    15656148     Obinna          376   Germany  Female   29   \n",
       "8           9    15792365         He          501    France    Male   44   \n",
       "9          10    15592389         H?          684    France    Male   27   \n",
       "10         11    15767821     Bearce          528    France    Male   31   \n",
       "11         12    15737173    Andrews          497     Spain    Male   24   \n",
       "12         13    15632264        Kay          476    France  Female   34   \n",
       "13         14    15691483       Chin          549    France  Female   25   \n",
       "14         15    15600882      Scott          635     Spain  Female   35   \n",
       "15         16    15643966    Goforth          616   Germany    Male   45   \n",
       "16         17    15737452      Romeo          653   Germany    Male   58   \n",
       "17         18    15788218  Henderson          549     Spain  Female   24   \n",
       "18         19    15661507    Muldrow          587     Spain    Male   45   \n",
       "19         20    15568982        Hao          726    France  Female   24   \n",
       "\n",
       "    Tenure    Balance  NumOfProducts  HasCrCard  IsActiveMember  \\\n",
       "0      2.0       0.00              1          1               1   \n",
       "1      1.0   83807.86              1          0               1   \n",
       "2      8.0  159660.80              3          1               0   \n",
       "3      1.0       0.00              2          0               0   \n",
       "4      2.0  125510.82              1          1               1   \n",
       "5      8.0  113755.78              2          1               0   \n",
       "6      7.0       0.00              2          1               1   \n",
       "7      4.0  115046.74              4          1               0   \n",
       "8      4.0  142051.07              2          0               1   \n",
       "9      2.0  134603.88              1          1               1   \n",
       "10     6.0  102016.72              2          0               0   \n",
       "11     3.0       0.00              2          1               0   \n",
       "12    10.0       0.00              2          1               0   \n",
       "13     5.0       0.00              2          0               0   \n",
       "14     7.0       0.00              2          1               1   \n",
       "15     3.0  143129.41              2          0               1   \n",
       "16     1.0  132602.88              1          1               0   \n",
       "17     9.0       0.00              2          1               1   \n",
       "18     6.0       0.00              1          0               0   \n",
       "19     6.0       0.00              2          1               1   \n",
       "\n",
       "    EstimatedSalary  Exited  \n",
       "0         101348.88       1  \n",
       "1         112542.58       0  \n",
       "2         113931.57       1  \n",
       "3          93826.63       0  \n",
       "4          79084.10       0  \n",
       "5         149756.71       1  \n",
       "6          10062.80       0  \n",
       "7         119346.88       1  \n",
       "8          74940.50       0  \n",
       "9          71725.73       0  \n",
       "10         80181.12       0  \n",
       "11         76390.01       0  \n",
       "12         26260.98       0  \n",
       "13        190857.79       0  \n",
       "14         65951.65       0  \n",
       "15         64327.26       0  \n",
       "16          5097.67       1  \n",
       "17         14406.41       0  \n",
       "18        158684.81       0  \n",
       "19         54724.03       0  "
      ]
     },
     "execution_count": 3,
     "metadata": {},
     "output_type": "execute_result"
    }
   ],
   "source": [
    "data.head(20)"
   ]
  },
  {
   "cell_type": "markdown",
   "metadata": {},
   "source": [
    "### Выведим общую информацию про датасет"
   ]
  },
  {
   "cell_type": "code",
   "execution_count": 4,
   "metadata": {
    "scrolled": true
   },
   "outputs": [
    {
     "name": "stdout",
     "output_type": "stream",
     "text": [
      "<class 'pandas.core.frame.DataFrame'>\n",
      "RangeIndex: 10000 entries, 0 to 9999\n",
      "Data columns (total 14 columns):\n",
      " #   Column           Non-Null Count  Dtype  \n",
      "---  ------           --------------  -----  \n",
      " 0   RowNumber        10000 non-null  int64  \n",
      " 1   CustomerId       10000 non-null  int64  \n",
      " 2   Surname          10000 non-null  object \n",
      " 3   CreditScore      10000 non-null  int64  \n",
      " 4   Geography        10000 non-null  object \n",
      " 5   Gender           10000 non-null  object \n",
      " 6   Age              10000 non-null  int64  \n",
      " 7   Tenure           9091 non-null   float64\n",
      " 8   Balance          10000 non-null  float64\n",
      " 9   NumOfProducts    10000 non-null  int64  \n",
      " 10  HasCrCard        10000 non-null  int64  \n",
      " 11  IsActiveMember   10000 non-null  int64  \n",
      " 12  EstimatedSalary  10000 non-null  float64\n",
      " 13  Exited           10000 non-null  int64  \n",
      "dtypes: float64(3), int64(8), object(3)\n",
      "memory usage: 1.1+ MB\n"
     ]
    }
   ],
   "source": [
    "data.info()"
   ]
  },
  {
   "cell_type": "markdown",
   "metadata": {},
   "source": [
    "### Посмотрим на статистическую информацию по столбцам"
   ]
  },
  {
   "cell_type": "code",
   "execution_count": 5,
   "metadata": {},
   "outputs": [
    {
     "data": {
      "text/html": [
       "<div>\n",
       "<style scoped>\n",
       "    .dataframe tbody tr th:only-of-type {\n",
       "        vertical-align: middle;\n",
       "    }\n",
       "\n",
       "    .dataframe tbody tr th {\n",
       "        vertical-align: top;\n",
       "    }\n",
       "\n",
       "    .dataframe thead th {\n",
       "        text-align: right;\n",
       "    }\n",
       "</style>\n",
       "<table border=\"1\" class=\"dataframe\">\n",
       "  <thead>\n",
       "    <tr style=\"text-align: right;\">\n",
       "      <th></th>\n",
       "      <th>RowNumber</th>\n",
       "      <th>CustomerId</th>\n",
       "      <th>CreditScore</th>\n",
       "      <th>Age</th>\n",
       "      <th>Tenure</th>\n",
       "      <th>Balance</th>\n",
       "      <th>NumOfProducts</th>\n",
       "      <th>HasCrCard</th>\n",
       "      <th>IsActiveMember</th>\n",
       "      <th>EstimatedSalary</th>\n",
       "      <th>Exited</th>\n",
       "    </tr>\n",
       "  </thead>\n",
       "  <tbody>\n",
       "    <tr>\n",
       "      <th>count</th>\n",
       "      <td>10000.00000</td>\n",
       "      <td>1.000000e+04</td>\n",
       "      <td>10000.000000</td>\n",
       "      <td>10000.000000</td>\n",
       "      <td>9091.000000</td>\n",
       "      <td>10000.000000</td>\n",
       "      <td>10000.000000</td>\n",
       "      <td>10000.00000</td>\n",
       "      <td>10000.000000</td>\n",
       "      <td>10000.000000</td>\n",
       "      <td>10000.000000</td>\n",
       "    </tr>\n",
       "    <tr>\n",
       "      <th>mean</th>\n",
       "      <td>5000.50000</td>\n",
       "      <td>1.569094e+07</td>\n",
       "      <td>650.528800</td>\n",
       "      <td>38.921800</td>\n",
       "      <td>4.997690</td>\n",
       "      <td>76485.889288</td>\n",
       "      <td>1.530200</td>\n",
       "      <td>0.70550</td>\n",
       "      <td>0.515100</td>\n",
       "      <td>100090.239881</td>\n",
       "      <td>0.203700</td>\n",
       "    </tr>\n",
       "    <tr>\n",
       "      <th>std</th>\n",
       "      <td>2886.89568</td>\n",
       "      <td>7.193619e+04</td>\n",
       "      <td>96.653299</td>\n",
       "      <td>10.487806</td>\n",
       "      <td>2.894723</td>\n",
       "      <td>62397.405202</td>\n",
       "      <td>0.581654</td>\n",
       "      <td>0.45584</td>\n",
       "      <td>0.499797</td>\n",
       "      <td>57510.492818</td>\n",
       "      <td>0.402769</td>\n",
       "    </tr>\n",
       "    <tr>\n",
       "      <th>min</th>\n",
       "      <td>1.00000</td>\n",
       "      <td>1.556570e+07</td>\n",
       "      <td>350.000000</td>\n",
       "      <td>18.000000</td>\n",
       "      <td>0.000000</td>\n",
       "      <td>0.000000</td>\n",
       "      <td>1.000000</td>\n",
       "      <td>0.00000</td>\n",
       "      <td>0.000000</td>\n",
       "      <td>11.580000</td>\n",
       "      <td>0.000000</td>\n",
       "    </tr>\n",
       "    <tr>\n",
       "      <th>25%</th>\n",
       "      <td>2500.75000</td>\n",
       "      <td>1.562853e+07</td>\n",
       "      <td>584.000000</td>\n",
       "      <td>32.000000</td>\n",
       "      <td>2.000000</td>\n",
       "      <td>0.000000</td>\n",
       "      <td>1.000000</td>\n",
       "      <td>0.00000</td>\n",
       "      <td>0.000000</td>\n",
       "      <td>51002.110000</td>\n",
       "      <td>0.000000</td>\n",
       "    </tr>\n",
       "    <tr>\n",
       "      <th>50%</th>\n",
       "      <td>5000.50000</td>\n",
       "      <td>1.569074e+07</td>\n",
       "      <td>652.000000</td>\n",
       "      <td>37.000000</td>\n",
       "      <td>5.000000</td>\n",
       "      <td>97198.540000</td>\n",
       "      <td>1.000000</td>\n",
       "      <td>1.00000</td>\n",
       "      <td>1.000000</td>\n",
       "      <td>100193.915000</td>\n",
       "      <td>0.000000</td>\n",
       "    </tr>\n",
       "    <tr>\n",
       "      <th>75%</th>\n",
       "      <td>7500.25000</td>\n",
       "      <td>1.575323e+07</td>\n",
       "      <td>718.000000</td>\n",
       "      <td>44.000000</td>\n",
       "      <td>7.000000</td>\n",
       "      <td>127644.240000</td>\n",
       "      <td>2.000000</td>\n",
       "      <td>1.00000</td>\n",
       "      <td>1.000000</td>\n",
       "      <td>149388.247500</td>\n",
       "      <td>0.000000</td>\n",
       "    </tr>\n",
       "    <tr>\n",
       "      <th>max</th>\n",
       "      <td>10000.00000</td>\n",
       "      <td>1.581569e+07</td>\n",
       "      <td>850.000000</td>\n",
       "      <td>92.000000</td>\n",
       "      <td>10.000000</td>\n",
       "      <td>250898.090000</td>\n",
       "      <td>4.000000</td>\n",
       "      <td>1.00000</td>\n",
       "      <td>1.000000</td>\n",
       "      <td>199992.480000</td>\n",
       "      <td>1.000000</td>\n",
       "    </tr>\n",
       "  </tbody>\n",
       "</table>\n",
       "</div>"
      ],
      "text/plain": [
       "         RowNumber    CustomerId   CreditScore           Age       Tenure  \\\n",
       "count  10000.00000  1.000000e+04  10000.000000  10000.000000  9091.000000   \n",
       "mean    5000.50000  1.569094e+07    650.528800     38.921800     4.997690   \n",
       "std     2886.89568  7.193619e+04     96.653299     10.487806     2.894723   \n",
       "min        1.00000  1.556570e+07    350.000000     18.000000     0.000000   \n",
       "25%     2500.75000  1.562853e+07    584.000000     32.000000     2.000000   \n",
       "50%     5000.50000  1.569074e+07    652.000000     37.000000     5.000000   \n",
       "75%     7500.25000  1.575323e+07    718.000000     44.000000     7.000000   \n",
       "max    10000.00000  1.581569e+07    850.000000     92.000000    10.000000   \n",
       "\n",
       "             Balance  NumOfProducts    HasCrCard  IsActiveMember  \\\n",
       "count   10000.000000   10000.000000  10000.00000    10000.000000   \n",
       "mean    76485.889288       1.530200      0.70550        0.515100   \n",
       "std     62397.405202       0.581654      0.45584        0.499797   \n",
       "min         0.000000       1.000000      0.00000        0.000000   \n",
       "25%         0.000000       1.000000      0.00000        0.000000   \n",
       "50%     97198.540000       1.000000      1.00000        1.000000   \n",
       "75%    127644.240000       2.000000      1.00000        1.000000   \n",
       "max    250898.090000       4.000000      1.00000        1.000000   \n",
       "\n",
       "       EstimatedSalary        Exited  \n",
       "count     10000.000000  10000.000000  \n",
       "mean     100090.239881      0.203700  \n",
       "std       57510.492818      0.402769  \n",
       "min          11.580000      0.000000  \n",
       "25%       51002.110000      0.000000  \n",
       "50%      100193.915000      0.000000  \n",
       "75%      149388.247500      0.000000  \n",
       "max      199992.480000      1.000000  "
      ]
     },
     "execution_count": 5,
     "metadata": {},
     "output_type": "execute_result"
    }
   ],
   "source": [
    "data.describe()"
   ]
  },
  {
   "cell_type": "markdown",
   "metadata": {},
   "source": [
    "### Заполним пропуски"
   ]
  },
  {
   "cell_type": "code",
   "execution_count": 6,
   "metadata": {},
   "outputs": [],
   "source": [
    "data['Tenure'] = data['Tenure'].fillna(0)"
   ]
  },
  {
   "cell_type": "markdown",
   "metadata": {},
   "source": [
    "### Изменим типы данных"
   ]
  },
  {
   "cell_type": "code",
   "execution_count": 7,
   "metadata": {},
   "outputs": [
    {
     "name": "stdout",
     "output_type": "stream",
     "text": [
      "<class 'pandas.core.frame.DataFrame'>\n",
      "RangeIndex: 10000 entries, 0 to 9999\n",
      "Data columns (total 14 columns):\n",
      " #   Column           Non-Null Count  Dtype  \n",
      "---  ------           --------------  -----  \n",
      " 0   RowNumber        10000 non-null  int64  \n",
      " 1   CustomerId       10000 non-null  int64  \n",
      " 2   Surname          10000 non-null  object \n",
      " 3   CreditScore      10000 non-null  int64  \n",
      " 4   Geography        10000 non-null  object \n",
      " 5   Gender           10000 non-null  object \n",
      " 6   Age              10000 non-null  int64  \n",
      " 7   Tenure           10000 non-null  int64  \n",
      " 8   Balance          10000 non-null  float64\n",
      " 9   NumOfProducts    10000 non-null  int64  \n",
      " 10  HasCrCard        10000 non-null  int64  \n",
      " 11  IsActiveMember   10000 non-null  int64  \n",
      " 12  EstimatedSalary  10000 non-null  float64\n",
      " 13  Exited           10000 non-null  int64  \n",
      "dtypes: float64(2), int64(9), object(3)\n",
      "memory usage: 1.1+ MB\n"
     ]
    }
   ],
   "source": [
    "data['Tenure'] = data['Tenure'].astype('int')\n",
    "data.info()"
   ]
  },
  {
   "cell_type": "markdown",
   "metadata": {},
   "source": [
    "**Вывод** <br>\n",
    "Видем, что данных довольно много, однако есть аномальные значения и дисбаланс данных в некоторых столбцах. Заполнили пропуски, изменили типы данных на более подходящие."
   ]
  },
  {
   "cell_type": "markdown",
   "metadata": {},
   "source": [
    "## Исследование задачи"
   ]
  },
  {
   "cell_type": "markdown",
   "metadata": {},
   "source": [
    "### Подготовим данные к исследованию"
   ]
  },
  {
   "cell_type": "markdown",
   "metadata": {},
   "source": [
    "#### Уберём из датасета ненужные столбцы"
   ]
  },
  {
   "cell_type": "code",
   "execution_count": 8,
   "metadata": {},
   "outputs": [
    {
     "data": {
      "text/html": [
       "<div>\n",
       "<style scoped>\n",
       "    .dataframe tbody tr th:only-of-type {\n",
       "        vertical-align: middle;\n",
       "    }\n",
       "\n",
       "    .dataframe tbody tr th {\n",
       "        vertical-align: top;\n",
       "    }\n",
       "\n",
       "    .dataframe thead th {\n",
       "        text-align: right;\n",
       "    }\n",
       "</style>\n",
       "<table border=\"1\" class=\"dataframe\">\n",
       "  <thead>\n",
       "    <tr style=\"text-align: right;\">\n",
       "      <th></th>\n",
       "      <th>CreditScore</th>\n",
       "      <th>Geography</th>\n",
       "      <th>Gender</th>\n",
       "      <th>Age</th>\n",
       "      <th>Tenure</th>\n",
       "      <th>Balance</th>\n",
       "      <th>NumOfProducts</th>\n",
       "      <th>HasCrCard</th>\n",
       "      <th>IsActiveMember</th>\n",
       "      <th>EstimatedSalary</th>\n",
       "      <th>Exited</th>\n",
       "    </tr>\n",
       "  </thead>\n",
       "  <tbody>\n",
       "    <tr>\n",
       "      <th>0</th>\n",
       "      <td>619</td>\n",
       "      <td>France</td>\n",
       "      <td>Female</td>\n",
       "      <td>42</td>\n",
       "      <td>2</td>\n",
       "      <td>0.00</td>\n",
       "      <td>1</td>\n",
       "      <td>1</td>\n",
       "      <td>1</td>\n",
       "      <td>101348.88</td>\n",
       "      <td>1</td>\n",
       "    </tr>\n",
       "    <tr>\n",
       "      <th>1</th>\n",
       "      <td>608</td>\n",
       "      <td>Spain</td>\n",
       "      <td>Female</td>\n",
       "      <td>41</td>\n",
       "      <td>1</td>\n",
       "      <td>83807.86</td>\n",
       "      <td>1</td>\n",
       "      <td>0</td>\n",
       "      <td>1</td>\n",
       "      <td>112542.58</td>\n",
       "      <td>0</td>\n",
       "    </tr>\n",
       "    <tr>\n",
       "      <th>2</th>\n",
       "      <td>502</td>\n",
       "      <td>France</td>\n",
       "      <td>Female</td>\n",
       "      <td>42</td>\n",
       "      <td>8</td>\n",
       "      <td>159660.80</td>\n",
       "      <td>3</td>\n",
       "      <td>1</td>\n",
       "      <td>0</td>\n",
       "      <td>113931.57</td>\n",
       "      <td>1</td>\n",
       "    </tr>\n",
       "    <tr>\n",
       "      <th>3</th>\n",
       "      <td>699</td>\n",
       "      <td>France</td>\n",
       "      <td>Female</td>\n",
       "      <td>39</td>\n",
       "      <td>1</td>\n",
       "      <td>0.00</td>\n",
       "      <td>2</td>\n",
       "      <td>0</td>\n",
       "      <td>0</td>\n",
       "      <td>93826.63</td>\n",
       "      <td>0</td>\n",
       "    </tr>\n",
       "    <tr>\n",
       "      <th>4</th>\n",
       "      <td>850</td>\n",
       "      <td>Spain</td>\n",
       "      <td>Female</td>\n",
       "      <td>43</td>\n",
       "      <td>2</td>\n",
       "      <td>125510.82</td>\n",
       "      <td>1</td>\n",
       "      <td>1</td>\n",
       "      <td>1</td>\n",
       "      <td>79084.10</td>\n",
       "      <td>0</td>\n",
       "    </tr>\n",
       "  </tbody>\n",
       "</table>\n",
       "</div>"
      ],
      "text/plain": [
       "   CreditScore Geography  Gender  Age  Tenure    Balance  NumOfProducts  \\\n",
       "0          619    France  Female   42       2       0.00              1   \n",
       "1          608     Spain  Female   41       1   83807.86              1   \n",
       "2          502    France  Female   42       8  159660.80              3   \n",
       "3          699    France  Female   39       1       0.00              2   \n",
       "4          850     Spain  Female   43       2  125510.82              1   \n",
       "\n",
       "   HasCrCard  IsActiveMember  EstimatedSalary  Exited  \n",
       "0          1               1        101348.88       1  \n",
       "1          0               1        112542.58       0  \n",
       "2          1               0        113931.57       1  \n",
       "3          0               0         93826.63       0  \n",
       "4          1               1         79084.10       0  "
      ]
     },
     "execution_count": 8,
     "metadata": {},
     "output_type": "execute_result"
    }
   ],
   "source": [
    "data = data.drop(['RowNumber','CustomerId', 'Surname'], axis=1)\n",
    "data.head()"
   ]
  },
  {
   "cell_type": "markdown",
   "metadata": {},
   "source": [
    "### Разделим данные на выборки"
   ]
  },
  {
   "cell_type": "markdown",
   "metadata": {},
   "source": [
    "####  Разделим данные на обучающую, валидационную и тестовую выборки в соотношении 3:1:1"
   ]
  },
  {
   "cell_type": "code",
   "execution_count": 9,
   "metadata": {},
   "outputs": [],
   "source": [
    "data_train, data_check = train_test_split(data, test_size=0.4, random_state=12345)\n",
    "data_valid, data_test = train_test_split(data_check, test_size=0.5, random_state=12345)"
   ]
  },
  {
   "cell_type": "markdown",
   "metadata": {},
   "source": [
    "#### Разделим данные по признакам и целевому признаку"
   ]
  },
  {
   "cell_type": "code",
   "execution_count": 10,
   "metadata": {},
   "outputs": [],
   "source": [
    "features_train = data_train.drop(['Exited'], axis=1)\n",
    "target_train = data_train['Exited'].reset_index(drop=True)\n",
    "\n",
    "features_valid = data_valid.drop(['Exited'], axis=1)\n",
    "target_valid = data_valid['Exited'].reset_index(drop=True)\n",
    "\n",
    "features_test = data_test.drop(['Exited'], axis=1)\n",
    "target_test = data_test['Exited'].reset_index(drop=True)"
   ]
  },
  {
   "cell_type": "markdown",
   "metadata": {},
   "source": [
    "### Преобразуем данные методом OHE"
   ]
  },
  {
   "cell_type": "code",
   "execution_count": 11,
   "metadata": {},
   "outputs": [],
   "source": [
    "transformer = make_column_transformer(\n",
    "    (OneHotEncoder(drop='first'), ['Geography', 'Gender']),\n",
    "    remainder='passthrough')\n",
    "\n",
    "# Для features_train\n",
    "transformed = transformer.fit_transform(features_train)\n",
    "features_train = pd.DataFrame(\n",
    "    transformed, \n",
    "    columns=transformer.get_feature_names()\n",
    ")\n",
    "\n",
    "# Для features_valid\n",
    "transformed = transformer.transform(features_valid)\n",
    "features_valid = pd.DataFrame(\n",
    "    transformed, \n",
    "    columns=transformer.get_feature_names()\n",
    ")\n",
    "\n",
    "# Для features_test\n",
    "transformed = transformer.transform(features_test)\n",
    "features_test = pd.DataFrame(\n",
    "    transformed, \n",
    "    columns=transformer.get_feature_names()\n",
    ")"
   ]
  },
  {
   "cell_type": "markdown",
   "metadata": {},
   "source": [
    "### Масштабируем численные признаки"
   ]
  },
  {
   "cell_type": "code",
   "execution_count": 12,
   "metadata": {},
   "outputs": [
    {
     "data": {
      "text/plain": [
       "StandardScaler()"
      ]
     },
     "execution_count": 12,
     "metadata": {},
     "output_type": "execute_result"
    }
   ],
   "source": [
    "numeric = ['CreditScore', 'Age', 'Tenure', 'Balance', 'NumOfProducts', 'EstimatedSalary']\n",
    "\n",
    "scaler = StandardScaler()\n",
    "scaler.fit(features_train[numeric])\n"
   ]
  },
  {
   "cell_type": "code",
   "execution_count": 13,
   "metadata": {},
   "outputs": [],
   "source": [
    "#Масштабируем численные признаки обучающей выборки\n",
    "features_train[numeric] = scaler.transform(features_train[numeric])\n",
    "\n",
    "#Масштабируем численные признаки валидационной выборки\n",
    "features_valid[numeric] = scaler.transform(features_valid[numeric])\n",
    "\n",
    "#Масштабируем численные признаки тестовой выборки\n",
    "features_test[numeric] = scaler.transform(features_test[numeric])"
   ]
  },
  {
   "cell_type": "markdown",
   "metadata": {},
   "source": [
    "### Исследуем баланс классов"
   ]
  },
  {
   "cell_type": "code",
   "execution_count": 14,
   "metadata": {},
   "outputs": [
    {
     "name": "stdout",
     "output_type": "stream",
     "text": [
      "0    0.800667\n",
      "1    0.199333\n",
      "Name: Exited, dtype: float64\n"
     ]
    },
    {
     "data": {
      "image/png": "[encoded data removed]",
      "text/plain": [
       "<Figure size 432x288 with 1 Axes>"
      ]
     },
     "metadata": {
      "needs_background": "light"
     },
     "output_type": "display_data"
    }
   ],
   "source": [
    "print(target_train.value_counts(normalize = 1))\n",
    "target_train.plot(kind ='hist', bins=2)\n",
    "plt.show()"
   ]
  },
  {
   "cell_type": "markdown",
   "metadata": {},
   "source": [
    "Мы видим, что отрицательных ответов около 80%, а положительных всего 20%. Явный дисбаланс. Это значит, что модель при обучении будет больше раз видеть 0 и, соответственно, подумает, что 0 более приоритетен, чем 1, хотя это не так."
   ]
  },
  {
   "cell_type": "markdown",
   "metadata": {},
   "source": [
    "### Обучим модели машинного обучения без учёта дисбаланса"
   ]
  },
  {
   "cell_type": "markdown",
   "metadata": {},
   "source": [
    "Создадим функцию, которая будет показывать точность, полноту и f1-меру"
   ]
  },
  {
   "cell_type": "code",
   "execution_count": 15,
   "metadata": {},
   "outputs": [],
   "source": [
    "def rec_prec_f1(target_valid, prediction):\n",
    "    print(\"Полнота\" , recall_score(target_valid, prediction))\n",
    "    print(\"Точность\", precision_score(target_valid, prediction))\n",
    "    print(\"F1-мера\", f1_score(target_valid, prediction))"
   ]
  },
  {
   "cell_type": "markdown",
   "metadata": {},
   "source": [
    "И функцию, которая будет считать AUC-ROC и строить график"
   ]
  },
  {
   "cell_type": "code",
   "execution_count": 16,
   "metadata": {},
   "outputs": [],
   "source": [
    "def auc_roc_func(target_valid, features_valid, best_model):\n",
    "    probabilities_valid = best_model.predict_proba(features_valid)\n",
    "    probabilities_one_valid = probabilities_valid[:, 1]\n",
    "    \n",
    "    fpr, tpr, thresholds = roc_curve(target_valid, probabilities_one_valid)\n",
    "\n",
    "    plt.figure()\n",
    "    plt.plot(fpr, tpr)\n",
    "    plt.plot([0, 1], [0, 1], linestyle='--')\n",
    "    plt.xlim([0.0, 1.0])\n",
    "    plt.ylim([0.0, 1.0])\n",
    "    plt.xlabel('False Positive Rate')\n",
    "    plt.ylabel('True Positive Rate')\n",
    "    plt.title('ROC-кривая')\n",
    "    plt.show()\n",
    "\n",
    "    auc_roc = roc_auc_score(target_valid, probabilities_one_valid)\n",
    "\n",
    "    print(f'Показатель AUC-ROC - {auc_roc}')"
   ]
  },
  {
   "cell_type": "markdown",
   "metadata": {},
   "source": [
    "#### Модель \"Решающее дерево\""
   ]
  },
  {
   "cell_type": "code",
   "execution_count": 17,
   "metadata": {},
   "outputs": [
    {
     "name": "stdout",
     "output_type": "stream",
     "text": [
      "F1-мера наилучшей модели на валидационной выборке: 0.5706293706293706, при max_depth = 9, при criterion = gini\n",
      "\n",
      "Полнота 0.4880382775119617\n",
      "Точность 0.6868686868686869\n",
      "F1-мера 0.5706293706293706\n"
     ]
    },
    {
     "data": {
      "image/png": "[encoded data removed]",
      "text/plain": [
       "<Figure size 432x288 with 1 Axes>"
      ]
     },
     "metadata": {
      "needs_background": "light"
     },
     "output_type": "display_data"
    },
    {
     "name": "stdout",
     "output_type": "stream",
     "text": [
      "Показатель AUC-ROC - 0.7829098591208512\n"
     ]
    }
   ],
   "source": [
    "best_model_tree_1 = None\n",
    "best_result_tree = 0\n",
    "best_depth_tree = 0\n",
    "best_criterion = None\n",
    "predictions_tree_1 = None\n",
    "\n",
    "criterions = {'gini', 'entropy'}\n",
    "\n",
    "for crit in criterions:\n",
    "    for depth in range(1, 11):\n",
    "        model_tree = DecisionTreeClassifier(random_state=12345, max_depth=depth, criterion=crit) \n",
    "        model_tree.fit(features_train, target_train) \n",
    "        predictions = model_tree.predict(features_valid) \n",
    "        result = f1_score(target_valid, predictions) \n",
    "        if result > best_result_tree:\n",
    "            best_model_tree_1 = model_tree\n",
    "            best_result_tree = result\n",
    "            best_depth_tree = depth\n",
    "            best_criterion = crit\n",
    "            predictions_tree_1 = predictions\n",
    "        \n",
    "print(f'F1-мера наилучшей модели на валидационной выборке: {best_result_tree}, при max_depth = {best_depth_tree}, \\\n",
    "при criterion = {best_criterion}') \n",
    "print()\n",
    "rec_prec_f1(target_valid, predictions_tree_1)\n",
    "auc_roc_func(target_valid, features_valid, best_model_tree_1)"
   ]
  },
  {
   "cell_type": "markdown",
   "metadata": {},
   "source": [
    "#### Модель \"Случайный лес\""
   ]
  },
  {
   "cell_type": "code",
   "execution_count": 18,
   "metadata": {},
   "outputs": [
    {
     "name": "stdout",
     "output_type": "stream",
     "text": [
      "Accuracy наилучшей модели на валидационной выборке: 0.5931677018633541, при max_depth = 9, при n_estimators = 14, при criterion = entropy\n",
      "\n",
      "Полнота 0.4569377990430622\n",
      "Точность 0.8451327433628318\n",
      "F1-мера 0.5931677018633541\n"
     ]
    },
    {
     "data": {
      "image/png": "[encoded data removed]",
      "text/plain": [
       "<Figure size 432x288 with 1 Axes>"
      ]
     },
     "metadata": {
      "needs_background": "light"
     },
     "output_type": "display_data"
    },
    {
     "name": "stdout",
     "output_type": "stream",
     "text": [
      "Показатель AUC-ROC - 0.8572109073972138\n"
     ]
    }
   ],
   "source": [
    "best_model_forest_1 = None\n",
    "best_result_forest = 0\n",
    "best_depth_forest = 0\n",
    "best_n_estimators_forest = 0\n",
    "best_criterion = None\n",
    "predictions_forest_1 = None\n",
    "\n",
    "criterions = {'gini', 'entropy'}\n",
    "\n",
    "for crit in criterions:\n",
    "    for depth in range(1, 11):\n",
    "        for est in range(1, 51):\n",
    "            model_forest = RandomForestClassifier(random_state=12345, max_depth = depth, n_estimators=est, criterion=crit) \n",
    "            model_forest.fit(features_train, target_train) \n",
    "            predictions = model_forest.predict(features_valid)\n",
    "            result = f1_score(target_valid, predictions) \n",
    "            if result > best_result_forest:\n",
    "                best_model_forest_1 = model_forest\n",
    "                best_result_forest = result\n",
    "                best_depth_forest = depth\n",
    "                best_n_estimators_forest = est\n",
    "                best_criterion = crit\n",
    "                predictions_forest_1 = predictions\n",
    "\n",
    "print(f'Accuracy наилучшей модели на валидационной выборке: {best_result_forest}, при max_depth = {best_depth_tree}, \\\n",
    "при n_estimators = {best_n_estimators_forest}, при criterion = {best_criterion}') \n",
    "print()\n",
    "rec_prec_f1(target_valid, predictions_forest_1)\n",
    "auc_roc_func(target_valid, features_valid, best_model_forest_1)"
   ]
  },
  {
   "cell_type": "markdown",
   "metadata": {},
   "source": [
    "#### \"Логистическая регрессия\""
   ]
  },
  {
   "cell_type": "code",
   "execution_count": 19,
   "metadata": {},
   "outputs": [
    {
     "name": "stdout",
     "output_type": "stream",
     "text": [
      "Accuracy модели на валидационной выборке: 0.5727699530516431, при solver = liblinear, при c = 1\n",
      "\n",
      "Полнота 0.43779904306220097\n",
      "Точность 0.8280542986425339\n",
      "F1-мера 0.5727699530516431\n"
     ]
    },
    {
     "data": {
      "image/png": "[encoded data removed]",
      "text/plain": [
       "<Figure size 432x288 with 1 Axes>"
      ]
     },
     "metadata": {
      "needs_background": "light"
     },
     "output_type": "display_data"
    },
    {
     "name": "stdout",
     "output_type": "stream",
     "text": [
      "Показатель AUC-ROC - 0.7586317967081824\n"
     ]
    }
   ],
   "source": [
    "best_model_lr_1 = None\n",
    "best_result_lr = 0\n",
    "best_solver = None\n",
    "best_c = 0\n",
    "predictions_lr_1 = None\n",
    "\n",
    "solvers = {'liblinear', 'lbfgs'}\n",
    "\n",
    "for c in range(1, 11):\n",
    "    for sol in solvers:\n",
    "        model_lr = LogisticRegression(random_state=12345, solver=sol, C=c)\n",
    "        model_lr.fit(features_train, target_train)\n",
    "        predictions = model_forest.predict(features_valid)\n",
    "        result = f1_score(target_valid, predictions) \n",
    "        if result > best_result_lr:\n",
    "                    best_model_lr_1 = model_lr\n",
    "                    best_result_lr = result \n",
    "                    best_solver = sol\n",
    "                    best_c = c\n",
    "                    predictions_lr_1 = predictions\n",
    "                \n",
    "\n",
    "print(f'Accuracy модели на валидационной выборке: {best_result_lr}, при solver = {best_solver}, при c = {best_c}')\n",
    "print()\n",
    "rec_prec_f1(target_valid, predictions_lr_1)\n",
    "auc_roc_func(target_valid, features_valid, best_model_lr_1)"
   ]
  },
  {
   "cell_type": "markdown",
   "metadata": {},
   "source": [
    "**Вывод** <br>\n",
    "Мы подготовили данные к исследованию: убрали из датасета ненужные столбцы, преобразовали данные методом OHE, разделили датасет на обучающую, валидационную и тестовую выборки, масштабировали численные признаки. <br>\n",
    "Далее мы обучили разные модели машинного обучения. Лучшей из них оказался - Случайный лес, с показателями: <br>\n",
    "F1-мера - 0.583 <br>\n",
    "AUC-ROC - 0.835 <br>\n",
    "Так же мы посмотрели на баланс классов. Как мы выяснили, в выборке отрицательных ответов около 80%, а положитительных около 20%. Поэтому, мы с уверенностью можем сказать что в данных имеется дисбаланс."
   ]
  },
  {
   "cell_type": "markdown",
   "metadata": {},
   "source": [
    "## Борьба с дисбалансом"
   ]
  },
  {
   "cell_type": "markdown",
   "metadata": {},
   "source": [
    "### Избавимся от дисбаланса методом upsampling"
   ]
  },
  {
   "cell_type": "markdown",
   "metadata": {},
   "source": [
    "Как мы выяснили, в выборке 80% отрицательных ответов и только 20% положительных. Для того, чтобы избавиться от дисбаланса воспользуемся методом upsampling - увеличим количество положительных ответов в 4 раза."
   ]
  },
  {
   "cell_type": "code",
   "execution_count": 20,
   "metadata": {},
   "outputs": [],
   "source": [
    "# Создадим функцию для upsampling\n",
    "def upsample(features, target, repeat):\n",
    "    features_zeros = features[target == 0]\n",
    "    features_ones = features[target == 1]\n",
    "    target_zeros = target[target == 0]\n",
    "    target_ones = target[target == 1]\n",
    "\n",
    "    features_upsampled = pd.concat([features_zeros] + [features_ones] * repeat)\n",
    "    target_upsampled = pd.concat([target_zeros] + [target_ones] * repeat)\n",
    "    \n",
    "    features_upsampled, target_upsampled = shuffle(\n",
    "        features_upsampled, target_upsampled, random_state=12345)\n",
    "    \n",
    "    return features_upsampled, target_upsampled"
   ]
  },
  {
   "cell_type": "code",
   "execution_count": 21,
   "metadata": {},
   "outputs": [
    {
     "name": "stdout",
     "output_type": "stream",
     "text": [
      "0    0.501043\n",
      "1    0.498957\n",
      "Name: Exited, dtype: float64\n"
     ]
    },
    {
     "data": {
      "image/png": "[encoded data removed]",
      "text/plain": [
       "<Figure size 432x288 with 1 Axes>"
      ]
     },
     "metadata": {
      "needs_background": "light"
     },
     "output_type": "display_data"
    }
   ],
   "source": [
    "features_train_upsampled, target_train_upsampled = upsample(features_train, target_train, 4)\n",
    "\n",
    "print(target_train_upsampled.value_counts(normalize = 1))\n",
    "target_train_upsampled.plot(kind ='hist', bins=3)\n",
    "plt.show()"
   ]
  },
  {
   "cell_type": "markdown",
   "metadata": {},
   "source": [
    "Получилось почти идеально. Данные сбалансированны, значит можно переходить к созданию моделей машинного обучения."
   ]
  },
  {
   "cell_type": "markdown",
   "metadata": {},
   "source": [
    "#### Найдём лучшую модель машинного обучения"
   ]
  },
  {
   "cell_type": "markdown",
   "metadata": {},
   "source": [
    "##### Модель \"Решающее дерево\" "
   ]
  },
  {
   "cell_type": "code",
   "execution_count": 22,
   "metadata": {},
   "outputs": [
    {
     "name": "stdout",
     "output_type": "stream",
     "text": [
      "F1-мера наилучшей модели на валидационной выборке: 0.5984930032292788, при max_depth = 5, при criterion = entropy\n",
      "\n",
      "Полнота 0.6650717703349283\n",
      "Точность 0.5440313111545988\n",
      "F1-мера 0.5984930032292788\n",
      "None\n"
     ]
    },
    {
     "data": {
      "image/png": "[encoded data removed]",
      "text/plain": [
       "<Figure size 432x288 with 1 Axes>"
      ]
     },
     "metadata": {
      "needs_background": "light"
     },
     "output_type": "display_data"
    },
    {
     "name": "stdout",
     "output_type": "stream",
     "text": [
      "Показатель AUC-ROC - 0.8306108190831059\n"
     ]
    }
   ],
   "source": [
    "best_model_tree_2 = None\n",
    "best_result_tree = 0\n",
    "best_depth_tree = 0\n",
    "best_criterion = None\n",
    "predictions_tree_2 = None\n",
    "\n",
    "criterions = {'gini', 'entropy'}\n",
    "\n",
    "for crit in criterions:\n",
    "    for depth in range(1, 11):\n",
    "        model_tree = DecisionTreeClassifier(random_state=12345, max_depth=depth, criterion=crit) \n",
    "        model_tree.fit(features_train_upsampled, target_train_upsampled) \n",
    "        predictions = model_tree.predict(features_valid) \n",
    "        result = f1_score(target_valid, predictions) \n",
    "        if result > best_result_tree:\n",
    "            best_model_tree_2 = model_tree\n",
    "            best_result_tree = result\n",
    "            best_depth_tree = depth\n",
    "            best_criterion = crit\n",
    "            predictions_tree_2 = predictions\n",
    "        \n",
    "print(f'F1-мера наилучшей модели на валидационной выборке: {best_result_tree}, при max_depth = {best_depth_tree}, \\\n",
    "при criterion = {best_criterion}') \n",
    "print()\n",
    "print(rec_prec_f1(target_valid, predictions_tree_2))\n",
    "auc_roc_func(target_valid, features_valid, best_model_tree_2)"
   ]
  },
  {
   "cell_type": "markdown",
   "metadata": {},
   "source": [
    "##### Модель \"Случайный лес\""
   ]
  },
  {
   "cell_type": "code",
   "execution_count": 23,
   "metadata": {},
   "outputs": [
    {
     "name": "stdout",
     "output_type": "stream",
     "text": [
      "F1-мера наилучшей модели на валидационной выборке: 0.6306504961411247, при max_depth = 5, при n_estimators = 42, при criterion = gini\n",
      "\n",
      "Полнота 0.6842105263157895\n",
      "Точность 0.5848670756646217\n",
      "F1-мера 0.6306504961411247\n"
     ]
    },
    {
     "data": {
      "image/png": "[encoded data removed]",
      "text/plain": [
       "<Figure size 432x288 with 1 Axes>"
      ]
     },
     "metadata": {
      "needs_background": "light"
     },
     "output_type": "display_data"
    },
    {
     "name": "stdout",
     "output_type": "stream",
     "text": [
      "Показатель AUC-ROC - 0.850312123833316\n"
     ]
    }
   ],
   "source": [
    "best_model_forest_2 = None\n",
    "best_result_forest = 0\n",
    "best_depth_forest = 0\n",
    "best_n_estimators_forest = 0\n",
    "best_criterion = None\n",
    "predictions_forest_2 = None\n",
    "\n",
    "criterions = {'gini', 'entropy'}\n",
    "\n",
    "for crit in criterions:\n",
    "    for depth in range(1, 11):\n",
    "        for est in range(1, 51):\n",
    "            model_forest = RandomForestClassifier(random_state=12345, max_depth = depth, n_estimators=est, criterion=crit) \n",
    "            model_forest.fit(features_train_upsampled, target_train_upsampled) \n",
    "            predictions = model_forest.predict(features_valid)\n",
    "            result = f1_score(target_valid, predictions)\n",
    "            if result > best_result_forest:\n",
    "                best_model_forest_2 = model_forest\n",
    "                best_result_forest = result\n",
    "                best_depth_forest = depth\n",
    "                best_n_estimators_forest = est\n",
    "                best_criterion = crit\n",
    "                predictions_forest_2 = predictions\n",
    "\n",
    "print(f'F1-мера наилучшей модели на валидационной выборке: {best_result_forest}, при max_depth = {best_depth_tree}, \\\n",
    "при n_estimators = {best_n_estimators_forest}, при criterion = {best_criterion}') \n",
    "print()\n",
    "rec_prec_f1(target_valid, predictions_forest_2)\n",
    "auc_roc_func(target_valid, features_valid, best_model_forest_2)"
   ]
  },
  {
   "cell_type": "markdown",
   "metadata": {},
   "source": [
    "##### Модель \"Логистическая регрессия\""
   ]
  },
  {
   "cell_type": "code",
   "execution_count": 24,
   "metadata": {},
   "outputs": [
    {
     "name": "stdout",
     "output_type": "stream",
     "text": [
      "F1-мера модели на валидационной выборке: 0.6244541484716157, при solver = liblinear, при c = 1\n",
      "\n",
      "Полнота 0.6842105263157895\n",
      "Точность 0.5742971887550201\n",
      "F1-мера 0.6244541484716157\n"
     ]
    },
    {
     "data": {
      "image/png": "[encoded data removed]",
      "text/plain": [
       "<Figure size 432x288 with 1 Axes>"
      ]
     },
     "metadata": {
      "needs_background": "light"
     },
     "output_type": "display_data"
    },
    {
     "name": "stdout",
     "output_type": "stream",
     "text": [
      "Показатель AUC-ROC - 0.7634769748183815\n"
     ]
    }
   ],
   "source": [
    "best_model_lr_2 = None\n",
    "best_result_lr = 0\n",
    "best_solver = None\n",
    "best_c = 0\n",
    "predictions_lr_2 = None\n",
    "\n",
    "solvers = {'liblinear', 'lbfgs'}\n",
    "\n",
    "for c in range(1, 11):\n",
    "    for sol in solvers:\n",
    "        model_lr = LogisticRegression(random_state=12345, solver=sol, C=c)\n",
    "        model_lr.fit(features_train_upsampled, target_train_upsampled)\n",
    "        predictions = model_forest.predict(features_valid)\n",
    "        result = f1_score(target_valid, predictions)\n",
    "        if result > best_result_lr:\n",
    "                    best_model_lr_2 = model_lr\n",
    "                    best_result_lr = result \n",
    "                    best_solver = sol\n",
    "                    best_c = c\n",
    "                    predictions_lr_2 = predictions\n",
    "                \n",
    "\n",
    "print(f'F1-мера модели на валидационной выборке: {best_result_lr}, при solver = {best_solver}, при c = {best_c}')\n",
    "print()\n",
    "rec_prec_f1(target_valid, predictions_lr_2)\n",
    "auc_roc_func(target_valid, features_valid, best_model_lr_2)"
   ]
  },
  {
   "cell_type": "markdown",
   "metadata": {},
   "source": [
    "**Промежуточный вывод** <br>\n",
    "В данном случае, мы избавились от дисбаланса методом upsampling. При этом наш целевой показатель F1-мера на разных моделях изменился: <br>\n",
    "<br>\n",
    "Решающее дерево - с 0.569 до 0.598 <br>\n",
    "Случайный лес - с 0.583 до 0.628 <br>\n",
    "Логистическая регрессия - с 0.572 до 0.608 <br>\n",
    "<br>\n",
    "При этом способе борьбы с дисбалансом лучшая модель - Случайный лес, с показателями: <br>\n",
    "F1-мера - 0.628 <br>\n",
    "AUC-ROC - 0.85"
   ]
  },
  {
   "cell_type": "markdown",
   "metadata": {},
   "source": [
    "### Избавимся от дисбаланса методом downsampling"
   ]
  },
  {
   "cell_type": "markdown",
   "metadata": {},
   "source": [
    "Как мы выяснили, в выборке 80% отрицательных ответов и только 20% положительных. Для того, чтобы избавиться от дисбаланса воспользуемся методом downsampling - уменьшим количество отрицательных ответов в 4 раза"
   ]
  },
  {
   "cell_type": "code",
   "execution_count": 25,
   "metadata": {},
   "outputs": [],
   "source": [
    "# Создадим функцию для downsampling\n",
    "def downsample(features, target, fraction):\n",
    "    features_zeros = features[target == 0]\n",
    "    features_ones = features[target == 1]\n",
    "    target_zeros = target[target == 0]\n",
    "    target_ones = target[target == 1]\n",
    "\n",
    "    features_downsampled = pd.concat(\n",
    "        [features_zeros.sample(frac=fraction, random_state=12345)] + [features_ones])\n",
    "    target_downsampled = pd.concat(\n",
    "        [target_zeros.sample(frac=fraction, random_state=12345)] + [target_ones])\n",
    "    \n",
    "    features_downsampled, target_downsampled = shuffle(\n",
    "        features_downsampled, target_downsampled, random_state=12345)\n",
    "    \n",
    "    return features_downsampled, target_downsampled"
   ]
  },
  {
   "cell_type": "code",
   "execution_count": 26,
   "metadata": {},
   "outputs": [
    {
     "name": "stdout",
     "output_type": "stream",
     "text": [
      "0    0.501043\n",
      "1    0.498957\n",
      "Name: Exited, dtype: float64\n"
     ]
    },
    {
     "data": {
      "image/png": "[encoded data removed]",
      "text/plain": [
       "<Figure size 432x288 with 1 Axes>"
      ]
     },
     "metadata": {
      "needs_background": "light"
     },
     "output_type": "display_data"
    }
   ],
   "source": [
    "features_train_downsampled, target_train_downsampled = downsample(features_train, target_train, 0.25)\n",
    "\n",
    "print(target_train_upsampled.value_counts(normalize = 1))\n",
    "target_train_upsampled.plot(kind ='hist', bins=3)\n",
    "plt.show()"
   ]
  },
  {
   "cell_type": "markdown",
   "metadata": {},
   "source": [
    "Данные сбалансированны, значит можно переходить к созданию моделей машинного обучения."
   ]
  },
  {
   "cell_type": "markdown",
   "metadata": {},
   "source": [
    "#### Найдём лучшую модель машинного обучения"
   ]
  },
  {
   "cell_type": "markdown",
   "metadata": {},
   "source": [
    "##### Модель \"Решающее дерево\""
   ]
  },
  {
   "cell_type": "code",
   "execution_count": 27,
   "metadata": {},
   "outputs": [
    {
     "name": "stdout",
     "output_type": "stream",
     "text": [
      "F1-мера наилучшей модели на валидационной выборке: 0.5973397823458283, при max_depth = 3, при criterion = entropy\n",
      "\n",
      "Полнота 0.5909090909090909\n",
      "Точность 0.6039119804400978\n",
      "F1-мера 0.5973397823458283\n",
      "None\n"
     ]
    },
    {
     "data": {
      "image/png": "[encoded data removed]",
      "text/plain": [
       "<Figure size 432x288 with 1 Axes>"
      ]
     },
     "metadata": {
      "needs_background": "light"
     },
     "output_type": "display_data"
    },
    {
     "name": "stdout",
     "output_type": "stream",
     "text": [
      "Показатель AUC-ROC - 0.8044402034853828\n"
     ]
    }
   ],
   "source": [
    "best_model_tree_3 = None\n",
    "best_result_tree = 0\n",
    "best_depth_tree = 0\n",
    "best_criterion = None\n",
    "predictions_tree_3 = None\n",
    "\n",
    "criterions = {'gini', 'entropy'}\n",
    "\n",
    "for crit in criterions:\n",
    "    for depth in range(1, 11):\n",
    "        model_tree = DecisionTreeClassifier(random_state=12345, max_depth=depth, criterion=crit) \n",
    "        model_tree.fit(features_train_downsampled, target_train_downsampled) \n",
    "        predictions = model_tree.predict(features_valid) \n",
    "        result = f1_score(target_valid, predictions) \n",
    "        if result > best_result_tree:\n",
    "            best_model_tree_3 = model_tree\n",
    "            best_result_tree = result\n",
    "            best_depth_tree = depth\n",
    "            best_criterion = crit\n",
    "            predictions_tree_3 = predictions\n",
    "        \n",
    "print(f'F1-мера наилучшей модели на валидационной выборке: {best_result_tree}, при max_depth = {best_depth_tree}, \\\n",
    "при criterion = {best_criterion}') \n",
    "print()\n",
    "print(rec_prec_f1(target_valid, predictions_tree_3))\n",
    "auc_roc_func(target_valid, features_valid, best_model_tree_3)"
   ]
  },
  {
   "cell_type": "markdown",
   "metadata": {},
   "source": [
    "##### Модель \"Случайный лес\""
   ]
  },
  {
   "cell_type": "code",
   "execution_count": 28,
   "metadata": {
    "scrolled": false
   },
   "outputs": [
    {
     "name": "stdout",
     "output_type": "stream",
     "text": [
      "F1-мера наилучшей модели на валидационной выборке: 0.6170212765957447, при max_depth = 3, при n_estimators = 19, при criterion = gini\n",
      "\n",
      "Полнота 0.7631578947368421\n",
      "Точность 0.5178571428571429\n",
      "F1-мера 0.6170212765957447\n"
     ]
    },
    {
     "data": {
      "image/png": "[encoded data removed]",
      "text/plain": [
       "<Figure size 432x288 with 1 Axes>"
      ]
     },
     "metadata": {
      "needs_background": "light"
     },
     "output_type": "display_data"
    },
    {
     "name": "stdout",
     "output_type": "stream",
     "text": [
      "Показатель AUC-ROC - 0.8531127698570643\n"
     ]
    }
   ],
   "source": [
    "best_model_forest_3 = None\n",
    "best_result_forest = 0\n",
    "best_depth_forest = 0\n",
    "best_n_estimators_forest = 0\n",
    "best_criterion = None\n",
    "predictions_forest_3 = None\n",
    "\n",
    "criterions = {'gini', 'entropy'}\n",
    "\n",
    "for crit in criterions:\n",
    "    for depth in range(1, 11):\n",
    "        for est in range(1, 51):\n",
    "            model_forest = RandomForestClassifier(random_state=12345, max_depth = depth, n_estimators=est, criterion=crit) \n",
    "            model_forest.fit(features_train_downsampled, target_train_downsampled) \n",
    "            predictions = model_forest.predict(features_valid)\n",
    "            result = f1_score(target_valid, predictions)\n",
    "            if result > best_result_forest:\n",
    "                best_model_forest_3 = model_forest\n",
    "                best_result_forest = result\n",
    "                best_depth_forest = depth\n",
    "                best_n_estimators_forest = est\n",
    "                best_criterion = crit\n",
    "                predictions_forest_3 = predictions\n",
    "\n",
    "print(f'F1-мера наилучшей модели на валидационной выборке: {best_result_forest}, при max_depth = {best_depth_tree}, \\\n",
    "при n_estimators = {best_n_estimators_forest}, при criterion = {best_criterion}') \n",
    "print()\n",
    "rec_prec_f1(target_valid, predictions_forest_3)\n",
    "auc_roc_func(target_valid, features_valid, best_model_forest_3)"
   ]
  },
  {
   "cell_type": "markdown",
   "metadata": {},
   "source": [
    "##### Модель \"Логистическая регрессия\""
   ]
  },
  {
   "cell_type": "code",
   "execution_count": 29,
   "metadata": {},
   "outputs": [
    {
     "name": "stdout",
     "output_type": "stream",
     "text": [
      "F1-мера модели на валидационной выборке: 0.586894586894587, при solver = liblinear, при c = 1\n",
      "\n",
      "Полнота 0.7392344497607656\n",
      "Точность 0.48661417322834644\n",
      "F1-мера 0.586894586894587\n"
     ]
    },
    {
     "data": {
      "image/png": "[encoded data removed]",
      "text/plain": [
       "<Figure size 432x288 with 1 Axes>"
      ]
     },
     "metadata": {
      "needs_background": "light"
     },
     "output_type": "display_data"
    },
    {
     "name": "stdout",
     "output_type": "stream",
     "text": [
      "Показатель AUC-ROC - 0.762673981816972\n"
     ]
    }
   ],
   "source": [
    "best_model_lr_3 = None\n",
    "best_result_lr = 0\n",
    "best_solver = None\n",
    "best_c = 0\n",
    "predictions_lr_3 = None\n",
    "\n",
    "solvers = {'liblinear', 'lbfgs'}\n",
    "\n",
    "for c in range(1, 11):\n",
    "    for sol in solvers:\n",
    "        model_lr = LogisticRegression(random_state=12345, solver=sol, C=c)\n",
    "        model_lr.fit(features_train_downsampled, target_train_downsampled)\n",
    "        predictions = model_forest.predict(features_valid)\n",
    "        result = f1_score(target_valid, predictions)\n",
    "        if result > best_result_lr:\n",
    "                    best_model_lr_3 = model_lr\n",
    "                    best_result_lr = result \n",
    "                    best_solver = sol\n",
    "                    best_c = c\n",
    "                    predictions_lr_3 = predictions\n",
    "                \n",
    "\n",
    "print(f'F1-мера модели на валидационной выборке: {best_result_lr}, при solver = {best_solver}, при c = {best_c}')\n",
    "print()\n",
    "rec_prec_f1(target_valid, predictions_lr_3)\n",
    "auc_roc_func(target_valid, features_valid, best_model_lr_3)"
   ]
  },
  {
   "cell_type": "markdown",
   "metadata": {},
   "source": [
    "**Промежуточный вывод** <br>\n",
    "В данном случае, мы избавились от дисбаланса методом downsampling. При этом наш целевой показатель F1-мера на разных моделях изменился: <br>\n",
    "<br>\n",
    "Решающее дерево - с 0.569 до 0.0.597 <br>\n",
    "Случайный лес - с 0.583 до 0.611 <br>\n",
    "Логистическая регрессия - с 0.572 до 0.587 <br>\n",
    "<br>\n",
    "При этом способе борьбы с дисбалансом лучшая модель - Случайный лес, с показателями: <br>\n",
    "F1-мера - 0.611 <br>\n",
    "AUC-ROC - 0.846"
   ]
  },
  {
   "cell_type": "markdown",
   "metadata": {},
   "source": [
    "### Вывод"
   ]
  },
  {
   "cell_type": "markdown",
   "metadata": {},
   "source": [
    "Мы попробывали два способа борьбы с дисбалансом - upsampling и down sampling. В обоих случаях лучшая модель - Случайный лес. При этом показатели этой модели в двух случаях разные, а именно: <br>\n",
    "<br>\n",
    "**Upsampling** <br>\n",
    "F1-мера - 0.628 <br>\n",
    "AUC-ROC - 0.85 <br>\n",
    "<br>\n",
    "**Downsampling** <br>\n",
    "F1-мера - 0.611 <br>\n",
    "AUC-ROC - 0.846 <br>\n",
    "<br>\n",
    "Как мы видим, более хорошии результаты получились при использовании метода Upsampling. Скорее всего, это связяно с тем, что данных изначально довольно немного и, пользуясь методом Downsampling, мы уменьшаем их количество ещё сильнее, из-за чего модели нехватает данных для более хорошего обучения. "
   ]
  },
  {
   "cell_type": "markdown",
   "metadata": {},
   "source": [
    "## Тестирование модели"
   ]
  },
  {
   "cell_type": "code",
   "execution_count": 30,
   "metadata": {},
   "outputs": [
    {
     "name": "stdout",
     "output_type": "stream",
     "text": [
      "Показатель F1-мера лучшей модели на тестовой выборке - 0.6017316017316018\n"
     ]
    },
    {
     "data": {
      "image/png": "[encoded data removed]",
      "text/plain": [
       "<Figure size 432x288 with 1 Axes>"
      ]
     },
     "metadata": {
      "needs_background": "light"
     },
     "output_type": "display_data"
    },
    {
     "name": "stdout",
     "output_type": "stream",
     "text": [
      "Показатель AUC-ROC - 0.8578097383936643\n"
     ]
    }
   ],
   "source": [
    "final_result = best_model_forest_2.predict(features_test)\n",
    "f1 = f1_score(target_test, final_result)\n",
    "\n",
    "print(f'Показатель F1-мера лучшей модели на тестовой выборке - {f1}')\n",
    "\n",
    "auc_roc_func(target_test, features_test, best_model_forest_2)"
   ]
  },
  {
   "cell_type": "markdown",
   "metadata": {},
   "source": [
    "### Проверка модели на адекватность"
   ]
  },
  {
   "cell_type": "code",
   "execution_count": 31,
   "metadata": {},
   "outputs": [
    {
     "name": "stdout",
     "output_type": "stream",
     "text": [
      "При strategy = most_frequent, score = 0.0\n",
      "При strategy = stratified, score = 0.28288543140028294\n",
      "При strategy = uniform, score = 0.2914923291492329\n",
      "При strategy = constant, score = 0.3491539413949649\n"
     ]
    }
   ],
   "source": [
    "strategies = ['most_frequent', 'stratified', 'uniform', 'constant']\n",
    "  \n",
    "test_scores = []\n",
    "\n",
    "for s in strategies:\n",
    "    if s =='constant':\n",
    "        dclf = DummyClassifier(strategy = s, random_state = 12345, constant=1)\n",
    "    else:\n",
    "        dclf = DummyClassifier(strategy = s, random_state = 12345)\n",
    "    dclf.fit(features_train_upsampled, target_train_upsampled)\n",
    "    result = dclf.predict(features_test)\n",
    "    f1 = f1_score(target_test, result)\n",
    "    \n",
    "    test_scores.append(f1)\n",
    "\n",
    "print(f'При strategy = {strategies[0]}, score = {test_scores[0]}')\n",
    "print(f'При strategy = {strategies[1]}, score = {test_scores[1]}')\n",
    "print(f'При strategy = {strategies[2]}, score = {test_scores[2]}')\n",
    "print(f'При strategy = {strategies[3]}, score = {test_scores[3]}')"
   ]
  },
  {
   "cell_type": "markdown",
   "metadata": {},
   "source": [
    "**Вывод** <br>\n",
    "Результат лучшей модели на тестовых данных: <br>\n",
    "<br>\n",
    "F1-мера - 0.602 <br>\n",
    "AUC-ROC - 0.848 <br>\n",
    "<br>\n",
    "F1-мера больше 0.59, значит модель обучена хорошо и основная задача выполнена <br>\n",
    "<br>\n",
    "Так же мы проверили модель на адекватность используя метод Dummy Models. Как мы видим, лучший результат у Dummy Models - 0.349, что гораздо ниже нашего результата, а значит наша модель прошла проверку на адекватность."
   ]
  },
  {
   "cell_type": "markdown",
   "metadata": {},
   "source": [
    "## Вывод"
   ]
  },
  {
   "cell_type": "markdown",
   "metadata": {},
   "source": [
    "**В ходе исследования было сделано:** <br>\n",
    "\n",
    "1. Ознакомились с данными, посмотрели на общую информацию, поменяли типы данных в некоторых столбцах и заполнили пропуски\n",
    "2. Убрали из датасета ненужные столбцы\n",
    "3. Разделили данные на выборки\n",
    "4. Преобразовали данные методом OHE\n",
    "5. Масштабировали численные признаки\n",
    "6. Исследовали баланс классов\n",
    "7. Обучили модели без учёта дисбаланса классов\n",
    "8. Избавились от дисбаланса методом upsampling\n",
    "9. Обучили модели на основе сбалансированных методом upsampling данных \n",
    "10. Избавились от дисбаланса методом downsampling\n",
    "11. Обучили модели на основе сбалансированных методом downsampling данных\n",
    "12. Протестировали модель\n",
    "13. Проверили её на адекватность \n",
    "\n",
    "**Общий вывод** <br>\n",
    "Лучший способ борьбы с дисбалансом - upsampling <br>\n",
    "Лучшая модель - Случайный лес <br>\n",
    "Результаты лучшей модели на тестовой выборке: <br>\n",
    "<br>\n",
    "F1-мера - 0.602 <br>\n",
    "AUC-ROC - 0.848 <br>\n",
    "<br>\n",
    "Показатель F1-мера составил 0.602, что больше чем 0.59, значит основаня задача выполнена"
   ]
  }
 ],
 "metadata": {
  "ExecuteTimeLog": [
   {
    "duration": 487,
    "start_time": "2022-12-04T05:39:03.518Z"
   },
   {
    "duration": 169,
    "start_time": "2022-12-04T05:44:00.218Z"
   },
   {
    "duration": 22,
    "start_time": "2022-12-04T05:44:50.184Z"
   },
   {
    "duration": 17,
    "start_time": "2022-12-04T05:44:56.151Z"
   },
   {
    "duration": 55,
    "start_time": "2022-12-04T05:45:03.271Z"
   },
   {
    "duration": 24,
    "start_time": "2022-12-04T05:45:48.164Z"
   },
   {
    "duration": 5,
    "start_time": "2022-12-04T05:48:02.207Z"
   },
   {
    "duration": 6,
    "start_time": "2022-12-04T05:50:10.680Z"
   },
   {
    "duration": 14,
    "start_time": "2022-12-04T05:50:14.792Z"
   },
   {
    "duration": 4,
    "start_time": "2022-12-04T05:50:20.373Z"
   },
   {
    "duration": 14,
    "start_time": "2022-12-04T05:50:22.327Z"
   },
   {
    "duration": 4,
    "start_time": "2022-12-04T05:50:28.680Z"
   },
   {
    "duration": 4,
    "start_time": "2022-12-04T05:50:34.357Z"
   },
   {
    "duration": 18,
    "start_time": "2022-12-04T05:50:37.006Z"
   },
   {
    "duration": 1601,
    "start_time": "2022-12-04T05:50:41.972Z"
   },
   {
    "duration": 44,
    "start_time": "2022-12-04T05:50:43.575Z"
   },
   {
    "duration": 25,
    "start_time": "2022-12-04T05:50:43.621Z"
   },
   {
    "duration": 14,
    "start_time": "2022-12-04T05:50:43.648Z"
   },
   {
    "duration": 42,
    "start_time": "2022-12-04T05:50:43.664Z"
   },
   {
    "duration": 4,
    "start_time": "2022-12-04T05:50:43.708Z"
   },
   {
    "duration": 7,
    "start_time": "2022-12-04T05:50:43.713Z"
   },
   {
    "duration": 38,
    "start_time": "2022-12-04T05:50:43.722Z"
   },
   {
    "duration": 13,
    "start_time": "2022-12-04T05:51:03.644Z"
   },
   {
    "duration": 16,
    "start_time": "2022-12-04T06:02:44.515Z"
   },
   {
    "duration": 13,
    "start_time": "2022-12-04T06:02:50.575Z"
   },
   {
    "duration": 119,
    "start_time": "2022-12-04T06:02:58.553Z"
   },
   {
    "duration": 14,
    "start_time": "2022-12-04T06:03:03.184Z"
   },
   {
    "duration": 1473,
    "start_time": "2022-12-04T06:03:11.211Z"
   },
   {
    "duration": 78,
    "start_time": "2022-12-04T06:03:12.686Z"
   },
   {
    "duration": 23,
    "start_time": "2022-12-04T06:03:12.766Z"
   },
   {
    "duration": 73,
    "start_time": "2022-12-04T06:03:12.791Z"
   },
   {
    "duration": 94,
    "start_time": "2022-12-04T06:03:12.867Z"
   },
   {
    "duration": 4,
    "start_time": "2022-12-04T06:03:12.963Z"
   },
   {
    "duration": 18,
    "start_time": "2022-12-04T06:03:12.969Z"
   },
   {
    "duration": 72,
    "start_time": "2022-12-04T06:03:12.989Z"
   },
   {
    "duration": 3047,
    "start_time": "2022-12-04T06:04:50.377Z"
   },
   {
    "duration": 45,
    "start_time": "2022-12-04T06:04:53.428Z"
   },
   {
    "duration": 25,
    "start_time": "2022-12-04T06:04:53.474Z"
   },
   {
    "duration": 16,
    "start_time": "2022-12-04T06:04:53.501Z"
   },
   {
    "duration": 68,
    "start_time": "2022-12-04T06:04:53.519Z"
   },
   {
    "duration": 5,
    "start_time": "2022-12-04T06:04:53.589Z"
   },
   {
    "duration": 37,
    "start_time": "2022-12-04T06:04:53.596Z"
   },
   {
    "duration": 27,
    "start_time": "2022-12-04T06:04:53.635Z"
   },
   {
    "duration": 23,
    "start_time": "2022-12-04T06:04:53.664Z"
   },
   {
    "duration": 12,
    "start_time": "2022-12-04T06:12:04.320Z"
   },
   {
    "duration": 20,
    "start_time": "2022-12-04T06:13:34.840Z"
   },
   {
    "duration": 27,
    "start_time": "2022-12-04T06:14:48.480Z"
   },
   {
    "duration": 1531,
    "start_time": "2022-12-04T06:15:42.032Z"
   },
   {
    "duration": 46,
    "start_time": "2022-12-04T06:15:43.566Z"
   },
   {
    "duration": 24,
    "start_time": "2022-12-04T06:15:43.614Z"
   },
   {
    "duration": 43,
    "start_time": "2022-12-04T06:15:43.640Z"
   },
   {
    "duration": 73,
    "start_time": "2022-12-04T06:15:43.684Z"
   },
   {
    "duration": 5,
    "start_time": "2022-12-04T06:15:43.759Z"
   },
   {
    "duration": 56,
    "start_time": "2022-12-04T06:15:43.765Z"
   },
   {
    "duration": 62,
    "start_time": "2022-12-04T06:15:43.823Z"
   },
   {
    "duration": 77,
    "start_time": "2022-12-04T06:15:43.888Z"
   },
   {
    "duration": 12,
    "start_time": "2022-12-04T06:15:43.969Z"
   },
   {
    "duration": 73,
    "start_time": "2022-12-04T06:15:43.983Z"
   },
   {
    "duration": 93,
    "start_time": "2022-12-04T06:15:44.059Z"
   },
   {
    "duration": 106,
    "start_time": "2022-12-04T06:15:44.155Z"
   },
   {
    "duration": 88,
    "start_time": "2022-12-04T06:25:36.630Z"
   },
   {
    "duration": 7,
    "start_time": "2022-12-04T06:25:43.541Z"
   },
   {
    "duration": 454,
    "start_time": "2022-12-04T06:25:45.654Z"
   },
   {
    "duration": 5,
    "start_time": "2022-12-04T06:25:55.502Z"
   },
   {
    "duration": 330,
    "start_time": "2022-12-04T06:25:57.352Z"
   },
   {
    "duration": 4,
    "start_time": "2022-12-04T06:26:04.728Z"
   },
   {
    "duration": 286,
    "start_time": "2022-12-04T06:26:05.989Z"
   },
   {
    "duration": 5,
    "start_time": "2022-12-04T06:27:32.179Z"
   },
   {
    "duration": 360,
    "start_time": "2022-12-04T06:27:35.890Z"
   },
   {
    "duration": 179,
    "start_time": "2022-12-04T06:30:20.171Z"
   },
   {
    "duration": 121,
    "start_time": "2022-12-04T06:30:25.716Z"
   },
   {
    "duration": 50,
    "start_time": "2022-12-05T07:38:09.207Z"
   },
   {
    "duration": 1612,
    "start_time": "2022-12-05T07:38:17.778Z"
   },
   {
    "duration": 95,
    "start_time": "2022-12-05T07:38:19.392Z"
   },
   {
    "duration": 24,
    "start_time": "2022-12-05T07:38:19.489Z"
   },
   {
    "duration": 13,
    "start_time": "2022-12-05T07:38:19.515Z"
   },
   {
    "duration": 42,
    "start_time": "2022-12-05T07:38:19.531Z"
   },
   {
    "duration": 4,
    "start_time": "2022-12-05T07:38:19.575Z"
   },
   {
    "duration": 38,
    "start_time": "2022-12-05T07:38:19.581Z"
   },
   {
    "duration": 14,
    "start_time": "2022-12-05T07:38:19.621Z"
   },
   {
    "duration": 19,
    "start_time": "2022-12-05T07:38:19.637Z"
   },
   {
    "duration": 9,
    "start_time": "2022-12-05T07:38:19.658Z"
   },
   {
    "duration": 43,
    "start_time": "2022-12-05T07:38:19.669Z"
   },
   {
    "duration": 12,
    "start_time": "2022-12-05T07:38:19.714Z"
   },
   {
    "duration": 28,
    "start_time": "2022-12-05T07:38:19.727Z"
   },
   {
    "duration": 9,
    "start_time": "2022-12-05T07:38:19.757Z"
   },
   {
    "duration": 268,
    "start_time": "2022-12-05T07:38:19.768Z"
   },
   {
    "duration": 337,
    "start_time": "2022-12-05T07:38:20.038Z"
   },
   {
    "duration": 13,
    "start_time": "2022-12-05T07:38:20.377Z"
   },
   {
    "duration": 122,
    "start_time": "2022-12-05T07:39:29.978Z"
   },
   {
    "duration": 128,
    "start_time": "2022-12-05T07:40:05.513Z"
   },
   {
    "duration": 14,
    "start_time": "2022-12-05T07:40:28.883Z"
   },
   {
    "duration": 4,
    "start_time": "2022-12-05T07:40:35.043Z"
   },
   {
    "duration": 14,
    "start_time": "2022-12-05T07:40:37.116Z"
   },
   {
    "duration": 136,
    "start_time": "2022-12-05T07:40:55.109Z"
   },
   {
    "duration": 123,
    "start_time": "2022-12-05T07:41:00.261Z"
   },
   {
    "duration": 448,
    "start_time": "2022-12-05T07:47:58.180Z"
   },
   {
    "duration": 1417,
    "start_time": "2022-12-05T07:51:02.856Z"
   },
   {
    "duration": 43,
    "start_time": "2022-12-05T07:51:04.275Z"
   },
   {
    "duration": 31,
    "start_time": "2022-12-05T07:51:04.320Z"
   },
   {
    "duration": 16,
    "start_time": "2022-12-05T07:51:04.353Z"
   },
   {
    "duration": 75,
    "start_time": "2022-12-05T07:51:04.370Z"
   },
   {
    "duration": 17,
    "start_time": "2022-12-05T07:51:04.447Z"
   },
   {
    "duration": 51,
    "start_time": "2022-12-05T07:51:04.466Z"
   },
   {
    "duration": 49,
    "start_time": "2022-12-05T07:51:04.519Z"
   },
   {
    "duration": 50,
    "start_time": "2022-12-05T07:51:04.570Z"
   },
   {
    "duration": 32,
    "start_time": "2022-12-05T07:51:04.624Z"
   },
   {
    "duration": 32,
    "start_time": "2022-12-05T07:51:04.657Z"
   },
   {
    "duration": 56,
    "start_time": "2022-12-05T07:51:04.691Z"
   },
   {
    "duration": 53,
    "start_time": "2022-12-05T07:51:04.749Z"
   },
   {
    "duration": 25,
    "start_time": "2022-12-05T07:51:04.804Z"
   },
   {
    "duration": 299,
    "start_time": "2022-12-05T07:51:04.831Z"
   },
   {
    "duration": 319,
    "start_time": "2022-12-05T07:51:05.133Z"
   },
   {
    "duration": 5,
    "start_time": "2022-12-05T07:51:05.454Z"
   },
   {
    "duration": 183,
    "start_time": "2022-12-05T07:51:05.461Z"
   },
   {
    "duration": 461,
    "start_time": "2022-12-05T07:51:05.645Z"
   },
   {
    "duration": 160191,
    "start_time": "2022-12-05T07:51:06.108Z"
   },
   {
    "duration": 3323,
    "start_time": "2022-12-05T07:53:46.301Z"
   },
   {
    "duration": 5603,
    "start_time": "2022-12-05T07:55:27.628Z"
   },
   {
    "duration": 5182,
    "start_time": "2022-12-05T07:56:26.339Z"
   },
   {
    "duration": 537,
    "start_time": "2022-12-05T07:56:31.523Z"
   },
   {
    "duration": 127198,
    "start_time": "2022-12-05T07:56:37.176Z"
   },
   {
    "duration": 4,
    "start_time": "2022-12-05T07:59:39.522Z"
   },
   {
    "duration": 462,
    "start_time": "2022-12-05T08:08:35.536Z"
   },
   {
    "duration": 362,
    "start_time": "2022-12-05T08:09:19.616Z"
   },
   {
    "duration": 352,
    "start_time": "2022-12-05T08:09:26.666Z"
   },
   {
    "duration": 356,
    "start_time": "2022-12-05T08:09:36.672Z"
   },
   {
    "duration": 3568,
    "start_time": "2022-12-05T08:10:07.244Z"
   },
   {
    "duration": 22,
    "start_time": "2022-12-05T08:11:16.041Z"
   },
   {
    "duration": 4711,
    "start_time": "2022-12-05T08:11:22.010Z"
   },
   {
    "duration": 120673,
    "start_time": "2022-12-05T08:13:35.331Z"
   },
   {
    "duration": 12,
    "start_time": "2022-12-05T08:18:43.927Z"
   },
   {
    "duration": 143,
    "start_time": "2022-12-05T08:18:59.733Z"
   },
   {
    "duration": 144,
    "start_time": "2022-12-05T08:19:38.105Z"
   },
   {
    "duration": 321,
    "start_time": "2022-12-05T08:19:51.814Z"
   },
   {
    "duration": 11,
    "start_time": "2022-12-05T08:21:47.206Z"
   },
   {
    "duration": 433,
    "start_time": "2022-12-05T08:21:50.776Z"
   },
   {
    "duration": 12,
    "start_time": "2022-12-05T08:21:52.863Z"
   },
   {
    "duration": 13,
    "start_time": "2022-12-05T08:26:10.420Z"
   },
   {
    "duration": 1494,
    "start_time": "2022-12-05T08:26:17.282Z"
   },
   {
    "duration": 44,
    "start_time": "2022-12-05T08:26:18.778Z"
   },
   {
    "duration": 22,
    "start_time": "2022-12-05T08:26:18.824Z"
   },
   {
    "duration": 13,
    "start_time": "2022-12-05T08:26:18.848Z"
   },
   {
    "duration": 59,
    "start_time": "2022-12-05T08:26:18.863Z"
   },
   {
    "duration": 4,
    "start_time": "2022-12-05T08:26:18.923Z"
   },
   {
    "duration": 17,
    "start_time": "2022-12-05T08:26:18.928Z"
   },
   {
    "duration": 14,
    "start_time": "2022-12-05T08:26:18.947Z"
   },
   {
    "duration": 20,
    "start_time": "2022-12-05T08:26:18.963Z"
   },
   {
    "duration": 34,
    "start_time": "2022-12-05T08:26:18.985Z"
   },
   {
    "duration": 9,
    "start_time": "2022-12-05T08:26:19.021Z"
   },
   {
    "duration": 14,
    "start_time": "2022-12-05T08:26:19.032Z"
   },
   {
    "duration": 29,
    "start_time": "2022-12-05T08:26:19.047Z"
   },
   {
    "duration": 4,
    "start_time": "2022-12-05T08:26:19.078Z"
   },
   {
    "duration": 409,
    "start_time": "2022-12-05T08:26:19.084Z"
   },
   {
    "duration": 146,
    "start_time": "2022-12-05T08:26:19.495Z"
   },
   {
    "duration": 122396,
    "start_time": "2022-12-05T08:26:19.643Z"
   },
   {
    "duration": 154,
    "start_time": "2022-12-05T08:28:22.041Z"
   },
   {
    "duration": 6124,
    "start_time": "2022-12-05T08:28:22.197Z"
   },
   {
    "duration": 409,
    "start_time": "2022-12-05T08:28:28.323Z"
   },
   {
    "duration": 144,
    "start_time": "2022-12-05T08:28:28.734Z"
   },
   {
    "duration": 5,
    "start_time": "2022-12-05T08:28:28.880Z"
   },
   {
    "duration": 152,
    "start_time": "2022-12-05T08:28:28.887Z"
   },
   {
    "duration": 479,
    "start_time": "2022-12-05T08:28:29.041Z"
   },
   {
    "duration": 147,
    "start_time": "2022-12-05T08:28:29.522Z"
   },
   {
    "duration": 137215,
    "start_time": "2022-12-05T08:28:29.671Z"
   },
   {
    "duration": 193,
    "start_time": "2022-12-05T08:30:46.889Z"
   },
   {
    "duration": 429,
    "start_time": "2022-12-05T08:30:47.085Z"
   },
   {
    "duration": 0,
    "start_time": "2022-12-05T08:30:47.516Z"
   },
   {
    "duration": 6330,
    "start_time": "2022-12-05T08:33:23.190Z"
   },
   {
    "duration": 401,
    "start_time": "2022-12-05T08:33:29.523Z"
   },
   {
    "duration": 61,
    "start_time": "2022-12-05T08:49:10.480Z"
   },
   {
    "duration": 6,
    "start_time": "2022-12-05T08:50:38.960Z"
   },
   {
    "duration": 375,
    "start_time": "2022-12-05T08:50:49.403Z"
   },
   {
    "duration": 397,
    "start_time": "2022-12-05T08:52:24.395Z"
   },
   {
    "duration": 6,
    "start_time": "2022-12-05T08:52:28.040Z"
   },
   {
    "duration": 491,
    "start_time": "2022-12-05T08:52:29.823Z"
   },
   {
    "duration": 1396,
    "start_time": "2022-12-05T08:55:10.475Z"
   },
   {
    "duration": 44,
    "start_time": "2022-12-05T08:55:11.873Z"
   },
   {
    "duration": 35,
    "start_time": "2022-12-05T08:55:11.918Z"
   },
   {
    "duration": 20,
    "start_time": "2022-12-05T08:55:11.957Z"
   },
   {
    "duration": 78,
    "start_time": "2022-12-05T08:55:11.979Z"
   },
   {
    "duration": 4,
    "start_time": "2022-12-05T08:55:12.059Z"
   },
   {
    "duration": 22,
    "start_time": "2022-12-05T08:55:12.065Z"
   },
   {
    "duration": 23,
    "start_time": "2022-12-05T08:55:12.089Z"
   },
   {
    "duration": 21,
    "start_time": "2022-12-05T08:55:12.114Z"
   },
   {
    "duration": 9,
    "start_time": "2022-12-05T08:55:12.137Z"
   },
   {
    "duration": 10,
    "start_time": "2022-12-05T08:55:12.148Z"
   },
   {
    "duration": 23,
    "start_time": "2022-12-05T08:55:12.160Z"
   },
   {
    "duration": 51,
    "start_time": "2022-12-05T08:55:12.185Z"
   },
   {
    "duration": 4,
    "start_time": "2022-12-05T08:55:12.238Z"
   },
   {
    "duration": 41,
    "start_time": "2022-12-05T08:55:12.244Z"
   },
   {
    "duration": 519,
    "start_time": "2022-12-05T08:55:12.287Z"
   },
   {
    "duration": 120768,
    "start_time": "2022-12-05T08:55:12.812Z"
   },
   {
    "duration": 152,
    "start_time": "2022-12-05T08:57:13.582Z"
   },
   {
    "duration": 4012,
    "start_time": "2022-12-05T08:57:13.736Z"
   },
   {
    "duration": 282,
    "start_time": "2022-12-05T08:57:17.750Z"
   },
   {
    "duration": 142,
    "start_time": "2022-12-05T08:57:18.033Z"
   },
   {
    "duration": 5,
    "start_time": "2022-12-05T08:57:18.177Z"
   },
   {
    "duration": 159,
    "start_time": "2022-12-05T08:57:18.184Z"
   },
   {
    "duration": 589,
    "start_time": "2022-12-05T08:57:18.344Z"
   },
   {
    "duration": 149,
    "start_time": "2022-12-05T08:57:18.934Z"
   },
   {
    "duration": 140151,
    "start_time": "2022-12-05T08:57:19.084Z"
   },
   {
    "duration": 179,
    "start_time": "2022-12-05T08:59:39.236Z"
   },
   {
    "duration": 4418,
    "start_time": "2022-12-05T08:59:39.418Z"
   },
   {
    "duration": 281,
    "start_time": "2022-12-05T08:59:43.837Z"
   },
   {
    "duration": 6,
    "start_time": "2022-12-05T09:47:44.961Z"
   },
   {
    "duration": 121,
    "start_time": "2022-12-05T09:53:42.555Z"
   },
   {
    "duration": 21,
    "start_time": "2022-12-05T09:53:56.954Z"
   },
   {
    "duration": 17,
    "start_time": "2022-12-05T09:54:32.175Z"
   },
   {
    "duration": 19,
    "start_time": "2022-12-05T09:54:50.355Z"
   },
   {
    "duration": 257,
    "start_time": "2022-12-05T09:55:02.024Z"
   },
   {
    "duration": 19,
    "start_time": "2022-12-05T09:55:17.528Z"
   },
   {
    "duration": 12,
    "start_time": "2022-12-05T09:55:32.826Z"
   },
   {
    "duration": 27,
    "start_time": "2022-12-05T09:57:28.587Z"
   },
   {
    "duration": 27,
    "start_time": "2022-12-05T09:57:43.356Z"
   },
   {
    "duration": 21,
    "start_time": "2022-12-05T09:58:09.577Z"
   },
   {
    "duration": 1534,
    "start_time": "2022-12-05T13:44:37.935Z"
   },
   {
    "duration": 172,
    "start_time": "2022-12-05T13:44:39.471Z"
   },
   {
    "duration": 23,
    "start_time": "2022-12-05T13:44:39.645Z"
   },
   {
    "duration": 13,
    "start_time": "2022-12-05T13:44:39.670Z"
   },
   {
    "duration": 46,
    "start_time": "2022-12-05T13:44:39.686Z"
   },
   {
    "duration": 4,
    "start_time": "2022-12-05T13:44:39.733Z"
   },
   {
    "duration": 17,
    "start_time": "2022-12-05T13:44:39.739Z"
   },
   {
    "duration": 13,
    "start_time": "2022-12-05T13:44:39.758Z"
   },
   {
    "duration": 45,
    "start_time": "2022-12-05T13:44:39.773Z"
   },
   {
    "duration": 11,
    "start_time": "2022-12-05T13:44:39.821Z"
   },
   {
    "duration": 11,
    "start_time": "2022-12-05T13:44:39.833Z"
   },
   {
    "duration": 15,
    "start_time": "2022-12-05T13:44:39.846Z"
   },
   {
    "duration": 25,
    "start_time": "2022-12-05T13:44:39.863Z"
   },
   {
    "duration": 3,
    "start_time": "2022-12-05T13:44:39.891Z"
   },
   {
    "duration": 20,
    "start_time": "2022-12-05T13:44:39.896Z"
   },
   {
    "duration": 563,
    "start_time": "2022-12-05T13:44:39.924Z"
   },
   {
    "duration": 120192,
    "start_time": "2022-12-05T13:44:40.490Z"
   },
   {
    "duration": 5149,
    "start_time": "2022-12-05T13:46:40.684Z"
   },
   {
    "duration": 156,
    "start_time": "2022-12-05T13:46:45.835Z"
   },
   {
    "duration": 5,
    "start_time": "2022-12-05T13:46:45.993Z"
   },
   {
    "duration": 154,
    "start_time": "2022-12-05T13:46:46.000Z"
   },
   {
    "duration": 614,
    "start_time": "2022-12-05T13:46:46.156Z"
   },
   {
    "duration": 136481,
    "start_time": "2022-12-05T13:46:46.772Z"
   },
   {
    "duration": 6069,
    "start_time": "2022-12-05T13:49:03.255Z"
   },
   {
    "duration": 19,
    "start_time": "2022-12-05T13:49:09.329Z"
   },
   {
    "duration": 51,
    "start_time": "2022-12-06T11:09:42.013Z"
   },
   {
    "duration": 1732,
    "start_time": "2022-12-06T11:09:49.896Z"
   },
   {
    "duration": 153,
    "start_time": "2022-12-06T11:09:54.531Z"
   },
   {
    "duration": 18,
    "start_time": "2022-12-06T11:09:58.993Z"
   },
   {
    "duration": 7,
    "start_time": "2022-12-06T11:10:03.787Z"
   },
   {
    "duration": 7,
    "start_time": "2022-12-06T11:10:04.987Z"
   },
   {
    "duration": 18,
    "start_time": "2022-12-06T11:10:06.826Z"
   },
   {
    "duration": 11,
    "start_time": "2022-12-06T11:11:43.125Z"
   },
   {
    "duration": 96,
    "start_time": "2022-12-06T11:12:20.275Z"
   },
   {
    "duration": 19,
    "start_time": "2022-12-06T11:12:33.688Z"
   },
   {
    "duration": 4,
    "start_time": "2022-12-06T11:14:09.075Z"
   },
   {
    "duration": 13,
    "start_time": "2022-12-06T11:14:10.295Z"
   },
   {
    "duration": 16,
    "start_time": "2022-12-06T11:14:19.880Z"
   },
   {
    "duration": 15,
    "start_time": "2022-12-06T11:17:54.819Z"
   },
   {
    "duration": 12,
    "start_time": "2022-12-06T11:18:51.198Z"
   },
   {
    "duration": 1414,
    "start_time": "2022-12-06T11:20:35.097Z"
   },
   {
    "duration": 40,
    "start_time": "2022-12-06T11:20:36.513Z"
   },
   {
    "duration": 22,
    "start_time": "2022-12-06T11:20:36.555Z"
   },
   {
    "duration": 14,
    "start_time": "2022-12-06T11:20:36.579Z"
   },
   {
    "duration": 61,
    "start_time": "2022-12-06T11:20:36.594Z"
   },
   {
    "duration": 3,
    "start_time": "2022-12-06T11:20:36.657Z"
   },
   {
    "duration": 16,
    "start_time": "2022-12-06T11:20:36.662Z"
   },
   {
    "duration": 15,
    "start_time": "2022-12-06T11:20:36.680Z"
   },
   {
    "duration": 8,
    "start_time": "2022-12-06T11:20:36.696Z"
   },
   {
    "duration": 8,
    "start_time": "2022-12-06T11:20:36.706Z"
   },
   {
    "duration": 49,
    "start_time": "2022-12-06T11:20:36.716Z"
   },
   {
    "duration": 128,
    "start_time": "2022-12-06T11:20:36.767Z"
   },
   {
    "duration": 0,
    "start_time": "2022-12-06T11:20:36.897Z"
   },
   {
    "duration": 0,
    "start_time": "2022-12-06T11:20:36.899Z"
   },
   {
    "duration": 0,
    "start_time": "2022-12-06T11:20:36.900Z"
   },
   {
    "duration": 0,
    "start_time": "2022-12-06T11:20:36.902Z"
   },
   {
    "duration": 0,
    "start_time": "2022-12-06T11:20:36.904Z"
   },
   {
    "duration": 0,
    "start_time": "2022-12-06T11:20:36.905Z"
   },
   {
    "duration": 0,
    "start_time": "2022-12-06T11:20:36.907Z"
   },
   {
    "duration": 1,
    "start_time": "2022-12-06T11:20:36.907Z"
   },
   {
    "duration": 0,
    "start_time": "2022-12-06T11:20:36.909Z"
   },
   {
    "duration": 0,
    "start_time": "2022-12-06T11:20:36.910Z"
   },
   {
    "duration": 0,
    "start_time": "2022-12-06T11:20:36.911Z"
   },
   {
    "duration": 0,
    "start_time": "2022-12-06T11:20:36.912Z"
   },
   {
    "duration": 0,
    "start_time": "2022-12-06T11:20:36.914Z"
   },
   {
    "duration": 0,
    "start_time": "2022-12-06T11:20:36.915Z"
   },
   {
    "duration": 0,
    "start_time": "2022-12-06T11:20:36.916Z"
   },
   {
    "duration": 9,
    "start_time": "2022-12-06T11:21:40.167Z"
   },
   {
    "duration": 19,
    "start_time": "2022-12-06T11:22:00.503Z"
   },
   {
    "duration": 11,
    "start_time": "2022-12-06T11:22:10.400Z"
   },
   {
    "duration": 18,
    "start_time": "2022-12-06T11:22:20.355Z"
   },
   {
    "duration": 6,
    "start_time": "2022-12-06T11:23:00.105Z"
   },
   {
    "duration": 13,
    "start_time": "2022-12-06T11:23:06.597Z"
   },
   {
    "duration": 1426,
    "start_time": "2022-12-06T11:23:25.041Z"
   },
   {
    "duration": 42,
    "start_time": "2022-12-06T11:23:26.469Z"
   },
   {
    "duration": 25,
    "start_time": "2022-12-06T11:23:26.513Z"
   },
   {
    "duration": 15,
    "start_time": "2022-12-06T11:23:26.540Z"
   },
   {
    "duration": 43,
    "start_time": "2022-12-06T11:23:26.559Z"
   },
   {
    "duration": 4,
    "start_time": "2022-12-06T11:23:26.604Z"
   },
   {
    "duration": 22,
    "start_time": "2022-12-06T11:23:26.610Z"
   },
   {
    "duration": 15,
    "start_time": "2022-12-06T11:23:26.650Z"
   },
   {
    "duration": 9,
    "start_time": "2022-12-06T11:23:26.666Z"
   },
   {
    "duration": 8,
    "start_time": "2022-12-06T11:23:26.677Z"
   },
   {
    "duration": 24,
    "start_time": "2022-12-06T11:23:26.687Z"
   },
   {
    "duration": 39,
    "start_time": "2022-12-06T11:23:26.713Z"
   },
   {
    "duration": 122,
    "start_time": "2022-12-06T11:23:26.754Z"
   },
   {
    "duration": 0,
    "start_time": "2022-12-06T11:23:26.878Z"
   },
   {
    "duration": 0,
    "start_time": "2022-12-06T11:23:26.879Z"
   },
   {
    "duration": 0,
    "start_time": "2022-12-06T11:23:26.880Z"
   },
   {
    "duration": 0,
    "start_time": "2022-12-06T11:23:26.881Z"
   },
   {
    "duration": 0,
    "start_time": "2022-12-06T11:23:26.883Z"
   },
   {
    "duration": 0,
    "start_time": "2022-12-06T11:23:26.884Z"
   },
   {
    "duration": 0,
    "start_time": "2022-12-06T11:23:26.885Z"
   },
   {
    "duration": 0,
    "start_time": "2022-12-06T11:23:26.886Z"
   },
   {
    "duration": 0,
    "start_time": "2022-12-06T11:23:26.887Z"
   },
   {
    "duration": 0,
    "start_time": "2022-12-06T11:23:26.888Z"
   },
   {
    "duration": 0,
    "start_time": "2022-12-06T11:23:26.889Z"
   },
   {
    "duration": 0,
    "start_time": "2022-12-06T11:23:26.890Z"
   },
   {
    "duration": 1,
    "start_time": "2022-12-06T11:23:26.891Z"
   },
   {
    "duration": 0,
    "start_time": "2022-12-06T11:23:26.893Z"
   },
   {
    "duration": 12,
    "start_time": "2022-12-06T11:23:45.223Z"
   },
   {
    "duration": 16,
    "start_time": "2022-12-06T11:23:53.507Z"
   },
   {
    "duration": 4,
    "start_time": "2022-12-06T11:24:07.550Z"
   },
   {
    "duration": 1501,
    "start_time": "2022-12-06T11:24:29.641Z"
   },
   {
    "duration": 44,
    "start_time": "2022-12-06T11:24:31.145Z"
   },
   {
    "duration": 22,
    "start_time": "2022-12-06T11:24:31.191Z"
   },
   {
    "duration": 37,
    "start_time": "2022-12-06T11:24:31.216Z"
   },
   {
    "duration": 45,
    "start_time": "2022-12-06T11:24:31.255Z"
   },
   {
    "duration": 8,
    "start_time": "2022-12-06T11:24:31.302Z"
   },
   {
    "duration": 48,
    "start_time": "2022-12-06T11:24:31.312Z"
   },
   {
    "duration": 40,
    "start_time": "2022-12-06T11:24:31.362Z"
   },
   {
    "duration": 30,
    "start_time": "2022-12-06T11:24:31.404Z"
   },
   {
    "duration": 16,
    "start_time": "2022-12-06T11:24:31.438Z"
   },
   {
    "duration": 32,
    "start_time": "2022-12-06T11:24:31.456Z"
   },
   {
    "duration": 17,
    "start_time": "2022-12-06T11:24:31.489Z"
   },
   {
    "duration": 19,
    "start_time": "2022-12-06T11:24:31.508Z"
   },
   {
    "duration": 133,
    "start_time": "2022-12-06T11:24:31.529Z"
   },
   {
    "duration": 0,
    "start_time": "2022-12-06T11:24:31.664Z"
   },
   {
    "duration": 0,
    "start_time": "2022-12-06T11:24:31.665Z"
   },
   {
    "duration": 0,
    "start_time": "2022-12-06T11:24:31.666Z"
   },
   {
    "duration": 0,
    "start_time": "2022-12-06T11:24:31.667Z"
   },
   {
    "duration": 0,
    "start_time": "2022-12-06T11:24:31.668Z"
   },
   {
    "duration": 0,
    "start_time": "2022-12-06T11:24:31.670Z"
   },
   {
    "duration": 0,
    "start_time": "2022-12-06T11:24:31.670Z"
   },
   {
    "duration": 0,
    "start_time": "2022-12-06T11:24:31.671Z"
   },
   {
    "duration": 0,
    "start_time": "2022-12-06T11:24:31.672Z"
   },
   {
    "duration": 0,
    "start_time": "2022-12-06T11:24:31.673Z"
   },
   {
    "duration": 0,
    "start_time": "2022-12-06T11:24:31.675Z"
   },
   {
    "duration": 0,
    "start_time": "2022-12-06T11:24:31.676Z"
   },
   {
    "duration": 0,
    "start_time": "2022-12-06T11:24:31.677Z"
   },
   {
    "duration": 13,
    "start_time": "2022-12-06T11:25:12.298Z"
   },
   {
    "duration": 5,
    "start_time": "2022-12-06T11:25:18.122Z"
   },
   {
    "duration": 3,
    "start_time": "2022-12-06T11:25:21.032Z"
   },
   {
    "duration": 13,
    "start_time": "2022-12-06T11:26:53.996Z"
   },
   {
    "duration": 16,
    "start_time": "2022-12-06T11:26:59.705Z"
   },
   {
    "duration": 1378,
    "start_time": "2022-12-06T11:27:07.314Z"
   },
   {
    "duration": 42,
    "start_time": "2022-12-06T11:27:08.693Z"
   },
   {
    "duration": 22,
    "start_time": "2022-12-06T11:27:08.736Z"
   },
   {
    "duration": 14,
    "start_time": "2022-12-06T11:27:08.760Z"
   },
   {
    "duration": 39,
    "start_time": "2022-12-06T11:27:08.775Z"
   },
   {
    "duration": 3,
    "start_time": "2022-12-06T11:27:08.816Z"
   },
   {
    "duration": 41,
    "start_time": "2022-12-06T11:27:08.820Z"
   },
   {
    "duration": 13,
    "start_time": "2022-12-06T11:27:08.862Z"
   },
   {
    "duration": 7,
    "start_time": "2022-12-06T11:27:08.877Z"
   },
   {
    "duration": 9,
    "start_time": "2022-12-06T11:27:08.886Z"
   },
   {
    "duration": 19,
    "start_time": "2022-12-06T11:27:08.897Z"
   },
   {
    "duration": 35,
    "start_time": "2022-12-06T11:27:08.917Z"
   },
   {
    "duration": 15,
    "start_time": "2022-12-06T11:27:08.953Z"
   },
   {
    "duration": 4,
    "start_time": "2022-12-06T11:27:08.970Z"
   },
   {
    "duration": 133,
    "start_time": "2022-12-06T11:27:08.975Z"
   },
   {
    "duration": 0,
    "start_time": "2022-12-06T11:27:09.110Z"
   },
   {
    "duration": 0,
    "start_time": "2022-12-06T11:27:09.111Z"
   },
   {
    "duration": 0,
    "start_time": "2022-12-06T11:27:09.112Z"
   },
   {
    "duration": 0,
    "start_time": "2022-12-06T11:27:09.113Z"
   },
   {
    "duration": 0,
    "start_time": "2022-12-06T11:27:09.114Z"
   },
   {
    "duration": 0,
    "start_time": "2022-12-06T11:27:09.115Z"
   },
   {
    "duration": 0,
    "start_time": "2022-12-06T11:27:09.116Z"
   },
   {
    "duration": 0,
    "start_time": "2022-12-06T11:27:09.117Z"
   },
   {
    "duration": 0,
    "start_time": "2022-12-06T11:27:09.119Z"
   },
   {
    "duration": 0,
    "start_time": "2022-12-06T11:27:09.120Z"
   },
   {
    "duration": 0,
    "start_time": "2022-12-06T11:27:09.121Z"
   },
   {
    "duration": 0,
    "start_time": "2022-12-06T11:27:09.122Z"
   },
   {
    "duration": 0,
    "start_time": "2022-12-06T11:27:09.123Z"
   },
   {
    "duration": 1475,
    "start_time": "2022-12-06T11:30:08.976Z"
   },
   {
    "duration": 42,
    "start_time": "2022-12-06T11:30:10.452Z"
   },
   {
    "duration": 22,
    "start_time": "2022-12-06T11:30:10.496Z"
   },
   {
    "duration": 13,
    "start_time": "2022-12-06T11:30:10.520Z"
   },
   {
    "duration": 53,
    "start_time": "2022-12-06T11:30:10.535Z"
   },
   {
    "duration": 5,
    "start_time": "2022-12-06T11:30:10.593Z"
   },
   {
    "duration": 20,
    "start_time": "2022-12-06T11:30:10.602Z"
   },
   {
    "duration": 28,
    "start_time": "2022-12-06T11:30:10.625Z"
   },
   {
    "duration": 11,
    "start_time": "2022-12-06T11:30:10.655Z"
   },
   {
    "duration": 15,
    "start_time": "2022-12-06T11:30:10.669Z"
   },
   {
    "duration": 32,
    "start_time": "2022-12-06T11:30:10.686Z"
   },
   {
    "duration": 13,
    "start_time": "2022-12-06T11:30:10.720Z"
   },
   {
    "duration": 134,
    "start_time": "2022-12-06T11:30:10.735Z"
   },
   {
    "duration": 0,
    "start_time": "2022-12-06T11:30:10.871Z"
   },
   {
    "duration": 0,
    "start_time": "2022-12-06T11:30:10.872Z"
   },
   {
    "duration": 0,
    "start_time": "2022-12-06T11:30:10.874Z"
   },
   {
    "duration": 0,
    "start_time": "2022-12-06T11:30:10.875Z"
   },
   {
    "duration": 0,
    "start_time": "2022-12-06T11:30:10.877Z"
   },
   {
    "duration": 0,
    "start_time": "2022-12-06T11:30:10.878Z"
   },
   {
    "duration": 0,
    "start_time": "2022-12-06T11:30:10.880Z"
   },
   {
    "duration": 0,
    "start_time": "2022-12-06T11:30:10.881Z"
   },
   {
    "duration": 0,
    "start_time": "2022-12-06T11:30:10.883Z"
   },
   {
    "duration": 0,
    "start_time": "2022-12-06T11:30:10.884Z"
   },
   {
    "duration": 0,
    "start_time": "2022-12-06T11:30:10.885Z"
   },
   {
    "duration": 0,
    "start_time": "2022-12-06T11:30:10.886Z"
   },
   {
    "duration": 0,
    "start_time": "2022-12-06T11:30:10.887Z"
   },
   {
    "duration": 0,
    "start_time": "2022-12-06T11:30:10.888Z"
   },
   {
    "duration": 0,
    "start_time": "2022-12-06T11:30:10.889Z"
   },
   {
    "duration": 7,
    "start_time": "2022-12-06T11:30:27.920Z"
   },
   {
    "duration": 27,
    "start_time": "2022-12-06T11:30:29.417Z"
   },
   {
    "duration": 26,
    "start_time": "2022-12-06T11:30:50.743Z"
   },
   {
    "duration": 6,
    "start_time": "2022-12-06T11:32:39.855Z"
   },
   {
    "duration": 20,
    "start_time": "2022-12-06T11:33:06.081Z"
   },
   {
    "duration": 17,
    "start_time": "2022-12-06T11:34:14.126Z"
   },
   {
    "duration": 25,
    "start_time": "2022-12-06T11:34:18.460Z"
   },
   {
    "duration": 1330,
    "start_time": "2022-12-06T11:34:59.857Z"
   },
   {
    "duration": 1510,
    "start_time": "2022-12-06T11:35:05.672Z"
   },
   {
    "duration": 43,
    "start_time": "2022-12-06T11:35:07.186Z"
   },
   {
    "duration": 22,
    "start_time": "2022-12-06T11:35:07.231Z"
   },
   {
    "duration": 13,
    "start_time": "2022-12-06T11:35:07.255Z"
   },
   {
    "duration": 42,
    "start_time": "2022-12-06T11:35:07.270Z"
   },
   {
    "duration": 4,
    "start_time": "2022-12-06T11:35:07.313Z"
   },
   {
    "duration": 32,
    "start_time": "2022-12-06T11:35:07.319Z"
   },
   {
    "duration": 14,
    "start_time": "2022-12-06T11:35:07.353Z"
   },
   {
    "duration": 7,
    "start_time": "2022-12-06T11:35:07.369Z"
   },
   {
    "duration": 15,
    "start_time": "2022-12-06T11:35:07.378Z"
   },
   {
    "duration": 28,
    "start_time": "2022-12-06T11:35:07.395Z"
   },
   {
    "duration": 34,
    "start_time": "2022-12-06T11:35:07.424Z"
   },
   {
    "duration": 18,
    "start_time": "2022-12-06T11:35:07.460Z"
   },
   {
    "duration": 24,
    "start_time": "2022-12-06T11:35:07.480Z"
   },
   {
    "duration": 11,
    "start_time": "2022-12-06T11:35:07.505Z"
   },
   {
    "duration": 126,
    "start_time": "2022-12-06T11:35:07.517Z"
   },
   {
    "duration": 0,
    "start_time": "2022-12-06T11:35:07.645Z"
   },
   {
    "duration": 0,
    "start_time": "2022-12-06T11:35:07.651Z"
   },
   {
    "duration": 0,
    "start_time": "2022-12-06T11:35:07.653Z"
   },
   {
    "duration": 0,
    "start_time": "2022-12-06T11:35:07.654Z"
   },
   {
    "duration": 0,
    "start_time": "2022-12-06T11:35:07.656Z"
   },
   {
    "duration": 0,
    "start_time": "2022-12-06T11:35:07.657Z"
   },
   {
    "duration": 0,
    "start_time": "2022-12-06T11:35:07.659Z"
   },
   {
    "duration": 0,
    "start_time": "2022-12-06T11:35:07.660Z"
   },
   {
    "duration": 0,
    "start_time": "2022-12-06T11:35:07.662Z"
   },
   {
    "duration": 0,
    "start_time": "2022-12-06T11:35:07.663Z"
   },
   {
    "duration": 0,
    "start_time": "2022-12-06T11:35:07.664Z"
   },
   {
    "duration": 0,
    "start_time": "2022-12-06T11:35:07.666Z"
   },
   {
    "duration": 0,
    "start_time": "2022-12-06T11:35:07.667Z"
   },
   {
    "duration": 0,
    "start_time": "2022-12-06T11:35:07.668Z"
   },
   {
    "duration": 0,
    "start_time": "2022-12-06T11:35:07.669Z"
   },
   {
    "duration": 21,
    "start_time": "2022-12-06T11:37:00.071Z"
   },
   {
    "duration": 24,
    "start_time": "2022-12-06T11:37:05.017Z"
   },
   {
    "duration": 1486,
    "start_time": "2022-12-06T11:37:45.663Z"
   },
   {
    "duration": 42,
    "start_time": "2022-12-06T11:37:47.151Z"
   },
   {
    "duration": 24,
    "start_time": "2022-12-06T11:37:47.194Z"
   },
   {
    "duration": 16,
    "start_time": "2022-12-06T11:37:47.220Z"
   },
   {
    "duration": 46,
    "start_time": "2022-12-06T11:37:47.238Z"
   },
   {
    "duration": 3,
    "start_time": "2022-12-06T11:37:47.286Z"
   },
   {
    "duration": 16,
    "start_time": "2022-12-06T11:37:47.291Z"
   },
   {
    "duration": 14,
    "start_time": "2022-12-06T11:37:47.309Z"
   },
   {
    "duration": 31,
    "start_time": "2022-12-06T11:37:47.325Z"
   },
   {
    "duration": 8,
    "start_time": "2022-12-06T11:37:47.359Z"
   },
   {
    "duration": 27,
    "start_time": "2022-12-06T11:37:47.369Z"
   },
   {
    "duration": 8,
    "start_time": "2022-12-06T11:37:47.398Z"
   },
   {
    "duration": 51,
    "start_time": "2022-12-06T11:37:47.408Z"
   },
   {
    "duration": 26,
    "start_time": "2022-12-06T11:37:47.461Z"
   },
   {
    "duration": 12,
    "start_time": "2022-12-06T11:37:47.489Z"
   },
   {
    "duration": 15,
    "start_time": "2022-12-06T11:37:47.503Z"
   },
   {
    "duration": 32,
    "start_time": "2022-12-06T11:37:47.519Z"
   },
   {
    "duration": 11,
    "start_time": "2022-12-06T11:37:47.552Z"
   },
   {
    "duration": 557,
    "start_time": "2022-12-06T11:37:47.564Z"
   },
   {
    "duration": 113355,
    "start_time": "2022-12-06T11:37:48.123Z"
   },
   {
    "duration": 4498,
    "start_time": "2022-12-06T11:39:41.480Z"
   },
   {
    "duration": 5,
    "start_time": "2022-12-06T11:39:46.127Z"
   },
   {
    "duration": 141,
    "start_time": "2022-12-06T11:39:46.134Z"
   },
   {
    "duration": 0,
    "start_time": "2022-12-06T11:39:46.277Z"
   },
   {
    "duration": 0,
    "start_time": "2022-12-06T11:39:46.279Z"
   },
   {
    "duration": 0,
    "start_time": "2022-12-06T11:39:46.280Z"
   },
   {
    "duration": 0,
    "start_time": "2022-12-06T11:39:46.281Z"
   },
   {
    "duration": 0,
    "start_time": "2022-12-06T11:39:46.283Z"
   },
   {
    "duration": 119,
    "start_time": "2022-12-06T11:39:53.264Z"
   },
   {
    "duration": 143,
    "start_time": "2022-12-06T11:42:06.709Z"
   },
   {
    "duration": 1489,
    "start_time": "2022-12-06T11:42:49.007Z"
   },
   {
    "duration": 40,
    "start_time": "2022-12-06T11:42:50.499Z"
   },
   {
    "duration": 29,
    "start_time": "2022-12-06T11:42:50.542Z"
   },
   {
    "duration": 16,
    "start_time": "2022-12-06T11:42:50.574Z"
   },
   {
    "duration": 61,
    "start_time": "2022-12-06T11:42:50.592Z"
   },
   {
    "duration": 5,
    "start_time": "2022-12-06T11:42:50.655Z"
   },
   {
    "duration": 19,
    "start_time": "2022-12-06T11:42:50.662Z"
   },
   {
    "duration": 13,
    "start_time": "2022-12-06T11:42:50.682Z"
   },
   {
    "duration": 6,
    "start_time": "2022-12-06T11:42:50.697Z"
   },
   {
    "duration": 7,
    "start_time": "2022-12-06T11:42:50.706Z"
   },
   {
    "duration": 50,
    "start_time": "2022-12-06T11:42:50.715Z"
   },
   {
    "duration": 7,
    "start_time": "2022-12-06T11:42:50.767Z"
   },
   {
    "duration": 21,
    "start_time": "2022-12-06T11:42:50.776Z"
   },
   {
    "duration": 23,
    "start_time": "2022-12-06T11:42:50.799Z"
   },
   {
    "duration": 10,
    "start_time": "2022-12-06T11:42:50.850Z"
   },
   {
    "duration": 14,
    "start_time": "2022-12-06T11:42:50.862Z"
   },
   {
    "duration": 151,
    "start_time": "2022-12-06T11:42:50.877Z"
   },
   {
    "duration": 4,
    "start_time": "2022-12-06T11:42:51.030Z"
   },
   {
    "duration": 17,
    "start_time": "2022-12-06T11:42:51.035Z"
   },
   {
    "duration": 486,
    "start_time": "2022-12-06T11:42:51.054Z"
   },
   {
    "duration": 119068,
    "start_time": "2022-12-06T11:42:51.542Z"
   },
   {
    "duration": 4349,
    "start_time": "2022-12-06T11:44:50.612Z"
   },
   {
    "duration": 4,
    "start_time": "2022-12-06T11:44:54.963Z"
   },
   {
    "duration": 139,
    "start_time": "2022-12-06T11:44:54.969Z"
   },
   {
    "duration": 0,
    "start_time": "2022-12-06T11:44:55.110Z"
   },
   {
    "duration": 0,
    "start_time": "2022-12-06T11:44:55.111Z"
   },
   {
    "duration": 0,
    "start_time": "2022-12-06T11:44:55.112Z"
   },
   {
    "duration": 0,
    "start_time": "2022-12-06T11:44:55.113Z"
   },
   {
    "duration": 534,
    "start_time": "2022-12-06T11:46:14.948Z"
   },
   {
    "duration": 115453,
    "start_time": "2022-12-06T11:49:02.550Z"
   },
   {
    "duration": 4276,
    "start_time": "2022-12-06T11:50:58.005Z"
   },
   {
    "duration": 1491,
    "start_time": "2022-12-06T11:53:09.654Z"
   },
   {
    "duration": 41,
    "start_time": "2022-12-06T11:53:11.147Z"
   },
   {
    "duration": 22,
    "start_time": "2022-12-06T11:53:11.190Z"
   },
   {
    "duration": 16,
    "start_time": "2022-12-06T11:53:11.214Z"
   },
   {
    "duration": 51,
    "start_time": "2022-12-06T11:53:11.232Z"
   },
   {
    "duration": 4,
    "start_time": "2022-12-06T11:53:11.285Z"
   },
   {
    "duration": 23,
    "start_time": "2022-12-06T11:53:11.291Z"
   },
   {
    "duration": 14,
    "start_time": "2022-12-06T11:53:11.316Z"
   },
   {
    "duration": 25,
    "start_time": "2022-12-06T11:53:11.332Z"
   },
   {
    "duration": 14,
    "start_time": "2022-12-06T11:53:11.360Z"
   },
   {
    "duration": 25,
    "start_time": "2022-12-06T11:53:11.376Z"
   },
   {
    "duration": 7,
    "start_time": "2022-12-06T11:53:11.403Z"
   },
   {
    "duration": 51,
    "start_time": "2022-12-06T11:53:11.411Z"
   },
   {
    "duration": 24,
    "start_time": "2022-12-06T11:53:11.464Z"
   },
   {
    "duration": 13,
    "start_time": "2022-12-06T11:53:11.489Z"
   },
   {
    "duration": 14,
    "start_time": "2022-12-06T11:53:11.504Z"
   },
   {
    "duration": 170,
    "start_time": "2022-12-06T11:53:11.519Z"
   },
   {
    "duration": 3,
    "start_time": "2022-12-06T11:53:11.691Z"
   },
   {
    "duration": 12,
    "start_time": "2022-12-06T11:53:11.696Z"
   },
   {
    "duration": 530,
    "start_time": "2022-12-06T11:53:11.709Z"
   },
   {
    "duration": 114215,
    "start_time": "2022-12-06T11:53:12.241Z"
   },
   {
    "duration": 4109,
    "start_time": "2022-12-06T11:55:06.458Z"
   },
   {
    "duration": 5,
    "start_time": "2022-12-06T11:55:10.569Z"
   },
   {
    "duration": 164,
    "start_time": "2022-12-06T11:55:10.576Z"
   },
   {
    "duration": 0,
    "start_time": "2022-12-06T11:55:10.742Z"
   },
   {
    "duration": 0,
    "start_time": "2022-12-06T11:55:10.743Z"
   },
   {
    "duration": 0,
    "start_time": "2022-12-06T11:55:10.751Z"
   },
   {
    "duration": 0,
    "start_time": "2022-12-06T11:55:10.752Z"
   },
   {
    "duration": 2429,
    "start_time": "2022-12-07T10:37:31.772Z"
   },
   {
    "duration": 288,
    "start_time": "2022-12-07T10:37:34.204Z"
   },
   {
    "duration": 44,
    "start_time": "2022-12-07T10:37:34.494Z"
   },
   {
    "duration": 77,
    "start_time": "2022-12-07T10:37:34.541Z"
   },
   {
    "duration": 178,
    "start_time": "2022-12-07T10:37:34.621Z"
   },
   {
    "duration": 84,
    "start_time": "2022-12-07T10:37:34.802Z"
   },
   {
    "duration": 21,
    "start_time": "2022-12-07T10:37:34.889Z"
   },
   {
    "duration": 42,
    "start_time": "2022-12-07T10:37:34.916Z"
   },
   {
    "duration": 136,
    "start_time": "2022-12-07T10:37:34.968Z"
   },
   {
    "duration": 38,
    "start_time": "2022-12-07T10:37:35.108Z"
   },
   {
    "duration": 66,
    "start_time": "2022-12-07T10:37:35.149Z"
   },
   {
    "duration": 67,
    "start_time": "2022-12-07T10:37:35.218Z"
   },
   {
    "duration": 54,
    "start_time": "2022-12-07T10:37:35.287Z"
   },
   {
    "duration": 82,
    "start_time": "2022-12-07T10:37:35.344Z"
   },
   {
    "duration": 67,
    "start_time": "2022-12-07T10:37:35.428Z"
   },
   {
    "duration": 22,
    "start_time": "2022-12-07T10:37:35.498Z"
   },
   {
    "duration": 247,
    "start_time": "2022-12-07T10:37:35.523Z"
   },
   {
    "duration": 6,
    "start_time": "2022-12-07T10:37:35.772Z"
   },
   {
    "duration": 10,
    "start_time": "2022-12-07T10:37:35.781Z"
   },
   {
    "duration": 716,
    "start_time": "2022-12-07T10:37:35.793Z"
   },
   {
    "duration": 133065,
    "start_time": "2022-12-07T10:37:36.514Z"
   },
   {
    "duration": 5143,
    "start_time": "2022-12-07T10:39:49.581Z"
   },
   {
    "duration": 5,
    "start_time": "2022-12-07T10:39:54.725Z"
   },
   {
    "duration": 204,
    "start_time": "2022-12-07T10:39:54.732Z"
   },
   {
    "duration": 0,
    "start_time": "2022-12-07T10:39:54.943Z"
   },
   {
    "duration": 0,
    "start_time": "2022-12-07T10:39:54.944Z"
   },
   {
    "duration": 0,
    "start_time": "2022-12-07T10:39:54.945Z"
   },
   {
    "duration": 0,
    "start_time": "2022-12-07T10:39:54.946Z"
   },
   {
    "duration": 19,
    "start_time": "2022-12-07T10:41:09.545Z"
   },
   {
    "duration": 13,
    "start_time": "2022-12-07T10:41:15.654Z"
   },
   {
    "duration": 2010,
    "start_time": "2022-12-07T10:41:21.790Z"
   },
   {
    "duration": 0,
    "start_time": "2022-12-07T10:41:23.803Z"
   },
   {
    "duration": 0,
    "start_time": "2022-12-07T10:41:23.804Z"
   },
   {
    "duration": 0,
    "start_time": "2022-12-07T10:41:23.806Z"
   },
   {
    "duration": 0,
    "start_time": "2022-12-07T10:41:23.808Z"
   },
   {
    "duration": 0,
    "start_time": "2022-12-07T10:41:23.809Z"
   },
   {
    "duration": 0,
    "start_time": "2022-12-07T10:41:23.814Z"
   },
   {
    "duration": 0,
    "start_time": "2022-12-07T10:41:23.815Z"
   },
   {
    "duration": 0,
    "start_time": "2022-12-07T10:41:23.816Z"
   },
   {
    "duration": 0,
    "start_time": "2022-12-07T10:41:23.818Z"
   },
   {
    "duration": 0,
    "start_time": "2022-12-07T10:41:23.819Z"
   },
   {
    "duration": 0,
    "start_time": "2022-12-07T10:41:23.821Z"
   },
   {
    "duration": 0,
    "start_time": "2022-12-07T10:41:23.822Z"
   },
   {
    "duration": 0,
    "start_time": "2022-12-07T10:41:23.823Z"
   },
   {
    "duration": 0,
    "start_time": "2022-12-07T10:41:23.824Z"
   },
   {
    "duration": 1,
    "start_time": "2022-12-07T10:41:23.825Z"
   },
   {
    "duration": 0,
    "start_time": "2022-12-07T10:41:23.828Z"
   },
   {
    "duration": 0,
    "start_time": "2022-12-07T10:41:23.828Z"
   },
   {
    "duration": 0,
    "start_time": "2022-12-07T10:41:23.829Z"
   },
   {
    "duration": 0,
    "start_time": "2022-12-07T10:41:23.831Z"
   },
   {
    "duration": 0,
    "start_time": "2022-12-07T10:41:23.833Z"
   },
   {
    "duration": 0,
    "start_time": "2022-12-07T10:41:23.834Z"
   },
   {
    "duration": 0,
    "start_time": "2022-12-07T10:41:23.836Z"
   },
   {
    "duration": 0,
    "start_time": "2022-12-07T10:41:23.837Z"
   },
   {
    "duration": 0,
    "start_time": "2022-12-07T10:41:23.843Z"
   },
   {
    "duration": 0,
    "start_time": "2022-12-07T10:41:23.844Z"
   },
   {
    "duration": 0,
    "start_time": "2022-12-07T10:41:23.847Z"
   },
   {
    "duration": 0,
    "start_time": "2022-12-07T10:41:23.849Z"
   },
   {
    "duration": 2616,
    "start_time": "2022-12-07T10:41:47.435Z"
   },
   {
    "duration": 82,
    "start_time": "2022-12-07T10:41:50.054Z"
   },
   {
    "duration": 105,
    "start_time": "2022-12-07T10:41:50.138Z"
   },
   {
    "duration": 24,
    "start_time": "2022-12-07T10:41:50.246Z"
   },
   {
    "duration": 156,
    "start_time": "2022-12-07T10:41:50.272Z"
   },
   {
    "duration": 7,
    "start_time": "2022-12-07T10:41:50.437Z"
   },
   {
    "duration": 105,
    "start_time": "2022-12-07T10:41:50.446Z"
   },
   {
    "duration": 21,
    "start_time": "2022-12-07T10:41:50.557Z"
   },
   {
    "duration": 75,
    "start_time": "2022-12-07T10:41:50.581Z"
   },
   {
    "duration": 60,
    "start_time": "2022-12-07T10:41:50.660Z"
   },
   {
    "duration": 90,
    "start_time": "2022-12-07T10:41:50.723Z"
   },
   {
    "duration": 32,
    "start_time": "2022-12-07T10:41:50.816Z"
   },
   {
    "duration": 26,
    "start_time": "2022-12-07T10:41:50.850Z"
   },
   {
    "duration": 54,
    "start_time": "2022-12-07T10:41:50.877Z"
   },
   {
    "duration": 38,
    "start_time": "2022-12-07T10:41:50.934Z"
   },
   {
    "duration": 19,
    "start_time": "2022-12-07T10:41:50.975Z"
   },
   {
    "duration": 191,
    "start_time": "2022-12-07T10:41:50.996Z"
   },
   {
    "duration": 5,
    "start_time": "2022-12-07T10:41:51.189Z"
   },
   {
    "duration": 42,
    "start_time": "2022-12-07T10:41:51.196Z"
   },
   {
    "duration": 556,
    "start_time": "2022-12-07T10:41:51.241Z"
   },
   {
    "duration": 1710,
    "start_time": "2022-12-07T10:42:26.501Z"
   },
   {
    "duration": 0,
    "start_time": "2022-12-07T10:42:28.214Z"
   },
   {
    "duration": 0,
    "start_time": "2022-12-07T10:42:28.223Z"
   },
   {
    "duration": 0,
    "start_time": "2022-12-07T10:42:28.224Z"
   },
   {
    "duration": 0,
    "start_time": "2022-12-07T10:42:28.225Z"
   },
   {
    "duration": 0,
    "start_time": "2022-12-07T10:42:28.227Z"
   },
   {
    "duration": 0,
    "start_time": "2022-12-07T10:42:28.228Z"
   },
   {
    "duration": 0,
    "start_time": "2022-12-07T10:42:28.230Z"
   },
   {
    "duration": 0,
    "start_time": "2022-12-07T10:42:28.231Z"
   },
   {
    "duration": 0,
    "start_time": "2022-12-07T10:42:28.232Z"
   },
   {
    "duration": 0,
    "start_time": "2022-12-07T10:42:28.234Z"
   },
   {
    "duration": 0,
    "start_time": "2022-12-07T10:42:28.236Z"
   },
   {
    "duration": 0,
    "start_time": "2022-12-07T10:42:28.237Z"
   },
   {
    "duration": 0,
    "start_time": "2022-12-07T10:42:28.238Z"
   },
   {
    "duration": 0,
    "start_time": "2022-12-07T10:42:28.239Z"
   },
   {
    "duration": 0,
    "start_time": "2022-12-07T10:42:28.241Z"
   },
   {
    "duration": 0,
    "start_time": "2022-12-07T10:42:28.242Z"
   },
   {
    "duration": 0,
    "start_time": "2022-12-07T10:42:28.244Z"
   },
   {
    "duration": 0,
    "start_time": "2022-12-07T10:42:28.246Z"
   },
   {
    "duration": 0,
    "start_time": "2022-12-07T10:42:28.248Z"
   },
   {
    "duration": 0,
    "start_time": "2022-12-07T10:42:28.249Z"
   },
   {
    "duration": 0,
    "start_time": "2022-12-07T10:42:28.250Z"
   },
   {
    "duration": 0,
    "start_time": "2022-12-07T10:42:28.252Z"
   },
   {
    "duration": 0,
    "start_time": "2022-12-07T10:42:28.253Z"
   },
   {
    "duration": 0,
    "start_time": "2022-12-07T10:42:28.254Z"
   },
   {
    "duration": 0,
    "start_time": "2022-12-07T10:42:28.255Z"
   },
   {
    "duration": 0,
    "start_time": "2022-12-07T10:42:28.256Z"
   },
   {
    "duration": 0,
    "start_time": "2022-12-07T10:42:28.258Z"
   },
   {
    "duration": 1547,
    "start_time": "2022-12-07T10:44:32.382Z"
   },
   {
    "duration": 63,
    "start_time": "2022-12-07T10:44:33.931Z"
   },
   {
    "duration": 35,
    "start_time": "2022-12-07T10:44:33.996Z"
   },
   {
    "duration": 43,
    "start_time": "2022-12-07T10:44:34.034Z"
   },
   {
    "duration": 63,
    "start_time": "2022-12-07T10:44:34.079Z"
   },
   {
    "duration": 5,
    "start_time": "2022-12-07T10:44:34.147Z"
   },
   {
    "duration": 31,
    "start_time": "2022-12-07T10:44:34.155Z"
   },
   {
    "duration": 16,
    "start_time": "2022-12-07T10:44:34.189Z"
   },
   {
    "duration": 13,
    "start_time": "2022-12-07T10:44:34.212Z"
   },
   {
    "duration": 37,
    "start_time": "2022-12-07T10:44:34.228Z"
   },
   {
    "duration": 20,
    "start_time": "2022-12-07T10:44:34.268Z"
   },
   {
    "duration": 8,
    "start_time": "2022-12-07T10:44:34.291Z"
   },
   {
    "duration": 38,
    "start_time": "2022-12-07T10:44:34.302Z"
   },
   {
    "duration": 56,
    "start_time": "2022-12-07T10:44:34.342Z"
   },
   {
    "duration": 20,
    "start_time": "2022-12-07T10:44:34.400Z"
   },
   {
    "duration": 65,
    "start_time": "2022-12-07T10:44:34.422Z"
   },
   {
    "duration": 169,
    "start_time": "2022-12-07T10:44:34.489Z"
   },
   {
    "duration": 10,
    "start_time": "2022-12-07T10:44:34.660Z"
   },
   {
    "duration": 15,
    "start_time": "2022-12-07T10:44:34.672Z"
   },
   {
    "duration": 629,
    "start_time": "2022-12-07T10:44:34.690Z"
   },
   {
    "duration": 124065,
    "start_time": "2022-12-07T10:44:35.324Z"
   },
   {
    "duration": 6554,
    "start_time": "2022-12-07T10:46:39.391Z"
   },
   {
    "duration": 4,
    "start_time": "2022-12-07T10:46:45.947Z"
   },
   {
    "duration": 159,
    "start_time": "2022-12-07T10:46:45.953Z"
   },
   {
    "duration": 0,
    "start_time": "2022-12-07T10:46:46.113Z"
   },
   {
    "duration": 0,
    "start_time": "2022-12-07T10:46:46.117Z"
   },
   {
    "duration": 0,
    "start_time": "2022-12-07T10:46:46.125Z"
   },
   {
    "duration": 0,
    "start_time": "2022-12-07T10:46:46.126Z"
   },
   {
    "duration": 23,
    "start_time": "2022-12-07T10:48:14.374Z"
   },
   {
    "duration": 8,
    "start_time": "2022-12-07T10:48:22.229Z"
   },
   {
    "duration": 6,
    "start_time": "2022-12-07T10:49:36.405Z"
   },
   {
    "duration": 12,
    "start_time": "2022-12-07T10:49:40.476Z"
   },
   {
    "duration": 33,
    "start_time": "2022-12-07T10:50:44.883Z"
   },
   {
    "duration": 5,
    "start_time": "2022-12-07T10:53:57.079Z"
   },
   {
    "duration": 28,
    "start_time": "2022-12-07T10:53:59.750Z"
   },
   {
    "duration": 8,
    "start_time": "2022-12-07T10:54:46.953Z"
   },
   {
    "duration": 29,
    "start_time": "2022-12-07T10:54:56.078Z"
   },
   {
    "duration": 5,
    "start_time": "2022-12-07T10:56:57.323Z"
   },
   {
    "duration": 25,
    "start_time": "2022-12-07T10:56:59.894Z"
   },
   {
    "duration": 5,
    "start_time": "2022-12-07T10:57:16.696Z"
   },
   {
    "duration": 27,
    "start_time": "2022-12-07T10:57:19.194Z"
   },
   {
    "duration": 5,
    "start_time": "2022-12-07T10:59:22.147Z"
   },
   {
    "duration": 25,
    "start_time": "2022-12-07T10:59:24.750Z"
   },
   {
    "duration": 9,
    "start_time": "2022-12-07T11:02:05.280Z"
   },
   {
    "duration": 6,
    "start_time": "2022-12-07T11:02:12.661Z"
   },
   {
    "duration": 12,
    "start_time": "2022-12-07T11:02:46.180Z"
   },
   {
    "duration": 4,
    "start_time": "2022-12-07T11:02:47.217Z"
   },
   {
    "duration": 4,
    "start_time": "2022-12-07T11:02:49.636Z"
   },
   {
    "duration": 10,
    "start_time": "2022-12-07T11:02:55.734Z"
   },
   {
    "duration": 14,
    "start_time": "2022-12-07T11:02:57.066Z"
   },
   {
    "duration": 12,
    "start_time": "2022-12-07T11:03:02.379Z"
   },
   {
    "duration": 1606,
    "start_time": "2022-12-07T11:03:07.456Z"
   },
   {
    "duration": 40,
    "start_time": "2022-12-07T11:03:09.064Z"
   },
   {
    "duration": 39,
    "start_time": "2022-12-07T11:03:09.106Z"
   },
   {
    "duration": 26,
    "start_time": "2022-12-07T11:03:09.148Z"
   },
   {
    "duration": 59,
    "start_time": "2022-12-07T11:03:09.176Z"
   },
   {
    "duration": 4,
    "start_time": "2022-12-07T11:03:09.237Z"
   },
   {
    "duration": 35,
    "start_time": "2022-12-07T11:03:09.244Z"
   },
   {
    "duration": 31,
    "start_time": "2022-12-07T11:03:09.281Z"
   },
   {
    "duration": 22,
    "start_time": "2022-12-07T11:03:09.313Z"
   },
   {
    "duration": 30,
    "start_time": "2022-12-07T11:03:09.338Z"
   },
   {
    "duration": 22,
    "start_time": "2022-12-07T11:03:09.370Z"
   },
   {
    "duration": 66,
    "start_time": "2022-12-07T11:03:09.394Z"
   },
   {
    "duration": 21,
    "start_time": "2022-12-07T11:03:09.462Z"
   },
   {
    "duration": 49,
    "start_time": "2022-12-07T11:03:09.487Z"
   },
   {
    "duration": 56,
    "start_time": "2022-12-07T11:03:09.538Z"
   },
   {
    "duration": 19,
    "start_time": "2022-12-07T11:03:09.596Z"
   },
   {
    "duration": 56,
    "start_time": "2022-12-07T11:03:09.616Z"
   },
   {
    "duration": 189,
    "start_time": "2022-12-07T11:03:09.674Z"
   },
   {
    "duration": 4,
    "start_time": "2022-12-07T11:03:09.865Z"
   },
   {
    "duration": 24,
    "start_time": "2022-12-07T11:03:09.871Z"
   },
   {
    "duration": 1335,
    "start_time": "2022-12-07T11:03:09.897Z"
   },
   {
    "duration": 0,
    "start_time": "2022-12-07T11:03:11.234Z"
   },
   {
    "duration": 0,
    "start_time": "2022-12-07T11:03:11.236Z"
   },
   {
    "duration": 0,
    "start_time": "2022-12-07T11:03:11.240Z"
   },
   {
    "duration": 0,
    "start_time": "2022-12-07T11:03:11.241Z"
   },
   {
    "duration": 0,
    "start_time": "2022-12-07T11:03:11.242Z"
   },
   {
    "duration": 0,
    "start_time": "2022-12-07T11:03:11.244Z"
   },
   {
    "duration": 0,
    "start_time": "2022-12-07T11:03:11.245Z"
   },
   {
    "duration": 0,
    "start_time": "2022-12-07T11:03:11.246Z"
   },
   {
    "duration": 0,
    "start_time": "2022-12-07T11:03:11.247Z"
   },
   {
    "duration": 0,
    "start_time": "2022-12-07T11:03:11.249Z"
   },
   {
    "duration": 14,
    "start_time": "2022-12-07T11:04:15.921Z"
   },
   {
    "duration": 8,
    "start_time": "2022-12-07T11:04:16.978Z"
   },
   {
    "duration": 1705,
    "start_time": "2022-12-07T11:04:24.157Z"
   },
   {
    "duration": 41,
    "start_time": "2022-12-07T11:04:25.865Z"
   },
   {
    "duration": 28,
    "start_time": "2022-12-07T11:04:25.908Z"
   },
   {
    "duration": 25,
    "start_time": "2022-12-07T11:04:25.939Z"
   },
   {
    "duration": 69,
    "start_time": "2022-12-07T11:04:25.966Z"
   },
   {
    "duration": 4,
    "start_time": "2022-12-07T11:04:26.038Z"
   },
   {
    "duration": 24,
    "start_time": "2022-12-07T11:04:26.044Z"
   },
   {
    "duration": 16,
    "start_time": "2022-12-07T11:04:26.070Z"
   },
   {
    "duration": 28,
    "start_time": "2022-12-07T11:04:26.088Z"
   },
   {
    "duration": 29,
    "start_time": "2022-12-07T11:04:26.118Z"
   },
   {
    "duration": 14,
    "start_time": "2022-12-07T11:04:26.148Z"
   },
   {
    "duration": 22,
    "start_time": "2022-12-07T11:04:26.164Z"
   },
   {
    "duration": 6,
    "start_time": "2022-12-07T11:04:26.189Z"
   },
   {
    "duration": 37,
    "start_time": "2022-12-07T11:04:26.197Z"
   },
   {
    "duration": 50,
    "start_time": "2022-12-07T11:04:26.238Z"
   },
   {
    "duration": 22,
    "start_time": "2022-12-07T11:04:26.290Z"
   },
   {
    "duration": 20,
    "start_time": "2022-12-07T11:04:26.315Z"
   },
   {
    "duration": 223,
    "start_time": "2022-12-07T11:04:26.340Z"
   },
   {
    "duration": 4,
    "start_time": "2022-12-07T11:04:26.565Z"
   },
   {
    "duration": 10,
    "start_time": "2022-12-07T11:04:26.571Z"
   },
   {
    "duration": 557,
    "start_time": "2022-12-07T11:04:26.582Z"
   },
   {
    "duration": 116278,
    "start_time": "2022-12-07T11:04:27.142Z"
   },
   {
    "duration": 5031,
    "start_time": "2022-12-07T11:06:23.425Z"
   },
   {
    "duration": 6,
    "start_time": "2022-12-07T11:06:28.459Z"
   },
   {
    "duration": 13,
    "start_time": "2022-12-07T11:06:28.468Z"
   },
   {
    "duration": 41,
    "start_time": "2022-12-07T11:06:28.484Z"
   },
   {
    "duration": 196,
    "start_time": "2022-12-07T11:06:28.529Z"
   },
   {
    "duration": 0,
    "start_time": "2022-12-07T11:06:28.732Z"
   },
   {
    "duration": 0,
    "start_time": "2022-12-07T11:06:28.733Z"
   },
   {
    "duration": 0,
    "start_time": "2022-12-07T11:06:28.735Z"
   },
   {
    "duration": 0,
    "start_time": "2022-12-07T11:06:28.736Z"
   },
   {
    "duration": 5,
    "start_time": "2022-12-07T11:12:27.944Z"
   },
   {
    "duration": 186,
    "start_time": "2022-12-07T11:12:30.634Z"
   },
   {
    "duration": 9,
    "start_time": "2022-12-07T11:12:43.446Z"
   },
   {
    "duration": 33,
    "start_time": "2022-12-07T11:12:59.736Z"
   },
   {
    "duration": 24,
    "start_time": "2022-12-07T11:13:32.230Z"
   },
   {
    "duration": 1542,
    "start_time": "2022-12-07T11:14:17.834Z"
   },
   {
    "duration": 53,
    "start_time": "2022-12-07T11:14:19.378Z"
   },
   {
    "duration": 29,
    "start_time": "2022-12-07T11:14:19.435Z"
   },
   {
    "duration": 26,
    "start_time": "2022-12-07T11:14:19.466Z"
   },
   {
    "duration": 57,
    "start_time": "2022-12-07T11:14:19.494Z"
   },
   {
    "duration": 4,
    "start_time": "2022-12-07T11:14:19.553Z"
   },
   {
    "duration": 40,
    "start_time": "2022-12-07T11:14:19.559Z"
   },
   {
    "duration": 29,
    "start_time": "2022-12-07T11:14:19.601Z"
   },
   {
    "duration": 34,
    "start_time": "2022-12-07T11:14:19.633Z"
   },
   {
    "duration": 30,
    "start_time": "2022-12-07T11:14:19.669Z"
   },
   {
    "duration": 29,
    "start_time": "2022-12-07T11:14:19.701Z"
   },
   {
    "duration": 21,
    "start_time": "2022-12-07T11:14:19.733Z"
   },
   {
    "duration": 67,
    "start_time": "2022-12-07T11:14:19.755Z"
   },
   {
    "duration": 46,
    "start_time": "2022-12-07T11:14:19.829Z"
   },
   {
    "duration": 35,
    "start_time": "2022-12-07T11:14:19.877Z"
   },
   {
    "duration": 34,
    "start_time": "2022-12-07T11:14:19.920Z"
   },
   {
    "duration": 172,
    "start_time": "2022-12-07T11:14:19.956Z"
   },
   {
    "duration": 4,
    "start_time": "2022-12-07T11:14:20.133Z"
   },
   {
    "duration": 36,
    "start_time": "2022-12-07T11:14:20.139Z"
   },
   {
    "duration": 622,
    "start_time": "2022-12-07T11:14:20.177Z"
   },
   {
    "duration": 128513,
    "start_time": "2022-12-07T11:14:20.802Z"
   },
   {
    "duration": 5933,
    "start_time": "2022-12-07T11:16:29.318Z"
   },
   {
    "duration": 5,
    "start_time": "2022-12-07T11:16:35.253Z"
   },
   {
    "duration": 172,
    "start_time": "2022-12-07T11:16:35.260Z"
   },
   {
    "duration": 25,
    "start_time": "2022-12-07T11:16:35.434Z"
   },
   {
    "duration": 605,
    "start_time": "2022-12-07T11:16:35.461Z"
   },
   {
    "duration": 141,
    "start_time": "2022-12-07T11:16:36.069Z"
   },
   {
    "duration": 0,
    "start_time": "2022-12-07T11:16:36.212Z"
   },
   {
    "duration": 0,
    "start_time": "2022-12-07T11:16:36.213Z"
   },
   {
    "duration": 715,
    "start_time": "2022-12-07T11:16:48.872Z"
   },
   {
    "duration": 157278,
    "start_time": "2022-12-07T11:17:49.775Z"
   },
   {
    "duration": 5857,
    "start_time": "2022-12-07T11:20:32.533Z"
   },
   {
    "duration": 1583,
    "start_time": "2022-12-08T08:32:05.515Z"
   },
   {
    "duration": 92,
    "start_time": "2022-12-08T08:32:07.101Z"
   },
   {
    "duration": 28,
    "start_time": "2022-12-08T08:32:07.195Z"
   },
   {
    "duration": 13,
    "start_time": "2022-12-08T08:32:07.225Z"
   },
   {
    "duration": 60,
    "start_time": "2022-12-08T08:32:07.241Z"
   },
   {
    "duration": 4,
    "start_time": "2022-12-08T08:32:07.303Z"
   },
   {
    "duration": 26,
    "start_time": "2022-12-08T08:32:07.309Z"
   },
   {
    "duration": 28,
    "start_time": "2022-12-08T08:32:07.337Z"
   },
   {
    "duration": 8,
    "start_time": "2022-12-08T08:32:07.367Z"
   },
   {
    "duration": 33,
    "start_time": "2022-12-08T08:32:07.377Z"
   },
   {
    "duration": 34,
    "start_time": "2022-12-08T08:32:07.411Z"
   },
   {
    "duration": 29,
    "start_time": "2022-12-08T08:32:07.447Z"
   },
   {
    "duration": 30,
    "start_time": "2022-12-08T08:32:07.478Z"
   },
   {
    "duration": 21,
    "start_time": "2022-12-08T08:32:07.510Z"
   },
   {
    "duration": 25,
    "start_time": "2022-12-08T08:32:07.533Z"
   },
   {
    "duration": 38,
    "start_time": "2022-12-08T08:32:07.560Z"
   },
   {
    "duration": 161,
    "start_time": "2022-12-08T08:32:07.600Z"
   },
   {
    "duration": 3,
    "start_time": "2022-12-08T08:32:07.762Z"
   },
   {
    "duration": 26,
    "start_time": "2022-12-08T08:32:07.767Z"
   },
   {
    "duration": 498,
    "start_time": "2022-12-08T08:32:07.794Z"
   },
   {
    "duration": 106425,
    "start_time": "2022-12-08T08:32:08.294Z"
   },
   {
    "duration": 6382,
    "start_time": "2022-12-08T08:33:54.721Z"
   },
   {
    "duration": 6,
    "start_time": "2022-12-08T08:34:01.106Z"
   },
   {
    "duration": 157,
    "start_time": "2022-12-08T08:34:01.114Z"
   },
   {
    "duration": 581,
    "start_time": "2022-12-08T08:34:01.272Z"
   },
   {
    "duration": 139310,
    "start_time": "2022-12-08T08:34:01.855Z"
   },
   {
    "duration": 5454,
    "start_time": "2022-12-08T08:36:21.167Z"
   },
   {
    "duration": 16,
    "start_time": "2022-12-08T08:36:26.623Z"
   },
   {
    "duration": 111,
    "start_time": "2022-12-08T09:05:03.554Z"
   },
   {
    "duration": 5,
    "start_time": "2022-12-08T09:05:04.932Z"
   },
   {
    "duration": 174,
    "start_time": "2022-12-08T09:05:06.387Z"
   },
   {
    "duration": 125,
    "start_time": "2022-12-08T09:07:10.384Z"
   },
   {
    "duration": 288,
    "start_time": "2022-12-08T09:07:12.372Z"
   },
   {
    "duration": 66568,
    "start_time": "2022-12-08T09:08:57.174Z"
   },
   {
    "duration": 3311,
    "start_time": "2022-12-08T09:12:01.504Z"
   },
   {
    "duration": 71418,
    "start_time": "2022-12-08T09:15:04.287Z"
   },
   {
    "duration": 23,
    "start_time": "2022-12-08T09:27:11.098Z"
   },
   {
    "duration": 25,
    "start_time": "2022-12-08T09:27:35.333Z"
   },
   {
    "duration": 19,
    "start_time": "2022-12-08T09:27:38.441Z"
   },
   {
    "duration": 23,
    "start_time": "2022-12-08T09:30:39.589Z"
   },
   {
    "duration": 21,
    "start_time": "2022-12-08T09:31:29.597Z"
   },
   {
    "duration": 22,
    "start_time": "2022-12-08T09:31:49.811Z"
   },
   {
    "duration": 23,
    "start_time": "2022-12-08T09:31:53.904Z"
   },
   {
    "duration": 18,
    "start_time": "2022-12-08T09:37:56.031Z"
   },
   {
    "duration": 129,
    "start_time": "2022-12-08T09:38:11.868Z"
   },
   {
    "duration": 4,
    "start_time": "2022-12-08T09:39:22.689Z"
   },
   {
    "duration": 125,
    "start_time": "2022-12-08T09:39:26.420Z"
   },
   {
    "duration": 16,
    "start_time": "2022-12-08T09:43:09.045Z"
   },
   {
    "duration": 1245,
    "start_time": "2022-12-08T10:03:22.721Z"
   },
   {
    "duration": 40,
    "start_time": "2022-12-08T10:03:23.968Z"
   },
   {
    "duration": 20,
    "start_time": "2022-12-08T10:03:24.009Z"
   },
   {
    "duration": 11,
    "start_time": "2022-12-08T10:03:24.031Z"
   },
   {
    "duration": 37,
    "start_time": "2022-12-08T10:03:24.043Z"
   },
   {
    "duration": 4,
    "start_time": "2022-12-08T10:03:24.097Z"
   },
   {
    "duration": 15,
    "start_time": "2022-12-08T10:03:24.102Z"
   },
   {
    "duration": 13,
    "start_time": "2022-12-08T10:03:24.119Z"
   },
   {
    "duration": 7,
    "start_time": "2022-12-08T10:03:24.133Z"
   },
   {
    "duration": 15,
    "start_time": "2022-12-08T10:03:24.142Z"
   },
   {
    "duration": 39,
    "start_time": "2022-12-08T10:03:24.158Z"
   },
   {
    "duration": 4,
    "start_time": "2022-12-08T10:03:24.199Z"
   },
   {
    "duration": 23,
    "start_time": "2022-12-08T10:03:24.205Z"
   },
   {
    "duration": 20,
    "start_time": "2022-12-08T10:03:24.229Z"
   },
   {
    "duration": 10,
    "start_time": "2022-12-08T10:03:24.251Z"
   },
   {
    "duration": 11,
    "start_time": "2022-12-08T10:03:24.262Z"
   },
   {
    "duration": 147,
    "start_time": "2022-12-08T10:03:24.274Z"
   },
   {
    "duration": 3,
    "start_time": "2022-12-08T10:03:24.423Z"
   },
   {
    "duration": 11,
    "start_time": "2022-12-08T10:03:24.427Z"
   },
   {
    "duration": 573,
    "start_time": "2022-12-08T10:03:24.440Z"
   },
   {
    "duration": 102889,
    "start_time": "2022-12-08T10:03:25.016Z"
   },
   {
    "duration": 4390,
    "start_time": "2022-12-08T10:05:07.907Z"
   },
   {
    "duration": 3,
    "start_time": "2022-12-08T10:05:12.299Z"
   },
   {
    "duration": 124,
    "start_time": "2022-12-08T10:05:12.304Z"
   },
   {
    "duration": 544,
    "start_time": "2022-12-08T10:05:12.429Z"
   },
   {
    "duration": 134204,
    "start_time": "2022-12-08T10:05:12.975Z"
   },
   {
    "duration": 4820,
    "start_time": "2022-12-08T10:07:27.180Z"
   },
   {
    "duration": 4,
    "start_time": "2022-12-08T10:07:32.003Z"
   },
   {
    "duration": 128,
    "start_time": "2022-12-08T10:07:32.009Z"
   },
   {
    "duration": 296,
    "start_time": "2022-12-08T10:07:32.138Z"
   },
   {
    "duration": 65243,
    "start_time": "2022-12-08T10:07:32.435Z"
   },
   {
    "duration": 3902,
    "start_time": "2022-12-08T10:08:37.680Z"
   },
   {
    "duration": 142,
    "start_time": "2022-12-08T10:08:41.583Z"
   },
   {
    "duration": 15,
    "start_time": "2022-12-08T10:08:41.726Z"
   },
   {
    "duration": 1264,
    "start_time": "2022-12-08T10:32:57.957Z"
   },
   {
    "duration": 42,
    "start_time": "2022-12-08T10:32:59.223Z"
   },
   {
    "duration": 23,
    "start_time": "2022-12-08T10:32:59.266Z"
   },
   {
    "duration": 31,
    "start_time": "2022-12-08T10:32:59.291Z"
   },
   {
    "duration": 42,
    "start_time": "2022-12-08T10:32:59.325Z"
   },
   {
    "duration": 4,
    "start_time": "2022-12-08T10:32:59.369Z"
   },
   {
    "duration": 16,
    "start_time": "2022-12-08T10:32:59.374Z"
   },
   {
    "duration": 17,
    "start_time": "2022-12-08T10:32:59.391Z"
   },
   {
    "duration": 17,
    "start_time": "2022-12-08T10:32:59.410Z"
   },
   {
    "duration": 8,
    "start_time": "2022-12-08T10:32:59.429Z"
   },
   {
    "duration": 34,
    "start_time": "2022-12-08T10:32:59.439Z"
   },
   {
    "duration": 9,
    "start_time": "2022-12-08T10:32:59.475Z"
   },
   {
    "duration": 24,
    "start_time": "2022-12-08T10:32:59.486Z"
   },
   {
    "duration": 42,
    "start_time": "2022-12-08T10:32:59.514Z"
   },
   {
    "duration": 10,
    "start_time": "2022-12-08T10:32:59.558Z"
   },
   {
    "duration": 13,
    "start_time": "2022-12-08T10:32:59.571Z"
   },
   {
    "duration": 145,
    "start_time": "2022-12-08T10:32:59.586Z"
   },
   {
    "duration": 4,
    "start_time": "2022-12-08T10:32:59.732Z"
   },
   {
    "duration": 18,
    "start_time": "2022-12-08T10:32:59.737Z"
   },
   {
    "duration": 533,
    "start_time": "2022-12-08T10:32:59.757Z"
   },
   {
    "duration": 113343,
    "start_time": "2022-12-08T10:33:00.292Z"
   },
   {
    "duration": 3725,
    "start_time": "2022-12-08T10:34:53.637Z"
   },
   {
    "duration": 3,
    "start_time": "2022-12-08T10:34:57.364Z"
   },
   {
    "duration": 138,
    "start_time": "2022-12-08T10:34:57.369Z"
   },
   {
    "duration": 632,
    "start_time": "2022-12-08T10:34:57.509Z"
   },
   {
    "duration": 152280,
    "start_time": "2022-12-08T10:34:58.142Z"
   },
   {
    "duration": 6447,
    "start_time": "2022-12-08T10:37:30.424Z"
   },
   {
    "duration": 5,
    "start_time": "2022-12-08T10:37:36.873Z"
   },
   {
    "duration": 158,
    "start_time": "2022-12-08T10:37:36.881Z"
   },
   {
    "duration": 346,
    "start_time": "2022-12-08T10:37:37.041Z"
   },
   {
    "duration": 72851,
    "start_time": "2022-12-08T10:37:37.389Z"
   },
   {
    "duration": 3317,
    "start_time": "2022-12-08T10:38:50.242Z"
   },
   {
    "duration": 159,
    "start_time": "2022-12-08T10:38:53.561Z"
   },
   {
    "duration": 32,
    "start_time": "2022-12-08T10:38:53.722Z"
   },
   {
    "duration": 1554,
    "start_time": "2022-12-09T08:39:37.666Z"
   },
   {
    "duration": 110,
    "start_time": "2022-12-09T08:41:19.171Z"
   },
   {
    "duration": 1390,
    "start_time": "2022-12-09T08:41:54.652Z"
   },
   {
    "duration": 159,
    "start_time": "2022-12-09T08:41:56.044Z"
   },
   {
    "duration": 22,
    "start_time": "2022-12-09T08:41:56.205Z"
   },
   {
    "duration": 12,
    "start_time": "2022-12-09T08:41:56.229Z"
   },
   {
    "duration": 46,
    "start_time": "2022-12-09T08:41:56.243Z"
   },
   {
    "duration": 4,
    "start_time": "2022-12-09T08:41:56.291Z"
   },
   {
    "duration": 25,
    "start_time": "2022-12-09T08:41:56.296Z"
   },
   {
    "duration": 15,
    "start_time": "2022-12-09T08:41:56.323Z"
   },
   {
    "duration": 7,
    "start_time": "2022-12-09T08:41:56.339Z"
   },
   {
    "duration": 15,
    "start_time": "2022-12-09T08:41:56.348Z"
   },
   {
    "duration": 24,
    "start_time": "2022-12-09T08:41:56.364Z"
   },
   {
    "duration": 13,
    "start_time": "2022-12-09T08:41:56.390Z"
   },
   {
    "duration": 20,
    "start_time": "2022-12-09T08:41:56.405Z"
   },
   {
    "duration": 12,
    "start_time": "2022-12-09T08:41:56.428Z"
   },
   {
    "duration": 37,
    "start_time": "2022-12-09T08:41:56.441Z"
   },
   {
    "duration": 132,
    "start_time": "2022-12-09T08:41:56.480Z"
   },
   {
    "duration": 3,
    "start_time": "2022-12-09T08:41:56.614Z"
   },
   {
    "duration": 10,
    "start_time": "2022-12-09T08:41:56.619Z"
   },
   {
    "duration": 123,
    "start_time": "2022-12-09T08:41:56.631Z"
   },
   {
    "duration": 0,
    "start_time": "2022-12-09T08:41:56.756Z"
   },
   {
    "duration": 0,
    "start_time": "2022-12-09T08:41:56.757Z"
   },
   {
    "duration": 0,
    "start_time": "2022-12-09T08:41:56.758Z"
   },
   {
    "duration": 0,
    "start_time": "2022-12-09T08:41:56.759Z"
   },
   {
    "duration": 0,
    "start_time": "2022-12-09T08:41:56.760Z"
   },
   {
    "duration": 0,
    "start_time": "2022-12-09T08:41:56.761Z"
   },
   {
    "duration": 0,
    "start_time": "2022-12-09T08:41:56.778Z"
   },
   {
    "duration": 0,
    "start_time": "2022-12-09T08:41:56.779Z"
   },
   {
    "duration": 0,
    "start_time": "2022-12-09T08:41:56.780Z"
   },
   {
    "duration": 0,
    "start_time": "2022-12-09T08:41:56.781Z"
   },
   {
    "duration": 0,
    "start_time": "2022-12-09T08:41:56.783Z"
   },
   {
    "duration": 0,
    "start_time": "2022-12-09T08:41:56.784Z"
   },
   {
    "duration": 0,
    "start_time": "2022-12-09T08:41:56.785Z"
   },
   {
    "duration": 0,
    "start_time": "2022-12-09T08:41:56.786Z"
   },
   {
    "duration": 1347,
    "start_time": "2022-12-09T08:45:24.917Z"
   },
   {
    "duration": 40,
    "start_time": "2022-12-09T08:45:26.266Z"
   },
   {
    "duration": 20,
    "start_time": "2022-12-09T08:45:26.308Z"
   },
   {
    "duration": 12,
    "start_time": "2022-12-09T08:45:26.330Z"
   },
   {
    "duration": 45,
    "start_time": "2022-12-09T08:45:26.344Z"
   },
   {
    "duration": 3,
    "start_time": "2022-12-09T08:45:26.391Z"
   },
   {
    "duration": 16,
    "start_time": "2022-12-09T08:45:26.395Z"
   },
   {
    "duration": 13,
    "start_time": "2022-12-09T08:45:26.412Z"
   },
   {
    "duration": 7,
    "start_time": "2022-12-09T08:45:26.426Z"
   },
   {
    "duration": 11,
    "start_time": "2022-12-09T08:45:26.436Z"
   },
   {
    "duration": 40,
    "start_time": "2022-12-09T08:45:26.448Z"
   },
   {
    "duration": 13,
    "start_time": "2022-12-09T08:45:26.489Z"
   },
   {
    "duration": 19,
    "start_time": "2022-12-09T08:45:26.504Z"
   },
   {
    "duration": 13,
    "start_time": "2022-12-09T08:45:26.524Z"
   },
   {
    "duration": 12,
    "start_time": "2022-12-09T08:45:26.538Z"
   },
   {
    "duration": 155,
    "start_time": "2022-12-09T08:45:26.552Z"
   },
   {
    "duration": 2,
    "start_time": "2022-12-09T08:45:26.709Z"
   },
   {
    "duration": 5,
    "start_time": "2022-12-09T08:45:26.713Z"
   },
   {
    "duration": 134,
    "start_time": "2022-12-09T08:45:26.720Z"
   },
   {
    "duration": 1,
    "start_time": "2022-12-09T08:45:26.855Z"
   },
   {
    "duration": 1,
    "start_time": "2022-12-09T08:45:26.856Z"
   },
   {
    "duration": 0,
    "start_time": "2022-12-09T08:45:26.857Z"
   },
   {
    "duration": 0,
    "start_time": "2022-12-09T08:45:26.858Z"
   },
   {
    "duration": 0,
    "start_time": "2022-12-09T08:45:26.859Z"
   },
   {
    "duration": 0,
    "start_time": "2022-12-09T08:45:26.860Z"
   },
   {
    "duration": 0,
    "start_time": "2022-12-09T08:45:26.861Z"
   },
   {
    "duration": 0,
    "start_time": "2022-12-09T08:45:26.862Z"
   },
   {
    "duration": 0,
    "start_time": "2022-12-09T08:45:26.863Z"
   },
   {
    "duration": 0,
    "start_time": "2022-12-09T08:45:26.878Z"
   },
   {
    "duration": 0,
    "start_time": "2022-12-09T08:45:26.879Z"
   },
   {
    "duration": 0,
    "start_time": "2022-12-09T08:45:26.880Z"
   },
   {
    "duration": 0,
    "start_time": "2022-12-09T08:45:26.881Z"
   },
   {
    "duration": 0,
    "start_time": "2022-12-09T08:45:26.882Z"
   },
   {
    "duration": 6,
    "start_time": "2022-12-09T08:47:22.627Z"
   },
   {
    "duration": 19,
    "start_time": "2022-12-09T08:47:57.470Z"
   },
   {
    "duration": 12,
    "start_time": "2022-12-09T08:49:51.592Z"
   },
   {
    "duration": 23,
    "start_time": "2022-12-09T08:49:57.980Z"
   },
   {
    "duration": 1313,
    "start_time": "2022-12-09T08:50:40.526Z"
   },
   {
    "duration": 40,
    "start_time": "2022-12-09T08:50:41.841Z"
   },
   {
    "duration": 25,
    "start_time": "2022-12-09T08:50:41.882Z"
   },
   {
    "duration": 17,
    "start_time": "2022-12-09T08:50:41.909Z"
   },
   {
    "duration": 63,
    "start_time": "2022-12-09T08:50:41.927Z"
   },
   {
    "duration": 4,
    "start_time": "2022-12-09T08:50:41.992Z"
   },
   {
    "duration": 31,
    "start_time": "2022-12-09T08:50:41.998Z"
   },
   {
    "duration": 14,
    "start_time": "2022-12-09T08:50:42.031Z"
   },
   {
    "duration": 12,
    "start_time": "2022-12-09T08:50:42.047Z"
   },
   {
    "duration": 22,
    "start_time": "2022-12-09T08:50:42.061Z"
   },
   {
    "duration": 32,
    "start_time": "2022-12-09T08:50:42.085Z"
   },
   {
    "duration": 23,
    "start_time": "2022-12-09T08:50:42.118Z"
   },
   {
    "duration": 25,
    "start_time": "2022-12-09T08:50:42.143Z"
   },
   {
    "duration": 21,
    "start_time": "2022-12-09T08:50:42.169Z"
   },
   {
    "duration": 16,
    "start_time": "2022-12-09T08:50:42.191Z"
   },
   {
    "duration": 151,
    "start_time": "2022-12-09T08:50:42.208Z"
   },
   {
    "duration": 4,
    "start_time": "2022-12-09T08:50:42.361Z"
   },
   {
    "duration": 20,
    "start_time": "2022-12-09T08:50:42.366Z"
   },
   {
    "duration": 12,
    "start_time": "2022-12-09T08:50:42.387Z"
   },
   {
    "duration": 30,
    "start_time": "2022-12-09T08:50:42.401Z"
   },
   {
    "duration": 138,
    "start_time": "2022-12-09T08:50:42.432Z"
   },
   {
    "duration": 0,
    "start_time": "2022-12-09T08:50:42.572Z"
   },
   {
    "duration": 0,
    "start_time": "2022-12-09T08:50:42.578Z"
   },
   {
    "duration": 0,
    "start_time": "2022-12-09T08:50:42.580Z"
   },
   {
    "duration": 0,
    "start_time": "2022-12-09T08:50:42.581Z"
   },
   {
    "duration": 0,
    "start_time": "2022-12-09T08:50:42.583Z"
   },
   {
    "duration": 0,
    "start_time": "2022-12-09T08:50:42.585Z"
   },
   {
    "duration": 0,
    "start_time": "2022-12-09T08:50:42.586Z"
   },
   {
    "duration": 0,
    "start_time": "2022-12-09T08:50:42.587Z"
   },
   {
    "duration": 0,
    "start_time": "2022-12-09T08:50:42.589Z"
   },
   {
    "duration": 0,
    "start_time": "2022-12-09T08:50:42.590Z"
   },
   {
    "duration": 0,
    "start_time": "2022-12-09T08:50:42.592Z"
   },
   {
    "duration": 0,
    "start_time": "2022-12-09T08:50:42.593Z"
   },
   {
    "duration": 0,
    "start_time": "2022-12-09T08:50:42.595Z"
   },
   {
    "duration": 0,
    "start_time": "2022-12-09T08:50:42.596Z"
   },
   {
    "duration": 1346,
    "start_time": "2022-12-09T08:51:06.918Z"
   },
   {
    "duration": 38,
    "start_time": "2022-12-09T08:51:08.266Z"
   },
   {
    "duration": 21,
    "start_time": "2022-12-09T08:51:08.305Z"
   },
   {
    "duration": 12,
    "start_time": "2022-12-09T08:51:08.328Z"
   },
   {
    "duration": 41,
    "start_time": "2022-12-09T08:51:08.342Z"
   },
   {
    "duration": 3,
    "start_time": "2022-12-09T08:51:08.384Z"
   },
   {
    "duration": 20,
    "start_time": "2022-12-09T08:51:08.388Z"
   },
   {
    "duration": 12,
    "start_time": "2022-12-09T08:51:08.409Z"
   },
   {
    "duration": 15,
    "start_time": "2022-12-09T08:51:08.423Z"
   },
   {
    "duration": 11,
    "start_time": "2022-12-09T08:51:08.440Z"
   },
   {
    "duration": 30,
    "start_time": "2022-12-09T08:51:08.453Z"
   },
   {
    "duration": 33,
    "start_time": "2022-12-09T08:51:08.484Z"
   },
   {
    "duration": 24,
    "start_time": "2022-12-09T08:51:08.519Z"
   },
   {
    "duration": 30,
    "start_time": "2022-12-09T08:51:08.545Z"
   },
   {
    "duration": 16,
    "start_time": "2022-12-09T08:51:08.579Z"
   },
   {
    "duration": 136,
    "start_time": "2022-12-09T08:51:08.597Z"
   },
   {
    "duration": 4,
    "start_time": "2022-12-09T08:51:08.734Z"
   },
   {
    "duration": 17,
    "start_time": "2022-12-09T08:51:08.739Z"
   },
   {
    "duration": 26,
    "start_time": "2022-12-09T08:51:08.758Z"
   },
   {
    "duration": 22,
    "start_time": "2022-12-09T08:51:08.785Z"
   },
   {
    "duration": 474,
    "start_time": "2022-12-09T08:51:08.809Z"
   },
   {
    "duration": 48,
    "start_time": "2022-12-09T08:51:48.399Z"
   },
   {
    "duration": 1339,
    "start_time": "2022-12-09T08:51:56.264Z"
   },
   {
    "duration": 46,
    "start_time": "2022-12-09T08:51:58.948Z"
   },
   {
    "duration": 6,
    "start_time": "2022-12-09T08:52:05.860Z"
   },
   {
    "duration": 15,
    "start_time": "2022-12-09T08:52:07.180Z"
   },
   {
    "duration": 18,
    "start_time": "2022-12-09T08:52:08.696Z"
   },
   {
    "duration": 7,
    "start_time": "2022-12-09T08:52:11.480Z"
   },
   {
    "duration": 8,
    "start_time": "2022-12-09T08:52:12.844Z"
   },
   {
    "duration": 35,
    "start_time": "2022-12-09T08:52:18.861Z"
   },
   {
    "duration": 22,
    "start_time": "2022-12-09T08:52:22.249Z"
   },
   {
    "duration": 10,
    "start_time": "2022-12-09T08:52:26.590Z"
   },
   {
    "duration": 12,
    "start_time": "2022-12-09T08:52:27.678Z"
   },
   {
    "duration": 128,
    "start_time": "2022-12-09T08:52:29.542Z"
   },
   {
    "duration": 5,
    "start_time": "2022-12-09T08:52:36.447Z"
   },
   {
    "duration": 18,
    "start_time": "2022-12-09T08:52:40.009Z"
   },
   {
    "duration": 1202,
    "start_time": "2022-12-09T08:53:35.874Z"
   },
   {
    "duration": 1297,
    "start_time": "2022-12-09T08:54:50.420Z"
   },
   {
    "duration": 40,
    "start_time": "2022-12-09T08:54:51.719Z"
   },
   {
    "duration": 24,
    "start_time": "2022-12-09T08:54:51.760Z"
   },
   {
    "duration": 15,
    "start_time": "2022-12-09T08:54:51.786Z"
   },
   {
    "duration": 63,
    "start_time": "2022-12-09T08:54:51.802Z"
   },
   {
    "duration": 4,
    "start_time": "2022-12-09T08:54:51.867Z"
   },
   {
    "duration": 12,
    "start_time": "2022-12-09T08:54:51.879Z"
   },
   {
    "duration": 17,
    "start_time": "2022-12-09T08:54:51.893Z"
   },
   {
    "duration": 7,
    "start_time": "2022-12-09T08:54:51.912Z"
   },
   {
    "duration": 10,
    "start_time": "2022-12-09T08:54:51.922Z"
   },
   {
    "duration": 45,
    "start_time": "2022-12-09T08:54:51.933Z"
   },
   {
    "duration": 33,
    "start_time": "2022-12-09T08:54:51.982Z"
   },
   {
    "duration": 23,
    "start_time": "2022-12-09T08:54:52.017Z"
   },
   {
    "duration": 12,
    "start_time": "2022-12-09T08:54:52.042Z"
   },
   {
    "duration": 32,
    "start_time": "2022-12-09T08:54:52.056Z"
   },
   {
    "duration": 156,
    "start_time": "2022-12-09T08:54:52.090Z"
   },
   {
    "duration": 3,
    "start_time": "2022-12-09T08:54:52.248Z"
   },
   {
    "duration": 9,
    "start_time": "2022-12-09T08:54:52.252Z"
   },
   {
    "duration": 19,
    "start_time": "2022-12-09T08:54:52.262Z"
   },
   {
    "duration": 32,
    "start_time": "2022-12-09T08:54:52.282Z"
   },
   {
    "duration": 467,
    "start_time": "2022-12-09T08:54:52.316Z"
   },
   {
    "duration": 110648,
    "start_time": "2022-12-09T08:54:52.785Z"
   },
   {
    "duration": 3343,
    "start_time": "2022-12-09T08:56:43.435Z"
   },
   {
    "duration": 3,
    "start_time": "2022-12-09T08:56:46.780Z"
   },
   {
    "duration": 129,
    "start_time": "2022-12-09T08:56:46.785Z"
   },
   {
    "duration": 526,
    "start_time": "2022-12-09T08:56:46.915Z"
   },
   {
    "duration": 7640,
    "start_time": "2022-12-09T08:59:36.418Z"
   },
   {
    "duration": 1338,
    "start_time": "2022-12-09T08:59:50.475Z"
   },
   {
    "duration": 40,
    "start_time": "2022-12-09T09:00:07.162Z"
   },
   {
    "duration": 4,
    "start_time": "2022-12-09T09:00:17.124Z"
   },
   {
    "duration": 13,
    "start_time": "2022-12-09T09:00:18.407Z"
   },
   {
    "duration": 18,
    "start_time": "2022-12-09T09:00:20.624Z"
   },
   {
    "duration": 6,
    "start_time": "2022-12-09T09:00:23.700Z"
   },
   {
    "duration": 9,
    "start_time": "2022-12-09T09:00:24.779Z"
   },
   {
    "duration": 17,
    "start_time": "2022-12-09T09:00:26.812Z"
   },
   {
    "duration": 139,
    "start_time": "2022-12-09T09:00:28.858Z"
   },
   {
    "duration": 2057,
    "start_time": "2022-12-09T09:00:54.739Z"
   },
   {
    "duration": 1174,
    "start_time": "2022-12-09T09:00:56.799Z"
   },
   {
    "duration": 38,
    "start_time": "2022-12-09T09:00:57.975Z"
   },
   {
    "duration": 21,
    "start_time": "2022-12-09T09:00:58.015Z"
   },
   {
    "duration": 12,
    "start_time": "2022-12-09T09:00:58.038Z"
   },
   {
    "duration": 43,
    "start_time": "2022-12-09T09:00:58.052Z"
   },
   {
    "duration": 4,
    "start_time": "2022-12-09T09:00:58.097Z"
   },
   {
    "duration": 18,
    "start_time": "2022-12-09T09:00:58.102Z"
   },
   {
    "duration": 14,
    "start_time": "2022-12-09T09:00:58.122Z"
   },
   {
    "duration": 7,
    "start_time": "2022-12-09T09:00:58.139Z"
   },
   {
    "duration": 41,
    "start_time": "2022-12-09T09:00:58.148Z"
   },
   {
    "duration": 26,
    "start_time": "2022-12-09T09:00:58.191Z"
   },
   {
    "duration": 147,
    "start_time": "2022-12-09T09:00:58.219Z"
   },
   {
    "duration": 0,
    "start_time": "2022-12-09T09:00:58.367Z"
   },
   {
    "duration": 0,
    "start_time": "2022-12-09T09:00:58.369Z"
   },
   {
    "duration": 0,
    "start_time": "2022-12-09T09:00:58.370Z"
   },
   {
    "duration": 0,
    "start_time": "2022-12-09T09:00:58.377Z"
   },
   {
    "duration": 0,
    "start_time": "2022-12-09T09:00:58.379Z"
   },
   {
    "duration": 0,
    "start_time": "2022-12-09T09:00:58.380Z"
   },
   {
    "duration": 0,
    "start_time": "2022-12-09T09:00:58.380Z"
   },
   {
    "duration": 0,
    "start_time": "2022-12-09T09:00:58.381Z"
   },
   {
    "duration": 0,
    "start_time": "2022-12-09T09:00:58.382Z"
   },
   {
    "duration": 0,
    "start_time": "2022-12-09T09:00:58.383Z"
   },
   {
    "duration": 0,
    "start_time": "2022-12-09T09:00:58.384Z"
   },
   {
    "duration": 0,
    "start_time": "2022-12-09T09:00:58.385Z"
   },
   {
    "duration": 0,
    "start_time": "2022-12-09T09:00:58.386Z"
   },
   {
    "duration": 0,
    "start_time": "2022-12-09T09:00:58.388Z"
   },
   {
    "duration": 0,
    "start_time": "2022-12-09T09:00:58.389Z"
   },
   {
    "duration": 0,
    "start_time": "2022-12-09T09:00:58.391Z"
   },
   {
    "duration": 0,
    "start_time": "2022-12-09T09:00:58.392Z"
   },
   {
    "duration": 0,
    "start_time": "2022-12-09T09:00:58.393Z"
   },
   {
    "duration": 0,
    "start_time": "2022-12-09T09:00:58.395Z"
   },
   {
    "duration": 0,
    "start_time": "2022-12-09T09:00:58.396Z"
   },
   {
    "duration": 0,
    "start_time": "2022-12-09T09:00:58.397Z"
   },
   {
    "duration": 4,
    "start_time": "2022-12-09T09:02:12.519Z"
   },
   {
    "duration": 1986,
    "start_time": "2022-12-09T09:02:17.217Z"
   },
   {
    "duration": 2142,
    "start_time": "2022-12-09T09:02:19.206Z"
   },
   {
    "duration": 41,
    "start_time": "2022-12-09T09:02:21.350Z"
   },
   {
    "duration": 24,
    "start_time": "2022-12-09T09:02:21.393Z"
   },
   {
    "duration": 14,
    "start_time": "2022-12-09T09:02:21.419Z"
   },
   {
    "duration": 60,
    "start_time": "2022-12-09T09:02:21.435Z"
   },
   {
    "duration": 4,
    "start_time": "2022-12-09T09:02:21.497Z"
   },
   {
    "duration": 22,
    "start_time": "2022-12-09T09:02:21.502Z"
   },
   {
    "duration": 15,
    "start_time": "2022-12-09T09:02:21.525Z"
   },
   {
    "duration": 7,
    "start_time": "2022-12-09T09:02:21.543Z"
   },
   {
    "duration": 30,
    "start_time": "2022-12-09T09:02:21.552Z"
   },
   {
    "duration": 42,
    "start_time": "2022-12-09T09:02:21.584Z"
   },
   {
    "duration": 159,
    "start_time": "2022-12-09T09:02:21.628Z"
   },
   {
    "duration": 0,
    "start_time": "2022-12-09T09:02:21.789Z"
   },
   {
    "duration": 0,
    "start_time": "2022-12-09T09:02:21.790Z"
   },
   {
    "duration": 0,
    "start_time": "2022-12-09T09:02:21.792Z"
   },
   {
    "duration": 0,
    "start_time": "2022-12-09T09:02:21.793Z"
   },
   {
    "duration": 0,
    "start_time": "2022-12-09T09:02:21.794Z"
   },
   {
    "duration": 0,
    "start_time": "2022-12-09T09:02:21.796Z"
   },
   {
    "duration": 0,
    "start_time": "2022-12-09T09:02:21.797Z"
   },
   {
    "duration": 0,
    "start_time": "2022-12-09T09:02:21.798Z"
   },
   {
    "duration": 0,
    "start_time": "2022-12-09T09:02:21.799Z"
   },
   {
    "duration": 0,
    "start_time": "2022-12-09T09:02:21.800Z"
   },
   {
    "duration": 0,
    "start_time": "2022-12-09T09:02:21.801Z"
   },
   {
    "duration": 0,
    "start_time": "2022-12-09T09:02:21.802Z"
   },
   {
    "duration": 1,
    "start_time": "2022-12-09T09:02:21.803Z"
   },
   {
    "duration": 0,
    "start_time": "2022-12-09T09:02:21.805Z"
   },
   {
    "duration": 0,
    "start_time": "2022-12-09T09:02:21.805Z"
   },
   {
    "duration": 0,
    "start_time": "2022-12-09T09:02:21.806Z"
   },
   {
    "duration": 0,
    "start_time": "2022-12-09T09:02:21.808Z"
   },
   {
    "duration": 0,
    "start_time": "2022-12-09T09:02:21.808Z"
   },
   {
    "duration": 0,
    "start_time": "2022-12-09T09:02:21.809Z"
   },
   {
    "duration": 0,
    "start_time": "2022-12-09T09:02:21.810Z"
   },
   {
    "duration": 0,
    "start_time": "2022-12-09T09:02:21.812Z"
   },
   {
    "duration": 1241,
    "start_time": "2022-12-09T09:04:28.307Z"
   },
   {
    "duration": 39,
    "start_time": "2022-12-09T09:04:29.550Z"
   },
   {
    "duration": 22,
    "start_time": "2022-12-09T09:04:29.591Z"
   },
   {
    "duration": 47,
    "start_time": "2022-12-09T09:04:29.615Z"
   },
   {
    "duration": 73,
    "start_time": "2022-12-09T09:04:29.664Z"
   },
   {
    "duration": 14,
    "start_time": "2022-12-09T09:04:29.739Z"
   },
   {
    "duration": 48,
    "start_time": "2022-12-09T09:04:29.754Z"
   },
   {
    "duration": 28,
    "start_time": "2022-12-09T09:04:29.804Z"
   },
   {
    "duration": 28,
    "start_time": "2022-12-09T09:04:29.833Z"
   },
   {
    "duration": 26,
    "start_time": "2022-12-09T09:04:29.863Z"
   },
   {
    "duration": 67,
    "start_time": "2022-12-09T09:04:29.891Z"
   },
   {
    "duration": 124,
    "start_time": "2022-12-09T09:04:29.959Z"
   },
   {
    "duration": 0,
    "start_time": "2022-12-09T09:04:30.084Z"
   },
   {
    "duration": 0,
    "start_time": "2022-12-09T09:04:30.086Z"
   },
   {
    "duration": 0,
    "start_time": "2022-12-09T09:04:30.087Z"
   },
   {
    "duration": 0,
    "start_time": "2022-12-09T09:04:30.088Z"
   },
   {
    "duration": 0,
    "start_time": "2022-12-09T09:04:30.089Z"
   },
   {
    "duration": 0,
    "start_time": "2022-12-09T09:04:30.090Z"
   },
   {
    "duration": 0,
    "start_time": "2022-12-09T09:04:30.091Z"
   },
   {
    "duration": 0,
    "start_time": "2022-12-09T09:04:30.092Z"
   },
   {
    "duration": 0,
    "start_time": "2022-12-09T09:04:30.093Z"
   },
   {
    "duration": 0,
    "start_time": "2022-12-09T09:04:30.095Z"
   },
   {
    "duration": 0,
    "start_time": "2022-12-09T09:04:30.096Z"
   },
   {
    "duration": 0,
    "start_time": "2022-12-09T09:04:30.097Z"
   },
   {
    "duration": 0,
    "start_time": "2022-12-09T09:04:30.098Z"
   },
   {
    "duration": 0,
    "start_time": "2022-12-09T09:04:30.099Z"
   },
   {
    "duration": 0,
    "start_time": "2022-12-09T09:04:30.100Z"
   },
   {
    "duration": 0,
    "start_time": "2022-12-09T09:04:30.101Z"
   },
   {
    "duration": 0,
    "start_time": "2022-12-09T09:04:30.102Z"
   },
   {
    "duration": 0,
    "start_time": "2022-12-09T09:04:30.103Z"
   },
   {
    "duration": 0,
    "start_time": "2022-12-09T09:04:30.104Z"
   },
   {
    "duration": 0,
    "start_time": "2022-12-09T09:04:30.104Z"
   },
   {
    "duration": 0,
    "start_time": "2022-12-09T09:04:30.105Z"
   },
   {
    "duration": 6,
    "start_time": "2022-12-09T09:06:31.306Z"
   },
   {
    "duration": 28,
    "start_time": "2022-12-09T09:06:38.638Z"
   },
   {
    "duration": 28,
    "start_time": "2022-12-09T09:07:13.151Z"
   },
   {
    "duration": 44,
    "start_time": "2022-12-09T09:10:34.931Z"
   },
   {
    "duration": 4,
    "start_time": "2022-12-09T09:11:11.195Z"
   },
   {
    "duration": 1176,
    "start_time": "2022-12-09T09:11:16.767Z"
   },
   {
    "duration": 39,
    "start_time": "2022-12-09T09:11:17.945Z"
   },
   {
    "duration": 22,
    "start_time": "2022-12-09T09:11:17.986Z"
   },
   {
    "duration": 13,
    "start_time": "2022-12-09T09:11:18.011Z"
   },
   {
    "duration": 63,
    "start_time": "2022-12-09T09:11:18.025Z"
   },
   {
    "duration": 3,
    "start_time": "2022-12-09T09:11:18.090Z"
   },
   {
    "duration": 14,
    "start_time": "2022-12-09T09:11:18.095Z"
   },
   {
    "duration": 13,
    "start_time": "2022-12-09T09:11:18.111Z"
   },
   {
    "duration": 8,
    "start_time": "2022-12-09T09:11:18.126Z"
   },
   {
    "duration": 8,
    "start_time": "2022-12-09T09:11:18.137Z"
   },
   {
    "duration": 48,
    "start_time": "2022-12-09T09:11:18.147Z"
   },
   {
    "duration": 137,
    "start_time": "2022-12-09T09:11:18.197Z"
   },
   {
    "duration": 0,
    "start_time": "2022-12-09T09:11:18.337Z"
   },
   {
    "duration": 0,
    "start_time": "2022-12-09T09:11:18.338Z"
   },
   {
    "duration": 0,
    "start_time": "2022-12-09T09:11:18.340Z"
   },
   {
    "duration": 0,
    "start_time": "2022-12-09T09:11:18.341Z"
   },
   {
    "duration": 0,
    "start_time": "2022-12-09T09:11:18.342Z"
   },
   {
    "duration": 0,
    "start_time": "2022-12-09T09:11:18.344Z"
   },
   {
    "duration": 0,
    "start_time": "2022-12-09T09:11:18.345Z"
   },
   {
    "duration": 0,
    "start_time": "2022-12-09T09:11:18.347Z"
   },
   {
    "duration": 0,
    "start_time": "2022-12-09T09:11:18.348Z"
   },
   {
    "duration": 0,
    "start_time": "2022-12-09T09:11:18.350Z"
   },
   {
    "duration": 0,
    "start_time": "2022-12-09T09:11:18.352Z"
   },
   {
    "duration": 0,
    "start_time": "2022-12-09T09:11:18.377Z"
   },
   {
    "duration": 0,
    "start_time": "2022-12-09T09:11:18.379Z"
   },
   {
    "duration": 0,
    "start_time": "2022-12-09T09:11:18.380Z"
   },
   {
    "duration": 0,
    "start_time": "2022-12-09T09:11:18.382Z"
   },
   {
    "duration": 0,
    "start_time": "2022-12-09T09:11:18.384Z"
   },
   {
    "duration": 0,
    "start_time": "2022-12-09T09:11:18.385Z"
   },
   {
    "duration": 0,
    "start_time": "2022-12-09T09:11:18.387Z"
   },
   {
    "duration": 0,
    "start_time": "2022-12-09T09:11:18.388Z"
   },
   {
    "duration": 0,
    "start_time": "2022-12-09T09:11:18.390Z"
   },
   {
    "duration": 0,
    "start_time": "2022-12-09T09:11:18.391Z"
   },
   {
    "duration": 26,
    "start_time": "2022-12-09T09:11:40.210Z"
   },
   {
    "duration": 4,
    "start_time": "2022-12-09T09:12:31.887Z"
   },
   {
    "duration": 29,
    "start_time": "2022-12-09T09:12:36.288Z"
   },
   {
    "duration": 12150,
    "start_time": "2022-12-09T09:13:54.704Z"
   },
   {
    "duration": 4,
    "start_time": "2022-12-09T09:14:10.298Z"
   },
   {
    "duration": 32,
    "start_time": "2022-12-09T09:14:15.413Z"
   },
   {
    "duration": 23,
    "start_time": "2022-12-09T09:14:17.757Z"
   },
   {
    "duration": 2006,
    "start_time": "2022-12-09T09:14:26.328Z"
   },
   {
    "duration": 1119,
    "start_time": "2022-12-09T09:14:28.336Z"
   },
   {
    "duration": 39,
    "start_time": "2022-12-09T09:14:29.456Z"
   },
   {
    "duration": 21,
    "start_time": "2022-12-09T09:14:29.498Z"
   },
   {
    "duration": 26,
    "start_time": "2022-12-09T09:14:29.521Z"
   },
   {
    "duration": 46,
    "start_time": "2022-12-09T09:14:29.549Z"
   },
   {
    "duration": 4,
    "start_time": "2022-12-09T09:14:29.597Z"
   },
   {
    "duration": 40,
    "start_time": "2022-12-09T09:14:29.602Z"
   },
   {
    "duration": 29,
    "start_time": "2022-12-09T09:14:29.644Z"
   },
   {
    "duration": 24,
    "start_time": "2022-12-09T09:14:29.676Z"
   },
   {
    "duration": 41,
    "start_time": "2022-12-09T09:14:29.702Z"
   },
   {
    "duration": 30,
    "start_time": "2022-12-09T09:14:29.745Z"
   },
   {
    "duration": 139,
    "start_time": "2022-12-09T09:14:29.776Z"
   },
   {
    "duration": 0,
    "start_time": "2022-12-09T09:14:29.917Z"
   },
   {
    "duration": 0,
    "start_time": "2022-12-09T09:14:29.919Z"
   },
   {
    "duration": 0,
    "start_time": "2022-12-09T09:14:29.920Z"
   },
   {
    "duration": 0,
    "start_time": "2022-12-09T09:14:29.922Z"
   },
   {
    "duration": 0,
    "start_time": "2022-12-09T09:14:29.924Z"
   },
   {
    "duration": 0,
    "start_time": "2022-12-09T09:14:29.925Z"
   },
   {
    "duration": 0,
    "start_time": "2022-12-09T09:14:29.927Z"
   },
   {
    "duration": 0,
    "start_time": "2022-12-09T09:14:29.928Z"
   },
   {
    "duration": 0,
    "start_time": "2022-12-09T09:14:29.930Z"
   },
   {
    "duration": 0,
    "start_time": "2022-12-09T09:14:29.931Z"
   },
   {
    "duration": 0,
    "start_time": "2022-12-09T09:14:29.933Z"
   },
   {
    "duration": 0,
    "start_time": "2022-12-09T09:14:29.934Z"
   },
   {
    "duration": 0,
    "start_time": "2022-12-09T09:14:29.935Z"
   },
   {
    "duration": 0,
    "start_time": "2022-12-09T09:14:29.936Z"
   },
   {
    "duration": 0,
    "start_time": "2022-12-09T09:14:29.937Z"
   },
   {
    "duration": 0,
    "start_time": "2022-12-09T09:14:29.939Z"
   },
   {
    "duration": 0,
    "start_time": "2022-12-09T09:14:29.940Z"
   },
   {
    "duration": 0,
    "start_time": "2022-12-09T09:14:29.941Z"
   },
   {
    "duration": 0,
    "start_time": "2022-12-09T09:14:29.942Z"
   },
   {
    "duration": 0,
    "start_time": "2022-12-09T09:14:29.943Z"
   },
   {
    "duration": 0,
    "start_time": "2022-12-09T09:14:29.944Z"
   },
   {
    "duration": 685,
    "start_time": "2022-12-09T09:15:58.813Z"
   },
   {
    "duration": 804,
    "start_time": "2022-12-09T09:16:02.240Z"
   },
   {
    "duration": 774,
    "start_time": "2022-12-09T09:16:08.506Z"
   },
   {
    "duration": 957,
    "start_time": "2022-12-09T09:16:23.837Z"
   },
   {
    "duration": 858,
    "start_time": "2022-12-09T09:17:37.627Z"
   },
   {
    "duration": 1246,
    "start_time": "2022-12-09T09:17:38.488Z"
   },
   {
    "duration": 38,
    "start_time": "2022-12-09T09:17:39.736Z"
   },
   {
    "duration": 21,
    "start_time": "2022-12-09T09:17:39.776Z"
   },
   {
    "duration": 15,
    "start_time": "2022-12-09T09:17:39.799Z"
   },
   {
    "duration": 44,
    "start_time": "2022-12-09T09:17:39.816Z"
   },
   {
    "duration": 18,
    "start_time": "2022-12-09T09:17:39.862Z"
   },
   {
    "duration": 16,
    "start_time": "2022-12-09T09:17:39.882Z"
   },
   {
    "duration": 14,
    "start_time": "2022-12-09T09:17:39.900Z"
   },
   {
    "duration": 7,
    "start_time": "2022-12-09T09:17:39.916Z"
   },
   {
    "duration": 12,
    "start_time": "2022-12-09T09:17:39.924Z"
   },
   {
    "duration": 44,
    "start_time": "2022-12-09T09:17:39.937Z"
   },
   {
    "duration": 126,
    "start_time": "2022-12-09T09:17:39.983Z"
   },
   {
    "duration": 0,
    "start_time": "2022-12-09T09:17:40.111Z"
   },
   {
    "duration": 0,
    "start_time": "2022-12-09T09:17:40.112Z"
   },
   {
    "duration": 0,
    "start_time": "2022-12-09T09:17:40.113Z"
   },
   {
    "duration": 0,
    "start_time": "2022-12-09T09:17:40.115Z"
   },
   {
    "duration": 0,
    "start_time": "2022-12-09T09:17:40.116Z"
   },
   {
    "duration": 0,
    "start_time": "2022-12-09T09:17:40.117Z"
   },
   {
    "duration": 0,
    "start_time": "2022-12-09T09:17:40.118Z"
   },
   {
    "duration": 0,
    "start_time": "2022-12-09T09:17:40.119Z"
   },
   {
    "duration": 0,
    "start_time": "2022-12-09T09:17:40.120Z"
   },
   {
    "duration": 0,
    "start_time": "2022-12-09T09:17:40.121Z"
   },
   {
    "duration": 0,
    "start_time": "2022-12-09T09:17:40.122Z"
   },
   {
    "duration": 0,
    "start_time": "2022-12-09T09:17:40.123Z"
   },
   {
    "duration": 0,
    "start_time": "2022-12-09T09:17:40.124Z"
   },
   {
    "duration": 0,
    "start_time": "2022-12-09T09:17:40.125Z"
   },
   {
    "duration": 0,
    "start_time": "2022-12-09T09:17:40.126Z"
   },
   {
    "duration": 0,
    "start_time": "2022-12-09T09:17:40.127Z"
   },
   {
    "duration": 0,
    "start_time": "2022-12-09T09:17:40.129Z"
   },
   {
    "duration": 0,
    "start_time": "2022-12-09T09:17:40.130Z"
   },
   {
    "duration": 0,
    "start_time": "2022-12-09T09:17:40.131Z"
   },
   {
    "duration": 0,
    "start_time": "2022-12-09T09:17:40.133Z"
   },
   {
    "duration": 0,
    "start_time": "2022-12-09T09:17:40.134Z"
   },
   {
    "duration": 1265,
    "start_time": "2022-12-09T09:19:26.919Z"
   },
   {
    "duration": 39,
    "start_time": "2022-12-09T09:19:28.186Z"
   },
   {
    "duration": 20,
    "start_time": "2022-12-09T09:19:28.227Z"
   },
   {
    "duration": 20,
    "start_time": "2022-12-09T09:19:28.249Z"
   },
   {
    "duration": 40,
    "start_time": "2022-12-09T09:19:28.271Z"
   },
   {
    "duration": 4,
    "start_time": "2022-12-09T09:19:28.312Z"
   },
   {
    "duration": 22,
    "start_time": "2022-12-09T09:19:28.318Z"
   },
   {
    "duration": 17,
    "start_time": "2022-12-09T09:19:28.342Z"
   },
   {
    "duration": 20,
    "start_time": "2022-12-09T09:19:28.361Z"
   },
   {
    "duration": 8,
    "start_time": "2022-12-09T09:19:28.384Z"
   },
   {
    "duration": 19,
    "start_time": "2022-12-09T09:19:28.393Z"
   },
   {
    "duration": 132,
    "start_time": "2022-12-09T09:19:28.414Z"
   },
   {
    "duration": 0,
    "start_time": "2022-12-09T09:19:28.548Z"
   },
   {
    "duration": 0,
    "start_time": "2022-12-09T09:19:28.550Z"
   },
   {
    "duration": 0,
    "start_time": "2022-12-09T09:19:28.551Z"
   },
   {
    "duration": 0,
    "start_time": "2022-12-09T09:19:28.552Z"
   },
   {
    "duration": 0,
    "start_time": "2022-12-09T09:19:28.553Z"
   },
   {
    "duration": 0,
    "start_time": "2022-12-09T09:19:28.554Z"
   },
   {
    "duration": 0,
    "start_time": "2022-12-09T09:19:28.555Z"
   },
   {
    "duration": 0,
    "start_time": "2022-12-09T09:19:28.557Z"
   },
   {
    "duration": 0,
    "start_time": "2022-12-09T09:19:28.557Z"
   },
   {
    "duration": 0,
    "start_time": "2022-12-09T09:19:28.559Z"
   },
   {
    "duration": 0,
    "start_time": "2022-12-09T09:19:28.560Z"
   },
   {
    "duration": 0,
    "start_time": "2022-12-09T09:19:28.578Z"
   },
   {
    "duration": 0,
    "start_time": "2022-12-09T09:19:28.580Z"
   },
   {
    "duration": 0,
    "start_time": "2022-12-09T09:19:28.581Z"
   },
   {
    "duration": 0,
    "start_time": "2022-12-09T09:19:28.582Z"
   },
   {
    "duration": 0,
    "start_time": "2022-12-09T09:19:28.583Z"
   },
   {
    "duration": 0,
    "start_time": "2022-12-09T09:19:28.584Z"
   },
   {
    "duration": 0,
    "start_time": "2022-12-09T09:19:28.585Z"
   },
   {
    "duration": 0,
    "start_time": "2022-12-09T09:19:28.586Z"
   },
   {
    "duration": 0,
    "start_time": "2022-12-09T09:19:28.587Z"
   },
   {
    "duration": 0,
    "start_time": "2022-12-09T09:19:28.588Z"
   },
   {
    "duration": 1186,
    "start_time": "2022-12-09T09:22:11.255Z"
   },
   {
    "duration": 38,
    "start_time": "2022-12-09T09:22:12.443Z"
   },
   {
    "duration": 23,
    "start_time": "2022-12-09T09:22:12.483Z"
   },
   {
    "duration": 28,
    "start_time": "2022-12-09T09:22:12.508Z"
   },
   {
    "duration": 54,
    "start_time": "2022-12-09T09:22:12.538Z"
   },
   {
    "duration": 4,
    "start_time": "2022-12-09T09:22:12.594Z"
   },
   {
    "duration": 31,
    "start_time": "2022-12-09T09:22:12.599Z"
   },
   {
    "duration": 30,
    "start_time": "2022-12-09T09:22:12.631Z"
   },
   {
    "duration": 38,
    "start_time": "2022-12-09T09:22:12.662Z"
   },
   {
    "duration": 25,
    "start_time": "2022-12-09T09:22:12.703Z"
   },
   {
    "duration": 18,
    "start_time": "2022-12-09T09:22:12.730Z"
   },
   {
    "duration": 143,
    "start_time": "2022-12-09T09:22:12.750Z"
   },
   {
    "duration": 0,
    "start_time": "2022-12-09T09:22:12.894Z"
   },
   {
    "duration": 0,
    "start_time": "2022-12-09T09:22:12.896Z"
   },
   {
    "duration": 0,
    "start_time": "2022-12-09T09:22:12.897Z"
   },
   {
    "duration": 0,
    "start_time": "2022-12-09T09:22:12.898Z"
   },
   {
    "duration": 0,
    "start_time": "2022-12-09T09:22:12.899Z"
   },
   {
    "duration": 0,
    "start_time": "2022-12-09T09:22:12.900Z"
   },
   {
    "duration": 0,
    "start_time": "2022-12-09T09:22:12.902Z"
   },
   {
    "duration": 0,
    "start_time": "2022-12-09T09:22:12.902Z"
   },
   {
    "duration": 0,
    "start_time": "2022-12-09T09:22:12.903Z"
   },
   {
    "duration": 0,
    "start_time": "2022-12-09T09:22:12.904Z"
   },
   {
    "duration": 0,
    "start_time": "2022-12-09T09:22:12.905Z"
   },
   {
    "duration": 0,
    "start_time": "2022-12-09T09:22:12.906Z"
   },
   {
    "duration": 0,
    "start_time": "2022-12-09T09:22:12.907Z"
   },
   {
    "duration": 0,
    "start_time": "2022-12-09T09:22:12.908Z"
   },
   {
    "duration": 0,
    "start_time": "2022-12-09T09:22:12.909Z"
   },
   {
    "duration": 0,
    "start_time": "2022-12-09T09:22:12.910Z"
   },
   {
    "duration": 0,
    "start_time": "2022-12-09T09:22:12.911Z"
   },
   {
    "duration": 0,
    "start_time": "2022-12-09T09:22:12.912Z"
   },
   {
    "duration": 0,
    "start_time": "2022-12-09T09:22:12.913Z"
   },
   {
    "duration": 0,
    "start_time": "2022-12-09T09:22:12.914Z"
   },
   {
    "duration": 1469,
    "start_time": "2022-12-09T14:46:50.332Z"
   },
   {
    "duration": 152,
    "start_time": "2022-12-09T14:46:51.803Z"
   },
   {
    "duration": 22,
    "start_time": "2022-12-09T14:46:51.956Z"
   },
   {
    "duration": 27,
    "start_time": "2022-12-09T14:46:51.980Z"
   },
   {
    "duration": 49,
    "start_time": "2022-12-09T14:46:52.008Z"
   },
   {
    "duration": 4,
    "start_time": "2022-12-09T14:46:52.059Z"
   },
   {
    "duration": 34,
    "start_time": "2022-12-09T14:46:52.065Z"
   },
   {
    "duration": 29,
    "start_time": "2022-12-09T14:46:52.100Z"
   },
   {
    "duration": 34,
    "start_time": "2022-12-09T14:46:52.131Z"
   },
   {
    "duration": 18,
    "start_time": "2022-12-09T14:46:52.168Z"
   },
   {
    "duration": 54,
    "start_time": "2022-12-09T14:46:52.188Z"
   },
   {
    "duration": 60,
    "start_time": "2022-12-09T14:46:52.244Z"
   },
   {
    "duration": 22,
    "start_time": "2022-12-09T14:46:52.306Z"
   },
   {
    "duration": 35,
    "start_time": "2022-12-09T14:46:52.330Z"
   },
   {
    "duration": 138,
    "start_time": "2022-12-09T14:46:52.367Z"
   },
   {
    "duration": 3,
    "start_time": "2022-12-09T14:46:52.507Z"
   },
   {
    "duration": 18,
    "start_time": "2022-12-09T14:46:52.522Z"
   },
   {
    "duration": 160,
    "start_time": "2022-12-09T14:46:52.541Z"
   },
   {
    "duration": 0,
    "start_time": "2022-12-09T14:46:52.703Z"
   },
   {
    "duration": 0,
    "start_time": "2022-12-09T14:46:52.705Z"
   },
   {
    "duration": 0,
    "start_time": "2022-12-09T14:46:52.706Z"
   },
   {
    "duration": 0,
    "start_time": "2022-12-09T14:46:52.707Z"
   },
   {
    "duration": 0,
    "start_time": "2022-12-09T14:46:52.708Z"
   },
   {
    "duration": 0,
    "start_time": "2022-12-09T14:46:52.710Z"
   },
   {
    "duration": 0,
    "start_time": "2022-12-09T14:46:52.722Z"
   },
   {
    "duration": 0,
    "start_time": "2022-12-09T14:46:52.723Z"
   },
   {
    "duration": 0,
    "start_time": "2022-12-09T14:46:52.725Z"
   },
   {
    "duration": 0,
    "start_time": "2022-12-09T14:46:52.726Z"
   },
   {
    "duration": 0,
    "start_time": "2022-12-09T14:46:52.728Z"
   },
   {
    "duration": 0,
    "start_time": "2022-12-09T14:46:52.730Z"
   },
   {
    "duration": 0,
    "start_time": "2022-12-09T14:46:52.731Z"
   },
   {
    "duration": 0,
    "start_time": "2022-12-09T14:46:52.733Z"
   },
   {
    "duration": 1389,
    "start_time": "2022-12-09T14:48:17.384Z"
   },
   {
    "duration": 41,
    "start_time": "2022-12-09T14:48:18.776Z"
   },
   {
    "duration": 23,
    "start_time": "2022-12-09T14:48:18.818Z"
   },
   {
    "duration": 13,
    "start_time": "2022-12-09T14:48:18.844Z"
   },
   {
    "duration": 63,
    "start_time": "2022-12-09T14:48:18.859Z"
   },
   {
    "duration": 4,
    "start_time": "2022-12-09T14:48:18.924Z"
   },
   {
    "duration": 34,
    "start_time": "2022-12-09T14:48:18.929Z"
   },
   {
    "duration": 14,
    "start_time": "2022-12-09T14:48:18.965Z"
   },
   {
    "duration": 15,
    "start_time": "2022-12-09T14:48:18.981Z"
   },
   {
    "duration": 19,
    "start_time": "2022-12-09T14:48:19.000Z"
   },
   {
    "duration": 61,
    "start_time": "2022-12-09T14:48:19.021Z"
   },
   {
    "duration": 32,
    "start_time": "2022-12-09T14:48:19.084Z"
   },
   {
    "duration": 33,
    "start_time": "2022-12-09T14:48:19.118Z"
   },
   {
    "duration": 28,
    "start_time": "2022-12-09T14:48:19.153Z"
   },
   {
    "duration": 153,
    "start_time": "2022-12-09T14:48:19.183Z"
   },
   {
    "duration": 3,
    "start_time": "2022-12-09T14:48:19.338Z"
   },
   {
    "duration": 13,
    "start_time": "2022-12-09T14:48:19.343Z"
   },
   {
    "duration": 143,
    "start_time": "2022-12-09T14:48:19.357Z"
   },
   {
    "duration": 0,
    "start_time": "2022-12-09T14:48:19.502Z"
   },
   {
    "duration": 0,
    "start_time": "2022-12-09T14:48:19.503Z"
   },
   {
    "duration": 0,
    "start_time": "2022-12-09T14:48:19.504Z"
   },
   {
    "duration": 0,
    "start_time": "2022-12-09T14:48:19.505Z"
   },
   {
    "duration": 0,
    "start_time": "2022-12-09T14:48:19.506Z"
   },
   {
    "duration": 0,
    "start_time": "2022-12-09T14:48:19.523Z"
   },
   {
    "duration": 0,
    "start_time": "2022-12-09T14:48:19.524Z"
   },
   {
    "duration": 0,
    "start_time": "2022-12-09T14:48:19.525Z"
   },
   {
    "duration": 0,
    "start_time": "2022-12-09T14:48:19.526Z"
   },
   {
    "duration": 0,
    "start_time": "2022-12-09T14:48:19.527Z"
   },
   {
    "duration": 0,
    "start_time": "2022-12-09T14:48:19.528Z"
   },
   {
    "duration": 0,
    "start_time": "2022-12-09T14:48:19.529Z"
   },
   {
    "duration": 0,
    "start_time": "2022-12-09T14:48:19.530Z"
   },
   {
    "duration": 0,
    "start_time": "2022-12-09T14:48:19.531Z"
   },
   {
    "duration": 19,
    "start_time": "2022-12-09T14:52:59.976Z"
   },
   {
    "duration": 17,
    "start_time": "2022-12-09T14:53:14.391Z"
   },
   {
    "duration": 20,
    "start_time": "2022-12-09T14:53:40.883Z"
   },
   {
    "duration": 1642,
    "start_time": "2022-12-10T12:44:11.622Z"
   },
   {
    "duration": 90,
    "start_time": "2022-12-10T12:44:13.266Z"
   },
   {
    "duration": 24,
    "start_time": "2022-12-10T12:44:13.358Z"
   },
   {
    "duration": 19,
    "start_time": "2022-12-10T12:44:13.385Z"
   },
   {
    "duration": 60,
    "start_time": "2022-12-10T12:44:13.406Z"
   },
   {
    "duration": 4,
    "start_time": "2022-12-10T12:44:13.467Z"
   },
   {
    "duration": 27,
    "start_time": "2022-12-10T12:44:13.472Z"
   },
   {
    "duration": 16,
    "start_time": "2022-12-10T12:44:13.501Z"
   },
   {
    "duration": 24,
    "start_time": "2022-12-10T12:44:13.518Z"
   },
   {
    "duration": 18,
    "start_time": "2022-12-10T12:44:13.545Z"
   },
   {
    "duration": 27,
    "start_time": "2022-12-10T12:44:13.565Z"
   },
   {
    "duration": 26,
    "start_time": "2022-12-10T12:44:13.594Z"
   },
   {
    "duration": 25,
    "start_time": "2022-12-10T12:44:13.622Z"
   },
   {
    "duration": 36,
    "start_time": "2022-12-10T12:44:13.649Z"
   },
   {
    "duration": 152,
    "start_time": "2022-12-10T12:44:13.687Z"
   },
   {
    "duration": 4,
    "start_time": "2022-12-10T12:44:13.841Z"
   },
   {
    "duration": 14,
    "start_time": "2022-12-10T12:44:13.846Z"
   },
   {
    "duration": 153,
    "start_time": "2022-12-10T12:44:13.863Z"
   },
   {
    "duration": 0,
    "start_time": "2022-12-10T12:44:14.018Z"
   },
   {
    "duration": 0,
    "start_time": "2022-12-10T12:44:14.020Z"
   },
   {
    "duration": 0,
    "start_time": "2022-12-10T12:44:14.021Z"
   },
   {
    "duration": 0,
    "start_time": "2022-12-10T12:44:14.023Z"
   },
   {
    "duration": 0,
    "start_time": "2022-12-10T12:44:14.024Z"
   },
   {
    "duration": 0,
    "start_time": "2022-12-10T12:44:14.026Z"
   },
   {
    "duration": 0,
    "start_time": "2022-12-10T12:44:14.027Z"
   },
   {
    "duration": 0,
    "start_time": "2022-12-10T12:44:14.035Z"
   },
   {
    "duration": 0,
    "start_time": "2022-12-10T12:44:14.037Z"
   },
   {
    "duration": 0,
    "start_time": "2022-12-10T12:44:14.038Z"
   },
   {
    "duration": 0,
    "start_time": "2022-12-10T12:44:14.040Z"
   },
   {
    "duration": 0,
    "start_time": "2022-12-10T12:44:14.041Z"
   },
   {
    "duration": 0,
    "start_time": "2022-12-10T12:44:14.044Z"
   },
   {
    "duration": 0,
    "start_time": "2022-12-10T12:44:14.045Z"
   },
   {
    "duration": 1397,
    "start_time": "2022-12-10T12:45:04.162Z"
   },
   {
    "duration": 41,
    "start_time": "2022-12-10T12:45:05.561Z"
   },
   {
    "duration": 22,
    "start_time": "2022-12-10T12:45:05.604Z"
   },
   {
    "duration": 23,
    "start_time": "2022-12-10T12:45:05.628Z"
   },
   {
    "duration": 69,
    "start_time": "2022-12-10T12:45:05.653Z"
   },
   {
    "duration": 4,
    "start_time": "2022-12-10T12:45:05.723Z"
   },
   {
    "duration": 40,
    "start_time": "2022-12-10T12:45:05.728Z"
   },
   {
    "duration": 14,
    "start_time": "2022-12-10T12:45:05.769Z"
   },
   {
    "duration": 11,
    "start_time": "2022-12-10T12:45:05.784Z"
   },
   {
    "duration": 42,
    "start_time": "2022-12-10T12:45:05.797Z"
   },
   {
    "duration": 22,
    "start_time": "2022-12-10T12:45:05.841Z"
   },
   {
    "duration": 72,
    "start_time": "2022-12-10T12:45:05.864Z"
   },
   {
    "duration": 32,
    "start_time": "2022-12-10T12:45:05.937Z"
   },
   {
    "duration": 291,
    "start_time": "2022-12-10T12:45:05.972Z"
   },
   {
    "duration": 3,
    "start_time": "2022-12-10T12:45:06.265Z"
   },
   {
    "duration": 66,
    "start_time": "2022-12-10T12:45:06.270Z"
   },
   {
    "duration": 298,
    "start_time": "2022-12-10T12:45:06.337Z"
   },
   {
    "duration": 0,
    "start_time": "2022-12-10T12:45:06.637Z"
   },
   {
    "duration": 0,
    "start_time": "2022-12-10T12:45:06.639Z"
   },
   {
    "duration": 0,
    "start_time": "2022-12-10T12:45:06.640Z"
   },
   {
    "duration": 0,
    "start_time": "2022-12-10T12:45:06.641Z"
   },
   {
    "duration": 0,
    "start_time": "2022-12-10T12:45:06.643Z"
   },
   {
    "duration": 0,
    "start_time": "2022-12-10T12:45:06.644Z"
   },
   {
    "duration": 0,
    "start_time": "2022-12-10T12:45:06.645Z"
   },
   {
    "duration": 0,
    "start_time": "2022-12-10T12:45:06.646Z"
   },
   {
    "duration": 0,
    "start_time": "2022-12-10T12:45:06.647Z"
   },
   {
    "duration": 0,
    "start_time": "2022-12-10T12:45:06.648Z"
   },
   {
    "duration": 1,
    "start_time": "2022-12-10T12:45:06.649Z"
   },
   {
    "duration": 0,
    "start_time": "2022-12-10T12:45:06.650Z"
   },
   {
    "duration": 0,
    "start_time": "2022-12-10T12:45:06.652Z"
   },
   {
    "duration": 0,
    "start_time": "2022-12-10T12:45:06.653Z"
   },
   {
    "duration": 18,
    "start_time": "2022-12-10T12:46:53.045Z"
   },
   {
    "duration": 20,
    "start_time": "2022-12-10T12:46:58.164Z"
   },
   {
    "duration": 20,
    "start_time": "2022-12-10T12:48:40.170Z"
   },
   {
    "duration": 4,
    "start_time": "2022-12-10T12:51:53.281Z"
   },
   {
    "duration": 20,
    "start_time": "2022-12-10T12:51:59.951Z"
   },
   {
    "duration": 20,
    "start_time": "2022-12-10T12:52:07.477Z"
   },
   {
    "duration": 1390,
    "start_time": "2022-12-10T12:52:16.773Z"
   },
   {
    "duration": 41,
    "start_time": "2022-12-10T12:52:18.165Z"
   },
   {
    "duration": 33,
    "start_time": "2022-12-10T12:52:18.208Z"
   },
   {
    "duration": 14,
    "start_time": "2022-12-10T12:52:18.244Z"
   },
   {
    "duration": 46,
    "start_time": "2022-12-10T12:52:18.260Z"
   },
   {
    "duration": 3,
    "start_time": "2022-12-10T12:52:18.308Z"
   },
   {
    "duration": 33,
    "start_time": "2022-12-10T12:52:18.313Z"
   },
   {
    "duration": 14,
    "start_time": "2022-12-10T12:52:18.347Z"
   },
   {
    "duration": 7,
    "start_time": "2022-12-10T12:52:18.363Z"
   },
   {
    "duration": 9,
    "start_time": "2022-12-10T12:52:18.372Z"
   },
   {
    "duration": 21,
    "start_time": "2022-12-10T12:52:18.383Z"
   },
   {
    "duration": 47,
    "start_time": "2022-12-10T12:52:18.406Z"
   },
   {
    "duration": 11,
    "start_time": "2022-12-10T12:52:18.454Z"
   },
   {
    "duration": 29,
    "start_time": "2022-12-10T12:52:18.467Z"
   },
   {
    "duration": 147,
    "start_time": "2022-12-10T12:52:18.497Z"
   },
   {
    "duration": 3,
    "start_time": "2022-12-10T12:52:18.645Z"
   },
   {
    "duration": 7,
    "start_time": "2022-12-10T12:52:18.650Z"
   },
   {
    "duration": 148,
    "start_time": "2022-12-10T12:52:18.658Z"
   },
   {
    "duration": 0,
    "start_time": "2022-12-10T12:52:18.808Z"
   },
   {
    "duration": 0,
    "start_time": "2022-12-10T12:52:18.810Z"
   },
   {
    "duration": 0,
    "start_time": "2022-12-10T12:52:18.811Z"
   },
   {
    "duration": 0,
    "start_time": "2022-12-10T12:52:18.813Z"
   },
   {
    "duration": 0,
    "start_time": "2022-12-10T12:52:18.814Z"
   },
   {
    "duration": 0,
    "start_time": "2022-12-10T12:52:18.815Z"
   },
   {
    "duration": 0,
    "start_time": "2022-12-10T12:52:18.816Z"
   },
   {
    "duration": 0,
    "start_time": "2022-12-10T12:52:18.818Z"
   },
   {
    "duration": 0,
    "start_time": "2022-12-10T12:52:18.819Z"
   },
   {
    "duration": 0,
    "start_time": "2022-12-10T12:52:18.836Z"
   },
   {
    "duration": 0,
    "start_time": "2022-12-10T12:52:18.837Z"
   },
   {
    "duration": 0,
    "start_time": "2022-12-10T12:52:18.838Z"
   },
   {
    "duration": 0,
    "start_time": "2022-12-10T12:52:18.839Z"
   },
   {
    "duration": 0,
    "start_time": "2022-12-10T12:52:18.841Z"
   },
   {
    "duration": 5,
    "start_time": "2022-12-10T12:53:40.102Z"
   },
   {
    "duration": 5,
    "start_time": "2022-12-10T12:53:50.156Z"
   },
   {
    "duration": 693,
    "start_time": "2022-12-10T12:54:44.486Z"
   },
   {
    "duration": 847,
    "start_time": "2022-12-10T12:55:03.712Z"
   },
   {
    "duration": 733,
    "start_time": "2022-12-10T12:55:13.956Z"
   },
   {
    "duration": 1462,
    "start_time": "2022-12-10T12:55:20.015Z"
   },
   {
    "duration": 43,
    "start_time": "2022-12-10T12:55:21.479Z"
   },
   {
    "duration": 26,
    "start_time": "2022-12-10T12:55:21.524Z"
   },
   {
    "duration": 16,
    "start_time": "2022-12-10T12:55:21.553Z"
   },
   {
    "duration": 62,
    "start_time": "2022-12-10T12:55:21.571Z"
   },
   {
    "duration": 4,
    "start_time": "2022-12-10T12:55:21.635Z"
   },
   {
    "duration": 19,
    "start_time": "2022-12-10T12:55:21.641Z"
   },
   {
    "duration": 28,
    "start_time": "2022-12-10T12:55:21.662Z"
   },
   {
    "duration": 16,
    "start_time": "2022-12-10T12:55:21.692Z"
   },
   {
    "duration": 18,
    "start_time": "2022-12-10T12:55:21.712Z"
   },
   {
    "duration": 25,
    "start_time": "2022-12-10T12:55:21.732Z"
   },
   {
    "duration": 23,
    "start_time": "2022-12-10T12:55:21.759Z"
   },
   {
    "duration": 23,
    "start_time": "2022-12-10T12:55:21.784Z"
   },
   {
    "duration": 19,
    "start_time": "2022-12-10T12:55:21.810Z"
   },
   {
    "duration": 147,
    "start_time": "2022-12-10T12:55:21.831Z"
   },
   {
    "duration": 4,
    "start_time": "2022-12-10T12:55:21.979Z"
   },
   {
    "duration": 41,
    "start_time": "2022-12-10T12:55:21.985Z"
   },
   {
    "duration": 158,
    "start_time": "2022-12-10T12:55:22.028Z"
   },
   {
    "duration": 0,
    "start_time": "2022-12-10T12:55:22.189Z"
   },
   {
    "duration": 0,
    "start_time": "2022-12-10T12:55:22.191Z"
   },
   {
    "duration": 0,
    "start_time": "2022-12-10T12:55:22.193Z"
   },
   {
    "duration": 0,
    "start_time": "2022-12-10T12:55:22.194Z"
   },
   {
    "duration": 0,
    "start_time": "2022-12-10T12:55:22.195Z"
   },
   {
    "duration": 0,
    "start_time": "2022-12-10T12:55:22.196Z"
   },
   {
    "duration": 0,
    "start_time": "2022-12-10T12:55:22.198Z"
   },
   {
    "duration": 0,
    "start_time": "2022-12-10T12:55:22.199Z"
   },
   {
    "duration": 0,
    "start_time": "2022-12-10T12:55:22.201Z"
   },
   {
    "duration": 0,
    "start_time": "2022-12-10T12:55:22.202Z"
   },
   {
    "duration": 0,
    "start_time": "2022-12-10T12:55:22.204Z"
   },
   {
    "duration": 0,
    "start_time": "2022-12-10T12:55:22.205Z"
   },
   {
    "duration": 0,
    "start_time": "2022-12-10T12:55:22.207Z"
   },
   {
    "duration": 0,
    "start_time": "2022-12-10T12:55:22.235Z"
   },
   {
    "duration": 1441,
    "start_time": "2022-12-10T12:57:13.750Z"
   },
   {
    "duration": 43,
    "start_time": "2022-12-10T12:57:15.193Z"
   },
   {
    "duration": 31,
    "start_time": "2022-12-10T12:57:15.239Z"
   },
   {
    "duration": 18,
    "start_time": "2022-12-10T12:57:15.272Z"
   },
   {
    "duration": 84,
    "start_time": "2022-12-10T12:57:15.292Z"
   },
   {
    "duration": 4,
    "start_time": "2022-12-10T12:57:15.378Z"
   },
   {
    "duration": 28,
    "start_time": "2022-12-10T12:57:15.384Z"
   },
   {
    "duration": 26,
    "start_time": "2022-12-10T12:57:15.415Z"
   },
   {
    "duration": 8,
    "start_time": "2022-12-10T12:57:15.442Z"
   },
   {
    "duration": 37,
    "start_time": "2022-12-10T12:57:15.453Z"
   },
   {
    "duration": 36,
    "start_time": "2022-12-10T12:57:15.493Z"
   },
   {
    "duration": 23,
    "start_time": "2022-12-10T12:57:15.531Z"
   },
   {
    "duration": 29,
    "start_time": "2022-12-10T12:57:15.557Z"
   },
   {
    "duration": 23,
    "start_time": "2022-12-10T12:57:15.587Z"
   },
   {
    "duration": 152,
    "start_time": "2022-12-10T12:57:15.613Z"
   },
   {
    "duration": 4,
    "start_time": "2022-12-10T12:57:15.766Z"
   },
   {
    "duration": 17,
    "start_time": "2022-12-10T12:57:15.772Z"
   },
   {
    "duration": 589,
    "start_time": "2022-12-10T12:57:15.791Z"
   },
   {
    "duration": 124192,
    "start_time": "2022-12-10T12:57:16.383Z"
   },
   {
    "duration": 4068,
    "start_time": "2022-12-10T12:59:20.577Z"
   },
   {
    "duration": 5,
    "start_time": "2022-12-10T12:59:24.647Z"
   },
   {
    "duration": 142,
    "start_time": "2022-12-10T12:59:24.653Z"
   },
   {
    "duration": 657,
    "start_time": "2022-12-10T12:59:24.798Z"
   },
   {
    "duration": 159864,
    "start_time": "2022-12-10T12:59:25.457Z"
   },
   {
    "duration": 4742,
    "start_time": "2022-12-10T13:02:05.323Z"
   },
   {
    "duration": 4,
    "start_time": "2022-12-10T13:02:10.067Z"
   },
   {
    "duration": 154,
    "start_time": "2022-12-10T13:02:10.073Z"
   },
   {
    "duration": 359,
    "start_time": "2022-12-10T13:02:10.234Z"
   },
   {
    "duration": 73394,
    "start_time": "2022-12-10T13:02:10.596Z"
   },
   {
    "duration": 3355,
    "start_time": "2022-12-10T13:03:23.992Z"
   },
   {
    "duration": 180,
    "start_time": "2022-12-10T13:03:27.348Z"
   },
   {
    "duration": 15,
    "start_time": "2022-12-10T13:03:27.536Z"
   },
   {
    "duration": 1654,
    "start_time": "2022-12-11T00:58:16.714Z"
   },
   {
    "duration": 367,
    "start_time": "2022-12-11T00:58:18.370Z"
   },
   {
    "duration": 22,
    "start_time": "2022-12-11T00:58:18.739Z"
   },
   {
    "duration": 18,
    "start_time": "2022-12-11T00:58:18.765Z"
   },
   {
    "duration": 74,
    "start_time": "2022-12-11T00:58:18.785Z"
   },
   {
    "duration": 4,
    "start_time": "2022-12-11T00:58:18.861Z"
   },
   {
    "duration": 25,
    "start_time": "2022-12-11T00:58:18.867Z"
   },
   {
    "duration": 17,
    "start_time": "2022-12-11T00:58:18.894Z"
   },
   {
    "duration": 10,
    "start_time": "2022-12-11T00:58:18.913Z"
   },
   {
    "duration": 11,
    "start_time": "2022-12-11T00:58:18.950Z"
   },
   {
    "duration": 34,
    "start_time": "2022-12-11T00:58:18.963Z"
   },
   {
    "duration": 12,
    "start_time": "2022-12-11T00:58:18.999Z"
   },
   {
    "duration": 47,
    "start_time": "2022-12-11T00:58:19.013Z"
   },
   {
    "duration": 201,
    "start_time": "2022-12-11T00:58:19.062Z"
   },
   {
    "duration": 3,
    "start_time": "2022-12-11T00:58:19.265Z"
   },
   {
    "duration": 9,
    "start_time": "2022-12-11T00:58:19.270Z"
   },
   {
    "duration": 579,
    "start_time": "2022-12-11T00:58:19.281Z"
   },
   {
    "duration": 123660,
    "start_time": "2022-12-11T00:58:19.862Z"
   },
   {
    "duration": 4442,
    "start_time": "2022-12-11T01:00:23.524Z"
   },
   {
    "duration": 4,
    "start_time": "2022-12-11T01:00:27.968Z"
   },
   {
    "duration": 141,
    "start_time": "2022-12-11T01:00:27.974Z"
   },
   {
    "duration": 618,
    "start_time": "2022-12-11T01:00:28.117Z"
   },
   {
    "duration": 160990,
    "start_time": "2022-12-11T01:00:28.737Z"
   },
   {
    "duration": 4838,
    "start_time": "2022-12-11T01:03:09.729Z"
   },
   {
    "duration": 4,
    "start_time": "2022-12-11T01:03:14.569Z"
   },
   {
    "duration": 135,
    "start_time": "2022-12-11T01:03:14.574Z"
   },
   {
    "duration": 332,
    "start_time": "2022-12-11T01:03:14.711Z"
   },
   {
    "duration": 75169,
    "start_time": "2022-12-11T01:03:15.052Z"
   },
   {
    "duration": 3437,
    "start_time": "2022-12-11T01:04:30.223Z"
   },
   {
    "duration": 177,
    "start_time": "2022-12-11T01:04:33.662Z"
   },
   {
    "duration": 20,
    "start_time": "2022-12-11T01:04:33.851Z"
   },
   {
    "duration": 1419,
    "start_time": "2022-12-11T17:05:10.320Z"
   },
   {
    "duration": 155,
    "start_time": "2022-12-11T17:05:11.741Z"
   },
   {
    "duration": 19,
    "start_time": "2022-12-11T17:05:11.898Z"
   },
   {
    "duration": 12,
    "start_time": "2022-12-11T17:05:11.919Z"
   },
   {
    "duration": 38,
    "start_time": "2022-12-11T17:05:11.932Z"
   },
   {
    "duration": 3,
    "start_time": "2022-12-11T17:05:11.978Z"
   },
   {
    "duration": 14,
    "start_time": "2022-12-11T17:05:11.983Z"
   },
   {
    "duration": 12,
    "start_time": "2022-12-11T17:05:11.999Z"
   },
   {
    "duration": 6,
    "start_time": "2022-12-11T17:05:12.013Z"
   },
   {
    "duration": 7,
    "start_time": "2022-12-11T17:05:12.021Z"
   },
   {
    "duration": 48,
    "start_time": "2022-12-11T17:05:12.030Z"
   },
   {
    "duration": 8,
    "start_time": "2022-12-11T17:05:12.080Z"
   },
   {
    "duration": 13,
    "start_time": "2022-12-11T17:05:12.089Z"
   },
   {
    "duration": 146,
    "start_time": "2022-12-11T17:05:12.103Z"
   },
   {
    "duration": 3,
    "start_time": "2022-12-11T17:05:12.251Z"
   },
   {
    "duration": 9,
    "start_time": "2022-12-11T17:05:12.256Z"
   },
   {
    "duration": 441,
    "start_time": "2022-12-11T17:05:12.266Z"
   },
   {
    "duration": 105319,
    "start_time": "2022-12-11T17:05:12.709Z"
   },
   {
    "duration": 3439,
    "start_time": "2022-12-11T17:06:58.029Z"
   },
   {
    "duration": 10,
    "start_time": "2022-12-11T17:07:01.470Z"
   },
   {
    "duration": 134,
    "start_time": "2022-12-11T17:07:01.482Z"
   },
   {
    "duration": 572,
    "start_time": "2022-12-11T17:07:01.618Z"
   },
   {
    "duration": 142290,
    "start_time": "2022-12-11T17:07:02.192Z"
   },
   {
    "duration": 4605,
    "start_time": "2022-12-11T17:09:24.483Z"
   },
   {
    "duration": 5,
    "start_time": "2022-12-11T17:09:29.090Z"
   },
   {
    "duration": 147,
    "start_time": "2022-12-11T17:09:29.097Z"
   },
   {
    "duration": 332,
    "start_time": "2022-12-11T17:09:29.246Z"
   },
   {
    "duration": 69197,
    "start_time": "2022-12-11T17:09:29.581Z"
   },
   {
    "duration": 2675,
    "start_time": "2022-12-11T17:10:38.780Z"
   },
   {
    "duration": 167,
    "start_time": "2022-12-11T17:10:41.457Z"
   },
   {
    "duration": 13,
    "start_time": "2022-12-11T17:10:41.626Z"
   },
   {
    "duration": 46,
    "start_time": "2022-12-12T08:36:43.652Z"
   },
   {
    "duration": 1508,
    "start_time": "2022-12-12T08:36:47.522Z"
   },
   {
    "duration": 93,
    "start_time": "2022-12-12T08:36:49.033Z"
   },
   {
    "duration": 29,
    "start_time": "2022-12-12T08:36:49.128Z"
   },
   {
    "duration": 15,
    "start_time": "2022-12-12T08:36:49.160Z"
   },
   {
    "duration": 57,
    "start_time": "2022-12-12T08:36:49.176Z"
   },
   {
    "duration": 3,
    "start_time": "2022-12-12T08:36:49.235Z"
   },
   {
    "duration": 29,
    "start_time": "2022-12-12T08:36:49.240Z"
   },
   {
    "duration": 19,
    "start_time": "2022-12-12T08:36:49.271Z"
   },
   {
    "duration": 8,
    "start_time": "2022-12-12T08:36:49.292Z"
   },
   {
    "duration": 19,
    "start_time": "2022-12-12T08:36:49.302Z"
   },
   {
    "duration": 31,
    "start_time": "2022-12-12T08:36:49.323Z"
   },
   {
    "duration": 8,
    "start_time": "2022-12-12T08:36:49.355Z"
   },
   {
    "duration": 19,
    "start_time": "2022-12-12T08:36:49.365Z"
   },
   {
    "duration": 140,
    "start_time": "2022-12-12T08:36:49.386Z"
   },
   {
    "duration": 3,
    "start_time": "2022-12-12T08:36:49.528Z"
   },
   {
    "duration": 10,
    "start_time": "2022-12-12T08:36:49.533Z"
   },
   {
    "duration": 452,
    "start_time": "2022-12-12T08:36:49.545Z"
   },
   {
    "duration": 107950,
    "start_time": "2022-12-12T08:36:49.999Z"
   },
   {
    "duration": 3900,
    "start_time": "2022-12-12T08:38:37.951Z"
   },
   {
    "duration": 5,
    "start_time": "2022-12-12T08:38:41.852Z"
   },
   {
    "duration": 127,
    "start_time": "2022-12-12T08:38:41.859Z"
   },
   {
    "duration": 562,
    "start_time": "2022-12-12T08:38:41.989Z"
   },
   {
    "duration": 143048,
    "start_time": "2022-12-12T08:38:42.553Z"
   },
   {
    "duration": 3908,
    "start_time": "2022-12-12T08:41:05.602Z"
   },
   {
    "duration": 5,
    "start_time": "2022-12-12T08:41:09.521Z"
   },
   {
    "duration": 138,
    "start_time": "2022-12-12T08:41:09.528Z"
   },
   {
    "duration": 341,
    "start_time": "2022-12-12T08:41:09.668Z"
   },
   {
    "duration": 67203,
    "start_time": "2022-12-12T08:41:10.026Z"
   },
   {
    "duration": 3807,
    "start_time": "2022-12-12T08:42:17.230Z"
   },
   {
    "duration": 169,
    "start_time": "2022-12-12T08:42:21.038Z"
   },
   {
    "duration": 28,
    "start_time": "2022-12-12T08:42:21.209Z"
   },
   {
    "duration": 1720,
    "start_time": "2022-12-12T14:28:04.143Z"
   },
   {
    "duration": 237,
    "start_time": "2022-12-12T14:28:05.865Z"
   },
   {
    "duration": 32,
    "start_time": "2022-12-12T14:28:06.103Z"
   },
   {
    "duration": 30,
    "start_time": "2022-12-12T14:28:06.137Z"
   },
   {
    "duration": 55,
    "start_time": "2022-12-12T14:28:06.169Z"
   },
   {
    "duration": 7,
    "start_time": "2022-12-12T14:28:06.225Z"
   },
   {
    "duration": 49,
    "start_time": "2022-12-12T14:28:06.233Z"
   },
   {
    "duration": 13,
    "start_time": "2022-12-12T14:28:06.284Z"
   },
   {
    "duration": 8,
    "start_time": "2022-12-12T14:28:06.299Z"
   },
   {
    "duration": 16,
    "start_time": "2022-12-12T14:28:06.308Z"
   },
   {
    "duration": 54,
    "start_time": "2022-12-12T14:28:06.326Z"
   },
   {
    "duration": 9,
    "start_time": "2022-12-12T14:28:06.382Z"
   },
   {
    "duration": 13,
    "start_time": "2022-12-12T14:28:06.393Z"
   },
   {
    "duration": 160,
    "start_time": "2022-12-12T14:28:06.409Z"
   },
   {
    "duration": 3,
    "start_time": "2022-12-12T14:28:06.570Z"
   },
   {
    "duration": 8,
    "start_time": "2022-12-12T14:28:06.574Z"
   },
   {
    "duration": 559,
    "start_time": "2022-12-12T14:28:06.584Z"
   },
   {
    "duration": 126944,
    "start_time": "2022-12-12T14:28:07.146Z"
   },
   {
    "duration": 5553,
    "start_time": "2022-12-12T14:30:14.092Z"
   },
   {
    "duration": 9,
    "start_time": "2022-12-12T14:30:19.647Z"
   },
   {
    "duration": 133,
    "start_time": "2022-12-12T14:30:19.658Z"
   },
   {
    "duration": 654,
    "start_time": "2022-12-12T14:30:19.793Z"
   },
   {
    "duration": 169695,
    "start_time": "2022-12-12T14:30:20.450Z"
   },
   {
    "duration": 6100,
    "start_time": "2022-12-12T14:33:10.147Z"
   },
   {
    "duration": 11,
    "start_time": "2022-12-12T14:33:16.252Z"
   },
   {
    "duration": 142,
    "start_time": "2022-12-12T14:33:16.269Z"
   },
   {
    "duration": 366,
    "start_time": "2022-12-12T14:33:16.416Z"
   },
   {
    "duration": 81395,
    "start_time": "2022-12-12T14:33:16.784Z"
   },
   {
    "duration": 5086,
    "start_time": "2022-12-12T14:34:38.181Z"
   },
   {
    "duration": 202,
    "start_time": "2022-12-12T14:34:43.271Z"
   },
   {
    "duration": 21,
    "start_time": "2022-12-12T14:34:43.475Z"
   }
  ],
  "kernelspec": {
   "display_name": "Python 3 (ipykernel)",
   "language": "python",
   "name": "python3"
  },
  "language_info": {
   "codemirror_mode": {
    "name": "ipython",
    "version": 3
   },
   "file_extension": ".py",
   "mimetype": "text/x-python",
   "name": "python",
   "nbconvert_exporter": "python",
   "pygments_lexer": "ipython3",
   "version": "3.9.5"
  },
  "toc": {
   "base_numbering": 1,
   "nav_menu": {},
   "number_sections": true,
   "sideBar": true,
   "skip_h1_title": true,
   "title_cell": "Содержание",
   "title_sidebar": "Contents",
   "toc_cell": true,
   "toc_position": {
    "height": "741px",
    "left": "37px",
    "top": "111.125px",
    "width": "201px"
   },
   "toc_section_display": true,
   "toc_window_display": true
  }
 },
 "nbformat": 4,
 "nbformat_minor": 2
}
