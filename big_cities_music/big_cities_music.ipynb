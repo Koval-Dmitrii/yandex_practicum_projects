{
 "cells": [
  {
   "cell_type": "markdown",
   "metadata": {
    "deletable": false,
    "editable": false,
    "id": "E0vqbgi9ay0H"
   },
   "source": [
    "# Яндекс Музыка"
   ]
  },
  {
   "cell_type": "markdown",
   "metadata": {
    "deletable": false,
    "editable": false,
    "id": "VUC88oWjTJw2"
   },
   "source": [
    "Сравнение Москвы и Петербурга окружено мифами. Например:\n",
    " * Москва — мегаполис, подчинённый жёсткому ритму рабочей недели;\n",
    " * Петербург — культурная столица, со своими вкусами.\n",
    "\n",
    "На данных Яндекс Музыки вы сравните поведение пользователей двух столиц.\n",
    "\n",
    "**Цель исследования** — проверьте три гипотезы:\n",
    "1. Активность пользователей зависит от дня недели. Причём в Москве и Петербурге это проявляется по-разному.\n",
    "2. В понедельник утром в Москве преобладают одни жанры, а в Петербурге — другие. Так же и вечером пятницы преобладают разные жанры — в зависимости от города. \n",
    "3. Москва и Петербург предпочитают разные жанры музыки. В Москве чаще слушают поп-музыку, в Петербурге — русский рэп.\n",
    "\n",
    "**Ход исследования**\n",
    "\n",
    "Данные о поведении пользователей вы получите из файла `yandex_music_project.csv`. О качестве данных ничего не известно. Поэтому перед проверкой гипотез понадобится обзор данных. \n",
    "\n",
    "Вы проверите данные на ошибки и оцените их влияние на исследование. Затем, на этапе предобработки вы поищете возможность исправить самые критичные ошибки данных.\n",
    " \n",
    "Таким образом, исследование пройдёт в три этапа:\n",
    " 1. Обзор данных.\n",
    " 2. Предобработка данных.\n",
    " 3. Проверка гипотез.\n",
    "\n"
   ]
  },
  {
   "cell_type": "markdown",
   "metadata": {
    "deletable": false,
    "editable": false,
    "id": "Ml1hmfXC_Zcs"
   },
   "source": [
    "## Обзор данных\n",
    "\n",
    "Составьте первое представление о данных Яндекс Музыки.\n",
    "\n",
    "\n"
   ]
  },
  {
   "cell_type": "markdown",
   "metadata": {
    "deletable": false,
    "editable": false,
    "id": "57eAOGIz_Zcs",
    "tags": [
     "start_task"
    ]
   },
   "source": [
    "**Задание 1**\n",
    "\n",
    "Основной инструмент аналитика — `pandas`. Импортируйте эту библиотеку."
   ]
  },
  {
   "cell_type": "code",
   "execution_count": 1,
   "metadata": {
    "deletable": false,
    "id": "AXN7PHPN_Zcs"
   },
   "outputs": [],
   "source": [
    "import pandas as pd"
   ]
  },
  {
   "cell_type": "markdown",
   "metadata": {
    "deletable": false,
    "editable": false,
    "id": "SG23P8tt_Zcs",
    "tags": [
     "start_task"
    ]
   },
   "source": [
    "**Задание 2**\n",
    "\n",
    "Прочитайте файл `yandex_music_project.csv` из папки `/datasets` и сохраните его в переменной `df`:"
   ]
  },
  {
   "cell_type": "code",
   "execution_count": 2,
   "metadata": {
    "deletable": false,
    "id": "fFVu7vqh_Zct"
   },
   "outputs": [],
   "source": [
    "df = pd.read_csv('/datasets/yandex_music_project.csv')"
   ]
  },
  {
   "cell_type": "markdown",
   "metadata": {
    "deletable": false,
    "editable": false,
    "id": "rDoOMd3uTqnZ",
    "tags": [
     "start_task"
    ]
   },
   "source": [
    "**Задание 3**\n",
    "\n",
    "\n",
    "Выведите на экран первые десять строк таблицы:"
   ]
  },
  {
   "cell_type": "code",
   "execution_count": 3,
   "metadata": {
    "deletable": false,
    "id": "oWTVX3gW_Zct"
   },
   "outputs": [
    {
     "data": {
      "text/html": [
       "<div>\n",
       "<style scoped>\n",
       "    .dataframe tbody tr th:only-of-type {\n",
       "        vertical-align: middle;\n",
       "    }\n",
       "\n",
       "    .dataframe tbody tr th {\n",
       "        vertical-align: top;\n",
       "    }\n",
       "\n",
       "    .dataframe thead th {\n",
       "        text-align: right;\n",
       "    }\n",
       "</style>\n",
       "<table border=\"1\" class=\"dataframe\">\n",
       "  <thead>\n",
       "    <tr style=\"text-align: right;\">\n",
       "      <th></th>\n",
       "      <th>userID</th>\n",
       "      <th>Track</th>\n",
       "      <th>artist</th>\n",
       "      <th>genre</th>\n",
       "      <th>City</th>\n",
       "      <th>time</th>\n",
       "      <th>Day</th>\n",
       "    </tr>\n",
       "  </thead>\n",
       "  <tbody>\n",
       "    <tr>\n",
       "      <th>0</th>\n",
       "      <td>FFB692EC</td>\n",
       "      <td>Kamigata To Boots</td>\n",
       "      <td>The Mass Missile</td>\n",
       "      <td>rock</td>\n",
       "      <td>Saint-Petersburg</td>\n",
       "      <td>20:28:33</td>\n",
       "      <td>Wednesday</td>\n",
       "    </tr>\n",
       "    <tr>\n",
       "      <th>1</th>\n",
       "      <td>55204538</td>\n",
       "      <td>Delayed Because of Accident</td>\n",
       "      <td>Andreas Rönnberg</td>\n",
       "      <td>rock</td>\n",
       "      <td>Moscow</td>\n",
       "      <td>14:07:09</td>\n",
       "      <td>Friday</td>\n",
       "    </tr>\n",
       "    <tr>\n",
       "      <th>2</th>\n",
       "      <td>20EC38</td>\n",
       "      <td>Funiculì funiculà</td>\n",
       "      <td>Mario Lanza</td>\n",
       "      <td>pop</td>\n",
       "      <td>Saint-Petersburg</td>\n",
       "      <td>20:58:07</td>\n",
       "      <td>Wednesday</td>\n",
       "    </tr>\n",
       "    <tr>\n",
       "      <th>3</th>\n",
       "      <td>A3DD03C9</td>\n",
       "      <td>Dragons in the Sunset</td>\n",
       "      <td>Fire + Ice</td>\n",
       "      <td>folk</td>\n",
       "      <td>Saint-Petersburg</td>\n",
       "      <td>08:37:09</td>\n",
       "      <td>Monday</td>\n",
       "    </tr>\n",
       "    <tr>\n",
       "      <th>4</th>\n",
       "      <td>E2DC1FAE</td>\n",
       "      <td>Soul People</td>\n",
       "      <td>Space Echo</td>\n",
       "      <td>dance</td>\n",
       "      <td>Moscow</td>\n",
       "      <td>08:34:34</td>\n",
       "      <td>Monday</td>\n",
       "    </tr>\n",
       "    <tr>\n",
       "      <th>5</th>\n",
       "      <td>842029A1</td>\n",
       "      <td>Преданная</td>\n",
       "      <td>IMPERVTOR</td>\n",
       "      <td>rusrap</td>\n",
       "      <td>Saint-Petersburg</td>\n",
       "      <td>13:09:41</td>\n",
       "      <td>Friday</td>\n",
       "    </tr>\n",
       "    <tr>\n",
       "      <th>6</th>\n",
       "      <td>4CB90AA5</td>\n",
       "      <td>True</td>\n",
       "      <td>Roman Messer</td>\n",
       "      <td>dance</td>\n",
       "      <td>Moscow</td>\n",
       "      <td>13:00:07</td>\n",
       "      <td>Wednesday</td>\n",
       "    </tr>\n",
       "    <tr>\n",
       "      <th>7</th>\n",
       "      <td>F03E1C1F</td>\n",
       "      <td>Feeling This Way</td>\n",
       "      <td>Polina Griffith</td>\n",
       "      <td>dance</td>\n",
       "      <td>Moscow</td>\n",
       "      <td>20:47:49</td>\n",
       "      <td>Wednesday</td>\n",
       "    </tr>\n",
       "    <tr>\n",
       "      <th>8</th>\n",
       "      <td>8FA1D3BE</td>\n",
       "      <td>И вновь продолжается бой</td>\n",
       "      <td>NaN</td>\n",
       "      <td>ruspop</td>\n",
       "      <td>Moscow</td>\n",
       "      <td>09:17:40</td>\n",
       "      <td>Friday</td>\n",
       "    </tr>\n",
       "    <tr>\n",
       "      <th>9</th>\n",
       "      <td>E772D5C0</td>\n",
       "      <td>Pessimist</td>\n",
       "      <td>NaN</td>\n",
       "      <td>dance</td>\n",
       "      <td>Saint-Petersburg</td>\n",
       "      <td>21:20:49</td>\n",
       "      <td>Wednesday</td>\n",
       "    </tr>\n",
       "  </tbody>\n",
       "</table>\n",
       "</div>"
      ],
      "text/plain": [
       "     userID                        Track            artist   genre  \\\n",
       "0  FFB692EC            Kamigata To Boots  The Mass Missile    rock   \n",
       "1  55204538  Delayed Because of Accident  Andreas Rönnberg    rock   \n",
       "2    20EC38            Funiculì funiculà       Mario Lanza     pop   \n",
       "3  A3DD03C9        Dragons in the Sunset        Fire + Ice    folk   \n",
       "4  E2DC1FAE                  Soul People        Space Echo   dance   \n",
       "5  842029A1                    Преданная         IMPERVTOR  rusrap   \n",
       "6  4CB90AA5                         True      Roman Messer   dance   \n",
       "7  F03E1C1F             Feeling This Way   Polina Griffith   dance   \n",
       "8  8FA1D3BE     И вновь продолжается бой               NaN  ruspop   \n",
       "9  E772D5C0                    Pessimist               NaN   dance   \n",
       "\n",
       "             City        time        Day  \n",
       "0  Saint-Petersburg  20:28:33  Wednesday  \n",
       "1            Moscow  14:07:09     Friday  \n",
       "2  Saint-Petersburg  20:58:07  Wednesday  \n",
       "3  Saint-Petersburg  08:37:09     Monday  \n",
       "4            Moscow  08:34:34     Monday  \n",
       "5  Saint-Petersburg  13:09:41     Friday  \n",
       "6            Moscow  13:00:07  Wednesday  \n",
       "7            Moscow  20:47:49  Wednesday  \n",
       "8            Moscow  09:17:40     Friday  \n",
       "9  Saint-Petersburg  21:20:49  Wednesday  "
      ]
     },
     "execution_count": 3,
     "metadata": {},
     "output_type": "execute_result"
    }
   ],
   "source": [
    "df.head(10)"
   ]
  },
  {
   "cell_type": "markdown",
   "metadata": {
    "deletable": false,
    "editable": false,
    "id": "EO73Kwic_Zct",
    "tags": [
     "start_task"
    ]
   },
   "source": [
    "**Задание 4**\n",
    "\n",
    "\n",
    "Одной командой получить общую информацию о таблице c помощью метода `info()`:"
   ]
  },
  {
   "cell_type": "code",
   "execution_count": 4,
   "metadata": {
    "deletable": false,
    "id": "DSf2kIb-_Zct"
   },
   "outputs": [
    {
     "name": "stdout",
     "output_type": "stream",
     "text": [
      "<class 'pandas.core.frame.DataFrame'>\n",
      "RangeIndex: 65079 entries, 0 to 65078\n",
      "Data columns (total 7 columns):\n",
      " #   Column    Non-Null Count  Dtype \n",
      "---  ------    --------------  ----- \n",
      " 0     userID  65079 non-null  object\n",
      " 1   Track     63848 non-null  object\n",
      " 2   artist    57876 non-null  object\n",
      " 3   genre     63881 non-null  object\n",
      " 4     City    65079 non-null  object\n",
      " 5   time      65079 non-null  object\n",
      " 6   Day       65079 non-null  object\n",
      "dtypes: object(7)\n",
      "memory usage: 3.5+ MB\n"
     ]
    }
   ],
   "source": [
    "df.info()"
   ]
  },
  {
   "cell_type": "markdown",
   "metadata": {
    "deletable": false,
    "editable": false,
    "id": "TaQ2Iwbr_Zct"
   },
   "source": [
    "Итак, в таблице семь столбцов. Тип данных во всех столбцах — `object`.\n",
    "\n",
    "Согласно документации к данным:\n",
    "* `userID` — идентификатор пользователя;\n",
    "* `Track` — название трека;  \n",
    "* `artist` — имя исполнителя;\n",
    "* `genre` — название жанра;\n",
    "* `City` — город пользователя;\n",
    "* `time` — время начала прослушивания;\n",
    "* `Day` — день недели.\n",
    "\n",
    "Количество значений в столбцах различается. Значит, в данных есть пропущенные значения."
   ]
  },
  {
   "cell_type": "markdown",
   "metadata": {
    "deletable": false,
    "editable": false,
    "id": "rAfziTBDmf2h",
    "tags": [
     "start_task"
    ]
   },
   "source": [
    "**Задание 5**\n",
    "\n",
    "**Вопрос со свободной формой ответа**\n",
    "\n",
    "В названиях колонок видны нарушения стиля:\n",
    "* Строчные буквы сочетаются с прописными.\n",
    "* Встречаются пробелы.\n",
    "\n",
    "Какое третье нарушение?"
   ]
  },
  {
   "cell_type": "code",
   "execution_count": 5,
   "metadata": {
    "id": "jD8EXEIvmf2h"
   },
   "outputs": [],
   "source": [
    "# Напишите ваш ответ здесь комментарием. Не удаляйте символ #. Не меняйте тип этой ячейки на Markdown.\n",
    "# В идентификаторе пользователя название лучше написать через \"змеиный_регистр\""
   ]
  },
  {
   "cell_type": "markdown",
   "metadata": {
    "deletable": false,
    "editable": false,
    "id": "MCB6-dXG_Zct"
   },
   "source": [
    "**Выводы**\n",
    "\n",
    "В каждой строке таблицы — данные о прослушанном треке. Часть колонок описывает саму композицию: название, исполнителя и жанр. Остальные данные рассказывают о пользователе: из какого он города, когда он слушал музыку. \n",
    "\n",
    "Предварительно можно утверждать, что данных достаточно для проверки гипотез. Но встречаются пропуски в данных, а в названиях колонок — расхождения с хорошим стилем.\n",
    "\n",
    "Чтобы двигаться дальше, нужно устранить проблемы в данных."
   ]
  },
  {
   "cell_type": "markdown",
   "metadata": {
    "deletable": false,
    "editable": false,
    "id": "SjYF6Ub9_Zct"
   },
   "source": [
    "## Предобработка данных\n",
    "Исправьте стиль в заголовках столбцов, исключите пропуски. Затем проверьте данные на дубликаты."
   ]
  },
  {
   "cell_type": "markdown",
   "metadata": {
    "deletable": false,
    "editable": false,
    "id": "dIaKXr29_Zct",
    "tags": [
     "start_task"
    ]
   },
   "source": [
    "### Стиль заголовков\n",
    "\n",
    "**Задание 6**\n",
    "\n",
    "Выведите на экран названия столбцов:"
   ]
  },
  {
   "cell_type": "code",
   "execution_count": 6,
   "metadata": {
    "deletable": false,
    "id": "oKOTdF_Q_Zct"
   },
   "outputs": [
    {
     "data": {
      "text/plain": [
       "Index(['  userID', 'Track', 'artist', 'genre', '  City  ', 'time', 'Day'], dtype='object')"
      ]
     },
     "execution_count": 6,
     "metadata": {},
     "output_type": "execute_result"
    }
   ],
   "source": [
    "df.columns"
   ]
  },
  {
   "cell_type": "markdown",
   "metadata": {
    "deletable": false,
    "editable": false,
    "id": "zj5534cv_Zct",
    "tags": [
     "start_task"
    ]
   },
   "source": [
    "**Задание 7**\n",
    "\n",
    "\n",
    "Приведите названия в соответствие с хорошим стилем:\n",
    "* несколько слов в названии запишите в «змеином_регистре»,\n",
    "* все символы сделайте строчными,\n",
    "* устраните пробелы.\n",
    "\n",
    "Для этого переименуйте колонки так:\n",
    "* `'  userID'` → `'user_id'`;\n",
    "* `'Track'` → `'track'`;\n",
    "* `'  City  '` → `'city'`;\n",
    "* `'Day'` → `'day'`."
   ]
  },
  {
   "cell_type": "code",
   "execution_count": 7,
   "metadata": {
    "deletable": false,
    "id": "ISlFqs5y_Zct"
   },
   "outputs": [],
   "source": [
    "df.rename(columns={'  userID': 'user_id'}, inplace=True)\n",
    "df.rename(columns={'Track': 'track'}, inplace=True)\n",
    "df.rename(columns={'  City  ': 'city'}, inplace=True)\n",
    "df.rename(columns={'Day': 'day'}, inplace=True)"
   ]
  },
  {
   "cell_type": "markdown",
   "metadata": {
    "deletable": false,
    "editable": false,
    "id": "1dqbh00J_Zct",
    "tags": [
     "start_task"
    ]
   },
   "source": [
    "**Задание 8**\n",
    "\n",
    "\n",
    "Проверьте результат. Для этого ещё раз выведите на экран названия столбцов:"
   ]
  },
  {
   "cell_type": "code",
   "execution_count": 8,
   "metadata": {
    "deletable": false,
    "id": "d4NOAmTW_Zct"
   },
   "outputs": [
    {
     "data": {
      "text/plain": [
       "Index(['user_id', 'track', 'artist', 'genre', 'city', 'time', 'day'], dtype='object')"
      ]
     },
     "execution_count": 8,
     "metadata": {},
     "output_type": "execute_result"
    }
   ],
   "source": [
    "# проверка результатов - перечень названий столбцов\n",
    "df.columns"
   ]
  },
  {
   "cell_type": "markdown",
   "metadata": {
    "deletable": false,
    "editable": false,
    "id": "5ISfbcfY_Zct",
    "tags": [
     "start_task"
    ]
   },
   "source": [
    "### Пропуски значений\n",
    "\n",
    "**Задание 9**\n",
    "\n",
    "Сначала посчитайте, сколько в таблице пропущенных значений. Для этого достаточно двух методов `pandas`:"
   ]
  },
  {
   "cell_type": "code",
   "execution_count": 9,
   "metadata": {
    "deletable": false,
    "id": "RskX29qr_Zct"
   },
   "outputs": [
    {
     "data": {
      "text/plain": [
       "user_id       0\n",
       "track      1231\n",
       "artist     7203\n",
       "genre      1198\n",
       "city          0\n",
       "time          0\n",
       "day           0\n",
       "dtype: int64"
      ]
     },
     "execution_count": 9,
     "metadata": {},
     "output_type": "execute_result"
    }
   ],
   "source": [
    "# подсчёт пропусков\n",
    "df.isna().sum()"
   ]
  },
  {
   "cell_type": "markdown",
   "metadata": {
    "deletable": false,
    "editable": false,
    "id": "qubhgnlO_Zct"
   },
   "source": [
    "Не все пропущенные значения влияют на исследование. Так в `track` и `artist` пропуски не важны для вашей работы. Достаточно заменить их явными обозначениями.\n",
    "\n",
    "Но пропуски в `genre` могут помешать сравнению музыкальных вкусов в Москве и Санкт-Петербурге. На практике было бы правильно установить причину пропусков и восстановить данные. Такой возможности нет в учебном проекте. Придётся:\n",
    "* заполнить и эти пропуски явными обозначениями;\n",
    "* оценить, насколько они повредят расчётам. "
   ]
  },
  {
   "cell_type": "markdown",
   "metadata": {
    "deletable": false,
    "editable": false,
    "id": "fSv2laPA_Zct",
    "tags": [
     "start_task"
    ]
   },
   "source": [
    "**Задание 10**\n",
    "\n",
    "Замените пропущенные значения в столбцах `track`, `artist` и `genre` на строку `'unknown'`. Для этого создайте список `columns_to_replace`, переберите его элементы циклом `for` и для каждого столбца выполните замену пропущенных значений:"
   ]
  },
  {
   "cell_type": "code",
   "execution_count": 10,
   "metadata": {
    "deletable": false,
    "id": "KplB5qWs_Zct"
   },
   "outputs": [],
   "source": [
    "# перебор названий столбцов в цикле и замена пропущенных значений на 'unknown'\n",
    "columns_to_replace = ['track', 'artist', 'genre']\n",
    "\n",
    "for column in columns_to_replace:\n",
    "    df[column] = df[column].fillna('unknown')"
   ]
  },
  {
   "cell_type": "markdown",
   "metadata": {
    "deletable": false,
    "editable": false,
    "id": "Ilsm-MZo_Zct",
    "tags": [
     "start_task"
    ]
   },
   "source": [
    "**Задание 11**\n",
    "\n",
    "Убедитесь, что в таблице не осталось пропусков. Для этого ещё раз посчитайте пропущенные значения."
   ]
  },
  {
   "cell_type": "code",
   "execution_count": 11,
   "metadata": {
    "deletable": false,
    "id": "Tq4nYRX4_Zct"
   },
   "outputs": [
    {
     "data": {
      "text/plain": [
       "user_id    0\n",
       "track      0\n",
       "artist     0\n",
       "genre      0\n",
       "city       0\n",
       "time       0\n",
       "day        0\n",
       "dtype: int64"
      ]
     },
     "execution_count": 11,
     "metadata": {},
     "output_type": "execute_result"
    }
   ],
   "source": [
    "# подсчёт пропусков\n",
    "df.isna().sum()"
   ]
  },
  {
   "cell_type": "markdown",
   "metadata": {
    "deletable": false,
    "editable": false,
    "id": "BWKRtBJ3_Zct",
    "tags": [
     "start_task"
    ]
   },
   "source": [
    "### Дубликаты\n",
    "\n",
    "**Задание 12**\n",
    "\n",
    "Посчитайте явные дубликаты в таблице одной командой:"
   ]
  },
  {
   "cell_type": "code",
   "execution_count": 12,
   "metadata": {
    "deletable": false,
    "id": "36eES_S0_Zct"
   },
   "outputs": [
    {
     "data": {
      "text/plain": [
       "3826"
      ]
     },
     "execution_count": 12,
     "metadata": {},
     "output_type": "execute_result"
    }
   ],
   "source": [
    "# подсчёт явных дубликатов\n",
    "df.duplicated().sum()"
   ]
  },
  {
   "cell_type": "markdown",
   "metadata": {
    "deletable": false,
    "editable": false,
    "id": "Ot25h6XR_Zct",
    "tags": [
     "start_task"
    ]
   },
   "source": [
    "**Задание 13**\n",
    "\n",
    "Вызовите специальный метод `pandas`, чтобы удалить явные дубликаты:"
   ]
  },
  {
   "cell_type": "code",
   "execution_count": 13,
   "metadata": {
    "deletable": false,
    "id": "exFHq6tt_Zct"
   },
   "outputs": [],
   "source": [
    "# удаление явных дубликатов\n",
    "df = df.drop_duplicates()"
   ]
  },
  {
   "cell_type": "markdown",
   "metadata": {
    "deletable": false,
    "editable": false,
    "id": "Im2YwBEG_Zct",
    "tags": [
     "start_task"
    ]
   },
   "source": [
    "**Задание 14**\n",
    "\n",
    "Ещё раз посчитайте явные дубликаты в таблице — убедитесь, что полностью от них избавились:"
   ]
  },
  {
   "cell_type": "code",
   "execution_count": 14,
   "metadata": {
    "deletable": false,
    "id": "-8PuNWQ0_Zct"
   },
   "outputs": [
    {
     "data": {
      "text/plain": [
       "0"
      ]
     },
     "execution_count": 14,
     "metadata": {},
     "output_type": "execute_result"
    }
   ],
   "source": [
    "# проверка на отсутствие дубликатов\n",
    "df.duplicated().sum()"
   ]
  },
  {
   "cell_type": "markdown",
   "metadata": {
    "deletable": false,
    "editable": false,
    "id": "QlFBsxAr_Zct"
   },
   "source": [
    "Теперь избавьтесь от неявных дубликатов в колонке `genre`. Например, название одного и того же жанра может быть записано немного по-разному. Такие ошибки тоже повлияют на результат исследования."
   ]
  },
  {
   "cell_type": "markdown",
   "metadata": {
    "deletable": false,
    "editable": false,
    "id": "eSjWwsOh_Zct",
    "tags": [
     "start_task"
    ]
   },
   "source": [
    "**Задание 15**\n",
    "\n",
    "Выведите на экран список уникальных названий жанров, отсортированный в алфавитном порядке. Для этого:\n",
    "1. извлеките нужный столбец датафрейма; \n",
    "2. примените к нему метод сортировки;\n",
    "3. для отсортированного столбца вызовите метод, который вернёт уникальные значения из столбца."
   ]
  },
  {
   "cell_type": "code",
   "execution_count": 15,
   "metadata": {
    "deletable": false,
    "id": "JIUcqzZN_Zct"
   },
   "outputs": [
    {
     "data": {
      "text/plain": [
       "array(['acid', 'acoustic', 'action', 'adult', 'africa', 'afrikaans',\n",
       "       'alternative', 'alternativepunk', 'ambient', 'americana',\n",
       "       'animated', 'anime', 'arabesk', 'arabic', 'arena',\n",
       "       'argentinetango', 'art', 'audiobook', 'author', 'avantgarde',\n",
       "       'axé', 'baile', 'balkan', 'beats', 'bigroom', 'black', 'bluegrass',\n",
       "       'blues', 'bollywood', 'bossa', 'brazilian', 'breakbeat', 'breaks',\n",
       "       'broadway', 'cantautori', 'cantopop', 'canzone', 'caribbean',\n",
       "       'caucasian', 'celtic', 'chamber', 'chanson', 'children', 'chill',\n",
       "       'chinese', 'choral', 'christian', 'christmas', 'classical',\n",
       "       'classicmetal', 'club', 'colombian', 'comedy', 'conjazz',\n",
       "       'contemporary', 'country', 'cuban', 'dance', 'dancehall',\n",
       "       'dancepop', 'dark', 'death', 'deep', 'deutschrock', 'deutschspr',\n",
       "       'dirty', 'disco', 'dnb', 'documentary', 'downbeat', 'downtempo',\n",
       "       'drum', 'dub', 'dubstep', 'eastern', 'easy', 'electronic',\n",
       "       'electropop', 'emo', 'entehno', 'epicmetal', 'estrada', 'ethnic',\n",
       "       'eurofolk', 'european', 'experimental', 'extrememetal', 'fado',\n",
       "       'fairytail', 'film', 'fitness', 'flamenco', 'folk', 'folklore',\n",
       "       'folkmetal', 'folkrock', 'folktronica', 'forró', 'frankreich',\n",
       "       'französisch', 'french', 'funk', 'future', 'gangsta', 'garage',\n",
       "       'german', 'ghazal', 'gitarre', 'glitch', 'gospel', 'gothic',\n",
       "       'grime', 'grunge', 'gypsy', 'handsup', \"hard'n'heavy\", 'hardcore',\n",
       "       'hardstyle', 'hardtechno', 'hip', 'hip-hop', 'hiphop',\n",
       "       'historisch', 'holiday', 'hop', 'horror', 'house', 'hymn', 'idm',\n",
       "       'independent', 'indian', 'indie', 'indipop', 'industrial',\n",
       "       'inspirational', 'instrumental', 'international', 'irish', 'jam',\n",
       "       'japanese', 'jazz', 'jewish', 'jpop', 'jungle', 'k-pop',\n",
       "       'karadeniz', 'karaoke', 'kayokyoku', 'korean', 'laiko', 'latin',\n",
       "       'latino', 'leftfield', 'local', 'lounge', 'loungeelectronic',\n",
       "       'lovers', 'malaysian', 'mandopop', 'marschmusik', 'meditative',\n",
       "       'mediterranean', 'melodic', 'metal', 'metalcore', 'mexican',\n",
       "       'middle', 'minimal', 'miscellaneous', 'modern', 'mood', 'mpb',\n",
       "       'muslim', 'native', 'neoklassik', 'neue', 'new', 'newage',\n",
       "       'newwave', 'nu', 'nujazz', 'numetal', 'oceania', 'old', 'opera',\n",
       "       'orchestral', 'other', 'piano', 'podcasts', 'pop', 'popdance',\n",
       "       'popelectronic', 'popeurodance', 'poprussian', 'post',\n",
       "       'posthardcore', 'postrock', 'power', 'progmetal', 'progressive',\n",
       "       'psychedelic', 'punjabi', 'punk', 'quebecois', 'ragga', 'ram',\n",
       "       'rancheras', 'rap', 'rave', 'reggae', 'reggaeton', 'regional',\n",
       "       'relax', 'religious', 'retro', 'rhythm', 'rnb', 'rnr', 'rock',\n",
       "       'rockabilly', 'rockalternative', 'rockindie', 'rockother',\n",
       "       'romance', 'roots', 'ruspop', 'rusrap', 'rusrock', 'russian',\n",
       "       'salsa', 'samba', 'scenic', 'schlager', 'self', 'sertanejo',\n",
       "       'shanson', 'shoegazing', 'showtunes', 'singer', 'ska', 'skarock',\n",
       "       'slow', 'smooth', 'soft', 'soul', 'soulful', 'sound', 'soundtrack',\n",
       "       'southern', 'specialty', 'speech', 'spiritual', 'sport',\n",
       "       'stonerrock', 'surf', 'swing', 'synthpop', 'synthrock',\n",
       "       'sängerportrait', 'tango', 'tanzorchester', 'taraftar', 'tatar',\n",
       "       'tech', 'techno', 'teen', 'thrash', 'top', 'traditional',\n",
       "       'tradjazz', 'trance', 'tribal', 'trip', 'triphop', 'tropical',\n",
       "       'türk', 'türkçe', 'ukrrock', 'unknown', 'urban', 'uzbek',\n",
       "       'variété', 'vi', 'videogame', 'vocal', 'western', 'world',\n",
       "       'worldbeat', 'ïîï', 'электроника'], dtype=object)"
      ]
     },
     "execution_count": 15,
     "metadata": {},
     "output_type": "execute_result"
    }
   ],
   "source": [
    "# Просмотр уникальных названий жанров\n",
    "column_genre = df['genre']\n",
    "sorted_genre = column_genre.sort_values()\n",
    "unique_genre = sorted_genre.unique()\n",
    "unique_genre"
   ]
  },
  {
   "cell_type": "markdown",
   "metadata": {
    "deletable": false,
    "editable": false,
    "id": "qej-Qmuo_Zct",
    "tags": [
     "start_task"
    ]
   },
   "source": [
    "**Задание 16**\n",
    "\n",
    "Просмотрите список и найдите неявные дубликаты названия `hiphop`. Это могут быть названия с ошибками или альтернативные названия того же жанра.\n",
    "\n",
    "Вы увидите следующие неявные дубликаты:\n",
    "* *hip*,\n",
    "* *hop*,\n",
    "* *hip-hop*.\n",
    "\n",
    "Чтобы очистить от них таблицу используйте метод `replace()` с двумя аргументами: списком строк-дубликатов (включащий *hip*, *hop* и *hip-hop*) и строкой с правильным значением. Вам нужно исправить колонку `genre` в таблице `df`: заменить каждое значение из списка дубликатов на верное. Вместо `hip`, `hop` и `hip-hop` в таблице должно быть значение `hiphop`:"
   ]
  },
  {
   "cell_type": "code",
   "execution_count": 16,
   "metadata": {
    "deletable": false,
    "id": "ErNDkmns_Zct"
   },
   "outputs": [],
   "source": [
    "# Устранение неявных дубликатов\n",
    "df['genre'] = df['genre'].replace(to_replace = [\"hip\", \"hop\",  \"hip-hop\"], value = \"hiphop\")"
   ]
  },
  {
   "cell_type": "markdown",
   "metadata": {
    "deletable": false,
    "editable": false,
    "id": "zQKF16_RG15m",
    "tags": [
     "start_task"
    ]
   },
   "source": [
    "**Задание 17**\n",
    "\n",
    "Проверьте, что заменили неправильные названия:\n",
    "\n",
    "*   hip,\n",
    "*   hop,\n",
    "*   hip-hop.\n",
    "\n",
    "Выведите отсортированный список уникальных значений столбца `genre`:"
   ]
  },
  {
   "cell_type": "code",
   "execution_count": 17,
   "metadata": {
    "deletable": false,
    "id": "wvixALnFG15m"
   },
   "outputs": [
    {
     "data": {
      "text/plain": [
       "array(['acid', 'acoustic', 'action', 'adult', 'africa', 'afrikaans',\n",
       "       'alternative', 'alternativepunk', 'ambient', 'americana',\n",
       "       'animated', 'anime', 'arabesk', 'arabic', 'arena',\n",
       "       'argentinetango', 'art', 'audiobook', 'author', 'avantgarde',\n",
       "       'axé', 'baile', 'balkan', 'beats', 'bigroom', 'black', 'bluegrass',\n",
       "       'blues', 'bollywood', 'bossa', 'brazilian', 'breakbeat', 'breaks',\n",
       "       'broadway', 'cantautori', 'cantopop', 'canzone', 'caribbean',\n",
       "       'caucasian', 'celtic', 'chamber', 'chanson', 'children', 'chill',\n",
       "       'chinese', 'choral', 'christian', 'christmas', 'classical',\n",
       "       'classicmetal', 'club', 'colombian', 'comedy', 'conjazz',\n",
       "       'contemporary', 'country', 'cuban', 'dance', 'dancehall',\n",
       "       'dancepop', 'dark', 'death', 'deep', 'deutschrock', 'deutschspr',\n",
       "       'dirty', 'disco', 'dnb', 'documentary', 'downbeat', 'downtempo',\n",
       "       'drum', 'dub', 'dubstep', 'eastern', 'easy', 'electronic',\n",
       "       'electropop', 'emo', 'entehno', 'epicmetal', 'estrada', 'ethnic',\n",
       "       'eurofolk', 'european', 'experimental', 'extrememetal', 'fado',\n",
       "       'fairytail', 'film', 'fitness', 'flamenco', 'folk', 'folklore',\n",
       "       'folkmetal', 'folkrock', 'folktronica', 'forró', 'frankreich',\n",
       "       'französisch', 'french', 'funk', 'future', 'gangsta', 'garage',\n",
       "       'german', 'ghazal', 'gitarre', 'glitch', 'gospel', 'gothic',\n",
       "       'grime', 'grunge', 'gypsy', 'handsup', \"hard'n'heavy\", 'hardcore',\n",
       "       'hardstyle', 'hardtechno', 'hiphop', 'historisch', 'holiday',\n",
       "       'horror', 'house', 'hymn', 'idm', 'independent', 'indian', 'indie',\n",
       "       'indipop', 'industrial', 'inspirational', 'instrumental',\n",
       "       'international', 'irish', 'jam', 'japanese', 'jazz', 'jewish',\n",
       "       'jpop', 'jungle', 'k-pop', 'karadeniz', 'karaoke', 'kayokyoku',\n",
       "       'korean', 'laiko', 'latin', 'latino', 'leftfield', 'local',\n",
       "       'lounge', 'loungeelectronic', 'lovers', 'malaysian', 'mandopop',\n",
       "       'marschmusik', 'meditative', 'mediterranean', 'melodic', 'metal',\n",
       "       'metalcore', 'mexican', 'middle', 'minimal', 'miscellaneous',\n",
       "       'modern', 'mood', 'mpb', 'muslim', 'native', 'neoklassik', 'neue',\n",
       "       'new', 'newage', 'newwave', 'nu', 'nujazz', 'numetal', 'oceania',\n",
       "       'old', 'opera', 'orchestral', 'other', 'piano', 'podcasts', 'pop',\n",
       "       'popdance', 'popelectronic', 'popeurodance', 'poprussian', 'post',\n",
       "       'posthardcore', 'postrock', 'power', 'progmetal', 'progressive',\n",
       "       'psychedelic', 'punjabi', 'punk', 'quebecois', 'ragga', 'ram',\n",
       "       'rancheras', 'rap', 'rave', 'reggae', 'reggaeton', 'regional',\n",
       "       'relax', 'religious', 'retro', 'rhythm', 'rnb', 'rnr', 'rock',\n",
       "       'rockabilly', 'rockalternative', 'rockindie', 'rockother',\n",
       "       'romance', 'roots', 'ruspop', 'rusrap', 'rusrock', 'russian',\n",
       "       'salsa', 'samba', 'scenic', 'schlager', 'self', 'sertanejo',\n",
       "       'shanson', 'shoegazing', 'showtunes', 'singer', 'ska', 'skarock',\n",
       "       'slow', 'smooth', 'soft', 'soul', 'soulful', 'sound', 'soundtrack',\n",
       "       'southern', 'specialty', 'speech', 'spiritual', 'sport',\n",
       "       'stonerrock', 'surf', 'swing', 'synthpop', 'synthrock',\n",
       "       'sängerportrait', 'tango', 'tanzorchester', 'taraftar', 'tatar',\n",
       "       'tech', 'techno', 'teen', 'thrash', 'top', 'traditional',\n",
       "       'tradjazz', 'trance', 'tribal', 'trip', 'triphop', 'tropical',\n",
       "       'türk', 'türkçe', 'ukrrock', 'unknown', 'urban', 'uzbek',\n",
       "       'variété', 'vi', 'videogame', 'vocal', 'western', 'world',\n",
       "       'worldbeat', 'ïîï', 'электроника'], dtype=object)"
      ]
     },
     "execution_count": 17,
     "metadata": {},
     "output_type": "execute_result"
    }
   ],
   "source": [
    "# Проверка на неявные дубликаты\n",
    "column_genre = df['genre']\n",
    "sorted_genre = column_genre.sort_values()\n",
    "unique_genre = sorted_genre.unique()\n",
    "unique_genre"
   ]
  },
  {
   "cell_type": "markdown",
   "metadata": {
    "deletable": false,
    "editable": false,
    "id": "jz6a9-7HQUDd"
   },
   "source": [
    "**Выводы**\n",
    "\n",
    "Предобработка обнаружила три проблемы в данных:\n",
    "\n",
    "- нарушения в стиле заголовков,\n",
    "- пропущенные значения,\n",
    "- дубликаты — явные и неявные.\n",
    "\n",
    "Вы исправили заголовки, чтобы упростить работу с таблицей. Без дубликатов исследование станет более точным.\n",
    "\n",
    "Пропущенные значения вы заменили на `'unknown'`. Ещё предстоит увидеть, не повредят ли исследованию пропуски в колонке `genre`.\n",
    "\n",
    "Теперь можно перейти к проверке гипотез. "
   ]
  },
  {
   "cell_type": "markdown",
   "metadata": {
    "deletable": false,
    "editable": false,
    "id": "WttZHXH0SqKk"
   },
   "source": [
    "## Проверка гипотез"
   ]
  },
  {
   "cell_type": "markdown",
   "metadata": {
    "deletable": false,
    "editable": false,
    "id": "Im936VVi_Zcu"
   },
   "source": [
    "### Сравнение поведения пользователей двух столиц"
   ]
  },
  {
   "cell_type": "markdown",
   "metadata": {
    "deletable": false,
    "editable": false,
    "id": "nwt_MuaL_Zcu"
   },
   "source": [
    "Первая гипотеза утверждает, что пользователи по-разному слушают музыку в Москве и Санкт-Петербурге. Проверьте это предположение по данным о трёх днях недели — понедельнике, среде и пятнице. Для этого:\n",
    "\n",
    "* Разделите пользователей Москвы и Санкт-Петербурга.\n",
    "* Сравните, сколько треков послушала каждая группа пользователей в понедельник, среду и пятницу.\n"
   ]
  },
  {
   "cell_type": "markdown",
   "metadata": {
    "deletable": false,
    "editable": false,
    "id": "8Dw_YMmT_Zcu",
    "tags": [
     "start_task"
    ]
   },
   "source": [
    "**Задание 18**\n",
    "\n",
    "Для тренировки сначала выполните каждый из расчётов по отдельности. \n",
    "\n",
    "Оцените активность пользователей в каждом городе. Сгруппируйте данные по городу и посчитайте прослушивания в каждой группе.\n",
    "\n"
   ]
  },
  {
   "cell_type": "code",
   "execution_count": 18,
   "metadata": {
    "deletable": false,
    "id": "0_Qs96oh_Zcu"
   },
   "outputs": [
    {
     "data": {
      "text/plain": [
       "city\n",
       "Moscow              42741\n",
       "Saint-Petersburg    18512\n",
       "Name: genre, dtype: int64"
      ]
     },
     "execution_count": 18,
     "metadata": {},
     "output_type": "execute_result"
    }
   ],
   "source": [
    "# Подсчёт прослушиваний в каждом городе\n",
    "group_by_city = df.groupby('city')['genre'].count()\n",
    "group_by_city"
   ]
  },
  {
   "cell_type": "markdown",
   "metadata": {
    "deletable": false,
    "editable": false,
    "id": "dzli3w8o_Zcu",
    "tags": [
     "start_task"
    ]
   },
   "source": [
    "В Москве прослушиваний больше, чем в Петербурге. Из этого не следует, что московские пользователи чаще слушают музыку. Просто самих пользователей в Москве больше.\n",
    "\n",
    "**Задание 19**\n",
    "\n",
    "Теперь сгруппируйте данные по дню недели и посчитайте прослушивания в понедельник, среду и пятницу. Учтите, что в данных есть информация о прослушиваниях только за эти дни.\n"
   ]
  },
  {
   "cell_type": "code",
   "execution_count": 19,
   "metadata": {
    "deletable": false,
    "id": "uZMKjiJz_Zcu"
   },
   "outputs": [
    {
     "data": {
      "text/plain": [
       "day\n",
       "Friday       21840\n",
       "Monday       21354\n",
       "Wednesday    18059\n",
       "Name: genre, dtype: int64"
      ]
     },
     "execution_count": 19,
     "metadata": {},
     "output_type": "execute_result"
    }
   ],
   "source": [
    "# Подсчёт прослушиваний в каждый из трёх дней\n",
    "group_by_day = df.groupby('day')['genre'].count()\n",
    "group_by_day"
   ]
  },
  {
   "cell_type": "markdown",
   "metadata": {
    "deletable": false,
    "editable": false,
    "id": "cC2tNrlL_Zcu"
   },
   "source": [
    "В среднем пользователи из двух городов менее активны по средам. Но картина может измениться, если рассмотреть каждый город в отдельности."
   ]
  },
  {
   "cell_type": "markdown",
   "metadata": {
    "deletable": false,
    "editable": false,
    "id": "POzs8bGa_Zcu",
    "tags": [
     "start_task"
    ]
   },
   "source": [
    "**Задание 20**\n",
    "\n",
    "\n",
    "Вы видели, как работает группировка по городу и по дням недели. Теперь напишите функцию, которая объединит два эти расчёта.\n",
    "\n",
    "Создайте функцию `number_tracks()`, которая посчитает прослушивания для заданного дня и города. Ей понадобятся два параметра:\n",
    "* день недели,\n",
    "* название города.\n",
    "\n",
    "В функции сохраните в переменную строки исходной таблицы, у которых значение:\n",
    "  * в колонке `day` равно параметру `day`,\n",
    "  * в колонке `city` равно параметру `city`.\n",
    "\n",
    "Для этого примените последовательную фильтрацию с логической индексацией (или сложные логические выражения в одну строку, если вы уже знакомы с ними).\n",
    "\n",
    "Затем посчитайте значения в столбце `user_id` получившейся таблицы. Результат сохраните в новую переменную. Верните эту переменную из функции."
   ]
  },
  {
   "cell_type": "code",
   "execution_count": 20,
   "metadata": {
    "deletable": false,
    "id": "Nz3GdQB1_Zcu"
   },
   "outputs": [],
   "source": [
    "# <создание функции number_tracks()>\n",
    "# Объявляется функция с двумя параметрами: day, city.\n",
    "def number_tracks(day, city):\n",
    "    \n",
    "# В переменной track_list сохраняются те строки таблицы df, для которых \n",
    "# значение в столбце 'day' равно параметру day и одновременно значение\n",
    "# в столбце 'city' равно параметру city\n",
    "    track_list = df[df['day'] == day]\n",
    "    track_list = track_list[track_list['city'] == city]                        \n",
    "    \n",
    "# В переменной track_list_count сохраняется число значений столбца 'user_id',\n",
    "# рассчитанное методом count() для таблицы track_list.\n",
    "    track_list_count = track_list['user_id'].count()\n",
    "    \n",
    "# Функция возвращает число - значение track_list_count.\n",
    "    return track_list_count\n",
    "\n",
    "\n",
    "# Функция для подсчёта прослушиваний для конкретного города и дня.\n",
    "# С помощью последовательной фильтрации с логической индексацией она \n",
    "# сначала получит из исходной таблицы строки с нужным днём,\n",
    "# затем из результата отфильтрует строки с нужным городом,\n",
    "# методом count() посчитает количество значений в колонке user_id. \n",
    "# Это количество функция вернёт в качестве результата"
   ]
  },
  {
   "cell_type": "markdown",
   "metadata": {
    "deletable": false,
    "editable": false,
    "id": "ytf7xFrFJQ2r",
    "tags": [
     "start_task"
    ]
   },
   "source": [
    "**Задание 21**\n",
    "\n",
    "Вызовите `number_tracks()` шесть раз, меняя значение параметров — так, чтобы получить данные для каждого города в каждый из трёх дней."
   ]
  },
  {
   "cell_type": "code",
   "execution_count": 21,
   "metadata": {
    "deletable": false,
    "id": "rJcRATNQ_Zcu"
   },
   "outputs": [
    {
     "data": {
      "text/plain": [
       "15740"
      ]
     },
     "execution_count": 21,
     "metadata": {},
     "output_type": "execute_result"
    }
   ],
   "source": [
    "# количество прослушиваний в Москве по понедельникам\n",
    "number_tracks('Monday', 'Moscow')"
   ]
  },
  {
   "cell_type": "code",
   "execution_count": 22,
   "metadata": {
    "deletable": false,
    "id": "hq_ncZ5T_Zcu"
   },
   "outputs": [
    {
     "data": {
      "text/plain": [
       "5614"
      ]
     },
     "execution_count": 22,
     "metadata": {},
     "output_type": "execute_result"
    }
   ],
   "source": [
    "# количество прослушиваний в Санкт-Петербурге по понедельникам\n",
    "number_tracks('Monday', 'Saint-Petersburg')"
   ]
  },
  {
   "cell_type": "code",
   "execution_count": 23,
   "metadata": {
    "deletable": false,
    "id": "_NTy2VPU_Zcu"
   },
   "outputs": [
    {
     "data": {
      "text/plain": [
       "11056"
      ]
     },
     "execution_count": 23,
     "metadata": {},
     "output_type": "execute_result"
    }
   ],
   "source": [
    "# количество прослушиваний в Москве по средам\n",
    "number_tracks('Wednesday', 'Moscow')"
   ]
  },
  {
   "cell_type": "code",
   "execution_count": 24,
   "metadata": {
    "deletable": false,
    "id": "j2y3TAwo_Zcu"
   },
   "outputs": [
    {
     "data": {
      "text/plain": [
       "7003"
      ]
     },
     "execution_count": 24,
     "metadata": {},
     "output_type": "execute_result"
    }
   ],
   "source": [
    "# количество прослушиваний в Санкт-Петербурге по средам\n",
    "number_tracks('Wednesday', 'Saint-Petersburg')"
   ]
  },
  {
   "cell_type": "code",
   "execution_count": 25,
   "metadata": {
    "deletable": false,
    "id": "vYDw5u_K_Zcu"
   },
   "outputs": [
    {
     "data": {
      "text/plain": [
       "15945"
      ]
     },
     "execution_count": 25,
     "metadata": {},
     "output_type": "execute_result"
    }
   ],
   "source": [
    "# количество прослушиваний в Москве по пятницам\n",
    "number_tracks('Friday', 'Moscow')"
   ]
  },
  {
   "cell_type": "code",
   "execution_count": 26,
   "metadata": {
    "deletable": false,
    "id": "8_yzFtW3_Zcu"
   },
   "outputs": [
    {
     "data": {
      "text/plain": [
       "5895"
      ]
     },
     "execution_count": 26,
     "metadata": {},
     "output_type": "execute_result"
    }
   ],
   "source": [
    "# количество прослушиваний в Санкт-Петербурге по пятницам\n",
    "number_tracks('Friday', 'Saint-Petersburg')"
   ]
  },
  {
   "cell_type": "markdown",
   "metadata": {
    "deletable": false,
    "editable": false,
    "id": "7QXffbO-_Zcu",
    "tags": [
     "start_task"
    ]
   },
   "source": [
    "**Задание 22**\n",
    "\n",
    "Создайте c помощью конструктора `pd.DataFrame` таблицу, где\n",
    "* названия колонок — `['city', 'monday', 'wednesday', 'friday']`;\n",
    "* данные — результаты, которые вы получили с помощью `number_tracks`."
   ]
  },
  {
   "cell_type": "code",
   "execution_count": 27,
   "metadata": {
    "deletable": false,
    "id": "APAcLpOr_Zcu"
   },
   "outputs": [
    {
     "data": {
      "text/html": [
       "<div>\n",
       "<style scoped>\n",
       "    .dataframe tbody tr th:only-of-type {\n",
       "        vertical-align: middle;\n",
       "    }\n",
       "\n",
       "    .dataframe tbody tr th {\n",
       "        vertical-align: top;\n",
       "    }\n",
       "\n",
       "    .dataframe thead th {\n",
       "        text-align: right;\n",
       "    }\n",
       "</style>\n",
       "<table border=\"1\" class=\"dataframe\">\n",
       "  <thead>\n",
       "    <tr style=\"text-align: right;\">\n",
       "      <th></th>\n",
       "      <th>city</th>\n",
       "      <th>monday</th>\n",
       "      <th>wednesday</th>\n",
       "      <th>friday</th>\n",
       "    </tr>\n",
       "  </thead>\n",
       "  <tbody>\n",
       "    <tr>\n",
       "      <th>0</th>\n",
       "      <td>Москва</td>\n",
       "      <td>15740</td>\n",
       "      <td>11056</td>\n",
       "      <td>15945</td>\n",
       "    </tr>\n",
       "    <tr>\n",
       "      <th>1</th>\n",
       "      <td>Санкт-Петербург</td>\n",
       "      <td>5614</td>\n",
       "      <td>7003</td>\n",
       "      <td>5895</td>\n",
       "    </tr>\n",
       "  </tbody>\n",
       "</table>\n",
       "</div>"
      ],
      "text/plain": [
       "              city  monday  wednesday  friday\n",
       "0           Москва   15740      11056   15945\n",
       "1  Санкт-Петербург    5614       7003    5895"
      ]
     },
     "execution_count": 27,
     "metadata": {},
     "output_type": "execute_result"
    }
   ],
   "source": [
    "# Таблица с результатами\n",
    "info = pd.DataFrame(data=[['Москва', 15740, 11056, 15945], ['Санкт-Петербург', 5614, 7003, 5895]], columns=['city', 'monday', 'wednesday', 'friday'])\n",
    "info"
   ]
  },
  {
   "cell_type": "markdown",
   "metadata": {
    "deletable": false,
    "editable": false,
    "id": "-EgPIHYu_Zcu"
   },
   "source": [
    "**Выводы**\n",
    "\n",
    "Данные показывают разницу поведения пользователей:\n",
    "\n",
    "- В Москве пик прослушиваний приходится на понедельник и пятницу, а в среду заметен спад.\n",
    "- В Петербурге, наоборот, больше слушают музыку по средам. Активность в понедельник и пятницу здесь почти в равной мере уступает среде.\n",
    "\n",
    "Значит, данные говорят в пользу первой гипотезы."
   ]
  },
  {
   "cell_type": "markdown",
   "metadata": {
    "deletable": false,
    "editable": false,
    "id": "atZAxtq4_Zcu"
   },
   "source": [
    "### Музыка в начале и в конце недели"
   ]
  },
  {
   "cell_type": "markdown",
   "metadata": {
    "deletable": false,
    "editable": false,
    "id": "eXrQqXFH_Zcu"
   },
   "source": [
    "Согласно второй гипотезе, утром в понедельник в Москве преобладают одни жанры, а в Петербурге — другие. Так же и вечером пятницы преобладают разные жанры — в зависимости от города."
   ]
  },
  {
   "cell_type": "markdown",
   "metadata": {
    "deletable": false,
    "editable": false,
    "id": "S8UcW6Hw_Zcu",
    "tags": [
     "start_task"
    ]
   },
   "source": [
    "**Задание 23**\n",
    "\n",
    "Сохраните таблицы с данными в две переменные:\n",
    "* по Москве — в `moscow_general`;\n",
    "* по Санкт-Петербургу — в `spb_general`."
   ]
  },
  {
   "cell_type": "code",
   "execution_count": 28,
   "metadata": {
    "deletable": false,
    "id": "qeaFfM_P_Zcu"
   },
   "outputs": [],
   "source": [
    "# получение таблицы moscow_general из тех строк таблицы df, \n",
    "# для которых значение в столбце 'city' равно 'Moscow'\n",
    "moscow_general = df[df['city'] == 'Moscow']"
   ]
  },
  {
   "cell_type": "code",
   "execution_count": 29,
   "metadata": {
    "deletable": false,
    "id": "ORaVRKto_Zcu"
   },
   "outputs": [],
   "source": [
    "# получение таблицы spb_general из тех строк таблицы df,\n",
    "# для которых значение в столбце 'city' равно 'Saint-Petersburg'\n",
    "spb_general = df[df['city'] == 'Saint-Petersburg']"
   ]
  },
  {
   "cell_type": "markdown",
   "metadata": {
    "deletable": false,
    "editable": false,
    "id": "MEJV-CX2_Zcu",
    "tags": [
     "start_task"
    ]
   },
   "source": [
    "**Задание 24**\n",
    "\n",
    "Создайте функцию `genre_weekday()` с четырьмя параметрами:\n",
    "* таблица (датафрейм) с данными,\n",
    "* день недели,\n",
    "* начальная временная метка в формате 'hh:mm', \n",
    "* последняя временная метка в формате 'hh:mm'.\n",
    "\n",
    "Функция должна вернуть информацию о топ-10 жанров тех треков, которые прослушивали в указанный день, в промежутке между двумя отметками времени."
   ]
  },
  {
   "cell_type": "code",
   "execution_count": 30,
   "metadata": {
    "deletable": false,
    "id": "laJT9BYl_Zcu"
   },
   "outputs": [],
   "source": [
    "# Объявление функции genre_weekday() с параметрами table, day, time1, time2,\n",
    "# которая возвращает информацию о самых популярных жанрах в указанный день в\n",
    "# заданное время:\n",
    "def genre_weekday(table, day, time1, time2):\n",
    "    \n",
    "# 1) в переменную genre_df сохраняются те строки переданного датафрейма table, для\n",
    "#    которых одновременно:\n",
    "#    - значение в столбце day равно значению аргумента day\n",
    "#    - значение в столбце time больше значения аргумента time1\n",
    "#    - значение в столбце time меньше значения аргумента time2\n",
    "    genre_df = table[table['day'] == day]\n",
    "    genre_df = genre_df[genre_df['time'] >= time1]\n",
    "    genre_df = genre_df[genre_df['time'] <= time2]\n",
    "    \n",
    "# 2) сгруппировать датафрейм genre_df по столбцу genre, взять один из его\n",
    "#    столбцов и посчитать методом count() количество записей для каждого из\n",
    "#    присутствующих жанров, получившийся Series записать в переменную\n",
    "#    genre_df_count\n",
    "    genre_df_count = genre_df.groupby('genre')['genre'].count()\n",
    "\n",
    "# 3) отсортировать genre_df_count по убыванию встречаемости и сохранить\n",
    "#    в переменную genre_df_sorted\n",
    "    genre_df_sorted = genre_df_count.sort_values(ascending=False)\n",
    "\n",
    "# 4) вернуть Series из 10 первых значений genre_df_sorted, это будут топ-10\n",
    "#    популярных жанров (в указанный день, в заданное время)\n",
    "    return genre_df_sorted.head(10)\n"
   ]
  },
  {
   "cell_type": "markdown",
   "metadata": {
    "deletable": false,
    "editable": false,
    "id": "la2s2_PF_Zcu",
    "tags": [
     "start_task"
    ]
   },
   "source": [
    "**Задание 25**\n",
    "\n",
    "\n",
    "Cравните результаты функции `genre_weekday()` для Москвы и Санкт-Петербурга в понедельник утром (с 7:00 до 11:00) и в пятницу вечером (с 17:00 до 23:00):"
   ]
  },
  {
   "cell_type": "code",
   "execution_count": 31,
   "metadata": {
    "deletable": false,
    "id": "yz7itPUQ_Zcu"
   },
   "outputs": [
    {
     "data": {
      "text/plain": [
       "genre\n",
       "pop            781\n",
       "dance          549\n",
       "electronic     480\n",
       "rock           474\n",
       "hiphop         286\n",
       "ruspop         186\n",
       "world          181\n",
       "rusrap         175\n",
       "alternative    164\n",
       "unknown        161\n",
       "Name: genre, dtype: int64"
      ]
     },
     "execution_count": 31,
     "metadata": {},
     "output_type": "execute_result"
    }
   ],
   "source": [
    "# вызов функции для утра понедельника в Москве \n",
    "genre_weekday(moscow_general, 'Monday', '07:00', '11:00')"
   ]
  },
  {
   "cell_type": "code",
   "execution_count": 32,
   "metadata": {
    "deletable": false,
    "id": "kwUcHPdy_Zcu"
   },
   "outputs": [
    {
     "data": {
      "text/plain": [
       "genre\n",
       "pop            218\n",
       "dance          182\n",
       "rock           162\n",
       "electronic     147\n",
       "hiphop          80\n",
       "ruspop          64\n",
       "alternative     58\n",
       "rusrap          55\n",
       "jazz            44\n",
       "classical       40\n",
       "Name: genre, dtype: int64"
      ]
     },
     "execution_count": 32,
     "metadata": {},
     "output_type": "execute_result"
    }
   ],
   "source": [
    "# вызов функции для утра понедельника в Петербурге \n",
    "genre_weekday(spb_general, 'Monday', '07:00', '11:00')"
   ]
  },
  {
   "cell_type": "code",
   "execution_count": 33,
   "metadata": {
    "deletable": false,
    "id": "EzXVRE1o_Zcu"
   },
   "outputs": [
    {
     "data": {
      "text/plain": [
       "genre\n",
       "pop            713\n",
       "rock           517\n",
       "dance          495\n",
       "electronic     482\n",
       "hiphop         273\n",
       "world          208\n",
       "ruspop         170\n",
       "alternative    163\n",
       "classical      163\n",
       "rusrap         142\n",
       "Name: genre, dtype: int64"
      ]
     },
     "execution_count": 33,
     "metadata": {},
     "output_type": "execute_result"
    }
   ],
   "source": [
    "# вызов функции для вечера пятницы в Москве\n",
    "genre_weekday(moscow_general, 'Friday', '17:00', '23:00')"
   ]
  },
  {
   "cell_type": "code",
   "execution_count": 34,
   "metadata": {
    "deletable": false,
    "id": "JZaEKu5v_Zcu"
   },
   "outputs": [
    {
     "data": {
      "text/plain": [
       "genre\n",
       "pop            256\n",
       "electronic     216\n",
       "rock           216\n",
       "dance          210\n",
       "hiphop          97\n",
       "alternative     63\n",
       "jazz            61\n",
       "classical       60\n",
       "rusrap          59\n",
       "world           54\n",
       "Name: genre, dtype: int64"
      ]
     },
     "execution_count": 34,
     "metadata": {},
     "output_type": "execute_result"
    }
   ],
   "source": [
    "# вызов функции для вечера пятницы в Петербурге\n",
    "genre_weekday(spb_general, 'Friday', '17:00', '23:00')"
   ]
  },
  {
   "cell_type": "markdown",
   "metadata": {
    "deletable": false,
    "editable": false,
    "id": "wrCe4MNX_Zcu"
   },
   "source": [
    "**Выводы**\n",
    "\n",
    "Если сравнить топ-10 жанров в понедельник утром, можно сделать такие выводы:\n",
    "\n",
    "1. В Москве и Петербурге слушают похожую музыку. Единственное отличие — в московский рейтинг вошёл жанр “world”, а в петербургский — джаз и классика.\n",
    "\n",
    "2. В Москве пропущенных значений оказалось так много, что значение `'unknown'` заняло десятое место среди самых популярных жанров. Значит, пропущенные значения занимают существенную долю в данных и угрожают достоверности исследования.\n",
    "\n",
    "Вечер пятницы не меняет эту картину. Некоторые жанры поднимаются немного выше, другие спускаются, но в целом топ-10 остаётся тем же самым.\n",
    "\n",
    "Таким образом, вторая гипотеза подтвердилась лишь частично:\n",
    "* Пользователи слушают похожую музыку в начале недели и в конце.\n",
    "* Разница между Москвой и Петербургом не слишком выражена. В Москве чаще слушают русскую популярную музыку, в Петербурге — джаз.\n",
    "\n",
    "Однако пропуски в данных ставят под сомнение этот результат. В Москве их так много, что рейтинг топ-10 мог бы выглядеть иначе, если бы не утерянные  данные о жанрах."
   ]
  },
  {
   "cell_type": "markdown",
   "metadata": {
    "deletable": false,
    "editable": false,
    "id": "JolODAqr_Zcu"
   },
   "source": [
    "### Жанровые предпочтения в Москве и Петербурге\n",
    "\n",
    "Гипотеза: Петербург — столица рэпа, музыку этого жанра там слушают чаще, чем в Москве.  А Москва — город контрастов, в котором, тем не менее, преобладает поп-музыка."
   ]
  },
  {
   "cell_type": "markdown",
   "metadata": {
    "deletable": false,
    "editable": false,
    "id": "DlegSvaT_Zcu",
    "tags": [
     "start_task"
    ]
   },
   "source": [
    "**Задание 26**\n",
    "\n",
    "Сгруппируйте таблицу `moscow_general` по жанру и посчитайте прослушивания треков каждого жанра методом `count()`. Затем отсортируйте результат в порядке убывания и сохраните его в таблице `moscow_genres`."
   ]
  },
  {
   "cell_type": "code",
   "execution_count": 35,
   "metadata": {
    "deletable": false,
    "id": "r19lIPke_Zcu"
   },
   "outputs": [],
   "source": [
    "# одной строкой: группировка таблицы moscow_general по столбцу 'genre', \n",
    "# подсчёт числа значений 'genre' в этой группировке методом count(), \n",
    "# сортировка получившегося Series в порядке убывания и сохранение в moscow_genres\n",
    "moscow_genres = moscow_general.groupby('genre')['genre'].count().sort_values(ascending=False) "
   ]
  },
  {
   "cell_type": "markdown",
   "metadata": {
    "deletable": false,
    "editable": false,
    "id": "6kMuomxTiIr8",
    "tags": [
     "start_task"
    ]
   },
   "source": [
    "**Задание 27**\n",
    "\n",
    "Выведите на экран первые десять строк `moscow_genres`:"
   ]
  },
  {
   "cell_type": "code",
   "execution_count": 36,
   "metadata": {
    "deletable": false,
    "id": "WhCSooF8_Zcv"
   },
   "outputs": [
    {
     "data": {
      "text/plain": [
       "genre\n",
       "pop            5892\n",
       "dance          4435\n",
       "rock           3965\n",
       "electronic     3786\n",
       "hiphop         2096\n",
       "classical      1616\n",
       "world          1432\n",
       "alternative    1379\n",
       "ruspop         1372\n",
       "rusrap         1161\n",
       "Name: genre, dtype: int64"
      ]
     },
     "execution_count": 36,
     "metadata": {},
     "output_type": "execute_result"
    }
   ],
   "source": [
    "# просмотр первых 10 строк moscow_genres\n",
    "moscow_genres.head(10)"
   ]
  },
  {
   "cell_type": "markdown",
   "metadata": {
    "deletable": false,
    "editable": false,
    "id": "cnPG2vnN_Zcv",
    "tags": [
     "start_task"
    ]
   },
   "source": [
    "**Задание 28**\n",
    "\n",
    "\n",
    "Теперь повторите то же и для Петербурга.\n",
    "\n",
    "Сгруппируйте таблицу `spb_general` по жанру. Посчитайте прослушивания треков каждого жанра. Результат отсортируйте в порядке убывания и сохраните в таблице `spb_genres`:\n"
   ]
  },
  {
   "cell_type": "code",
   "execution_count": 37,
   "metadata": {
    "deletable": false,
    "id": "gluLIpE7_Zcv"
   },
   "outputs": [],
   "source": [
    "# одной строкой: группировка таблицы spb_general по столбцу 'genre', \n",
    "# подсчёт числа значений 'genre' в этой группировке методом count(), \n",
    "# сортировка получившегося Series в порядке убывания и сохранение в spb_genres\n",
    "spb_genres = spb_general .groupby('genre')['genre'].count().sort_values(ascending=False) "
   ]
  },
  {
   "cell_type": "markdown",
   "metadata": {
    "deletable": false,
    "editable": false,
    "id": "5Doha_ODgyQ8",
    "tags": [
     "start_task"
    ]
   },
   "source": [
    "**Задание 29**\n",
    "\n",
    "Выведите на экран первые десять строк `spb_genres`:"
   ]
  },
  {
   "cell_type": "code",
   "execution_count": 38,
   "metadata": {
    "deletable": false,
    "id": "uaGJHjVU_Zcv"
   },
   "outputs": [
    {
     "data": {
      "text/plain": [
       "genre\n",
       "pop            2431\n",
       "dance          1932\n",
       "rock           1879\n",
       "electronic     1736\n",
       "hiphop          960\n",
       "alternative     649\n",
       "classical       646\n",
       "rusrap          564\n",
       "ruspop          538\n",
       "world           515\n",
       "Name: genre, dtype: int64"
      ]
     },
     "execution_count": 38,
     "metadata": {},
     "output_type": "execute_result"
    }
   ],
   "source": [
    "# просмотр первых 10 строк spb_genres\n",
    "spb_genres.head(10)"
   ]
  },
  {
   "cell_type": "markdown",
   "metadata": {
    "deletable": false,
    "editable": false,
    "id": "RY51YJYu_Zcv"
   },
   "source": [
    "**Выводы**"
   ]
  },
  {
   "cell_type": "markdown",
   "metadata": {
    "deletable": false,
    "editable": false,
    "id": "nVhnJEm__Zcv"
   },
   "source": [
    "Гипотеза частично подтвердилась:\n",
    "* Поп-музыка — самый популярный жанр в Москве, как и предполагала гипотеза. Более того, в топ-10 жанров встречается близкий жанр — русская популярная музыка.\n",
    "* Вопреки ожиданиям, рэп одинаково популярен в Москве и Петербурге. \n"
   ]
  },
  {
   "cell_type": "markdown",
   "metadata": {
    "deletable": false,
    "editable": false,
    "id": "ykKQ0N65_Zcv"
   },
   "source": [
    "## Итоги исследования"
   ]
  },
  {
   "cell_type": "markdown",
   "metadata": {
    "deletable": false,
    "editable": false,
    "id": "tjUwbHb3_Zcv"
   },
   "source": [
    "Вы проверили три гипотезы и установили:\n",
    "\n",
    "1. День недели по-разному влияет на активность пользователей в Москве и Петербурге. \n",
    "\n",
    "Первая гипотеза полностью подтвердилась.\n",
    "\n",
    "2. Музыкальные предпочтения не сильно меняются в течение недели — будь то Москва или Петербург. Небольшие различия заметны в начале недели, по понедельникам:\n",
    "* в Москве слушают музыку жанра “world”,\n",
    "* в Петербурге — джаз и классику.\n",
    "\n",
    "Таким образом, вторая гипотеза подтвердилась лишь отчасти. Этот результат мог оказаться иным, если бы не пропуски в данных.\n",
    "\n",
    "3. Во вкусах пользователей Москвы и Петербурга больше общего чем различий. Вопреки ожиданиям, предпочтения жанров в Петербурге напоминают московские.\n",
    "\n",
    "Третья гипотеза не подтвердилась. Если различия в предпочтениях и существуют, на основной массе пользователей они незаметны.\n",
    "\n",
    "**На практике исследования содержат проверки статистических гипотез.**\n",
    "Из данных одного сервиса не всегда можно сделать вывод о всех жителях города.\n",
    "Проверки статистических гипотез покажут, насколько они достоверны, исходя из имеющихся данных. \n",
    "С методами проверок гипотез вы ещё познакомитесь в следующих темах."
   ]
  }
 ],
 "metadata": {
  "ExecuteTimeLog": [
   {
    "duration": 385,
    "start_time": "2022-09-13T09:48:39.754Z"
   },
   {
    "duration": 435,
    "start_time": "2022-09-13T09:49:00.639Z"
   },
   {
    "duration": 2,
    "start_time": "2022-09-13T09:49:01.076Z"
   },
   {
    "duration": 9,
    "start_time": "2022-09-13T09:49:01.080Z"
   },
   {
    "duration": 26,
    "start_time": "2022-09-13T09:49:01.091Z"
   },
   {
    "duration": 32,
    "start_time": "2022-09-13T09:49:01.119Z"
   },
   {
    "duration": 35,
    "start_time": "2022-09-13T09:49:01.153Z"
   },
   {
    "duration": 18,
    "start_time": "2022-09-13T09:49:01.189Z"
   },
   {
    "duration": 13,
    "start_time": "2022-09-13T09:49:01.209Z"
   },
   {
    "duration": 24,
    "start_time": "2022-09-13T09:49:01.224Z"
   },
   {
    "duration": 27,
    "start_time": "2022-09-13T09:49:01.251Z"
   },
   {
    "duration": 20,
    "start_time": "2022-09-13T09:49:01.280Z"
   },
   {
    "duration": 30,
    "start_time": "2022-09-13T09:49:01.302Z"
   },
   {
    "duration": 18,
    "start_time": "2022-09-13T09:49:01.334Z"
   },
   {
    "duration": 12,
    "start_time": "2022-09-13T09:49:01.354Z"
   },
   {
    "duration": 38,
    "start_time": "2022-09-13T09:49:01.368Z"
   },
   {
    "duration": 18,
    "start_time": "2022-09-13T09:49:01.408Z"
   },
   {
    "duration": 18,
    "start_time": "2022-09-13T09:49:01.428Z"
   },
   {
    "duration": 11,
    "start_time": "2022-09-13T09:49:01.448Z"
   },
   {
    "duration": 16,
    "start_time": "2022-09-13T09:49:01.461Z"
   },
   {
    "duration": 14,
    "start_time": "2022-09-13T09:49:01.479Z"
   },
   {
    "duration": 13,
    "start_time": "2022-09-13T09:49:01.495Z"
   },
   {
    "duration": 10,
    "start_time": "2022-09-13T09:49:01.510Z"
   },
   {
    "duration": 13,
    "start_time": "2022-09-13T09:49:01.521Z"
   },
   {
    "duration": 16,
    "start_time": "2022-09-13T09:49:01.535Z"
   },
   {
    "duration": 21,
    "start_time": "2022-09-13T09:49:01.553Z"
   },
   {
    "duration": 15,
    "start_time": "2022-09-13T09:49:01.576Z"
   },
   {
    "duration": 7,
    "start_time": "2022-09-13T09:49:01.593Z"
   },
   {
    "duration": 13,
    "start_time": "2022-09-13T09:49:01.603Z"
   },
   {
    "duration": 40,
    "start_time": "2022-09-13T09:49:01.617Z"
   },
   {
    "duration": 54,
    "start_time": "2022-09-13T09:49:01.660Z"
   },
   {
    "duration": 0,
    "start_time": "2022-09-13T09:49:01.715Z"
   },
   {
    "duration": 0,
    "start_time": "2022-09-13T09:49:01.717Z"
   },
   {
    "duration": 0,
    "start_time": "2022-09-13T09:49:01.719Z"
   },
   {
    "duration": 0,
    "start_time": "2022-09-13T09:49:01.720Z"
   },
   {
    "duration": 0,
    "start_time": "2022-09-13T09:49:01.722Z"
   },
   {
    "duration": 0,
    "start_time": "2022-09-13T09:49:01.723Z"
   },
   {
    "duration": 0,
    "start_time": "2022-09-13T09:49:01.724Z"
   },
   {
    "duration": 1,
    "start_time": "2022-09-13T09:49:01.726Z"
   },
   {
    "duration": 73,
    "start_time": "2022-09-13T10:28:54.292Z"
   },
   {
    "duration": 10,
    "start_time": "2022-09-13T10:29:11.875Z"
   },
   {
    "duration": 280,
    "start_time": "2022-09-13T10:29:13.700Z"
   },
   {
    "duration": 9,
    "start_time": "2022-09-13T10:29:15.344Z"
   },
   {
    "duration": 28,
    "start_time": "2022-09-13T10:29:19.767Z"
   },
   {
    "duration": 22,
    "start_time": "2022-09-13T10:34:26.484Z"
   },
   {
    "duration": 11,
    "start_time": "2022-09-13T10:36:09.244Z"
   },
   {
    "duration": 10,
    "start_time": "2022-09-13T10:36:46.862Z"
   },
   {
    "duration": 3,
    "start_time": "2022-09-13T10:36:49.659Z"
   },
   {
    "duration": 37,
    "start_time": "2022-09-13T10:36:52.038Z"
   },
   {
    "duration": 3,
    "start_time": "2022-09-13T10:36:54.015Z"
   },
   {
    "duration": 10,
    "start_time": "2022-09-13T10:36:55.940Z"
   },
   {
    "duration": 9,
    "start_time": "2022-09-13T10:37:18.806Z"
   },
   {
    "duration": 10,
    "start_time": "2022-09-13T10:37:56.175Z"
   },
   {
    "duration": 204,
    "start_time": "2022-09-13T10:38:05.638Z"
   },
   {
    "duration": 15,
    "start_time": "2022-09-13T10:38:09.027Z"
   },
   {
    "duration": 10,
    "start_time": "2022-09-13T10:38:47.176Z"
   },
   {
    "duration": 23,
    "start_time": "2022-09-13T10:39:30.812Z"
   },
   {
    "duration": 4,
    "start_time": "2022-09-13T10:40:33.273Z"
   },
   {
    "duration": 5,
    "start_time": "2022-09-13T10:42:17.874Z"
   },
   {
    "duration": 30,
    "start_time": "2022-09-13T10:48:16.957Z"
   },
   {
    "duration": 60,
    "start_time": "2022-09-13T10:49:04.377Z"
   },
   {
    "duration": 69,
    "start_time": "2022-09-13T10:49:14.288Z"
   },
   {
    "duration": 43,
    "start_time": "2022-09-13T10:49:49.466Z"
   },
   {
    "duration": 64,
    "start_time": "2022-09-13T10:50:07.490Z"
   },
   {
    "duration": 22,
    "start_time": "2022-09-13T10:50:49.262Z"
   },
   {
    "duration": 6,
    "start_time": "2022-09-13T10:51:21.613Z"
   },
   {
    "duration": 6,
    "start_time": "2022-09-13T10:51:23.667Z"
   },
   {
    "duration": 32,
    "start_time": "2022-09-13T10:51:27.600Z"
   },
   {
    "duration": 5,
    "start_time": "2022-09-13T10:52:06.111Z"
   },
   {
    "duration": 5,
    "start_time": "2022-09-13T10:52:17.569Z"
   },
   {
    "duration": 6,
    "start_time": "2022-09-13T10:52:19.571Z"
   },
   {
    "duration": 30,
    "start_time": "2022-09-13T10:53:21.862Z"
   },
   {
    "duration": 43,
    "start_time": "2022-09-13T10:53:35.407Z"
   },
   {
    "duration": 56,
    "start_time": "2022-09-13T10:53:43.107Z"
   },
   {
    "duration": 33,
    "start_time": "2022-09-13T10:55:56.301Z"
   },
   {
    "duration": 48,
    "start_time": "2022-09-13T10:56:06.231Z"
   },
   {
    "duration": 16,
    "start_time": "2022-09-13T10:56:35.890Z"
   },
   {
    "duration": 14,
    "start_time": "2022-09-13T10:56:46.468Z"
   },
   {
    "duration": 36,
    "start_time": "2022-09-13T10:57:00.917Z"
   },
   {
    "duration": 30,
    "start_time": "2022-09-13T10:57:09.315Z"
   },
   {
    "duration": 470,
    "start_time": "2022-09-13T10:57:27.998Z"
   },
   {
    "duration": 228,
    "start_time": "2022-09-13T10:57:28.470Z"
   },
   {
    "duration": 19,
    "start_time": "2022-09-13T10:57:28.700Z"
   },
   {
    "duration": 67,
    "start_time": "2022-09-13T10:57:28.722Z"
   },
   {
    "duration": 3,
    "start_time": "2022-09-13T10:57:28.791Z"
   },
   {
    "duration": 12,
    "start_time": "2022-09-13T10:57:28.796Z"
   },
   {
    "duration": 53,
    "start_time": "2022-09-13T10:57:28.810Z"
   },
   {
    "duration": 39,
    "start_time": "2022-09-13T10:57:28.866Z"
   },
   {
    "duration": 55,
    "start_time": "2022-09-13T10:57:28.908Z"
   },
   {
    "duration": 75,
    "start_time": "2022-09-13T10:57:28.966Z"
   },
   {
    "duration": 62,
    "start_time": "2022-09-13T10:57:29.044Z"
   },
   {
    "duration": 49,
    "start_time": "2022-09-13T10:57:29.109Z"
   },
   {
    "duration": 28,
    "start_time": "2022-09-13T10:57:29.160Z"
   },
   {
    "duration": 17,
    "start_time": "2022-09-13T10:57:29.191Z"
   },
   {
    "duration": 19,
    "start_time": "2022-09-13T10:57:29.210Z"
   },
   {
    "duration": 40,
    "start_time": "2022-09-13T10:57:29.230Z"
   },
   {
    "duration": 18,
    "start_time": "2022-09-13T10:57:29.272Z"
   },
   {
    "duration": 15,
    "start_time": "2022-09-13T10:57:29.292Z"
   },
   {
    "duration": 8,
    "start_time": "2022-09-13T10:57:29.310Z"
   },
   {
    "duration": 62,
    "start_time": "2022-09-13T10:57:29.325Z"
   },
   {
    "duration": 27,
    "start_time": "2022-09-13T10:57:29.390Z"
   },
   {
    "duration": 47,
    "start_time": "2022-09-13T10:57:29.420Z"
   },
   {
    "duration": 9,
    "start_time": "2022-09-13T10:57:29.469Z"
   },
   {
    "duration": 8,
    "start_time": "2022-09-13T10:57:29.480Z"
   },
   {
    "duration": 14,
    "start_time": "2022-09-13T10:57:29.490Z"
   },
   {
    "duration": 6,
    "start_time": "2022-09-13T10:57:29.506Z"
   },
   {
    "duration": 31,
    "start_time": "2022-09-13T10:57:29.514Z"
   },
   {
    "duration": 37,
    "start_time": "2022-09-13T10:57:29.549Z"
   },
   {
    "duration": 15,
    "start_time": "2022-09-13T10:57:29.589Z"
   },
   {
    "duration": 157,
    "start_time": "2022-09-13T10:57:29.607Z"
   },
   {
    "duration": 0,
    "start_time": "2022-09-13T10:57:29.766Z"
   },
   {
    "duration": 0,
    "start_time": "2022-09-13T10:57:29.768Z"
   },
   {
    "duration": 0,
    "start_time": "2022-09-13T10:57:29.770Z"
   },
   {
    "duration": 0,
    "start_time": "2022-09-13T10:57:29.772Z"
   },
   {
    "duration": 0,
    "start_time": "2022-09-13T10:57:29.773Z"
   },
   {
    "duration": 0,
    "start_time": "2022-09-13T10:57:29.775Z"
   },
   {
    "duration": 0,
    "start_time": "2022-09-13T10:57:29.777Z"
   },
   {
    "duration": 0,
    "start_time": "2022-09-13T10:57:29.778Z"
   },
   {
    "duration": 12,
    "start_time": "2022-09-13T10:58:15.552Z"
   },
   {
    "duration": 5,
    "start_time": "2022-09-13T10:59:00.395Z"
   },
   {
    "duration": 8,
    "start_time": "2022-09-13T10:59:20.376Z"
   },
   {
    "duration": 105,
    "start_time": "2022-09-13T11:00:45.202Z"
   },
   {
    "duration": 16,
    "start_time": "2022-09-13T11:00:56.112Z"
   },
   {
    "duration": 10,
    "start_time": "2022-09-13T11:01:00.580Z"
   },
   {
    "duration": 5,
    "start_time": "2022-09-13T11:01:55.389Z"
   },
   {
    "duration": 71,
    "start_time": "2022-09-13T11:08:32.840Z"
   },
   {
    "duration": 87,
    "start_time": "2022-09-13T11:08:34.744Z"
   },
   {
    "duration": 76,
    "start_time": "2022-09-13T11:09:22.972Z"
   },
   {
    "duration": 86,
    "start_time": "2022-09-13T11:12:04.268Z"
   },
   {
    "duration": 79,
    "start_time": "2022-09-13T11:12:06.958Z"
   },
   {
    "duration": 7,
    "start_time": "2022-09-13T11:13:43.889Z"
   },
   {
    "duration": 34,
    "start_time": "2022-09-13T11:14:42.847Z"
   },
   {
    "duration": 34,
    "start_time": "2022-09-13T11:14:44.574Z"
   },
   {
    "duration": 49,
    "start_time": "2022-09-13T11:14:49.463Z"
   },
   {
    "duration": 46,
    "start_time": "2022-09-13T11:16:18.795Z"
   },
   {
    "duration": 38,
    "start_time": "2022-09-13T11:17:05.563Z"
   },
   {
    "duration": 54,
    "start_time": "2022-09-13T11:17:14.711Z"
   },
   {
    "duration": 83,
    "start_time": "2022-09-13T11:17:16.790Z"
   },
   {
    "duration": 36,
    "start_time": "2022-09-13T11:17:21.949Z"
   },
   {
    "duration": 50,
    "start_time": "2022-09-13T11:17:25.353Z"
   },
   {
    "duration": 40,
    "start_time": "2022-09-13T11:22:14.873Z"
   },
   {
    "duration": 30,
    "start_time": "2022-09-13T11:22:29.661Z"
   },
   {
    "duration": 78,
    "start_time": "2022-09-13T11:22:38.317Z"
   },
   {
    "duration": 29,
    "start_time": "2022-09-13T11:22:41.565Z"
   },
   {
    "duration": 25,
    "start_time": "2022-09-13T11:22:55.678Z"
   },
   {
    "duration": 16,
    "start_time": "2022-09-13T11:27:15.461Z"
   },
   {
    "duration": 77,
    "start_time": "2022-09-13T11:27:38.819Z"
   },
   {
    "duration": 27,
    "start_time": "2022-09-13T11:27:40.925Z"
   },
   {
    "duration": 23,
    "start_time": "2022-09-13T11:28:00.814Z"
   },
   {
    "duration": 442,
    "start_time": "2022-09-13T11:28:14.010Z"
   },
   {
    "duration": 208,
    "start_time": "2022-09-13T11:28:14.465Z"
   },
   {
    "duration": 20,
    "start_time": "2022-09-13T11:28:14.674Z"
   },
   {
    "duration": 60,
    "start_time": "2022-09-13T11:28:14.698Z"
   },
   {
    "duration": 22,
    "start_time": "2022-09-13T11:28:14.761Z"
   },
   {
    "duration": 13,
    "start_time": "2022-09-13T11:28:14.785Z"
   },
   {
    "duration": 19,
    "start_time": "2022-09-13T11:28:14.800Z"
   },
   {
    "duration": 44,
    "start_time": "2022-09-13T11:28:14.830Z"
   },
   {
    "duration": 24,
    "start_time": "2022-09-13T11:28:14.876Z"
   },
   {
    "duration": 44,
    "start_time": "2022-09-13T11:28:14.903Z"
   },
   {
    "duration": 44,
    "start_time": "2022-09-13T11:28:14.950Z"
   },
   {
    "duration": 86,
    "start_time": "2022-09-13T11:28:14.996Z"
   },
   {
    "duration": 90,
    "start_time": "2022-09-13T11:28:15.084Z"
   },
   {
    "duration": 90,
    "start_time": "2022-09-13T11:28:15.175Z"
   },
   {
    "duration": 39,
    "start_time": "2022-09-13T11:28:15.267Z"
   },
   {
    "duration": 41,
    "start_time": "2022-09-13T11:28:15.308Z"
   },
   {
    "duration": 22,
    "start_time": "2022-09-13T11:28:15.352Z"
   },
   {
    "duration": 7,
    "start_time": "2022-09-13T11:28:15.375Z"
   },
   {
    "duration": 6,
    "start_time": "2022-09-13T11:28:15.384Z"
   },
   {
    "duration": 5,
    "start_time": "2022-09-13T11:28:15.391Z"
   },
   {
    "duration": 10,
    "start_time": "2022-09-13T11:28:15.398Z"
   },
   {
    "duration": 7,
    "start_time": "2022-09-13T11:28:15.410Z"
   },
   {
    "duration": 49,
    "start_time": "2022-09-13T11:28:15.418Z"
   },
   {
    "duration": 5,
    "start_time": "2022-09-13T11:28:15.469Z"
   },
   {
    "duration": 7,
    "start_time": "2022-09-13T11:28:15.476Z"
   },
   {
    "duration": 7,
    "start_time": "2022-09-13T11:28:15.484Z"
   },
   {
    "duration": 6,
    "start_time": "2022-09-13T11:28:15.492Z"
   },
   {
    "duration": 4,
    "start_time": "2022-09-13T11:28:15.501Z"
   },
   {
    "duration": 5,
    "start_time": "2022-09-13T11:28:15.506Z"
   },
   {
    "duration": 184,
    "start_time": "2022-09-13T11:28:15.513Z"
   },
   {
    "duration": 0,
    "start_time": "2022-09-13T11:28:15.699Z"
   },
   {
    "duration": 0,
    "start_time": "2022-09-13T11:28:15.700Z"
   },
   {
    "duration": 0,
    "start_time": "2022-09-13T11:28:15.701Z"
   },
   {
    "duration": 0,
    "start_time": "2022-09-13T11:28:15.704Z"
   },
   {
    "duration": 0,
    "start_time": "2022-09-13T11:28:15.705Z"
   },
   {
    "duration": 0,
    "start_time": "2022-09-13T11:28:15.707Z"
   },
   {
    "duration": 0,
    "start_time": "2022-09-13T11:28:15.708Z"
   },
   {
    "duration": 0,
    "start_time": "2022-09-13T11:28:15.709Z"
   },
   {
    "duration": 99,
    "start_time": "2022-09-13T11:28:53.578Z"
   },
   {
    "duration": 10,
    "start_time": "2022-09-13T11:29:02.276Z"
   },
   {
    "duration": 13,
    "start_time": "2022-09-13T11:29:05.812Z"
   },
   {
    "duration": 6,
    "start_time": "2022-09-13T11:29:21.152Z"
   },
   {
    "duration": 13,
    "start_time": "2022-09-13T11:29:29.268Z"
   },
   {
    "duration": 4,
    "start_time": "2022-09-13T11:29:31.102Z"
   },
   {
    "duration": 425,
    "start_time": "2022-09-13T11:29:42.090Z"
   },
   {
    "duration": 251,
    "start_time": "2022-09-13T11:29:42.518Z"
   },
   {
    "duration": 28,
    "start_time": "2022-09-13T11:29:42.772Z"
   },
   {
    "duration": 48,
    "start_time": "2022-09-13T11:29:42.804Z"
   },
   {
    "duration": 21,
    "start_time": "2022-09-13T11:29:42.854Z"
   },
   {
    "duration": 8,
    "start_time": "2022-09-13T11:29:42.877Z"
   },
   {
    "duration": 10,
    "start_time": "2022-09-13T11:29:42.887Z"
   },
   {
    "duration": 11,
    "start_time": "2022-09-13T11:29:42.899Z"
   },
   {
    "duration": 41,
    "start_time": "2022-09-13T11:29:42.913Z"
   },
   {
    "duration": 25,
    "start_time": "2022-09-13T11:29:42.958Z"
   },
   {
    "duration": 25,
    "start_time": "2022-09-13T11:29:42.985Z"
   },
   {
    "duration": 82,
    "start_time": "2022-09-13T11:29:43.030Z"
   },
   {
    "duration": 94,
    "start_time": "2022-09-13T11:29:43.114Z"
   },
   {
    "duration": 85,
    "start_time": "2022-09-13T11:29:43.210Z"
   },
   {
    "duration": 63,
    "start_time": "2022-09-13T11:29:43.297Z"
   },
   {
    "duration": 13,
    "start_time": "2022-09-13T11:29:43.362Z"
   },
   {
    "duration": 6,
    "start_time": "2022-09-13T11:29:43.377Z"
   },
   {
    "duration": 6,
    "start_time": "2022-09-13T11:29:43.385Z"
   },
   {
    "duration": 6,
    "start_time": "2022-09-13T11:29:43.393Z"
   },
   {
    "duration": 4,
    "start_time": "2022-09-13T11:29:43.422Z"
   },
   {
    "duration": 33,
    "start_time": "2022-09-13T11:29:43.438Z"
   },
   {
    "duration": 7,
    "start_time": "2022-09-13T11:29:43.473Z"
   },
   {
    "duration": 6,
    "start_time": "2022-09-13T11:29:43.482Z"
   },
   {
    "duration": 11,
    "start_time": "2022-09-13T11:29:43.489Z"
   },
   {
    "duration": 13,
    "start_time": "2022-09-13T11:29:43.502Z"
   },
   {
    "duration": 49,
    "start_time": "2022-09-13T11:29:43.517Z"
   },
   {
    "duration": 7,
    "start_time": "2022-09-13T11:29:43.568Z"
   },
   {
    "duration": 9,
    "start_time": "2022-09-13T11:29:43.580Z"
   },
   {
    "duration": 8,
    "start_time": "2022-09-13T11:29:43.591Z"
   },
   {
    "duration": 80,
    "start_time": "2022-09-13T11:29:43.601Z"
   },
   {
    "duration": 0,
    "start_time": "2022-09-13T11:29:43.683Z"
   },
   {
    "duration": 0,
    "start_time": "2022-09-13T11:29:43.684Z"
   },
   {
    "duration": 0,
    "start_time": "2022-09-13T11:29:43.686Z"
   },
   {
    "duration": 0,
    "start_time": "2022-09-13T11:29:43.687Z"
   },
   {
    "duration": 0,
    "start_time": "2022-09-13T11:29:43.689Z"
   },
   {
    "duration": 0,
    "start_time": "2022-09-13T11:29:43.690Z"
   },
   {
    "duration": 0,
    "start_time": "2022-09-13T11:29:43.691Z"
   },
   {
    "duration": 0,
    "start_time": "2022-09-13T11:29:43.692Z"
   },
   {
    "duration": 41,
    "start_time": "2022-09-13T11:30:08.160Z"
   },
   {
    "duration": 441,
    "start_time": "2022-09-14T10:41:48.314Z"
   },
   {
    "duration": 1279,
    "start_time": "2022-09-14T10:41:48.757Z"
   },
   {
    "duration": 17,
    "start_time": "2022-09-14T10:41:50.038Z"
   },
   {
    "duration": 47,
    "start_time": "2022-09-14T10:41:50.058Z"
   },
   {
    "duration": 4,
    "start_time": "2022-09-14T10:41:50.107Z"
   },
   {
    "duration": 12,
    "start_time": "2022-09-14T10:41:50.113Z"
   },
   {
    "duration": 9,
    "start_time": "2022-09-14T10:41:50.127Z"
   },
   {
    "duration": 9,
    "start_time": "2022-09-14T10:41:50.138Z"
   },
   {
    "duration": 40,
    "start_time": "2022-09-14T10:41:50.149Z"
   },
   {
    "duration": 32,
    "start_time": "2022-09-14T10:41:50.192Z"
   },
   {
    "duration": 23,
    "start_time": "2022-09-14T10:41:50.225Z"
   },
   {
    "duration": 78,
    "start_time": "2022-09-14T10:41:50.250Z"
   },
   {
    "duration": 68,
    "start_time": "2022-09-14T10:41:50.329Z"
   },
   {
    "duration": 74,
    "start_time": "2022-09-14T10:41:50.398Z"
   },
   {
    "duration": 33,
    "start_time": "2022-09-14T10:41:50.473Z"
   },
   {
    "duration": 21,
    "start_time": "2022-09-14T10:41:50.508Z"
   },
   {
    "duration": 36,
    "start_time": "2022-09-14T10:41:50.531Z"
   },
   {
    "duration": 81,
    "start_time": "2022-09-14T10:41:50.568Z"
   },
   {
    "duration": 0,
    "start_time": "2022-09-14T10:41:50.651Z"
   },
   {
    "duration": 0,
    "start_time": "2022-09-14T10:41:50.653Z"
   },
   {
    "duration": 0,
    "start_time": "2022-09-14T10:41:50.654Z"
   },
   {
    "duration": 0,
    "start_time": "2022-09-14T10:41:50.656Z"
   },
   {
    "duration": 0,
    "start_time": "2022-09-14T10:41:50.656Z"
   },
   {
    "duration": 0,
    "start_time": "2022-09-14T10:41:50.658Z"
   },
   {
    "duration": 0,
    "start_time": "2022-09-14T10:41:50.659Z"
   },
   {
    "duration": 0,
    "start_time": "2022-09-14T10:41:50.660Z"
   },
   {
    "duration": 0,
    "start_time": "2022-09-14T10:41:50.660Z"
   },
   {
    "duration": 0,
    "start_time": "2022-09-14T10:41:50.662Z"
   },
   {
    "duration": 0,
    "start_time": "2022-09-14T10:41:50.663Z"
   },
   {
    "duration": 0,
    "start_time": "2022-09-14T10:41:50.664Z"
   },
   {
    "duration": 0,
    "start_time": "2022-09-14T10:41:50.664Z"
   },
   {
    "duration": 0,
    "start_time": "2022-09-14T10:41:50.666Z"
   },
   {
    "duration": 0,
    "start_time": "2022-09-14T10:41:50.666Z"
   },
   {
    "duration": 0,
    "start_time": "2022-09-14T10:41:50.668Z"
   },
   {
    "duration": 0,
    "start_time": "2022-09-14T10:41:50.668Z"
   },
   {
    "duration": 0,
    "start_time": "2022-09-14T10:41:50.669Z"
   },
   {
    "duration": 0,
    "start_time": "2022-09-14T10:41:50.670Z"
   },
   {
    "duration": 0,
    "start_time": "2022-09-14T10:41:50.671Z"
   },
   {
    "duration": 7,
    "start_time": "2022-09-14T10:43:10.251Z"
   },
   {
    "duration": 32,
    "start_time": "2022-09-14T10:43:30.928Z"
   },
   {
    "duration": 10,
    "start_time": "2022-09-14T10:43:55.100Z"
   },
   {
    "duration": 15,
    "start_time": "2022-09-14T10:45:39.061Z"
   },
   {
    "duration": 84,
    "start_time": "2022-09-14T10:56:11.644Z"
   },
   {
    "duration": 76,
    "start_time": "2022-09-14T10:56:17.783Z"
   },
   {
    "duration": 5,
    "start_time": "2022-09-14T10:57:51.179Z"
   },
   {
    "duration": 4,
    "start_time": "2022-09-14T10:57:52.550Z"
   },
   {
    "duration": 9,
    "start_time": "2022-09-14T10:58:23.407Z"
   },
   {
    "duration": 90,
    "start_time": "2022-09-14T10:58:49.878Z"
   },
   {
    "duration": 3,
    "start_time": "2022-09-14T11:04:43.086Z"
   },
   {
    "duration": 4,
    "start_time": "2022-09-14T11:04:44.801Z"
   },
   {
    "duration": 23,
    "start_time": "2022-09-14T11:05:16.265Z"
   },
   {
    "duration": 402,
    "start_time": "2022-09-14T11:05:49.802Z"
   },
   {
    "duration": 150,
    "start_time": "2022-09-14T11:05:50.206Z"
   },
   {
    "duration": 16,
    "start_time": "2022-09-14T11:05:50.358Z"
   },
   {
    "duration": 27,
    "start_time": "2022-09-14T11:05:50.376Z"
   },
   {
    "duration": 17,
    "start_time": "2022-09-14T11:05:50.405Z"
   },
   {
    "duration": 13,
    "start_time": "2022-09-14T11:05:50.423Z"
   },
   {
    "duration": 8,
    "start_time": "2022-09-14T11:05:50.438Z"
   },
   {
    "duration": 9,
    "start_time": "2022-09-14T11:05:50.448Z"
   },
   {
    "duration": 26,
    "start_time": "2022-09-14T11:05:50.459Z"
   },
   {
    "duration": 22,
    "start_time": "2022-09-14T11:05:50.489Z"
   },
   {
    "duration": 20,
    "start_time": "2022-09-14T11:05:50.521Z"
   },
   {
    "duration": 59,
    "start_time": "2022-09-14T11:05:50.543Z"
   },
   {
    "duration": 78,
    "start_time": "2022-09-14T11:05:50.604Z"
   },
   {
    "duration": 67,
    "start_time": "2022-09-14T11:05:50.684Z"
   },
   {
    "duration": 32,
    "start_time": "2022-09-14T11:05:50.752Z"
   },
   {
    "duration": 9,
    "start_time": "2022-09-14T11:05:50.786Z"
   },
   {
    "duration": 53,
    "start_time": "2022-09-14T11:05:50.797Z"
   },
   {
    "duration": 12,
    "start_time": "2022-09-14T11:05:50.852Z"
   },
   {
    "duration": 10,
    "start_time": "2022-09-14T11:05:50.865Z"
   },
   {
    "duration": 94,
    "start_time": "2022-09-14T11:05:50.877Z"
   },
   {
    "duration": 0,
    "start_time": "2022-09-14T11:05:50.973Z"
   },
   {
    "duration": 0,
    "start_time": "2022-09-14T11:05:50.975Z"
   },
   {
    "duration": 0,
    "start_time": "2022-09-14T11:05:50.976Z"
   },
   {
    "duration": 0,
    "start_time": "2022-09-14T11:05:50.978Z"
   },
   {
    "duration": 0,
    "start_time": "2022-09-14T11:05:50.979Z"
   },
   {
    "duration": 0,
    "start_time": "2022-09-14T11:05:50.981Z"
   },
   {
    "duration": 0,
    "start_time": "2022-09-14T11:05:50.983Z"
   },
   {
    "duration": 0,
    "start_time": "2022-09-14T11:05:50.984Z"
   },
   {
    "duration": 0,
    "start_time": "2022-09-14T11:05:50.985Z"
   },
   {
    "duration": 0,
    "start_time": "2022-09-14T11:05:50.987Z"
   },
   {
    "duration": 0,
    "start_time": "2022-09-14T11:05:50.989Z"
   },
   {
    "duration": 0,
    "start_time": "2022-09-14T11:05:50.990Z"
   },
   {
    "duration": 0,
    "start_time": "2022-09-14T11:05:51.022Z"
   },
   {
    "duration": 0,
    "start_time": "2022-09-14T11:05:51.023Z"
   },
   {
    "duration": 0,
    "start_time": "2022-09-14T11:05:51.024Z"
   },
   {
    "duration": 0,
    "start_time": "2022-09-14T11:05:51.026Z"
   },
   {
    "duration": 0,
    "start_time": "2022-09-14T11:05:51.029Z"
   },
   {
    "duration": 0,
    "start_time": "2022-09-14T11:05:51.030Z"
   },
   {
    "duration": 4,
    "start_time": "2022-09-14T11:06:52.121Z"
   },
   {
    "duration": 27,
    "start_time": "2022-09-14T11:09:03.703Z"
   },
   {
    "duration": 4,
    "start_time": "2022-09-14T11:09:15.339Z"
   },
   {
    "duration": 28,
    "start_time": "2022-09-14T11:09:17.103Z"
   },
   {
    "duration": 4,
    "start_time": "2022-09-14T11:09:50.587Z"
   },
   {
    "duration": 24,
    "start_time": "2022-09-14T11:09:52.592Z"
   },
   {
    "duration": 3,
    "start_time": "2022-09-14T11:10:49.916Z"
   },
   {
    "duration": 20,
    "start_time": "2022-09-14T11:10:51.185Z"
   },
   {
    "duration": 373,
    "start_time": "2022-09-14T11:11:18.587Z"
   },
   {
    "duration": 172,
    "start_time": "2022-09-14T11:11:18.962Z"
   },
   {
    "duration": 19,
    "start_time": "2022-09-14T11:11:19.136Z"
   },
   {
    "duration": 30,
    "start_time": "2022-09-14T11:11:19.157Z"
   },
   {
    "duration": 2,
    "start_time": "2022-09-14T11:11:19.189Z"
   },
   {
    "duration": 30,
    "start_time": "2022-09-14T11:11:19.193Z"
   },
   {
    "duration": 5,
    "start_time": "2022-09-14T11:11:19.225Z"
   },
   {
    "duration": 6,
    "start_time": "2022-09-14T11:11:19.233Z"
   },
   {
    "duration": 29,
    "start_time": "2022-09-14T11:11:19.240Z"
   },
   {
    "duration": 20,
    "start_time": "2022-09-14T11:11:19.271Z"
   },
   {
    "duration": 35,
    "start_time": "2022-09-14T11:11:19.293Z"
   },
   {
    "duration": 74,
    "start_time": "2022-09-14T11:11:19.329Z"
   },
   {
    "duration": 86,
    "start_time": "2022-09-14T11:11:19.405Z"
   },
   {
    "duration": 71,
    "start_time": "2022-09-14T11:11:19.496Z"
   },
   {
    "duration": 34,
    "start_time": "2022-09-14T11:11:19.569Z"
   },
   {
    "duration": 26,
    "start_time": "2022-09-14T11:11:19.604Z"
   },
   {
    "duration": 36,
    "start_time": "2022-09-14T11:11:19.633Z"
   },
   {
    "duration": 11,
    "start_time": "2022-09-14T11:11:19.672Z"
   },
   {
    "duration": 41,
    "start_time": "2022-09-14T11:11:19.685Z"
   },
   {
    "duration": 3,
    "start_time": "2022-09-14T11:11:19.729Z"
   },
   {
    "duration": 29,
    "start_time": "2022-09-14T11:11:19.734Z"
   },
   {
    "duration": 18,
    "start_time": "2022-09-14T11:11:19.765Z"
   },
   {
    "duration": 45,
    "start_time": "2022-09-14T11:11:19.784Z"
   },
   {
    "duration": 19,
    "start_time": "2022-09-14T11:11:19.831Z"
   },
   {
    "duration": 22,
    "start_time": "2022-09-14T11:11:19.852Z"
   },
   {
    "duration": 46,
    "start_time": "2022-09-14T11:11:19.876Z"
   },
   {
    "duration": 3,
    "start_time": "2022-09-14T11:11:19.924Z"
   },
   {
    "duration": 9,
    "start_time": "2022-09-14T11:11:19.928Z"
   },
   {
    "duration": 8,
    "start_time": "2022-09-14T11:11:19.939Z"
   },
   {
    "duration": 87,
    "start_time": "2022-09-14T11:11:19.949Z"
   },
   {
    "duration": 0,
    "start_time": "2022-09-14T11:11:20.037Z"
   },
   {
    "duration": 0,
    "start_time": "2022-09-14T11:11:20.039Z"
   },
   {
    "duration": 0,
    "start_time": "2022-09-14T11:11:20.040Z"
   },
   {
    "duration": 0,
    "start_time": "2022-09-14T11:11:20.040Z"
   },
   {
    "duration": 0,
    "start_time": "2022-09-14T11:11:20.042Z"
   },
   {
    "duration": 0,
    "start_time": "2022-09-14T11:11:20.042Z"
   },
   {
    "duration": 0,
    "start_time": "2022-09-14T11:11:20.043Z"
   },
   {
    "duration": 0,
    "start_time": "2022-09-14T11:11:20.044Z"
   },
   {
    "duration": 3,
    "start_time": "2022-09-14T11:12:28.109Z"
   },
   {
    "duration": 367,
    "start_time": "2022-09-14T11:12:32.363Z"
   },
   {
    "duration": 173,
    "start_time": "2022-09-14T11:12:32.732Z"
   },
   {
    "duration": 25,
    "start_time": "2022-09-14T11:12:32.906Z"
   },
   {
    "duration": 39,
    "start_time": "2022-09-14T11:12:32.934Z"
   },
   {
    "duration": 15,
    "start_time": "2022-09-14T11:12:32.975Z"
   },
   {
    "duration": 23,
    "start_time": "2022-09-14T11:12:32.991Z"
   },
   {
    "duration": 22,
    "start_time": "2022-09-14T11:12:33.016Z"
   },
   {
    "duration": 21,
    "start_time": "2022-09-14T11:12:33.040Z"
   },
   {
    "duration": 37,
    "start_time": "2022-09-14T11:12:33.063Z"
   },
   {
    "duration": 25,
    "start_time": "2022-09-14T11:12:33.103Z"
   },
   {
    "duration": 30,
    "start_time": "2022-09-14T11:12:33.130Z"
   },
   {
    "duration": 82,
    "start_time": "2022-09-14T11:12:33.162Z"
   },
   {
    "duration": 67,
    "start_time": "2022-09-14T11:12:33.246Z"
   },
   {
    "duration": 65,
    "start_time": "2022-09-14T11:12:33.321Z"
   },
   {
    "duration": 50,
    "start_time": "2022-09-14T11:12:33.389Z"
   },
   {
    "duration": 11,
    "start_time": "2022-09-14T11:12:33.441Z"
   },
   {
    "duration": 50,
    "start_time": "2022-09-14T11:12:33.453Z"
   },
   {
    "duration": 23,
    "start_time": "2022-09-14T11:12:33.504Z"
   },
   {
    "duration": 12,
    "start_time": "2022-09-14T11:12:33.529Z"
   },
   {
    "duration": 30,
    "start_time": "2022-09-14T11:12:33.543Z"
   },
   {
    "duration": 20,
    "start_time": "2022-09-14T11:12:33.575Z"
   },
   {
    "duration": 27,
    "start_time": "2022-09-14T11:12:33.596Z"
   },
   {
    "duration": 32,
    "start_time": "2022-09-14T11:12:33.624Z"
   },
   {
    "duration": 16,
    "start_time": "2022-09-14T11:12:33.657Z"
   },
   {
    "duration": 19,
    "start_time": "2022-09-14T11:12:33.675Z"
   },
   {
    "duration": 18,
    "start_time": "2022-09-14T11:12:33.695Z"
   },
   {
    "duration": 21,
    "start_time": "2022-09-14T11:12:33.714Z"
   },
   {
    "duration": 17,
    "start_time": "2022-09-14T11:12:33.739Z"
   },
   {
    "duration": 23,
    "start_time": "2022-09-14T11:12:33.758Z"
   },
   {
    "duration": 208,
    "start_time": "2022-09-14T11:12:33.783Z"
   },
   {
    "duration": 0,
    "start_time": "2022-09-14T11:12:33.993Z"
   },
   {
    "duration": 0,
    "start_time": "2022-09-14T11:12:33.994Z"
   },
   {
    "duration": 0,
    "start_time": "2022-09-14T11:12:33.995Z"
   },
   {
    "duration": 0,
    "start_time": "2022-09-14T11:12:33.996Z"
   },
   {
    "duration": 0,
    "start_time": "2022-09-14T11:12:33.997Z"
   },
   {
    "duration": 0,
    "start_time": "2022-09-14T11:12:33.998Z"
   },
   {
    "duration": 0,
    "start_time": "2022-09-14T11:12:33.999Z"
   },
   {
    "duration": 0,
    "start_time": "2022-09-14T11:12:34.000Z"
   },
   {
    "duration": 7,
    "start_time": "2022-09-14T11:16:26.366Z"
   },
   {
    "duration": 9,
    "start_time": "2022-09-14T11:16:30.775Z"
   },
   {
    "duration": 4,
    "start_time": "2022-09-14T11:28:15.462Z"
   },
   {
    "duration": 394,
    "start_time": "2022-09-14T11:34:01.422Z"
   },
   {
    "duration": 186,
    "start_time": "2022-09-14T11:34:01.818Z"
   },
   {
    "duration": 22,
    "start_time": "2022-09-14T11:34:02.005Z"
   },
   {
    "duration": 44,
    "start_time": "2022-09-14T11:34:02.030Z"
   },
   {
    "duration": 6,
    "start_time": "2022-09-14T11:34:02.076Z"
   },
   {
    "duration": 28,
    "start_time": "2022-09-14T11:34:02.083Z"
   },
   {
    "duration": 38,
    "start_time": "2022-09-14T11:34:02.113Z"
   },
   {
    "duration": 14,
    "start_time": "2022-09-14T11:34:02.152Z"
   },
   {
    "duration": 55,
    "start_time": "2022-09-14T11:34:02.168Z"
   },
   {
    "duration": 41,
    "start_time": "2022-09-14T11:34:02.225Z"
   },
   {
    "duration": 25,
    "start_time": "2022-09-14T11:34:02.268Z"
   },
   {
    "duration": 124,
    "start_time": "2022-09-14T11:34:02.295Z"
   },
   {
    "duration": 73,
    "start_time": "2022-09-14T11:34:02.420Z"
   },
   {
    "duration": 77,
    "start_time": "2022-09-14T11:34:02.494Z"
   },
   {
    "duration": 33,
    "start_time": "2022-09-14T11:34:02.573Z"
   },
   {
    "duration": 10,
    "start_time": "2022-09-14T11:34:02.623Z"
   },
   {
    "duration": 39,
    "start_time": "2022-09-14T11:34:02.635Z"
   },
   {
    "duration": 10,
    "start_time": "2022-09-14T11:34:02.676Z"
   },
   {
    "duration": 22,
    "start_time": "2022-09-14T11:34:02.688Z"
   },
   {
    "duration": 10,
    "start_time": "2022-09-14T11:34:02.721Z"
   },
   {
    "duration": 29,
    "start_time": "2022-09-14T11:34:02.733Z"
   },
   {
    "duration": 16,
    "start_time": "2022-09-14T11:34:02.764Z"
   },
   {
    "duration": 23,
    "start_time": "2022-09-14T11:34:02.781Z"
   },
   {
    "duration": 25,
    "start_time": "2022-09-14T11:34:02.806Z"
   },
   {
    "duration": 19,
    "start_time": "2022-09-14T11:34:02.833Z"
   },
   {
    "duration": 15,
    "start_time": "2022-09-14T11:34:02.854Z"
   },
   {
    "duration": 14,
    "start_time": "2022-09-14T11:34:02.871Z"
   },
   {
    "duration": 40,
    "start_time": "2022-09-14T11:34:02.888Z"
   },
   {
    "duration": 10,
    "start_time": "2022-09-14T11:34:02.930Z"
   },
   {
    "duration": 5,
    "start_time": "2022-09-14T11:34:02.941Z"
   },
   {
    "duration": 28,
    "start_time": "2022-09-14T11:34:02.948Z"
   },
   {
    "duration": 12,
    "start_time": "2022-09-14T11:34:02.978Z"
   },
   {
    "duration": 49,
    "start_time": "2022-09-14T11:34:02.992Z"
   },
   {
    "duration": 18,
    "start_time": "2022-09-14T11:34:03.043Z"
   },
   {
    "duration": 2,
    "start_time": "2022-09-14T11:34:03.063Z"
   },
   {
    "duration": 36,
    "start_time": "2022-09-14T11:34:03.067Z"
   },
   {
    "duration": 9,
    "start_time": "2022-09-14T11:34:03.105Z"
   },
   {
    "duration": 6,
    "start_time": "2022-09-14T11:34:03.116Z"
   },
   {
    "duration": 64,
    "start_time": "2022-09-14T11:37:43.523Z"
   },
   {
    "duration": 393,
    "start_time": "2022-09-14T11:37:55.676Z"
   },
   {
    "duration": 212,
    "start_time": "2022-09-14T11:37:56.072Z"
   },
   {
    "duration": 15,
    "start_time": "2022-09-14T11:37:56.285Z"
   },
   {
    "duration": 39,
    "start_time": "2022-09-14T11:37:56.302Z"
   },
   {
    "duration": 2,
    "start_time": "2022-09-14T11:37:56.343Z"
   },
   {
    "duration": 11,
    "start_time": "2022-09-14T11:37:56.346Z"
   },
   {
    "duration": 11,
    "start_time": "2022-09-14T11:37:56.359Z"
   },
   {
    "duration": 12,
    "start_time": "2022-09-14T11:37:56.372Z"
   },
   {
    "duration": 40,
    "start_time": "2022-09-14T11:37:56.386Z"
   },
   {
    "duration": 20,
    "start_time": "2022-09-14T11:37:56.428Z"
   },
   {
    "duration": 23,
    "start_time": "2022-09-14T11:37:56.449Z"
   },
   {
    "duration": 89,
    "start_time": "2022-09-14T11:37:56.474Z"
   },
   {
    "duration": 87,
    "start_time": "2022-09-14T11:37:56.564Z"
   },
   {
    "duration": 59,
    "start_time": "2022-09-14T11:37:56.653Z"
   },
   {
    "duration": 35,
    "start_time": "2022-09-14T11:37:56.721Z"
   },
   {
    "duration": 10,
    "start_time": "2022-09-14T11:37:56.758Z"
   },
   {
    "duration": 53,
    "start_time": "2022-09-14T11:37:56.770Z"
   },
   {
    "duration": 12,
    "start_time": "2022-09-14T11:37:56.824Z"
   },
   {
    "duration": 11,
    "start_time": "2022-09-14T11:37:56.837Z"
   },
   {
    "duration": 3,
    "start_time": "2022-09-14T11:37:56.850Z"
   },
   {
    "duration": 28,
    "start_time": "2022-09-14T11:37:56.855Z"
   },
   {
    "duration": 12,
    "start_time": "2022-09-14T11:37:56.884Z"
   },
   {
    "duration": 15,
    "start_time": "2022-09-14T11:37:56.923Z"
   },
   {
    "duration": 15,
    "start_time": "2022-09-14T11:37:56.939Z"
   },
   {
    "duration": 17,
    "start_time": "2022-09-14T11:37:56.956Z"
   },
   {
    "duration": 16,
    "start_time": "2022-09-14T11:37:56.974Z"
   },
   {
    "duration": 38,
    "start_time": "2022-09-14T11:37:56.991Z"
   },
   {
    "duration": 13,
    "start_time": "2022-09-14T11:37:57.032Z"
   },
   {
    "duration": 13,
    "start_time": "2022-09-14T11:37:57.047Z"
   },
   {
    "duration": 6,
    "start_time": "2022-09-14T11:37:57.061Z"
   },
   {
    "duration": 23,
    "start_time": "2022-09-14T11:37:57.069Z"
   },
   {
    "duration": 39,
    "start_time": "2022-09-14T11:37:57.094Z"
   },
   {
    "duration": 17,
    "start_time": "2022-09-14T11:37:57.135Z"
   },
   {
    "duration": 13,
    "start_time": "2022-09-14T11:37:57.154Z"
   },
   {
    "duration": 9,
    "start_time": "2022-09-14T11:37:57.169Z"
   },
   {
    "duration": 5,
    "start_time": "2022-09-14T11:37:57.180Z"
   },
   {
    "duration": 9,
    "start_time": "2022-09-14T11:37:57.186Z"
   },
   {
    "duration": 6,
    "start_time": "2022-09-14T11:37:57.223Z"
   },
   {
    "duration": 59,
    "start_time": "2022-09-14T11:38:46.980Z"
   },
   {
    "duration": 406,
    "start_time": "2022-09-14T11:38:58.117Z"
   },
   {
    "duration": 165,
    "start_time": "2022-09-14T11:38:58.525Z"
   },
   {
    "duration": 16,
    "start_time": "2022-09-14T11:38:58.692Z"
   },
   {
    "duration": 33,
    "start_time": "2022-09-14T11:38:58.710Z"
   },
   {
    "duration": 2,
    "start_time": "2022-09-14T11:38:58.744Z"
   },
   {
    "duration": 11,
    "start_time": "2022-09-14T11:38:58.748Z"
   },
   {
    "duration": 12,
    "start_time": "2022-09-14T11:38:58.760Z"
   },
   {
    "duration": 8,
    "start_time": "2022-09-14T11:38:58.773Z"
   },
   {
    "duration": 40,
    "start_time": "2022-09-14T11:38:58.782Z"
   },
   {
    "duration": 19,
    "start_time": "2022-09-14T11:38:58.824Z"
   },
   {
    "duration": 21,
    "start_time": "2022-09-14T11:38:58.845Z"
   },
   {
    "duration": 82,
    "start_time": "2022-09-14T11:38:58.868Z"
   },
   {
    "duration": 74,
    "start_time": "2022-09-14T11:38:58.952Z"
   },
   {
    "duration": 58,
    "start_time": "2022-09-14T11:38:59.028Z"
   },
   {
    "duration": 53,
    "start_time": "2022-09-14T11:38:59.087Z"
   },
   {
    "duration": 10,
    "start_time": "2022-09-14T11:38:59.142Z"
   },
   {
    "duration": 36,
    "start_time": "2022-09-14T11:38:59.154Z"
   },
   {
    "duration": 33,
    "start_time": "2022-09-14T11:38:59.192Z"
   },
   {
    "duration": 11,
    "start_time": "2022-09-14T11:38:59.227Z"
   },
   {
    "duration": 15,
    "start_time": "2022-09-14T11:38:59.240Z"
   },
   {
    "duration": 20,
    "start_time": "2022-09-14T11:38:59.257Z"
   },
   {
    "duration": 13,
    "start_time": "2022-09-14T11:38:59.278Z"
   },
   {
    "duration": 30,
    "start_time": "2022-09-14T11:38:59.292Z"
   },
   {
    "duration": 14,
    "start_time": "2022-09-14T11:38:59.324Z"
   },
   {
    "duration": 26,
    "start_time": "2022-09-14T11:38:59.339Z"
   },
   {
    "duration": 17,
    "start_time": "2022-09-14T11:38:59.367Z"
   },
   {
    "duration": 12,
    "start_time": "2022-09-14T11:38:59.385Z"
   },
   {
    "duration": 31,
    "start_time": "2022-09-14T11:38:59.400Z"
   },
   {
    "duration": 9,
    "start_time": "2022-09-14T11:38:59.432Z"
   },
   {
    "duration": 12,
    "start_time": "2022-09-14T11:38:59.442Z"
   },
   {
    "duration": 38,
    "start_time": "2022-09-14T11:38:59.456Z"
   },
   {
    "duration": 20,
    "start_time": "2022-09-14T11:38:59.496Z"
   },
   {
    "duration": 32,
    "start_time": "2022-09-14T11:38:59.518Z"
   },
   {
    "duration": 15,
    "start_time": "2022-09-14T11:38:59.552Z"
   },
   {
    "duration": 29,
    "start_time": "2022-09-14T11:38:59.569Z"
   },
   {
    "duration": 28,
    "start_time": "2022-09-14T11:38:59.599Z"
   },
   {
    "duration": 32,
    "start_time": "2022-09-14T11:38:59.629Z"
   },
   {
    "duration": 37,
    "start_time": "2022-09-14T11:38:59.662Z"
   }
  ],
  "colab": {
   "collapsed_sections": [
    "E0vqbgi9ay0H",
    "VUC88oWjTJw2"
   ],
   "name": "automatization_template_upd4.ipynb",
   "provenance": []
  },
  "kernelspec": {
   "display_name": "Python 3 (ipykernel)",
   "language": "python",
   "name": "python3"
  },
  "language_info": {
   "codemirror_mode": {
    "name": "ipython",
    "version": 3
   },
   "file_extension": ".py",
   "mimetype": "text/x-python",
   "name": "python",
   "nbconvert_exporter": "python",
   "pygments_lexer": "ipython3",
   "version": "3.9.5"
  },
  "toc": {
   "base_numbering": 1,
   "nav_menu": {
    "height": "215px",
    "width": "403px"
   },
   "number_sections": true,
   "sideBar": true,
   "skip_h1_title": true,
   "title_cell": "Table of Contents",
   "title_sidebar": "Contents",
   "toc_cell": false,
   "toc_position": {
    "height": "calc(100% - 180px)",
    "left": "10px",
    "top": "150px",
    "width": "285.825px"
   },
   "toc_section_display": true,
   "toc_window_display": false
  }
 },
 "nbformat": 4,
 "nbformat_minor": 1
}
