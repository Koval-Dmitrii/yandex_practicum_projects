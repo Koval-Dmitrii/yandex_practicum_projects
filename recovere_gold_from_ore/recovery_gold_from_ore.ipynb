{
 "cells": [
  {
   "cell_type": "markdown",
   "metadata": {
    "toc": true
   },
   "source": [
    "<h1>Содержание<span class=\"tocSkip\"></span></h1>\n",
    "<div class=\"toc\"><ul class=\"toc-item\"><li><ul class=\"toc-item\"><li><span><span class=\"toc-item-num\">0.2&nbsp;&nbsp;</span><font color=\"orange\"></font></a></span></li></ul></li><li><span><a href=\"#Подготовка-данных\" data-toc-modified-id=\"Подготовка-данных-1\"><span class=\"toc-item-num\">1&nbsp;&nbsp;</span>Подготовка данных</a></span><ul class=\"toc-item\"><li><span><a href=\"#Откроем-файлы-и-изучим-их.\" data-toc-modified-id=\"Откроем-файлы-и-изучим-их.-1.1\"><span class=\"toc-item-num\">1.1&nbsp;&nbsp;</span>Откроем файлы и изучим их.</a></span><ul class=\"toc-item\"><li><span><a href=\"#Изучим-первый-датасет\" data-toc-modified-id=\"Изучим-первый-датасет-1.1.1\"><span class=\"toc-item-num\">1.1.1&nbsp;&nbsp;</span>Изучим первый датасет</a></span></li><li><span><a href=\"#Изучим-второй-датасет\" data-toc-modified-id=\"Изучим-второй-датасет-1.1.2\"><span class=\"toc-item-num\">1.1.2&nbsp;&nbsp;</span>Изучим второй датасет</a></span></li><li><span><a href=\"#Изучим-третий-датасет\" data-toc-modified-id=\"Изучим-третий-датасет-1.1.3\"><span class=\"toc-item-num\">1.1.3&nbsp;&nbsp;</span>Изучим третий датасет</a></span></li></ul></li><li><span><a href=\"#Проверем,-что-эффективность-обогащения-рассчитана-правильно\" data-toc-modified-id=\"Проверем,-что-эффективность-обогащения-рассчитана-правильно-1.2\"><span class=\"toc-item-num\">1.2&nbsp;&nbsp;</span>Проверем, что эффективность обогащения рассчитана правильно</a></span></li><li><span><a href=\"#Проанализируем-признаки,-недоступные-в-тестовой-выборке.\" data-toc-modified-id=\"Проанализируем-признаки,-недоступные-в-тестовой-выборке.-1.3\"><span class=\"toc-item-num\">1.3&nbsp;&nbsp;</span>Проанализируем признаки, недоступные в тестовой выборке.</a></span></li><li><span><a href=\"#Проведём-предобработку-данных\" data-toc-modified-id=\"Проведём-предобработку-данных-1.4\"><span class=\"toc-item-num\">1.4&nbsp;&nbsp;</span>Проведём предобработку данных</a></span><ul class=\"toc-item\"><li><span><a href=\"#Изменим-тип-данных-столбца-date\" data-toc-modified-id=\"Изменим-тип-данных-столбца-date-1.4.1\"><span class=\"toc-item-num\">1.4.1&nbsp;&nbsp;</span>Изменим тип данных столбца date</a></span></li><li><span><a href=\"#Избавимся-от-пропусков-в-данных\" data-toc-modified-id=\"Избавимся-от-пропусков-в-данных-1.4.2\"><span class=\"toc-item-num\">1.4.2&nbsp;&nbsp;</span>Избавимся от пропусков в данных</a></span></li><li><span><a href=\"#Добавим-в-тестовую-выборку-целевые-признаки\" data-toc-modified-id=\"Добавим-в-тестовую-выборку-целевые-признаки-1.4.3\"><span class=\"toc-item-num\">1.4.3&nbsp;&nbsp;</span>Добавим в тестовую выборку целевые признаки</a></span></li><li><span><a href=\"#Удалим-колонку-даты\" data-toc-modified-id=\"Удалим-колонку-даты-1.4.4\"><span class=\"toc-item-num\">1.4.4&nbsp;&nbsp;</span>Удалим колонку даты</a></span></li></ul></li></ul></li><li><span><a href=\"#Анализ-данных\" data-toc-modified-id=\"Анализ-данных-2\"><span class=\"toc-item-num\">2&nbsp;&nbsp;</span>Анализ данных</a></span><ul class=\"toc-item\"><li><span><a href=\"#Посмотрим,-как-меняется-концентрация-металлов-(Au,-Ag,-Pb)-на-различных-этапах-очистки\" data-toc-modified-id=\"Посмотрим,-как-меняется-концентрация-металлов-(Au,-Ag,-Pb)-на-различных-этапах-очистки-2.1\"><span class=\"toc-item-num\">2.1&nbsp;&nbsp;</span>Посмотрим, как меняется концентрация металлов (Au, Ag, Pb) на различных этапах очистки</a></span></li><li><span><a href=\"#Сравним-распределения-размеров-гранул-сырья-на-обучающей-и-тестовой-выборках\" data-toc-modified-id=\"Сравним-распределения-размеров-гранул-сырья-на-обучающей-и-тестовой-выборках-2.2\"><span class=\"toc-item-num\">2.2&nbsp;&nbsp;</span>Сравним распределения размеров гранул сырья на обучающей и тестовой выборках</a></span></li><li><span><a href=\"#Исследуем-суммарную-концентрацию-всех-веществ-на-разных-стадиях:-в-сырье,-в-черновом-и-финальном-концентратах\" data-toc-modified-id=\"Исследуем-суммарную-концентрацию-всех-веществ-на-разных-стадиях:-в-сырье,-в-черновом-и-финальном-концентратах-2.3\"><span class=\"toc-item-num\">2.3&nbsp;&nbsp;</span>Исследуем суммарную концентрацию всех веществ на разных стадиях: в сырье, в черновом и финальном концентратах</a></span></li><li><span><a href=\"#Удалим-аномалии\" data-toc-modified-id=\"Удалим-аномалии-2.4\"><span class=\"toc-item-num\">2.4&nbsp;&nbsp;</span>Удалим аномалии</a></span></li></ul></li><li><span><a href=\"#Модель\" data-toc-modified-id=\"Модель-3\"><span class=\"toc-item-num\">3&nbsp;&nbsp;</span>Модель</a></span><ul class=\"toc-item\"><li><span><a href=\"#Удалим-ненужные-признаки\" data-toc-modified-id=\"Удалим-ненужные-признаки-3.1\"><span class=\"toc-item-num\">3.1&nbsp;&nbsp;</span>Удалим ненужные признаки</a></span></li><li><span><a href=\"#Напишим-функции-для-вычесления-sMAPE-и-итогового-sMAPE\" data-toc-modified-id=\"Напишим-функции-для-вычесления-sMAPE-и-итогового-sMAPE-3.2\"><span class=\"toc-item-num\">3.2&nbsp;&nbsp;</span>Напишим функции для вычесления sMAPE и итогового sMAPE</a></span><ul class=\"toc-item\"><li><span><a href=\"#Функция-для-вычесления-sMAPE\" data-toc-modified-id=\"Функция-для-вычесления-sMAPE-3.2.1\"><span class=\"toc-item-num\">3.2.1&nbsp;&nbsp;</span>Функция для вычесления sMAPE</a></span></li><li><span><a href=\"#Функция-для-вычесления-итогового-sMAPE\" data-toc-modified-id=\"Функция-для-вычесления-итогового-sMAPE-3.2.2\"><span class=\"toc-item-num\">3.2.2&nbsp;&nbsp;</span>Функция для вычесления итогового sMAPE</a></span></li></ul></li><li><span><a href=\"#Подготовим-данные\" data-toc-modified-id=\"Подготовим-данные-3.3\"><span class=\"toc-item-num\">3.3&nbsp;&nbsp;</span>Подготовим данные</a></span></li><li><span><a href=\"#Модель-LinearRegression\" data-toc-modified-id=\"Модель-LinearRegression-3.4\"><span class=\"toc-item-num\">3.4&nbsp;&nbsp;</span>Модель LinearRegression</a></span></li><li><span><a href=\"#Модель-DecisionTreeRegressor\" data-toc-modified-id=\"Модель-DecisionTreeRegressor-3.5\"><span class=\"toc-item-num\">3.5&nbsp;&nbsp;</span>Модель DecisionTreeRegressor</a></span></li><li><span><a href=\"#Модель-RandomForestRegressor\" data-toc-modified-id=\"Модель-RandomForestRegressor-3.6\"><span class=\"toc-item-num\">3.6&nbsp;&nbsp;</span>Модель RandomForestRegressor</a></span></li><li><span><a href=\"#Проверим-лучшую-модель-на-тестовой-выборке\" data-toc-modified-id=\"Проверим-лучшую-модель-на-тестовой-выборке-3.7\"><span class=\"toc-item-num\">3.7&nbsp;&nbsp;</span>Проверим лучшую модель на тестовой выборке</a></span></li><li><span><a href=\"#Проверим-модель-на-адекватность\" data-toc-modified-id=\"Проверим-модель-на-адекватность-3.8\"><span class=\"toc-item-num\">3.8&nbsp;&nbsp;</span>Проверим модель на адекватность</a></span></li></ul></li><li><span><a href=\"#Вывод\" data-toc-modified-id=\"Вывод-4\"><span class=\"toc-item-num\">4&nbsp;&nbsp;</span>Вывод</a></span></li><li><span><a href=\"#Чек-лист-готовности-проекта\" data-toc-modified-id=\"Чек-лист-готовности-проекта-5\"><span class=\"toc-item-num\">5&nbsp;&nbsp;</span>Чек-лист готовности проекта</a></span></li></ul></div>"
   ]
  },
  {
   "cell_type": "markdown",
   "metadata": {},
   "source": [
    "# Восстановление золота из руды"
   ]
  },
  {
   "cell_type": "markdown",
   "metadata": {},
   "source": [
    "Подготовьте прототип модели машинного обучения для «Цифры». Компания разрабатывает решения для эффективной работы промышленных предприятий.\n",
    "\n",
    "Модель должна предсказать коэффициент восстановления золота из золотосодержащей руды. Используйте данные с параметрами добычи и очистки. \n",
    "\n",
    "Модель поможет оптимизировать производство, чтобы не запускать предприятие с убыточными характеристиками.\n",
    "\n",
    "Вам нужно:\n",
    "\n",
    "1. Подготовить данные;\n",
    "2. Провести исследовательский анализ данных;\n",
    "3. Построить и обучить модель.\n",
    "\n",
    "Чтобы выполнить проект, обращайтесь к библиотекам *pandas*, *matplotlib* и *sklearn.* Вам поможет их документация."
   ]
  },
  {
   "cell_type": "markdown",
   "metadata": {},
   "source": [
    "## Подготовка данных"
   ]
  },
  {
   "cell_type": "markdown",
   "metadata": {},
   "source": [
    "### Откроем файлы и изучим их."
   ]
  },
  {
   "cell_type": "code",
   "execution_count": 1,
   "metadata": {},
   "outputs": [],
   "source": [
    "import pandas as pd\n",
    "import numpy as np\n",
    "import seaborn as sns\n",
    "import matplotlib.pyplot as plt\n",
    "from sklearn.model_selection import train_test_split, cross_val_score\n",
    "from sklearn.tree import DecisionTreeRegressor\n",
    "from sklearn.ensemble import RandomForestRegressor\n",
    "from sklearn.linear_model import LinearRegression\n",
    "from numpy.random import RandomState\n",
    "from sklearn.metrics import make_scorer, mean_absolute_error\n",
    "from sklearn.dummy import DummyRegressor\n",
    "import warnings\n",
    "warnings.filterwarnings(\"ignore\")"
   ]
  },
  {
   "cell_type": "markdown",
   "metadata": {},
   "source": [
    "<div class=\"alert alert-block alert-success\">\n",
    "<b>Успех:</b> Отлично, что все импорты собраны в первой ячейке ноутбука! Если у того, кто будет запускать твой ноутбук будут отсутствовать некоторые библиотеки, то он это увидит сразу, а не в процессе!\n",
    "</div>"
   ]
  },
  {
   "cell_type": "code",
   "execution_count": 2,
   "metadata": {},
   "outputs": [],
   "source": [
    "try:\n",
    "    train_df = pd.read_csv('/datasets/gold_recovery_train_new.csv')\n",
    "    test_df = pd.read_csv('/datasets/gold_recovery_test_new.csv')\n",
    "    full_df = pd.read_csv('/datasets/gold_recovery_full_new.csv')\n",
    "except:\n",
    "    train_df = pd.read_csv('https://code.s3.yandex.net/datasets/gold_recovery_train_new.csv')\n",
    "    test_df = pd.read_csv('https://code.s3.yandex.net/datasets/gold_recovery_test_new.csv')\n",
    "    full_df = pd.read_csv('https://code.s3.yandex.net/datasets/gold_recovery_full_new.csv')"
   ]
  },
  {
   "cell_type": "markdown",
   "metadata": {},
   "source": [
    "#### Изучим первый датасет"
   ]
  },
  {
   "cell_type": "code",
   "execution_count": 3,
   "metadata": {},
   "outputs": [
    {
     "data": {
      "text/html": [
       "<div>\n",
       "<style scoped>\n",
       "    .dataframe tbody tr th:only-of-type {\n",
       "        vertical-align: middle;\n",
       "    }\n",
       "\n",
       "    .dataframe tbody tr th {\n",
       "        vertical-align: top;\n",
       "    }\n",
       "\n",
       "    .dataframe thead th {\n",
       "        text-align: right;\n",
       "    }\n",
       "</style>\n",
       "<table border=\"1\" class=\"dataframe\">\n",
       "  <thead>\n",
       "    <tr style=\"text-align: right;\">\n",
       "      <th></th>\n",
       "      <th>date</th>\n",
       "      <th>final.output.concentrate_ag</th>\n",
       "      <th>final.output.concentrate_pb</th>\n",
       "      <th>final.output.concentrate_sol</th>\n",
       "      <th>final.output.concentrate_au</th>\n",
       "      <th>final.output.recovery</th>\n",
       "      <th>final.output.tail_ag</th>\n",
       "      <th>final.output.tail_pb</th>\n",
       "      <th>final.output.tail_sol</th>\n",
       "      <th>final.output.tail_au</th>\n",
       "      <th>...</th>\n",
       "      <th>secondary_cleaner.state.floatbank4_a_air</th>\n",
       "      <th>secondary_cleaner.state.floatbank4_a_level</th>\n",
       "      <th>secondary_cleaner.state.floatbank4_b_air</th>\n",
       "      <th>secondary_cleaner.state.floatbank4_b_level</th>\n",
       "      <th>secondary_cleaner.state.floatbank5_a_air</th>\n",
       "      <th>secondary_cleaner.state.floatbank5_a_level</th>\n",
       "      <th>secondary_cleaner.state.floatbank5_b_air</th>\n",
       "      <th>secondary_cleaner.state.floatbank5_b_level</th>\n",
       "      <th>secondary_cleaner.state.floatbank6_a_air</th>\n",
       "      <th>secondary_cleaner.state.floatbank6_a_level</th>\n",
       "    </tr>\n",
       "  </thead>\n",
       "  <tbody>\n",
       "    <tr>\n",
       "      <th>0</th>\n",
       "      <td>2016-01-15 00:00:00</td>\n",
       "      <td>6.055403</td>\n",
       "      <td>9.889648</td>\n",
       "      <td>5.507324</td>\n",
       "      <td>42.192020</td>\n",
       "      <td>70.541216</td>\n",
       "      <td>10.411962</td>\n",
       "      <td>0.895447</td>\n",
       "      <td>16.904297</td>\n",
       "      <td>2.143149</td>\n",
       "      <td>...</td>\n",
       "      <td>14.016835</td>\n",
       "      <td>-502.488007</td>\n",
       "      <td>12.099931</td>\n",
       "      <td>-504.715942</td>\n",
       "      <td>9.925633</td>\n",
       "      <td>-498.310211</td>\n",
       "      <td>8.079666</td>\n",
       "      <td>-500.470978</td>\n",
       "      <td>14.151341</td>\n",
       "      <td>-605.841980</td>\n",
       "    </tr>\n",
       "    <tr>\n",
       "      <th>1</th>\n",
       "      <td>2016-01-15 01:00:00</td>\n",
       "      <td>6.029369</td>\n",
       "      <td>9.968944</td>\n",
       "      <td>5.257781</td>\n",
       "      <td>42.701629</td>\n",
       "      <td>69.266198</td>\n",
       "      <td>10.462676</td>\n",
       "      <td>0.927452</td>\n",
       "      <td>16.634514</td>\n",
       "      <td>2.224930</td>\n",
       "      <td>...</td>\n",
       "      <td>13.992281</td>\n",
       "      <td>-505.503262</td>\n",
       "      <td>11.950531</td>\n",
       "      <td>-501.331529</td>\n",
       "      <td>10.039245</td>\n",
       "      <td>-500.169983</td>\n",
       "      <td>7.984757</td>\n",
       "      <td>-500.582168</td>\n",
       "      <td>13.998353</td>\n",
       "      <td>-599.787184</td>\n",
       "    </tr>\n",
       "    <tr>\n",
       "      <th>2</th>\n",
       "      <td>2016-01-15 02:00:00</td>\n",
       "      <td>6.055926</td>\n",
       "      <td>10.213995</td>\n",
       "      <td>5.383759</td>\n",
       "      <td>42.657501</td>\n",
       "      <td>68.116445</td>\n",
       "      <td>10.507046</td>\n",
       "      <td>0.953716</td>\n",
       "      <td>16.208849</td>\n",
       "      <td>2.257889</td>\n",
       "      <td>...</td>\n",
       "      <td>14.015015</td>\n",
       "      <td>-502.520901</td>\n",
       "      <td>11.912783</td>\n",
       "      <td>-501.133383</td>\n",
       "      <td>10.070913</td>\n",
       "      <td>-500.129135</td>\n",
       "      <td>8.013877</td>\n",
       "      <td>-500.517572</td>\n",
       "      <td>14.028663</td>\n",
       "      <td>-601.427363</td>\n",
       "    </tr>\n",
       "    <tr>\n",
       "      <th>3</th>\n",
       "      <td>2016-01-15 03:00:00</td>\n",
       "      <td>6.047977</td>\n",
       "      <td>9.977019</td>\n",
       "      <td>4.858634</td>\n",
       "      <td>42.689819</td>\n",
       "      <td>68.347543</td>\n",
       "      <td>10.422762</td>\n",
       "      <td>0.883763</td>\n",
       "      <td>16.532835</td>\n",
       "      <td>2.146849</td>\n",
       "      <td>...</td>\n",
       "      <td>14.036510</td>\n",
       "      <td>-500.857308</td>\n",
       "      <td>11.999550</td>\n",
       "      <td>-501.193686</td>\n",
       "      <td>9.970366</td>\n",
       "      <td>-499.201640</td>\n",
       "      <td>7.977324</td>\n",
       "      <td>-500.255908</td>\n",
       "      <td>14.005551</td>\n",
       "      <td>-599.996129</td>\n",
       "    </tr>\n",
       "    <tr>\n",
       "      <th>4</th>\n",
       "      <td>2016-01-15 04:00:00</td>\n",
       "      <td>6.148599</td>\n",
       "      <td>10.142511</td>\n",
       "      <td>4.939416</td>\n",
       "      <td>42.774141</td>\n",
       "      <td>66.927016</td>\n",
       "      <td>10.360302</td>\n",
       "      <td>0.792826</td>\n",
       "      <td>16.525686</td>\n",
       "      <td>2.055292</td>\n",
       "      <td>...</td>\n",
       "      <td>14.027298</td>\n",
       "      <td>-499.838632</td>\n",
       "      <td>11.953070</td>\n",
       "      <td>-501.053894</td>\n",
       "      <td>9.925709</td>\n",
       "      <td>-501.686727</td>\n",
       "      <td>7.894242</td>\n",
       "      <td>-500.356035</td>\n",
       "      <td>13.996647</td>\n",
       "      <td>-601.496691</td>\n",
       "    </tr>\n",
       "  </tbody>\n",
       "</table>\n",
       "<p>5 rows × 87 columns</p>\n",
       "</div>"
      ],
      "text/plain": [
       "                  date  final.output.concentrate_ag  \\\n",
       "0  2016-01-15 00:00:00                     6.055403   \n",
       "1  2016-01-15 01:00:00                     6.029369   \n",
       "2  2016-01-15 02:00:00                     6.055926   \n",
       "3  2016-01-15 03:00:00                     6.047977   \n",
       "4  2016-01-15 04:00:00                     6.148599   \n",
       "\n",
       "   final.output.concentrate_pb  final.output.concentrate_sol  \\\n",
       "0                     9.889648                      5.507324   \n",
       "1                     9.968944                      5.257781   \n",
       "2                    10.213995                      5.383759   \n",
       "3                     9.977019                      4.858634   \n",
       "4                    10.142511                      4.939416   \n",
       "\n",
       "   final.output.concentrate_au  final.output.recovery  final.output.tail_ag  \\\n",
       "0                    42.192020              70.541216             10.411962   \n",
       "1                    42.701629              69.266198             10.462676   \n",
       "2                    42.657501              68.116445             10.507046   \n",
       "3                    42.689819              68.347543             10.422762   \n",
       "4                    42.774141              66.927016             10.360302   \n",
       "\n",
       "   final.output.tail_pb  final.output.tail_sol  final.output.tail_au  ...  \\\n",
       "0              0.895447              16.904297              2.143149  ...   \n",
       "1              0.927452              16.634514              2.224930  ...   \n",
       "2              0.953716              16.208849              2.257889  ...   \n",
       "3              0.883763              16.532835              2.146849  ...   \n",
       "4              0.792826              16.525686              2.055292  ...   \n",
       "\n",
       "   secondary_cleaner.state.floatbank4_a_air  \\\n",
       "0                                 14.016835   \n",
       "1                                 13.992281   \n",
       "2                                 14.015015   \n",
       "3                                 14.036510   \n",
       "4                                 14.027298   \n",
       "\n",
       "   secondary_cleaner.state.floatbank4_a_level  \\\n",
       "0                                 -502.488007   \n",
       "1                                 -505.503262   \n",
       "2                                 -502.520901   \n",
       "3                                 -500.857308   \n",
       "4                                 -499.838632   \n",
       "\n",
       "   secondary_cleaner.state.floatbank4_b_air  \\\n",
       "0                                 12.099931   \n",
       "1                                 11.950531   \n",
       "2                                 11.912783   \n",
       "3                                 11.999550   \n",
       "4                                 11.953070   \n",
       "\n",
       "   secondary_cleaner.state.floatbank4_b_level  \\\n",
       "0                                 -504.715942   \n",
       "1                                 -501.331529   \n",
       "2                                 -501.133383   \n",
       "3                                 -501.193686   \n",
       "4                                 -501.053894   \n",
       "\n",
       "   secondary_cleaner.state.floatbank5_a_air  \\\n",
       "0                                  9.925633   \n",
       "1                                 10.039245   \n",
       "2                                 10.070913   \n",
       "3                                  9.970366   \n",
       "4                                  9.925709   \n",
       "\n",
       "   secondary_cleaner.state.floatbank5_a_level  \\\n",
       "0                                 -498.310211   \n",
       "1                                 -500.169983   \n",
       "2                                 -500.129135   \n",
       "3                                 -499.201640   \n",
       "4                                 -501.686727   \n",
       "\n",
       "   secondary_cleaner.state.floatbank5_b_air  \\\n",
       "0                                  8.079666   \n",
       "1                                  7.984757   \n",
       "2                                  8.013877   \n",
       "3                                  7.977324   \n",
       "4                                  7.894242   \n",
       "\n",
       "   secondary_cleaner.state.floatbank5_b_level  \\\n",
       "0                                 -500.470978   \n",
       "1                                 -500.582168   \n",
       "2                                 -500.517572   \n",
       "3                                 -500.255908   \n",
       "4                                 -500.356035   \n",
       "\n",
       "   secondary_cleaner.state.floatbank6_a_air  \\\n",
       "0                                 14.151341   \n",
       "1                                 13.998353   \n",
       "2                                 14.028663   \n",
       "3                                 14.005551   \n",
       "4                                 13.996647   \n",
       "\n",
       "   secondary_cleaner.state.floatbank6_a_level  \n",
       "0                                 -605.841980  \n",
       "1                                 -599.787184  \n",
       "2                                 -601.427363  \n",
       "3                                 -599.996129  \n",
       "4                                 -601.496691  \n",
       "\n",
       "[5 rows x 87 columns]"
      ]
     },
     "execution_count": 3,
     "metadata": {},
     "output_type": "execute_result"
    }
   ],
   "source": [
    "train_df.head()"
   ]
  },
  {
   "cell_type": "code",
   "execution_count": 4,
   "metadata": {},
   "outputs": [
    {
     "name": "stdout",
     "output_type": "stream",
     "text": [
      "<class 'pandas.core.frame.DataFrame'>\n",
      "RangeIndex: 14149 entries, 0 to 14148\n",
      "Data columns (total 87 columns):\n",
      " #   Column                                              Non-Null Count  Dtype  \n",
      "---  ------                                              --------------  -----  \n",
      " 0   date                                                14149 non-null  object \n",
      " 1   final.output.concentrate_ag                         14148 non-null  float64\n",
      " 2   final.output.concentrate_pb                         14148 non-null  float64\n",
      " 3   final.output.concentrate_sol                        13938 non-null  float64\n",
      " 4   final.output.concentrate_au                         14149 non-null  float64\n",
      " 5   final.output.recovery                               14149 non-null  float64\n",
      " 6   final.output.tail_ag                                14149 non-null  float64\n",
      " 7   final.output.tail_pb                                14049 non-null  float64\n",
      " 8   final.output.tail_sol                               14144 non-null  float64\n",
      " 9   final.output.tail_au                                14149 non-null  float64\n",
      " 10  primary_cleaner.input.sulfate                       14129 non-null  float64\n",
      " 11  primary_cleaner.input.depressant                    14117 non-null  float64\n",
      " 12  primary_cleaner.input.feed_size                     14149 non-null  float64\n",
      " 13  primary_cleaner.input.xanthate                      14049 non-null  float64\n",
      " 14  primary_cleaner.output.concentrate_ag               14149 non-null  float64\n",
      " 15  primary_cleaner.output.concentrate_pb               14063 non-null  float64\n",
      " 16  primary_cleaner.output.concentrate_sol              13863 non-null  float64\n",
      " 17  primary_cleaner.output.concentrate_au               14149 non-null  float64\n",
      " 18  primary_cleaner.output.tail_ag                      14148 non-null  float64\n",
      " 19  primary_cleaner.output.tail_pb                      14134 non-null  float64\n",
      " 20  primary_cleaner.output.tail_sol                     14103 non-null  float64\n",
      " 21  primary_cleaner.output.tail_au                      14149 non-null  float64\n",
      " 22  primary_cleaner.state.floatbank8_a_air              14145 non-null  float64\n",
      " 23  primary_cleaner.state.floatbank8_a_level            14148 non-null  float64\n",
      " 24  primary_cleaner.state.floatbank8_b_air              14145 non-null  float64\n",
      " 25  primary_cleaner.state.floatbank8_b_level            14148 non-null  float64\n",
      " 26  primary_cleaner.state.floatbank8_c_air              14147 non-null  float64\n",
      " 27  primary_cleaner.state.floatbank8_c_level            14148 non-null  float64\n",
      " 28  primary_cleaner.state.floatbank8_d_air              14146 non-null  float64\n",
      " 29  primary_cleaner.state.floatbank8_d_level            14148 non-null  float64\n",
      " 30  rougher.calculation.sulfate_to_au_concentrate       14148 non-null  float64\n",
      " 31  rougher.calculation.floatbank10_sulfate_to_au_feed  14148 non-null  float64\n",
      " 32  rougher.calculation.floatbank11_sulfate_to_au_feed  14148 non-null  float64\n",
      " 33  rougher.calculation.au_pb_ratio                     14149 non-null  float64\n",
      " 34  rougher.input.feed_ag                               14149 non-null  float64\n",
      " 35  rougher.input.feed_pb                               14049 non-null  float64\n",
      " 36  rougher.input.feed_rate                             14141 non-null  float64\n",
      " 37  rougher.input.feed_size                             14005 non-null  float64\n",
      " 38  rougher.input.feed_sol                              14071 non-null  float64\n",
      " 39  rougher.input.feed_au                               14149 non-null  float64\n",
      " 40  rougher.input.floatbank10_sulfate                   14120 non-null  float64\n",
      " 41  rougher.input.floatbank10_xanthate                  14141 non-null  float64\n",
      " 42  rougher.input.floatbank11_sulfate                   14113 non-null  float64\n",
      " 43  rougher.input.floatbank11_xanthate                  13721 non-null  float64\n",
      " 44  rougher.output.concentrate_ag                       14149 non-null  float64\n",
      " 45  rougher.output.concentrate_pb                       14149 non-null  float64\n",
      " 46  rougher.output.concentrate_sol                      14127 non-null  float64\n",
      " 47  rougher.output.concentrate_au                       14149 non-null  float64\n",
      " 48  rougher.output.recovery                             14149 non-null  float64\n",
      " 49  rougher.output.tail_ag                              14148 non-null  float64\n",
      " 50  rougher.output.tail_pb                              14149 non-null  float64\n",
      " 51  rougher.output.tail_sol                             14149 non-null  float64\n",
      " 52  rougher.output.tail_au                              14149 non-null  float64\n",
      " 53  rougher.state.floatbank10_a_air                     14148 non-null  float64\n",
      " 54  rougher.state.floatbank10_a_level                   14148 non-null  float64\n",
      " 55  rougher.state.floatbank10_b_air                     14148 non-null  float64\n",
      " 56  rougher.state.floatbank10_b_level                   14148 non-null  float64\n",
      " 57  rougher.state.floatbank10_c_air                     14148 non-null  float64\n",
      " 58  rougher.state.floatbank10_c_level                   14148 non-null  float64\n",
      " 59  rougher.state.floatbank10_d_air                     14149 non-null  float64\n",
      " 60  rougher.state.floatbank10_d_level                   14149 non-null  float64\n",
      " 61  rougher.state.floatbank10_e_air                     13713 non-null  float64\n",
      " 62  rougher.state.floatbank10_e_level                   14149 non-null  float64\n",
      " 63  rougher.state.floatbank10_f_air                     14149 non-null  float64\n",
      " 64  rougher.state.floatbank10_f_level                   14149 non-null  float64\n",
      " 65  secondary_cleaner.output.tail_ag                    14147 non-null  float64\n",
      " 66  secondary_cleaner.output.tail_pb                    14139 non-null  float64\n",
      " 67  secondary_cleaner.output.tail_sol                   12544 non-null  float64\n",
      " 68  secondary_cleaner.output.tail_au                    14149 non-null  float64\n",
      " 69  secondary_cleaner.state.floatbank2_a_air            13932 non-null  float64\n",
      " 70  secondary_cleaner.state.floatbank2_a_level          14148 non-null  float64\n",
      " 71  secondary_cleaner.state.floatbank2_b_air            14128 non-null  float64\n",
      " 72  secondary_cleaner.state.floatbank2_b_level          14148 non-null  float64\n",
      " 73  secondary_cleaner.state.floatbank3_a_air            14145 non-null  float64\n",
      " 74  secondary_cleaner.state.floatbank3_a_level          14148 non-null  float64\n",
      " 75  secondary_cleaner.state.floatbank3_b_air            14148 non-null  float64\n",
      " 76  secondary_cleaner.state.floatbank3_b_level          14148 non-null  float64\n",
      " 77  secondary_cleaner.state.floatbank4_a_air            14143 non-null  float64\n",
      " 78  secondary_cleaner.state.floatbank4_a_level          14148 non-null  float64\n",
      " 79  secondary_cleaner.state.floatbank4_b_air            14148 non-null  float64\n",
      " 80  secondary_cleaner.state.floatbank4_b_level          14148 non-null  float64\n",
      " 81  secondary_cleaner.state.floatbank5_a_air            14148 non-null  float64\n",
      " 82  secondary_cleaner.state.floatbank5_a_level          14148 non-null  float64\n",
      " 83  secondary_cleaner.state.floatbank5_b_air            14148 non-null  float64\n",
      " 84  secondary_cleaner.state.floatbank5_b_level          14148 non-null  float64\n",
      " 85  secondary_cleaner.state.floatbank6_a_air            14147 non-null  float64\n",
      " 86  secondary_cleaner.state.floatbank6_a_level          14148 non-null  float64\n",
      "dtypes: float64(86), object(1)\n",
      "memory usage: 9.4+ MB\n"
     ]
    }
   ],
   "source": [
    "train_df.info()"
   ]
  },
  {
   "cell_type": "code",
   "execution_count": 5,
   "metadata": {},
   "outputs": [
    {
     "data": {
      "text/html": [
       "<div>\n",
       "<style scoped>\n",
       "    .dataframe tbody tr th:only-of-type {\n",
       "        vertical-align: middle;\n",
       "    }\n",
       "\n",
       "    .dataframe tbody tr th {\n",
       "        vertical-align: top;\n",
       "    }\n",
       "\n",
       "    .dataframe thead th {\n",
       "        text-align: right;\n",
       "    }\n",
       "</style>\n",
       "<table border=\"1\" class=\"dataframe\">\n",
       "  <thead>\n",
       "    <tr style=\"text-align: right;\">\n",
       "      <th></th>\n",
       "      <th>final.output.concentrate_ag</th>\n",
       "      <th>final.output.concentrate_pb</th>\n",
       "      <th>final.output.concentrate_sol</th>\n",
       "      <th>final.output.concentrate_au</th>\n",
       "      <th>final.output.recovery</th>\n",
       "      <th>final.output.tail_ag</th>\n",
       "      <th>final.output.tail_pb</th>\n",
       "      <th>final.output.tail_sol</th>\n",
       "      <th>final.output.tail_au</th>\n",
       "      <th>primary_cleaner.input.sulfate</th>\n",
       "      <th>...</th>\n",
       "      <th>secondary_cleaner.state.floatbank4_a_air</th>\n",
       "      <th>secondary_cleaner.state.floatbank4_a_level</th>\n",
       "      <th>secondary_cleaner.state.floatbank4_b_air</th>\n",
       "      <th>secondary_cleaner.state.floatbank4_b_level</th>\n",
       "      <th>secondary_cleaner.state.floatbank5_a_air</th>\n",
       "      <th>secondary_cleaner.state.floatbank5_a_level</th>\n",
       "      <th>secondary_cleaner.state.floatbank5_b_air</th>\n",
       "      <th>secondary_cleaner.state.floatbank5_b_level</th>\n",
       "      <th>secondary_cleaner.state.floatbank6_a_air</th>\n",
       "      <th>secondary_cleaner.state.floatbank6_a_level</th>\n",
       "    </tr>\n",
       "  </thead>\n",
       "  <tbody>\n",
       "    <tr>\n",
       "      <th>count</th>\n",
       "      <td>14148.000000</td>\n",
       "      <td>14148.000000</td>\n",
       "      <td>13938.000000</td>\n",
       "      <td>14149.000000</td>\n",
       "      <td>14149.000000</td>\n",
       "      <td>14149.000000</td>\n",
       "      <td>14049.000000</td>\n",
       "      <td>14144.000000</td>\n",
       "      <td>14149.000000</td>\n",
       "      <td>14129.000000</td>\n",
       "      <td>...</td>\n",
       "      <td>14143.000000</td>\n",
       "      <td>14148.000000</td>\n",
       "      <td>14148.000000</td>\n",
       "      <td>14148.000000</td>\n",
       "      <td>14148.000000</td>\n",
       "      <td>14148.000000</td>\n",
       "      <td>14148.000000</td>\n",
       "      <td>14148.000000</td>\n",
       "      <td>14147.000000</td>\n",
       "      <td>14148.000000</td>\n",
       "    </tr>\n",
       "    <tr>\n",
       "      <th>mean</th>\n",
       "      <td>5.142034</td>\n",
       "      <td>10.132960</td>\n",
       "      <td>9.202849</td>\n",
       "      <td>44.003792</td>\n",
       "      <td>66.518832</td>\n",
       "      <td>9.607035</td>\n",
       "      <td>2.597298</td>\n",
       "      <td>10.512122</td>\n",
       "      <td>2.918421</td>\n",
       "      <td>133.320659</td>\n",
       "      <td>...</td>\n",
       "      <td>19.985454</td>\n",
       "      <td>-478.696836</td>\n",
       "      <td>15.487065</td>\n",
       "      <td>-460.229416</td>\n",
       "      <td>16.775136</td>\n",
       "      <td>-483.956022</td>\n",
       "      <td>13.064590</td>\n",
       "      <td>-483.966564</td>\n",
       "      <td>19.577539</td>\n",
       "      <td>-506.798480</td>\n",
       "    </tr>\n",
       "    <tr>\n",
       "      <th>std</th>\n",
       "      <td>1.369586</td>\n",
       "      <td>1.654930</td>\n",
       "      <td>2.790516</td>\n",
       "      <td>4.905261</td>\n",
       "      <td>10.295402</td>\n",
       "      <td>2.319069</td>\n",
       "      <td>0.971843</td>\n",
       "      <td>3.003617</td>\n",
       "      <td>0.903712</td>\n",
       "      <td>39.431659</td>\n",
       "      <td>...</td>\n",
       "      <td>5.657723</td>\n",
       "      <td>50.736021</td>\n",
       "      <td>5.255655</td>\n",
       "      <td>58.843586</td>\n",
       "      <td>5.831906</td>\n",
       "      <td>37.892788</td>\n",
       "      <td>5.765617</td>\n",
       "      <td>39.207913</td>\n",
       "      <td>5.764417</td>\n",
       "      <td>37.079249</td>\n",
       "    </tr>\n",
       "    <tr>\n",
       "      <th>min</th>\n",
       "      <td>0.000000</td>\n",
       "      <td>0.000000</td>\n",
       "      <td>0.000000</td>\n",
       "      <td>0.000000</td>\n",
       "      <td>0.000000</td>\n",
       "      <td>0.000000</td>\n",
       "      <td>0.000000</td>\n",
       "      <td>0.000000</td>\n",
       "      <td>0.000000</td>\n",
       "      <td>0.003112</td>\n",
       "      <td>...</td>\n",
       "      <td>0.000000</td>\n",
       "      <td>-799.709069</td>\n",
       "      <td>0.000000</td>\n",
       "      <td>-799.889113</td>\n",
       "      <td>-0.372054</td>\n",
       "      <td>-797.142475</td>\n",
       "      <td>0.646208</td>\n",
       "      <td>-800.006180</td>\n",
       "      <td>0.195324</td>\n",
       "      <td>-809.398668</td>\n",
       "    </tr>\n",
       "    <tr>\n",
       "      <th>25%</th>\n",
       "      <td>4.211620</td>\n",
       "      <td>9.297355</td>\n",
       "      <td>7.484645</td>\n",
       "      <td>43.276111</td>\n",
       "      <td>62.545817</td>\n",
       "      <td>7.997429</td>\n",
       "      <td>1.905973</td>\n",
       "      <td>8.811324</td>\n",
       "      <td>2.368607</td>\n",
       "      <td>107.006651</td>\n",
       "      <td>...</td>\n",
       "      <td>14.990775</td>\n",
       "      <td>-500.628656</td>\n",
       "      <td>11.894558</td>\n",
       "      <td>-500.149000</td>\n",
       "      <td>11.083980</td>\n",
       "      <td>-500.363177</td>\n",
       "      <td>8.994405</td>\n",
       "      <td>-500.105994</td>\n",
       "      <td>14.989304</td>\n",
       "      <td>-500.745104</td>\n",
       "    </tr>\n",
       "    <tr>\n",
       "      <th>50%</th>\n",
       "      <td>4.994652</td>\n",
       "      <td>10.297144</td>\n",
       "      <td>8.845462</td>\n",
       "      <td>44.872436</td>\n",
       "      <td>67.432775</td>\n",
       "      <td>9.480270</td>\n",
       "      <td>2.592022</td>\n",
       "      <td>10.514621</td>\n",
       "      <td>2.851025</td>\n",
       "      <td>133.018328</td>\n",
       "      <td>...</td>\n",
       "      <td>20.001789</td>\n",
       "      <td>-499.681450</td>\n",
       "      <td>14.975536</td>\n",
       "      <td>-499.388738</td>\n",
       "      <td>17.932223</td>\n",
       "      <td>-499.702452</td>\n",
       "      <td>11.997547</td>\n",
       "      <td>-499.914556</td>\n",
       "      <td>19.984175</td>\n",
       "      <td>-500.061431</td>\n",
       "    </tr>\n",
       "    <tr>\n",
       "      <th>75%</th>\n",
       "      <td>5.859540</td>\n",
       "      <td>11.170603</td>\n",
       "      <td>10.487508</td>\n",
       "      <td>46.166425</td>\n",
       "      <td>72.346428</td>\n",
       "      <td>11.003707</td>\n",
       "      <td>3.241723</td>\n",
       "      <td>11.933009</td>\n",
       "      <td>3.434764</td>\n",
       "      <td>159.825396</td>\n",
       "      <td>...</td>\n",
       "      <td>24.990826</td>\n",
       "      <td>-477.472413</td>\n",
       "      <td>20.059375</td>\n",
       "      <td>-400.039008</td>\n",
       "      <td>21.346550</td>\n",
       "      <td>-487.712108</td>\n",
       "      <td>17.982903</td>\n",
       "      <td>-453.186936</td>\n",
       "      <td>24.991623</td>\n",
       "      <td>-499.536466</td>\n",
       "    </tr>\n",
       "    <tr>\n",
       "      <th>max</th>\n",
       "      <td>16.001945</td>\n",
       "      <td>17.031899</td>\n",
       "      <td>18.124851</td>\n",
       "      <td>52.756638</td>\n",
       "      <td>100.000000</td>\n",
       "      <td>19.552149</td>\n",
       "      <td>5.639565</td>\n",
       "      <td>22.317730</td>\n",
       "      <td>8.197408</td>\n",
       "      <td>250.127834</td>\n",
       "      <td>...</td>\n",
       "      <td>30.115735</td>\n",
       "      <td>-245.239184</td>\n",
       "      <td>24.007913</td>\n",
       "      <td>-145.071088</td>\n",
       "      <td>43.709931</td>\n",
       "      <td>-275.073125</td>\n",
       "      <td>27.926001</td>\n",
       "      <td>-157.396071</td>\n",
       "      <td>32.188906</td>\n",
       "      <td>-104.427459</td>\n",
       "    </tr>\n",
       "  </tbody>\n",
       "</table>\n",
       "<p>8 rows × 86 columns</p>\n",
       "</div>"
      ],
      "text/plain": [
       "       final.output.concentrate_ag  final.output.concentrate_pb  \\\n",
       "count                 14148.000000                 14148.000000   \n",
       "mean                      5.142034                    10.132960   \n",
       "std                       1.369586                     1.654930   \n",
       "min                       0.000000                     0.000000   \n",
       "25%                       4.211620                     9.297355   \n",
       "50%                       4.994652                    10.297144   \n",
       "75%                       5.859540                    11.170603   \n",
       "max                      16.001945                    17.031899   \n",
       "\n",
       "       final.output.concentrate_sol  final.output.concentrate_au  \\\n",
       "count                  13938.000000                 14149.000000   \n",
       "mean                       9.202849                    44.003792   \n",
       "std                        2.790516                     4.905261   \n",
       "min                        0.000000                     0.000000   \n",
       "25%                        7.484645                    43.276111   \n",
       "50%                        8.845462                    44.872436   \n",
       "75%                       10.487508                    46.166425   \n",
       "max                       18.124851                    52.756638   \n",
       "\n",
       "       final.output.recovery  final.output.tail_ag  final.output.tail_pb  \\\n",
       "count           14149.000000          14149.000000          14049.000000   \n",
       "mean               66.518832              9.607035              2.597298   \n",
       "std                10.295402              2.319069              0.971843   \n",
       "min                 0.000000              0.000000              0.000000   \n",
       "25%                62.545817              7.997429              1.905973   \n",
       "50%                67.432775              9.480270              2.592022   \n",
       "75%                72.346428             11.003707              3.241723   \n",
       "max               100.000000             19.552149              5.639565   \n",
       "\n",
       "       final.output.tail_sol  final.output.tail_au  \\\n",
       "count           14144.000000          14149.000000   \n",
       "mean               10.512122              2.918421   \n",
       "std                 3.003617              0.903712   \n",
       "min                 0.000000              0.000000   \n",
       "25%                 8.811324              2.368607   \n",
       "50%                10.514621              2.851025   \n",
       "75%                11.933009              3.434764   \n",
       "max                22.317730              8.197408   \n",
       "\n",
       "       primary_cleaner.input.sulfate  ...  \\\n",
       "count                   14129.000000  ...   \n",
       "mean                      133.320659  ...   \n",
       "std                        39.431659  ...   \n",
       "min                         0.003112  ...   \n",
       "25%                       107.006651  ...   \n",
       "50%                       133.018328  ...   \n",
       "75%                       159.825396  ...   \n",
       "max                       250.127834  ...   \n",
       "\n",
       "       secondary_cleaner.state.floatbank4_a_air  \\\n",
       "count                              14143.000000   \n",
       "mean                                  19.985454   \n",
       "std                                    5.657723   \n",
       "min                                    0.000000   \n",
       "25%                                   14.990775   \n",
       "50%                                   20.001789   \n",
       "75%                                   24.990826   \n",
       "max                                   30.115735   \n",
       "\n",
       "       secondary_cleaner.state.floatbank4_a_level  \\\n",
       "count                                14148.000000   \n",
       "mean                                  -478.696836   \n",
       "std                                     50.736021   \n",
       "min                                   -799.709069   \n",
       "25%                                   -500.628656   \n",
       "50%                                   -499.681450   \n",
       "75%                                   -477.472413   \n",
       "max                                   -245.239184   \n",
       "\n",
       "       secondary_cleaner.state.floatbank4_b_air  \\\n",
       "count                              14148.000000   \n",
       "mean                                  15.487065   \n",
       "std                                    5.255655   \n",
       "min                                    0.000000   \n",
       "25%                                   11.894558   \n",
       "50%                                   14.975536   \n",
       "75%                                   20.059375   \n",
       "max                                   24.007913   \n",
       "\n",
       "       secondary_cleaner.state.floatbank4_b_level  \\\n",
       "count                                14148.000000   \n",
       "mean                                  -460.229416   \n",
       "std                                     58.843586   \n",
       "min                                   -799.889113   \n",
       "25%                                   -500.149000   \n",
       "50%                                   -499.388738   \n",
       "75%                                   -400.039008   \n",
       "max                                   -145.071088   \n",
       "\n",
       "       secondary_cleaner.state.floatbank5_a_air  \\\n",
       "count                              14148.000000   \n",
       "mean                                  16.775136   \n",
       "std                                    5.831906   \n",
       "min                                   -0.372054   \n",
       "25%                                   11.083980   \n",
       "50%                                   17.932223   \n",
       "75%                                   21.346550   \n",
       "max                                   43.709931   \n",
       "\n",
       "       secondary_cleaner.state.floatbank5_a_level  \\\n",
       "count                                14148.000000   \n",
       "mean                                  -483.956022   \n",
       "std                                     37.892788   \n",
       "min                                   -797.142475   \n",
       "25%                                   -500.363177   \n",
       "50%                                   -499.702452   \n",
       "75%                                   -487.712108   \n",
       "max                                   -275.073125   \n",
       "\n",
       "       secondary_cleaner.state.floatbank5_b_air  \\\n",
       "count                              14148.000000   \n",
       "mean                                  13.064590   \n",
       "std                                    5.765617   \n",
       "min                                    0.646208   \n",
       "25%                                    8.994405   \n",
       "50%                                   11.997547   \n",
       "75%                                   17.982903   \n",
       "max                                   27.926001   \n",
       "\n",
       "       secondary_cleaner.state.floatbank5_b_level  \\\n",
       "count                                14148.000000   \n",
       "mean                                  -483.966564   \n",
       "std                                     39.207913   \n",
       "min                                   -800.006180   \n",
       "25%                                   -500.105994   \n",
       "50%                                   -499.914556   \n",
       "75%                                   -453.186936   \n",
       "max                                   -157.396071   \n",
       "\n",
       "       secondary_cleaner.state.floatbank6_a_air  \\\n",
       "count                              14147.000000   \n",
       "mean                                  19.577539   \n",
       "std                                    5.764417   \n",
       "min                                    0.195324   \n",
       "25%                                   14.989304   \n",
       "50%                                   19.984175   \n",
       "75%                                   24.991623   \n",
       "max                                   32.188906   \n",
       "\n",
       "       secondary_cleaner.state.floatbank6_a_level  \n",
       "count                                14148.000000  \n",
       "mean                                  -506.798480  \n",
       "std                                     37.079249  \n",
       "min                                   -809.398668  \n",
       "25%                                   -500.745104  \n",
       "50%                                   -500.061431  \n",
       "75%                                   -499.536466  \n",
       "max                                   -104.427459  \n",
       "\n",
       "[8 rows x 86 columns]"
      ]
     },
     "execution_count": 5,
     "metadata": {},
     "output_type": "execute_result"
    }
   ],
   "source": [
    "train_df.describe()"
   ]
  },
  {
   "cell_type": "markdown",
   "metadata": {},
   "source": [
    "#### Изучим второй датасет"
   ]
  },
  {
   "cell_type": "code",
   "execution_count": 6,
   "metadata": {},
   "outputs": [
    {
     "data": {
      "text/html": [
       "<div>\n",
       "<style scoped>\n",
       "    .dataframe tbody tr th:only-of-type {\n",
       "        vertical-align: middle;\n",
       "    }\n",
       "\n",
       "    .dataframe tbody tr th {\n",
       "        vertical-align: top;\n",
       "    }\n",
       "\n",
       "    .dataframe thead th {\n",
       "        text-align: right;\n",
       "    }\n",
       "</style>\n",
       "<table border=\"1\" class=\"dataframe\">\n",
       "  <thead>\n",
       "    <tr style=\"text-align: right;\">\n",
       "      <th></th>\n",
       "      <th>date</th>\n",
       "      <th>primary_cleaner.input.sulfate</th>\n",
       "      <th>primary_cleaner.input.depressant</th>\n",
       "      <th>primary_cleaner.input.feed_size</th>\n",
       "      <th>primary_cleaner.input.xanthate</th>\n",
       "      <th>primary_cleaner.state.floatbank8_a_air</th>\n",
       "      <th>primary_cleaner.state.floatbank8_a_level</th>\n",
       "      <th>primary_cleaner.state.floatbank8_b_air</th>\n",
       "      <th>primary_cleaner.state.floatbank8_b_level</th>\n",
       "      <th>primary_cleaner.state.floatbank8_c_air</th>\n",
       "      <th>...</th>\n",
       "      <th>secondary_cleaner.state.floatbank4_a_air</th>\n",
       "      <th>secondary_cleaner.state.floatbank4_a_level</th>\n",
       "      <th>secondary_cleaner.state.floatbank4_b_air</th>\n",
       "      <th>secondary_cleaner.state.floatbank4_b_level</th>\n",
       "      <th>secondary_cleaner.state.floatbank5_a_air</th>\n",
       "      <th>secondary_cleaner.state.floatbank5_a_level</th>\n",
       "      <th>secondary_cleaner.state.floatbank5_b_air</th>\n",
       "      <th>secondary_cleaner.state.floatbank5_b_level</th>\n",
       "      <th>secondary_cleaner.state.floatbank6_a_air</th>\n",
       "      <th>secondary_cleaner.state.floatbank6_a_level</th>\n",
       "    </tr>\n",
       "  </thead>\n",
       "  <tbody>\n",
       "    <tr>\n",
       "      <th>0</th>\n",
       "      <td>2016-09-01 00:59:59</td>\n",
       "      <td>210.800909</td>\n",
       "      <td>14.993118</td>\n",
       "      <td>8.080000</td>\n",
       "      <td>1.005021</td>\n",
       "      <td>1398.981301</td>\n",
       "      <td>-500.225577</td>\n",
       "      <td>1399.144926</td>\n",
       "      <td>-499.919735</td>\n",
       "      <td>1400.102998</td>\n",
       "      <td>...</td>\n",
       "      <td>12.023554</td>\n",
       "      <td>-497.795834</td>\n",
       "      <td>8.016656</td>\n",
       "      <td>-501.289139</td>\n",
       "      <td>7.946562</td>\n",
       "      <td>-432.317850</td>\n",
       "      <td>4.872511</td>\n",
       "      <td>-500.037437</td>\n",
       "      <td>26.705889</td>\n",
       "      <td>-499.709414</td>\n",
       "    </tr>\n",
       "    <tr>\n",
       "      <th>1</th>\n",
       "      <td>2016-09-01 01:59:59</td>\n",
       "      <td>215.392455</td>\n",
       "      <td>14.987471</td>\n",
       "      <td>8.080000</td>\n",
       "      <td>0.990469</td>\n",
       "      <td>1398.777912</td>\n",
       "      <td>-500.057435</td>\n",
       "      <td>1398.055362</td>\n",
       "      <td>-499.778182</td>\n",
       "      <td>1396.151033</td>\n",
       "      <td>...</td>\n",
       "      <td>12.058140</td>\n",
       "      <td>-498.695773</td>\n",
       "      <td>8.130979</td>\n",
       "      <td>-499.634209</td>\n",
       "      <td>7.958270</td>\n",
       "      <td>-525.839648</td>\n",
       "      <td>4.878850</td>\n",
       "      <td>-500.162375</td>\n",
       "      <td>25.019940</td>\n",
       "      <td>-499.819438</td>\n",
       "    </tr>\n",
       "    <tr>\n",
       "      <th>2</th>\n",
       "      <td>2016-09-01 02:59:59</td>\n",
       "      <td>215.259946</td>\n",
       "      <td>12.884934</td>\n",
       "      <td>7.786667</td>\n",
       "      <td>0.996043</td>\n",
       "      <td>1398.493666</td>\n",
       "      <td>-500.868360</td>\n",
       "      <td>1398.860436</td>\n",
       "      <td>-499.764529</td>\n",
       "      <td>1398.075709</td>\n",
       "      <td>...</td>\n",
       "      <td>11.962366</td>\n",
       "      <td>-498.767484</td>\n",
       "      <td>8.096893</td>\n",
       "      <td>-500.827423</td>\n",
       "      <td>8.071056</td>\n",
       "      <td>-500.801673</td>\n",
       "      <td>4.905125</td>\n",
       "      <td>-499.828510</td>\n",
       "      <td>24.994862</td>\n",
       "      <td>-500.622559</td>\n",
       "    </tr>\n",
       "    <tr>\n",
       "      <th>3</th>\n",
       "      <td>2016-09-01 03:59:59</td>\n",
       "      <td>215.336236</td>\n",
       "      <td>12.006805</td>\n",
       "      <td>7.640000</td>\n",
       "      <td>0.863514</td>\n",
       "      <td>1399.618111</td>\n",
       "      <td>-498.863574</td>\n",
       "      <td>1397.440120</td>\n",
       "      <td>-499.211024</td>\n",
       "      <td>1400.129303</td>\n",
       "      <td>...</td>\n",
       "      <td>12.033091</td>\n",
       "      <td>-498.350935</td>\n",
       "      <td>8.074946</td>\n",
       "      <td>-499.474407</td>\n",
       "      <td>7.897085</td>\n",
       "      <td>-500.868509</td>\n",
       "      <td>4.931400</td>\n",
       "      <td>-499.963623</td>\n",
       "      <td>24.948919</td>\n",
       "      <td>-498.709987</td>\n",
       "    </tr>\n",
       "    <tr>\n",
       "      <th>4</th>\n",
       "      <td>2016-09-01 04:59:59</td>\n",
       "      <td>199.099327</td>\n",
       "      <td>10.682530</td>\n",
       "      <td>7.530000</td>\n",
       "      <td>0.805575</td>\n",
       "      <td>1401.268123</td>\n",
       "      <td>-500.808305</td>\n",
       "      <td>1398.128818</td>\n",
       "      <td>-499.504543</td>\n",
       "      <td>1402.172226</td>\n",
       "      <td>...</td>\n",
       "      <td>12.025367</td>\n",
       "      <td>-500.786497</td>\n",
       "      <td>8.054678</td>\n",
       "      <td>-500.397500</td>\n",
       "      <td>8.107890</td>\n",
       "      <td>-509.526725</td>\n",
       "      <td>4.957674</td>\n",
       "      <td>-500.360026</td>\n",
       "      <td>25.003331</td>\n",
       "      <td>-500.856333</td>\n",
       "    </tr>\n",
       "  </tbody>\n",
       "</table>\n",
       "<p>5 rows × 53 columns</p>\n",
       "</div>"
      ],
      "text/plain": [
       "                  date  primary_cleaner.input.sulfate  \\\n",
       "0  2016-09-01 00:59:59                     210.800909   \n",
       "1  2016-09-01 01:59:59                     215.392455   \n",
       "2  2016-09-01 02:59:59                     215.259946   \n",
       "3  2016-09-01 03:59:59                     215.336236   \n",
       "4  2016-09-01 04:59:59                     199.099327   \n",
       "\n",
       "   primary_cleaner.input.depressant  primary_cleaner.input.feed_size  \\\n",
       "0                         14.993118                         8.080000   \n",
       "1                         14.987471                         8.080000   \n",
       "2                         12.884934                         7.786667   \n",
       "3                         12.006805                         7.640000   \n",
       "4                         10.682530                         7.530000   \n",
       "\n",
       "   primary_cleaner.input.xanthate  primary_cleaner.state.floatbank8_a_air  \\\n",
       "0                        1.005021                             1398.981301   \n",
       "1                        0.990469                             1398.777912   \n",
       "2                        0.996043                             1398.493666   \n",
       "3                        0.863514                             1399.618111   \n",
       "4                        0.805575                             1401.268123   \n",
       "\n",
       "   primary_cleaner.state.floatbank8_a_level  \\\n",
       "0                               -500.225577   \n",
       "1                               -500.057435   \n",
       "2                               -500.868360   \n",
       "3                               -498.863574   \n",
       "4                               -500.808305   \n",
       "\n",
       "   primary_cleaner.state.floatbank8_b_air  \\\n",
       "0                             1399.144926   \n",
       "1                             1398.055362   \n",
       "2                             1398.860436   \n",
       "3                             1397.440120   \n",
       "4                             1398.128818   \n",
       "\n",
       "   primary_cleaner.state.floatbank8_b_level  \\\n",
       "0                               -499.919735   \n",
       "1                               -499.778182   \n",
       "2                               -499.764529   \n",
       "3                               -499.211024   \n",
       "4                               -499.504543   \n",
       "\n",
       "   primary_cleaner.state.floatbank8_c_air  ...  \\\n",
       "0                             1400.102998  ...   \n",
       "1                             1396.151033  ...   \n",
       "2                             1398.075709  ...   \n",
       "3                             1400.129303  ...   \n",
       "4                             1402.172226  ...   \n",
       "\n",
       "   secondary_cleaner.state.floatbank4_a_air  \\\n",
       "0                                 12.023554   \n",
       "1                                 12.058140   \n",
       "2                                 11.962366   \n",
       "3                                 12.033091   \n",
       "4                                 12.025367   \n",
       "\n",
       "   secondary_cleaner.state.floatbank4_a_level  \\\n",
       "0                                 -497.795834   \n",
       "1                                 -498.695773   \n",
       "2                                 -498.767484   \n",
       "3                                 -498.350935   \n",
       "4                                 -500.786497   \n",
       "\n",
       "   secondary_cleaner.state.floatbank4_b_air  \\\n",
       "0                                  8.016656   \n",
       "1                                  8.130979   \n",
       "2                                  8.096893   \n",
       "3                                  8.074946   \n",
       "4                                  8.054678   \n",
       "\n",
       "   secondary_cleaner.state.floatbank4_b_level  \\\n",
       "0                                 -501.289139   \n",
       "1                                 -499.634209   \n",
       "2                                 -500.827423   \n",
       "3                                 -499.474407   \n",
       "4                                 -500.397500   \n",
       "\n",
       "   secondary_cleaner.state.floatbank5_a_air  \\\n",
       "0                                  7.946562   \n",
       "1                                  7.958270   \n",
       "2                                  8.071056   \n",
       "3                                  7.897085   \n",
       "4                                  8.107890   \n",
       "\n",
       "   secondary_cleaner.state.floatbank5_a_level  \\\n",
       "0                                 -432.317850   \n",
       "1                                 -525.839648   \n",
       "2                                 -500.801673   \n",
       "3                                 -500.868509   \n",
       "4                                 -509.526725   \n",
       "\n",
       "   secondary_cleaner.state.floatbank5_b_air  \\\n",
       "0                                  4.872511   \n",
       "1                                  4.878850   \n",
       "2                                  4.905125   \n",
       "3                                  4.931400   \n",
       "4                                  4.957674   \n",
       "\n",
       "   secondary_cleaner.state.floatbank5_b_level  \\\n",
       "0                                 -500.037437   \n",
       "1                                 -500.162375   \n",
       "2                                 -499.828510   \n",
       "3                                 -499.963623   \n",
       "4                                 -500.360026   \n",
       "\n",
       "   secondary_cleaner.state.floatbank6_a_air  \\\n",
       "0                                 26.705889   \n",
       "1                                 25.019940   \n",
       "2                                 24.994862   \n",
       "3                                 24.948919   \n",
       "4                                 25.003331   \n",
       "\n",
       "   secondary_cleaner.state.floatbank6_a_level  \n",
       "0                                 -499.709414  \n",
       "1                                 -499.819438  \n",
       "2                                 -500.622559  \n",
       "3                                 -498.709987  \n",
       "4                                 -500.856333  \n",
       "\n",
       "[5 rows x 53 columns]"
      ]
     },
     "execution_count": 6,
     "metadata": {},
     "output_type": "execute_result"
    }
   ],
   "source": [
    "test_df.head()"
   ]
  },
  {
   "cell_type": "code",
   "execution_count": 7,
   "metadata": {},
   "outputs": [
    {
     "name": "stdout",
     "output_type": "stream",
     "text": [
      "<class 'pandas.core.frame.DataFrame'>\n",
      "RangeIndex: 5290 entries, 0 to 5289\n",
      "Data columns (total 53 columns):\n",
      " #   Column                                      Non-Null Count  Dtype  \n",
      "---  ------                                      --------------  -----  \n",
      " 0   date                                        5290 non-null   object \n",
      " 1   primary_cleaner.input.sulfate               5286 non-null   float64\n",
      " 2   primary_cleaner.input.depressant            5285 non-null   float64\n",
      " 3   primary_cleaner.input.feed_size             5290 non-null   float64\n",
      " 4   primary_cleaner.input.xanthate              5286 non-null   float64\n",
      " 5   primary_cleaner.state.floatbank8_a_air      5290 non-null   float64\n",
      " 6   primary_cleaner.state.floatbank8_a_level    5290 non-null   float64\n",
      " 7   primary_cleaner.state.floatbank8_b_air      5290 non-null   float64\n",
      " 8   primary_cleaner.state.floatbank8_b_level    5290 non-null   float64\n",
      " 9   primary_cleaner.state.floatbank8_c_air      5290 non-null   float64\n",
      " 10  primary_cleaner.state.floatbank8_c_level    5290 non-null   float64\n",
      " 11  primary_cleaner.state.floatbank8_d_air      5290 non-null   float64\n",
      " 12  primary_cleaner.state.floatbank8_d_level    5290 non-null   float64\n",
      " 13  rougher.input.feed_ag                       5290 non-null   float64\n",
      " 14  rougher.input.feed_pb                       5290 non-null   float64\n",
      " 15  rougher.input.feed_rate                     5287 non-null   float64\n",
      " 16  rougher.input.feed_size                     5289 non-null   float64\n",
      " 17  rougher.input.feed_sol                      5269 non-null   float64\n",
      " 18  rougher.input.feed_au                       5290 non-null   float64\n",
      " 19  rougher.input.floatbank10_sulfate           5285 non-null   float64\n",
      " 20  rougher.input.floatbank10_xanthate          5290 non-null   float64\n",
      " 21  rougher.input.floatbank11_sulfate           5282 non-null   float64\n",
      " 22  rougher.input.floatbank11_xanthate          5265 non-null   float64\n",
      " 23  rougher.state.floatbank10_a_air             5290 non-null   float64\n",
      " 24  rougher.state.floatbank10_a_level           5290 non-null   float64\n",
      " 25  rougher.state.floatbank10_b_air             5290 non-null   float64\n",
      " 26  rougher.state.floatbank10_b_level           5290 non-null   float64\n",
      " 27  rougher.state.floatbank10_c_air             5290 non-null   float64\n",
      " 28  rougher.state.floatbank10_c_level           5290 non-null   float64\n",
      " 29  rougher.state.floatbank10_d_air             5290 non-null   float64\n",
      " 30  rougher.state.floatbank10_d_level           5290 non-null   float64\n",
      " 31  rougher.state.floatbank10_e_air             5290 non-null   float64\n",
      " 32  rougher.state.floatbank10_e_level           5290 non-null   float64\n",
      " 33  rougher.state.floatbank10_f_air             5290 non-null   float64\n",
      " 34  rougher.state.floatbank10_f_level           5290 non-null   float64\n",
      " 35  secondary_cleaner.state.floatbank2_a_air    5287 non-null   float64\n",
      " 36  secondary_cleaner.state.floatbank2_a_level  5290 non-null   float64\n",
      " 37  secondary_cleaner.state.floatbank2_b_air    5288 non-null   float64\n",
      " 38  secondary_cleaner.state.floatbank2_b_level  5290 non-null   float64\n",
      " 39  secondary_cleaner.state.floatbank3_a_air    5281 non-null   float64\n",
      " 40  secondary_cleaner.state.floatbank3_a_level  5290 non-null   float64\n",
      " 41  secondary_cleaner.state.floatbank3_b_air    5290 non-null   float64\n",
      " 42  secondary_cleaner.state.floatbank3_b_level  5290 non-null   float64\n",
      " 43  secondary_cleaner.state.floatbank4_a_air    5290 non-null   float64\n",
      " 44  secondary_cleaner.state.floatbank4_a_level  5290 non-null   float64\n",
      " 45  secondary_cleaner.state.floatbank4_b_air    5290 non-null   float64\n",
      " 46  secondary_cleaner.state.floatbank4_b_level  5290 non-null   float64\n",
      " 47  secondary_cleaner.state.floatbank5_a_air    5290 non-null   float64\n",
      " 48  secondary_cleaner.state.floatbank5_a_level  5290 non-null   float64\n",
      " 49  secondary_cleaner.state.floatbank5_b_air    5290 non-null   float64\n",
      " 50  secondary_cleaner.state.floatbank5_b_level  5290 non-null   float64\n",
      " 51  secondary_cleaner.state.floatbank6_a_air    5290 non-null   float64\n",
      " 52  secondary_cleaner.state.floatbank6_a_level  5290 non-null   float64\n",
      "dtypes: float64(52), object(1)\n",
      "memory usage: 2.1+ MB\n"
     ]
    }
   ],
   "source": [
    "test_df.info()"
   ]
  },
  {
   "cell_type": "code",
   "execution_count": 8,
   "metadata": {},
   "outputs": [
    {
     "data": {
      "text/html": [
       "<div>\n",
       "<style scoped>\n",
       "    .dataframe tbody tr th:only-of-type {\n",
       "        vertical-align: middle;\n",
       "    }\n",
       "\n",
       "    .dataframe tbody tr th {\n",
       "        vertical-align: top;\n",
       "    }\n",
       "\n",
       "    .dataframe thead th {\n",
       "        text-align: right;\n",
       "    }\n",
       "</style>\n",
       "<table border=\"1\" class=\"dataframe\">\n",
       "  <thead>\n",
       "    <tr style=\"text-align: right;\">\n",
       "      <th></th>\n",
       "      <th>primary_cleaner.input.sulfate</th>\n",
       "      <th>primary_cleaner.input.depressant</th>\n",
       "      <th>primary_cleaner.input.feed_size</th>\n",
       "      <th>primary_cleaner.input.xanthate</th>\n",
       "      <th>primary_cleaner.state.floatbank8_a_air</th>\n",
       "      <th>primary_cleaner.state.floatbank8_a_level</th>\n",
       "      <th>primary_cleaner.state.floatbank8_b_air</th>\n",
       "      <th>primary_cleaner.state.floatbank8_b_level</th>\n",
       "      <th>primary_cleaner.state.floatbank8_c_air</th>\n",
       "      <th>primary_cleaner.state.floatbank8_c_level</th>\n",
       "      <th>...</th>\n",
       "      <th>secondary_cleaner.state.floatbank4_a_air</th>\n",
       "      <th>secondary_cleaner.state.floatbank4_a_level</th>\n",
       "      <th>secondary_cleaner.state.floatbank4_b_air</th>\n",
       "      <th>secondary_cleaner.state.floatbank4_b_level</th>\n",
       "      <th>secondary_cleaner.state.floatbank5_a_air</th>\n",
       "      <th>secondary_cleaner.state.floatbank5_a_level</th>\n",
       "      <th>secondary_cleaner.state.floatbank5_b_air</th>\n",
       "      <th>secondary_cleaner.state.floatbank5_b_level</th>\n",
       "      <th>secondary_cleaner.state.floatbank6_a_air</th>\n",
       "      <th>secondary_cleaner.state.floatbank6_a_level</th>\n",
       "    </tr>\n",
       "  </thead>\n",
       "  <tbody>\n",
       "    <tr>\n",
       "      <th>count</th>\n",
       "      <td>5286.000000</td>\n",
       "      <td>5285.000000</td>\n",
       "      <td>5290.000000</td>\n",
       "      <td>5286.000000</td>\n",
       "      <td>5.290000e+03</td>\n",
       "      <td>5290.000000</td>\n",
       "      <td>5.290000e+03</td>\n",
       "      <td>5290.000000</td>\n",
       "      <td>5.290000e+03</td>\n",
       "      <td>5290.000000</td>\n",
       "      <td>...</td>\n",
       "      <td>5.290000e+03</td>\n",
       "      <td>5290.000000</td>\n",
       "      <td>5.290000e+03</td>\n",
       "      <td>5290.000000</td>\n",
       "      <td>5290.000000</td>\n",
       "      <td>5290.000000</td>\n",
       "      <td>5290.000000</td>\n",
       "      <td>5290.000000</td>\n",
       "      <td>5290.000000</td>\n",
       "      <td>5290.000000</td>\n",
       "    </tr>\n",
       "    <tr>\n",
       "      <th>mean</th>\n",
       "      <td>174.839652</td>\n",
       "      <td>8.683596</td>\n",
       "      <td>7.266339</td>\n",
       "      <td>1.383803</td>\n",
       "      <td>1.539494e+03</td>\n",
       "      <td>-497.665883</td>\n",
       "      <td>1.545174e+03</td>\n",
       "      <td>-500.273098</td>\n",
       "      <td>1.527272e+03</td>\n",
       "      <td>-498.330680</td>\n",
       "      <td>...</td>\n",
       "      <td>1.632007e+01</td>\n",
       "      <td>-505.144570</td>\n",
       "      <td>1.373544e+01</td>\n",
       "      <td>-463.349858</td>\n",
       "      <td>12.804186</td>\n",
       "      <td>-501.329122</td>\n",
       "      <td>9.881145</td>\n",
       "      <td>-495.663398</td>\n",
       "      <td>17.304935</td>\n",
       "      <td>-501.793193</td>\n",
       "    </tr>\n",
       "    <tr>\n",
       "      <th>std</th>\n",
       "      <td>43.027080</td>\n",
       "      <td>3.072050</td>\n",
       "      <td>0.610219</td>\n",
       "      <td>0.643474</td>\n",
       "      <td>1.167979e+02</td>\n",
       "      <td>19.952431</td>\n",
       "      <td>1.222246e+02</td>\n",
       "      <td>32.968307</td>\n",
       "      <td>1.225380e+02</td>\n",
       "      <td>21.964876</td>\n",
       "      <td>...</td>\n",
       "      <td>3.493583e+00</td>\n",
       "      <td>31.427337</td>\n",
       "      <td>3.430484e+00</td>\n",
       "      <td>86.189107</td>\n",
       "      <td>3.026591</td>\n",
       "      <td>17.951495</td>\n",
       "      <td>2.868205</td>\n",
       "      <td>34.535007</td>\n",
       "      <td>4.536544</td>\n",
       "      <td>39.044215</td>\n",
       "    </tr>\n",
       "    <tr>\n",
       "      <th>min</th>\n",
       "      <td>2.566156</td>\n",
       "      <td>0.003839</td>\n",
       "      <td>5.650000</td>\n",
       "      <td>0.004984</td>\n",
       "      <td>5.445860e-32</td>\n",
       "      <td>-795.316337</td>\n",
       "      <td>6.647490e-32</td>\n",
       "      <td>-799.997015</td>\n",
       "      <td>4.033736e-32</td>\n",
       "      <td>-799.960571</td>\n",
       "      <td>...</td>\n",
       "      <td>1.079872e-16</td>\n",
       "      <td>-799.798523</td>\n",
       "      <td>2.489718e-17</td>\n",
       "      <td>-800.836914</td>\n",
       "      <td>0.069227</td>\n",
       "      <td>-797.323986</td>\n",
       "      <td>0.528083</td>\n",
       "      <td>-800.220337</td>\n",
       "      <td>-0.079426</td>\n",
       "      <td>-809.741464</td>\n",
       "    </tr>\n",
       "    <tr>\n",
       "      <th>25%</th>\n",
       "      <td>147.121401</td>\n",
       "      <td>6.489555</td>\n",
       "      <td>6.890000</td>\n",
       "      <td>0.907623</td>\n",
       "      <td>1.498936e+03</td>\n",
       "      <td>-500.357298</td>\n",
       "      <td>1.498971e+03</td>\n",
       "      <td>-500.703002</td>\n",
       "      <td>1.473230e+03</td>\n",
       "      <td>-501.018117</td>\n",
       "      <td>...</td>\n",
       "      <td>1.403618e+01</td>\n",
       "      <td>-500.868258</td>\n",
       "      <td>1.202862e+01</td>\n",
       "      <td>-500.323028</td>\n",
       "      <td>10.914838</td>\n",
       "      <td>-500.726841</td>\n",
       "      <td>8.036719</td>\n",
       "      <td>-500.194668</td>\n",
       "      <td>13.997317</td>\n",
       "      <td>-500.690984</td>\n",
       "    </tr>\n",
       "    <tr>\n",
       "      <th>50%</th>\n",
       "      <td>177.828489</td>\n",
       "      <td>8.052207</td>\n",
       "      <td>7.250000</td>\n",
       "      <td>1.197610</td>\n",
       "      <td>1.585129e+03</td>\n",
       "      <td>-499.969164</td>\n",
       "      <td>1.595622e+03</td>\n",
       "      <td>-500.028514</td>\n",
       "      <td>1.549595e+03</td>\n",
       "      <td>-500.017711</td>\n",
       "      <td>...</td>\n",
       "      <td>1.700847e+01</td>\n",
       "      <td>-500.115727</td>\n",
       "      <td>1.496486e+01</td>\n",
       "      <td>-499.576513</td>\n",
       "      <td>12.954182</td>\n",
       "      <td>-499.990332</td>\n",
       "      <td>10.004301</td>\n",
       "      <td>-499.990535</td>\n",
       "      <td>16.014935</td>\n",
       "      <td>-500.007126</td>\n",
       "    </tr>\n",
       "    <tr>\n",
       "      <th>75%</th>\n",
       "      <td>208.125438</td>\n",
       "      <td>10.027764</td>\n",
       "      <td>7.600000</td>\n",
       "      <td>1.797819</td>\n",
       "      <td>1.602077e+03</td>\n",
       "      <td>-499.568951</td>\n",
       "      <td>1.602324e+03</td>\n",
       "      <td>-499.293257</td>\n",
       "      <td>1.601144e+03</td>\n",
       "      <td>-498.994130</td>\n",
       "      <td>...</td>\n",
       "      <td>1.803862e+01</td>\n",
       "      <td>-499.404224</td>\n",
       "      <td>1.596213e+01</td>\n",
       "      <td>-400.933805</td>\n",
       "      <td>15.097528</td>\n",
       "      <td>-499.283191</td>\n",
       "      <td>11.997467</td>\n",
       "      <td>-499.719913</td>\n",
       "      <td>21.020013</td>\n",
       "      <td>-499.373018</td>\n",
       "    </tr>\n",
       "    <tr>\n",
       "      <th>max</th>\n",
       "      <td>265.983123</td>\n",
       "      <td>40.000000</td>\n",
       "      <td>15.500000</td>\n",
       "      <td>4.102454</td>\n",
       "      <td>2.103104e+03</td>\n",
       "      <td>-57.195404</td>\n",
       "      <td>1.813084e+03</td>\n",
       "      <td>-142.527229</td>\n",
       "      <td>1.715054e+03</td>\n",
       "      <td>-150.937035</td>\n",
       "      <td>...</td>\n",
       "      <td>3.005180e+01</td>\n",
       "      <td>-401.565212</td>\n",
       "      <td>3.126971e+01</td>\n",
       "      <td>-6.506986</td>\n",
       "      <td>25.258848</td>\n",
       "      <td>-244.483566</td>\n",
       "      <td>14.086866</td>\n",
       "      <td>-137.740004</td>\n",
       "      <td>26.705889</td>\n",
       "      <td>-123.307487</td>\n",
       "    </tr>\n",
       "  </tbody>\n",
       "</table>\n",
       "<p>8 rows × 52 columns</p>\n",
       "</div>"
      ],
      "text/plain": [
       "       primary_cleaner.input.sulfate  primary_cleaner.input.depressant  \\\n",
       "count                    5286.000000                       5285.000000   \n",
       "mean                      174.839652                          8.683596   \n",
       "std                        43.027080                          3.072050   \n",
       "min                         2.566156                          0.003839   \n",
       "25%                       147.121401                          6.489555   \n",
       "50%                       177.828489                          8.052207   \n",
       "75%                       208.125438                         10.027764   \n",
       "max                       265.983123                         40.000000   \n",
       "\n",
       "       primary_cleaner.input.feed_size  primary_cleaner.input.xanthate  \\\n",
       "count                      5290.000000                     5286.000000   \n",
       "mean                          7.266339                        1.383803   \n",
       "std                           0.610219                        0.643474   \n",
       "min                           5.650000                        0.004984   \n",
       "25%                           6.890000                        0.907623   \n",
       "50%                           7.250000                        1.197610   \n",
       "75%                           7.600000                        1.797819   \n",
       "max                          15.500000                        4.102454   \n",
       "\n",
       "       primary_cleaner.state.floatbank8_a_air  \\\n",
       "count                            5.290000e+03   \n",
       "mean                             1.539494e+03   \n",
       "std                              1.167979e+02   \n",
       "min                              5.445860e-32   \n",
       "25%                              1.498936e+03   \n",
       "50%                              1.585129e+03   \n",
       "75%                              1.602077e+03   \n",
       "max                              2.103104e+03   \n",
       "\n",
       "       primary_cleaner.state.floatbank8_a_level  \\\n",
       "count                               5290.000000   \n",
       "mean                                -497.665883   \n",
       "std                                   19.952431   \n",
       "min                                 -795.316337   \n",
       "25%                                 -500.357298   \n",
       "50%                                 -499.969164   \n",
       "75%                                 -499.568951   \n",
       "max                                  -57.195404   \n",
       "\n",
       "       primary_cleaner.state.floatbank8_b_air  \\\n",
       "count                            5.290000e+03   \n",
       "mean                             1.545174e+03   \n",
       "std                              1.222246e+02   \n",
       "min                              6.647490e-32   \n",
       "25%                              1.498971e+03   \n",
       "50%                              1.595622e+03   \n",
       "75%                              1.602324e+03   \n",
       "max                              1.813084e+03   \n",
       "\n",
       "       primary_cleaner.state.floatbank8_b_level  \\\n",
       "count                               5290.000000   \n",
       "mean                                -500.273098   \n",
       "std                                   32.968307   \n",
       "min                                 -799.997015   \n",
       "25%                                 -500.703002   \n",
       "50%                                 -500.028514   \n",
       "75%                                 -499.293257   \n",
       "max                                 -142.527229   \n",
       "\n",
       "       primary_cleaner.state.floatbank8_c_air  \\\n",
       "count                            5.290000e+03   \n",
       "mean                             1.527272e+03   \n",
       "std                              1.225380e+02   \n",
       "min                              4.033736e-32   \n",
       "25%                              1.473230e+03   \n",
       "50%                              1.549595e+03   \n",
       "75%                              1.601144e+03   \n",
       "max                              1.715054e+03   \n",
       "\n",
       "       primary_cleaner.state.floatbank8_c_level  ...  \\\n",
       "count                               5290.000000  ...   \n",
       "mean                                -498.330680  ...   \n",
       "std                                   21.964876  ...   \n",
       "min                                 -799.960571  ...   \n",
       "25%                                 -501.018117  ...   \n",
       "50%                                 -500.017711  ...   \n",
       "75%                                 -498.994130  ...   \n",
       "max                                 -150.937035  ...   \n",
       "\n",
       "       secondary_cleaner.state.floatbank4_a_air  \\\n",
       "count                              5.290000e+03   \n",
       "mean                               1.632007e+01   \n",
       "std                                3.493583e+00   \n",
       "min                                1.079872e-16   \n",
       "25%                                1.403618e+01   \n",
       "50%                                1.700847e+01   \n",
       "75%                                1.803862e+01   \n",
       "max                                3.005180e+01   \n",
       "\n",
       "       secondary_cleaner.state.floatbank4_a_level  \\\n",
       "count                                 5290.000000   \n",
       "mean                                  -505.144570   \n",
       "std                                     31.427337   \n",
       "min                                   -799.798523   \n",
       "25%                                   -500.868258   \n",
       "50%                                   -500.115727   \n",
       "75%                                   -499.404224   \n",
       "max                                   -401.565212   \n",
       "\n",
       "       secondary_cleaner.state.floatbank4_b_air  \\\n",
       "count                              5.290000e+03   \n",
       "mean                               1.373544e+01   \n",
       "std                                3.430484e+00   \n",
       "min                                2.489718e-17   \n",
       "25%                                1.202862e+01   \n",
       "50%                                1.496486e+01   \n",
       "75%                                1.596213e+01   \n",
       "max                                3.126971e+01   \n",
       "\n",
       "       secondary_cleaner.state.floatbank4_b_level  \\\n",
       "count                                 5290.000000   \n",
       "mean                                  -463.349858   \n",
       "std                                     86.189107   \n",
       "min                                   -800.836914   \n",
       "25%                                   -500.323028   \n",
       "50%                                   -499.576513   \n",
       "75%                                   -400.933805   \n",
       "max                                     -6.506986   \n",
       "\n",
       "       secondary_cleaner.state.floatbank5_a_air  \\\n",
       "count                               5290.000000   \n",
       "mean                                  12.804186   \n",
       "std                                    3.026591   \n",
       "min                                    0.069227   \n",
       "25%                                   10.914838   \n",
       "50%                                   12.954182   \n",
       "75%                                   15.097528   \n",
       "max                                   25.258848   \n",
       "\n",
       "       secondary_cleaner.state.floatbank5_a_level  \\\n",
       "count                                 5290.000000   \n",
       "mean                                  -501.329122   \n",
       "std                                     17.951495   \n",
       "min                                   -797.323986   \n",
       "25%                                   -500.726841   \n",
       "50%                                   -499.990332   \n",
       "75%                                   -499.283191   \n",
       "max                                   -244.483566   \n",
       "\n",
       "       secondary_cleaner.state.floatbank5_b_air  \\\n",
       "count                               5290.000000   \n",
       "mean                                   9.881145   \n",
       "std                                    2.868205   \n",
       "min                                    0.528083   \n",
       "25%                                    8.036719   \n",
       "50%                                   10.004301   \n",
       "75%                                   11.997467   \n",
       "max                                   14.086866   \n",
       "\n",
       "       secondary_cleaner.state.floatbank5_b_level  \\\n",
       "count                                 5290.000000   \n",
       "mean                                  -495.663398   \n",
       "std                                     34.535007   \n",
       "min                                   -800.220337   \n",
       "25%                                   -500.194668   \n",
       "50%                                   -499.990535   \n",
       "75%                                   -499.719913   \n",
       "max                                   -137.740004   \n",
       "\n",
       "       secondary_cleaner.state.floatbank6_a_air  \\\n",
       "count                               5290.000000   \n",
       "mean                                  17.304935   \n",
       "std                                    4.536544   \n",
       "min                                   -0.079426   \n",
       "25%                                   13.997317   \n",
       "50%                                   16.014935   \n",
       "75%                                   21.020013   \n",
       "max                                   26.705889   \n",
       "\n",
       "       secondary_cleaner.state.floatbank6_a_level  \n",
       "count                                 5290.000000  \n",
       "mean                                  -501.793193  \n",
       "std                                     39.044215  \n",
       "min                                   -809.741464  \n",
       "25%                                   -500.690984  \n",
       "50%                                   -500.007126  \n",
       "75%                                   -499.373018  \n",
       "max                                   -123.307487  \n",
       "\n",
       "[8 rows x 52 columns]"
      ]
     },
     "execution_count": 8,
     "metadata": {},
     "output_type": "execute_result"
    }
   ],
   "source": [
    "test_df.describe()"
   ]
  },
  {
   "cell_type": "markdown",
   "metadata": {},
   "source": [
    "#### Изучим третий датасет"
   ]
  },
  {
   "cell_type": "code",
   "execution_count": 9,
   "metadata": {},
   "outputs": [
    {
     "data": {
      "text/html": [
       "<div>\n",
       "<style scoped>\n",
       "    .dataframe tbody tr th:only-of-type {\n",
       "        vertical-align: middle;\n",
       "    }\n",
       "\n",
       "    .dataframe tbody tr th {\n",
       "        vertical-align: top;\n",
       "    }\n",
       "\n",
       "    .dataframe thead th {\n",
       "        text-align: right;\n",
       "    }\n",
       "</style>\n",
       "<table border=\"1\" class=\"dataframe\">\n",
       "  <thead>\n",
       "    <tr style=\"text-align: right;\">\n",
       "      <th></th>\n",
       "      <th>date</th>\n",
       "      <th>final.output.concentrate_ag</th>\n",
       "      <th>final.output.concentrate_pb</th>\n",
       "      <th>final.output.concentrate_sol</th>\n",
       "      <th>final.output.concentrate_au</th>\n",
       "      <th>final.output.recovery</th>\n",
       "      <th>final.output.tail_ag</th>\n",
       "      <th>final.output.tail_pb</th>\n",
       "      <th>final.output.tail_sol</th>\n",
       "      <th>final.output.tail_au</th>\n",
       "      <th>...</th>\n",
       "      <th>secondary_cleaner.state.floatbank4_a_air</th>\n",
       "      <th>secondary_cleaner.state.floatbank4_a_level</th>\n",
       "      <th>secondary_cleaner.state.floatbank4_b_air</th>\n",
       "      <th>secondary_cleaner.state.floatbank4_b_level</th>\n",
       "      <th>secondary_cleaner.state.floatbank5_a_air</th>\n",
       "      <th>secondary_cleaner.state.floatbank5_a_level</th>\n",
       "      <th>secondary_cleaner.state.floatbank5_b_air</th>\n",
       "      <th>secondary_cleaner.state.floatbank5_b_level</th>\n",
       "      <th>secondary_cleaner.state.floatbank6_a_air</th>\n",
       "      <th>secondary_cleaner.state.floatbank6_a_level</th>\n",
       "    </tr>\n",
       "  </thead>\n",
       "  <tbody>\n",
       "    <tr>\n",
       "      <th>0</th>\n",
       "      <td>2016-01-15 00:00:00</td>\n",
       "      <td>6.055403</td>\n",
       "      <td>9.889648</td>\n",
       "      <td>5.507324</td>\n",
       "      <td>42.192020</td>\n",
       "      <td>70.541216</td>\n",
       "      <td>10.411962</td>\n",
       "      <td>0.895447</td>\n",
       "      <td>16.904297</td>\n",
       "      <td>2.143149</td>\n",
       "      <td>...</td>\n",
       "      <td>14.016835</td>\n",
       "      <td>-502.488007</td>\n",
       "      <td>12.099931</td>\n",
       "      <td>-504.715942</td>\n",
       "      <td>9.925633</td>\n",
       "      <td>-498.310211</td>\n",
       "      <td>8.079666</td>\n",
       "      <td>-500.470978</td>\n",
       "      <td>14.151341</td>\n",
       "      <td>-605.841980</td>\n",
       "    </tr>\n",
       "    <tr>\n",
       "      <th>1</th>\n",
       "      <td>2016-01-15 01:00:00</td>\n",
       "      <td>6.029369</td>\n",
       "      <td>9.968944</td>\n",
       "      <td>5.257781</td>\n",
       "      <td>42.701629</td>\n",
       "      <td>69.266198</td>\n",
       "      <td>10.462676</td>\n",
       "      <td>0.927452</td>\n",
       "      <td>16.634514</td>\n",
       "      <td>2.224930</td>\n",
       "      <td>...</td>\n",
       "      <td>13.992281</td>\n",
       "      <td>-505.503262</td>\n",
       "      <td>11.950531</td>\n",
       "      <td>-501.331529</td>\n",
       "      <td>10.039245</td>\n",
       "      <td>-500.169983</td>\n",
       "      <td>7.984757</td>\n",
       "      <td>-500.582168</td>\n",
       "      <td>13.998353</td>\n",
       "      <td>-599.787184</td>\n",
       "    </tr>\n",
       "    <tr>\n",
       "      <th>2</th>\n",
       "      <td>2016-01-15 02:00:00</td>\n",
       "      <td>6.055926</td>\n",
       "      <td>10.213995</td>\n",
       "      <td>5.383759</td>\n",
       "      <td>42.657501</td>\n",
       "      <td>68.116445</td>\n",
       "      <td>10.507046</td>\n",
       "      <td>0.953716</td>\n",
       "      <td>16.208849</td>\n",
       "      <td>2.257889</td>\n",
       "      <td>...</td>\n",
       "      <td>14.015015</td>\n",
       "      <td>-502.520901</td>\n",
       "      <td>11.912783</td>\n",
       "      <td>-501.133383</td>\n",
       "      <td>10.070913</td>\n",
       "      <td>-500.129135</td>\n",
       "      <td>8.013877</td>\n",
       "      <td>-500.517572</td>\n",
       "      <td>14.028663</td>\n",
       "      <td>-601.427363</td>\n",
       "    </tr>\n",
       "    <tr>\n",
       "      <th>3</th>\n",
       "      <td>2016-01-15 03:00:00</td>\n",
       "      <td>6.047977</td>\n",
       "      <td>9.977019</td>\n",
       "      <td>4.858634</td>\n",
       "      <td>42.689819</td>\n",
       "      <td>68.347543</td>\n",
       "      <td>10.422762</td>\n",
       "      <td>0.883763</td>\n",
       "      <td>16.532835</td>\n",
       "      <td>2.146849</td>\n",
       "      <td>...</td>\n",
       "      <td>14.036510</td>\n",
       "      <td>-500.857308</td>\n",
       "      <td>11.999550</td>\n",
       "      <td>-501.193686</td>\n",
       "      <td>9.970366</td>\n",
       "      <td>-499.201640</td>\n",
       "      <td>7.977324</td>\n",
       "      <td>-500.255908</td>\n",
       "      <td>14.005551</td>\n",
       "      <td>-599.996129</td>\n",
       "    </tr>\n",
       "    <tr>\n",
       "      <th>4</th>\n",
       "      <td>2016-01-15 04:00:00</td>\n",
       "      <td>6.148599</td>\n",
       "      <td>10.142511</td>\n",
       "      <td>4.939416</td>\n",
       "      <td>42.774141</td>\n",
       "      <td>66.927016</td>\n",
       "      <td>10.360302</td>\n",
       "      <td>0.792826</td>\n",
       "      <td>16.525686</td>\n",
       "      <td>2.055292</td>\n",
       "      <td>...</td>\n",
       "      <td>14.027298</td>\n",
       "      <td>-499.838632</td>\n",
       "      <td>11.953070</td>\n",
       "      <td>-501.053894</td>\n",
       "      <td>9.925709</td>\n",
       "      <td>-501.686727</td>\n",
       "      <td>7.894242</td>\n",
       "      <td>-500.356035</td>\n",
       "      <td>13.996647</td>\n",
       "      <td>-601.496691</td>\n",
       "    </tr>\n",
       "  </tbody>\n",
       "</table>\n",
       "<p>5 rows × 87 columns</p>\n",
       "</div>"
      ],
      "text/plain": [
       "                  date  final.output.concentrate_ag  \\\n",
       "0  2016-01-15 00:00:00                     6.055403   \n",
       "1  2016-01-15 01:00:00                     6.029369   \n",
       "2  2016-01-15 02:00:00                     6.055926   \n",
       "3  2016-01-15 03:00:00                     6.047977   \n",
       "4  2016-01-15 04:00:00                     6.148599   \n",
       "\n",
       "   final.output.concentrate_pb  final.output.concentrate_sol  \\\n",
       "0                     9.889648                      5.507324   \n",
       "1                     9.968944                      5.257781   \n",
       "2                    10.213995                      5.383759   \n",
       "3                     9.977019                      4.858634   \n",
       "4                    10.142511                      4.939416   \n",
       "\n",
       "   final.output.concentrate_au  final.output.recovery  final.output.tail_ag  \\\n",
       "0                    42.192020              70.541216             10.411962   \n",
       "1                    42.701629              69.266198             10.462676   \n",
       "2                    42.657501              68.116445             10.507046   \n",
       "3                    42.689819              68.347543             10.422762   \n",
       "4                    42.774141              66.927016             10.360302   \n",
       "\n",
       "   final.output.tail_pb  final.output.tail_sol  final.output.tail_au  ...  \\\n",
       "0              0.895447              16.904297              2.143149  ...   \n",
       "1              0.927452              16.634514              2.224930  ...   \n",
       "2              0.953716              16.208849              2.257889  ...   \n",
       "3              0.883763              16.532835              2.146849  ...   \n",
       "4              0.792826              16.525686              2.055292  ...   \n",
       "\n",
       "   secondary_cleaner.state.floatbank4_a_air  \\\n",
       "0                                 14.016835   \n",
       "1                                 13.992281   \n",
       "2                                 14.015015   \n",
       "3                                 14.036510   \n",
       "4                                 14.027298   \n",
       "\n",
       "   secondary_cleaner.state.floatbank4_a_level  \\\n",
       "0                                 -502.488007   \n",
       "1                                 -505.503262   \n",
       "2                                 -502.520901   \n",
       "3                                 -500.857308   \n",
       "4                                 -499.838632   \n",
       "\n",
       "   secondary_cleaner.state.floatbank4_b_air  \\\n",
       "0                                 12.099931   \n",
       "1                                 11.950531   \n",
       "2                                 11.912783   \n",
       "3                                 11.999550   \n",
       "4                                 11.953070   \n",
       "\n",
       "   secondary_cleaner.state.floatbank4_b_level  \\\n",
       "0                                 -504.715942   \n",
       "1                                 -501.331529   \n",
       "2                                 -501.133383   \n",
       "3                                 -501.193686   \n",
       "4                                 -501.053894   \n",
       "\n",
       "   secondary_cleaner.state.floatbank5_a_air  \\\n",
       "0                                  9.925633   \n",
       "1                                 10.039245   \n",
       "2                                 10.070913   \n",
       "3                                  9.970366   \n",
       "4                                  9.925709   \n",
       "\n",
       "   secondary_cleaner.state.floatbank5_a_level  \\\n",
       "0                                 -498.310211   \n",
       "1                                 -500.169983   \n",
       "2                                 -500.129135   \n",
       "3                                 -499.201640   \n",
       "4                                 -501.686727   \n",
       "\n",
       "   secondary_cleaner.state.floatbank5_b_air  \\\n",
       "0                                  8.079666   \n",
       "1                                  7.984757   \n",
       "2                                  8.013877   \n",
       "3                                  7.977324   \n",
       "4                                  7.894242   \n",
       "\n",
       "   secondary_cleaner.state.floatbank5_b_level  \\\n",
       "0                                 -500.470978   \n",
       "1                                 -500.582168   \n",
       "2                                 -500.517572   \n",
       "3                                 -500.255908   \n",
       "4                                 -500.356035   \n",
       "\n",
       "   secondary_cleaner.state.floatbank6_a_air  \\\n",
       "0                                 14.151341   \n",
       "1                                 13.998353   \n",
       "2                                 14.028663   \n",
       "3                                 14.005551   \n",
       "4                                 13.996647   \n",
       "\n",
       "   secondary_cleaner.state.floatbank6_a_level  \n",
       "0                                 -605.841980  \n",
       "1                                 -599.787184  \n",
       "2                                 -601.427363  \n",
       "3                                 -599.996129  \n",
       "4                                 -601.496691  \n",
       "\n",
       "[5 rows x 87 columns]"
      ]
     },
     "execution_count": 9,
     "metadata": {},
     "output_type": "execute_result"
    }
   ],
   "source": [
    "full_df.head()"
   ]
  },
  {
   "cell_type": "code",
   "execution_count": 10,
   "metadata": {},
   "outputs": [
    {
     "name": "stdout",
     "output_type": "stream",
     "text": [
      "<class 'pandas.core.frame.DataFrame'>\n",
      "RangeIndex: 19439 entries, 0 to 19438\n",
      "Data columns (total 87 columns):\n",
      " #   Column                                              Non-Null Count  Dtype  \n",
      "---  ------                                              --------------  -----  \n",
      " 0   date                                                19439 non-null  object \n",
      " 1   final.output.concentrate_ag                         19438 non-null  float64\n",
      " 2   final.output.concentrate_pb                         19438 non-null  float64\n",
      " 3   final.output.concentrate_sol                        19228 non-null  float64\n",
      " 4   final.output.concentrate_au                         19439 non-null  float64\n",
      " 5   final.output.recovery                               19439 non-null  float64\n",
      " 6   final.output.tail_ag                                19438 non-null  float64\n",
      " 7   final.output.tail_pb                                19338 non-null  float64\n",
      " 8   final.output.tail_sol                               19433 non-null  float64\n",
      " 9   final.output.tail_au                                19439 non-null  float64\n",
      " 10  primary_cleaner.input.sulfate                       19415 non-null  float64\n",
      " 11  primary_cleaner.input.depressant                    19402 non-null  float64\n",
      " 12  primary_cleaner.input.feed_size                     19439 non-null  float64\n",
      " 13  primary_cleaner.input.xanthate                      19335 non-null  float64\n",
      " 14  primary_cleaner.output.concentrate_ag               19439 non-null  float64\n",
      " 15  primary_cleaner.output.concentrate_pb               19323 non-null  float64\n",
      " 16  primary_cleaner.output.concentrate_sol              19069 non-null  float64\n",
      " 17  primary_cleaner.output.concentrate_au               19439 non-null  float64\n",
      " 18  primary_cleaner.output.tail_ag                      19435 non-null  float64\n",
      " 19  primary_cleaner.output.tail_pb                      19418 non-null  float64\n",
      " 20  primary_cleaner.output.tail_sol                     19377 non-null  float64\n",
      " 21  primary_cleaner.output.tail_au                      19439 non-null  float64\n",
      " 22  primary_cleaner.state.floatbank8_a_air              19435 non-null  float64\n",
      " 23  primary_cleaner.state.floatbank8_a_level            19438 non-null  float64\n",
      " 24  primary_cleaner.state.floatbank8_b_air              19435 non-null  float64\n",
      " 25  primary_cleaner.state.floatbank8_b_level            19438 non-null  float64\n",
      " 26  primary_cleaner.state.floatbank8_c_air              19437 non-null  float64\n",
      " 27  primary_cleaner.state.floatbank8_c_level            19438 non-null  float64\n",
      " 28  primary_cleaner.state.floatbank8_d_air              19436 non-null  float64\n",
      " 29  primary_cleaner.state.floatbank8_d_level            19438 non-null  float64\n",
      " 30  rougher.calculation.sulfate_to_au_concentrate       19437 non-null  float64\n",
      " 31  rougher.calculation.floatbank10_sulfate_to_au_feed  19437 non-null  float64\n",
      " 32  rougher.calculation.floatbank11_sulfate_to_au_feed  19437 non-null  float64\n",
      " 33  rougher.calculation.au_pb_ratio                     19439 non-null  float64\n",
      " 34  rougher.input.feed_ag                               19439 non-null  float64\n",
      " 35  rougher.input.feed_pb                               19339 non-null  float64\n",
      " 36  rougher.input.feed_rate                             19428 non-null  float64\n",
      " 37  rougher.input.feed_size                             19294 non-null  float64\n",
      " 38  rougher.input.feed_sol                              19340 non-null  float64\n",
      " 39  rougher.input.feed_au                               19439 non-null  float64\n",
      " 40  rougher.input.floatbank10_sulfate                   19405 non-null  float64\n",
      " 41  rougher.input.floatbank10_xanthate                  19431 non-null  float64\n",
      " 42  rougher.input.floatbank11_sulfate                   19395 non-null  float64\n",
      " 43  rougher.input.floatbank11_xanthate                  18986 non-null  float64\n",
      " 44  rougher.output.concentrate_ag                       19439 non-null  float64\n",
      " 45  rougher.output.concentrate_pb                       19439 non-null  float64\n",
      " 46  rougher.output.concentrate_sol                      19416 non-null  float64\n",
      " 47  rougher.output.concentrate_au                       19439 non-null  float64\n",
      " 48  rougher.output.recovery                             19439 non-null  float64\n",
      " 49  rougher.output.tail_ag                              19438 non-null  float64\n",
      " 50  rougher.output.tail_pb                              19439 non-null  float64\n",
      " 51  rougher.output.tail_sol                             19439 non-null  float64\n",
      " 52  rougher.output.tail_au                              19439 non-null  float64\n",
      " 53  rougher.state.floatbank10_a_air                     19438 non-null  float64\n",
      " 54  rougher.state.floatbank10_a_level                   19438 non-null  float64\n",
      " 55  rougher.state.floatbank10_b_air                     19438 non-null  float64\n",
      " 56  rougher.state.floatbank10_b_level                   19438 non-null  float64\n",
      " 57  rougher.state.floatbank10_c_air                     19438 non-null  float64\n",
      " 58  rougher.state.floatbank10_c_level                   19438 non-null  float64\n",
      " 59  rougher.state.floatbank10_d_air                     19439 non-null  float64\n",
      " 60  rougher.state.floatbank10_d_level                   19439 non-null  float64\n",
      " 61  rougher.state.floatbank10_e_air                     19003 non-null  float64\n",
      " 62  rougher.state.floatbank10_e_level                   19439 non-null  float64\n",
      " 63  rougher.state.floatbank10_f_air                     19439 non-null  float64\n",
      " 64  rougher.state.floatbank10_f_level                   19439 non-null  float64\n",
      " 65  secondary_cleaner.output.tail_ag                    19437 non-null  float64\n",
      " 66  secondary_cleaner.output.tail_pb                    19427 non-null  float64\n",
      " 67  secondary_cleaner.output.tail_sol                   17691 non-null  float64\n",
      " 68  secondary_cleaner.output.tail_au                    19439 non-null  float64\n",
      " 69  secondary_cleaner.state.floatbank2_a_air            19219 non-null  float64\n",
      " 70  secondary_cleaner.state.floatbank2_a_level          19438 non-null  float64\n",
      " 71  secondary_cleaner.state.floatbank2_b_air            19416 non-null  float64\n",
      " 72  secondary_cleaner.state.floatbank2_b_level          19438 non-null  float64\n",
      " 73  secondary_cleaner.state.floatbank3_a_air            19426 non-null  float64\n",
      " 74  secondary_cleaner.state.floatbank3_a_level          19438 non-null  float64\n",
      " 75  secondary_cleaner.state.floatbank3_b_air            19438 non-null  float64\n",
      " 76  secondary_cleaner.state.floatbank3_b_level          19438 non-null  float64\n",
      " 77  secondary_cleaner.state.floatbank4_a_air            19433 non-null  float64\n",
      " 78  secondary_cleaner.state.floatbank4_a_level          19438 non-null  float64\n",
      " 79  secondary_cleaner.state.floatbank4_b_air            19438 non-null  float64\n",
      " 80  secondary_cleaner.state.floatbank4_b_level          19438 non-null  float64\n",
      " 81  secondary_cleaner.state.floatbank5_a_air            19438 non-null  float64\n",
      " 82  secondary_cleaner.state.floatbank5_a_level          19438 non-null  float64\n",
      " 83  secondary_cleaner.state.floatbank5_b_air            19438 non-null  float64\n",
      " 84  secondary_cleaner.state.floatbank5_b_level          19438 non-null  float64\n",
      " 85  secondary_cleaner.state.floatbank6_a_air            19437 non-null  float64\n",
      " 86  secondary_cleaner.state.floatbank6_a_level          19438 non-null  float64\n",
      "dtypes: float64(86), object(1)\n",
      "memory usage: 12.9+ MB\n"
     ]
    }
   ],
   "source": [
    "full_df.info()"
   ]
  },
  {
   "cell_type": "code",
   "execution_count": 11,
   "metadata": {},
   "outputs": [
    {
     "data": {
      "text/html": [
       "<div>\n",
       "<style scoped>\n",
       "    .dataframe tbody tr th:only-of-type {\n",
       "        vertical-align: middle;\n",
       "    }\n",
       "\n",
       "    .dataframe tbody tr th {\n",
       "        vertical-align: top;\n",
       "    }\n",
       "\n",
       "    .dataframe thead th {\n",
       "        text-align: right;\n",
       "    }\n",
       "</style>\n",
       "<table border=\"1\" class=\"dataframe\">\n",
       "  <thead>\n",
       "    <tr style=\"text-align: right;\">\n",
       "      <th></th>\n",
       "      <th>final.output.concentrate_ag</th>\n",
       "      <th>final.output.concentrate_pb</th>\n",
       "      <th>final.output.concentrate_sol</th>\n",
       "      <th>final.output.concentrate_au</th>\n",
       "      <th>final.output.recovery</th>\n",
       "      <th>final.output.tail_ag</th>\n",
       "      <th>final.output.tail_pb</th>\n",
       "      <th>final.output.tail_sol</th>\n",
       "      <th>final.output.tail_au</th>\n",
       "      <th>primary_cleaner.input.sulfate</th>\n",
       "      <th>...</th>\n",
       "      <th>secondary_cleaner.state.floatbank4_a_air</th>\n",
       "      <th>secondary_cleaner.state.floatbank4_a_level</th>\n",
       "      <th>secondary_cleaner.state.floatbank4_b_air</th>\n",
       "      <th>secondary_cleaner.state.floatbank4_b_level</th>\n",
       "      <th>secondary_cleaner.state.floatbank5_a_air</th>\n",
       "      <th>secondary_cleaner.state.floatbank5_a_level</th>\n",
       "      <th>secondary_cleaner.state.floatbank5_b_air</th>\n",
       "      <th>secondary_cleaner.state.floatbank5_b_level</th>\n",
       "      <th>secondary_cleaner.state.floatbank6_a_air</th>\n",
       "      <th>secondary_cleaner.state.floatbank6_a_level</th>\n",
       "    </tr>\n",
       "  </thead>\n",
       "  <tbody>\n",
       "    <tr>\n",
       "      <th>count</th>\n",
       "      <td>19438.000000</td>\n",
       "      <td>19438.000000</td>\n",
       "      <td>19228.000000</td>\n",
       "      <td>19439.000000</td>\n",
       "      <td>19439.000000</td>\n",
       "      <td>19438.000000</td>\n",
       "      <td>19338.000000</td>\n",
       "      <td>19433.000000</td>\n",
       "      <td>19439.000000</td>\n",
       "      <td>19415.000000</td>\n",
       "      <td>...</td>\n",
       "      <td>19433.000000</td>\n",
       "      <td>19438.000000</td>\n",
       "      <td>19438.000000</td>\n",
       "      <td>19438.000000</td>\n",
       "      <td>19438.000000</td>\n",
       "      <td>19438.000000</td>\n",
       "      <td>19438.000000</td>\n",
       "      <td>19438.000000</td>\n",
       "      <td>19437.000000</td>\n",
       "      <td>19438.000000</td>\n",
       "    </tr>\n",
       "    <tr>\n",
       "      <th>mean</th>\n",
       "      <td>5.168470</td>\n",
       "      <td>9.978895</td>\n",
       "      <td>9.501224</td>\n",
       "      <td>44.076513</td>\n",
       "      <td>67.050208</td>\n",
       "      <td>9.688589</td>\n",
       "      <td>2.705795</td>\n",
       "      <td>10.583728</td>\n",
       "      <td>3.042467</td>\n",
       "      <td>144.624774</td>\n",
       "      <td>...</td>\n",
       "      <td>18.987674</td>\n",
       "      <td>-485.894516</td>\n",
       "      <td>15.010366</td>\n",
       "      <td>-461.078636</td>\n",
       "      <td>15.694452</td>\n",
       "      <td>-488.684065</td>\n",
       "      <td>12.198224</td>\n",
       "      <td>-487.149827</td>\n",
       "      <td>18.959024</td>\n",
       "      <td>-505.436305</td>\n",
       "    </tr>\n",
       "    <tr>\n",
       "      <th>std</th>\n",
       "      <td>1.372348</td>\n",
       "      <td>1.669240</td>\n",
       "      <td>2.787537</td>\n",
       "      <td>5.129784</td>\n",
       "      <td>10.125840</td>\n",
       "      <td>2.328642</td>\n",
       "      <td>0.949077</td>\n",
       "      <td>2.868782</td>\n",
       "      <td>0.922808</td>\n",
       "      <td>44.464071</td>\n",
       "      <td>...</td>\n",
       "      <td>5.411058</td>\n",
       "      <td>47.758570</td>\n",
       "      <td>4.890228</td>\n",
       "      <td>67.405524</td>\n",
       "      <td>5.510974</td>\n",
       "      <td>34.533396</td>\n",
       "      <td>5.333024</td>\n",
       "      <td>38.347312</td>\n",
       "      <td>5.550498</td>\n",
       "      <td>37.689057</td>\n",
       "    </tr>\n",
       "    <tr>\n",
       "      <th>min</th>\n",
       "      <td>0.000000</td>\n",
       "      <td>0.000000</td>\n",
       "      <td>0.000000</td>\n",
       "      <td>0.000000</td>\n",
       "      <td>0.000000</td>\n",
       "      <td>0.000000</td>\n",
       "      <td>0.000000</td>\n",
       "      <td>0.000000</td>\n",
       "      <td>0.000000</td>\n",
       "      <td>0.003112</td>\n",
       "      <td>...</td>\n",
       "      <td>0.000000</td>\n",
       "      <td>-799.798523</td>\n",
       "      <td>0.000000</td>\n",
       "      <td>-800.836914</td>\n",
       "      <td>-0.372054</td>\n",
       "      <td>-797.323986</td>\n",
       "      <td>0.528083</td>\n",
       "      <td>-800.220337</td>\n",
       "      <td>-0.079426</td>\n",
       "      <td>-809.741464</td>\n",
       "    </tr>\n",
       "    <tr>\n",
       "      <th>25%</th>\n",
       "      <td>4.251240</td>\n",
       "      <td>9.137262</td>\n",
       "      <td>7.722820</td>\n",
       "      <td>43.402215</td>\n",
       "      <td>63.299712</td>\n",
       "      <td>8.062878</td>\n",
       "      <td>2.040119</td>\n",
       "      <td>8.938947</td>\n",
       "      <td>2.461138</td>\n",
       "      <td>114.107029</td>\n",
       "      <td>...</td>\n",
       "      <td>14.975734</td>\n",
       "      <td>-500.704892</td>\n",
       "      <td>11.940294</td>\n",
       "      <td>-500.187742</td>\n",
       "      <td>10.988606</td>\n",
       "      <td>-500.458467</td>\n",
       "      <td>8.971105</td>\n",
       "      <td>-500.129462</td>\n",
       "      <td>14.983037</td>\n",
       "      <td>-500.728067</td>\n",
       "    </tr>\n",
       "    <tr>\n",
       "      <th>50%</th>\n",
       "      <td>5.066094</td>\n",
       "      <td>10.102433</td>\n",
       "      <td>9.218961</td>\n",
       "      <td>45.011244</td>\n",
       "      <td>68.172738</td>\n",
       "      <td>9.743623</td>\n",
       "      <td>2.748730</td>\n",
       "      <td>10.622456</td>\n",
       "      <td>2.984909</td>\n",
       "      <td>143.232103</td>\n",
       "      <td>...</td>\n",
       "      <td>18.017481</td>\n",
       "      <td>-499.837793</td>\n",
       "      <td>14.971014</td>\n",
       "      <td>-499.459786</td>\n",
       "      <td>15.000036</td>\n",
       "      <td>-499.802605</td>\n",
       "      <td>11.019433</td>\n",
       "      <td>-499.935317</td>\n",
       "      <td>19.960541</td>\n",
       "      <td>-500.048400</td>\n",
       "    </tr>\n",
       "    <tr>\n",
       "      <th>75%</th>\n",
       "      <td>5.895527</td>\n",
       "      <td>11.035769</td>\n",
       "      <td>10.947813</td>\n",
       "      <td>46.275313</td>\n",
       "      <td>72.686642</td>\n",
       "      <td>11.134294</td>\n",
       "      <td>3.333216</td>\n",
       "      <td>12.104271</td>\n",
       "      <td>3.571351</td>\n",
       "      <td>175.075656</td>\n",
       "      <td>...</td>\n",
       "      <td>23.012470</td>\n",
       "      <td>-498.249730</td>\n",
       "      <td>19.034162</td>\n",
       "      <td>-400.118106</td>\n",
       "      <td>18.026190</td>\n",
       "      <td>-498.384187</td>\n",
       "      <td>14.019088</td>\n",
       "      <td>-499.436708</td>\n",
       "      <td>24.003170</td>\n",
       "      <td>-499.495378</td>\n",
       "    </tr>\n",
       "    <tr>\n",
       "      <th>max</th>\n",
       "      <td>16.001945</td>\n",
       "      <td>17.031899</td>\n",
       "      <td>19.615720</td>\n",
       "      <td>52.756638</td>\n",
       "      <td>100.000000</td>\n",
       "      <td>19.552149</td>\n",
       "      <td>5.804178</td>\n",
       "      <td>22.317730</td>\n",
       "      <td>8.245022</td>\n",
       "      <td>265.983123</td>\n",
       "      <td>...</td>\n",
       "      <td>30.115735</td>\n",
       "      <td>-245.239184</td>\n",
       "      <td>31.269706</td>\n",
       "      <td>-6.506986</td>\n",
       "      <td>43.709931</td>\n",
       "      <td>-244.483566</td>\n",
       "      <td>27.926001</td>\n",
       "      <td>-137.740004</td>\n",
       "      <td>32.188906</td>\n",
       "      <td>-104.427459</td>\n",
       "    </tr>\n",
       "  </tbody>\n",
       "</table>\n",
       "<p>8 rows × 86 columns</p>\n",
       "</div>"
      ],
      "text/plain": [
       "       final.output.concentrate_ag  final.output.concentrate_pb  \\\n",
       "count                 19438.000000                 19438.000000   \n",
       "mean                      5.168470                     9.978895   \n",
       "std                       1.372348                     1.669240   \n",
       "min                       0.000000                     0.000000   \n",
       "25%                       4.251240                     9.137262   \n",
       "50%                       5.066094                    10.102433   \n",
       "75%                       5.895527                    11.035769   \n",
       "max                      16.001945                    17.031899   \n",
       "\n",
       "       final.output.concentrate_sol  final.output.concentrate_au  \\\n",
       "count                  19228.000000                 19439.000000   \n",
       "mean                       9.501224                    44.076513   \n",
       "std                        2.787537                     5.129784   \n",
       "min                        0.000000                     0.000000   \n",
       "25%                        7.722820                    43.402215   \n",
       "50%                        9.218961                    45.011244   \n",
       "75%                       10.947813                    46.275313   \n",
       "max                       19.615720                    52.756638   \n",
       "\n",
       "       final.output.recovery  final.output.tail_ag  final.output.tail_pb  \\\n",
       "count           19439.000000          19438.000000          19338.000000   \n",
       "mean               67.050208              9.688589              2.705795   \n",
       "std                10.125840              2.328642              0.949077   \n",
       "min                 0.000000              0.000000              0.000000   \n",
       "25%                63.299712              8.062878              2.040119   \n",
       "50%                68.172738              9.743623              2.748730   \n",
       "75%                72.686642             11.134294              3.333216   \n",
       "max               100.000000             19.552149              5.804178   \n",
       "\n",
       "       final.output.tail_sol  final.output.tail_au  \\\n",
       "count           19433.000000          19439.000000   \n",
       "mean               10.583728              3.042467   \n",
       "std                 2.868782              0.922808   \n",
       "min                 0.000000              0.000000   \n",
       "25%                 8.938947              2.461138   \n",
       "50%                10.622456              2.984909   \n",
       "75%                12.104271              3.571351   \n",
       "max                22.317730              8.245022   \n",
       "\n",
       "       primary_cleaner.input.sulfate  ...  \\\n",
       "count                   19415.000000  ...   \n",
       "mean                      144.624774  ...   \n",
       "std                        44.464071  ...   \n",
       "min                         0.003112  ...   \n",
       "25%                       114.107029  ...   \n",
       "50%                       143.232103  ...   \n",
       "75%                       175.075656  ...   \n",
       "max                       265.983123  ...   \n",
       "\n",
       "       secondary_cleaner.state.floatbank4_a_air  \\\n",
       "count                              19433.000000   \n",
       "mean                                  18.987674   \n",
       "std                                    5.411058   \n",
       "min                                    0.000000   \n",
       "25%                                   14.975734   \n",
       "50%                                   18.017481   \n",
       "75%                                   23.012470   \n",
       "max                                   30.115735   \n",
       "\n",
       "       secondary_cleaner.state.floatbank4_a_level  \\\n",
       "count                                19438.000000   \n",
       "mean                                  -485.894516   \n",
       "std                                     47.758570   \n",
       "min                                   -799.798523   \n",
       "25%                                   -500.704892   \n",
       "50%                                   -499.837793   \n",
       "75%                                   -498.249730   \n",
       "max                                   -245.239184   \n",
       "\n",
       "       secondary_cleaner.state.floatbank4_b_air  \\\n",
       "count                              19438.000000   \n",
       "mean                                  15.010366   \n",
       "std                                    4.890228   \n",
       "min                                    0.000000   \n",
       "25%                                   11.940294   \n",
       "50%                                   14.971014   \n",
       "75%                                   19.034162   \n",
       "max                                   31.269706   \n",
       "\n",
       "       secondary_cleaner.state.floatbank4_b_level  \\\n",
       "count                                19438.000000   \n",
       "mean                                  -461.078636   \n",
       "std                                     67.405524   \n",
       "min                                   -800.836914   \n",
       "25%                                   -500.187742   \n",
       "50%                                   -499.459786   \n",
       "75%                                   -400.118106   \n",
       "max                                     -6.506986   \n",
       "\n",
       "       secondary_cleaner.state.floatbank5_a_air  \\\n",
       "count                              19438.000000   \n",
       "mean                                  15.694452   \n",
       "std                                    5.510974   \n",
       "min                                   -0.372054   \n",
       "25%                                   10.988606   \n",
       "50%                                   15.000036   \n",
       "75%                                   18.026190   \n",
       "max                                   43.709931   \n",
       "\n",
       "       secondary_cleaner.state.floatbank5_a_level  \\\n",
       "count                                19438.000000   \n",
       "mean                                  -488.684065   \n",
       "std                                     34.533396   \n",
       "min                                   -797.323986   \n",
       "25%                                   -500.458467   \n",
       "50%                                   -499.802605   \n",
       "75%                                   -498.384187   \n",
       "max                                   -244.483566   \n",
       "\n",
       "       secondary_cleaner.state.floatbank5_b_air  \\\n",
       "count                              19438.000000   \n",
       "mean                                  12.198224   \n",
       "std                                    5.333024   \n",
       "min                                    0.528083   \n",
       "25%                                    8.971105   \n",
       "50%                                   11.019433   \n",
       "75%                                   14.019088   \n",
       "max                                   27.926001   \n",
       "\n",
       "       secondary_cleaner.state.floatbank5_b_level  \\\n",
       "count                                19438.000000   \n",
       "mean                                  -487.149827   \n",
       "std                                     38.347312   \n",
       "min                                   -800.220337   \n",
       "25%                                   -500.129462   \n",
       "50%                                   -499.935317   \n",
       "75%                                   -499.436708   \n",
       "max                                   -137.740004   \n",
       "\n",
       "       secondary_cleaner.state.floatbank6_a_air  \\\n",
       "count                              19437.000000   \n",
       "mean                                  18.959024   \n",
       "std                                    5.550498   \n",
       "min                                   -0.079426   \n",
       "25%                                   14.983037   \n",
       "50%                                   19.960541   \n",
       "75%                                   24.003170   \n",
       "max                                   32.188906   \n",
       "\n",
       "       secondary_cleaner.state.floatbank6_a_level  \n",
       "count                                19438.000000  \n",
       "mean                                  -505.436305  \n",
       "std                                     37.689057  \n",
       "min                                   -809.741464  \n",
       "25%                                   -500.728067  \n",
       "50%                                   -500.048400  \n",
       "75%                                   -499.495378  \n",
       "max                                   -104.427459  \n",
       "\n",
       "[8 rows x 86 columns]"
      ]
     },
     "execution_count": 11,
     "metadata": {},
     "output_type": "execute_result"
    }
   ],
   "source": [
    "full_df.describe()"
   ]
  },
  {
   "cell_type": "markdown",
   "metadata": {},
   "source": [
    "**Вывод** <br>\n",
    "Данных очень много. Они имеют пропуски. Столбец data имеет тип object, а должен иметь тип datetime."
   ]
  },
  {
   "cell_type": "markdown",
   "metadata": {},
   "source": [
    "<div class=\"alert alert-block alert-success\">\n",
    "<b>Успех:</b> Данные загружены и осмотрены корректно.\n",
    "</div>"
   ]
  },
  {
   "cell_type": "markdown",
   "metadata": {},
   "source": [
    "### Проверем, что эффективность обогащения рассчитана правильно"
   ]
  },
  {
   "cell_type": "markdown",
   "metadata": {},
   "source": [
    "Для этого вычислем её на обучающей выборке для признака rougher.output.recovery. Найдем MAE между полученными значениями и значением признака. <br>\n",
    "\n",
    "recovery = ((C(F-T))/(FC-T))*100%, где: <br>\n",
    "\n",
    "С - доля золота концентрате после фильтрации/очитски <br>\n",
    "F - доля золота в сырье/концентрате до флотации/очистки <br>\n",
    "T - доля золота в отвальных хвостах после фильтрации/очистки <br>"
   ]
  },
  {
   "cell_type": "code",
   "execution_count": 12,
   "metadata": {},
   "outputs": [
    {
     "name": "stdout",
     "output_type": "stream",
     "text": [
      "MAE - 9.73512347450521e-15\n"
     ]
    }
   ],
   "source": [
    "c = train_df['rougher.output.concentrate_au']\n",
    "f = train_df['rougher.input.feed_au']\n",
    "t = train_df['rougher.output.tail_au']\n",
    "\n",
    "recovery = ((c*(f-t))/(f*(c-t))) * 100\n",
    "\n",
    "print('MAE -', mean_absolute_error(train_df['rougher.output.recovery'], recovery))"
   ]
  },
  {
   "cell_type": "markdown",
   "metadata": {},
   "source": [
    "**Вывод** <br>\n",
    "MAE очень низкий, а значит расчёты верны."
   ]
  },
  {
   "cell_type": "markdown",
   "metadata": {},
   "source": [
    "<div class=\"alert alert-block alert-success\">\n",
    "<b>Успех:</b> Абсолютно верно!\n",
    "</div>"
   ]
  },
  {
   "cell_type": "markdown",
   "metadata": {},
   "source": [
    "### Проанализируем признаки, недоступные в тестовой выборке."
   ]
  },
  {
   "cell_type": "code",
   "execution_count": 13,
   "metadata": {},
   "outputs": [],
   "source": [
    "missed_signs = set(train_df.columns) - set(test_df.columns)"
   ]
  },
  {
   "cell_type": "code",
   "execution_count": 14,
   "metadata": {},
   "outputs": [],
   "source": [
    "dict_with_name_of_values = {'final': 'финальные характеристики',\n",
    "                           'primary_cleaner': 'первичная очистка',\n",
    "                           'secondary_cleaner': 'вторичная очистка',\n",
    "                           'input': 'параметры сырья',\n",
    "                           'output': 'параметры продукта',\n",
    "                           'rougher': 'флотация',\n",
    "                           'state': 'параметры, характеризующие текущее состояние этапа',\n",
    "                           'calculation': 'расчётные характеристики'}"
   ]
  },
  {
   "cell_type": "code",
   "execution_count": 15,
   "metadata": {},
   "outputs": [
    {
     "name": "stdout",
     "output_type": "stream",
     "text": [
      "==========================================================================================\n",
      "ДЛЯ ЭТАПА \"ФЛОТАЦИЯ\" С ОПЦИЕЙ \"РАСЧЁТНЫЕ ХАРАКТЕРИСТИКИ\" ОТСУТСТВУЮТ ЗНАЧЕНИЯ:\n",
      "==========================================================================================\n",
      " - floatbank10_sulfate_to_au_feed\n",
      " - sulfate_to_au_concentrate\n",
      " - floatbank11_sulfate_to_au_feed\n",
      " - au_pb_ratio\n",
      "==========================================================================================\n",
      "ДЛЯ ЭТАПА \"ФИНАЛЬНЫЕ ХАРАКТЕРИСТИКИ\" С ОПЦИЕЙ \"ПАРАМЕТРЫ ПРОДУКТА\" ОТСУТСТВУЮТ ЗНАЧЕНИЯ:\n",
      "==========================================================================================\n",
      " - concentrate_pb\n",
      " - tail_au\n",
      " - recovery\n",
      " - tail_sol\n",
      " - tail_ag\n",
      " - concentrate_sol\n",
      " - concentrate_ag\n",
      " - tail_pb\n",
      " - concentrate_au\n",
      "==========================================================================================\n",
      "ДЛЯ ЭТАПА \"ФЛОТАЦИЯ\" С ОПЦИЕЙ \"ПАРАМЕТРЫ ПРОДУКТА\" ОТСУТСТВУЮТ ЗНАЧЕНИЯ:\n",
      "==========================================================================================\n",
      " - concentrate_ag\n",
      " - tail_sol\n",
      " - recovery\n",
      " - tail_au\n",
      " - concentrate_sol\n",
      " - tail_pb\n",
      " - concentrate_pb\n",
      " - tail_ag\n",
      " - concentrate_au\n",
      "==========================================================================================\n",
      "ДЛЯ ЭТАПА \"ВТОРИЧНАЯ ОЧИСТКА\" С ОПЦИЕЙ \"ПАРАМЕТРЫ ПРОДУКТА\" ОТСУТСТВУЮТ ЗНАЧЕНИЯ:\n",
      "==========================================================================================\n",
      " - tail_ag\n",
      " - tail_au\n",
      " - tail_sol\n",
      " - tail_pb\n",
      "==========================================================================================\n",
      "ДЛЯ ЭТАПА \"ПЕРВИЧНАЯ ОЧИСТКА\" С ОПЦИЕЙ \"ПАРАМЕТРЫ ПРОДУКТА\" ОТСУТСТВУЮТ ЗНАЧЕНИЯ:\n",
      "==========================================================================================\n",
      " - tail_au\n",
      " - tail_sol\n",
      " - tail_ag\n",
      " - concentrate_pb\n",
      " - tail_pb\n",
      " - concentrate_au\n",
      " - concentrate_sol\n",
      " - concentrate_ag\n"
     ]
    }
   ],
   "source": [
    "dict_for_missed_signs = {}\n",
    "\n",
    "for sign in missed_signs:\n",
    "    list_with_words = sign.split('.')\n",
    "    stage = list_with_words[0]+'-'+list_with_words[1]\n",
    "    if stage in dict_for_missed_signs:\n",
    "        dict_for_missed_signs[stage].append(list_with_words[2])\n",
    "    elif stage not in dict_for_missed_signs:\n",
    "        dict_for_missed_signs[stage] = [list_with_words[2]]\n",
    "        \n",
    "for key in dict_for_missed_signs.keys():\n",
    "    split_key = key.split('-')\n",
    "    print('=' * 90)\n",
    "    print(f'ДЛЯ ЭТАПА \"{(dict_with_name_of_values[split_key[0]]).upper()}\" С ОПЦИЕЙ \"{(dict_with_name_of_values[split_key[1]]).upper()}\" ОТСУТСТВУЮТ ЗНАЧЕНИЯ:')\n",
    "    print('=' * 90)\n",
    "    for elem in dict_for_missed_signs[key]:\n",
    "        print(f' - {elem}')"
   ]
  },
  {
   "cell_type": "markdown",
   "metadata": {},
   "source": [
    "**Вывод** <br>\n",
    "Как мы видим, в основном отсутствуют значения типа \"Параметры продукта\". Это можно объяснить тем, что эти признаки рассчитываются значительно позже."
   ]
  },
  {
   "cell_type": "markdown",
   "metadata": {},
   "source": [
    "<div class=\"alert alert-block alert-success\">\n",
    "<b>Успех:</b> Согласен\n",
    "</div>"
   ]
  },
  {
   "cell_type": "markdown",
   "metadata": {},
   "source": [
    "### Проведём предобработку данных"
   ]
  },
  {
   "cell_type": "markdown",
   "metadata": {},
   "source": [
    "#### Изменим тип данных столбца date"
   ]
  },
  {
   "cell_type": "code",
   "execution_count": 16,
   "metadata": {},
   "outputs": [],
   "source": [
    "train_df['date'] = pd.to_datetime(train_df['date'], format='%Y-%m-%d %H:%M:%S')\n",
    "test_df['date'] = pd.to_datetime(test_df['date'], format='%Y-%m-%d %H:%M:%S')\n",
    "full_df['date'] = pd.to_datetime(full_df['date'], format='%Y-%m-%d %H:%M:%S')"
   ]
  },
  {
   "cell_type": "markdown",
   "metadata": {},
   "source": [
    "#### Избавимся от пропусков в данных"
   ]
  },
  {
   "cell_type": "markdown",
   "metadata": {},
   "source": [
    "Для этого воспользуемся функцией ffill. Так как по условию нам дано, что что данные индексируются датой и временем получения информации (признак date) и соседние по времени параметры часто похожи."
   ]
  },
  {
   "cell_type": "code",
   "execution_count": 17,
   "metadata": {},
   "outputs": [],
   "source": [
    "train_df = train_df.ffill(axis=0)\n",
    "test_df = test_df.ffill(axis=0)\n",
    "full_df = full_df.ffill(axis=0)"
   ]
  },
  {
   "cell_type": "markdown",
   "metadata": {},
   "source": [
    "#### Добавим в тестовую выборку целевые признаки"
   ]
  },
  {
   "cell_type": "markdown",
   "metadata": {},
   "source": [
    "Добавим в тестовую выборку целевые признаки rougher.output.recovery и final.output.recovery. Для этого используем функцию merge, а в качестве индексов используем колонку date"
   ]
  },
  {
   "cell_type": "code",
   "execution_count": 18,
   "metadata": {},
   "outputs": [],
   "source": [
    "test_df = test_df.merge(full_df.loc[:, ['date','rougher.output.recovery','final.output.recovery']], on='date')"
   ]
  },
  {
   "cell_type": "markdown",
   "metadata": {},
   "source": [
    "<div class=\"alert alert-block alert-success\">\n",
    "<b>Успех:</b> Хорошо, что merge проводиля по дате!\n",
    "</div>"
   ]
  },
  {
   "cell_type": "markdown",
   "metadata": {},
   "source": [
    "#### Удалим колонку даты"
   ]
  },
  {
   "cell_type": "markdown",
   "metadata": {},
   "source": [
    "Я считаю, что колонку даты на этом этапе можно удалить, т.к. более не понадобится, а в будущем, при обучении, модели только помешает."
   ]
  },
  {
   "cell_type": "code",
   "execution_count": 19,
   "metadata": {},
   "outputs": [],
   "source": [
    "train_df = train_df.drop('date', axis=1)\n",
    "test_df = test_df.drop('date', axis=1)"
   ]
  },
  {
   "cell_type": "markdown",
   "metadata": {},
   "source": [
    "**Вывод** <br>\n",
    "В загруженных данных были проблемы: у столбца date был неправильный тип данных, были пропуски. Это мы исправили. Так же мы проверили, что эффективность  обогащения расчитана правильно. В общем, ошибки в данных исправленны, данные готовы к анализу."
   ]
  },
  {
   "cell_type": "markdown",
   "metadata": {},
   "source": [
    "## Анализ данных"
   ]
  },
  {
   "cell_type": "markdown",
   "metadata": {},
   "source": [
    "### Посмотрим, как меняется концентрация металлов (Au, Ag, Pb) на различных этапах очистки"
   ]
  },
  {
   "cell_type": "code",
   "execution_count": 20,
   "metadata": {},
   "outputs": [
    {
     "data": {
      "image/png": "[encoded data removed]",
      "text/plain": [
       "<Figure size 1080x1224 with 3 Axes>"
      ]
     },
     "metadata": {
      "needs_background": "light"
     },
     "output_type": "display_data"
    }
   ],
   "source": [
    "position = 0\n",
    "plt.figure(figsize=[15, 17])\n",
    "plt.subplots_adjust(top=0.94, hspace=0.3)\n",
    "plt.suptitle('ГРАФИК КОНЦЕНТРАЦИИ МЕТАЛЛОВ НА РАЗЛИЧНЫХ ЭТАПАХ ОЧИТСКИ.', fontsize=15)\n",
    "sns.set_style('whitegrid')\n",
    "\n",
    "for metal in ['au', 'ag', 'pb']:\n",
    "    position += 1\n",
    "    plt.subplot(3, 1, position)\n",
    "    plt.title(f'ГРАФИК РАСПРЕДЕЛЕНИЯ МЕТАЛЛА {str(metal).upper()} НА РАЗЛИЧНЫХ ЭТАПАХ ОЧИТСКИ', fontsize=13)\n",
    "    sns.histplot(train_df[f'rougher.input.feed_{metal}'], color='y', label='Сырье', kde=False)\n",
    "    sns.histplot(train_df[f'rougher.output.concentrate_{metal}'], color='b', label='Концентрация после флотации', kde=False)\n",
    "    sns.histplot(train_df[f'primary_cleaner.output.concentrate_{metal}'], color='g', label='Концентрация после первичной очистки', kde=False)\n",
    "    sns.histplot(train_df[f'final.output.concentrate_{metal}'], color='r', label='Финальная концетрация металла',kde=False)\n",
    "    plt.xlabel('Концентрация металла')\n",
    "    plt.ylabel('Количество наблюдений')\n",
    "    plt.legend()\n",
    "    \n",
    "plt.show()"
   ]
  },
  {
   "cell_type": "markdown",
   "metadata": {},
   "source": [
    "**Вывод** <br>\n",
    " - Концентрация золота последовательно увеличивается на каждом этапе.\n",
    " - Концентрация серебра сначала, на этапе флотации, увеличивается, однако потом постепенно уменьшается.\n",
    " - Концентрация свинца на первых двух этапах увеличивается, однако позже остаётся неизменной."
   ]
  },
  {
   "cell_type": "markdown",
   "metadata": {},
   "source": [
    "<div class=\"alert alert-block alert-success\">\n",
    "<b>Успех:</b> Хорошая визуализация!\n",
    "</div>"
   ]
  },
  {
   "cell_type": "markdown",
   "metadata": {},
   "source": [
    "### Сравним распределения размеров гранул сырья на обучающей и тестовой выборках"
   ]
  },
  {
   "cell_type": "code",
   "execution_count": 21,
   "metadata": {},
   "outputs": [
    {
     "data": {
      "image/png": "[encoded data removed]",
      "text/plain": [
       "<Figure size 1080x1224 with 2 Axes>"
      ]
     },
     "metadata": {},
     "output_type": "display_data"
    }
   ],
   "source": [
    "position = 0\n",
    "plt.figure(figsize=[15, 17])\n",
    "plt.subplots_adjust(top=0.94, hspace=0.3)\n",
    "plt.suptitle('ГРАФИК РАСПРЕДЕЛЕНИЯ ГРАНУЛ СЫРЬЯ НА ОБУЧАЮЩЕЙ И ТЕСТОВОЙ ВЫБОРКАХ.', fontsize=15)\n",
    "sns.set_style('whitegrid')\n",
    "\n",
    "for stage in ['rougher', 'primary_cleaner']:\n",
    "    position += 1\n",
    "    plt.subplot(2, 1, position)\n",
    "    plt.title(f'ГРАФИК РАСПРЕДЕЛЕНИЯ ГРАНУЛ ДЛЯ ЭТАПА {str(stage).upper()} НА ОБУЧАЮЩЕЙ и ТЕСТОВОЙ ВЫБОРКАХ', fontsize=13)\n",
    "    plt.hist(train_df[f'{stage}.input.feed_size'], color='r', label='Обучающая выборка', density=True, alpha=0.5, bins=70)\n",
    "    plt.hist(test_df[f'{stage}.input.feed_size'], color='y', label='Тестовая выборка', density=True, alpha=0.5, bins=70)\n",
    "    plt.xlabel('Размер гранул')\n",
    "    plt.ylabel('Количество наблюдений')\n",
    "    plt.legend()\n",
    "    \n",
    "plt.show()"
   ]
  },
  {
   "cell_type": "markdown",
   "metadata": {},
   "source": [
    "**Вывод** \n",
    "\n",
    "На этапе флотации размер гранул немного различается. На обучающей выборке пик находится около 50, в то время как на тестовой выборке пик около 40. При этом оба графика сдвинуты влево.\n",
    "\n",
    "Для этапа первичной очитски разспределение практически одинаковое. \n",
    "\n",
    "Таким образом, значимых различий между распределениями для выборок не наблюдается."
   ]
  },
  {
   "cell_type": "markdown",
   "metadata": {},
   "source": [
    "<div class=\"alert alert-block alert-info\">\n",
    "<b>Совет: </b> В данном случае стоит увеличить количество столбиков (параметр bins)\n",
    "</div>"
   ]
  },
  {
   "cell_type": "markdown",
   "metadata": {},
   "source": [
    "<div class=\"alert alert-block alert-warning\">\n",
    "<b>Изменения:</b> Были внесены следующие изменения: добавил bins и немного изменил вывод\n",
    "</div>"
   ]
  },
  {
   "cell_type": "markdown",
   "metadata": {},
   "source": [
    "<div class=\"alert alert-block alert-success\">\n",
    "<b>Успех (ревью 2):</b> Спасибо!\n",
    "</div>"
   ]
  },
  {
   "cell_type": "markdown",
   "metadata": {},
   "source": [
    "###  Исследуем суммарную концентрацию всех веществ на разных стадиях: в сырье, в черновом и финальном концентратах"
   ]
  },
  {
   "cell_type": "code",
   "execution_count": 22,
   "metadata": {},
   "outputs": [],
   "source": [
    "sum_concentrate_of_rougher_input = 0\n",
    "sum_concentrate_of_rougher_output = 0\n",
    "sum_concentrate_of_primary_cleaner_output = 0\n",
    "sum_concentrate_of_final_output = 0\n",
    "\n",
    "for metal in ['au', 'ag', 'pb', 'sol']:\n",
    "    sum_concentrate_of_rougher_input += train_df[f'rougher.input.feed_{metal}']\n",
    "    sum_concentrate_of_rougher_output += train_df[f'rougher.output.concentrate_{metal}']\n",
    "    sum_concentrate_of_primary_cleaner_output += full_df[f'primary_cleaner.output.concentrate_{metal}']\n",
    "    sum_concentrate_of_final_output += train_df[f'final.output.concentrate_{metal}']\n"
   ]
  },
  {
   "cell_type": "code",
   "execution_count": 23,
   "metadata": {},
   "outputs": [
    {
     "data": {
      "image/png": "[encoded data removed]",
      "text/plain": [
       "<Figure size 1080x648 with 1 Axes>"
      ]
     },
     "metadata": {},
     "output_type": "display_data"
    }
   ],
   "source": [
    "plt.figure(figsize=[15, 9])\n",
    "plt.suptitle('ГРАФИК СУММАРНОЙ КОНЦЕНТРАЦИИ ВЕЩЕСТВ НА РАЗНЫХ СТАДИЯХ.', fontsize=15)\n",
    "sns.set_style('darkgrid')\n",
    "sns.histplot(sum_concentrate_of_rougher_input, color='y', label='Сырье', kde=False)\n",
    "sns.histplot(sum_concentrate_of_rougher_output, color='b', label='Концентрация после флотации', kde=False)\n",
    "sns.histplot(sum_concentrate_of_primary_cleaner_output, color='g', label='Концентрация после первичной очистки', kde=False)\n",
    "sns.histplot(sum_concentrate_of_final_output, color='r', label='Финальная концетрация',kde=False)\n",
    "plt.xlabel('Концентрация веществ')\n",
    "plt.ylabel('Количество наблюдений')\n",
    "plt.legend()\n",
    "plt.show()"
   ]
  },
  {
   "cell_type": "markdown",
   "metadata": {},
   "source": [
    "**Вывод**\n",
    "\n",
    "Как мы видим, суммарная концентрация веществ после флотации увеличивается. Далее после первичной очистки концентрация немного уменьшается, однако финальная концентрация похожа на концентрацию после флотации, однако имеет меньший диапозон значений."
   ]
  },
  {
   "cell_type": "markdown",
   "metadata": {},
   "source": [
    "### Удалим аномалии"
   ]
  },
  {
   "cell_type": "markdown",
   "metadata": {},
   "source": [
    "На графике видно, что есть много аномальных значений около 0, которые могут сильно повредить в будущем при обучении модели, поэтому их стоит удалить"
   ]
  },
  {
   "cell_type": "code",
   "execution_count": 24,
   "metadata": {},
   "outputs": [],
   "source": [
    "train_df = train_df[(train_df['rougher.output.concentrate_au'] != 0) & (train_df['rougher.output.concentrate_ag'] != 0) & (train_df['rougher.output.concentrate_pb'] != 0) & (train_df['rougher.output.concentrate_sol'] != 0)]\n",
    "train_df = train_df[(train_df['primary_cleaner.output.concentrate_au'] != 0) & (train_df['primary_cleaner.output.concentrate_ag'] != 0) & (train_df['primary_cleaner.output.concentrate_pb'] != 0) & (train_df['primary_cleaner.output.concentrate_sol'] != 0)]\n",
    "train_df = train_df[(train_df['final.output.concentrate_au'] != 0) & (train_df['final.output.concentrate_ag'] != 0) & (train_df['final.output.concentrate_pb'] != 0) & (train_df['final.output.concentrate_sol'] != 0)]\n",
    "\n",
    "full_df = full_df[(full_df['rougher.output.concentrate_au'] != 0) & (full_df['rougher.output.concentrate_ag'] != 0) & (full_df['rougher.output.concentrate_pb'] != 0) & (full_df['rougher.output.concentrate_sol'] != 0)]\n",
    "train_df = train_df[(train_df['primary_cleaner.output.concentrate_au'] != 0) & (train_df['primary_cleaner.output.concentrate_ag'] != 0) & (train_df['primary_cleaner.output.concentrate_pb'] != 0) & (train_df['primary_cleaner.output.concentrate_sol'] != 0)]\n",
    "full_df = full_df[(full_df['final.output.concentrate_au'] != 0) & (full_df['final.output.concentrate_ag'] != 0) & (full_df['final.output.concentrate_pb'] != 0) & (full_df['final.output.concentrate_sol'] != 0)]"
   ]
  },
  {
   "cell_type": "markdown",
   "metadata": {},
   "source": [
    "<div class=\"alert alert-block alert-success\">\n",
    "<b>Успех:</b> Хорошо, что аномалии около нуля были удалены.\n",
    "</div>"
   ]
  },
  {
   "cell_type": "markdown",
   "metadata": {},
   "source": [
    "## Модель"
   ]
  },
  {
   "cell_type": "markdown",
   "metadata": {},
   "source": [
    "### Удалим ненужные признаки"
   ]
  },
  {
   "cell_type": "markdown",
   "metadata": {},
   "source": [
    "Считаю, что нужно удалить из обучающей выборки признаки, которых нету в тестовой выборке, кроме целевых. Иначе, может произойти утечка целевого признака."
   ]
  },
  {
   "cell_type": "code",
   "execution_count": 25,
   "metadata": {},
   "outputs": [],
   "source": [
    "signs_for_delete_without_target_signs = missed_signs - set(['rougher.output.recovery','final.output.recovery'])\n",
    "train_df = train_df.drop(columns=signs_for_delete_without_target_signs, axis=1)"
   ]
  },
  {
   "cell_type": "markdown",
   "metadata": {},
   "source": [
    "### Напишим функции для вычесления sMAPE и итогового sMAPE"
   ]
  },
  {
   "cell_type": "markdown",
   "metadata": {},
   "source": [
    "#### Функция для вычесления sMAPE"
   ]
  },
  {
   "cell_type": "code",
   "execution_count": 26,
   "metadata": {},
   "outputs": [],
   "source": [
    "def get_smape(target, predict):\n",
    "    smape = (1 / len(target)) * np.sum((np.abs(target - predict)) / ( (np.abs(target) + np.abs(predict)) / 2)) * 100\n",
    "    return smape\n",
    "\n",
    "smape_scorer = make_scorer(get_smape, greater_is_better = False)"
   ]
  },
  {
   "cell_type": "markdown",
   "metadata": {},
   "source": [
    "<div class=\"alert alert-block alert-success\">\n",
    "<b>Успех:</b> Скорер определен корректно.\n",
    "</div>"
   ]
  },
  {
   "cell_type": "markdown",
   "metadata": {},
   "source": [
    "#### Функция для вычесления итогового sMAPE"
   ]
  },
  {
   "cell_type": "code",
   "execution_count": 27,
   "metadata": {},
   "outputs": [],
   "source": [
    "def get_final_smape(rougher, final):\n",
    "    final_smape = 0.25 * rougher + 0.75 * final\n",
    "    return final_smape"
   ]
  },
  {
   "cell_type": "markdown",
   "metadata": {},
   "source": [
    "### Подготовим данные"
   ]
  },
  {
   "cell_type": "code",
   "execution_count": 28,
   "metadata": {},
   "outputs": [],
   "source": [
    "features_train = train_df.drop(['rougher.output.recovery','final.output.recovery'], axis=1)\n",
    "target_rougher_train = train_df['rougher.output.recovery']\n",
    "target_final_train = train_df['final.output.recovery']\n",
    "\n",
    "features_test = test_df.drop(['rougher.output.recovery','final.output.recovery'], axis=1)\n",
    "target_rougher_test = test_df['rougher.output.recovery']\n",
    "target_final_test = test_df['final.output.recovery']"
   ]
  },
  {
   "cell_type": "markdown",
   "metadata": {},
   "source": [
    "### Модель LinearRegression"
   ]
  },
  {
   "cell_type": "code",
   "execution_count": 29,
   "metadata": {},
   "outputs": [
    {
     "name": "stdout",
     "output_type": "stream",
     "text": [
      "Итоговый sMAPE - 10.023124524855415\n"
     ]
    }
   ],
   "source": [
    "model_lr = LinearRegression()\n",
    "\n",
    "# Для rougher\n",
    "smape_rougher = cross_val_score(model_lr, features_train, target_rougher_train, scoring = smape_scorer, cv = 5)\n",
    "                                       \n",
    "final_smape_rougher = smape_rougher.mean()\n",
    "\n",
    "# Для final\n",
    "smape_final = cross_val_score(model_lr, features_train, target_final_train, scoring = smape_scorer, cv = 5)\n",
    "\n",
    "final_smape_final = smape_final.mean()\n",
    "\n",
    "# final_smape\n",
    "result_smape_lr = get_final_smape(final_smape_rougher, final_smape_final) * (-1)\n",
    "\n",
    "print(f'Итоговый sMAPE - {result_smape_lr}')"
   ]
  },
  {
   "cell_type": "markdown",
   "metadata": {},
   "source": [
    "### Модель DecisionTreeRegressor"
   ]
  },
  {
   "cell_type": "code",
   "execution_count": 30,
   "metadata": {},
   "outputs": [
    {
     "name": "stdout",
     "output_type": "stream",
     "text": [
      "Итоговый sMAPE - 8.894948412843105\n"
     ]
    }
   ],
   "source": [
    "best_result_dt = 100\n",
    "best_depth_dt = 0\n",
    "\n",
    "for depth in range(1, 10):\n",
    "    model_dt = DecisionTreeRegressor(max_depth=depth, random_state=12345)\n",
    "    \n",
    "    # Для rougher\n",
    "    smape_rougher = cross_val_score(model_dt, features_train, target_rougher_train, scoring = smape_scorer, cv = 5)\n",
    "    \n",
    "    final_smape_rougher = smape_rougher.mean()\n",
    "    \n",
    "    # Для final\n",
    "    smape_final = cross_val_score(model_dt, features_train, target_final_train, scoring = smape_scorer, cv = 5)\n",
    "    \n",
    "    final_smape_final = smape_final.mean()\n",
    "    \n",
    "    # final_smape\n",
    "    result_smape = get_final_smape(final_smape_rougher, final_smape_final) * (-1)\n",
    "    \n",
    "    if result_smape < best_result_dt:\n",
    "        best_result_dt = result_smape\n",
    "        best_max_depth_dt = depth\n",
    "\n",
    "print(f'Итоговый sMAPE - {best_result_dt}')"
   ]
  },
  {
   "cell_type": "markdown",
   "metadata": {},
   "source": [
    "### Модель RandomForestRegressor"
   ]
  },
  {
   "cell_type": "code",
   "execution_count": 31,
   "metadata": {},
   "outputs": [
    {
     "name": "stdout",
     "output_type": "stream",
     "text": [
      "Итоговый sMAPE - 8.410542222026999\n"
     ]
    }
   ],
   "source": [
    "best_result_rf = 100\n",
    "best_n_estimators_rf = 0\n",
    "best_depth_rf = 0\n",
    "\n",
    "for n in range(10, 100, 30):\n",
    "    for depth in range(2,10,2):\n",
    "        model_rf = RandomForestRegressor(n_estimators=n, max_depth=depth, random_state=12345)\n",
    "        \n",
    "        # Для rougher\n",
    "        smape_rougher = cross_val_score(model_rf, features_train, target_rougher_train, scoring = smape_scorer, cv = 5)\n",
    "\n",
    "        final_smape_rougher = smape_rougher.mean()\n",
    "        \n",
    "        # Для final\n",
    "        smape_final = cross_val_score(model_rf, features_train, target_final_train, scoring = smape_scorer, cv = 5)\n",
    "\n",
    "        final_smape_final = smape_final.mean()\n",
    "        \n",
    "        # final_smape\n",
    "        result_smape = get_final_smape(final_smape_rougher, final_smape_final)*(-1)\n",
    "        \n",
    "        if result_smape < best_result_rf:\n",
    "            best_result_rf = result_smape\n",
    "            best_n_estimators_rf = n\n",
    "            best_depth_rf = depth\n",
    "\n",
    "print(f'Итоговый sMAPE - {best_result_rf}')            "
   ]
  },
  {
   "cell_type": "markdown",
   "metadata": {},
   "source": [
    "**Промежуточный вывод** \n",
    "\n",
    "Лучшая модель - RandomForestRegressor, с результатом sMAPE - 8.41"
   ]
  },
  {
   "cell_type": "markdown",
   "metadata": {},
   "source": [
    "<div class=\"alert alert-block alert-success\">\n",
    "<b>Успех:</b> Молодец, что попробовал разные модели в этом шаге!\n",
    "</div>"
   ]
  },
  {
   "cell_type": "markdown",
   "metadata": {},
   "source": [
    "### Проверим лучшую модель на тестовой выборке"
   ]
  },
  {
   "cell_type": "code",
   "execution_count": 32,
   "metadata": {},
   "outputs": [
    {
     "name": "stdout",
     "output_type": "stream",
     "text": [
      "Итоговый sMAPE - 9.408783788062488\n"
     ]
    }
   ],
   "source": [
    "model_for_test = RandomForestRegressor(n_estimators=best_n_estimators_rf, max_depth=best_depth_rf, random_state=12345)\n",
    "\n",
    "# Для rougher\n",
    "model_for_test.fit(features_train, target_rougher_train)\n",
    "predicted_rougher = model_for_test.predict(features_test)\n",
    "\n",
    "# Для final\n",
    "model_for_test.fit(features_train, target_final_train)\n",
    "predicted_final = model_for_test.predict(features_test)\n",
    "\n",
    "smape_test_rougher = get_smape(target_rougher_test, predicted_rougher)\n",
    "smape_test_final = get_smape(target_final_test, predicted_final)\n",
    "\n",
    "final_smape_test = get_final_smape(smape_test_rougher, smape_test_final)\n",
    "\n",
    "print(f'Итоговый sMAPE - {final_smape_test}') "
   ]
  },
  {
   "cell_type": "markdown",
   "metadata": {},
   "source": [
    "### Проверим модель на адекватность"
   ]
  },
  {
   "cell_type": "markdown",
   "metadata": {},
   "source": [
    "Чтобы проверить модель на адекватность, сравним её с константной моделью"
   ]
  },
  {
   "cell_type": "code",
   "execution_count": 34,
   "metadata": {},
   "outputs": [
    {
     "name": "stdout",
     "output_type": "stream",
     "text": [
      "Итоговый sMAPE - 9.827613822597584\n"
     ]
    }
   ],
   "source": [
    "dummy_model_1 = DummyRegressor(strategy=\"mean\")\n",
    "dummy_model_2 = DummyRegressor(strategy=\"mean\")\n",
    "\n",
    "\n",
    "dummy_model_1.fit(features_train, target_rougher_train)\n",
    "dummy_model_2.fit(features_train, target_final_train)\n",
    "\n",
    "dummy_predicted_rougher = dummy_model_1.predict(features_test)\n",
    "dummy_predicted_final = dummy_model_2.predict(features_test)\n",
    "\n",
    "smape_const_rougher = get_smape(target_rougher_test, dummy_predicted_rougher)\n",
    "smape_const_final = get_smape(target_final_test, dummy_predicted_final)\n",
    "\n",
    "final_smape_const = get_final_smape(smape_const_rougher, smape_const_final)\n",
    "\n",
    "print(f'Итоговый sMAPE - {final_smape_const}') "
   ]
  },
  {
   "cell_type": "markdown",
   "metadata": {},
   "source": [
    "<div class=\"alert alert-block alert-danger\">\n",
    "<b>Ошибка:</b> Для предсказания (в случае дамми модели) используется одна модель, а не разные.\n",
    "</div>"
   ]
  },
  {
   "cell_type": "markdown",
   "metadata": {},
   "source": [
    "<div class=\"alert alert-block alert-warning\">\n",
    "<b>Изменения:</b> Были внесены следующие изменения: вроде исправил ошибку. Теперь значение sMAPE более адекватное: 9.82, вместо 14\n",
    "</div>"
   ]
  },
  {
   "cell_type": "markdown",
   "metadata": {},
   "source": [
    "<div class=\"alert alert-block alert-success\">\n",
    "<b>Успех (ревью 2):</b> Верно, молодец!\n",
    "</div>"
   ]
  },
  {
   "cell_type": "markdown",
   "metadata": {},
   "source": [
    "**Вывод** \n",
    "\n",
    "Лучшей моделью оказалась RandomForestRegressor. Итоговый показатель sMAPE этой модели на тестовой выборке оказался - 9.4. Так же мы проверили адекватность этой модели сравнив её с константной. Показатель sMAPE константной модели оказался 14.8, что гораздо больше чем показатель нашей модели, что говорит о её адекватности."
   ]
  },
  {
   "cell_type": "markdown",
   "metadata": {},
   "source": [
    "## Вывод"
   ]
  },
  {
   "cell_type": "markdown",
   "metadata": {},
   "source": [
    "**В ходе исследования было сделано:** \n",
    "\n",
    "1. Загрузили данные, посмотрели общую информацию о датасетах\n",
    "2. Проверили, что эффективность обогащения рассчитана правильно\n",
    "3. Проанализировали признаки, недоступные в тестовой выборке\n",
    "4. Провели предобработку данных\n",
    "5. Посмотрели, как меняется концентрация металлов (Au, Ag, Pb) на различных этапах очистки\n",
    "6. Сравнили распределения размеров гранул сырья на обучающей и тестовой выборках\n",
    "7. Исследовали суммарную концентрацию всех веществ на разных стадиях: в сырье, в черновом и финальном концентратах\n",
    "8. Удалили аномалии\n",
    "9. Удалили ненужные признаки\n",
    "10. Написали функции для вычесления sMAPE и итогового sMAPE\n",
    "11. Обучили разные модели и проверили их кросс-валидацией\n",
    "12. Проверили лучшую модели на тестовой выборке\n",
    "13. Проверили модель на адекватность\n",
    "\n",
    "\n",
    "**Общий вывод**\n",
    "\n",
    "- Концентрация золота последовательно увеличивается на каждом этапе.\n",
    "- Концентрация серебра сначала, на этапе флотации, увеличивается, однако потом постепенно уменьшается.\n",
    "- Концентрация свинца на первых двух этапах увеличивается, однако позже остаётся неизменной.\n",
    "\n",
    "Распределения размеров гранул сырья на обучающей и тестовой выборках практически одинаковые\n",
    "\n",
    "Суммарная концентрация веществ после флотации увеличивается. Далее после первичной очистки концентрация немного уменьшается, однако финальная концентрация похожа на концентрацию после флотации, однако имеет меньший диапозон значений.\n",
    "\n",
    "Итоговый sMAPE на тестовой выборке - 9.4"
   ]
  },
  {
   "cell_type": "markdown",
   "metadata": {},
   "source": [
    "<div class=\"alert alert-block alert-success\">\n",
    "<b>Успех:</b> Приятно видеть вывод в конце проекта!\n",
    "</div>"
   ]
  },
  {
   "cell_type": "markdown",
   "metadata": {},
   "source": [
    "## Чек-лист готовности проекта"
   ]
  },
  {
   "cell_type": "markdown",
   "metadata": {},
   "source": [
    "- [x]  Jupyter Notebook открыт\n",
    "- [ ]  Весь код выполняется без ошибок\n",
    "- [ ]  Ячейки с кодом расположены в порядке выполнения\n",
    "- [ ]  Выполнен шаг 1: данные подготовлены\n",
    "    - [ ]  Проверена формула вычисления эффективности обогащения\n",
    "    - [ ]  Проанализированы признаки, недоступные в тестовой выборке\n",
    "    - [ ]  Проведена предобработка данных\n",
    "- [ ]  Выполнен шаг 2: данные проанализированы\n",
    "    - [ ]  Исследовано изменение концентрации элементов на каждом этапе\n",
    "    - [ ]  Проанализированы распределения размеров гранул на обучающей и тестовой выборках\n",
    "    - [ ]  Исследованы суммарные концентрации\n",
    "- [ ]  Выполнен шаг 3: построена модель прогнозирования\n",
    "    - [ ]  Написана функция для вычисления итогового *sMAPE*\n",
    "    - [ ]  Обучено и проверено несколько моделей\n",
    "    - [ ]  Выбрана лучшая модель, её качество проверено на тестовой выборке"
   ]
  }
 ],
 "metadata": {
  "ExecuteTimeLog": [
   {
    "duration": 1526,
    "start_time": "2022-12-27T09:37:27.046Z"
   },
   {
    "duration": 3517,
    "start_time": "2022-12-27T09:37:40.932Z"
   },
   {
    "duration": 24,
    "start_time": "2022-12-27T09:37:57.691Z"
   },
   {
    "duration": 21,
    "start_time": "2022-12-27T09:38:10.285Z"
   },
   {
    "duration": 237,
    "start_time": "2022-12-27T09:39:29.430Z"
   },
   {
    "duration": 1364,
    "start_time": "2022-12-27T09:53:21.942Z"
   },
   {
    "duration": 681,
    "start_time": "2022-12-27T09:53:23.308Z"
   },
   {
    "duration": 28,
    "start_time": "2022-12-27T09:53:23.991Z"
   },
   {
    "duration": 18,
    "start_time": "2022-12-27T09:53:24.021Z"
   },
   {
    "duration": 252,
    "start_time": "2022-12-27T09:53:24.041Z"
   },
   {
    "duration": 108,
    "start_time": "2022-12-27T09:54:27.371Z"
   },
   {
    "duration": 455,
    "start_time": "2022-12-27T09:54:36.009Z"
   },
   {
    "duration": 0,
    "start_time": "2022-12-27T09:54:36.466Z"
   },
   {
    "duration": 0,
    "start_time": "2022-12-27T09:54:36.468Z"
   },
   {
    "duration": 0,
    "start_time": "2022-12-27T09:54:36.469Z"
   },
   {
    "duration": 0,
    "start_time": "2022-12-27T09:54:36.470Z"
   },
   {
    "duration": 14896,
    "start_time": "2022-12-27T09:55:09.928Z"
   },
   {
    "duration": 3112,
    "start_time": "2022-12-27T09:55:30.885Z"
   },
   {
    "duration": 682,
    "start_time": "2022-12-27T09:55:33.999Z"
   },
   {
    "duration": 31,
    "start_time": "2022-12-27T09:55:34.683Z"
   },
   {
    "duration": 17,
    "start_time": "2022-12-27T09:55:34.715Z"
   },
   {
    "duration": 263,
    "start_time": "2022-12-27T09:55:34.734Z"
   },
   {
    "duration": 2048,
    "start_time": "2022-12-27T09:57:24.804Z"
   },
   {
    "duration": 696,
    "start_time": "2022-12-27T09:57:26.854Z"
   },
   {
    "duration": 30,
    "start_time": "2022-12-27T09:57:27.552Z"
   },
   {
    "duration": 25,
    "start_time": "2022-12-27T09:57:27.584Z"
   },
   {
    "duration": 256,
    "start_time": "2022-12-27T09:57:27.611Z"
   },
   {
    "duration": 28,
    "start_time": "2022-12-27T09:57:27.869Z"
   },
   {
    "duration": 15,
    "start_time": "2022-12-27T09:57:27.899Z"
   },
   {
    "duration": 142,
    "start_time": "2022-12-27T09:57:27.915Z"
   },
   {
    "duration": 1452,
    "start_time": "2022-12-27T09:57:33.559Z"
   },
   {
    "duration": 703,
    "start_time": "2022-12-27T09:57:35.013Z"
   },
   {
    "duration": 32,
    "start_time": "2022-12-27T09:57:35.718Z"
   },
   {
    "duration": 19,
    "start_time": "2022-12-27T09:57:35.753Z"
   },
   {
    "duration": 301,
    "start_time": "2022-12-27T09:57:35.774Z"
   },
   {
    "duration": 35,
    "start_time": "2022-12-27T09:57:36.077Z"
   },
   {
    "duration": 37,
    "start_time": "2022-12-27T09:57:36.114Z"
   },
   {
    "duration": 151,
    "start_time": "2022-12-27T09:57:36.153Z"
   },
   {
    "duration": 21,
    "start_time": "2022-12-27T09:57:58.671Z"
   },
   {
    "duration": 21,
    "start_time": "2022-12-27T09:58:06.134Z"
   },
   {
    "duration": 255,
    "start_time": "2022-12-27T09:58:13.494Z"
   },
   {
    "duration": 9,
    "start_time": "2022-12-27T10:10:12.427Z"
   },
   {
    "duration": 3,
    "start_time": "2022-12-27T10:12:34.694Z"
   },
   {
    "duration": 4,
    "start_time": "2022-12-27T10:12:45.007Z"
   },
   {
    "duration": 143,
    "start_time": "2022-12-27T10:12:45.981Z"
   },
   {
    "duration": 4,
    "start_time": "2022-12-27T10:13:07.351Z"
   },
   {
    "duration": 10,
    "start_time": "2022-12-27T10:13:08.424Z"
   },
   {
    "duration": 13,
    "start_time": "2022-12-27T10:19:02.727Z"
   },
   {
    "duration": 22,
    "start_time": "2022-12-27T10:22:38.736Z"
   },
   {
    "duration": 50,
    "start_time": "2022-12-29T03:50:54.840Z"
   },
   {
    "duration": 1542,
    "start_time": "2022-12-29T03:50:58.698Z"
   },
   {
    "duration": 2991,
    "start_time": "2022-12-29T03:51:00.242Z"
   },
   {
    "duration": 26,
    "start_time": "2022-12-29T03:51:03.235Z"
   },
   {
    "duration": 21,
    "start_time": "2022-12-29T03:51:03.263Z"
   },
   {
    "duration": 256,
    "start_time": "2022-12-29T03:51:03.286Z"
   },
   {
    "duration": 20,
    "start_time": "2022-12-29T03:51:03.544Z"
   },
   {
    "duration": 14,
    "start_time": "2022-12-29T03:51:03.566Z"
   },
   {
    "duration": 153,
    "start_time": "2022-12-29T03:51:03.582Z"
   },
   {
    "duration": 21,
    "start_time": "2022-12-29T03:51:03.737Z"
   },
   {
    "duration": 37,
    "start_time": "2022-12-29T03:51:03.761Z"
   },
   {
    "duration": 260,
    "start_time": "2022-12-29T03:51:03.799Z"
   },
   {
    "duration": 6,
    "start_time": "2022-12-29T03:51:04.061Z"
   },
   {
    "duration": 17,
    "start_time": "2022-12-29T03:51:04.069Z"
   },
   {
    "duration": 31,
    "start_time": "2022-12-29T03:51:04.087Z"
   },
   {
    "duration": 16,
    "start_time": "2022-12-29T03:51:04.120Z"
   },
   {
    "duration": 27,
    "start_time": "2022-12-29T03:51:04.138Z"
   },
   {
    "duration": 37,
    "start_time": "2022-12-29T03:51:04.166Z"
   },
   {
    "duration": 10,
    "start_time": "2022-12-29T03:51:04.205Z"
   },
   {
    "duration": 12,
    "start_time": "2022-12-29T03:51:04.217Z"
   },
   {
    "duration": 3503,
    "start_time": "2022-12-29T03:51:04.230Z"
   },
   {
    "duration": 3360,
    "start_time": "2022-12-29T03:53:17.195Z"
   },
   {
    "duration": 3142,
    "start_time": "2022-12-29T03:53:23.504Z"
   },
   {
    "duration": 3181,
    "start_time": "2022-12-29T03:53:37.424Z"
   },
   {
    "duration": 3171,
    "start_time": "2022-12-29T03:53:48.382Z"
   },
   {
    "duration": 3233,
    "start_time": "2022-12-29T03:53:54.864Z"
   },
   {
    "duration": 3262,
    "start_time": "2022-12-29T03:54:05.191Z"
   },
   {
    "duration": 3172,
    "start_time": "2022-12-29T03:54:26.446Z"
   },
   {
    "duration": 3171,
    "start_time": "2022-12-29T03:54:36.179Z"
   },
   {
    "duration": 3211,
    "start_time": "2022-12-29T03:54:45.110Z"
   },
   {
    "duration": 3139,
    "start_time": "2022-12-29T03:54:54.259Z"
   },
   {
    "duration": 3269,
    "start_time": "2022-12-29T03:55:01.188Z"
   },
   {
    "duration": 3273,
    "start_time": "2022-12-29T03:55:11.255Z"
   },
   {
    "duration": 127,
    "start_time": "2022-12-29T03:56:44.237Z"
   },
   {
    "duration": 2143,
    "start_time": "2022-12-29T03:56:54.995Z"
   },
   {
    "duration": 949,
    "start_time": "2022-12-29T03:56:57.140Z"
   },
   {
    "duration": 26,
    "start_time": "2022-12-29T03:56:58.090Z"
   },
   {
    "duration": 32,
    "start_time": "2022-12-29T03:56:58.119Z"
   },
   {
    "duration": 244,
    "start_time": "2022-12-29T03:56:58.153Z"
   },
   {
    "duration": 21,
    "start_time": "2022-12-29T03:56:58.399Z"
   },
   {
    "duration": 14,
    "start_time": "2022-12-29T03:56:58.434Z"
   },
   {
    "duration": 148,
    "start_time": "2022-12-29T03:56:58.449Z"
   },
   {
    "duration": 21,
    "start_time": "2022-12-29T03:56:58.598Z"
   },
   {
    "duration": 18,
    "start_time": "2022-12-29T03:56:58.635Z"
   },
   {
    "duration": 272,
    "start_time": "2022-12-29T03:56:58.654Z"
   },
   {
    "duration": 7,
    "start_time": "2022-12-29T03:56:58.934Z"
   },
   {
    "duration": 12,
    "start_time": "2022-12-29T03:56:58.943Z"
   },
   {
    "duration": 14,
    "start_time": "2022-12-29T03:56:58.957Z"
   },
   {
    "duration": 14,
    "start_time": "2022-12-29T03:56:58.973Z"
   },
   {
    "duration": 24,
    "start_time": "2022-12-29T03:56:58.989Z"
   },
   {
    "duration": 31,
    "start_time": "2022-12-29T03:56:59.014Z"
   },
   {
    "duration": 11,
    "start_time": "2022-12-29T03:56:59.047Z"
   },
   {
    "duration": 15,
    "start_time": "2022-12-29T03:56:59.060Z"
   },
   {
    "duration": 133,
    "start_time": "2022-12-29T03:56:59.077Z"
   },
   {
    "duration": 3310,
    "start_time": "2022-12-29T03:57:07.851Z"
   },
   {
    "duration": 3224,
    "start_time": "2022-12-29T03:57:43.719Z"
   },
   {
    "duration": 3250,
    "start_time": "2022-12-29T03:57:54.232Z"
   },
   {
    "duration": 3336,
    "start_time": "2022-12-29T03:58:01.730Z"
   },
   {
    "duration": 3236,
    "start_time": "2022-12-29T03:58:53.528Z"
   },
   {
    "duration": 1398,
    "start_time": "2022-12-29T03:59:15.365Z"
   },
   {
    "duration": 760,
    "start_time": "2022-12-29T03:59:16.765Z"
   },
   {
    "duration": 32,
    "start_time": "2022-12-29T03:59:17.527Z"
   },
   {
    "duration": 19,
    "start_time": "2022-12-29T03:59:17.561Z"
   },
   {
    "duration": 248,
    "start_time": "2022-12-29T03:59:17.581Z"
   },
   {
    "duration": 22,
    "start_time": "2022-12-29T03:59:17.831Z"
   },
   {
    "duration": 34,
    "start_time": "2022-12-29T03:59:17.854Z"
   },
   {
    "duration": 157,
    "start_time": "2022-12-29T03:59:17.890Z"
   },
   {
    "duration": 24,
    "start_time": "2022-12-29T03:59:18.049Z"
   },
   {
    "duration": 31,
    "start_time": "2022-12-29T03:59:18.075Z"
   },
   {
    "duration": 263,
    "start_time": "2022-12-29T03:59:18.108Z"
   },
   {
    "duration": 8,
    "start_time": "2022-12-29T03:59:18.372Z"
   },
   {
    "duration": 13,
    "start_time": "2022-12-29T03:59:18.381Z"
   },
   {
    "duration": 37,
    "start_time": "2022-12-29T03:59:18.396Z"
   },
   {
    "duration": 31,
    "start_time": "2022-12-29T03:59:18.435Z"
   },
   {
    "duration": 17,
    "start_time": "2022-12-29T03:59:18.467Z"
   },
   {
    "duration": 39,
    "start_time": "2022-12-29T03:59:18.485Z"
   },
   {
    "duration": 12,
    "start_time": "2022-12-29T03:59:18.526Z"
   },
   {
    "duration": 11,
    "start_time": "2022-12-29T03:59:18.539Z"
   },
   {
    "duration": 3290,
    "start_time": "2022-12-29T03:59:18.551Z"
   },
   {
    "duration": 1410,
    "start_time": "2022-12-29T04:00:08.790Z"
   },
   {
    "duration": 749,
    "start_time": "2022-12-29T04:00:10.202Z"
   },
   {
    "duration": 26,
    "start_time": "2022-12-29T04:00:10.952Z"
   },
   {
    "duration": 20,
    "start_time": "2022-12-29T04:00:10.980Z"
   },
   {
    "duration": 256,
    "start_time": "2022-12-29T04:00:11.001Z"
   },
   {
    "duration": 21,
    "start_time": "2022-12-29T04:00:11.258Z"
   },
   {
    "duration": 18,
    "start_time": "2022-12-29T04:00:11.280Z"
   },
   {
    "duration": 280,
    "start_time": "2022-12-29T04:00:11.300Z"
   },
   {
    "duration": 23,
    "start_time": "2022-12-29T04:00:11.634Z"
   },
   {
    "duration": 85,
    "start_time": "2022-12-29T04:00:11.659Z"
   },
   {
    "duration": 605,
    "start_time": "2022-12-29T04:00:11.745Z"
   },
   {
    "duration": 8,
    "start_time": "2022-12-29T04:00:12.352Z"
   },
   {
    "duration": 13,
    "start_time": "2022-12-29T04:00:12.362Z"
   },
   {
    "duration": 59,
    "start_time": "2022-12-29T04:00:12.377Z"
   },
   {
    "duration": 28,
    "start_time": "2022-12-29T04:00:12.438Z"
   },
   {
    "duration": 74,
    "start_time": "2022-12-29T04:00:12.467Z"
   },
   {
    "duration": 95,
    "start_time": "2022-12-29T04:00:12.544Z"
   },
   {
    "duration": 19,
    "start_time": "2022-12-29T04:00:12.642Z"
   },
   {
    "duration": 15,
    "start_time": "2022-12-29T04:00:12.663Z"
   },
   {
    "duration": 5013,
    "start_time": "2022-12-29T04:00:12.680Z"
   },
   {
    "duration": 1541,
    "start_time": "2022-12-29T04:00:46.834Z"
   },
   {
    "duration": 729,
    "start_time": "2022-12-29T04:00:48.377Z"
   },
   {
    "duration": 39,
    "start_time": "2022-12-29T04:00:49.108Z"
   },
   {
    "duration": 22,
    "start_time": "2022-12-29T04:00:49.149Z"
   },
   {
    "duration": 269,
    "start_time": "2022-12-29T04:00:49.173Z"
   },
   {
    "duration": 21,
    "start_time": "2022-12-29T04:00:49.444Z"
   },
   {
    "duration": 21,
    "start_time": "2022-12-29T04:00:49.467Z"
   },
   {
    "duration": 151,
    "start_time": "2022-12-29T04:00:49.489Z"
   },
   {
    "duration": 19,
    "start_time": "2022-12-29T04:00:49.642Z"
   },
   {
    "duration": 23,
    "start_time": "2022-12-29T04:00:49.664Z"
   },
   {
    "duration": 273,
    "start_time": "2022-12-29T04:00:49.689Z"
   },
   {
    "duration": 7,
    "start_time": "2022-12-29T04:00:49.964Z"
   },
   {
    "duration": 9,
    "start_time": "2022-12-29T04:00:49.973Z"
   },
   {
    "duration": 18,
    "start_time": "2022-12-29T04:00:49.984Z"
   },
   {
    "duration": 21,
    "start_time": "2022-12-29T04:00:50.004Z"
   },
   {
    "duration": 41,
    "start_time": "2022-12-29T04:00:50.026Z"
   },
   {
    "duration": 35,
    "start_time": "2022-12-29T04:00:50.069Z"
   },
   {
    "duration": 16,
    "start_time": "2022-12-29T04:00:50.106Z"
   },
   {
    "duration": 22,
    "start_time": "2022-12-29T04:00:50.123Z"
   },
   {
    "duration": 3362,
    "start_time": "2022-12-29T04:00:50.147Z"
   },
   {
    "duration": 1375,
    "start_time": "2022-12-29T04:02:34.118Z"
   },
   {
    "duration": 698,
    "start_time": "2022-12-29T04:02:35.495Z"
   },
   {
    "duration": 24,
    "start_time": "2022-12-29T04:02:36.194Z"
   },
   {
    "duration": 28,
    "start_time": "2022-12-29T04:02:36.220Z"
   },
   {
    "duration": 226,
    "start_time": "2022-12-29T04:02:36.250Z"
   },
   {
    "duration": 28,
    "start_time": "2022-12-29T04:02:36.478Z"
   },
   {
    "duration": 15,
    "start_time": "2022-12-29T04:02:36.508Z"
   },
   {
    "duration": 126,
    "start_time": "2022-12-29T04:02:36.536Z"
   },
   {
    "duration": 28,
    "start_time": "2022-12-29T04:02:36.664Z"
   },
   {
    "duration": 40,
    "start_time": "2022-12-29T04:02:36.695Z"
   },
   {
    "duration": 263,
    "start_time": "2022-12-29T04:02:36.738Z"
   },
   {
    "duration": 8,
    "start_time": "2022-12-29T04:02:37.002Z"
   },
   {
    "duration": 3,
    "start_time": "2022-12-29T04:02:37.012Z"
   },
   {
    "duration": 21,
    "start_time": "2022-12-29T04:02:37.017Z"
   },
   {
    "duration": 16,
    "start_time": "2022-12-29T04:02:37.040Z"
   },
   {
    "duration": 12,
    "start_time": "2022-12-29T04:02:37.057Z"
   },
   {
    "duration": 25,
    "start_time": "2022-12-29T04:02:37.071Z"
   },
   {
    "duration": 11,
    "start_time": "2022-12-29T04:02:37.097Z"
   },
   {
    "duration": 33,
    "start_time": "2022-12-29T04:02:37.110Z"
   },
   {
    "duration": 3372,
    "start_time": "2022-12-29T04:02:37.145Z"
   },
   {
    "duration": 3349,
    "start_time": "2022-12-29T04:04:02.779Z"
   },
   {
    "duration": 3391,
    "start_time": "2022-12-29T04:05:31.112Z"
   },
   {
    "duration": 3498,
    "start_time": "2022-12-29T04:06:08.421Z"
   },
   {
    "duration": 568,
    "start_time": "2022-12-29T04:09:48.671Z"
   },
   {
    "duration": 512,
    "start_time": "2022-12-29T04:10:00.449Z"
   },
   {
    "duration": 561,
    "start_time": "2022-12-29T04:10:06.669Z"
   },
   {
    "duration": 533,
    "start_time": "2022-12-29T04:10:17.237Z"
   },
   {
    "duration": 705,
    "start_time": "2022-12-29T04:10:21.509Z"
   },
   {
    "duration": 537,
    "start_time": "2022-12-29T04:10:39.106Z"
   },
   {
    "duration": 513,
    "start_time": "2022-12-29T04:10:44.720Z"
   },
   {
    "duration": 534,
    "start_time": "2022-12-29T04:10:52.923Z"
   },
   {
    "duration": 514,
    "start_time": "2022-12-29T04:10:59.306Z"
   },
   {
    "duration": 1328,
    "start_time": "2022-12-29T04:11:23.797Z"
   },
   {
    "duration": 737,
    "start_time": "2022-12-29T04:11:25.127Z"
   },
   {
    "duration": 27,
    "start_time": "2022-12-29T04:11:25.866Z"
   },
   {
    "duration": 19,
    "start_time": "2022-12-29T04:11:25.895Z"
   },
   {
    "duration": 279,
    "start_time": "2022-12-29T04:11:25.915Z"
   },
   {
    "duration": 20,
    "start_time": "2022-12-29T04:11:26.196Z"
   },
   {
    "duration": 25,
    "start_time": "2022-12-29T04:11:26.218Z"
   },
   {
    "duration": 129,
    "start_time": "2022-12-29T04:11:26.245Z"
   },
   {
    "duration": 19,
    "start_time": "2022-12-29T04:11:26.375Z"
   },
   {
    "duration": 18,
    "start_time": "2022-12-29T04:11:26.397Z"
   },
   {
    "duration": 254,
    "start_time": "2022-12-29T04:11:26.434Z"
   },
   {
    "duration": 10,
    "start_time": "2022-12-29T04:11:26.690Z"
   },
   {
    "duration": 4,
    "start_time": "2022-12-29T04:11:26.702Z"
   },
   {
    "duration": 27,
    "start_time": "2022-12-29T04:11:26.708Z"
   },
   {
    "duration": 14,
    "start_time": "2022-12-29T04:11:26.737Z"
   },
   {
    "duration": 25,
    "start_time": "2022-12-29T04:11:26.754Z"
   },
   {
    "duration": 46,
    "start_time": "2022-12-29T04:11:26.780Z"
   },
   {
    "duration": 11,
    "start_time": "2022-12-29T04:11:26.827Z"
   },
   {
    "duration": 11,
    "start_time": "2022-12-29T04:11:26.840Z"
   },
   {
    "duration": 3312,
    "start_time": "2022-12-29T04:11:26.853Z"
   },
   {
    "duration": 489,
    "start_time": "2022-12-29T04:11:30.167Z"
   },
   {
    "duration": 1373,
    "start_time": "2022-12-29T04:11:57.660Z"
   },
   {
    "duration": 727,
    "start_time": "2022-12-29T04:11:59.036Z"
   },
   {
    "duration": 29,
    "start_time": "2022-12-29T04:11:59.765Z"
   },
   {
    "duration": 30,
    "start_time": "2022-12-29T04:11:59.795Z"
   },
   {
    "duration": 240,
    "start_time": "2022-12-29T04:11:59.835Z"
   },
   {
    "duration": 20,
    "start_time": "2022-12-29T04:12:00.076Z"
   },
   {
    "duration": 46,
    "start_time": "2022-12-29T04:12:00.098Z"
   },
   {
    "duration": 160,
    "start_time": "2022-12-29T04:12:00.146Z"
   },
   {
    "duration": 19,
    "start_time": "2022-12-29T04:12:00.307Z"
   },
   {
    "duration": 49,
    "start_time": "2022-12-29T04:12:00.336Z"
   },
   {
    "duration": 296,
    "start_time": "2022-12-29T04:12:00.386Z"
   },
   {
    "duration": 8,
    "start_time": "2022-12-29T04:12:00.683Z"
   },
   {
    "duration": 39,
    "start_time": "2022-12-29T04:12:00.693Z"
   },
   {
    "duration": 47,
    "start_time": "2022-12-29T04:12:00.735Z"
   },
   {
    "duration": 63,
    "start_time": "2022-12-29T04:12:00.784Z"
   },
   {
    "duration": 47,
    "start_time": "2022-12-29T04:12:00.849Z"
   },
   {
    "duration": 91,
    "start_time": "2022-12-29T04:12:00.897Z"
   },
   {
    "duration": 35,
    "start_time": "2022-12-29T04:12:00.989Z"
   },
   {
    "duration": 42,
    "start_time": "2022-12-29T04:12:01.026Z"
   },
   {
    "duration": 3439,
    "start_time": "2022-12-29T04:12:01.070Z"
   },
   {
    "duration": 505,
    "start_time": "2022-12-29T04:12:04.511Z"
   },
   {
    "duration": 472,
    "start_time": "2022-12-29T04:14:24.055Z"
   },
   {
    "duration": 517,
    "start_time": "2022-12-29T04:14:36.302Z"
   },
   {
    "duration": 3374,
    "start_time": "2022-12-29T04:14:46.653Z"
   },
   {
    "duration": 3378,
    "start_time": "2022-12-29T04:14:59.986Z"
   },
   {
    "duration": 1410,
    "start_time": "2022-12-29T04:15:22.094Z"
   },
   {
    "duration": 687,
    "start_time": "2022-12-29T04:15:23.506Z"
   },
   {
    "duration": 24,
    "start_time": "2022-12-29T04:15:24.195Z"
   },
   {
    "duration": 27,
    "start_time": "2022-12-29T04:15:24.221Z"
   },
   {
    "duration": 227,
    "start_time": "2022-12-29T04:15:24.250Z"
   },
   {
    "duration": 19,
    "start_time": "2022-12-29T04:15:24.478Z"
   },
   {
    "duration": 11,
    "start_time": "2022-12-29T04:15:24.499Z"
   },
   {
    "duration": 133,
    "start_time": "2022-12-29T04:15:24.512Z"
   },
   {
    "duration": 19,
    "start_time": "2022-12-29T04:15:24.646Z"
   },
   {
    "duration": 18,
    "start_time": "2022-12-29T04:15:24.667Z"
   },
   {
    "duration": 255,
    "start_time": "2022-12-29T04:15:24.687Z"
   },
   {
    "duration": 8,
    "start_time": "2022-12-29T04:15:24.945Z"
   },
   {
    "duration": 7,
    "start_time": "2022-12-29T04:15:24.955Z"
   },
   {
    "duration": 8,
    "start_time": "2022-12-29T04:15:24.963Z"
   },
   {
    "duration": 12,
    "start_time": "2022-12-29T04:15:24.972Z"
   },
   {
    "duration": 16,
    "start_time": "2022-12-29T04:15:24.985Z"
   },
   {
    "duration": 39,
    "start_time": "2022-12-29T04:15:25.003Z"
   },
   {
    "duration": 10,
    "start_time": "2022-12-29T04:15:25.043Z"
   },
   {
    "duration": 11,
    "start_time": "2022-12-29T04:15:25.055Z"
   },
   {
    "duration": 3081,
    "start_time": "2022-12-29T04:15:25.068Z"
   },
   {
    "duration": 488,
    "start_time": "2022-12-29T04:15:28.151Z"
   },
   {
    "duration": 526,
    "start_time": "2022-12-29T04:28:39.600Z"
   },
   {
    "duration": 546,
    "start_time": "2022-12-29T04:28:48.984Z"
   },
   {
    "duration": 710,
    "start_time": "2022-12-29T04:32:31.571Z"
   },
   {
    "duration": 560,
    "start_time": "2022-12-29T04:32:42.270Z"
   },
   {
    "duration": 529,
    "start_time": "2022-12-29T04:32:59.660Z"
   },
   {
    "duration": 544,
    "start_time": "2022-12-29T04:33:05.271Z"
   },
   {
    "duration": 8,
    "start_time": "2022-12-29T04:46:48.674Z"
   },
   {
    "duration": 1525,
    "start_time": "2022-12-29T04:46:50.029Z"
   },
   {
    "duration": 32,
    "start_time": "2022-12-29T04:54:31.215Z"
   },
   {
    "duration": 5,
    "start_time": "2022-12-29T05:00:51.087Z"
   },
   {
    "duration": 4,
    "start_time": "2022-12-29T05:01:05.969Z"
   },
   {
    "duration": 17,
    "start_time": "2022-12-29T05:01:26.227Z"
   },
   {
    "duration": 12,
    "start_time": "2022-12-29T05:02:01.873Z"
   },
   {
    "duration": 5,
    "start_time": "2022-12-29T05:04:39.733Z"
   },
   {
    "duration": 12,
    "start_time": "2022-12-29T05:04:48.787Z"
   },
   {
    "duration": 5,
    "start_time": "2022-12-29T05:05:12.089Z"
   },
   {
    "duration": 5,
    "start_time": "2022-12-29T05:11:08.534Z"
   },
   {
    "duration": 4,
    "start_time": "2022-12-29T05:11:12.016Z"
   },
   {
    "duration": 1549,
    "start_time": "2022-12-29T05:11:16.609Z"
   },
   {
    "duration": 763,
    "start_time": "2022-12-29T05:11:18.160Z"
   },
   {
    "duration": 32,
    "start_time": "2022-12-29T05:11:18.924Z"
   },
   {
    "duration": 25,
    "start_time": "2022-12-29T05:11:18.959Z"
   },
   {
    "duration": 293,
    "start_time": "2022-12-29T05:11:18.986Z"
   },
   {
    "duration": 25,
    "start_time": "2022-12-29T05:11:19.281Z"
   },
   {
    "duration": 35,
    "start_time": "2022-12-29T05:11:19.308Z"
   },
   {
    "duration": 150,
    "start_time": "2022-12-29T05:11:19.345Z"
   },
   {
    "duration": 22,
    "start_time": "2022-12-29T05:11:19.496Z"
   },
   {
    "duration": 32,
    "start_time": "2022-12-29T05:11:19.521Z"
   },
   {
    "duration": 280,
    "start_time": "2022-12-29T05:11:19.555Z"
   },
   {
    "duration": 8,
    "start_time": "2022-12-29T05:11:19.837Z"
   },
   {
    "duration": 11,
    "start_time": "2022-12-29T05:11:19.846Z"
   },
   {
    "duration": 17,
    "start_time": "2022-12-29T05:11:19.859Z"
   },
   {
    "duration": 24,
    "start_time": "2022-12-29T05:11:19.878Z"
   },
   {
    "duration": 24,
    "start_time": "2022-12-29T05:11:19.904Z"
   },
   {
    "duration": 29,
    "start_time": "2022-12-29T05:11:19.930Z"
   },
   {
    "duration": 12,
    "start_time": "2022-12-29T05:11:19.961Z"
   },
   {
    "duration": 27,
    "start_time": "2022-12-29T05:11:19.974Z"
   },
   {
    "duration": 3518,
    "start_time": "2022-12-29T05:11:20.003Z"
   },
   {
    "duration": 563,
    "start_time": "2022-12-29T05:11:23.523Z"
   },
   {
    "duration": 10,
    "start_time": "2022-12-29T05:11:24.088Z"
   },
   {
    "duration": 1738,
    "start_time": "2022-12-29T05:11:24.100Z"
   },
   {
    "duration": 37,
    "start_time": "2022-12-29T05:11:25.840Z"
   },
   {
    "duration": 22,
    "start_time": "2022-12-29T05:11:25.879Z"
   },
   {
    "duration": 30,
    "start_time": "2022-12-29T05:11:25.903Z"
   },
   {
    "duration": 4,
    "start_time": "2022-12-29T05:13:18.629Z"
   },
   {
    "duration": 4,
    "start_time": "2022-12-29T05:15:00.430Z"
   },
   {
    "duration": 4,
    "start_time": "2022-12-29T05:15:02.009Z"
   },
   {
    "duration": 114,
    "start_time": "2022-12-29T05:22:08.898Z"
   },
   {
    "duration": 11,
    "start_time": "2022-12-29T05:25:04.513Z"
   },
   {
    "duration": 6,
    "start_time": "2022-12-29T05:25:08.776Z"
   },
   {
    "duration": 2693,
    "start_time": "2022-12-29T05:25:09.745Z"
   },
   {
    "duration": 2712,
    "start_time": "2022-12-29T05:25:28.027Z"
   },
   {
    "duration": 3077,
    "start_time": "2022-12-29T05:25:40.866Z"
   },
   {
    "duration": 2850,
    "start_time": "2022-12-29T05:27:05.091Z"
   },
   {
    "duration": 24971,
    "start_time": "2022-12-29T05:34:21.475Z"
   },
   {
    "duration": 27041,
    "start_time": "2022-12-29T05:35:34.574Z"
   },
   {
    "duration": 25327,
    "start_time": "2022-12-29T05:36:40.550Z"
   },
   {
    "duration": 25123,
    "start_time": "2022-12-29T05:37:51.586Z"
   },
   {
    "duration": 18,
    "start_time": "2022-12-29T05:51:55.235Z"
   },
   {
    "duration": 26810,
    "start_time": "2022-12-29T05:52:03.360Z"
   },
   {
    "duration": 830068,
    "start_time": "2022-12-29T05:56:41.998Z"
   },
   {
    "duration": 7,
    "start_time": "2022-12-29T06:22:27.988Z"
   },
   {
    "duration": 12,
    "start_time": "2022-12-29T06:26:10.983Z"
   },
   {
    "duration": 7536,
    "start_time": "2022-12-29T06:26:16.612Z"
   },
   {
    "duration": 7351,
    "start_time": "2022-12-29T06:26:57.193Z"
   },
   {
    "duration": 7029,
    "start_time": "2022-12-29T06:27:40.334Z"
   },
   {
    "duration": 7286,
    "start_time": "2022-12-29T06:28:54.072Z"
   },
   {
    "duration": 14936,
    "start_time": "2022-12-29T06:29:57.242Z"
   },
   {
    "duration": 15119,
    "start_time": "2022-12-29T06:30:42.667Z"
   },
   {
    "duration": 10,
    "start_time": "2022-12-29T06:35:47.975Z"
   },
   {
    "duration": 1499,
    "start_time": "2022-12-29T06:49:02.477Z"
   },
   {
    "duration": 798,
    "start_time": "2022-12-29T06:49:03.978Z"
   },
   {
    "duration": 26,
    "start_time": "2022-12-29T06:49:04.778Z"
   },
   {
    "duration": 45,
    "start_time": "2022-12-29T06:49:04.806Z"
   },
   {
    "duration": 252,
    "start_time": "2022-12-29T06:49:04.865Z"
   },
   {
    "duration": 35,
    "start_time": "2022-12-29T06:49:05.119Z"
   },
   {
    "duration": 25,
    "start_time": "2022-12-29T06:49:05.155Z"
   },
   {
    "duration": 148,
    "start_time": "2022-12-29T06:49:05.182Z"
   },
   {
    "duration": 30,
    "start_time": "2022-12-29T06:49:05.332Z"
   },
   {
    "duration": 22,
    "start_time": "2022-12-29T06:49:05.365Z"
   },
   {
    "duration": 306,
    "start_time": "2022-12-29T06:49:05.389Z"
   },
   {
    "duration": 8,
    "start_time": "2022-12-29T06:49:05.697Z"
   },
   {
    "duration": 16,
    "start_time": "2022-12-29T06:49:05.706Z"
   },
   {
    "duration": 46,
    "start_time": "2022-12-29T06:49:05.725Z"
   },
   {
    "duration": 28,
    "start_time": "2022-12-29T06:49:05.773Z"
   },
   {
    "duration": 25,
    "start_time": "2022-12-29T06:49:05.803Z"
   },
   {
    "duration": 49,
    "start_time": "2022-12-29T06:49:05.829Z"
   },
   {
    "duration": 13,
    "start_time": "2022-12-29T06:49:05.880Z"
   },
   {
    "duration": 28,
    "start_time": "2022-12-29T06:49:05.895Z"
   },
   {
    "duration": 3672,
    "start_time": "2022-12-29T06:49:05.925Z"
   },
   {
    "duration": 572,
    "start_time": "2022-12-29T06:49:09.599Z"
   },
   {
    "duration": 10,
    "start_time": "2022-12-29T06:49:10.173Z"
   },
   {
    "duration": 1710,
    "start_time": "2022-12-29T06:49:10.185Z"
   },
   {
    "duration": 45,
    "start_time": "2022-12-29T06:49:11.898Z"
   },
   {
    "duration": 7,
    "start_time": "2022-12-29T06:49:11.947Z"
   },
   {
    "duration": 10,
    "start_time": "2022-12-29T06:49:11.956Z"
   },
   {
    "duration": 12,
    "start_time": "2022-12-29T06:49:11.968Z"
   },
   {
    "duration": 14,
    "start_time": "2022-12-29T06:49:11.983Z"
   },
   {
    "duration": 4051,
    "start_time": "2022-12-29T06:49:11.999Z"
   },
   {
    "duration": 26402,
    "start_time": "2022-12-29T06:49:16.135Z"
   },
   {
    "duration": 845449,
    "start_time": "2022-12-29T06:49:42.545Z"
   },
   {
    "duration": 15203,
    "start_time": "2022-12-29T07:03:47.996Z"
   },
   {
    "duration": 9,
    "start_time": "2022-12-29T07:04:03.201Z"
   },
   {
    "duration": 47,
    "start_time": "2022-12-30T08:03:06.430Z"
   },
   {
    "duration": 1521,
    "start_time": "2022-12-30T08:03:16.293Z"
   },
   {
    "duration": 2961,
    "start_time": "2022-12-30T08:03:18.938Z"
   },
   {
    "duration": 13,
    "start_time": "2022-12-30T08:03:32.490Z"
   },
   {
    "duration": 22,
    "start_time": "2022-12-30T08:03:34.036Z"
   },
   {
    "duration": 10,
    "start_time": "2022-12-30T08:03:35.512Z"
   },
   {
    "duration": 11,
    "start_time": "2022-12-30T08:03:37.999Z"
   },
   {
    "duration": 474,
    "start_time": "2022-12-30T08:03:41.685Z"
   },
   {
    "duration": 476,
    "start_time": "2022-12-30T08:03:52.629Z"
   },
   {
    "duration": 850,
    "start_time": "2022-12-30T08:04:01.027Z"
   },
   {
    "duration": 997,
    "start_time": "2022-12-30T08:04:13.181Z"
   },
   {
    "duration": 3787,
    "start_time": "2022-12-30T08:04:24.045Z"
   },
   {
    "duration": 806,
    "start_time": "2022-12-30T08:04:52.538Z"
   },
   {
    "duration": 1125,
    "start_time": "2022-12-30T08:06:42.962Z"
   },
   {
    "duration": 946,
    "start_time": "2022-12-30T08:07:55.444Z"
   },
   {
    "duration": 910,
    "start_time": "2022-12-30T08:08:31.672Z"
   },
   {
    "duration": 1095,
    "start_time": "2022-12-30T08:09:54.503Z"
   },
   {
    "duration": 6960,
    "start_time": "2022-12-30T08:10:11.713Z"
   },
   {
    "duration": 7161,
    "start_time": "2022-12-30T08:10:38.259Z"
   },
   {
    "duration": 7489,
    "start_time": "2022-12-30T08:10:59.173Z"
   },
   {
    "duration": 2057,
    "start_time": "2022-12-30T08:11:21.487Z"
   },
   {
    "duration": 2468,
    "start_time": "2022-12-30T08:11:31.578Z"
   },
   {
    "duration": 902,
    "start_time": "2022-12-30T08:12:00.357Z"
   },
   {
    "duration": 332,
    "start_time": "2022-12-30T08:15:43.552Z"
   },
   {
    "duration": 1010,
    "start_time": "2022-12-30T08:15:53.073Z"
   },
   {
    "duration": 850,
    "start_time": "2022-12-30T08:16:44.624Z"
   },
   {
    "duration": 909,
    "start_time": "2022-12-30T08:16:56.872Z"
   },
   {
    "duration": 881,
    "start_time": "2022-12-30T08:17:25.158Z"
   },
   {
    "duration": 1001,
    "start_time": "2022-12-30T08:17:39.199Z"
   },
   {
    "duration": 16,
    "start_time": "2022-12-30T08:23:23.647Z"
   },
   {
    "duration": 10,
    "start_time": "2022-12-30T08:23:35.026Z"
   },
   {
    "duration": 40,
    "start_time": "2022-12-30T08:23:38.139Z"
   },
   {
    "duration": 9,
    "start_time": "2022-12-30T08:23:40.298Z"
   },
   {
    "duration": 752,
    "start_time": "2022-12-30T08:24:00.494Z"
   },
   {
    "duration": 1342,
    "start_time": "2022-12-30T08:24:11.500Z"
   },
   {
    "duration": 629,
    "start_time": "2022-12-30T08:24:12.844Z"
   },
   {
    "duration": 26,
    "start_time": "2022-12-30T08:24:13.475Z"
   },
   {
    "duration": 18,
    "start_time": "2022-12-30T08:24:13.503Z"
   },
   {
    "duration": 225,
    "start_time": "2022-12-30T08:24:13.522Z"
   },
   {
    "duration": 19,
    "start_time": "2022-12-30T08:24:13.748Z"
   },
   {
    "duration": 29,
    "start_time": "2022-12-30T08:24:13.769Z"
   },
   {
    "duration": 157,
    "start_time": "2022-12-30T08:24:13.800Z"
   },
   {
    "duration": 21,
    "start_time": "2022-12-30T08:24:13.959Z"
   },
   {
    "duration": 26,
    "start_time": "2022-12-30T08:24:13.983Z"
   },
   {
    "duration": 248,
    "start_time": "2022-12-30T08:24:14.011Z"
   },
   {
    "duration": 7,
    "start_time": "2022-12-30T08:24:14.260Z"
   },
   {
    "duration": 3,
    "start_time": "2022-12-30T08:24:14.268Z"
   },
   {
    "duration": 13,
    "start_time": "2022-12-30T08:24:14.272Z"
   },
   {
    "duration": 16,
    "start_time": "2022-12-30T08:24:14.286Z"
   },
   {
    "duration": 12,
    "start_time": "2022-12-30T08:24:14.303Z"
   },
   {
    "duration": 25,
    "start_time": "2022-12-30T08:24:14.317Z"
   },
   {
    "duration": 9,
    "start_time": "2022-12-30T08:24:14.344Z"
   },
   {
    "duration": 43,
    "start_time": "2022-12-30T08:24:14.355Z"
   },
   {
    "duration": 3329,
    "start_time": "2022-12-30T08:24:14.400Z"
   },
   {
    "duration": 854,
    "start_time": "2022-12-30T08:24:17.731Z"
   },
   {
    "duration": 14,
    "start_time": "2022-12-30T08:24:18.587Z"
   },
   {
    "duration": 1539,
    "start_time": "2022-12-30T08:24:18.603Z"
   },
   {
    "duration": 33,
    "start_time": "2022-12-30T08:24:20.143Z"
   },
   {
    "duration": 4,
    "start_time": "2022-12-30T08:24:20.178Z"
   },
   {
    "duration": 23,
    "start_time": "2022-12-30T08:24:20.184Z"
   },
   {
    "duration": 13,
    "start_time": "2022-12-30T08:24:20.209Z"
   },
   {
    "duration": 26,
    "start_time": "2022-12-30T08:24:20.225Z"
   },
   {
    "duration": 2443,
    "start_time": "2022-12-30T08:24:20.252Z"
   },
   {
    "duration": 21976,
    "start_time": "2022-12-30T08:24:22.697Z"
   },
   {
    "duration": 701612,
    "start_time": "2022-12-30T08:24:44.675Z"
   },
   {
    "duration": 12335,
    "start_time": "2022-12-30T08:36:26.288Z"
   },
   {
    "duration": 9,
    "start_time": "2022-12-30T08:36:38.625Z"
   },
   {
    "duration": 9,
    "start_time": "2022-12-30T08:52:32.283Z"
   }
  ],
  "kernelspec": {
   "display_name": "Python 3 (ipykernel)",
   "language": "python",
   "name": "python3"
  },
  "language_info": {
   "codemirror_mode": {
    "name": "ipython",
    "version": 3
   },
   "file_extension": ".py",
   "mimetype": "text/x-python",
   "name": "python",
   "nbconvert_exporter": "python",
   "pygments_lexer": "ipython3",
   "version": "3.9.5"
  },
  "toc": {
   "base_numbering": 1,
   "nav_menu": {},
   "number_sections": true,
   "sideBar": true,
   "skip_h1_title": true,
   "title_cell": "Содержание",
   "title_sidebar": "Contents",
   "toc_cell": true,
   "toc_position": {
    "height": "calc(100% - 180px)",
    "left": "10px",
    "top": "150px",
    "width": "358.188px"
   },
   "toc_section_display": true,
   "toc_window_display": false
  }
 },
 "nbformat": 4,
 "nbformat_minor": 2
}
