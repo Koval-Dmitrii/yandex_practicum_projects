{
 "cells": [
  {
   "cell_type": "markdown",
   "metadata": {},
   "source": [
    "# Исследование объявлений о продаже квартир\n",
    "\n",
    "В вашем распоряжении данные сервиса Яндекс.Недвижимость — архив объявлений о продаже квартир в Санкт-Петербурге и соседних населённых пунктов за несколько лет. Нужно научиться определять рыночную стоимость объектов недвижимости. Ваша задача — установить параметры. Это позволит построить автоматизированную систему: она отследит аномалии и мошенническую деятельность. \n",
    "\n",
    "По каждой квартире на продажу доступны два вида данных. Первые вписаны пользователем, вторые — получены автоматически на основе картографических данных. Например, расстояние до центра, аэропорта, ближайшего парка и водоёма. "
   ]
  },
  {
   "cell_type": "markdown",
   "metadata": {},
   "source": [
    "### Откройте файл с данными и изучите общую информацию. "
   ]
  },
  {
   "cell_type": "markdown",
   "metadata": {},
   "source": [
    "#### Импортирую библиотеку Pandas и считаю данные из файла"
   ]
  },
  {
   "cell_type": "code",
   "execution_count": 1,
   "metadata": {},
   "outputs": [],
   "source": [
    "import pandas as pd\n",
    "%matplotlib inline\n",
    "import matplotlib.pyplot as plt"
   ]
  },
  {
   "cell_type": "code",
   "execution_count": 2,
   "metadata": {},
   "outputs": [],
   "source": [
    "try:\n",
    "    data = pd.read_csv('/datasets/real_estate_data.csv', sep='\\t')\n",
    "except:\n",
    "    data = pd.read_csv('https://code.s3.yandex.net/datasets/real_estate_data.csv', sep='\\t')"
   ]
  },
  {
   "cell_type": "markdown",
   "metadata": {},
   "source": [
    "#### Выведу первые 20 строк датафрейма"
   ]
  },
  {
   "cell_type": "code",
   "execution_count": 3,
   "metadata": {},
   "outputs": [
    {
     "data": {
      "text/html": [
       "<div>\n",
       "<style scoped>\n",
       "    .dataframe tbody tr th:only-of-type {\n",
       "        vertical-align: middle;\n",
       "    }\n",
       "\n",
       "    .dataframe tbody tr th {\n",
       "        vertical-align: top;\n",
       "    }\n",
       "\n",
       "    .dataframe thead th {\n",
       "        text-align: right;\n",
       "    }\n",
       "</style>\n",
       "<table border=\"1\" class=\"dataframe\">\n",
       "  <thead>\n",
       "    <tr style=\"text-align: right;\">\n",
       "      <th></th>\n",
       "      <th>total_images</th>\n",
       "      <th>last_price</th>\n",
       "      <th>total_area</th>\n",
       "      <th>first_day_exposition</th>\n",
       "      <th>rooms</th>\n",
       "      <th>ceiling_height</th>\n",
       "      <th>floors_total</th>\n",
       "      <th>living_area</th>\n",
       "      <th>floor</th>\n",
       "      <th>is_apartment</th>\n",
       "      <th>studio</th>\n",
       "      <th>open_plan</th>\n",
       "      <th>kitchen_area</th>\n",
       "      <th>balcony</th>\n",
       "      <th>locality_name</th>\n",
       "      <th>airports_nearest</th>\n",
       "      <th>cityCenters_nearest</th>\n",
       "      <th>parks_around3000</th>\n",
       "      <th>parks_nearest</th>\n",
       "      <th>ponds_around3000</th>\n",
       "      <th>ponds_nearest</th>\n",
       "      <th>days_exposition</th>\n",
       "    </tr>\n",
       "  </thead>\n",
       "  <tbody>\n",
       "    <tr>\n",
       "      <th>0</th>\n",
       "      <td>20</td>\n",
       "      <td>13000000.0</td>\n",
       "      <td>108.00</td>\n",
       "      <td>2019-03-07T00:00:00</td>\n",
       "      <td>3</td>\n",
       "      <td>2.70</td>\n",
       "      <td>16.0</td>\n",
       "      <td>51.00</td>\n",
       "      <td>8</td>\n",
       "      <td>NaN</td>\n",
       "      <td>False</td>\n",
       "      <td>False</td>\n",
       "      <td>25.00</td>\n",
       "      <td>NaN</td>\n",
       "      <td>Санкт-Петербург</td>\n",
       "      <td>18863.0</td>\n",
       "      <td>16028.0</td>\n",
       "      <td>1.0</td>\n",
       "      <td>482.0</td>\n",
       "      <td>2.0</td>\n",
       "      <td>755.0</td>\n",
       "      <td>NaN</td>\n",
       "    </tr>\n",
       "    <tr>\n",
       "      <th>1</th>\n",
       "      <td>7</td>\n",
       "      <td>3350000.0</td>\n",
       "      <td>40.40</td>\n",
       "      <td>2018-12-04T00:00:00</td>\n",
       "      <td>1</td>\n",
       "      <td>NaN</td>\n",
       "      <td>11.0</td>\n",
       "      <td>18.60</td>\n",
       "      <td>1</td>\n",
       "      <td>NaN</td>\n",
       "      <td>False</td>\n",
       "      <td>False</td>\n",
       "      <td>11.00</td>\n",
       "      <td>2.0</td>\n",
       "      <td>посёлок Шушары</td>\n",
       "      <td>12817.0</td>\n",
       "      <td>18603.0</td>\n",
       "      <td>0.0</td>\n",
       "      <td>NaN</td>\n",
       "      <td>0.0</td>\n",
       "      <td>NaN</td>\n",
       "      <td>81.0</td>\n",
       "    </tr>\n",
       "    <tr>\n",
       "      <th>2</th>\n",
       "      <td>10</td>\n",
       "      <td>5196000.0</td>\n",
       "      <td>56.00</td>\n",
       "      <td>2015-08-20T00:00:00</td>\n",
       "      <td>2</td>\n",
       "      <td>NaN</td>\n",
       "      <td>5.0</td>\n",
       "      <td>34.30</td>\n",
       "      <td>4</td>\n",
       "      <td>NaN</td>\n",
       "      <td>False</td>\n",
       "      <td>False</td>\n",
       "      <td>8.30</td>\n",
       "      <td>0.0</td>\n",
       "      <td>Санкт-Петербург</td>\n",
       "      <td>21741.0</td>\n",
       "      <td>13933.0</td>\n",
       "      <td>1.0</td>\n",
       "      <td>90.0</td>\n",
       "      <td>2.0</td>\n",
       "      <td>574.0</td>\n",
       "      <td>558.0</td>\n",
       "    </tr>\n",
       "    <tr>\n",
       "      <th>3</th>\n",
       "      <td>0</td>\n",
       "      <td>64900000.0</td>\n",
       "      <td>159.00</td>\n",
       "      <td>2015-07-24T00:00:00</td>\n",
       "      <td>3</td>\n",
       "      <td>NaN</td>\n",
       "      <td>14.0</td>\n",
       "      <td>NaN</td>\n",
       "      <td>9</td>\n",
       "      <td>NaN</td>\n",
       "      <td>False</td>\n",
       "      <td>False</td>\n",
       "      <td>NaN</td>\n",
       "      <td>0.0</td>\n",
       "      <td>Санкт-Петербург</td>\n",
       "      <td>28098.0</td>\n",
       "      <td>6800.0</td>\n",
       "      <td>2.0</td>\n",
       "      <td>84.0</td>\n",
       "      <td>3.0</td>\n",
       "      <td>234.0</td>\n",
       "      <td>424.0</td>\n",
       "    </tr>\n",
       "    <tr>\n",
       "      <th>4</th>\n",
       "      <td>2</td>\n",
       "      <td>10000000.0</td>\n",
       "      <td>100.00</td>\n",
       "      <td>2018-06-19T00:00:00</td>\n",
       "      <td>2</td>\n",
       "      <td>3.03</td>\n",
       "      <td>14.0</td>\n",
       "      <td>32.00</td>\n",
       "      <td>13</td>\n",
       "      <td>NaN</td>\n",
       "      <td>False</td>\n",
       "      <td>False</td>\n",
       "      <td>41.00</td>\n",
       "      <td>NaN</td>\n",
       "      <td>Санкт-Петербург</td>\n",
       "      <td>31856.0</td>\n",
       "      <td>8098.0</td>\n",
       "      <td>2.0</td>\n",
       "      <td>112.0</td>\n",
       "      <td>1.0</td>\n",
       "      <td>48.0</td>\n",
       "      <td>121.0</td>\n",
       "    </tr>\n",
       "    <tr>\n",
       "      <th>5</th>\n",
       "      <td>10</td>\n",
       "      <td>2890000.0</td>\n",
       "      <td>30.40</td>\n",
       "      <td>2018-09-10T00:00:00</td>\n",
       "      <td>1</td>\n",
       "      <td>NaN</td>\n",
       "      <td>12.0</td>\n",
       "      <td>14.40</td>\n",
       "      <td>5</td>\n",
       "      <td>NaN</td>\n",
       "      <td>False</td>\n",
       "      <td>False</td>\n",
       "      <td>9.10</td>\n",
       "      <td>NaN</td>\n",
       "      <td>городской посёлок Янино-1</td>\n",
       "      <td>NaN</td>\n",
       "      <td>NaN</td>\n",
       "      <td>NaN</td>\n",
       "      <td>NaN</td>\n",
       "      <td>NaN</td>\n",
       "      <td>NaN</td>\n",
       "      <td>55.0</td>\n",
       "    </tr>\n",
       "    <tr>\n",
       "      <th>6</th>\n",
       "      <td>6</td>\n",
       "      <td>3700000.0</td>\n",
       "      <td>37.30</td>\n",
       "      <td>2017-11-02T00:00:00</td>\n",
       "      <td>1</td>\n",
       "      <td>NaN</td>\n",
       "      <td>26.0</td>\n",
       "      <td>10.60</td>\n",
       "      <td>6</td>\n",
       "      <td>NaN</td>\n",
       "      <td>False</td>\n",
       "      <td>False</td>\n",
       "      <td>14.40</td>\n",
       "      <td>1.0</td>\n",
       "      <td>посёлок Парголово</td>\n",
       "      <td>52996.0</td>\n",
       "      <td>19143.0</td>\n",
       "      <td>0.0</td>\n",
       "      <td>NaN</td>\n",
       "      <td>0.0</td>\n",
       "      <td>NaN</td>\n",
       "      <td>155.0</td>\n",
       "    </tr>\n",
       "    <tr>\n",
       "      <th>7</th>\n",
       "      <td>5</td>\n",
       "      <td>7915000.0</td>\n",
       "      <td>71.60</td>\n",
       "      <td>2019-04-18T00:00:00</td>\n",
       "      <td>2</td>\n",
       "      <td>NaN</td>\n",
       "      <td>24.0</td>\n",
       "      <td>NaN</td>\n",
       "      <td>22</td>\n",
       "      <td>NaN</td>\n",
       "      <td>False</td>\n",
       "      <td>False</td>\n",
       "      <td>18.90</td>\n",
       "      <td>2.0</td>\n",
       "      <td>Санкт-Петербург</td>\n",
       "      <td>23982.0</td>\n",
       "      <td>11634.0</td>\n",
       "      <td>0.0</td>\n",
       "      <td>NaN</td>\n",
       "      <td>0.0</td>\n",
       "      <td>NaN</td>\n",
       "      <td>NaN</td>\n",
       "    </tr>\n",
       "    <tr>\n",
       "      <th>8</th>\n",
       "      <td>20</td>\n",
       "      <td>2900000.0</td>\n",
       "      <td>33.16</td>\n",
       "      <td>2018-05-23T00:00:00</td>\n",
       "      <td>1</td>\n",
       "      <td>NaN</td>\n",
       "      <td>27.0</td>\n",
       "      <td>15.43</td>\n",
       "      <td>26</td>\n",
       "      <td>NaN</td>\n",
       "      <td>False</td>\n",
       "      <td>False</td>\n",
       "      <td>8.81</td>\n",
       "      <td>NaN</td>\n",
       "      <td>посёлок Мурино</td>\n",
       "      <td>NaN</td>\n",
       "      <td>NaN</td>\n",
       "      <td>NaN</td>\n",
       "      <td>NaN</td>\n",
       "      <td>NaN</td>\n",
       "      <td>NaN</td>\n",
       "      <td>189.0</td>\n",
       "    </tr>\n",
       "    <tr>\n",
       "      <th>9</th>\n",
       "      <td>18</td>\n",
       "      <td>5400000.0</td>\n",
       "      <td>61.00</td>\n",
       "      <td>2017-02-26T00:00:00</td>\n",
       "      <td>3</td>\n",
       "      <td>2.50</td>\n",
       "      <td>9.0</td>\n",
       "      <td>43.60</td>\n",
       "      <td>7</td>\n",
       "      <td>NaN</td>\n",
       "      <td>False</td>\n",
       "      <td>False</td>\n",
       "      <td>6.50</td>\n",
       "      <td>2.0</td>\n",
       "      <td>Санкт-Петербург</td>\n",
       "      <td>50898.0</td>\n",
       "      <td>15008.0</td>\n",
       "      <td>0.0</td>\n",
       "      <td>NaN</td>\n",
       "      <td>0.0</td>\n",
       "      <td>NaN</td>\n",
       "      <td>289.0</td>\n",
       "    </tr>\n",
       "    <tr>\n",
       "      <th>10</th>\n",
       "      <td>5</td>\n",
       "      <td>5050000.0</td>\n",
       "      <td>39.60</td>\n",
       "      <td>2017-11-16T00:00:00</td>\n",
       "      <td>1</td>\n",
       "      <td>2.67</td>\n",
       "      <td>12.0</td>\n",
       "      <td>20.30</td>\n",
       "      <td>3</td>\n",
       "      <td>NaN</td>\n",
       "      <td>False</td>\n",
       "      <td>False</td>\n",
       "      <td>8.50</td>\n",
       "      <td>NaN</td>\n",
       "      <td>Санкт-Петербург</td>\n",
       "      <td>38357.0</td>\n",
       "      <td>13878.0</td>\n",
       "      <td>1.0</td>\n",
       "      <td>310.0</td>\n",
       "      <td>2.0</td>\n",
       "      <td>553.0</td>\n",
       "      <td>137.0</td>\n",
       "    </tr>\n",
       "    <tr>\n",
       "      <th>11</th>\n",
       "      <td>9</td>\n",
       "      <td>3300000.0</td>\n",
       "      <td>44.00</td>\n",
       "      <td>2018-08-27T00:00:00</td>\n",
       "      <td>2</td>\n",
       "      <td>NaN</td>\n",
       "      <td>5.0</td>\n",
       "      <td>31.00</td>\n",
       "      <td>4</td>\n",
       "      <td>False</td>\n",
       "      <td>False</td>\n",
       "      <td>False</td>\n",
       "      <td>6.00</td>\n",
       "      <td>1.0</td>\n",
       "      <td>Ломоносов</td>\n",
       "      <td>48252.0</td>\n",
       "      <td>51677.0</td>\n",
       "      <td>0.0</td>\n",
       "      <td>NaN</td>\n",
       "      <td>0.0</td>\n",
       "      <td>NaN</td>\n",
       "      <td>7.0</td>\n",
       "    </tr>\n",
       "    <tr>\n",
       "      <th>12</th>\n",
       "      <td>10</td>\n",
       "      <td>3890000.0</td>\n",
       "      <td>54.00</td>\n",
       "      <td>2016-06-30T00:00:00</td>\n",
       "      <td>2</td>\n",
       "      <td>NaN</td>\n",
       "      <td>5.0</td>\n",
       "      <td>30.00</td>\n",
       "      <td>5</td>\n",
       "      <td>NaN</td>\n",
       "      <td>False</td>\n",
       "      <td>False</td>\n",
       "      <td>9.00</td>\n",
       "      <td>0.0</td>\n",
       "      <td>Сертолово</td>\n",
       "      <td>NaN</td>\n",
       "      <td>NaN</td>\n",
       "      <td>NaN</td>\n",
       "      <td>NaN</td>\n",
       "      <td>NaN</td>\n",
       "      <td>NaN</td>\n",
       "      <td>90.0</td>\n",
       "    </tr>\n",
       "    <tr>\n",
       "      <th>13</th>\n",
       "      <td>20</td>\n",
       "      <td>3550000.0</td>\n",
       "      <td>42.80</td>\n",
       "      <td>2017-07-01T00:00:00</td>\n",
       "      <td>2</td>\n",
       "      <td>2.56</td>\n",
       "      <td>5.0</td>\n",
       "      <td>27.00</td>\n",
       "      <td>5</td>\n",
       "      <td>NaN</td>\n",
       "      <td>False</td>\n",
       "      <td>False</td>\n",
       "      <td>5.20</td>\n",
       "      <td>1.0</td>\n",
       "      <td>Петергоф</td>\n",
       "      <td>37868.0</td>\n",
       "      <td>33058.0</td>\n",
       "      <td>1.0</td>\n",
       "      <td>294.0</td>\n",
       "      <td>3.0</td>\n",
       "      <td>298.0</td>\n",
       "      <td>366.0</td>\n",
       "    </tr>\n",
       "    <tr>\n",
       "      <th>14</th>\n",
       "      <td>1</td>\n",
       "      <td>4400000.0</td>\n",
       "      <td>36.00</td>\n",
       "      <td>2016-06-23T00:00:00</td>\n",
       "      <td>1</td>\n",
       "      <td>NaN</td>\n",
       "      <td>6.0</td>\n",
       "      <td>17.00</td>\n",
       "      <td>1</td>\n",
       "      <td>NaN</td>\n",
       "      <td>False</td>\n",
       "      <td>False</td>\n",
       "      <td>8.00</td>\n",
       "      <td>0.0</td>\n",
       "      <td>Пушкин</td>\n",
       "      <td>20782.0</td>\n",
       "      <td>30759.0</td>\n",
       "      <td>0.0</td>\n",
       "      <td>NaN</td>\n",
       "      <td>1.0</td>\n",
       "      <td>96.0</td>\n",
       "      <td>203.0</td>\n",
       "    </tr>\n",
       "    <tr>\n",
       "      <th>15</th>\n",
       "      <td>16</td>\n",
       "      <td>4650000.0</td>\n",
       "      <td>39.00</td>\n",
       "      <td>2017-11-18T00:00:00</td>\n",
       "      <td>1</td>\n",
       "      <td>NaN</td>\n",
       "      <td>14.0</td>\n",
       "      <td>20.50</td>\n",
       "      <td>5</td>\n",
       "      <td>NaN</td>\n",
       "      <td>False</td>\n",
       "      <td>False</td>\n",
       "      <td>7.60</td>\n",
       "      <td>1.0</td>\n",
       "      <td>Санкт-Петербург</td>\n",
       "      <td>12900.0</td>\n",
       "      <td>14259.0</td>\n",
       "      <td>1.0</td>\n",
       "      <td>590.0</td>\n",
       "      <td>1.0</td>\n",
       "      <td>296.0</td>\n",
       "      <td>19.0</td>\n",
       "    </tr>\n",
       "    <tr>\n",
       "      <th>16</th>\n",
       "      <td>11</td>\n",
       "      <td>6700000.0</td>\n",
       "      <td>82.00</td>\n",
       "      <td>2017-11-23T00:00:00</td>\n",
       "      <td>3</td>\n",
       "      <td>3.05</td>\n",
       "      <td>5.0</td>\n",
       "      <td>55.60</td>\n",
       "      <td>1</td>\n",
       "      <td>NaN</td>\n",
       "      <td>False</td>\n",
       "      <td>False</td>\n",
       "      <td>9.00</td>\n",
       "      <td>NaN</td>\n",
       "      <td>Санкт-Петербург</td>\n",
       "      <td>22108.0</td>\n",
       "      <td>10698.0</td>\n",
       "      <td>3.0</td>\n",
       "      <td>420.0</td>\n",
       "      <td>0.0</td>\n",
       "      <td>NaN</td>\n",
       "      <td>397.0</td>\n",
       "    </tr>\n",
       "    <tr>\n",
       "      <th>17</th>\n",
       "      <td>6</td>\n",
       "      <td>4180000.0</td>\n",
       "      <td>36.00</td>\n",
       "      <td>2016-09-09T00:00:00</td>\n",
       "      <td>1</td>\n",
       "      <td>NaN</td>\n",
       "      <td>17.0</td>\n",
       "      <td>16.50</td>\n",
       "      <td>7</td>\n",
       "      <td>NaN</td>\n",
       "      <td>False</td>\n",
       "      <td>False</td>\n",
       "      <td>11.00</td>\n",
       "      <td>1.0</td>\n",
       "      <td>Санкт-Петербург</td>\n",
       "      <td>33564.0</td>\n",
       "      <td>14616.0</td>\n",
       "      <td>0.0</td>\n",
       "      <td>NaN</td>\n",
       "      <td>1.0</td>\n",
       "      <td>859.0</td>\n",
       "      <td>571.0</td>\n",
       "    </tr>\n",
       "    <tr>\n",
       "      <th>18</th>\n",
       "      <td>8</td>\n",
       "      <td>3250000.0</td>\n",
       "      <td>31.00</td>\n",
       "      <td>2017-01-27T00:00:00</td>\n",
       "      <td>1</td>\n",
       "      <td>2.50</td>\n",
       "      <td>5.0</td>\n",
       "      <td>19.40</td>\n",
       "      <td>2</td>\n",
       "      <td>NaN</td>\n",
       "      <td>False</td>\n",
       "      <td>False</td>\n",
       "      <td>5.60</td>\n",
       "      <td>1.0</td>\n",
       "      <td>Санкт-Петербург</td>\n",
       "      <td>44060.0</td>\n",
       "      <td>10842.0</td>\n",
       "      <td>1.0</td>\n",
       "      <td>759.0</td>\n",
       "      <td>0.0</td>\n",
       "      <td>NaN</td>\n",
       "      <td>168.0</td>\n",
       "    </tr>\n",
       "    <tr>\n",
       "      <th>19</th>\n",
       "      <td>16</td>\n",
       "      <td>14200000.0</td>\n",
       "      <td>121.00</td>\n",
       "      <td>2019-01-09T00:00:00</td>\n",
       "      <td>3</td>\n",
       "      <td>2.75</td>\n",
       "      <td>16.0</td>\n",
       "      <td>76.00</td>\n",
       "      <td>8</td>\n",
       "      <td>NaN</td>\n",
       "      <td>False</td>\n",
       "      <td>False</td>\n",
       "      <td>12.00</td>\n",
       "      <td>NaN</td>\n",
       "      <td>Санкт-Петербург</td>\n",
       "      <td>38900.0</td>\n",
       "      <td>12843.0</td>\n",
       "      <td>0.0</td>\n",
       "      <td>NaN</td>\n",
       "      <td>0.0</td>\n",
       "      <td>NaN</td>\n",
       "      <td>97.0</td>\n",
       "    </tr>\n",
       "  </tbody>\n",
       "</table>\n",
       "</div>"
      ],
      "text/plain": [
       "    total_images  last_price  total_area first_day_exposition  rooms  \\\n",
       "0             20  13000000.0      108.00  2019-03-07T00:00:00      3   \n",
       "1              7   3350000.0       40.40  2018-12-04T00:00:00      1   \n",
       "2             10   5196000.0       56.00  2015-08-20T00:00:00      2   \n",
       "3              0  64900000.0      159.00  2015-07-24T00:00:00      3   \n",
       "4              2  10000000.0      100.00  2018-06-19T00:00:00      2   \n",
       "5             10   2890000.0       30.40  2018-09-10T00:00:00      1   \n",
       "6              6   3700000.0       37.30  2017-11-02T00:00:00      1   \n",
       "7              5   7915000.0       71.60  2019-04-18T00:00:00      2   \n",
       "8             20   2900000.0       33.16  2018-05-23T00:00:00      1   \n",
       "9             18   5400000.0       61.00  2017-02-26T00:00:00      3   \n",
       "10             5   5050000.0       39.60  2017-11-16T00:00:00      1   \n",
       "11             9   3300000.0       44.00  2018-08-27T00:00:00      2   \n",
       "12            10   3890000.0       54.00  2016-06-30T00:00:00      2   \n",
       "13            20   3550000.0       42.80  2017-07-01T00:00:00      2   \n",
       "14             1   4400000.0       36.00  2016-06-23T00:00:00      1   \n",
       "15            16   4650000.0       39.00  2017-11-18T00:00:00      1   \n",
       "16            11   6700000.0       82.00  2017-11-23T00:00:00      3   \n",
       "17             6   4180000.0       36.00  2016-09-09T00:00:00      1   \n",
       "18             8   3250000.0       31.00  2017-01-27T00:00:00      1   \n",
       "19            16  14200000.0      121.00  2019-01-09T00:00:00      3   \n",
       "\n",
       "    ceiling_height  floors_total  living_area  floor is_apartment  studio  \\\n",
       "0             2.70          16.0        51.00      8          NaN   False   \n",
       "1              NaN          11.0        18.60      1          NaN   False   \n",
       "2              NaN           5.0        34.30      4          NaN   False   \n",
       "3              NaN          14.0          NaN      9          NaN   False   \n",
       "4             3.03          14.0        32.00     13          NaN   False   \n",
       "5              NaN          12.0        14.40      5          NaN   False   \n",
       "6              NaN          26.0        10.60      6          NaN   False   \n",
       "7              NaN          24.0          NaN     22          NaN   False   \n",
       "8              NaN          27.0        15.43     26          NaN   False   \n",
       "9             2.50           9.0        43.60      7          NaN   False   \n",
       "10            2.67          12.0        20.30      3          NaN   False   \n",
       "11             NaN           5.0        31.00      4        False   False   \n",
       "12             NaN           5.0        30.00      5          NaN   False   \n",
       "13            2.56           5.0        27.00      5          NaN   False   \n",
       "14             NaN           6.0        17.00      1          NaN   False   \n",
       "15             NaN          14.0        20.50      5          NaN   False   \n",
       "16            3.05           5.0        55.60      1          NaN   False   \n",
       "17             NaN          17.0        16.50      7          NaN   False   \n",
       "18            2.50           5.0        19.40      2          NaN   False   \n",
       "19            2.75          16.0        76.00      8          NaN   False   \n",
       "\n",
       "    open_plan  kitchen_area  balcony              locality_name  \\\n",
       "0       False         25.00      NaN            Санкт-Петербург   \n",
       "1       False         11.00      2.0             посёлок Шушары   \n",
       "2       False          8.30      0.0            Санкт-Петербург   \n",
       "3       False           NaN      0.0            Санкт-Петербург   \n",
       "4       False         41.00      NaN            Санкт-Петербург   \n",
       "5       False          9.10      NaN  городской посёлок Янино-1   \n",
       "6       False         14.40      1.0          посёлок Парголово   \n",
       "7       False         18.90      2.0            Санкт-Петербург   \n",
       "8       False          8.81      NaN             посёлок Мурино   \n",
       "9       False          6.50      2.0            Санкт-Петербург   \n",
       "10      False          8.50      NaN            Санкт-Петербург   \n",
       "11      False          6.00      1.0                  Ломоносов   \n",
       "12      False          9.00      0.0                  Сертолово   \n",
       "13      False          5.20      1.0                   Петергоф   \n",
       "14      False          8.00      0.0                     Пушкин   \n",
       "15      False          7.60      1.0            Санкт-Петербург   \n",
       "16      False          9.00      NaN            Санкт-Петербург   \n",
       "17      False         11.00      1.0            Санкт-Петербург   \n",
       "18      False          5.60      1.0            Санкт-Петербург   \n",
       "19      False         12.00      NaN            Санкт-Петербург   \n",
       "\n",
       "    airports_nearest  cityCenters_nearest  parks_around3000  parks_nearest  \\\n",
       "0            18863.0              16028.0               1.0          482.0   \n",
       "1            12817.0              18603.0               0.0            NaN   \n",
       "2            21741.0              13933.0               1.0           90.0   \n",
       "3            28098.0               6800.0               2.0           84.0   \n",
       "4            31856.0               8098.0               2.0          112.0   \n",
       "5                NaN                  NaN               NaN            NaN   \n",
       "6            52996.0              19143.0               0.0            NaN   \n",
       "7            23982.0              11634.0               0.0            NaN   \n",
       "8                NaN                  NaN               NaN            NaN   \n",
       "9            50898.0              15008.0               0.0            NaN   \n",
       "10           38357.0              13878.0               1.0          310.0   \n",
       "11           48252.0              51677.0               0.0            NaN   \n",
       "12               NaN                  NaN               NaN            NaN   \n",
       "13           37868.0              33058.0               1.0          294.0   \n",
       "14           20782.0              30759.0               0.0            NaN   \n",
       "15           12900.0              14259.0               1.0          590.0   \n",
       "16           22108.0              10698.0               3.0          420.0   \n",
       "17           33564.0              14616.0               0.0            NaN   \n",
       "18           44060.0              10842.0               1.0          759.0   \n",
       "19           38900.0              12843.0               0.0            NaN   \n",
       "\n",
       "    ponds_around3000  ponds_nearest  days_exposition  \n",
       "0                2.0          755.0              NaN  \n",
       "1                0.0            NaN             81.0  \n",
       "2                2.0          574.0            558.0  \n",
       "3                3.0          234.0            424.0  \n",
       "4                1.0           48.0            121.0  \n",
       "5                NaN            NaN             55.0  \n",
       "6                0.0            NaN            155.0  \n",
       "7                0.0            NaN              NaN  \n",
       "8                NaN            NaN            189.0  \n",
       "9                0.0            NaN            289.0  \n",
       "10               2.0          553.0            137.0  \n",
       "11               0.0            NaN              7.0  \n",
       "12               NaN            NaN             90.0  \n",
       "13               3.0          298.0            366.0  \n",
       "14               1.0           96.0            203.0  \n",
       "15               1.0          296.0             19.0  \n",
       "16               0.0            NaN            397.0  \n",
       "17               1.0          859.0            571.0  \n",
       "18               0.0            NaN            168.0  \n",
       "19               0.0            NaN             97.0  "
      ]
     },
     "execution_count": 3,
     "metadata": {},
     "output_type": "execute_result"
    }
   ],
   "source": [
    "pd.set_option('display.max_columns', None)\n",
    "data.head(20)"
   ]
  },
  {
   "cell_type": "markdown",
   "metadata": {},
   "source": [
    "#### Получу основную информацию о данных"
   ]
  },
  {
   "cell_type": "code",
   "execution_count": 4,
   "metadata": {},
   "outputs": [
    {
     "name": "stdout",
     "output_type": "stream",
     "text": [
      "<class 'pandas.core.frame.DataFrame'>\n",
      "RangeIndex: 23699 entries, 0 to 23698\n",
      "Data columns (total 22 columns):\n",
      " #   Column                Non-Null Count  Dtype  \n",
      "---  ------                --------------  -----  \n",
      " 0   total_images          23699 non-null  int64  \n",
      " 1   last_price            23699 non-null  float64\n",
      " 2   total_area            23699 non-null  float64\n",
      " 3   first_day_exposition  23699 non-null  object \n",
      " 4   rooms                 23699 non-null  int64  \n",
      " 5   ceiling_height        14504 non-null  float64\n",
      " 6   floors_total          23613 non-null  float64\n",
      " 7   living_area           21796 non-null  float64\n",
      " 8   floor                 23699 non-null  int64  \n",
      " 9   is_apartment          2775 non-null   object \n",
      " 10  studio                23699 non-null  bool   \n",
      " 11  open_plan             23699 non-null  bool   \n",
      " 12  kitchen_area          21421 non-null  float64\n",
      " 13  balcony               12180 non-null  float64\n",
      " 14  locality_name         23650 non-null  object \n",
      " 15  airports_nearest      18157 non-null  float64\n",
      " 16  cityCenters_nearest   18180 non-null  float64\n",
      " 17  parks_around3000      18181 non-null  float64\n",
      " 18  parks_nearest         8079 non-null   float64\n",
      " 19  ponds_around3000      18181 non-null  float64\n",
      " 20  ponds_nearest         9110 non-null   float64\n",
      " 21  days_exposition       20518 non-null  float64\n",
      "dtypes: bool(2), float64(14), int64(3), object(3)\n",
      "memory usage: 3.7+ MB\n"
     ]
    }
   ],
   "source": [
    "data.info()"
   ]
  },
  {
   "cell_type": "markdown",
   "metadata": {},
   "source": [
    "#### Для удобства построю гистограмму"
   ]
  },
  {
   "cell_type": "code",
   "execution_count": 5,
   "metadata": {},
   "outputs": [
    {
     "data": {
      "image/png": "[encoded data removed]",
      "text/plain": [
       "<Figure size 1080x1440 with 20 Axes>"
      ]
     },
     "metadata": {
      "needs_background": "light"
     },
     "output_type": "display_data"
    }
   ],
   "source": [
    "data.hist(figsize=(15, 20))\n",
    "plt.show()"
   ]
  },
  {
   "cell_type": "markdown",
   "metadata": {},
   "source": [
    "Всего у нас 23699 записи. Для целого ряда столбцов есть пропущенные значения и некорректный тип данных. По ряду признаков есть аномальные значения."
   ]
  },
  {
   "cell_type": "markdown",
   "metadata": {},
   "source": [
    "### Предобработка данных"
   ]
  },
  {
   "cell_type": "markdown",
   "metadata": {},
   "source": [
    "#### 1) Избавимся от пропусков в данных"
   ]
  },
  {
   "cell_type": "markdown",
   "metadata": {},
   "source": [
    "##### Для начал посмотрим общее количество пропусков во всех столбцах"
   ]
  },
  {
   "cell_type": "code",
   "execution_count": 6,
   "metadata": {},
   "outputs": [
    {
     "data": {
      "text/plain": [
       "total_images                0\n",
       "last_price                  0\n",
       "total_area                  0\n",
       "first_day_exposition        0\n",
       "rooms                       0\n",
       "ceiling_height           9195\n",
       "floors_total               86\n",
       "living_area              1903\n",
       "floor                       0\n",
       "is_apartment            20924\n",
       "studio                      0\n",
       "open_plan                   0\n",
       "kitchen_area             2278\n",
       "balcony                 11519\n",
       "locality_name              49\n",
       "airports_nearest         5542\n",
       "cityCenters_nearest      5519\n",
       "parks_around3000         5518\n",
       "parks_nearest           15620\n",
       "ponds_around3000         5518\n",
       "ponds_nearest           14589\n",
       "days_exposition          3181\n",
       "dtype: int64"
      ]
     },
     "execution_count": 6,
     "metadata": {},
     "output_type": "execute_result"
    }
   ],
   "source": [
    "data.isna().sum()"
   ]
  },
  {
   "cell_type": "markdown",
   "metadata": {},
   "source": [
    "Довально много пропусков. Уберём сначала самые очевидные."
   ]
  },
  {
   "cell_type": "markdown",
   "metadata": {},
   "source": [
    "##### Пропуски в столбще ceiling_height можно заменить медианой"
   ]
  },
  {
   "cell_type": "code",
   "execution_count": 7,
   "metadata": {},
   "outputs": [
    {
     "data": {
      "text/plain": [
       "0        2.70\n",
       "1        2.65\n",
       "2        2.65\n",
       "3        2.65\n",
       "4        3.03\n",
       "         ... \n",
       "23694    3.70\n",
       "23695    2.65\n",
       "23696    2.65\n",
       "23697    3.00\n",
       "23698    2.50\n",
       "Name: ceiling_height, Length: 23699, dtype: float64"
      ]
     },
     "execution_count": 7,
     "metadata": {},
     "output_type": "execute_result"
    }
   ],
   "source": [
    "data['ceiling_height'] = data['ceiling_height'].fillna(data['ceiling_height'].median())\n",
    "data['ceiling_height']"
   ]
  },
  {
   "cell_type": "markdown",
   "metadata": {},
   "source": [
    "##### Пропусков в столбце, где показывается общее количество этажей, немного, поэтому эти строки можно удалить"
   ]
  },
  {
   "cell_type": "code",
   "execution_count": 8,
   "metadata": {},
   "outputs": [],
   "source": [
    "data.dropna(subset=['floors_total'], inplace=True)"
   ]
  },
  {
   "cell_type": "markdown",
   "metadata": {},
   "source": [
    "##### Пропущенные значения столбца living_area можно заменить медианой. При этом, будем заменять медианой, групирую по количеству комнат"
   ]
  },
  {
   "cell_type": "code",
   "execution_count": 9,
   "metadata": {},
   "outputs": [
    {
     "data": {
      "text/plain": [
       "0        51.0\n",
       "1        18.6\n",
       "2        34.3\n",
       "3        45.0\n",
       "4        32.0\n",
       "         ... \n",
       "23694    73.3\n",
       "23695    38.0\n",
       "23696    29.7\n",
       "23697    30.5\n",
       "23698    12.3\n",
       "Name: living_area, Length: 23613, dtype: float64"
      ]
     },
     "execution_count": 9,
     "metadata": {},
     "output_type": "execute_result"
    }
   ],
   "source": [
    "for n in data['rooms'].unique():\n",
    "    data.loc[(data['rooms'] == n) & (data['living_area'].isna()), 'living_area'] = \\\n",
    "    data.loc[(data['rooms'] == n), 'living_area'].median()\n",
    "data['living_area']\n"
   ]
  },
  {
   "cell_type": "markdown",
   "metadata": {},
   "source": [
    "##### Пропуски в столбце kitchen_area заполним средним значением. Мы так же будем групировать, но в этот раз по общей площади квартиры"
   ]
  },
  {
   "cell_type": "code",
   "execution_count": 10,
   "metadata": {},
   "outputs": [
    {
     "name": "stdout",
     "output_type": "stream",
     "text": [
      "0        25.000000\n",
      "1        11.000000\n",
      "2         8.300000\n",
      "3        12.251693\n",
      "4        41.000000\n",
      "           ...    \n",
      "23694    13.830000\n",
      "23695     8.500000\n",
      "23696     8.615873\n",
      "23697    23.300000\n",
      "23698     9.000000\n",
      "Name: kitchen_area, Length: 23613, dtype: float64\n",
      "\n",
      "total_images                0\n",
      "last_price                  0\n",
      "total_area                  0\n",
      "first_day_exposition        0\n",
      "rooms                       0\n",
      "ceiling_height              0\n",
      "floors_total                0\n",
      "living_area                 0\n",
      "floor                       0\n",
      "is_apartment            20838\n",
      "studio                      0\n",
      "open_plan                   0\n",
      "kitchen_area               61\n",
      "balcony                 11480\n",
      "locality_name              48\n",
      "airports_nearest         5532\n",
      "cityCenters_nearest      5509\n",
      "parks_around3000         5508\n",
      "parks_nearest           15568\n",
      "ponds_around3000         5508\n",
      "ponds_nearest           14552\n",
      "days_exposition          3172\n",
      "dtype: int64\n"
     ]
    }
   ],
   "source": [
    "for n in data['living_area'].unique():\n",
    "    data.loc[(data['living_area'] == n) & (data['kitchen_area'].isna()), 'kitchen_area'] = \\\n",
    "    data.loc[(data['living_area'] == n), 'kitchen_area'].mean()\n",
    "print(data['kitchen_area'])\n",
    "print()\n",
    "print(data.isna().sum())"
   ]
  },
  {
   "cell_type": "markdown",
   "metadata": {},
   "source": [
    "В столбце всё ещё остались 64 пропуска. Заполним их медианой"
   ]
  },
  {
   "cell_type": "code",
   "execution_count": 11,
   "metadata": {},
   "outputs": [],
   "source": [
    "data['kitchen_area'] = data['kitchen_area'].fillna(data['kitchen_area'].median())\n"
   ]
  },
  {
   "cell_type": "markdown",
   "metadata": {},
   "source": [
    "##### Пропуски в столбще balcony скорее всего говорят о том, что балкона в квартире просто нету, значит, пропуски можно просто заменить на 0"
   ]
  },
  {
   "cell_type": "code",
   "execution_count": 12,
   "metadata": {},
   "outputs": [
    {
     "data": {
      "text/plain": [
       "0        0.0\n",
       "1        2.0\n",
       "2        0.0\n",
       "3        0.0\n",
       "4        0.0\n",
       "        ... \n",
       "23694    0.0\n",
       "23695    0.0\n",
       "23696    0.0\n",
       "23697    2.0\n",
       "23698    0.0\n",
       "Name: balcony, Length: 23613, dtype: float64"
      ]
     },
     "execution_count": 12,
     "metadata": {},
     "output_type": "execute_result"
    }
   ],
   "source": [
    "data['balcony'] = data['balcony'].fillna(0)\n",
    "data['balcony']"
   ]
  },
  {
   "cell_type": "markdown",
   "metadata": {},
   "source": [
    "##### Строк, с пропусками в столбце locality_name немного, поэтому эти строки можно удалить"
   ]
  },
  {
   "cell_type": "code",
   "execution_count": 13,
   "metadata": {},
   "outputs": [],
   "source": [
    "data.dropna(subset=['locality_name'], inplace=True)"
   ]
  },
  {
   "cell_type": "markdown",
   "metadata": {},
   "source": [
    "##### Ещё раз убедимся, что мы убрали все ненужные пропуски"
   ]
  },
  {
   "cell_type": "code",
   "execution_count": 14,
   "metadata": {},
   "outputs": [
    {
     "data": {
      "text/plain": [
       "total_images                0\n",
       "last_price                  0\n",
       "total_area                  0\n",
       "first_day_exposition        0\n",
       "rooms                       0\n",
       "ceiling_height              0\n",
       "floors_total                0\n",
       "living_area                 0\n",
       "floor                       0\n",
       "is_apartment            20805\n",
       "studio                      0\n",
       "open_plan                   0\n",
       "kitchen_area                0\n",
       "balcony                     0\n",
       "locality_name               0\n",
       "airports_nearest         5524\n",
       "cityCenters_nearest      5501\n",
       "parks_around3000         5500\n",
       "parks_nearest           15535\n",
       "ponds_around3000         5500\n",
       "ponds_nearest           14529\n",
       "days_exposition          3171\n",
       "dtype: int64"
      ]
     },
     "execution_count": 14,
     "metadata": {},
     "output_type": "execute_result"
    }
   ],
   "source": [
    "data.isna().sum()"
   ]
  },
  {
   "cell_type": "markdown",
   "metadata": {},
   "source": [
    "####  Преобразуем типы данных"
   ]
  },
  {
   "cell_type": "markdown",
   "metadata": {},
   "source": [
    "##### Преобразуем типы данных в некоторых столбцах из float в int"
   ]
  },
  {
   "cell_type": "code",
   "execution_count": 15,
   "metadata": {},
   "outputs": [
    {
     "name": "stdout",
     "output_type": "stream",
     "text": [
      "<class 'pandas.core.frame.DataFrame'>\n",
      "Int64Index: 23565 entries, 0 to 23698\n",
      "Data columns (total 22 columns):\n",
      " #   Column                Non-Null Count  Dtype  \n",
      "---  ------                --------------  -----  \n",
      " 0   total_images          23565 non-null  int64  \n",
      " 1   last_price            23565 non-null  float64\n",
      " 2   total_area            23565 non-null  float64\n",
      " 3   first_day_exposition  23565 non-null  object \n",
      " 4   rooms                 23565 non-null  int64  \n",
      " 5   ceiling_height        23565 non-null  float64\n",
      " 6   floors_total          23565 non-null  float64\n",
      " 7   living_area           23565 non-null  float64\n",
      " 8   floor                 23565 non-null  int64  \n",
      " 9   is_apartment          2760 non-null   object \n",
      " 10  studio                23565 non-null  bool   \n",
      " 11  open_plan             23565 non-null  bool   \n",
      " 12  kitchen_area          23565 non-null  float64\n",
      " 13  balcony               23565 non-null  float64\n",
      " 14  locality_name         23565 non-null  object \n",
      " 15  airports_nearest      18041 non-null  float64\n",
      " 16  cityCenters_nearest   18064 non-null  float64\n",
      " 17  parks_around3000      18065 non-null  float64\n",
      " 18  parks_nearest         8030 non-null   float64\n",
      " 19  ponds_around3000      18065 non-null  float64\n",
      " 20  ponds_nearest         9036 non-null   float64\n",
      " 21  days_exposition       20394 non-null  float64\n",
      "dtypes: bool(2), float64(14), int64(3), object(3)\n",
      "memory usage: 3.8+ MB\n"
     ]
    }
   ],
   "source": [
    "data.astype({\"last_price\": \"int64\", \"floors_total\": \"int64\", \"balcony\": \"int64\"})\n",
    "\n",
    "data.info()"
   ]
  },
  {
   "cell_type": "markdown",
   "metadata": {},
   "source": [
    "#### Устраним неявные дубликаты в столбце с названиями"
   ]
  },
  {
   "cell_type": "code",
   "execution_count": 16,
   "metadata": {},
   "outputs": [
    {
     "data": {
      "text/plain": [
       "array(['Санкт-Петербург', 'посёлок Шушары', 'городской посёлок Янино-1',\n",
       "       'посёлок Парголово', 'посёлок Мурино', 'Ломоносов', 'Сертолово',\n",
       "       'Петергоф', 'Пушкин', 'деревня Кудрово', 'Коммунар', 'Колпино',\n",
       "       'поселок городского типа Красный Бор', 'Гатчина', 'поселок Мурино',\n",
       "       'деревня Фёдоровское', 'Выборг', 'Кронштадт', 'Кировск',\n",
       "       'деревня Новое Девяткино', 'посёлок Металлострой',\n",
       "       'посёлок городского типа Лебяжье',\n",
       "       'посёлок городского типа Сиверский', 'поселок Молодцово',\n",
       "       'поселок городского типа Кузьмоловский',\n",
       "       'садовое товарищество Новая Ропша', 'Павловск',\n",
       "       'деревня Пикколово', 'Всеволожск', 'Волхов', 'Кингисепп',\n",
       "       'Приозерск', 'Сестрорецк', 'деревня Куттузи', 'посёлок Аннино',\n",
       "       'поселок городского типа Ефимовский', 'посёлок Плодовое',\n",
       "       'деревня Заклинье', 'поселок Торковичи', 'поселок Первомайское',\n",
       "       'Красное Село', 'посёлок Понтонный', 'Сясьстрой', 'деревня Старая',\n",
       "       'деревня Лесколово', 'посёлок Новый Свет', 'Сланцы',\n",
       "       'село Путилово', 'Ивангород', 'Мурино', 'Шлиссельбург',\n",
       "       'Никольское', 'Зеленогорск', 'Сосновый Бор', 'поселок Новый Свет',\n",
       "       'деревня Оржицы', 'деревня Кальтино', 'Кудрово',\n",
       "       'поселок Романовка', 'посёлок Бугры', 'поселок Бугры',\n",
       "       'поселок городского типа Рощино', 'Кириши', 'Луга', 'Волосово',\n",
       "       'Отрадное', 'село Павлово', 'поселок Оредеж', 'село Копорье',\n",
       "       'посёлок городского типа Красный Бор', 'посёлок Молодёжное',\n",
       "       'Тихвин', 'посёлок Победа', 'деревня Нурма',\n",
       "       'поселок городского типа Синявино', 'Тосно',\n",
       "       'посёлок городского типа Кузьмоловский', 'посёлок Стрельна',\n",
       "       'Бокситогорск', 'посёлок Александровская', 'деревня Лопухинка',\n",
       "       'Пикалёво', 'поселок Терволово',\n",
       "       'поселок городского типа Советский', 'Подпорожье',\n",
       "       'посёлок Петровское', 'посёлок городского типа Токсово',\n",
       "       'поселок Сельцо', 'посёлок городского типа Вырица',\n",
       "       'деревня Кипень', 'деревня Келози', 'деревня Вартемяги',\n",
       "       'поселок Тельмана', 'поселок Севастьяново',\n",
       "       'городской поселок Большая Ижора', 'городской посёлок Павлово',\n",
       "       'деревня Агалатово', 'посёлок Новогорелово',\n",
       "       'городской посёлок Лесогорский', 'деревня Лаголово',\n",
       "       'поселок Цвелодубово', 'поселок городского типа Рахья',\n",
       "       'поселок городского типа Вырица', 'деревня Белогорка',\n",
       "       'поселок Заводской', 'городской посёлок Новоселье',\n",
       "       'деревня Большие Колпаны', 'деревня Горбунки', 'деревня Батово',\n",
       "       'деревня Заневка', 'деревня Иссад', 'Приморск',\n",
       "       'городской посёлок Фёдоровское', 'деревня Мистолово',\n",
       "       'Новая Ладога', 'поселок Зимитицы', 'поселок Барышево',\n",
       "       'деревня Разметелево', 'поселок городского типа имени Свердлова',\n",
       "       'деревня Пеники', 'поселок Рябово', 'деревня Пудомяги',\n",
       "       'поселок станции Корнево', 'деревня Низино', 'деревня Бегуницы',\n",
       "       'посёлок Поляны', 'городской посёлок Мга', 'поселок Елизаветино',\n",
       "       'посёлок городского типа Кузнечное', 'деревня Колтуши',\n",
       "       'поселок Запорожское', 'посёлок городского типа Рощино',\n",
       "       'деревня Гостилицы', 'деревня Малое Карлино',\n",
       "       'посёлок Мичуринское', 'посёлок городского типа имени Морозова',\n",
       "       'посёлок Песочный', 'посёлок Сосново', 'деревня Аро',\n",
       "       'поселок Ильичёво', 'посёлок городского типа Тайцы',\n",
       "       'деревня Малое Верево', 'деревня Извара', 'поселок станции Вещево',\n",
       "       'село Паша', 'деревня Калитино',\n",
       "       'посёлок городского типа Ульяновка', 'деревня Чудской Бор',\n",
       "       'поселок городского типа Дубровка', 'деревня Мины',\n",
       "       'поселок Войсковицы', 'посёлок городского типа имени Свердлова',\n",
       "       'деревня Коркино', 'посёлок Ропша',\n",
       "       'поселок городского типа Приладожский', 'посёлок Щеглово',\n",
       "       'посёлок Гаврилово', 'Лодейное Поле', 'деревня Рабитицы',\n",
       "       'поселок городского типа Никольский', 'деревня Кузьмолово',\n",
       "       'деревня Малые Колпаны', 'посёлок Петро-Славянка',\n",
       "       'городской посёлок Назия', 'посёлок Репино', 'посёлок Ильичёво',\n",
       "       'поселок Углово', 'поселок Старая Малукса',\n",
       "       'садовое товарищество Рахья', 'поселок Аннино', 'поселок Победа',\n",
       "       'деревня Меньково', 'деревня Старые Бегуницы', 'посёлок Сапёрный',\n",
       "       'поселок Семрино', 'поселок Гаврилово', 'поселок Глажево',\n",
       "       'поселок Кобринское', 'деревня Гарболово', 'деревня Юкки',\n",
       "       'поселок станции Приветнинское', 'деревня Мануйлово',\n",
       "       'деревня Пчева', 'поселок Поляны', 'поселок Цвылёво',\n",
       "       'поселок Мельниково', 'посёлок Пудость', 'посёлок Усть-Луга',\n",
       "       'Светогорск', 'Любань', 'поселок Селезнёво', 'Каменногорск',\n",
       "       'деревня Кривко', 'поселок Глебычево', 'деревня Парицы',\n",
       "       'поселок Жилпосёлок', 'посёлок городского типа Мга',\n",
       "       'городской поселок Янино-1', 'посёлок Войскорово',\n",
       "       'село Никольское', 'посёлок Терволово', 'поселок Стеклянный',\n",
       "       'посёлок городского типа Важины', 'посёлок Мыза-Ивановка',\n",
       "       'село Русско-Высоцкое', 'поселок городского типа Лебяжье',\n",
       "       'поселок городского типа Форносово', 'село Старая Ладога',\n",
       "       'поселок Житково', 'городской посёлок Виллози', 'деревня Лампово',\n",
       "       'деревня Шпаньково', 'деревня Лаврики', 'посёлок Сумино',\n",
       "       'посёлок Возрождение', 'деревня Старосиверская',\n",
       "       'посёлок Кикерино', 'поселок Возрождение',\n",
       "       'деревня Старое Хинколово', 'посёлок Пригородный',\n",
       "       'посёлок Торфяное', 'городской посёлок Будогощь',\n",
       "       'поселок Суходолье', 'поселок Красная Долина', 'деревня Хапо-Ое',\n",
       "       'поселок городского типа Дружная Горка', 'поселок Лисий Нос',\n",
       "       'деревня Яльгелево', 'посёлок Стеклянный', 'село Рождествено',\n",
       "       'деревня Старополье', 'посёлок Левашово', 'деревня Сяськелево',\n",
       "       'деревня Камышовка',\n",
       "       'садоводческое некоммерческое товарищество Лесная Поляна',\n",
       "       'деревня Хязельки', 'поселок Жилгородок',\n",
       "       'посёлок городского типа Павлово', 'деревня Ялгино',\n",
       "       'поселок Новый Учхоз', 'городской посёлок Рощино',\n",
       "       'поселок Гончарово', 'поселок Почап', 'посёлок Сапёрное',\n",
       "       'посёлок Платформа 69-й километр', 'поселок Каложицы',\n",
       "       'деревня Фалилеево', 'деревня Пельгора',\n",
       "       'поселок городского типа Лесогорский', 'деревня Торошковичи',\n",
       "       'посёлок Белоостров', 'посёлок Алексеевка', 'поселок Серебрянский',\n",
       "       'поселок Лукаши', 'поселок Петровское', 'деревня Щеглово',\n",
       "       'поселок Мичуринское', 'деревня Тарасово', 'поселок Кингисеппский',\n",
       "       'посёлок при железнодорожной станции Вещево', 'поселок Ушаки',\n",
       "       'деревня Котлы', 'деревня Сижно', 'деревня Торосово',\n",
       "       'посёлок Форт Красная Горка', 'деревня Новолисино',\n",
       "       'посёлок станции Громово', 'деревня Глинка', 'посёлок Мельниково',\n",
       "       'поселок городского типа Назия', 'деревня Старая Пустошь',\n",
       "       'поселок Коммунары', 'поселок Починок',\n",
       "       'посёлок городского типа Вознесенье', 'деревня Разбегаево',\n",
       "       'посёлок городского типа Рябово', 'поселок Гладкое',\n",
       "       'посёлок при железнодорожной станции Приветнинское',\n",
       "       'поселок Тёсово-4', 'посёлок Жилгородок', 'деревня Бор',\n",
       "       'посёлок Коробицыно', 'деревня Большая Вруда', 'деревня Курковицы',\n",
       "       'посёлок Лисий Нос', 'городской посёлок Советский',\n",
       "       'посёлок Кобралово', 'деревня Суоранда', 'поселок Кобралово',\n",
       "       'поселок городского типа Кондратьево',\n",
       "       'коттеджный поселок Счастье', 'поселок Любань', 'деревня Реброво',\n",
       "       'деревня Зимитицы', 'деревня Тойворово', 'поселок Семиозерье',\n",
       "       'поселок Лесное', 'поселок Совхозный', 'поселок Усть-Луга',\n",
       "       'посёлок Ленинское', 'посёлок Суйда',\n",
       "       'посёлок городского типа Форносово', 'деревня Нижние Осельки',\n",
       "       'посёлок станции Свирь', 'поселок Перово', 'Высоцк',\n",
       "       'поселок Гарболово', 'село Шум', 'поселок Котельский',\n",
       "       'поселок станции Лужайка', 'деревня Большая Пустомержа',\n",
       "       'поселок Красносельское', 'деревня Вахнова Кара', 'деревня Пижма',\n",
       "       'коттеджный поселок Кивеннапа Север', 'поселок Коробицыно',\n",
       "       'поселок Ромашки', 'посёлок Перово', 'деревня Каськово',\n",
       "       'деревня Куровицы', 'посёлок Плоское', 'поселок Сумино',\n",
       "       'поселок городского типа Большая Ижора', 'поселок Кирпичное',\n",
       "       'деревня Ям-Тесово', 'деревня Раздолье', 'деревня Терпилицы',\n",
       "       'поселок городского типа Токсово', 'посёлок Шугозеро',\n",
       "       'деревня Ваганово', 'поселок Пушное', 'садовое товарищество Садко',\n",
       "       'посёлок Усть-Ижора', 'деревня Выскатка',\n",
       "       'городской посёлок Свирьстрой', 'поселок Громово',\n",
       "       'деревня Кисельня', 'посёлок Старая Малукса',\n",
       "       'деревня Трубников Бор', 'поселок Калитино',\n",
       "       'посёлок Высокоключевой', 'садовое товарищество Приладожский',\n",
       "       'посёлок Пансионат Зелёный Бор', 'деревня Ненимяки',\n",
       "       'поселок Пансионат Зелёный Бор', 'деревня Снегирёвка',\n",
       "       'деревня Рапполово', 'деревня Пустынка', 'поселок Рабитицы',\n",
       "       'деревня Большой Сабск', 'деревня Русско', 'деревня Лупполово',\n",
       "       'деревня Большое Рейзино', 'деревня Малая Романовка',\n",
       "       'поселок Дружноселье', 'поселок Пчевжа', 'поселок Володарское',\n",
       "       'деревня Нижняя', 'коттеджный посёлок Лесное', 'деревня Тихковицы',\n",
       "       'деревня Борисова Грива', 'посёлок Дзержинского'], dtype=object)"
      ]
     },
     "execution_count": 16,
     "metadata": {},
     "output_type": "execute_result"
    }
   ],
   "source": [
    "data.loc[data['locality_name'] == 'поселок городского типа Рябово', 'locality_name'] = 'поселок Рябово'\n",
    "data.loc[data['locality_name'] == 'посёлок Тельмана', 'locality_name'] = 'поселок Тельмана'   \n",
    "data['locality_name'].unique()\n"
   ]
  },
  {
   "cell_type": "markdown",
   "metadata": {},
   "source": [
    "#### Устраним редкие и выбивающиеся значения"
   ]
  },
  {
   "cell_type": "markdown",
   "metadata": {},
   "source": [
    "##### Уберём аномально большие значения в столбце ceiling_height"
   ]
  },
  {
   "cell_type": "code",
   "execution_count": 17,
   "metadata": {},
   "outputs": [
    {
     "data": {
      "text/plain": [
       "array([ 2.7 ,  2.65,  3.03,  2.5 ,  2.67,  2.56,  3.05,  2.75,  2.6 ,\n",
       "        2.9 ,  2.8 ,  2.55,  3.  ,  3.2 ,  2.61,  3.25,  3.45,  2.77,\n",
       "        2.85,  2.64,  2.57,  4.15,  3.5 ,  3.3 ,  2.71,  4.  ,  2.47,\n",
       "        2.73,  2.84,  3.1 ,  2.34,  3.4 ,  3.06,  2.72,  2.54,  2.51,\n",
       "        2.78,  2.76,  2.58,  3.7 ,  2.52,  5.2 ,  2.87,  2.66,  2.59,\n",
       "        2.  ,  2.45,  3.6 ,  2.92,  3.11,  3.13,  3.8 ,  3.15,  3.55,\n",
       "        3.16,  3.62,  3.12,  2.53,  2.74,  2.96,  2.46,  5.3 ,  5.  ,\n",
       "        2.79,  2.95,  4.06,  2.94,  3.82,  3.54,  3.53,  2.83,  4.7 ,\n",
       "        2.4 ,  3.38,  3.01,  5.6 ,  3.65,  3.9 ,  3.18,  3.35,  2.3 ,\n",
       "        3.57,  2.48,  2.62,  2.82,  3.98,  2.63,  3.83,  3.52,  3.95,\n",
       "        3.75,  2.88,  3.67,  3.87,  3.66,  3.85,  3.86,  4.19,  3.24,\n",
       "        4.8 ,  4.5 ,  4.2 ,  3.36,  3.08,  3.68,  3.07,  3.37,  3.09,\n",
       "        0.8 ,  3.26,  3.34,  2.81,  3.44,  2.97,  3.14,  4.37,  2.68,\n",
       "        3.22,  3.27,  4.1 ,  2.93,  3.46,  3.47,  3.33,  3.63,  3.32,\n",
       "        1.2 ,  0.83,  2.98,  2.86,  3.17,  4.4 ,  3.28,  3.04,  4.45,\n",
       "        5.5 ,  3.84,  3.23,  3.02,  3.21,  3.43,  3.78,  4.3 ,  3.39,\n",
       "        2.69,  3.31,  4.65,  3.56,  2.2 ,  3.51,  3.93,  3.42,  2.99,\n",
       "        3.49,  1.4 ,  4.14,  2.91,  3.88,  1.75,  4.25,  3.29,  2.25,\n",
       "        3.76,  3.69,  6.  ,  2.26,  2.89,  3.58,  5.8 ,  2.49,  4.9 ,\n",
       "        3.48,  1.03,  1.  , 10.  ,  3.59])"
      ]
     },
     "execution_count": 17,
     "metadata": {},
     "output_type": "execute_result"
    }
   ],
   "source": [
    "mask = data['ceiling_height'] >= 7\n",
    "data.loc[mask, 'ceiling_height'] /= 10\n",
    "data['ceiling_height'].unique()"
   ]
  },
  {
   "cell_type": "markdown",
   "metadata": {},
   "source": [
    "##### Уберём аномальные значения в других столбцах"
   ]
  },
  {
   "cell_type": "code",
   "execution_count": 19,
   "metadata": {
    "scrolled": true
   },
   "outputs": [
    {
     "data": {
      "text/plain": [
       "1.0"
      ]
     },
     "execution_count": 19,
     "metadata": {},
     "output_type": "execute_result"
    }
   ],
   "source": [
    "# Функция для подсчёта границ с учетом 1.5 размаха\n",
    "def quartile_range(df, column):\n",
    "    q1 = df[column].quantile(0.25)\n",
    "    q3 = df[column].quantile(0.75)\n",
    "    iqr = q3 - q1\n",
    "    dfq = df.loc[(df[column] < q3 + 1.5*iqr) & (df[column] > q1 - 1.5*iqr), column]\n",
    "    return dfq\n",
    "\n",
    "# Столбцы с выбросами\n",
    "list_features = ['last_price', 'total_area', 'kitchen_area', 'living_area', 'days_exposition', 'rooms']\n",
    "for col in list_features:\n",
    "    data[col] = quartile_range(data, col)  \n",
    "    \n",
    "# Возвращаем в целочисленный тип число комнат\n",
    "data['rooms'] = data['rooms'].fillna(0).astype(int)\n",
    "\n",
    "data.describe()"
   ]
  },
  {
   "cell_type": "markdown",
   "metadata": {},
   "source": [
    "### Посчитайте и добавьте в таблицу новые столбцы"
   ]
  },
  {
   "cell_type": "markdown",
   "metadata": {},
   "source": [
    "#### Добавим столбец, который покажет стоимость одного квадратного метра"
   ]
  },
  {
   "cell_type": "code",
   "execution_count": 20,
   "metadata": {},
   "outputs": [],
   "source": [
    "data['price_one_sq_m'] = data['last_price'] / data['total_area']"
   ]
  },
  {
   "cell_type": "markdown",
   "metadata": {},
   "source": [
    "#### Добавим столбец, который покажет день недели публикации объявления. Для этого, сначала переведём запись даты в удобный формат"
   ]
  },
  {
   "cell_type": "code",
   "execution_count": 21,
   "metadata": {},
   "outputs": [],
   "source": [
    "data['first_day_exposition'] = pd.to_datetime(data['first_day_exposition'], format = '%Y-%m-%dT%H:%M:%S')"
   ]
  },
  {
   "cell_type": "code",
   "execution_count": 22,
   "metadata": {},
   "outputs": [
    {
     "data": {
      "text/plain": [
       "0        3\n",
       "1        1\n",
       "2        3\n",
       "3        4\n",
       "4        1\n",
       "        ..\n",
       "23694    1\n",
       "23695    0\n",
       "23696    6\n",
       "23697    1\n",
       "23698    4\n",
       "Name: day_of_week, Length: 23565, dtype: int64"
      ]
     },
     "execution_count": 22,
     "metadata": {},
     "output_type": "execute_result"
    }
   ],
   "source": [
    "data['day_of_week'] = data['first_day_exposition'].dt.weekday\n",
    "data['day_of_week']"
   ]
  },
  {
   "cell_type": "markdown",
   "metadata": {},
   "source": [
    "#### Теперь, который покажет месяц публикации"
   ]
  },
  {
   "cell_type": "code",
   "execution_count": 23,
   "metadata": {},
   "outputs": [
    {
     "data": {
      "text/plain": [
       "0         3\n",
       "1        12\n",
       "2         8\n",
       "3         7\n",
       "4         6\n",
       "         ..\n",
       "23694     3\n",
       "23695     1\n",
       "23696     2\n",
       "23697     3\n",
       "23698     7\n",
       "Name: month, Length: 23565, dtype: int64"
      ]
     },
     "execution_count": 23,
     "metadata": {},
     "output_type": "execute_result"
    }
   ],
   "source": [
    "data['month'] = data['first_day_exposition'].dt.month\n",
    "data['month']"
   ]
  },
  {
   "cell_type": "markdown",
   "metadata": {},
   "source": [
    "#### И наконец, который покажет год"
   ]
  },
  {
   "cell_type": "code",
   "execution_count": 24,
   "metadata": {},
   "outputs": [
    {
     "data": {
      "text/plain": [
       "0        2019\n",
       "1        2018\n",
       "2        2015\n",
       "3        2015\n",
       "4        2018\n",
       "         ... \n",
       "23694    2017\n",
       "23695    2018\n",
       "23696    2018\n",
       "23697    2017\n",
       "23698    2017\n",
       "Name: year, Length: 23565, dtype: int64"
      ]
     },
     "execution_count": 24,
     "metadata": {},
     "output_type": "execute_result"
    }
   ],
   "source": [
    "data['year'] = data['first_day_exposition'].dt.year\n",
    "data['year']"
   ]
  },
  {
   "cell_type": "markdown",
   "metadata": {},
   "source": [
    "#### Добавим столбец, который будет показывать тип этажа (первый, последний или другой)"
   ]
  },
  {
   "cell_type": "code",
   "execution_count": 25,
   "metadata": {},
   "outputs": [
    {
     "data": {
      "text/plain": [
       "0        другой\n",
       "1        первый\n",
       "2        другой\n",
       "3        другой\n",
       "4        другой\n",
       "          ...  \n",
       "23694    другой\n",
       "23695    другой\n",
       "23696    первый\n",
       "23697    другой\n",
       "23698    первый\n",
       "Name: floor_category, Length: 23565, dtype: object"
      ]
     },
     "execution_count": 25,
     "metadata": {},
     "output_type": "execute_result"
    }
   ],
   "source": [
    "def floor(row):   # Создадим функцию сортировки\n",
    "    if row == 1:\n",
    "        return 'первый'\n",
    "    elif row == data['floors_total'][0]:\n",
    "        return 'последний'\n",
    "    else:\n",
    "        return 'другой'  \n",
    "\n",
    "data['floor_category'] = data['floor'].apply(floor)\n",
    "data['floor_category']"
   ]
  },
  {
   "cell_type": "markdown",
   "metadata": {},
   "source": [
    "#### И наконец, столбец который покажет расстояние до центра города в километрах"
   ]
  },
  {
   "cell_type": "code",
   "execution_count": 26,
   "metadata": {},
   "outputs": [
    {
     "data": {
      "text/plain": [
       "0        16.0\n",
       "1        19.0\n",
       "2        14.0\n",
       "3         7.0\n",
       "4         8.0\n",
       "         ... \n",
       "23694     4.0\n",
       "23695     NaN\n",
       "23696     NaN\n",
       "23697    10.0\n",
       "23698     NaN\n",
       "Name: cityCenters_nearest_km, Length: 23565, dtype: float64"
      ]
     },
     "execution_count": 26,
     "metadata": {},
     "output_type": "execute_result"
    }
   ],
   "source": [
    "data['cityCenters_nearest_km'] = (data['cityCenters_nearest'] / 1000).round()\n",
    "data['cityCenters_nearest_km'] "
   ]
  },
  {
   "cell_type": "markdown",
   "metadata": {},
   "source": [
    "### Проведите исследовательский анализ данных"
   ]
  },
  {
   "cell_type": "markdown",
   "metadata": {},
   "source": [
    "#### Изучем разные параметры квартир"
   ]
  },
  {
   "cell_type": "markdown",
   "metadata": {},
   "source": [
    "#####  Общая площадь"
   ]
  },
  {
   "cell_type": "code",
   "execution_count": 27,
   "metadata": {},
   "outputs": [
    {
     "data": {
      "image/png": "[encoded data removed]",
      "text/plain": [
       "<Figure size 432x288 with 1 Axes>"
      ]
     },
     "metadata": {
      "needs_background": "light"
     },
     "output_type": "display_data"
    }
   ],
   "source": [
    "data['total_area'].plot(kind='hist', xlim=(0, 140), bins=100)\n",
    "plt.title('Площадь квартир')\n",
    "plt.xlabel('Квадратные метры')\n",
    "plt.ylabel('Количество квартир')\n",
    "plt.show()"
   ]
  },
  {
   "cell_type": "markdown",
   "metadata": {},
   "source": [
    "Чаще всего квартиры имеют площадь от 30 до 100 квадратных метров. Пик приходится на квартиры с площадью 50 кв.м. Так же есть с площадью почти 300 кв.м."
   ]
  },
  {
   "cell_type": "markdown",
   "metadata": {},
   "source": [
    "##### Жилая площадь"
   ]
  },
  {
   "cell_type": "code",
   "execution_count": 28,
   "metadata": {},
   "outputs": [
    {
     "data": {
      "image/png": "[encoded data removed]",
      "text/plain": [
       "<Figure size 432x288 with 1 Axes>"
      ]
     },
     "metadata": {
      "needs_background": "light"
     },
     "output_type": "display_data"
    }
   ],
   "source": [
    "data['living_area'].plot(kind='hist', bins=100, xlim=(0, 90))\n",
    "plt.title('Жилая площадь')\n",
    "plt.xlabel('Квадратные метры')\n",
    "plt.ylabel('Количество квартир')\n",
    "plt.show()"
   ]
  },
  {
   "cell_type": "markdown",
   "metadata": {},
   "source": [
    "Жилая площадь чаще всего от 10 до 60 кв.м. Тут 2 пика: один около 15 кв.м., другой около 30 кв.м. Первый пик скорее всего является выбросом, так как после него идёт резкий спад, что не наблюдается на гистограмме общей площади"
   ]
  },
  {
   "cell_type": "markdown",
   "metadata": {},
   "source": [
    "##### Площадь кухни"
   ]
  },
  {
   "cell_type": "code",
   "execution_count": 29,
   "metadata": {},
   "outputs": [
    {
     "data": {
      "image/png": "[encoded data removed]",
      "text/plain": [
       "<Figure size 432x288 with 1 Axes>"
      ]
     },
     "metadata": {
      "needs_background": "light"
     },
     "output_type": "display_data"
    }
   ],
   "source": [
    "data['kitchen_area'].plot(kind='hist', bins=100, xlim=(0, 20))\n",
    "plt.title('Площадь кухни')\n",
    "plt.xlabel('Квадратные метры')\n",
    "plt.ylabel('Количество квартир')\n",
    "plt.show()"
   ]
  },
  {
   "cell_type": "markdown",
   "metadata": {},
   "source": [
    "Площадь кухни обычно от 5 до 15 кв.м. Пик составляет около 9 кв.м."
   ]
  },
  {
   "cell_type": "markdown",
   "metadata": {},
   "source": [
    "##### Цена объекта"
   ]
  },
  {
   "cell_type": "code",
   "execution_count": 30,
   "metadata": {},
   "outputs": [
    {
     "data": {
      "image/png": "[encoded data removed]",
      "text/plain": [
       "<Figure size 432x288 with 1 Axes>"
      ]
     },
     "metadata": {
      "needs_background": "light"
     },
     "output_type": "display_data"
    }
   ],
   "source": [
    "data['last_price'] = data['last_price'] / 1000000\n",
    "\n",
    "data['last_price'].plot(kind='hist', bins=1000)\n",
    "plt.title('Стоимость квартир')\n",
    "plt.xlabel('Стоимость')\n",
    "plt.ylabel('Количество квартир')\n",
    "plt.show()"
   ]
  },
  {
   "cell_type": "markdown",
   "metadata": {},
   "source": [
    "Цена объекта обычно составляет от 1 до 12 млн.руб. Пик около 5 млн"
   ]
  },
  {
   "cell_type": "markdown",
   "metadata": {},
   "source": [
    "##### Количество комнат"
   ]
  },
  {
   "cell_type": "code",
   "execution_count": 31,
   "metadata": {},
   "outputs": [
    {
     "data": {
      "image/png": "[encoded data removed]",
      "text/plain": [
       "<Figure size 432x288 with 1 Axes>"
      ]
     },
     "metadata": {
      "needs_background": "light"
     },
     "output_type": "display_data"
    }
   ],
   "source": [
    "data['rooms'].plot(kind='hist', bins=100, xlim=(0, 6))\n",
    "plt.title('Комнаты')\n",
    "plt.xlabel('Количество комнат')\n",
    "plt.ylabel('Количество квартир')\n",
    "plt.show()"
   ]
  },
  {
   "cell_type": "markdown",
   "metadata": {},
   "source": [
    "Чаще всего продаются объекты с одной, двумя или, чуть реже, с тремя комнатами. Так же на графике видно, что продаются некоторые объекты с 0 комнат, что скорее всего является ошибкой."
   ]
  },
  {
   "cell_type": "markdown",
   "metadata": {},
   "source": [
    "##### Высота потолков"
   ]
  },
  {
   "cell_type": "code",
   "execution_count": 32,
   "metadata": {},
   "outputs": [
    {
     "data": {
      "image/png": "[encoded data removed]",
      "text/plain": [
       "<Figure size 432x288 with 1 Axes>"
      ]
     },
     "metadata": {
      "needs_background": "light"
     },
     "output_type": "display_data"
    }
   ],
   "source": [
    "data['ceiling_height'].plot(kind='hist', bins=100, xlim=(0, 5))\n",
    "plt.title('Высота потолков')\n",
    "plt.xlabel('Метры')\n",
    "plt.ylabel('Количество квартир')\n",
    "plt.show()"
   ]
  },
  {
   "cell_type": "markdown",
   "metadata": {},
   "source": [
    "Чаще всего высота потолков составляет от 2,5 до 3 м. Большой пик составляет высота 2,6 м. Так же есть объекты с высотой потолков 4 м."
   ]
  },
  {
   "cell_type": "markdown",
   "metadata": {},
   "source": [
    "##### Этаж квартиры"
   ]
  },
  {
   "cell_type": "code",
   "execution_count": 33,
   "metadata": {},
   "outputs": [
    {
     "data": {
      "image/png": "[encoded data removed]",
      "text/plain": [
       "<Figure size 432x288 with 1 Axes>"
      ]
     },
     "metadata": {
      "needs_background": "light"
     },
     "output_type": "display_data"
    }
   ],
   "source": [
    "data['floor'].plot(kind='hist', bins=30)\n",
    "plt.title('Этаж квартиры')\n",
    "plt.xlabel('Этаж')\n",
    "plt.ylabel('Количество квартир')\n",
    "plt.show()"
   ]
  },
  {
   "cell_type": "markdown",
   "metadata": {},
   "source": [
    "График распределения этажей похож на распределение Пуассона. Пик приходится на 2 этаж. Так же много квартир на 3, 4 и 5 этажах. Вообще, квартиры встречаются даже на 28 этаже."
   ]
  },
  {
   "cell_type": "markdown",
   "metadata": {},
   "source": [
    "##### Тип этажа квартиры"
   ]
  },
  {
   "cell_type": "code",
   "execution_count": 34,
   "metadata": {},
   "outputs": [
    {
     "data": {
      "image/png": "[encoded data removed]",
      "text/plain": [
       "<Figure size 432x288 with 1 Axes>"
      ]
     },
     "metadata": {
      "needs_background": "light"
     },
     "output_type": "display_data"
    }
   ],
   "source": [
    "data['floor_category'].value_counts().plot(kind='bar')\n",
    "plt.title('Тип этажей квартир')\n",
    "plt.ylabel('Количество квартир')\n",
    "plt.show()"
   ]
  },
  {
   "cell_type": "markdown",
   "metadata": {},
   "source": [
    "Как видно по графику, квартиры на первом этаже продаются гораздо чаще, чем на последнем. Хотя, конечно, большинство проданных квартир располагаются на других этажах."
   ]
  },
  {
   "cell_type": "markdown",
   "metadata": {},
   "source": [
    "##### Общее количество этажей в доме"
   ]
  },
  {
   "cell_type": "code",
   "execution_count": 35,
   "metadata": {},
   "outputs": [
    {
     "data": {
      "image/png": "[encoded data removed]",
      "text/plain": [
       "<Figure size 432x288 with 1 Axes>"
      ]
     },
     "metadata": {
      "needs_background": "light"
     },
     "output_type": "display_data"
    }
   ],
   "source": [
    "data['floors_total'].plot(kind='hist', bins=50, xlim=(0, 40))\n",
    "plt.title('Количество этажей в доме')\n",
    "plt.xlabel('Количество этажей')\n",
    "plt.ylabel('Количество квартир')\n",
    "plt.show()"
   ]
  },
  {
   "cell_type": "markdown",
   "metadata": {},
   "source": [
    "На графике видно несколько пиков. Самый большой это 5 этажей. Так же пик - это 9 этажей. Вообще количество этажей доходит до 28. Но есть выброс - 34 этажа. Так же на графике видны странные снижения на 11 и 13 этажах."
   ]
  },
  {
   "cell_type": "markdown",
   "metadata": {},
   "source": [
    "##### Расстояние до центра города в метрах"
   ]
  },
  {
   "cell_type": "code",
   "execution_count": 36,
   "metadata": {},
   "outputs": [
    {
     "data": {
      "image/png": "[encoded data removed]",
      "text/plain": [
       "<Figure size 432x288 with 1 Axes>"
      ]
     },
     "metadata": {
      "needs_background": "light"
     },
     "output_type": "display_data"
    }
   ],
   "source": [
    "data['cityCenters_nearest'].plot(kind='hist', bins=100)\n",
    "plt.title('Расстояние до центра города')\n",
    "plt.xlabel('Метры')\n",
    "plt.ylabel('Количество квартир')\n",
    "plt.show()"
   ]
  },
  {
   "cell_type": "markdown",
   "metadata": {},
   "source": [
    "Тут мы видем 2 пика - один около 5 тыс., и один около 11 - 13 тыс. Вообще значения доходят аж до 65 тыс."
   ]
  },
  {
   "cell_type": "markdown",
   "metadata": {},
   "source": [
    "##### Расстояние до ближайшего аэропорта"
   ]
  },
  {
   "cell_type": "code",
   "execution_count": 37,
   "metadata": {},
   "outputs": [
    {
     "data": {
      "image/png": "[encoded data removed]",
      "text/plain": [
       "<Figure size 432x288 with 1 Axes>"
      ]
     },
     "metadata": {
      "needs_background": "light"
     },
     "output_type": "display_data"
    }
   ],
   "source": [
    "data['airports_nearest'].plot(kind='hist', bins=100)\n",
    "plt.title('Расстояние до ближайшего аэропорта')\n",
    "plt.xlabel('Метры')\n",
    "plt.ylabel('Количество квартир')\n",
    "plt.show()"
   ]
  },
  {
   "cell_type": "markdown",
   "metadata": {},
   "source": [
    "Чаще всего расстояние составляет от 10 тыс. до 50тыс. Пик приходится на 13 - 23 тыс. Точный пик выделить сложно. Так же есть пики около 35 и 50 тыс. Максимальные значения доходят до 85 тыс."
   ]
  },
  {
   "cell_type": "markdown",
   "metadata": {},
   "source": [
    "##### Расстояние до ближайшего парка"
   ]
  },
  {
   "cell_type": "code",
   "execution_count": 38,
   "metadata": {},
   "outputs": [
    {
     "data": {
      "image/png": "[encoded data removed]",
      "text/plain": [
       "<Figure size 432x288 with 1 Axes>"
      ]
     },
     "metadata": {
      "needs_background": "light"
     },
     "output_type": "display_data"
    }
   ],
   "source": [
    "data['parks_nearest'].plot(kind='hist', bins=100)\n",
    "plt.title('Расстояние до ближайшего парка')\n",
    "plt.xlabel('Метры')\n",
    "plt.ylabel('Количество квартир')\n",
    "plt.show()"
   ]
  },
  {
   "cell_type": "markdown",
   "metadata": {},
   "source": [
    "Чаще всего расстояние составляет от практически 0 до 800 метров. Хотя есть и очень большие значения, в том числе привыщающие 2000 м. Виден явный пик около 450 м. Хотя возможно он является частично ошибкой, но врятли сильно влияет на общие выводы."
   ]
  },
  {
   "cell_type": "markdown",
   "metadata": {},
   "source": [
    "##### День и месяц публикации объявления"
   ]
  },
  {
   "cell_type": "code",
   "execution_count": 39,
   "metadata": {},
   "outputs": [
    {
     "data": {
      "image/png": "[encoded data removed]",
      "text/plain": [
       "<Figure size 432x288 with 1 Axes>"
      ]
     },
     "metadata": {
      "needs_background": "light"
     },
     "output_type": "display_data"
    },
    {
     "data": {
      "image/png": "[encoded data removed]",
      "text/plain": [
       "<Figure size 432x288 with 1 Axes>"
      ]
     },
     "metadata": {
      "needs_background": "light"
     },
     "output_type": "display_data"
    }
   ],
   "source": [
    "data['day_of_week'].plot(kind='hist', bins=20)\n",
    "plt.title('Дни публикаций')\n",
    "plt.xlabel('Дни недели')\n",
    "plt.ylabel('Количество квартир')\n",
    "plt.show()\n",
    "data['month'].plot(kind='hist', bins=30)\n",
    "plt.title('Месяцы публикаций')\n",
    "plt.xlabel('Месяцы')\n",
    "plt.ylabel('Количество квартир')\n",
    "plt.show()"
   ]
  },
  {
   "cell_type": "markdown",
   "metadata": {},
   "source": [
    "1. По первому графику можно заметить, что в выходные люди реже продают объекты, чем в будние дни.\n",
    "2. На втором графике видно, что в декабрь и январь люди продаю квартиры гораздо реже. Так же видно, что к маю количеств проданных квартир снижается, а после него опять начинает рости."
   ]
  },
  {
   "cell_type": "markdown",
   "metadata": {},
   "source": [
    "#### Изучим, как быстро продавались квартиры"
   ]
  },
  {
   "cell_type": "code",
   "execution_count": 40,
   "metadata": {},
   "outputs": [
    {
     "data": {
      "image/png": "[encoded data removed]",
      "text/plain": [
       "<Figure size 432x288 with 1 Axes>"
      ]
     },
     "metadata": {
      "needs_background": "light"
     },
     "output_type": "display_data"
    },
    {
     "name": "stdout",
     "output_type": "stream",
     "text": [
      "count    18721.000000\n",
      "mean       128.299343\n",
      "std        121.064671\n",
      "min          1.000000\n",
      "25%         41.000000\n",
      "50%         85.000000\n",
      "75%        182.000000\n",
      "max        509.000000\n",
      "Name: days_exposition, dtype: float64 \n",
      "\n",
      "Время продажи (медиана): 85 \n",
      "\n",
      "Время продажи (среднее): 128 \n",
      "\n"
     ]
    }
   ],
   "source": [
    "data['days_exposition'].plot(kind='hist', bins=100)\n",
    "plt.show()\n",
    "print(data['days_exposition'].describe(),'\\n')\n",
    "print('Время продажи (медиана):', round(data['days_exposition'].median()),'\\n')\n",
    "print('Время продажи (среднее):', round(data['days_exposition'].mean()),'\\n')"
   ]
  },
  {
   "cell_type": "markdown",
   "metadata": {},
   "source": [
    "Медианное время продажи - 85 дней. Среднее время продажи - 128 дней.\n",
    "\n",
    "В основном квартиры продаются за срок в 100 дней. Есть большое число квартир, проданных всего за несколько дней после публикации. А также есть варианты, которые продавались несколько десятков месяцев.\n",
    "\n",
    "Быстрой продажей можно назвать срок в 41 день и меньше. Долгой продажей - 182 дня и дольше."
   ]
  },
  {
   "cell_type": "markdown",
   "metadata": {},
   "source": [
    "#### Изучим, какие факторы больше всего влияют на общую (полную) стоимость объекта"
   ]
  },
  {
   "cell_type": "markdown",
   "metadata": {},
   "source": [
    "##### Для этого, во-первых, посмотрим зависимость цены от общей площади"
   ]
  },
  {
   "cell_type": "code",
   "execution_count": 41,
   "metadata": {},
   "outputs": [
    {
     "data": {
      "image/png": "[encoded data removed]",
      "text/plain": [
       "<Figure size 432x288 with 1 Axes>"
      ]
     },
     "metadata": {
      "needs_background": "light"
     },
     "output_type": "display_data"
    },
    {
     "data": {
      "text/plain": [
       "0.6940523107096932"
      ]
     },
     "execution_count": 41,
     "metadata": {},
     "output_type": "execute_result"
    }
   ],
   "source": [
    "total_area = data.pivot_table(index=data.index, values=('last_price', 'total_area'), aggfunc='median')\n",
    "    \n",
    "total_area.plot(kind='scatter', x='total_area', y='last_price', xlim=(0, 400), ylim=(0, 20))\n",
    "plt.show()\n",
    "total_area['total_area'].corr(total_area['last_price'])"
   ]
  },
  {
   "cell_type": "markdown",
   "metadata": {},
   "source": [
    "Мы видим довольно чёткую зависимость для квартир с площадью до 130 кв.м. Далее было много выбросов, поэтому мы удалили остальные данные на предыдущих этапах. Значение корреляции довольно высокое."
   ]
  },
  {
   "cell_type": "markdown",
   "metadata": {},
   "source": [
    "#####  Посмотрим зависимость цены от жилой площади"
   ]
  },
  {
   "cell_type": "code",
   "execution_count": 42,
   "metadata": {},
   "outputs": [
    {
     "data": {
      "image/png": "[encoded data removed]",
      "text/plain": [
       "<Figure size 432x288 with 1 Axes>"
      ]
     },
     "metadata": {
      "needs_background": "light"
     },
     "output_type": "display_data"
    },
    {
     "data": {
      "text/plain": [
       "0.5517958842999492"
      ]
     },
     "execution_count": 42,
     "metadata": {},
     "output_type": "execute_result"
    }
   ],
   "source": [
    "living_area = data.pivot_table(index=data.index, values=('last_price', 'living_area'), aggfunc='median')\n",
    "    \n",
    "living_area.plot(kind='scatter', x='living_area', y='last_price', xlim=(0, 250), ylim=(0, 20))\n",
    "plt.show()\n",
    "living_area['living_area'].corr(living_area['last_price'])"
   ]
  },
  {
   "cell_type": "markdown",
   "metadata": {},
   "source": [
    "На данном графике мы видем, что зависимость гораздо меньше, чем на предыдущем графике. Хотя некоторая зависимость всё же прослеживается. Значение корреляции ниже, чем в придыдущем случае."
   ]
  },
  {
   "cell_type": "markdown",
   "metadata": {},
   "source": [
    "##### Зависимость от площади кухни"
   ]
  },
  {
   "cell_type": "code",
   "execution_count": 43,
   "metadata": {},
   "outputs": [
    {
     "data": {
      "image/png": "[encoded data removed]",
      "text/plain": [
       "<Figure size 432x288 with 1 Axes>"
      ]
     },
     "metadata": {
      "needs_background": "light"
     },
     "output_type": "display_data"
    },
    {
     "data": {
      "text/plain": [
       "0.45190671692982753"
      ]
     },
     "execution_count": 43,
     "metadata": {},
     "output_type": "execute_result"
    }
   ],
   "source": [
    "kitchen_area = data.pivot_table(index=data.index, values=('last_price', 'kitchen_area'), aggfunc='median')\n",
    "    \n",
    "kitchen_area.plot(kind='scatter', x='kitchen_area', y='last_price', xlim=(0, 60), ylim=(0, 20))\n",
    "plt.show()\n",
    "kitchen_area['kitchen_area'].corr(kitchen_area['last_price'])"
   ]
  },
  {
   "cell_type": "markdown",
   "metadata": {},
   "source": [
    "Здесь зависимость ещё меньше. Корреляции тоже меньше."
   ]
  },
  {
   "cell_type": "markdown",
   "metadata": {},
   "source": [
    "##### Зависимость от количества комнат"
   ]
  },
  {
   "cell_type": "code",
   "execution_count": 44,
   "metadata": {},
   "outputs": [
    {
     "data": {
      "image/png": "[encoded data removed]",
      "text/plain": [
       "<Figure size 432x432 with 1 Axes>"
      ]
     },
     "metadata": {
      "needs_background": "light"
     },
     "output_type": "display_data"
    },
    {
     "data": {
      "text/plain": [
       "0.44375083368862145"
      ]
     },
     "execution_count": 44,
     "metadata": {},
     "output_type": "execute_result"
    }
   ],
   "source": [
    "data.boxplot(column=['last_price'], by='rooms', figsize=(6, 6))\n",
    "\n",
    "plt.ylim(0, 30)\n",
    "plt.show()\n",
    "\n",
    "data['last_price'].corr(data['rooms'])"
   ]
  },
  {
   "cell_type": "markdown",
   "metadata": {},
   "source": [
    "Тут мы видем довольно явную зависимость: чем больше количество комнат, тем выше цена. Хотя процент корреляции довольно низкий. Скорее всего это из-за большго числа выбросов."
   ]
  },
  {
   "cell_type": "markdown",
   "metadata": {},
   "source": [
    "##### Зависимотсть от типа этажа"
   ]
  },
  {
   "cell_type": "code",
   "execution_count": 45,
   "metadata": {},
   "outputs": [
    {
     "data": {
      "image/png": "[encoded data removed]",
      "text/plain": [
       "<Figure size 432x432 with 1 Axes>"
      ]
     },
     "metadata": {
      "needs_background": "light"
     },
     "output_type": "display_data"
    }
   ],
   "source": [
    "data.boxplot(column=['last_price'], by='floor_category', figsize=(6, 6))\n",
    "\n",
    "plt.ylim(0, 20)\n",
    "plt.show()\n"
   ]
  },
  {
   "cell_type": "markdown",
   "metadata": {},
   "source": [
    "По этому графику мы видем, что квартиры на первом этаже обычно стоят дешевле, чем квартиры других этажах, а квартиры на последнем чуть больше, чем все остальные."
   ]
  },
  {
   "cell_type": "markdown",
   "metadata": {},
   "source": [
    "##### Зависимтость от дня недели"
   ]
  },
  {
   "cell_type": "code",
   "execution_count": 46,
   "metadata": {},
   "outputs": [
    {
     "data": {
      "image/png": "[encoded data removed]",
      "text/plain": [
       "<Figure size 432x432 with 1 Axes>"
      ]
     },
     "metadata": {
      "needs_background": "light"
     },
     "output_type": "display_data"
    }
   ],
   "source": [
    "data.boxplot(column=['last_price'], by='day_of_week', figsize=(6, 6))\n",
    "\n",
    "plt.ylim(0, 20)\n",
    "plt.show()"
   ]
  },
  {
   "cell_type": "markdown",
   "metadata": {},
   "source": [
    "Тут наблюдается небольшая зависимость, а именно: к середине недели, обычно, цена на квартиры немного увеличивается, а потом к выходным опять уменьшается."
   ]
  },
  {
   "cell_type": "markdown",
   "metadata": {},
   "source": [
    "##### Зависимость от месяца"
   ]
  },
  {
   "cell_type": "code",
   "execution_count": 47,
   "metadata": {},
   "outputs": [
    {
     "data": {
      "image/png": "[encoded data removed]",
      "text/plain": [
       "<Figure size 432x432 with 1 Axes>"
      ]
     },
     "metadata": {
      "needs_background": "light"
     },
     "output_type": "display_data"
    }
   ],
   "source": [
    "data.boxplot(column=['last_price'], by='month', figsize=(6, 6))\n",
    "\n",
    "plt.ylim(0, 20)\n",
    "plt.show()"
   ]
  },
  {
   "cell_type": "markdown",
   "metadata": {},
   "source": [
    "Тут зависимости нету практически никакой: просто в некоторые месяцы чуть больше, в некоторые чуть меньше."
   ]
  },
  {
   "cell_type": "markdown",
   "metadata": {},
   "source": [
    "##### Зависимость от года"
   ]
  },
  {
   "cell_type": "code",
   "execution_count": 48,
   "metadata": {},
   "outputs": [
    {
     "data": {
      "image/png": "[encoded data removed]",
      "text/plain": [
       "<Figure size 432x432 with 1 Axes>"
      ]
     },
     "metadata": {
      "needs_background": "light"
     },
     "output_type": "display_data"
    }
   ],
   "source": [
    "data.boxplot(column=['last_price'], by='year', figsize=(6, 6))\n",
    "\n",
    "plt.ylim(0, 20)\n",
    "plt.show()"
   ]
  },
  {
   "cell_type": "markdown",
   "metadata": {},
   "source": [
    "Вначале виден спад цен к 2017 году, а потом рост, вплоть до 2019 года."
   ]
  },
  {
   "cell_type": "markdown",
   "metadata": {},
   "source": [
    "#### Посмотрим, цену квадратного метра в разных населённым пунктах"
   ]
  },
  {
   "cell_type": "code",
   "execution_count": 49,
   "metadata": {},
   "outputs": [
    {
     "data": {
      "image/png": "[encoded data removed]",
      "text/plain": [
       "<Figure size 720x360 with 1 Axes>"
      ]
     },
     "metadata": {
      "needs_background": "light"
     },
     "output_type": "display_data"
    },
    {
     "data": {
      "text/html": [
       "<div>\n",
       "<style scoped>\n",
       "    .dataframe tbody tr th:only-of-type {\n",
       "        vertical-align: middle;\n",
       "    }\n",
       "\n",
       "    .dataframe tbody tr th {\n",
       "        vertical-align: top;\n",
       "    }\n",
       "\n",
       "    .dataframe thead th {\n",
       "        text-align: right;\n",
       "    }\n",
       "</style>\n",
       "<table border=\"1\" class=\"dataframe\">\n",
       "  <thead>\n",
       "    <tr style=\"text-align: right;\">\n",
       "      <th></th>\n",
       "      <th>price_one_sq_m</th>\n",
       "    </tr>\n",
       "    <tr>\n",
       "      <th>locality_name</th>\n",
       "      <th></th>\n",
       "    </tr>\n",
       "  </thead>\n",
       "  <tbody>\n",
       "    <tr>\n",
       "      <th>Санкт-Петербург</th>\n",
       "      <td>105686</td>\n",
       "    </tr>\n",
       "    <tr>\n",
       "      <th>Пушкин</th>\n",
       "      <td>100462</td>\n",
       "    </tr>\n",
       "    <tr>\n",
       "      <th>деревня Кудрово</th>\n",
       "      <td>92409</td>\n",
       "    </tr>\n",
       "    <tr>\n",
       "      <th>посёлок Парголово</th>\n",
       "      <td>90332</td>\n",
       "    </tr>\n",
       "    <tr>\n",
       "      <th>посёлок Мурино</th>\n",
       "      <td>85673</td>\n",
       "    </tr>\n",
       "    <tr>\n",
       "      <th>посёлок Шушары</th>\n",
       "      <td>78578</td>\n",
       "    </tr>\n",
       "    <tr>\n",
       "      <th>Колпино</th>\n",
       "      <td>75221</td>\n",
       "    </tr>\n",
       "    <tr>\n",
       "      <th>Гатчина</th>\n",
       "      <td>68664</td>\n",
       "    </tr>\n",
       "    <tr>\n",
       "      <th>Всеволожск</th>\n",
       "      <td>67222</td>\n",
       "    </tr>\n",
       "    <tr>\n",
       "      <th>Выборг</th>\n",
       "      <td>58225</td>\n",
       "    </tr>\n",
       "  </tbody>\n",
       "</table>\n",
       "</div>"
      ],
      "text/plain": [
       "                   price_one_sq_m\n",
       "locality_name                    \n",
       "Санкт-Петербург            105686\n",
       "Пушкин                     100462\n",
       "деревня Кудрово             92409\n",
       "посёлок Парголово           90332\n",
       "посёлок Мурино              85673\n",
       "посёлок Шушары              78578\n",
       "Колпино                     75221\n",
       "Гатчина                     68664\n",
       "Всеволожск                  67222\n",
       "Выборг                      58225"
      ]
     },
     "execution_count": 49,
     "metadata": {},
     "output_type": "execute_result"
    }
   ],
   "source": [
    "locality_ten = data['locality_name'].value_counts().head(10)\n",
    "locality_sq_price = data.query('locality_name in (@locality_ten.index)').pivot_table(values='price_one_sq_m', index='locality_name')\n",
    "locality_sq_price = locality_sq_price.astype(int)\n",
    "\n",
    "locality_sq_price.sort_values('price_one_sq_m', ascending=False).plot(grid=True, style='o-', figsize=(10, 5))\n",
    "plt.show()\n",
    "\n",
    "locality_sq_price.sort_values('price_one_sq_m', ascending=False)"
   ]
  },
  {
   "cell_type": "markdown",
   "metadata": {},
   "source": [
    "Наибольшая средняя стоимость квадратного метра, как и ожидалось, в Санкт-Петербурге. Наименьшая же стоимость оказалась в Выборге."
   ]
  },
  {
   "cell_type": "markdown",
   "metadata": {},
   "source": [
    "#### Выясним, как расстояние до центра города влияет на стоимость квартиры"
   ]
  },
  {
   "cell_type": "code",
   "execution_count": 50,
   "metadata": {},
   "outputs": [
    {
     "data": {
      "image/png": "[encoded data removed]",
      "text/plain": [
       "<Figure size 720x360 with 1 Axes>"
      ]
     },
     "metadata": {
      "needs_background": "light"
     },
     "output_type": "display_data"
    }
   ],
   "source": [
    "spb_km_price = (\n",
    "    data.query('locality_name == \"Санкт-Петербург\"')\n",
    "    .pivot_table(index='cityCenters_nearest_km', values='last_price', aggfunc='median')\n",
    "    .plot(grid=True, style='o-', xlim=(0,20), ylim=(0, 9),figsize=(10, 5))\n",
    "    \n",
    ")\n",
    "plt.show()\n"
   ]
  },
  {
   "cell_type": "markdown",
   "metadata": {},
   "source": [
    "По графику хорошо видно, что чем дальше от цента города, тем дешевле стоимость квартир."
   ]
  },
  {
   "cell_type": "markdown",
   "metadata": {},
   "source": [
    "### Общий вывод"
   ]
  },
  {
   "cell_type": "markdown",
   "metadata": {},
   "source": [
    "В ходе исследования, я сделал:\n",
    "\n",
    "1) Просмотрел данные, увидел столбцы с аномальными или пропущенными значениями. Для удобства построил графики;\n",
    "\n",
    "2) Избавился от пропусков в данных. Удалил аномальные значения;\n",
    "\n",
    "3) Добавил новые столбцы для облегчения работы с данными;\n",
    "\n",
    "4) Изучил разные параметры квартиры;\n",
    "\n",
    "5) Узнал, какие параметры больше всего влияют на стоимость квартир;\n",
    "\n",
    "6) Посчитал, в каких начелённых пунктах самая высокая и самая низкая цена за квадратный метр;\n",
    "\n",
    "7) Посчитал, цену квадратного метра, для каждого километра от центра города;\n",
    "\n",
    "\n",
    "\n",
    "\n",
    "Общий вывод:\n",
    "\n",
    "Чаще всего квартиры продают за срок в 100 дней. Есть большое число квартир, проданных всего за несколько дней после публикации. А также есть варианты, которые продавались несколько десятков месяцев.\n",
    "Быстрой продажей можно назвать срок в 41 день и меньше. Долгой продажей - 182 дня и дольше\n",
    "\n",
    "На стоимость квартир больше всего площадь квартиры, нежели число комнат. Т.е. могут быть дорогие квартиры с малым числом комнат, но где комнаты просторные.\n",
    "Первый этаж значительно дешевле остальных вариантов. А квартиры на последнем этаже обычно дороже остальных. Смотря по годам, видно, что до 2017 года был спад цен, но начиная со следующего года квартиры расли вплоть до 2019.\n",
    "\n",
    "Дороже всего квадратный метр в Санкт-Петербурге - 105686. Также дорогой квадратный метр в Пушкине - 100462, и в деревне Кудрово -92409.\n",
    "\n",
    "Дешевле всего квадратный метр в Выборге - 58141. Так же дешёвый квадратный метр в Всеволожске - 67222, и в Гатчине - 68664."
   ]
  },
  {
   "cell_type": "code",
   "execution_count": null,
   "metadata": {},
   "outputs": [],
   "source": []
  }
 ],
 "metadata": {
  "ExecuteTimeLog": [
   {
    "duration": 687,
    "start_time": "2022-10-12T04:31:16.278Z"
   },
   {
    "duration": 15,
    "start_time": "2022-10-12T04:34:08.458Z"
   },
   {
    "duration": 510,
    "start_time": "2022-10-12T04:34:26.598Z"
   },
   {
    "duration": 20,
    "start_time": "2022-10-12T04:34:27.110Z"
   },
   {
    "duration": 15,
    "start_time": "2022-10-12T04:35:45.211Z"
   },
   {
    "duration": 401,
    "start_time": "2022-10-12T04:37:45.560Z"
   },
   {
    "duration": 433,
    "start_time": "2022-10-12T04:38:32.509Z"
   },
   {
    "duration": 13,
    "start_time": "2022-10-12T04:38:32.944Z"
   },
   {
    "duration": 12,
    "start_time": "2022-10-12T04:38:32.959Z"
   },
   {
    "duration": 219,
    "start_time": "2022-10-12T04:38:32.973Z"
   },
   {
    "duration": 97,
    "start_time": "2022-10-12T04:38:43.663Z"
   },
   {
    "duration": 14,
    "start_time": "2022-10-12T04:39:02.306Z"
   },
   {
    "duration": 100,
    "start_time": "2022-10-12T04:45:40.018Z"
   },
   {
    "duration": 45,
    "start_time": "2022-10-12T04:45:41.690Z"
   },
   {
    "duration": 19,
    "start_time": "2022-10-12T04:45:45.551Z"
   },
   {
    "duration": 820,
    "start_time": "2022-10-12T04:45:47.314Z"
   },
   {
    "duration": 1984,
    "start_time": "2022-10-12T04:46:26.629Z"
   },
   {
    "duration": 1966,
    "start_time": "2022-10-12T04:48:16.121Z"
   },
   {
    "duration": 2082,
    "start_time": "2022-10-12T04:49:16.048Z"
   },
   {
    "duration": 1914,
    "start_time": "2022-10-12T04:49:23.329Z"
   },
   {
    "duration": 2082,
    "start_time": "2022-10-12T04:51:03.358Z"
   },
   {
    "duration": 2038,
    "start_time": "2022-10-12T04:52:07.162Z"
   },
   {
    "duration": 2006,
    "start_time": "2022-10-12T04:52:18.401Z"
   },
   {
    "duration": 2043,
    "start_time": "2022-10-12T04:52:24.962Z"
   },
   {
    "duration": 11,
    "start_time": "2022-10-12T05:00:09.271Z"
   },
   {
    "duration": 24,
    "start_time": "2022-10-12T05:02:42.056Z"
   },
   {
    "duration": 8,
    "start_time": "2022-10-12T05:02:53.867Z"
   },
   {
    "duration": 21,
    "start_time": "2022-10-12T05:02:56.288Z"
   },
   {
    "duration": 25,
    "start_time": "2022-10-12T05:03:05.935Z"
   },
   {
    "duration": 29,
    "start_time": "2022-10-12T05:03:11.848Z"
   },
   {
    "duration": 2421,
    "start_time": "2022-10-12T05:03:20.227Z"
   },
   {
    "duration": 9,
    "start_time": "2022-10-12T05:03:23.061Z"
   },
   {
    "duration": 21,
    "start_time": "2022-10-12T05:03:27.253Z"
   },
   {
    "duration": 529,
    "start_time": "2022-10-12T05:03:37.124Z"
   },
   {
    "duration": 45,
    "start_time": "2022-10-12T05:03:37.656Z"
   },
   {
    "duration": 15,
    "start_time": "2022-10-12T05:03:37.703Z"
   },
   {
    "duration": 2269,
    "start_time": "2022-10-12T05:03:37.720Z"
   },
   {
    "duration": 10,
    "start_time": "2022-10-12T05:03:39.990Z"
   },
   {
    "duration": 35,
    "start_time": "2022-10-12T05:03:40.002Z"
   },
   {
    "duration": 40,
    "start_time": "2022-10-12T05:03:56.778Z"
   },
   {
    "duration": 7,
    "start_time": "2022-10-12T05:10:38.711Z"
   },
   {
    "duration": 7,
    "start_time": "2022-10-12T05:11:01.714Z"
   },
   {
    "duration": 8,
    "start_time": "2022-10-12T05:11:05.377Z"
   },
   {
    "duration": 8,
    "start_time": "2022-10-12T05:11:16.602Z"
   },
   {
    "duration": 7,
    "start_time": "2022-10-12T05:11:24.813Z"
   },
   {
    "duration": 4,
    "start_time": "2022-10-12T05:11:40.420Z"
   },
   {
    "duration": 9,
    "start_time": "2022-10-12T05:11:50.168Z"
   },
   {
    "duration": 10,
    "start_time": "2022-10-12T05:12:07.412Z"
   },
   {
    "duration": 927,
    "start_time": "2022-10-12T05:14:11.984Z"
   },
   {
    "duration": 944,
    "start_time": "2022-10-12T05:14:15.071Z"
   },
   {
    "duration": 8,
    "start_time": "2022-10-12T05:14:21.648Z"
   },
   {
    "duration": 6,
    "start_time": "2022-10-12T05:14:27.779Z"
   },
   {
    "duration": 8,
    "start_time": "2022-10-12T05:14:40.117Z"
   },
   {
    "duration": 6,
    "start_time": "2022-10-12T05:14:44.686Z"
   },
   {
    "duration": 40,
    "start_time": "2022-10-12T05:15:15.497Z"
   },
   {
    "duration": 9,
    "start_time": "2022-10-12T05:16:50.239Z"
   },
   {
    "duration": 8,
    "start_time": "2022-10-12T05:17:23.818Z"
   },
   {
    "duration": 26,
    "start_time": "2022-10-12T05:17:58.346Z"
   },
   {
    "duration": 10,
    "start_time": "2022-10-12T05:18:08.104Z"
   },
   {
    "duration": 7,
    "start_time": "2022-10-12T05:33:00.378Z"
   },
   {
    "duration": 5,
    "start_time": "2022-10-12T05:33:06.463Z"
   },
   {
    "duration": 6,
    "start_time": "2022-10-12T05:33:14.565Z"
   },
   {
    "duration": 7,
    "start_time": "2022-10-12T05:33:20.985Z"
   },
   {
    "duration": 7,
    "start_time": "2022-10-12T05:34:07.653Z"
   },
   {
    "duration": 7,
    "start_time": "2022-10-12T05:35:15.475Z"
   },
   {
    "duration": 8,
    "start_time": "2022-10-12T05:35:39.965Z"
   },
   {
    "duration": 471,
    "start_time": "2022-10-12T05:36:28.996Z"
   },
   {
    "duration": 48,
    "start_time": "2022-10-12T05:36:29.469Z"
   },
   {
    "duration": 15,
    "start_time": "2022-10-12T05:36:29.519Z"
   },
   {
    "duration": 2539,
    "start_time": "2022-10-12T05:36:29.554Z"
   },
   {
    "duration": 8,
    "start_time": "2022-10-12T05:36:32.095Z"
   },
   {
    "duration": 21,
    "start_time": "2022-10-12T05:36:32.105Z"
   },
   {
    "duration": 15,
    "start_time": "2022-10-12T05:36:32.128Z"
   },
   {
    "duration": 73,
    "start_time": "2022-10-12T05:37:42.118Z"
   },
   {
    "duration": 9,
    "start_time": "2022-10-12T05:44:06.031Z"
   },
   {
    "duration": 7,
    "start_time": "2022-10-12T05:45:18.058Z"
   },
   {
    "duration": 511,
    "start_time": "2022-10-12T05:45:36.253Z"
   },
   {
    "duration": 46,
    "start_time": "2022-10-12T05:45:36.766Z"
   },
   {
    "duration": 15,
    "start_time": "2022-10-12T05:45:36.814Z"
   },
   {
    "duration": 2282,
    "start_time": "2022-10-12T05:45:36.831Z"
   },
   {
    "duration": 9,
    "start_time": "2022-10-12T05:45:39.115Z"
   },
   {
    "duration": 16,
    "start_time": "2022-10-12T05:45:39.126Z"
   },
   {
    "duration": 10,
    "start_time": "2022-10-12T05:45:39.144Z"
   },
   {
    "duration": 6,
    "start_time": "2022-10-12T05:45:39.155Z"
   },
   {
    "duration": 6,
    "start_time": "2022-10-12T05:47:02.577Z"
   },
   {
    "duration": 41,
    "start_time": "2022-10-12T05:48:08.856Z"
   },
   {
    "duration": 6,
    "start_time": "2022-10-12T05:48:18.354Z"
   },
   {
    "duration": 6,
    "start_time": "2022-10-12T05:48:23.373Z"
   },
   {
    "duration": 544,
    "start_time": "2022-10-12T05:48:31.183Z"
   },
   {
    "duration": 71,
    "start_time": "2022-10-12T05:48:31.729Z"
   },
   {
    "duration": 16,
    "start_time": "2022-10-12T05:48:31.802Z"
   },
   {
    "duration": 2249,
    "start_time": "2022-10-12T05:48:31.820Z"
   },
   {
    "duration": 9,
    "start_time": "2022-10-12T05:48:34.070Z"
   },
   {
    "duration": 10,
    "start_time": "2022-10-12T05:48:34.081Z"
   },
   {
    "duration": 11,
    "start_time": "2022-10-12T05:48:34.092Z"
   },
   {
    "duration": 11,
    "start_time": "2022-10-12T05:48:34.104Z"
   },
   {
    "duration": 10,
    "start_time": "2022-10-12T05:48:34.117Z"
   },
   {
    "duration": 11,
    "start_time": "2022-10-12T05:49:00.358Z"
   },
   {
    "duration": 39,
    "start_time": "2022-10-12T05:49:15.912Z"
   },
   {
    "duration": 6,
    "start_time": "2022-10-12T05:49:23.361Z"
   },
   {
    "duration": 6,
    "start_time": "2022-10-12T05:49:38.223Z"
   },
   {
    "duration": 538,
    "start_time": "2022-10-12T05:49:50.642Z"
   },
   {
    "duration": 45,
    "start_time": "2022-10-12T05:49:51.182Z"
   },
   {
    "duration": 25,
    "start_time": "2022-10-12T05:49:51.229Z"
   },
   {
    "duration": 2357,
    "start_time": "2022-10-12T05:49:51.256Z"
   },
   {
    "duration": 10,
    "start_time": "2022-10-12T05:49:53.615Z"
   },
   {
    "duration": 12,
    "start_time": "2022-10-12T05:49:53.627Z"
   },
   {
    "duration": 15,
    "start_time": "2022-10-12T05:49:53.641Z"
   },
   {
    "duration": 15,
    "start_time": "2022-10-12T05:49:53.658Z"
   },
   {
    "duration": 6,
    "start_time": "2022-10-12T05:49:53.675Z"
   },
   {
    "duration": 35,
    "start_time": "2022-10-12T05:51:49.301Z"
   },
   {
    "duration": 35,
    "start_time": "2022-10-12T05:52:03.860Z"
   },
   {
    "duration": 1226,
    "start_time": "2022-10-12T05:58:32.637Z"
   },
   {
    "duration": 32,
    "start_time": "2022-10-12T05:58:38.348Z"
   },
   {
    "duration": 1335,
    "start_time": "2022-10-12T05:58:40.320Z"
   },
   {
    "duration": 504,
    "start_time": "2022-10-12T05:58:47.871Z"
   },
   {
    "duration": 49,
    "start_time": "2022-10-12T05:58:48.377Z"
   },
   {
    "duration": 29,
    "start_time": "2022-10-12T05:58:48.428Z"
   },
   {
    "duration": 2270,
    "start_time": "2022-10-12T05:58:48.459Z"
   },
   {
    "duration": 8,
    "start_time": "2022-10-12T05:58:50.731Z"
   },
   {
    "duration": 9,
    "start_time": "2022-10-12T05:58:50.741Z"
   },
   {
    "duration": 16,
    "start_time": "2022-10-12T05:58:50.751Z"
   },
   {
    "duration": 10,
    "start_time": "2022-10-12T05:58:50.769Z"
   },
   {
    "duration": 37,
    "start_time": "2022-10-12T05:58:50.781Z"
   },
   {
    "duration": 1370,
    "start_time": "2022-10-12T05:58:50.821Z"
   },
   {
    "duration": 2498,
    "start_time": "2022-10-12T05:59:21.496Z"
   },
   {
    "duration": 529,
    "start_time": "2022-10-12T05:59:43.445Z"
   },
   {
    "duration": 45,
    "start_time": "2022-10-12T05:59:43.976Z"
   },
   {
    "duration": 15,
    "start_time": "2022-10-12T05:59:44.023Z"
   },
   {
    "duration": 2301,
    "start_time": "2022-10-12T05:59:44.040Z"
   },
   {
    "duration": 9,
    "start_time": "2022-10-12T05:59:46.344Z"
   },
   {
    "duration": 9,
    "start_time": "2022-10-12T05:59:46.355Z"
   },
   {
    "duration": 9,
    "start_time": "2022-10-12T05:59:46.365Z"
   },
   {
    "duration": 7,
    "start_time": "2022-10-12T05:59:46.376Z"
   },
   {
    "duration": 35,
    "start_time": "2022-10-12T05:59:46.385Z"
   },
   {
    "duration": 2475,
    "start_time": "2022-10-12T05:59:46.455Z"
   },
   {
    "duration": 9,
    "start_time": "2022-10-12T06:01:44.692Z"
   },
   {
    "duration": 521,
    "start_time": "2022-10-12T06:03:04.443Z"
   },
   {
    "duration": 47,
    "start_time": "2022-10-12T06:03:04.966Z"
   },
   {
    "duration": 16,
    "start_time": "2022-10-12T06:03:05.015Z"
   },
   {
    "duration": 2259,
    "start_time": "2022-10-12T06:03:05.033Z"
   },
   {
    "duration": 9,
    "start_time": "2022-10-12T06:03:07.294Z"
   },
   {
    "duration": 11,
    "start_time": "2022-10-12T06:03:07.305Z"
   },
   {
    "duration": 7,
    "start_time": "2022-10-12T06:03:07.318Z"
   },
   {
    "duration": 6,
    "start_time": "2022-10-12T06:03:07.327Z"
   },
   {
    "duration": 42,
    "start_time": "2022-10-12T06:03:07.335Z"
   },
   {
    "duration": 2455,
    "start_time": "2022-10-12T06:03:07.379Z"
   },
   {
    "duration": 22,
    "start_time": "2022-10-12T06:03:09.836Z"
   },
   {
    "duration": 10,
    "start_time": "2022-10-12T06:03:47.959Z"
   },
   {
    "duration": 10,
    "start_time": "2022-10-12T06:03:55.614Z"
   },
   {
    "duration": 2492,
    "start_time": "2022-10-12T06:04:32.840Z"
   },
   {
    "duration": 9,
    "start_time": "2022-10-12T06:05:35.448Z"
   },
   {
    "duration": 8,
    "start_time": "2022-10-12T06:05:45.546Z"
   },
   {
    "duration": 7,
    "start_time": "2022-10-12T06:05:57.501Z"
   },
   {
    "duration": 2530,
    "start_time": "2022-10-12T06:06:13.298Z"
   },
   {
    "duration": 7,
    "start_time": "2022-10-12T06:06:56.029Z"
   },
   {
    "duration": 516,
    "start_time": "2022-10-12T06:07:05.353Z"
   },
   {
    "duration": 44,
    "start_time": "2022-10-12T06:07:05.871Z"
   },
   {
    "duration": 14,
    "start_time": "2022-10-12T06:07:05.916Z"
   },
   {
    "duration": 2257,
    "start_time": "2022-10-12T06:07:05.932Z"
   },
   {
    "duration": 10,
    "start_time": "2022-10-12T06:07:08.191Z"
   },
   {
    "duration": 15,
    "start_time": "2022-10-12T06:07:08.203Z"
   },
   {
    "duration": 7,
    "start_time": "2022-10-12T06:07:08.221Z"
   },
   {
    "duration": 6,
    "start_time": "2022-10-12T06:07:08.230Z"
   },
   {
    "duration": 44,
    "start_time": "2022-10-12T06:07:08.238Z"
   },
   {
    "duration": 6,
    "start_time": "2022-10-12T06:07:08.284Z"
   },
   {
    "duration": 2457,
    "start_time": "2022-10-12T06:07:08.292Z"
   },
   {
    "duration": 10,
    "start_time": "2022-10-12T06:07:10.751Z"
   },
   {
    "duration": 7,
    "start_time": "2022-10-12T06:07:10.762Z"
   },
   {
    "duration": 2249,
    "start_time": "2022-10-12T06:07:49.975Z"
   },
   {
    "duration": 465,
    "start_time": "2022-10-12T06:08:19.709Z"
   },
   {
    "duration": 47,
    "start_time": "2022-10-12T06:08:20.177Z"
   },
   {
    "duration": 32,
    "start_time": "2022-10-12T06:08:20.226Z"
   },
   {
    "duration": 2316,
    "start_time": "2022-10-12T06:08:20.261Z"
   },
   {
    "duration": 10,
    "start_time": "2022-10-12T06:08:22.578Z"
   },
   {
    "duration": 8,
    "start_time": "2022-10-12T06:08:22.590Z"
   },
   {
    "duration": 8,
    "start_time": "2022-10-12T06:08:22.600Z"
   },
   {
    "duration": 9,
    "start_time": "2022-10-12T06:08:22.610Z"
   },
   {
    "duration": 39,
    "start_time": "2022-10-12T06:08:22.620Z"
   },
   {
    "duration": 2215,
    "start_time": "2022-10-12T06:08:22.662Z"
   },
   {
    "duration": 498,
    "start_time": "2022-10-12T06:10:34.566Z"
   },
   {
    "duration": 44,
    "start_time": "2022-10-12T06:10:35.066Z"
   },
   {
    "duration": 15,
    "start_time": "2022-10-12T06:10:35.111Z"
   },
   {
    "duration": 2225,
    "start_time": "2022-10-12T06:10:35.128Z"
   },
   {
    "duration": 9,
    "start_time": "2022-10-12T06:10:37.355Z"
   },
   {
    "duration": 9,
    "start_time": "2022-10-12T06:10:37.366Z"
   },
   {
    "duration": 7,
    "start_time": "2022-10-12T06:10:37.377Z"
   },
   {
    "duration": 36,
    "start_time": "2022-10-12T06:10:37.385Z"
   },
   {
    "duration": 2187,
    "start_time": "2022-10-12T06:10:37.422Z"
   },
   {
    "duration": 6,
    "start_time": "2022-10-12T06:10:39.611Z"
   },
   {
    "duration": 7,
    "start_time": "2022-10-12T06:16:14.698Z"
   },
   {
    "duration": 16,
    "start_time": "2022-10-12T06:16:31.690Z"
   },
   {
    "duration": 460,
    "start_time": "2022-10-12T06:17:27.709Z"
   },
   {
    "duration": 49,
    "start_time": "2022-10-12T06:17:28.171Z"
   },
   {
    "duration": 18,
    "start_time": "2022-10-12T06:17:28.222Z"
   },
   {
    "duration": 2290,
    "start_time": "2022-10-12T06:17:28.255Z"
   },
   {
    "duration": 11,
    "start_time": "2022-10-12T06:17:30.547Z"
   },
   {
    "duration": 37,
    "start_time": "2022-10-12T06:17:30.560Z"
   },
   {
    "duration": 42,
    "start_time": "2022-10-12T06:17:30.599Z"
   },
   {
    "duration": 73,
    "start_time": "2022-10-12T06:17:30.643Z"
   },
   {
    "duration": 2284,
    "start_time": "2022-10-12T06:17:30.718Z"
   },
   {
    "duration": 6,
    "start_time": "2022-10-12T06:17:33.005Z"
   },
   {
    "duration": 14,
    "start_time": "2022-10-12T06:17:33.012Z"
   },
   {
    "duration": 2350,
    "start_time": "2022-10-12T06:18:30.272Z"
   },
   {
    "duration": 2309,
    "start_time": "2022-10-12T06:18:40.404Z"
   },
   {
    "duration": 2167,
    "start_time": "2022-10-12T06:18:44.498Z"
   },
   {
    "duration": 5,
    "start_time": "2022-10-12T06:20:28.129Z"
   },
   {
    "duration": 11,
    "start_time": "2022-10-12T06:20:35.710Z"
   },
   {
    "duration": 482,
    "start_time": "2022-10-12T06:20:42.667Z"
   },
   {
    "duration": 43,
    "start_time": "2022-10-12T06:20:43.151Z"
   },
   {
    "duration": 15,
    "start_time": "2022-10-12T06:20:43.196Z"
   },
   {
    "duration": 2280,
    "start_time": "2022-10-12T06:20:43.213Z"
   },
   {
    "duration": 14,
    "start_time": "2022-10-12T06:20:45.495Z"
   },
   {
    "duration": 16,
    "start_time": "2022-10-12T06:20:45.511Z"
   },
   {
    "duration": 8,
    "start_time": "2022-10-12T06:20:45.528Z"
   },
   {
    "duration": 42,
    "start_time": "2022-10-12T06:20:45.538Z"
   },
   {
    "duration": 2226,
    "start_time": "2022-10-12T06:20:45.581Z"
   },
   {
    "duration": 5,
    "start_time": "2022-10-12T06:20:47.810Z"
   },
   {
    "duration": 11,
    "start_time": "2022-10-12T06:20:47.817Z"
   },
   {
    "duration": 27,
    "start_time": "2022-10-12T06:20:47.830Z"
   },
   {
    "duration": 485,
    "start_time": "2022-10-12T06:27:34.388Z"
   },
   {
    "duration": 47,
    "start_time": "2022-10-12T06:27:34.875Z"
   },
   {
    "duration": 16,
    "start_time": "2022-10-12T06:27:34.925Z"
   },
   {
    "duration": 2388,
    "start_time": "2022-10-12T06:27:34.953Z"
   },
   {
    "duration": 10,
    "start_time": "2022-10-12T06:27:37.344Z"
   },
   {
    "duration": 9,
    "start_time": "2022-10-12T06:27:37.355Z"
   },
   {
    "duration": 8,
    "start_time": "2022-10-12T06:27:37.365Z"
   },
   {
    "duration": 34,
    "start_time": "2022-10-12T06:27:37.375Z"
   },
   {
    "duration": 2272,
    "start_time": "2022-10-12T06:27:37.410Z"
   },
   {
    "duration": 5,
    "start_time": "2022-10-12T06:27:39.684Z"
   },
   {
    "duration": 15,
    "start_time": "2022-10-12T06:27:39.690Z"
   },
   {
    "duration": 27,
    "start_time": "2022-10-12T06:27:39.707Z"
   },
   {
    "duration": 6,
    "start_time": "2022-10-12T06:27:39.736Z"
   },
   {
    "duration": 1449,
    "start_time": "2022-10-12T06:27:39.753Z"
   },
   {
    "duration": 1234,
    "start_time": "2022-10-12T06:28:28.075Z"
   },
   {
    "duration": 5,
    "start_time": "2022-10-12T06:29:45.307Z"
   },
   {
    "duration": 7,
    "start_time": "2022-10-12T06:29:50.165Z"
   },
   {
    "duration": 9,
    "start_time": "2022-10-12T06:30:28.963Z"
   },
   {
    "duration": 5,
    "start_time": "2022-10-12T06:33:55.324Z"
   },
   {
    "duration": 9,
    "start_time": "2022-10-12T06:34:05.707Z"
   },
   {
    "duration": 7,
    "start_time": "2022-10-12T06:34:18.413Z"
   },
   {
    "duration": 9,
    "start_time": "2022-10-12T06:35:16.088Z"
   },
   {
    "duration": 478,
    "start_time": "2022-10-12T06:35:21.993Z"
   },
   {
    "duration": 43,
    "start_time": "2022-10-12T06:35:22.473Z"
   },
   {
    "duration": 14,
    "start_time": "2022-10-12T06:35:22.518Z"
   },
   {
    "duration": 2323,
    "start_time": "2022-10-12T06:35:22.534Z"
   },
   {
    "duration": 10,
    "start_time": "2022-10-12T06:35:24.858Z"
   },
   {
    "duration": 10,
    "start_time": "2022-10-12T06:35:24.870Z"
   },
   {
    "duration": 17,
    "start_time": "2022-10-12T06:35:24.882Z"
   },
   {
    "duration": 34,
    "start_time": "2022-10-12T06:35:24.900Z"
   },
   {
    "duration": 2236,
    "start_time": "2022-10-12T06:35:24.935Z"
   },
   {
    "duration": 4,
    "start_time": "2022-10-12T06:35:27.174Z"
   },
   {
    "duration": 33,
    "start_time": "2022-10-12T06:35:27.180Z"
   },
   {
    "duration": 31,
    "start_time": "2022-10-12T06:35:27.215Z"
   },
   {
    "duration": 38,
    "start_time": "2022-10-12T06:35:27.248Z"
   },
   {
    "duration": 33,
    "start_time": "2022-10-12T06:35:27.289Z"
   },
   {
    "duration": 6,
    "start_time": "2022-10-12T06:37:29.463Z"
   },
   {
    "duration": 80,
    "start_time": "2022-10-12T06:37:42.684Z"
   },
   {
    "duration": 48,
    "start_time": "2022-10-12T06:38:06.869Z"
   },
   {
    "duration": 8,
    "start_time": "2022-10-12T06:40:28.643Z"
   },
   {
    "duration": 7,
    "start_time": "2022-10-12T06:42:18.140Z"
   },
   {
    "duration": 11,
    "start_time": "2022-10-12T06:46:26.761Z"
   },
   {
    "duration": 6,
    "start_time": "2022-10-12T06:48:06.663Z"
   },
   {
    "duration": 6,
    "start_time": "2022-10-12T06:48:14.608Z"
   },
   {
    "duration": 61,
    "start_time": "2022-10-12T06:51:53.377Z"
   },
   {
    "duration": 44,
    "start_time": "2022-10-12T06:58:23.521Z"
   },
   {
    "duration": 1434,
    "start_time": "2022-10-12T06:59:53.364Z"
   },
   {
    "duration": 12,
    "start_time": "2022-10-12T07:01:56.170Z"
   },
   {
    "duration": 489,
    "start_time": "2022-10-12T07:02:08.485Z"
   },
   {
    "duration": 48,
    "start_time": "2022-10-12T07:02:08.976Z"
   },
   {
    "duration": 29,
    "start_time": "2022-10-12T07:02:09.025Z"
   },
   {
    "duration": 2345,
    "start_time": "2022-10-12T07:02:09.056Z"
   },
   {
    "duration": 10,
    "start_time": "2022-10-12T07:02:11.403Z"
   },
   {
    "duration": 10,
    "start_time": "2022-10-12T07:02:11.415Z"
   },
   {
    "duration": 11,
    "start_time": "2022-10-12T07:02:11.428Z"
   },
   {
    "duration": 58,
    "start_time": "2022-10-12T07:02:11.441Z"
   },
   {
    "duration": 2303,
    "start_time": "2022-10-12T07:02:11.501Z"
   },
   {
    "duration": 5,
    "start_time": "2022-10-12T07:02:13.808Z"
   },
   {
    "duration": 14,
    "start_time": "2022-10-12T07:02:13.814Z"
   },
   {
    "duration": 25,
    "start_time": "2022-10-12T07:02:13.830Z"
   },
   {
    "duration": 1472,
    "start_time": "2022-10-12T07:02:13.857Z"
   },
   {
    "duration": 1492,
    "start_time": "2022-10-12T07:02:15.331Z"
   },
   {
    "duration": 30,
    "start_time": "2022-10-12T07:02:16.825Z"
   },
   {
    "duration": 8,
    "start_time": "2022-10-12T07:02:16.857Z"
   },
   {
    "duration": 49,
    "start_time": "2022-10-12T07:02:16.868Z"
   },
   {
    "duration": 1572,
    "start_time": "2022-10-12T07:02:16.919Z"
   },
   {
    "duration": 9,
    "start_time": "2022-10-12T07:02:18.493Z"
   },
   {
    "duration": 236,
    "start_time": "2022-10-12T07:08:14.496Z"
   },
   {
    "duration": 484,
    "start_time": "2022-10-12T07:10:39.578Z"
   },
   {
    "duration": 46,
    "start_time": "2022-10-12T07:10:40.064Z"
   },
   {
    "duration": 16,
    "start_time": "2022-10-12T07:10:40.111Z"
   },
   {
    "duration": 2420,
    "start_time": "2022-10-12T07:10:40.129Z"
   },
   {
    "duration": 11,
    "start_time": "2022-10-12T07:10:42.550Z"
   },
   {
    "duration": 8,
    "start_time": "2022-10-12T07:10:42.562Z"
   },
   {
    "duration": 7,
    "start_time": "2022-10-12T07:10:42.571Z"
   },
   {
    "duration": 34,
    "start_time": "2022-10-12T07:10:42.580Z"
   },
   {
    "duration": 2201,
    "start_time": "2022-10-12T07:10:42.616Z"
   },
   {
    "duration": 4,
    "start_time": "2022-10-12T07:10:44.819Z"
   },
   {
    "duration": 27,
    "start_time": "2022-10-12T07:10:44.824Z"
   },
   {
    "duration": 22,
    "start_time": "2022-10-12T07:10:44.853Z"
   },
   {
    "duration": 1461,
    "start_time": "2022-10-12T07:10:44.877Z"
   },
   {
    "duration": 1470,
    "start_time": "2022-10-12T07:10:46.340Z"
   },
   {
    "duration": 8,
    "start_time": "2022-10-12T07:10:47.812Z"
   },
   {
    "duration": 30,
    "start_time": "2022-10-12T07:10:47.822Z"
   },
   {
    "duration": 1458,
    "start_time": "2022-10-12T07:10:47.853Z"
   },
   {
    "duration": 1443,
    "start_time": "2022-10-12T07:10:49.312Z"
   },
   {
    "duration": 87,
    "start_time": "2022-10-12T07:17:17.629Z"
   },
   {
    "duration": 7,
    "start_time": "2022-10-12T07:17:23.556Z"
   },
   {
    "duration": 51,
    "start_time": "2022-10-12T07:17:30.990Z"
   },
   {
    "duration": 8,
    "start_time": "2022-10-12T07:21:07.335Z"
   },
   {
    "duration": 7,
    "start_time": "2022-10-12T07:21:22.121Z"
   },
   {
    "duration": 8,
    "start_time": "2022-10-12T07:21:29.312Z"
   },
   {
    "duration": 485,
    "start_time": "2022-10-12T07:23:25.677Z"
   },
   {
    "duration": 44,
    "start_time": "2022-10-12T07:23:26.164Z"
   },
   {
    "duration": 15,
    "start_time": "2022-10-12T07:23:26.209Z"
   },
   {
    "duration": 2335,
    "start_time": "2022-10-12T07:23:26.226Z"
   },
   {
    "duration": 9,
    "start_time": "2022-10-12T07:23:28.563Z"
   },
   {
    "duration": 8,
    "start_time": "2022-10-12T07:23:28.574Z"
   },
   {
    "duration": 10,
    "start_time": "2022-10-12T07:23:28.583Z"
   },
   {
    "duration": 41,
    "start_time": "2022-10-12T07:23:28.595Z"
   },
   {
    "duration": 2289,
    "start_time": "2022-10-12T07:23:28.638Z"
   },
   {
    "duration": 5,
    "start_time": "2022-10-12T07:23:30.931Z"
   },
   {
    "duration": 56,
    "start_time": "2022-10-12T07:23:30.938Z"
   },
   {
    "duration": 23,
    "start_time": "2022-10-12T07:23:30.996Z"
   },
   {
    "duration": 1535,
    "start_time": "2022-10-12T07:23:31.021Z"
   },
   {
    "duration": 1428,
    "start_time": "2022-10-12T07:23:32.558Z"
   },
   {
    "duration": 8,
    "start_time": "2022-10-12T07:23:33.988Z"
   },
   {
    "duration": 7,
    "start_time": "2022-10-12T07:23:33.998Z"
   },
   {
    "duration": 1478,
    "start_time": "2022-10-12T07:23:34.007Z"
   },
   {
    "duration": 1507,
    "start_time": "2022-10-12T07:23:35.487Z"
   },
   {
    "duration": 8,
    "start_time": "2022-10-12T07:23:36.996Z"
   },
   {
    "duration": 15,
    "start_time": "2022-10-12T07:24:51.640Z"
   },
   {
    "duration": 50,
    "start_time": "2022-10-13T08:20:53.878Z"
   },
   {
    "duration": 509,
    "start_time": "2022-10-13T08:21:06.624Z"
   },
   {
    "duration": 17,
    "start_time": "2022-10-13T08:21:11.803Z"
   },
   {
    "duration": 72,
    "start_time": "2022-10-13T08:22:12.766Z"
   },
   {
    "duration": 501,
    "start_time": "2022-10-13T08:22:29.811Z"
   },
   {
    "duration": 40,
    "start_time": "2022-10-13T08:22:30.314Z"
   },
   {
    "duration": 42,
    "start_time": "2022-10-13T08:22:30.356Z"
   },
   {
    "duration": 2281,
    "start_time": "2022-10-13T08:22:30.401Z"
   },
   {
    "duration": 9,
    "start_time": "2022-10-13T08:22:32.684Z"
   },
   {
    "duration": 9,
    "start_time": "2022-10-13T08:22:32.696Z"
   },
   {
    "duration": 8,
    "start_time": "2022-10-13T08:22:32.706Z"
   },
   {
    "duration": 29,
    "start_time": "2022-10-13T08:22:32.716Z"
   },
   {
    "duration": 1911,
    "start_time": "2022-10-13T08:22:32.747Z"
   },
   {
    "duration": 4,
    "start_time": "2022-10-13T08:22:34.660Z"
   },
   {
    "duration": 6,
    "start_time": "2022-10-13T08:22:34.666Z"
   },
   {
    "duration": 10,
    "start_time": "2022-10-13T08:22:34.674Z"
   },
   {
    "duration": 1327,
    "start_time": "2022-10-13T08:22:34.685Z"
   },
   {
    "duration": 1423,
    "start_time": "2022-10-13T08:22:36.014Z"
   },
   {
    "duration": 6,
    "start_time": "2022-10-13T08:22:37.438Z"
   },
   {
    "duration": 28,
    "start_time": "2022-10-13T08:22:37.446Z"
   },
   {
    "duration": 1510,
    "start_time": "2022-10-13T08:22:37.475Z"
   },
   {
    "duration": 1468,
    "start_time": "2022-10-13T08:22:38.987Z"
   },
   {
    "duration": 7,
    "start_time": "2022-10-13T08:22:40.456Z"
   },
   {
    "duration": 46,
    "start_time": "2022-10-13T08:22:40.464Z"
   },
   {
    "duration": 14,
    "start_time": "2022-10-13T08:22:40.513Z"
   },
   {
    "duration": 64,
    "start_time": "2022-10-13T08:22:40.528Z"
   },
   {
    "duration": 20,
    "start_time": "2022-10-13T08:23:39.156Z"
   },
   {
    "duration": 5,
    "start_time": "2022-10-13T08:25:30.620Z"
   },
   {
    "duration": 4,
    "start_time": "2022-10-13T08:26:09.184Z"
   },
   {
    "duration": 7,
    "start_time": "2022-10-13T08:29:34.169Z"
   },
   {
    "duration": 6,
    "start_time": "2022-10-13T08:29:47.888Z"
   },
   {
    "duration": 5,
    "start_time": "2022-10-13T08:32:12.676Z"
   },
   {
    "duration": 16,
    "start_time": "2022-10-13T08:32:18.471Z"
   },
   {
    "duration": 5,
    "start_time": "2022-10-13T08:32:37.604Z"
   },
   {
    "duration": 20,
    "start_time": "2022-10-13T08:32:51.800Z"
   },
   {
    "duration": 5,
    "start_time": "2022-10-13T08:34:31.125Z"
   },
   {
    "duration": 4,
    "start_time": "2022-10-13T08:34:43.145Z"
   },
   {
    "duration": 6,
    "start_time": "2022-10-13T08:36:30.061Z"
   },
   {
    "duration": 73,
    "start_time": "2022-10-13T08:49:40.882Z"
   },
   {
    "duration": 3,
    "start_time": "2022-10-13T08:49:43.747Z"
   },
   {
    "duration": 8,
    "start_time": "2022-10-13T08:49:45.392Z"
   },
   {
    "duration": 19,
    "start_time": "2022-10-13T08:49:58.542Z"
   },
   {
    "duration": 57,
    "start_time": "2022-10-13T08:50:08.406Z"
   },
   {
    "duration": 26,
    "start_time": "2022-10-13T08:51:28.301Z"
   },
   {
    "duration": 27,
    "start_time": "2022-10-13T08:51:50.149Z"
   },
   {
    "duration": 34,
    "start_time": "2022-10-13T08:52:03.797Z"
   },
   {
    "duration": 29,
    "start_time": "2022-10-13T08:52:21.920Z"
   },
   {
    "duration": 30,
    "start_time": "2022-10-13T08:53:18.481Z"
   },
   {
    "duration": 21,
    "start_time": "2022-10-13T08:53:21.967Z"
   },
   {
    "duration": 18,
    "start_time": "2022-10-13T08:53:27.522Z"
   },
   {
    "duration": 6,
    "start_time": "2022-10-13T08:53:34.702Z"
   },
   {
    "duration": 492,
    "start_time": "2022-10-13T08:53:46.737Z"
   },
   {
    "duration": 52,
    "start_time": "2022-10-13T08:53:47.231Z"
   },
   {
    "duration": 30,
    "start_time": "2022-10-13T08:53:47.284Z"
   },
   {
    "duration": 2112,
    "start_time": "2022-10-13T08:53:47.316Z"
   },
   {
    "duration": 9,
    "start_time": "2022-10-13T08:53:49.430Z"
   },
   {
    "duration": 15,
    "start_time": "2022-10-13T08:53:49.441Z"
   },
   {
    "duration": 17,
    "start_time": "2022-10-13T08:53:49.457Z"
   },
   {
    "duration": 54,
    "start_time": "2022-10-13T08:53:49.475Z"
   },
   {
    "duration": 1839,
    "start_time": "2022-10-13T08:53:49.531Z"
   },
   {
    "duration": 4,
    "start_time": "2022-10-13T08:53:51.372Z"
   },
   {
    "duration": 8,
    "start_time": "2022-10-13T08:53:51.378Z"
   },
   {
    "duration": 31,
    "start_time": "2022-10-13T08:53:51.388Z"
   },
   {
    "duration": 1373,
    "start_time": "2022-10-13T08:53:51.420Z"
   },
   {
    "duration": 1337,
    "start_time": "2022-10-13T08:53:52.794Z"
   },
   {
    "duration": 6,
    "start_time": "2022-10-13T08:53:54.133Z"
   },
   {
    "duration": 10,
    "start_time": "2022-10-13T08:53:54.140Z"
   },
   {
    "duration": 1427,
    "start_time": "2022-10-13T08:53:54.152Z"
   },
   {
    "duration": 1356,
    "start_time": "2022-10-13T08:53:55.581Z"
   },
   {
    "duration": 7,
    "start_time": "2022-10-13T08:53:56.939Z"
   },
   {
    "duration": 20,
    "start_time": "2022-10-13T08:53:56.947Z"
   },
   {
    "duration": 22,
    "start_time": "2022-10-13T08:53:56.968Z"
   },
   {
    "duration": 55,
    "start_time": "2022-10-13T08:53:56.992Z"
   },
   {
    "duration": 0,
    "start_time": "2022-10-13T08:56:37.341Z"
   },
   {
    "duration": 1130,
    "start_time": "2022-10-13T08:56:41.010Z"
   },
   {
    "duration": 5,
    "start_time": "2022-10-13T08:56:51.732Z"
   },
   {
    "duration": 2732,
    "start_time": "2022-10-13T09:00:11.298Z"
   },
   {
    "duration": 9,
    "start_time": "2022-10-13T09:00:44.588Z"
   },
   {
    "duration": 7,
    "start_time": "2022-10-13T09:01:13.032Z"
   },
   {
    "duration": 498,
    "start_time": "2022-10-13T09:01:18.181Z"
   },
   {
    "duration": 46,
    "start_time": "2022-10-13T09:01:18.681Z"
   },
   {
    "duration": 16,
    "start_time": "2022-10-13T09:01:18.728Z"
   },
   {
    "duration": 2054,
    "start_time": "2022-10-13T09:01:18.746Z"
   },
   {
    "duration": 10,
    "start_time": "2022-10-13T09:01:20.802Z"
   },
   {
    "duration": 10,
    "start_time": "2022-10-13T09:01:20.814Z"
   },
   {
    "duration": 9,
    "start_time": "2022-10-13T09:01:20.825Z"
   },
   {
    "duration": 32,
    "start_time": "2022-10-13T09:01:20.835Z"
   },
   {
    "duration": 1868,
    "start_time": "2022-10-13T09:01:20.868Z"
   },
   {
    "duration": 4,
    "start_time": "2022-10-13T09:01:22.740Z"
   },
   {
    "duration": 9,
    "start_time": "2022-10-13T09:01:22.746Z"
   },
   {
    "duration": 16,
    "start_time": "2022-10-13T09:01:22.756Z"
   },
   {
    "duration": 1340,
    "start_time": "2022-10-13T09:01:22.774Z"
   },
   {
    "duration": 1454,
    "start_time": "2022-10-13T09:01:24.116Z"
   },
   {
    "duration": 6,
    "start_time": "2022-10-13T09:01:25.571Z"
   },
   {
    "duration": 10,
    "start_time": "2022-10-13T09:01:25.578Z"
   },
   {
    "duration": 1526,
    "start_time": "2022-10-13T09:01:25.590Z"
   },
   {
    "duration": 1374,
    "start_time": "2022-10-13T09:01:27.118Z"
   },
   {
    "duration": 22,
    "start_time": "2022-10-13T09:01:28.494Z"
   },
   {
    "duration": 14,
    "start_time": "2022-10-13T09:01:28.518Z"
   },
   {
    "duration": 28,
    "start_time": "2022-10-13T09:01:28.534Z"
   },
   {
    "duration": 66,
    "start_time": "2022-10-13T09:01:28.563Z"
   },
   {
    "duration": 89,
    "start_time": "2022-10-13T09:01:28.630Z"
   },
   {
    "duration": 27,
    "start_time": "2022-10-13T09:03:24.961Z"
   },
   {
    "duration": 374,
    "start_time": "2022-10-13T09:03:42.021Z"
   },
   {
    "duration": 15,
    "start_time": "2022-10-13T09:04:26.144Z"
   },
   {
    "duration": 84,
    "start_time": "2022-10-13T09:04:44.984Z"
   },
   {
    "duration": 71,
    "start_time": "2022-10-13T09:05:24.726Z"
   },
   {
    "duration": 50,
    "start_time": "2022-10-13T09:05:31.833Z"
   },
   {
    "duration": 12,
    "start_time": "2022-10-13T09:05:42.152Z"
   },
   {
    "duration": 13,
    "start_time": "2022-10-13T09:05:48.534Z"
   },
   {
    "duration": 10,
    "start_time": "2022-10-13T09:06:10.333Z"
   },
   {
    "duration": 18,
    "start_time": "2022-10-13T09:06:38.619Z"
   },
   {
    "duration": 17,
    "start_time": "2022-10-13T09:06:57.088Z"
   },
   {
    "duration": 12,
    "start_time": "2022-10-13T09:08:07.738Z"
   },
   {
    "duration": 11,
    "start_time": "2022-10-13T09:08:10.503Z"
   },
   {
    "duration": 471,
    "start_time": "2022-10-13T09:08:18.569Z"
   },
   {
    "duration": 41,
    "start_time": "2022-10-13T09:08:19.042Z"
   },
   {
    "duration": 13,
    "start_time": "2022-10-13T09:08:19.085Z"
   },
   {
    "duration": 1980,
    "start_time": "2022-10-13T09:08:19.108Z"
   },
   {
    "duration": 9,
    "start_time": "2022-10-13T09:08:21.090Z"
   },
   {
    "duration": 7,
    "start_time": "2022-10-13T09:08:21.101Z"
   },
   {
    "duration": 7,
    "start_time": "2022-10-13T09:08:21.109Z"
   },
   {
    "duration": 31,
    "start_time": "2022-10-13T09:08:21.117Z"
   },
   {
    "duration": 1802,
    "start_time": "2022-10-13T09:08:21.150Z"
   },
   {
    "duration": 5,
    "start_time": "2022-10-13T09:08:22.954Z"
   },
   {
    "duration": 6,
    "start_time": "2022-10-13T09:08:22.960Z"
   },
   {
    "duration": 10,
    "start_time": "2022-10-13T09:08:22.968Z"
   },
   {
    "duration": 1347,
    "start_time": "2022-10-13T09:08:22.980Z"
   },
   {
    "duration": 1425,
    "start_time": "2022-10-13T09:08:24.329Z"
   },
   {
    "duration": 7,
    "start_time": "2022-10-13T09:08:25.756Z"
   },
   {
    "duration": 7,
    "start_time": "2022-10-13T09:08:25.765Z"
   },
   {
    "duration": 1360,
    "start_time": "2022-10-13T09:08:25.773Z"
   },
   {
    "duration": 1291,
    "start_time": "2022-10-13T09:08:27.135Z"
   },
   {
    "duration": 6,
    "start_time": "2022-10-13T09:08:28.428Z"
   },
   {
    "duration": 22,
    "start_time": "2022-10-13T09:08:28.435Z"
   },
   {
    "duration": 32,
    "start_time": "2022-10-13T09:08:28.458Z"
   },
   {
    "duration": 19,
    "start_time": "2022-10-13T09:08:28.491Z"
   },
   {
    "duration": 8,
    "start_time": "2022-10-13T09:08:28.511Z"
   },
   {
    "duration": 11,
    "start_time": "2022-10-13T09:09:22.518Z"
   },
   {
    "duration": 5,
    "start_time": "2022-10-13T09:09:28.786Z"
   },
   {
    "duration": 8,
    "start_time": "2022-10-13T09:09:39.708Z"
   },
   {
    "duration": 6,
    "start_time": "2022-10-13T09:09:43.184Z"
   },
   {
    "duration": 2800,
    "start_time": "2022-10-13T09:10:15.410Z"
   },
   {
    "duration": 6,
    "start_time": "2022-10-13T09:10:28.872Z"
   },
   {
    "duration": 6,
    "start_time": "2022-10-13T09:10:30.661Z"
   },
   {
    "duration": 5,
    "start_time": "2022-10-13T09:11:07.867Z"
   },
   {
    "duration": 10,
    "start_time": "2022-10-13T09:11:09.598Z"
   },
   {
    "duration": 5,
    "start_time": "2022-10-13T09:11:11.067Z"
   },
   {
    "duration": 6,
    "start_time": "2022-10-13T09:13:49.892Z"
   },
   {
    "duration": 7,
    "start_time": "2022-10-13T09:14:01.232Z"
   },
   {
    "duration": 5,
    "start_time": "2022-10-13T09:14:29.287Z"
   },
   {
    "duration": 4,
    "start_time": "2022-10-13T09:14:33.892Z"
   },
   {
    "duration": 57,
    "start_time": "2022-10-13T09:17:20.247Z"
   },
   {
    "duration": 4,
    "start_time": "2022-10-13T09:17:36.022Z"
   },
   {
    "duration": 4,
    "start_time": "2022-10-13T09:17:37.740Z"
   },
   {
    "duration": 5,
    "start_time": "2022-10-13T09:17:39.967Z"
   },
   {
    "duration": 457,
    "start_time": "2022-10-13T09:17:45.329Z"
   },
   {
    "duration": 39,
    "start_time": "2022-10-13T09:17:45.788Z"
   },
   {
    "duration": 16,
    "start_time": "2022-10-13T09:17:45.829Z"
   },
   {
    "duration": 1997,
    "start_time": "2022-10-13T09:17:45.847Z"
   },
   {
    "duration": 8,
    "start_time": "2022-10-13T09:17:47.846Z"
   },
   {
    "duration": 11,
    "start_time": "2022-10-13T09:17:47.856Z"
   },
   {
    "duration": 20,
    "start_time": "2022-10-13T09:17:47.868Z"
   },
   {
    "duration": 35,
    "start_time": "2022-10-13T09:17:47.890Z"
   },
   {
    "duration": 1817,
    "start_time": "2022-10-13T09:17:47.927Z"
   },
   {
    "duration": 4,
    "start_time": "2022-10-13T09:17:49.746Z"
   },
   {
    "duration": 22,
    "start_time": "2022-10-13T09:17:49.751Z"
   },
   {
    "duration": 17,
    "start_time": "2022-10-13T09:17:49.775Z"
   },
   {
    "duration": 1241,
    "start_time": "2022-10-13T09:17:49.793Z"
   },
   {
    "duration": 1262,
    "start_time": "2022-10-13T09:17:51.036Z"
   },
   {
    "duration": 14,
    "start_time": "2022-10-13T09:17:52.299Z"
   },
   {
    "duration": 9,
    "start_time": "2022-10-13T09:17:52.315Z"
   },
   {
    "duration": 1329,
    "start_time": "2022-10-13T09:17:52.325Z"
   },
   {
    "duration": 1424,
    "start_time": "2022-10-13T09:17:53.656Z"
   },
   {
    "duration": 7,
    "start_time": "2022-10-13T09:17:55.081Z"
   },
   {
    "duration": 22,
    "start_time": "2022-10-13T09:17:55.090Z"
   },
   {
    "duration": 23,
    "start_time": "2022-10-13T09:17:55.113Z"
   },
   {
    "duration": 12,
    "start_time": "2022-10-13T09:17:55.137Z"
   },
   {
    "duration": 5,
    "start_time": "2022-10-13T09:17:55.150Z"
   },
   {
    "duration": 8,
    "start_time": "2022-10-13T09:17:55.156Z"
   },
   {
    "duration": 8,
    "start_time": "2022-10-13T09:17:55.166Z"
   },
   {
    "duration": 6,
    "start_time": "2022-10-13T09:18:37.250Z"
   },
   {
    "duration": 7,
    "start_time": "2022-10-13T09:18:48.830Z"
   },
   {
    "duration": 6,
    "start_time": "2022-10-13T09:18:50.602Z"
   },
   {
    "duration": 5,
    "start_time": "2022-10-13T09:18:51.669Z"
   },
   {
    "duration": 6,
    "start_time": "2022-10-13T09:19:10.768Z"
   },
   {
    "duration": 13,
    "start_time": "2022-10-13T09:20:19.389Z"
   },
   {
    "duration": 5,
    "start_time": "2022-10-13T09:20:39.792Z"
   },
   {
    "duration": 4,
    "start_time": "2022-10-13T09:20:52.609Z"
   },
   {
    "duration": 713,
    "start_time": "2022-10-13T09:20:55.002Z"
   },
   {
    "duration": 666,
    "start_time": "2022-10-13T09:21:14.487Z"
   },
   {
    "duration": 445,
    "start_time": "2022-10-13T09:21:30.142Z"
   },
   {
    "duration": 41,
    "start_time": "2022-10-13T09:21:30.589Z"
   },
   {
    "duration": 12,
    "start_time": "2022-10-13T09:21:30.632Z"
   },
   {
    "duration": 1954,
    "start_time": "2022-10-13T09:21:30.646Z"
   },
   {
    "duration": 9,
    "start_time": "2022-10-13T09:21:32.602Z"
   },
   {
    "duration": 23,
    "start_time": "2022-10-13T09:21:32.613Z"
   },
   {
    "duration": 22,
    "start_time": "2022-10-13T09:21:32.638Z"
   },
   {
    "duration": 53,
    "start_time": "2022-10-13T09:21:32.661Z"
   },
   {
    "duration": 1861,
    "start_time": "2022-10-13T09:21:32.716Z"
   },
   {
    "duration": 5,
    "start_time": "2022-10-13T09:21:34.580Z"
   },
   {
    "duration": 26,
    "start_time": "2022-10-13T09:21:34.586Z"
   },
   {
    "duration": 27,
    "start_time": "2022-10-13T09:21:34.613Z"
   },
   {
    "duration": 1277,
    "start_time": "2022-10-13T09:21:34.642Z"
   },
   {
    "duration": 1315,
    "start_time": "2022-10-13T09:21:35.921Z"
   },
   {
    "duration": 6,
    "start_time": "2022-10-13T09:21:37.238Z"
   },
   {
    "duration": 27,
    "start_time": "2022-10-13T09:21:37.246Z"
   },
   {
    "duration": 1259,
    "start_time": "2022-10-13T09:21:37.274Z"
   },
   {
    "duration": 1261,
    "start_time": "2022-10-13T09:21:38.534Z"
   },
   {
    "duration": 18,
    "start_time": "2022-10-13T09:21:39.796Z"
   },
   {
    "duration": 14,
    "start_time": "2022-10-13T09:21:39.816Z"
   },
   {
    "duration": 27,
    "start_time": "2022-10-13T09:21:39.832Z"
   },
   {
    "duration": 13,
    "start_time": "2022-10-13T09:21:39.860Z"
   },
   {
    "duration": 9,
    "start_time": "2022-10-13T09:21:39.875Z"
   },
   {
    "duration": 10,
    "start_time": "2022-10-13T09:21:39.908Z"
   },
   {
    "duration": 696,
    "start_time": "2022-10-13T09:21:39.920Z"
   },
   {
    "duration": 54,
    "start_time": "2022-10-13T09:23:18.196Z"
   },
   {
    "duration": 44,
    "start_time": "2022-10-13T09:23:23.879Z"
   },
   {
    "duration": 52,
    "start_time": "2022-10-13T09:23:36.298Z"
   },
   {
    "duration": 881,
    "start_time": "2022-10-13T09:23:38.633Z"
   },
   {
    "duration": 890,
    "start_time": "2022-10-13T09:24:01.013Z"
   },
   {
    "duration": 50,
    "start_time": "2022-10-13T09:24:16.663Z"
   },
   {
    "duration": 490,
    "start_time": "2022-10-13T09:24:35.396Z"
   },
   {
    "duration": 40,
    "start_time": "2022-10-13T09:24:35.888Z"
   },
   {
    "duration": 14,
    "start_time": "2022-10-13T09:24:35.929Z"
   },
   {
    "duration": 1983,
    "start_time": "2022-10-13T09:24:35.945Z"
   },
   {
    "duration": 9,
    "start_time": "2022-10-13T09:24:37.930Z"
   },
   {
    "duration": 7,
    "start_time": "2022-10-13T09:24:37.941Z"
   },
   {
    "duration": 11,
    "start_time": "2022-10-13T09:24:37.949Z"
   },
   {
    "duration": 34,
    "start_time": "2022-10-13T09:24:37.962Z"
   },
   {
    "duration": 1731,
    "start_time": "2022-10-13T09:24:37.998Z"
   },
   {
    "duration": 4,
    "start_time": "2022-10-13T09:24:39.732Z"
   },
   {
    "duration": 8,
    "start_time": "2022-10-13T09:24:39.737Z"
   },
   {
    "duration": 12,
    "start_time": "2022-10-13T09:24:39.746Z"
   },
   {
    "duration": 1230,
    "start_time": "2022-10-13T09:24:39.760Z"
   },
   {
    "duration": 1264,
    "start_time": "2022-10-13T09:24:40.991Z"
   },
   {
    "duration": 6,
    "start_time": "2022-10-13T09:24:42.257Z"
   },
   {
    "duration": 11,
    "start_time": "2022-10-13T09:24:42.264Z"
   },
   {
    "duration": 1446,
    "start_time": "2022-10-13T09:24:42.276Z"
   },
   {
    "duration": 1334,
    "start_time": "2022-10-13T09:24:43.724Z"
   },
   {
    "duration": 6,
    "start_time": "2022-10-13T09:24:45.060Z"
   },
   {
    "duration": 8,
    "start_time": "2022-10-13T09:24:45.068Z"
   },
   {
    "duration": 44,
    "start_time": "2022-10-13T09:24:45.077Z"
   },
   {
    "duration": 12,
    "start_time": "2022-10-13T09:24:45.123Z"
   },
   {
    "duration": 7,
    "start_time": "2022-10-13T09:24:45.136Z"
   },
   {
    "duration": 45,
    "start_time": "2022-10-13T09:24:45.144Z"
   },
   {
    "duration": 81,
    "start_time": "2022-10-13T09:25:31.584Z"
   },
   {
    "duration": 13,
    "start_time": "2022-10-13T09:26:03.825Z"
   },
   {
    "duration": 48,
    "start_time": "2022-10-13T09:26:33.261Z"
   },
   {
    "duration": 6,
    "start_time": "2022-10-13T09:26:37.025Z"
   },
   {
    "duration": 5,
    "start_time": "2022-10-13T09:26:39.274Z"
   },
   {
    "duration": 6,
    "start_time": "2022-10-13T09:26:45.635Z"
   },
   {
    "duration": 6,
    "start_time": "2022-10-13T09:26:58.350Z"
   },
   {
    "duration": 6,
    "start_time": "2022-10-13T09:27:07.116Z"
   },
   {
    "duration": 2631,
    "start_time": "2022-10-13T09:32:29.615Z"
   },
   {
    "duration": 5,
    "start_time": "2022-10-13T09:32:35.391Z"
   },
   {
    "duration": 2650,
    "start_time": "2022-10-13T09:32:36.984Z"
   },
   {
    "duration": 500,
    "start_time": "2022-10-13T09:32:46.178Z"
   },
   {
    "duration": 41,
    "start_time": "2022-10-13T09:32:46.680Z"
   },
   {
    "duration": 13,
    "start_time": "2022-10-13T09:32:46.722Z"
   },
   {
    "duration": 1979,
    "start_time": "2022-10-13T09:32:46.737Z"
   },
   {
    "duration": 9,
    "start_time": "2022-10-13T09:32:48.717Z"
   },
   {
    "duration": 7,
    "start_time": "2022-10-13T09:32:48.727Z"
   },
   {
    "duration": 14,
    "start_time": "2022-10-13T09:32:48.736Z"
   },
   {
    "duration": 29,
    "start_time": "2022-10-13T09:32:48.751Z"
   },
   {
    "duration": 1747,
    "start_time": "2022-10-13T09:32:48.781Z"
   },
   {
    "duration": 4,
    "start_time": "2022-10-13T09:32:50.531Z"
   },
   {
    "duration": 10,
    "start_time": "2022-10-13T09:32:50.536Z"
   },
   {
    "duration": 11,
    "start_time": "2022-10-13T09:32:50.547Z"
   },
   {
    "duration": 1239,
    "start_time": "2022-10-13T09:32:50.560Z"
   },
   {
    "duration": 1261,
    "start_time": "2022-10-13T09:32:51.801Z"
   },
   {
    "duration": 6,
    "start_time": "2022-10-13T09:32:53.064Z"
   },
   {
    "duration": 6,
    "start_time": "2022-10-13T09:32:53.071Z"
   },
   {
    "duration": 1417,
    "start_time": "2022-10-13T09:32:53.078Z"
   },
   {
    "duration": 1371,
    "start_time": "2022-10-13T09:32:54.497Z"
   },
   {
    "duration": 8,
    "start_time": "2022-10-13T09:32:55.869Z"
   },
   {
    "duration": 10,
    "start_time": "2022-10-13T09:32:55.878Z"
   },
   {
    "duration": 30,
    "start_time": "2022-10-13T09:32:55.908Z"
   },
   {
    "duration": 13,
    "start_time": "2022-10-13T09:32:55.939Z"
   },
   {
    "duration": 6,
    "start_time": "2022-10-13T09:32:55.954Z"
   },
   {
    "duration": 2875,
    "start_time": "2022-10-13T09:32:55.961Z"
   },
   {
    "duration": 12,
    "start_time": "2022-10-13T09:33:24.188Z"
   },
   {
    "duration": 16,
    "start_time": "2022-10-13T09:33:40.084Z"
   },
   {
    "duration": 9,
    "start_time": "2022-10-13T09:44:43.251Z"
   },
   {
    "duration": 7,
    "start_time": "2022-10-13T09:44:48.620Z"
   },
   {
    "duration": 7,
    "start_time": "2022-10-13T09:44:51.272Z"
   },
   {
    "duration": 5,
    "start_time": "2022-10-13T09:45:44.359Z"
   },
   {
    "duration": 5,
    "start_time": "2022-10-13T09:46:12.369Z"
   },
   {
    "duration": 17,
    "start_time": "2022-10-13T10:56:00.412Z"
   },
   {
    "duration": 4,
    "start_time": "2022-10-13T10:57:44.361Z"
   },
   {
    "duration": 15,
    "start_time": "2022-10-13T10:57:47.865Z"
   },
   {
    "duration": 7,
    "start_time": "2022-10-13T10:58:08.094Z"
   },
   {
    "duration": 14,
    "start_time": "2022-10-13T11:00:21.291Z"
   },
   {
    "duration": 5,
    "start_time": "2022-10-13T11:09:26.335Z"
   },
   {
    "duration": 8,
    "start_time": "2022-10-13T11:10:22.547Z"
   },
   {
    "duration": 7,
    "start_time": "2022-10-13T11:10:24.630Z"
   },
   {
    "duration": 9,
    "start_time": "2022-10-13T11:13:30.139Z"
   },
   {
    "duration": 8,
    "start_time": "2022-10-13T11:15:06.846Z"
   },
   {
    "duration": 7,
    "start_time": "2022-10-13T11:16:39.963Z"
   },
   {
    "duration": 5,
    "start_time": "2022-10-13T11:17:49.280Z"
   },
   {
    "duration": 6,
    "start_time": "2022-10-13T11:17:59.221Z"
   },
   {
    "duration": 15,
    "start_time": "2022-10-13T12:01:15.898Z"
   },
   {
    "duration": 152,
    "start_time": "2022-10-13T12:03:38.130Z"
   },
   {
    "duration": 147,
    "start_time": "2022-10-13T12:03:49.629Z"
   },
   {
    "duration": 505,
    "start_time": "2022-10-13T12:03:57.786Z"
   },
   {
    "duration": 49,
    "start_time": "2022-10-13T12:03:58.292Z"
   },
   {
    "duration": 16,
    "start_time": "2022-10-13T12:03:58.343Z"
   },
   {
    "duration": 2203,
    "start_time": "2022-10-13T12:03:58.361Z"
   },
   {
    "duration": 9,
    "start_time": "2022-10-13T12:04:00.566Z"
   },
   {
    "duration": 12,
    "start_time": "2022-10-13T12:04:00.577Z"
   },
   {
    "duration": 27,
    "start_time": "2022-10-13T12:04:00.590Z"
   },
   {
    "duration": 59,
    "start_time": "2022-10-13T12:04:00.618Z"
   },
   {
    "duration": 1905,
    "start_time": "2022-10-13T12:04:00.679Z"
   },
   {
    "duration": 4,
    "start_time": "2022-10-13T12:04:02.587Z"
   },
   {
    "duration": 18,
    "start_time": "2022-10-13T12:04:02.592Z"
   },
   {
    "duration": 14,
    "start_time": "2022-10-13T12:04:02.611Z"
   },
   {
    "duration": 1425,
    "start_time": "2022-10-13T12:04:02.626Z"
   },
   {
    "duration": 1608,
    "start_time": "2022-10-13T12:04:04.053Z"
   },
   {
    "duration": 7,
    "start_time": "2022-10-13T12:04:05.663Z"
   },
   {
    "duration": 9,
    "start_time": "2022-10-13T12:04:05.672Z"
   },
   {
    "duration": 1547,
    "start_time": "2022-10-13T12:04:05.683Z"
   },
   {
    "duration": 1417,
    "start_time": "2022-10-13T12:04:07.232Z"
   },
   {
    "duration": 7,
    "start_time": "2022-10-13T12:04:08.650Z"
   },
   {
    "duration": 11,
    "start_time": "2022-10-13T12:04:08.658Z"
   },
   {
    "duration": 39,
    "start_time": "2022-10-13T12:04:08.670Z"
   },
   {
    "duration": 17,
    "start_time": "2022-10-13T12:04:08.711Z"
   },
   {
    "duration": 17,
    "start_time": "2022-10-13T12:04:08.730Z"
   },
   {
    "duration": 5,
    "start_time": "2022-10-13T12:04:08.749Z"
   },
   {
    "duration": 17,
    "start_time": "2022-10-13T12:04:08.756Z"
   },
   {
    "duration": 10,
    "start_time": "2022-10-13T12:04:08.775Z"
   },
   {
    "duration": 7,
    "start_time": "2022-10-13T12:04:08.787Z"
   },
   {
    "duration": 9,
    "start_time": "2022-10-13T12:04:08.810Z"
   },
   {
    "duration": 163,
    "start_time": "2022-10-13T12:04:08.821Z"
   },
   {
    "duration": 22,
    "start_time": "2022-10-13T12:04:08.986Z"
   },
   {
    "duration": 41,
    "start_time": "2022-10-13T12:04:16.740Z"
   },
   {
    "duration": 22,
    "start_time": "2022-10-13T12:05:05.669Z"
   },
   {
    "duration": 151,
    "start_time": "2022-10-13T12:05:19.274Z"
   },
   {
    "duration": 162,
    "start_time": "2022-10-13T12:05:24.924Z"
   },
   {
    "duration": 2058,
    "start_time": "2022-10-13T12:05:47.182Z"
   },
   {
    "duration": 496,
    "start_time": "2022-10-13T12:05:59.390Z"
   },
   {
    "duration": 54,
    "start_time": "2022-10-13T12:05:59.887Z"
   },
   {
    "duration": 21,
    "start_time": "2022-10-13T12:05:59.943Z"
   },
   {
    "duration": 2214,
    "start_time": "2022-10-13T12:05:59.966Z"
   },
   {
    "duration": 10,
    "start_time": "2022-10-13T12:06:02.182Z"
   },
   {
    "duration": 18,
    "start_time": "2022-10-13T12:06:02.194Z"
   },
   {
    "duration": 15,
    "start_time": "2022-10-13T12:06:02.214Z"
   },
   {
    "duration": 39,
    "start_time": "2022-10-13T12:06:02.230Z"
   },
   {
    "duration": 1897,
    "start_time": "2022-10-13T12:06:02.271Z"
   },
   {
    "duration": 5,
    "start_time": "2022-10-13T12:06:04.170Z"
   },
   {
    "duration": 10,
    "start_time": "2022-10-13T12:06:04.176Z"
   },
   {
    "duration": 26,
    "start_time": "2022-10-13T12:06:04.188Z"
   },
   {
    "duration": 1567,
    "start_time": "2022-10-13T12:06:04.216Z"
   },
   {
    "duration": 1565,
    "start_time": "2022-10-13T12:06:05.784Z"
   },
   {
    "duration": 7,
    "start_time": "2022-10-13T12:06:07.351Z"
   },
   {
    "duration": 7,
    "start_time": "2022-10-13T12:06:07.360Z"
   },
   {
    "duration": 1609,
    "start_time": "2022-10-13T12:06:07.369Z"
   },
   {
    "duration": 1563,
    "start_time": "2022-10-13T12:06:08.982Z"
   },
   {
    "duration": 8,
    "start_time": "2022-10-13T12:06:10.546Z"
   },
   {
    "duration": 9,
    "start_time": "2022-10-13T12:06:10.555Z"
   },
   {
    "duration": 46,
    "start_time": "2022-10-13T12:06:10.565Z"
   },
   {
    "duration": 20,
    "start_time": "2022-10-13T12:06:10.612Z"
   },
   {
    "duration": 14,
    "start_time": "2022-10-13T12:06:10.634Z"
   },
   {
    "duration": 6,
    "start_time": "2022-10-13T12:06:10.650Z"
   },
   {
    "duration": 12,
    "start_time": "2022-10-13T12:06:10.658Z"
   },
   {
    "duration": 13,
    "start_time": "2022-10-13T12:06:10.672Z"
   },
   {
    "duration": 25,
    "start_time": "2022-10-13T12:06:10.687Z"
   },
   {
    "duration": 9,
    "start_time": "2022-10-13T12:06:10.715Z"
   },
   {
    "duration": 1605,
    "start_time": "2022-10-13T12:06:10.726Z"
   },
   {
    "duration": 0,
    "start_time": "2022-10-13T12:06:12.333Z"
   },
   {
    "duration": 48,
    "start_time": "2022-10-13T12:06:58.912Z"
   },
   {
    "duration": 462,
    "start_time": "2022-10-13T12:07:07.940Z"
   },
   {
    "duration": 510,
    "start_time": "2022-10-13T12:07:50.207Z"
   },
   {
    "duration": 65,
    "start_time": "2022-10-13T12:07:50.719Z"
   },
   {
    "duration": 24,
    "start_time": "2022-10-13T12:07:50.786Z"
   },
   {
    "duration": 2239,
    "start_time": "2022-10-13T12:07:50.813Z"
   },
   {
    "duration": 9,
    "start_time": "2022-10-13T12:07:53.054Z"
   },
   {
    "duration": 30,
    "start_time": "2022-10-13T12:07:53.065Z"
   },
   {
    "duration": 23,
    "start_time": "2022-10-13T12:07:53.097Z"
   },
   {
    "duration": 48,
    "start_time": "2022-10-13T12:07:53.122Z"
   },
   {
    "duration": 2002,
    "start_time": "2022-10-13T12:07:53.172Z"
   },
   {
    "duration": 4,
    "start_time": "2022-10-13T12:07:55.178Z"
   },
   {
    "duration": 24,
    "start_time": "2022-10-13T12:07:55.184Z"
   },
   {
    "duration": 33,
    "start_time": "2022-10-13T12:07:55.212Z"
   },
   {
    "duration": 1589,
    "start_time": "2022-10-13T12:07:55.247Z"
   },
   {
    "duration": 1530,
    "start_time": "2022-10-13T12:07:56.838Z"
   },
   {
    "duration": 6,
    "start_time": "2022-10-13T12:07:58.370Z"
   },
   {
    "duration": 11,
    "start_time": "2022-10-13T12:07:58.377Z"
   },
   {
    "duration": 1498,
    "start_time": "2022-10-13T12:07:58.390Z"
   },
   {
    "duration": 1529,
    "start_time": "2022-10-13T12:07:59.889Z"
   },
   {
    "duration": 8,
    "start_time": "2022-10-13T12:08:01.420Z"
   },
   {
    "duration": 41,
    "start_time": "2022-10-13T12:08:01.429Z"
   },
   {
    "duration": 65,
    "start_time": "2022-10-13T12:08:01.472Z"
   },
   {
    "duration": 12,
    "start_time": "2022-10-13T12:08:01.539Z"
   },
   {
    "duration": 13,
    "start_time": "2022-10-13T12:08:01.552Z"
   },
   {
    "duration": 23,
    "start_time": "2022-10-13T12:08:01.568Z"
   },
   {
    "duration": 27,
    "start_time": "2022-10-13T12:08:01.593Z"
   },
   {
    "duration": 36,
    "start_time": "2022-10-13T12:08:01.621Z"
   },
   {
    "duration": 33,
    "start_time": "2022-10-13T12:08:01.659Z"
   },
   {
    "duration": 31,
    "start_time": "2022-10-13T12:08:01.695Z"
   },
   {
    "duration": 498,
    "start_time": "2022-10-13T12:08:01.732Z"
   },
   {
    "duration": 0,
    "start_time": "2022-10-13T12:08:02.233Z"
   },
   {
    "duration": 380,
    "start_time": "2022-10-13T12:10:32.976Z"
   },
   {
    "duration": 418,
    "start_time": "2022-10-13T12:11:06.565Z"
   },
   {
    "duration": 464,
    "start_time": "2022-10-13T12:14:18.339Z"
   },
   {
    "duration": 509,
    "start_time": "2022-10-13T12:14:27.936Z"
   },
   {
    "duration": 438,
    "start_time": "2022-10-13T12:15:36.029Z"
   },
   {
    "duration": 20,
    "start_time": "2022-10-13T12:16:05.708Z"
   },
   {
    "duration": 6,
    "start_time": "2022-10-13T12:16:18.136Z"
   },
   {
    "duration": 569,
    "start_time": "2022-10-13T12:16:26.037Z"
   },
   {
    "duration": 234,
    "start_time": "2022-10-13T12:16:42.237Z"
   },
   {
    "duration": 872,
    "start_time": "2022-10-13T12:20:22.028Z"
   },
   {
    "duration": 270,
    "start_time": "2022-10-13T12:21:02.173Z"
   },
   {
    "duration": 831,
    "start_time": "2022-10-13T12:21:16.585Z"
   },
   {
    "duration": 210,
    "start_time": "2022-10-13T12:21:25.333Z"
   },
   {
    "duration": 298,
    "start_time": "2022-10-13T12:21:33.291Z"
   },
   {
    "duration": 271,
    "start_time": "2022-10-13T12:21:45.572Z"
   },
   {
    "duration": 284,
    "start_time": "2022-10-13T12:21:54.284Z"
   },
   {
    "duration": 274,
    "start_time": "2022-10-13T12:23:32.065Z"
   },
   {
    "duration": 200,
    "start_time": "2022-10-13T12:25:42.506Z"
   },
   {
    "duration": 275,
    "start_time": "2022-10-13T12:26:18.477Z"
   },
   {
    "duration": 308,
    "start_time": "2022-10-13T12:30:57.760Z"
   },
   {
    "duration": 14,
    "start_time": "2022-10-13T12:31:15.706Z"
   },
   {
    "duration": 5,
    "start_time": "2022-10-13T12:31:21.759Z"
   },
   {
    "duration": 37,
    "start_time": "2022-10-13T12:39:18.984Z"
   },
   {
    "duration": 15,
    "start_time": "2022-10-13T12:39:56.232Z"
   },
   {
    "duration": 255,
    "start_time": "2022-10-13T12:45:31.385Z"
   },
   {
    "duration": 243,
    "start_time": "2022-10-13T12:45:35.518Z"
   },
   {
    "duration": 266,
    "start_time": "2022-10-13T12:45:46.163Z"
   },
   {
    "duration": 62,
    "start_time": "2022-10-13T12:46:23.094Z"
   },
   {
    "duration": 78,
    "start_time": "2022-10-13T12:46:33.680Z"
   },
   {
    "duration": 804,
    "start_time": "2022-10-13T12:46:46.582Z"
   },
   {
    "duration": 784,
    "start_time": "2022-10-13T12:46:57.331Z"
   },
   {
    "duration": 413,
    "start_time": "2022-10-13T12:47:07.314Z"
   },
   {
    "duration": 227,
    "start_time": "2022-10-13T12:47:15.547Z"
   },
   {
    "duration": 58,
    "start_time": "2022-10-13T12:47:26.926Z"
   },
   {
    "duration": 364,
    "start_time": "2022-10-13T12:48:04.612Z"
   },
   {
    "duration": 17615,
    "start_time": "2022-10-13T13:25:32.241Z"
   },
   {
    "duration": 114,
    "start_time": "2022-10-13T13:27:33.275Z"
   },
   {
    "duration": 102,
    "start_time": "2022-10-13T13:27:41.227Z"
   },
   {
    "duration": 125,
    "start_time": "2022-10-13T13:32:18.745Z"
   },
   {
    "duration": 97,
    "start_time": "2022-10-13T13:32:45.892Z"
   },
   {
    "duration": 48,
    "start_time": "2022-10-14T10:57:11.474Z"
   },
   {
    "duration": 533,
    "start_time": "2022-10-14T10:57:18.199Z"
   },
   {
    "duration": 40,
    "start_time": "2022-10-14T10:57:18.734Z"
   },
   {
    "duration": 17,
    "start_time": "2022-10-14T10:57:18.775Z"
   },
   {
    "duration": 2154,
    "start_time": "2022-10-14T10:57:18.794Z"
   },
   {
    "duration": 10,
    "start_time": "2022-10-14T10:57:20.950Z"
   },
   {
    "duration": 14,
    "start_time": "2022-10-14T10:57:20.962Z"
   },
   {
    "duration": 13,
    "start_time": "2022-10-14T10:57:20.978Z"
   },
   {
    "duration": 31,
    "start_time": "2022-10-14T10:57:20.993Z"
   },
   {
    "duration": 1726,
    "start_time": "2022-10-14T10:57:21.025Z"
   },
   {
    "duration": 4,
    "start_time": "2022-10-14T10:57:22.753Z"
   },
   {
    "duration": 12,
    "start_time": "2022-10-14T10:57:22.758Z"
   },
   {
    "duration": 23,
    "start_time": "2022-10-14T10:57:22.771Z"
   },
   {
    "duration": 1233,
    "start_time": "2022-10-14T10:57:22.795Z"
   },
   {
    "duration": 1363,
    "start_time": "2022-10-14T10:57:24.030Z"
   },
   {
    "duration": 17,
    "start_time": "2022-10-14T10:57:25.395Z"
   },
   {
    "duration": 25,
    "start_time": "2022-10-14T10:57:25.414Z"
   },
   {
    "duration": 1426,
    "start_time": "2022-10-14T10:57:25.441Z"
   },
   {
    "duration": 1253,
    "start_time": "2022-10-14T10:57:26.869Z"
   },
   {
    "duration": 7,
    "start_time": "2022-10-14T10:57:28.124Z"
   },
   {
    "duration": 16,
    "start_time": "2022-10-14T10:57:28.133Z"
   },
   {
    "duration": 23,
    "start_time": "2022-10-14T10:57:28.151Z"
   },
   {
    "duration": 11,
    "start_time": "2022-10-14T10:57:28.175Z"
   },
   {
    "duration": 7,
    "start_time": "2022-10-14T10:57:28.208Z"
   },
   {
    "duration": 11,
    "start_time": "2022-10-14T10:57:28.216Z"
   },
   {
    "duration": 28,
    "start_time": "2022-10-14T10:57:28.228Z"
   },
   {
    "duration": 12,
    "start_time": "2022-10-14T10:57:28.258Z"
   },
   {
    "duration": 16,
    "start_time": "2022-10-14T10:57:28.272Z"
   },
   {
    "duration": 11,
    "start_time": "2022-10-14T10:57:28.291Z"
   },
   {
    "duration": 97,
    "start_time": "2022-10-14T10:57:28.303Z"
   },
   {
    "duration": 54,
    "start_time": "2022-10-14T10:57:28.401Z"
   },
   {
    "duration": 81,
    "start_time": "2022-10-14T10:58:45.878Z"
   },
   {
    "duration": 7,
    "start_time": "2022-10-14T10:58:48.096Z"
   },
   {
    "duration": 16,
    "start_time": "2022-10-14T10:58:52.512Z"
   },
   {
    "duration": 5,
    "start_time": "2022-10-14T10:59:03.730Z"
   },
   {
    "duration": 7,
    "start_time": "2022-10-14T11:00:50.226Z"
   },
   {
    "duration": 43,
    "start_time": "2022-10-14T11:03:08.274Z"
   },
   {
    "duration": 124,
    "start_time": "2022-10-14T11:04:57.633Z"
   },
   {
    "duration": 146,
    "start_time": "2022-10-14T11:47:48.674Z"
   },
   {
    "duration": 119,
    "start_time": "2022-10-14T11:47:58.876Z"
   },
   {
    "duration": 200,
    "start_time": "2022-10-14T11:48:13.341Z"
   },
   {
    "duration": 174,
    "start_time": "2022-10-14T11:48:21.225Z"
   },
   {
    "duration": 137,
    "start_time": "2022-10-14T11:48:36.664Z"
   },
   {
    "duration": 163,
    "start_time": "2022-10-14T11:50:37.293Z"
   },
   {
    "duration": 259,
    "start_time": "2022-10-14T11:51:25.916Z"
   },
   {
    "duration": 233,
    "start_time": "2022-10-14T11:51:39.846Z"
   },
   {
    "duration": 1371,
    "start_time": "2022-10-14T11:51:46.091Z"
   },
   {
    "duration": 12979,
    "start_time": "2022-10-14T11:51:52.038Z"
   },
   {
    "duration": 170,
    "start_time": "2022-10-14T11:52:10.737Z"
   },
   {
    "duration": 256,
    "start_time": "2022-10-14T11:52:14.886Z"
   },
   {
    "duration": 283,
    "start_time": "2022-10-14T11:54:46.307Z"
   },
   {
    "duration": 262,
    "start_time": "2022-10-14T11:55:06.586Z"
   },
   {
    "duration": 225,
    "start_time": "2022-10-14T11:58:04.967Z"
   },
   {
    "duration": 642,
    "start_time": "2022-10-14T11:58:09.300Z"
   },
   {
    "duration": 207,
    "start_time": "2022-10-14T11:59:30.586Z"
   },
   {
    "duration": 218,
    "start_time": "2022-10-14T11:59:40.536Z"
   },
   {
    "duration": 19,
    "start_time": "2022-10-14T12:03:59.258Z"
   },
   {
    "duration": 286,
    "start_time": "2022-10-14T12:04:38.398Z"
   },
   {
    "duration": 271,
    "start_time": "2022-10-14T12:04:43.630Z"
   },
   {
    "duration": 231,
    "start_time": "2022-10-14T12:05:02.731Z"
   },
   {
    "duration": 125,
    "start_time": "2022-10-14T12:05:15.132Z"
   },
   {
    "duration": 238,
    "start_time": "2022-10-14T12:05:29.126Z"
   },
   {
    "duration": 234,
    "start_time": "2022-10-14T12:05:41.037Z"
   },
   {
    "duration": 240,
    "start_time": "2022-10-14T12:05:48.362Z"
   },
   {
    "duration": 244,
    "start_time": "2022-10-14T12:06:16.254Z"
   },
   {
    "duration": 1195,
    "start_time": "2022-10-14T12:06:21.232Z"
   },
   {
    "duration": 232,
    "start_time": "2022-10-14T12:08:32.053Z"
   },
   {
    "duration": 252,
    "start_time": "2022-10-14T12:08:57.560Z"
   },
   {
    "duration": 159,
    "start_time": "2022-10-14T12:09:04.541Z"
   },
   {
    "duration": 169,
    "start_time": "2022-10-14T12:09:09.258Z"
   },
   {
    "duration": 170,
    "start_time": "2022-10-14T12:09:14.886Z"
   },
   {
    "duration": 731,
    "start_time": "2022-10-14T12:09:21.275Z"
   },
   {
    "duration": 314,
    "start_time": "2022-10-14T12:12:09.838Z"
   },
   {
    "duration": 301,
    "start_time": "2022-10-14T12:12:19.037Z"
   },
   {
    "duration": 231,
    "start_time": "2022-10-14T12:15:04.979Z"
   },
   {
    "duration": 299,
    "start_time": "2022-10-14T12:15:08.904Z"
   },
   {
    "duration": 166,
    "start_time": "2022-10-14T12:15:23.372Z"
   },
   {
    "duration": 246,
    "start_time": "2022-10-14T12:15:26.058Z"
   },
   {
    "duration": 174,
    "start_time": "2022-10-14T12:15:31.480Z"
   },
   {
    "duration": 18,
    "start_time": "2022-10-14T12:18:01.933Z"
   },
   {
    "duration": 10,
    "start_time": "2022-10-14T12:20:50.861Z"
   },
   {
    "duration": 47,
    "start_time": "2022-10-14T12:21:26.425Z"
   },
   {
    "duration": 44,
    "start_time": "2022-10-14T12:21:29.648Z"
   },
   {
    "duration": 49,
    "start_time": "2022-10-14T12:21:37.430Z"
   },
   {
    "duration": 7,
    "start_time": "2022-10-14T12:21:49.125Z"
   },
   {
    "duration": 62,
    "start_time": "2022-10-14T12:22:35.798Z"
   },
   {
    "duration": 148,
    "start_time": "2022-10-14T12:22:39.489Z"
   },
   {
    "duration": 239,
    "start_time": "2022-10-14T12:26:50.153Z"
   },
   {
    "duration": 298,
    "start_time": "2022-10-14T12:27:03.030Z"
   },
   {
    "duration": 185,
    "start_time": "2022-10-14T12:27:11.199Z"
   },
   {
    "duration": 154,
    "start_time": "2022-10-14T12:29:02.929Z"
   },
   {
    "duration": 234,
    "start_time": "2022-10-14T12:29:09.688Z"
   },
   {
    "duration": 142,
    "start_time": "2022-10-14T12:29:12.956Z"
   },
   {
    "duration": 188,
    "start_time": "2022-10-14T12:31:09.406Z"
   },
   {
    "duration": 184,
    "start_time": "2022-10-14T12:31:16.820Z"
   },
   {
    "duration": 200,
    "start_time": "2022-10-14T12:31:22.432Z"
   },
   {
    "duration": 222,
    "start_time": "2022-10-14T12:35:16.019Z"
   },
   {
    "duration": 213,
    "start_time": "2022-10-14T12:38:41.249Z"
   },
   {
    "duration": 401,
    "start_time": "2022-10-14T12:42:15.748Z"
   },
   {
    "duration": 356,
    "start_time": "2022-10-14T12:42:25.686Z"
   },
   {
    "duration": 236,
    "start_time": "2022-10-14T12:42:45.364Z"
   },
   {
    "duration": 220,
    "start_time": "2022-10-14T12:42:49.681Z"
   },
   {
    "duration": 259,
    "start_time": "2022-10-14T12:42:53.083Z"
   },
   {
    "duration": 237,
    "start_time": "2022-10-14T12:42:55.869Z"
   },
   {
    "duration": 350,
    "start_time": "2022-10-14T12:42:58.499Z"
   },
   {
    "duration": 247,
    "start_time": "2022-10-14T12:43:00.789Z"
   },
   {
    "duration": 846,
    "start_time": "2022-10-14T12:43:20.555Z"
   },
   {
    "duration": 270,
    "start_time": "2022-10-14T12:43:27.819Z"
   },
   {
    "duration": 280,
    "start_time": "2022-10-14T12:43:31.201Z"
   },
   {
    "duration": 273,
    "start_time": "2022-10-14T12:43:33.908Z"
   },
   {
    "duration": 237,
    "start_time": "2022-10-14T12:43:36.829Z"
   },
   {
    "duration": 253,
    "start_time": "2022-10-14T12:43:43.034Z"
   },
   {
    "duration": 126,
    "start_time": "2022-10-14T12:49:51.008Z"
   },
   {
    "duration": 217,
    "start_time": "2022-10-14T12:50:01.341Z"
   },
   {
    "duration": 165,
    "start_time": "2022-10-14T12:50:05.489Z"
   },
   {
    "duration": 216,
    "start_time": "2022-10-14T12:50:11.213Z"
   },
   {
    "duration": 1189,
    "start_time": "2022-10-14T12:50:14.367Z"
   },
   {
    "duration": 217,
    "start_time": "2022-10-14T12:50:19.677Z"
   },
   {
    "duration": 211,
    "start_time": "2022-10-14T12:50:52.942Z"
   },
   {
    "duration": 209,
    "start_time": "2022-10-14T12:51:59.449Z"
   },
   {
    "duration": 212,
    "start_time": "2022-10-14T12:52:10.345Z"
   },
   {
    "duration": 209,
    "start_time": "2022-10-14T12:52:17.747Z"
   },
   {
    "duration": 49,
    "start_time": "2022-10-14T12:52:52.316Z"
   },
   {
    "duration": 773,
    "start_time": "2022-10-14T12:53:19.462Z"
   },
   {
    "duration": 70,
    "start_time": "2022-10-15T04:15:03.180Z"
   },
   {
    "duration": 180,
    "start_time": "2022-10-15T04:15:11.700Z"
   },
   {
    "duration": 154,
    "start_time": "2022-10-15T04:15:53.278Z"
   },
   {
    "duration": 185,
    "start_time": "2022-10-15T04:16:04.242Z"
   },
   {
    "duration": 299,
    "start_time": "2022-10-15T04:16:31.532Z"
   },
   {
    "duration": 177,
    "start_time": "2022-10-15T04:18:13.525Z"
   },
   {
    "duration": 178,
    "start_time": "2022-10-15T04:18:19.704Z"
   },
   {
    "duration": 19,
    "start_time": "2022-10-15T04:19:57.105Z"
   },
   {
    "duration": 194,
    "start_time": "2022-10-15T04:20:05.294Z"
   },
   {
    "duration": 196,
    "start_time": "2022-10-15T04:20:11.748Z"
   },
   {
    "duration": 23,
    "start_time": "2022-10-15T04:20:51.606Z"
   },
   {
    "duration": 21,
    "start_time": "2022-10-15T04:21:02.381Z"
   },
   {
    "duration": 833,
    "start_time": "2022-10-15T04:21:31.900Z"
   },
   {
    "duration": 880,
    "start_time": "2022-10-15T04:21:46.618Z"
   },
   {
    "duration": 948,
    "start_time": "2022-10-15T04:22:14.935Z"
   },
   {
    "duration": 1116,
    "start_time": "2022-10-15T04:23:36.743Z"
   },
   {
    "duration": 17,
    "start_time": "2022-10-15T04:31:13.898Z"
   },
   {
    "duration": 45,
    "start_time": "2022-10-15T04:31:33.350Z"
   },
   {
    "duration": 13,
    "start_time": "2022-10-15T04:31:48.817Z"
   },
   {
    "duration": 17,
    "start_time": "2022-10-15T04:32:15.825Z"
   },
   {
    "duration": 44,
    "start_time": "2022-10-15T04:33:16.137Z"
   },
   {
    "duration": 217,
    "start_time": "2022-10-15T04:33:37.574Z"
   },
   {
    "duration": 216,
    "start_time": "2022-10-15T04:34:18.003Z"
   },
   {
    "duration": 299,
    "start_time": "2022-10-15T04:34:26.738Z"
   },
   {
    "duration": 239,
    "start_time": "2022-10-15T04:34:49.958Z"
   },
   {
    "duration": 15,
    "start_time": "2022-10-15T04:35:03.199Z"
   },
   {
    "duration": 232,
    "start_time": "2022-10-15T04:35:05.969Z"
   },
   {
    "duration": 206,
    "start_time": "2022-10-15T04:35:28.593Z"
   },
   {
    "duration": 234,
    "start_time": "2022-10-15T04:35:38.381Z"
   },
   {
    "duration": 237,
    "start_time": "2022-10-15T04:35:43.642Z"
   },
   {
    "duration": 257,
    "start_time": "2022-10-15T04:35:48.421Z"
   },
   {
    "duration": 232,
    "start_time": "2022-10-15T04:35:53.038Z"
   },
   {
    "duration": 227,
    "start_time": "2022-10-15T04:37:57.834Z"
   },
   {
    "duration": 250,
    "start_time": "2022-10-15T04:38:09.999Z"
   },
   {
    "duration": 242,
    "start_time": "2022-10-15T04:38:17.282Z"
   },
   {
    "duration": 226,
    "start_time": "2022-10-15T04:38:29.361Z"
   },
   {
    "duration": 227,
    "start_time": "2022-10-15T04:38:36.494Z"
   },
   {
    "duration": 328,
    "start_time": "2022-10-15T04:38:46.200Z"
   },
   {
    "duration": 247,
    "start_time": "2022-10-15T04:38:56.399Z"
   },
   {
    "duration": 214,
    "start_time": "2022-10-15T04:40:13.590Z"
   },
   {
    "duration": 244,
    "start_time": "2022-10-15T04:40:17.771Z"
   },
   {
    "duration": 245,
    "start_time": "2022-10-15T04:40:21.958Z"
   },
   {
    "duration": 265,
    "start_time": "2022-10-15T04:40:42.804Z"
   },
   {
    "duration": 237,
    "start_time": "2022-10-15T04:41:12.701Z"
   },
   {
    "duration": 226,
    "start_time": "2022-10-15T04:41:45.814Z"
   },
   {
    "duration": 21,
    "start_time": "2022-10-15T04:42:02.744Z"
   },
   {
    "duration": 248,
    "start_time": "2022-10-15T04:42:15.129Z"
   },
   {
    "duration": 235,
    "start_time": "2022-10-15T04:42:34.696Z"
   },
   {
    "duration": 172,
    "start_time": "2022-10-15T04:43:05.769Z"
   },
   {
    "duration": 166,
    "start_time": "2022-10-15T04:43:07.421Z"
   },
   {
    "duration": 206,
    "start_time": "2022-10-15T04:44:14.577Z"
   },
   {
    "duration": 269,
    "start_time": "2022-10-15T04:44:25.464Z"
   },
   {
    "duration": 245,
    "start_time": "2022-10-15T04:44:34.330Z"
   },
   {
    "duration": 25,
    "start_time": "2022-10-15T04:46:00.781Z"
   },
   {
    "duration": 22,
    "start_time": "2022-10-15T04:46:20.005Z"
   },
   {
    "duration": 25,
    "start_time": "2022-10-15T04:48:02.567Z"
   },
   {
    "duration": 165,
    "start_time": "2022-10-15T04:48:18.146Z"
   },
   {
    "duration": 168,
    "start_time": "2022-10-15T04:49:41.818Z"
   },
   {
    "duration": 407,
    "start_time": "2022-10-15T04:50:24.982Z"
   },
   {
    "duration": 348,
    "start_time": "2022-10-15T04:50:28.367Z"
   },
   {
    "duration": 293,
    "start_time": "2022-10-15T04:50:41.772Z"
   },
   {
    "duration": 294,
    "start_time": "2022-10-15T04:51:09.067Z"
   },
   {
    "duration": 316,
    "start_time": "2022-10-15T04:51:15.477Z"
   },
   {
    "duration": 22,
    "start_time": "2022-10-15T04:52:06.908Z"
   },
   {
    "duration": 300,
    "start_time": "2022-10-15T04:52:25.873Z"
   },
   {
    "duration": 834,
    "start_time": "2022-10-15T04:53:54.064Z"
   },
   {
    "duration": 821,
    "start_time": "2022-10-15T04:54:22.689Z"
   },
   {
    "duration": 479,
    "start_time": "2022-10-15T04:54:32.718Z"
   },
   {
    "duration": 56,
    "start_time": "2022-10-15T04:54:33.199Z"
   },
   {
    "duration": 14,
    "start_time": "2022-10-15T04:54:33.257Z"
   },
   {
    "duration": 2217,
    "start_time": "2022-10-15T04:54:33.272Z"
   },
   {
    "duration": 13,
    "start_time": "2022-10-15T04:54:35.490Z"
   },
   {
    "duration": 16,
    "start_time": "2022-10-15T04:54:35.505Z"
   },
   {
    "duration": 8,
    "start_time": "2022-10-15T04:54:35.522Z"
   },
   {
    "duration": 47,
    "start_time": "2022-10-15T04:54:35.531Z"
   },
   {
    "duration": 2168,
    "start_time": "2022-10-15T04:54:35.583Z"
   },
   {
    "duration": 4,
    "start_time": "2022-10-15T04:54:37.755Z"
   },
   {
    "duration": 8,
    "start_time": "2022-10-15T04:54:37.761Z"
   },
   {
    "duration": 11,
    "start_time": "2022-10-15T04:54:37.771Z"
   },
   {
    "duration": 1400,
    "start_time": "2022-10-15T04:54:37.783Z"
   },
   {
    "duration": 1426,
    "start_time": "2022-10-15T04:54:39.185Z"
   },
   {
    "duration": 7,
    "start_time": "2022-10-15T04:54:40.612Z"
   },
   {
    "duration": 12,
    "start_time": "2022-10-15T04:54:40.620Z"
   },
   {
    "duration": 1548,
    "start_time": "2022-10-15T04:54:40.634Z"
   },
   {
    "duration": 1410,
    "start_time": "2022-10-15T04:54:42.184Z"
   },
   {
    "duration": 7,
    "start_time": "2022-10-15T04:54:43.595Z"
   },
   {
    "duration": 14,
    "start_time": "2022-10-15T04:54:43.604Z"
   },
   {
    "duration": 40,
    "start_time": "2022-10-15T04:54:43.620Z"
   },
   {
    "duration": 12,
    "start_time": "2022-10-15T04:54:43.661Z"
   },
   {
    "duration": 28,
    "start_time": "2022-10-15T04:54:43.675Z"
   },
   {
    "duration": 9,
    "start_time": "2022-10-15T04:54:43.705Z"
   },
   {
    "duration": 22,
    "start_time": "2022-10-15T04:54:43.716Z"
   },
   {
    "duration": 17,
    "start_time": "2022-10-15T04:54:43.740Z"
   },
   {
    "duration": 13,
    "start_time": "2022-10-15T04:54:43.759Z"
   },
   {
    "duration": 7,
    "start_time": "2022-10-15T04:54:43.775Z"
   },
   {
    "duration": 99,
    "start_time": "2022-10-15T04:54:43.784Z"
   },
   {
    "duration": 7,
    "start_time": "2022-10-15T04:54:43.885Z"
   },
   {
    "duration": 260,
    "start_time": "2022-10-15T04:54:43.894Z"
   },
   {
    "duration": 249,
    "start_time": "2022-10-15T04:54:44.156Z"
   },
   {
    "duration": 367,
    "start_time": "2022-10-15T04:54:44.407Z"
   },
   {
    "duration": 1419,
    "start_time": "2022-10-15T04:54:44.776Z"
   },
   {
    "duration": 242,
    "start_time": "2022-10-15T04:54:46.197Z"
   },
   {
    "duration": 241,
    "start_time": "2022-10-15T04:54:46.441Z"
   },
   {
    "duration": 157,
    "start_time": "2022-10-15T04:54:46.684Z"
   },
   {
    "duration": 137,
    "start_time": "2022-10-15T04:54:46.843Z"
   },
   {
    "duration": 200,
    "start_time": "2022-10-15T04:54:46.982Z"
   },
   {
    "duration": 263,
    "start_time": "2022-10-15T04:54:47.185Z"
   },
   {
    "duration": 413,
    "start_time": "2022-10-15T04:54:47.453Z"
   },
   {
    "duration": 245,
    "start_time": "2022-10-15T04:54:47.868Z"
   },
   {
    "duration": 286,
    "start_time": "2022-10-15T04:54:48.116Z"
   },
   {
    "duration": 256,
    "start_time": "2022-10-15T04:54:48.404Z"
   },
   {
    "duration": 98,
    "start_time": "2022-10-15T04:54:48.662Z"
   },
   {
    "duration": 0,
    "start_time": "2022-10-15T04:54:48.762Z"
   },
   {
    "duration": 177,
    "start_time": "2022-10-15T04:54:58.449Z"
   },
   {
    "duration": 192,
    "start_time": "2022-10-15T04:55:01.320Z"
   },
   {
    "duration": 172,
    "start_time": "2022-10-15T04:55:43.035Z"
   },
   {
    "duration": 167,
    "start_time": "2022-10-15T04:55:53.057Z"
   },
   {
    "duration": 278,
    "start_time": "2022-10-15T05:00:43.988Z"
   },
   {
    "duration": 184,
    "start_time": "2022-10-15T05:01:02.712Z"
   },
   {
    "duration": 207,
    "start_time": "2022-10-15T05:01:04.996Z"
   },
   {
    "duration": 228,
    "start_time": "2022-10-15T05:01:11.371Z"
   },
   {
    "duration": 174,
    "start_time": "2022-10-15T05:01:14.459Z"
   },
   {
    "duration": 47,
    "start_time": "2022-10-15T05:04:17.482Z"
   },
   {
    "duration": 185,
    "start_time": "2022-10-15T05:05:10.510Z"
   },
   {
    "duration": 190,
    "start_time": "2022-10-15T05:05:31.248Z"
   },
   {
    "duration": 110,
    "start_time": "2022-10-15T05:06:57.579Z"
   },
   {
    "duration": 183,
    "start_time": "2022-10-15T05:07:37.333Z"
   },
   {
    "duration": 171,
    "start_time": "2022-10-15T05:07:45.045Z"
   },
   {
    "duration": 167,
    "start_time": "2022-10-15T05:07:50.409Z"
   },
   {
    "duration": 255,
    "start_time": "2022-10-15T05:07:59.215Z"
   },
   {
    "duration": 193,
    "start_time": "2022-10-15T05:10:32.490Z"
   },
   {
    "duration": 188,
    "start_time": "2022-10-15T05:10:50.456Z"
   },
   {
    "duration": 195,
    "start_time": "2022-10-15T05:11:02.863Z"
   },
   {
    "duration": 204,
    "start_time": "2022-10-15T05:11:12.682Z"
   },
   {
    "duration": 183,
    "start_time": "2022-10-15T05:11:19.594Z"
   },
   {
    "duration": 970,
    "start_time": "2022-10-15T05:14:01.402Z"
   },
   {
    "duration": 821,
    "start_time": "2022-10-15T05:14:46.782Z"
   },
   {
    "duration": 173,
    "start_time": "2022-10-15T05:15:25.965Z"
   },
   {
    "duration": 197,
    "start_time": "2022-10-15T05:16:49.737Z"
   },
   {
    "duration": 140,
    "start_time": "2022-10-15T05:17:02.326Z"
   },
   {
    "duration": 30,
    "start_time": "2022-10-15T05:17:22.547Z"
   },
   {
    "duration": 217,
    "start_time": "2022-10-15T05:17:43.988Z"
   },
   {
    "duration": 199,
    "start_time": "2022-10-15T05:17:57.124Z"
   },
   {
    "duration": 20,
    "start_time": "2022-10-15T05:18:04.080Z"
   },
   {
    "duration": 61,
    "start_time": "2022-10-15T05:18:10.807Z"
   },
   {
    "duration": 196,
    "start_time": "2022-10-15T05:18:16.102Z"
   },
   {
    "duration": 20,
    "start_time": "2022-10-15T05:18:54.414Z"
   },
   {
    "duration": 21,
    "start_time": "2022-10-15T05:19:11.100Z"
   },
   {
    "duration": 188,
    "start_time": "2022-10-15T05:19:16.007Z"
   },
   {
    "duration": 185,
    "start_time": "2022-10-15T05:19:29.108Z"
   },
   {
    "duration": 163,
    "start_time": "2022-10-15T05:20:25.275Z"
   },
   {
    "duration": 166,
    "start_time": "2022-10-15T05:20:32.029Z"
   },
   {
    "duration": 19,
    "start_time": "2022-10-15T05:21:47.801Z"
   },
   {
    "duration": 129,
    "start_time": "2022-10-15T05:22:02.480Z"
   },
   {
    "duration": 22,
    "start_time": "2022-10-15T05:30:30.833Z"
   },
   {
    "duration": 23,
    "start_time": "2022-10-15T05:30:38.728Z"
   },
   {
    "duration": 19,
    "start_time": "2022-10-15T05:30:59.766Z"
   },
   {
    "duration": 27,
    "start_time": "2022-10-15T05:32:49.522Z"
   },
   {
    "duration": 220,
    "start_time": "2022-10-15T05:34:01.603Z"
   },
   {
    "duration": 611,
    "start_time": "2022-10-15T05:34:38.917Z"
   },
   {
    "duration": 864,
    "start_time": "2022-10-15T05:36:22.856Z"
   },
   {
    "duration": 821,
    "start_time": "2022-10-15T05:36:29.475Z"
   },
   {
    "duration": 188,
    "start_time": "2022-10-15T05:36:38.907Z"
   },
   {
    "duration": 141,
    "start_time": "2022-10-15T05:36:49.524Z"
   },
   {
    "duration": 16,
    "start_time": "2022-10-15T05:39:15.635Z"
   },
   {
    "duration": 16,
    "start_time": "2022-10-15T05:39:26.384Z"
   },
   {
    "duration": 1192,
    "start_time": "2022-10-15T05:39:34.658Z"
   },
   {
    "duration": 18,
    "start_time": "2022-10-15T05:40:14.372Z"
   },
   {
    "duration": 506,
    "start_time": "2022-10-15T05:40:36.884Z"
   },
   {
    "duration": 65,
    "start_time": "2022-10-15T05:40:37.393Z"
   },
   {
    "duration": 19,
    "start_time": "2022-10-15T05:40:37.460Z"
   },
   {
    "duration": 2383,
    "start_time": "2022-10-15T05:40:37.482Z"
   },
   {
    "duration": 10,
    "start_time": "2022-10-15T05:40:39.868Z"
   },
   {
    "duration": 9,
    "start_time": "2022-10-15T05:40:39.880Z"
   },
   {
    "duration": 8,
    "start_time": "2022-10-15T05:40:39.890Z"
   },
   {
    "duration": 78,
    "start_time": "2022-10-15T05:40:39.900Z"
   },
   {
    "duration": 2483,
    "start_time": "2022-10-15T05:40:39.981Z"
   },
   {
    "duration": 4,
    "start_time": "2022-10-15T05:40:42.468Z"
   },
   {
    "duration": 9,
    "start_time": "2022-10-15T05:40:42.474Z"
   },
   {
    "duration": 19,
    "start_time": "2022-10-15T05:40:42.485Z"
   },
   {
    "duration": 1619,
    "start_time": "2022-10-15T05:40:42.506Z"
   },
   {
    "duration": 1585,
    "start_time": "2022-10-15T05:40:44.126Z"
   },
   {
    "duration": 8,
    "start_time": "2022-10-15T05:40:45.714Z"
   },
   {
    "duration": 30,
    "start_time": "2022-10-15T05:40:45.724Z"
   },
   {
    "duration": 1697,
    "start_time": "2022-10-15T05:40:45.757Z"
   },
   {
    "duration": 1641,
    "start_time": "2022-10-15T05:40:47.456Z"
   },
   {
    "duration": 11,
    "start_time": "2022-10-15T05:40:49.099Z"
   },
   {
    "duration": 15,
    "start_time": "2022-10-15T05:40:49.112Z"
   },
   {
    "duration": 59,
    "start_time": "2022-10-15T05:40:49.130Z"
   },
   {
    "duration": 19,
    "start_time": "2022-10-15T05:40:49.191Z"
   },
   {
    "duration": 13,
    "start_time": "2022-10-15T05:40:49.212Z"
   },
   {
    "duration": 41,
    "start_time": "2022-10-15T05:40:49.226Z"
   },
   {
    "duration": 18,
    "start_time": "2022-10-15T05:40:49.270Z"
   },
   {
    "duration": 13,
    "start_time": "2022-10-15T05:40:49.291Z"
   },
   {
    "duration": 9,
    "start_time": "2022-10-15T05:40:49.306Z"
   },
   {
    "duration": 8,
    "start_time": "2022-10-15T05:40:49.319Z"
   },
   {
    "duration": 152,
    "start_time": "2022-10-15T05:40:49.329Z"
   },
   {
    "duration": 9,
    "start_time": "2022-10-15T05:40:49.483Z"
   },
   {
    "duration": 282,
    "start_time": "2022-10-15T05:40:49.494Z"
   },
   {
    "duration": 311,
    "start_time": "2022-10-15T05:40:49.778Z"
   },
   {
    "duration": 387,
    "start_time": "2022-10-15T05:40:50.091Z"
   },
   {
    "duration": 1615,
    "start_time": "2022-10-15T05:40:50.480Z"
   },
   {
    "duration": 290,
    "start_time": "2022-10-15T05:40:52.097Z"
   },
   {
    "duration": 264,
    "start_time": "2022-10-15T05:40:52.389Z"
   },
   {
    "duration": 227,
    "start_time": "2022-10-15T05:40:52.655Z"
   },
   {
    "duration": 141,
    "start_time": "2022-10-15T05:40:52.884Z"
   },
   {
    "duration": 250,
    "start_time": "2022-10-15T05:40:53.027Z"
   },
   {
    "duration": 276,
    "start_time": "2022-10-15T05:40:53.280Z"
   },
   {
    "duration": 431,
    "start_time": "2022-10-15T05:40:53.558Z"
   },
   {
    "duration": 255,
    "start_time": "2022-10-15T05:40:53.991Z"
   },
   {
    "duration": 322,
    "start_time": "2022-10-15T05:40:54.248Z"
   },
   {
    "duration": 271,
    "start_time": "2022-10-15T05:40:54.572Z"
   },
   {
    "duration": 210,
    "start_time": "2022-10-15T05:40:54.845Z"
   },
   {
    "duration": 183,
    "start_time": "2022-10-15T05:40:55.057Z"
   },
   {
    "duration": 195,
    "start_time": "2022-10-15T05:40:55.242Z"
   },
   {
    "duration": 221,
    "start_time": "2022-10-15T05:40:55.439Z"
   },
   {
    "duration": 76,
    "start_time": "2022-10-15T05:40:55.662Z"
   },
   {
    "duration": 0,
    "start_time": "2022-10-15T05:40:55.754Z"
   },
   {
    "duration": 12,
    "start_time": "2022-10-15T05:41:25.317Z"
   },
   {
    "duration": 15,
    "start_time": "2022-10-15T05:41:27.736Z"
   },
   {
    "duration": 365,
    "start_time": "2022-10-15T05:42:17.521Z"
   },
   {
    "duration": 155,
    "start_time": "2022-10-15T05:42:35.648Z"
   },
   {
    "duration": 208,
    "start_time": "2022-10-15T05:42:57.061Z"
   },
   {
    "duration": 311,
    "start_time": "2022-10-15T05:43:08.924Z"
   },
   {
    "duration": 211,
    "start_time": "2022-10-15T05:43:19.927Z"
   },
   {
    "duration": 285,
    "start_time": "2022-10-15T05:43:35.936Z"
   },
   {
    "duration": 251,
    "start_time": "2022-10-15T05:43:40.094Z"
   },
   {
    "duration": 222,
    "start_time": "2022-10-15T05:43:54.746Z"
   },
   {
    "duration": 247,
    "start_time": "2022-10-15T05:43:58.664Z"
   },
   {
    "duration": 227,
    "start_time": "2022-10-15T05:44:43.363Z"
   },
   {
    "duration": 541,
    "start_time": "2022-10-15T05:44:53.458Z"
   },
   {
    "duration": 540,
    "start_time": "2022-10-15T05:45:13.910Z"
   },
   {
    "duration": 398,
    "start_time": "2022-10-15T05:45:55.113Z"
   },
   {
    "duration": 44,
    "start_time": "2022-10-15T05:49:59.430Z"
   },
   {
    "duration": 213,
    "start_time": "2022-10-15T05:51:14.653Z"
   },
   {
    "duration": 209,
    "start_time": "2022-10-15T05:51:18.477Z"
   },
   {
    "duration": 213,
    "start_time": "2022-10-15T05:51:21.046Z"
   },
   {
    "duration": 173,
    "start_time": "2022-10-15T05:51:24.914Z"
   },
   {
    "duration": 202,
    "start_time": "2022-10-15T05:51:29.128Z"
   },
   {
    "duration": 270,
    "start_time": "2022-10-15T05:51:36.484Z"
   },
   {
    "duration": 429,
    "start_time": "2022-10-15T05:53:34.769Z"
   },
   {
    "duration": 276,
    "start_time": "2022-10-15T05:53:44.407Z"
   },
   {
    "duration": 214,
    "start_time": "2022-10-15T05:53:52.534Z"
   },
   {
    "duration": 180,
    "start_time": "2022-10-15T05:53:56.198Z"
   },
   {
    "duration": 318,
    "start_time": "2022-10-15T05:54:02.818Z"
   },
   {
    "duration": 323,
    "start_time": "2022-10-15T05:54:08.768Z"
   },
   {
    "duration": 558,
    "start_time": "2022-10-15T05:54:25.312Z"
   },
   {
    "duration": 186,
    "start_time": "2022-10-15T05:54:34.470Z"
   },
   {
    "duration": 252,
    "start_time": "2022-10-15T05:54:47.437Z"
   },
   {
    "duration": 225,
    "start_time": "2022-10-15T05:54:52.146Z"
   },
   {
    "duration": 207,
    "start_time": "2022-10-15T05:56:34.467Z"
   },
   {
    "duration": 206,
    "start_time": "2022-10-15T05:56:39.650Z"
   },
   {
    "duration": 231,
    "start_time": "2022-10-15T05:56:51.615Z"
   },
   {
    "duration": 222,
    "start_time": "2022-10-15T05:56:55.355Z"
   },
   {
    "duration": 207,
    "start_time": "2022-10-15T05:56:58.864Z"
   },
   {
    "duration": 9,
    "start_time": "2022-10-15T06:05:46.885Z"
   },
   {
    "duration": 13,
    "start_time": "2022-10-15T06:05:52.106Z"
   },
   {
    "duration": 51,
    "start_time": "2022-10-15T06:06:38.606Z"
   },
   {
    "duration": 14,
    "start_time": "2022-10-15T06:08:03.602Z"
   },
   {
    "duration": 19,
    "start_time": "2022-10-15T06:09:01.752Z"
   },
   {
    "duration": 17,
    "start_time": "2022-10-15T06:10:01.563Z"
   },
   {
    "duration": 60,
    "start_time": "2022-10-15T06:14:36.369Z"
   },
   {
    "duration": 94,
    "start_time": "2022-10-15T06:15:20.272Z"
   },
   {
    "duration": 89,
    "start_time": "2022-10-15T06:15:22.977Z"
   },
   {
    "duration": 11,
    "start_time": "2022-10-15T06:16:52.657Z"
   },
   {
    "duration": 83,
    "start_time": "2022-10-15T06:17:07.303Z"
   },
   {
    "duration": 82,
    "start_time": "2022-10-15T06:17:10.236Z"
   },
   {
    "duration": 86,
    "start_time": "2022-10-15T06:17:17.042Z"
   },
   {
    "duration": 92,
    "start_time": "2022-10-15T06:17:27.466Z"
   },
   {
    "duration": 16,
    "start_time": "2022-10-15T06:20:24.115Z"
   },
   {
    "duration": 33,
    "start_time": "2022-10-15T06:23:38.756Z"
   },
   {
    "duration": 31,
    "start_time": "2022-10-15T06:23:46.233Z"
   },
   {
    "duration": 25,
    "start_time": "2022-10-15T06:24:04.210Z"
   },
   {
    "duration": 8,
    "start_time": "2022-10-15T06:25:39.354Z"
   },
   {
    "duration": 26,
    "start_time": "2022-10-15T06:26:31.280Z"
   },
   {
    "duration": 23,
    "start_time": "2022-10-15T06:26:41.121Z"
   },
   {
    "duration": 29,
    "start_time": "2022-10-15T06:26:51.631Z"
   },
   {
    "duration": 23,
    "start_time": "2022-10-15T06:26:55.200Z"
   },
   {
    "duration": 22,
    "start_time": "2022-10-15T06:28:54.469Z"
   },
   {
    "duration": 8,
    "start_time": "2022-10-15T06:35:28.956Z"
   },
   {
    "duration": 47,
    "start_time": "2022-10-15T06:35:50.133Z"
   },
   {
    "duration": 24,
    "start_time": "2022-10-15T06:37:14.768Z"
   },
   {
    "duration": 23,
    "start_time": "2022-10-15T06:37:17.478Z"
   },
   {
    "duration": 26,
    "start_time": "2022-10-15T06:37:23.732Z"
   },
   {
    "duration": 23,
    "start_time": "2022-10-15T06:37:48.921Z"
   },
   {
    "duration": 24,
    "start_time": "2022-10-15T06:37:52.985Z"
   },
   {
    "duration": 25,
    "start_time": "2022-10-15T06:38:08.202Z"
   },
   {
    "duration": 180,
    "start_time": "2022-10-15T06:38:43.614Z"
   },
   {
    "duration": 56,
    "start_time": "2022-10-15T06:39:13.435Z"
   },
   {
    "duration": 138,
    "start_time": "2022-10-15T06:39:33.605Z"
   },
   {
    "duration": 56,
    "start_time": "2022-10-15T06:39:39.875Z"
   },
   {
    "duration": 629,
    "start_time": "2022-10-15T06:39:51.123Z"
   },
   {
    "duration": 60,
    "start_time": "2022-10-15T06:39:51.755Z"
   },
   {
    "duration": 17,
    "start_time": "2022-10-15T06:39:51.817Z"
   },
   {
    "duration": 2438,
    "start_time": "2022-10-15T06:39:51.855Z"
   },
   {
    "duration": 14,
    "start_time": "2022-10-15T06:39:54.296Z"
   },
   {
    "duration": 23,
    "start_time": "2022-10-15T06:39:54.313Z"
   },
   {
    "duration": 12,
    "start_time": "2022-10-15T06:39:54.338Z"
   },
   {
    "duration": 41,
    "start_time": "2022-10-15T06:39:54.353Z"
   },
   {
    "duration": 2268,
    "start_time": "2022-10-15T06:39:54.396Z"
   },
   {
    "duration": 6,
    "start_time": "2022-10-15T06:39:56.669Z"
   },
   {
    "duration": 12,
    "start_time": "2022-10-15T06:39:56.679Z"
   },
   {
    "duration": 19,
    "start_time": "2022-10-15T06:39:56.693Z"
   },
   {
    "duration": 1543,
    "start_time": "2022-10-15T06:39:56.714Z"
   },
   {
    "duration": 1597,
    "start_time": "2022-10-15T06:39:58.259Z"
   },
   {
    "duration": 7,
    "start_time": "2022-10-15T06:39:59.858Z"
   },
   {
    "duration": 14,
    "start_time": "2022-10-15T06:39:59.867Z"
   },
   {
    "duration": 1741,
    "start_time": "2022-10-15T06:39:59.883Z"
   },
   {
    "duration": 1677,
    "start_time": "2022-10-15T06:40:01.626Z"
   },
   {
    "duration": 9,
    "start_time": "2022-10-15T06:40:03.305Z"
   },
   {
    "duration": 26,
    "start_time": "2022-10-15T06:40:03.316Z"
   },
   {
    "duration": 27,
    "start_time": "2022-10-15T06:40:03.354Z"
   },
   {
    "duration": 13,
    "start_time": "2022-10-15T06:40:03.383Z"
   },
   {
    "duration": 13,
    "start_time": "2022-10-15T06:40:03.397Z"
   },
   {
    "duration": 8,
    "start_time": "2022-10-15T06:40:03.412Z"
   },
   {
    "duration": 35,
    "start_time": "2022-10-15T06:40:03.422Z"
   },
   {
    "duration": 12,
    "start_time": "2022-10-15T06:40:03.459Z"
   },
   {
    "duration": 10,
    "start_time": "2022-10-15T06:40:03.473Z"
   },
   {
    "duration": 21,
    "start_time": "2022-10-15T06:40:03.487Z"
   },
   {
    "duration": 123,
    "start_time": "2022-10-15T06:40:03.509Z"
   },
   {
    "duration": 9,
    "start_time": "2022-10-15T06:40:03.634Z"
   },
   {
    "duration": 273,
    "start_time": "2022-10-15T06:40:03.654Z"
   },
   {
    "duration": 288,
    "start_time": "2022-10-15T06:40:03.929Z"
   },
   {
    "duration": 403,
    "start_time": "2022-10-15T06:40:04.219Z"
   },
   {
    "duration": 1503,
    "start_time": "2022-10-15T06:40:04.624Z"
   },
   {
    "duration": 258,
    "start_time": "2022-10-15T06:40:06.129Z"
   },
   {
    "duration": 263,
    "start_time": "2022-10-15T06:40:06.389Z"
   },
   {
    "duration": 180,
    "start_time": "2022-10-15T06:40:06.654Z"
   },
   {
    "duration": 158,
    "start_time": "2022-10-15T06:40:06.837Z"
   },
   {
    "duration": 210,
    "start_time": "2022-10-15T06:40:06.997Z"
   },
   {
    "duration": 269,
    "start_time": "2022-10-15T06:40:07.209Z"
   },
   {
    "duration": 479,
    "start_time": "2022-10-15T06:40:07.481Z"
   },
   {
    "duration": 271,
    "start_time": "2022-10-15T06:40:07.962Z"
   },
   {
    "duration": 346,
    "start_time": "2022-10-15T06:40:08.236Z"
   },
   {
    "duration": 299,
    "start_time": "2022-10-15T06:40:08.584Z"
   },
   {
    "duration": 224,
    "start_time": "2022-10-15T06:40:08.885Z"
   },
   {
    "duration": 194,
    "start_time": "2022-10-15T06:40:09.111Z"
   },
   {
    "duration": 201,
    "start_time": "2022-10-15T06:40:09.308Z"
   },
   {
    "duration": 468,
    "start_time": "2022-10-15T06:40:09.511Z"
   },
   {
    "duration": 202,
    "start_time": "2022-10-15T06:40:09.981Z"
   },
   {
    "duration": 252,
    "start_time": "2022-10-15T06:40:10.186Z"
   },
   {
    "duration": 348,
    "start_time": "2022-10-15T06:40:10.440Z"
   },
   {
    "duration": 242,
    "start_time": "2022-10-15T06:40:10.791Z"
   },
   {
    "duration": 38,
    "start_time": "2022-10-15T06:40:11.035Z"
   },
   {
    "duration": 49,
    "start_time": "2022-10-15T06:40:11.075Z"
   },
   {
    "duration": 0,
    "start_time": "2022-10-15T06:40:11.126Z"
   },
   {
    "duration": 221,
    "start_time": "2022-10-15T06:40:58.265Z"
   },
   {
    "duration": 213,
    "start_time": "2022-10-15T06:41:03.079Z"
   },
   {
    "duration": 56,
    "start_time": "2022-10-15T06:41:13.159Z"
   },
   {
    "duration": 221,
    "start_time": "2022-10-15T06:41:24.069Z"
   },
   {
    "duration": 194,
    "start_time": "2022-10-15T06:41:28.406Z"
   },
   {
    "duration": 491,
    "start_time": "2022-10-15T07:21:51.951Z"
   },
   {
    "duration": 40,
    "start_time": "2022-10-15T07:21:52.443Z"
   },
   {
    "duration": 26,
    "start_time": "2022-10-15T07:21:52.485Z"
   },
   {
    "duration": 1910,
    "start_time": "2022-10-15T07:21:52.514Z"
   },
   {
    "duration": 11,
    "start_time": "2022-10-15T07:21:54.426Z"
   },
   {
    "duration": 14,
    "start_time": "2022-10-15T07:21:54.438Z"
   },
   {
    "duration": 17,
    "start_time": "2022-10-15T07:21:54.453Z"
   },
   {
    "duration": 47,
    "start_time": "2022-10-15T07:21:54.471Z"
   },
   {
    "duration": 1858,
    "start_time": "2022-10-15T07:21:54.520Z"
   },
   {
    "duration": 5,
    "start_time": "2022-10-15T07:21:56.380Z"
   },
   {
    "duration": 8,
    "start_time": "2022-10-15T07:21:56.386Z"
   },
   {
    "duration": 14,
    "start_time": "2022-10-15T07:21:56.396Z"
   },
   {
    "duration": 1297,
    "start_time": "2022-10-15T07:21:56.412Z"
   },
   {
    "duration": 1221,
    "start_time": "2022-10-15T07:21:57.710Z"
   },
   {
    "duration": 5,
    "start_time": "2022-10-15T07:21:58.933Z"
   },
   {
    "duration": 9,
    "start_time": "2022-10-15T07:21:58.940Z"
   },
   {
    "duration": 1269,
    "start_time": "2022-10-15T07:21:58.951Z"
   },
   {
    "duration": 1237,
    "start_time": "2022-10-15T07:22:00.222Z"
   },
   {
    "duration": 7,
    "start_time": "2022-10-15T07:22:01.461Z"
   },
   {
    "duration": 40,
    "start_time": "2022-10-15T07:22:01.470Z"
   },
   {
    "duration": 54,
    "start_time": "2022-10-15T07:22:01.512Z"
   },
   {
    "duration": 45,
    "start_time": "2022-10-15T07:22:01.568Z"
   },
   {
    "duration": 37,
    "start_time": "2022-10-15T07:22:01.614Z"
   },
   {
    "duration": 20,
    "start_time": "2022-10-15T07:22:01.653Z"
   },
   {
    "duration": 39,
    "start_time": "2022-10-15T07:22:01.675Z"
   },
   {
    "duration": 36,
    "start_time": "2022-10-15T07:22:01.715Z"
   },
   {
    "duration": 16,
    "start_time": "2022-10-15T07:22:01.752Z"
   },
   {
    "duration": 24,
    "start_time": "2022-10-15T07:22:01.771Z"
   },
   {
    "duration": 101,
    "start_time": "2022-10-15T07:22:01.796Z"
   },
   {
    "duration": 10,
    "start_time": "2022-10-15T07:22:01.899Z"
   },
   {
    "duration": 225,
    "start_time": "2022-10-15T07:22:01.910Z"
   },
   {
    "duration": 205,
    "start_time": "2022-10-15T07:22:02.136Z"
   },
   {
    "duration": 251,
    "start_time": "2022-10-15T07:22:02.342Z"
   },
   {
    "duration": 1140,
    "start_time": "2022-10-15T07:22:02.594Z"
   },
   {
    "duration": 212,
    "start_time": "2022-10-15T07:22:03.735Z"
   },
   {
    "duration": 199,
    "start_time": "2022-10-15T07:22:03.949Z"
   },
   {
    "duration": 147,
    "start_time": "2022-10-15T07:22:04.149Z"
   },
   {
    "duration": 121,
    "start_time": "2022-10-15T07:22:04.297Z"
   },
   {
    "duration": 216,
    "start_time": "2022-10-15T07:22:04.420Z"
   },
   {
    "duration": 258,
    "start_time": "2022-10-15T07:22:04.638Z"
   },
   {
    "duration": 290,
    "start_time": "2022-10-15T07:22:04.897Z"
   },
   {
    "duration": 218,
    "start_time": "2022-10-15T07:22:05.189Z"
   },
   {
    "duration": 248,
    "start_time": "2022-10-15T07:22:05.409Z"
   },
   {
    "duration": 234,
    "start_time": "2022-10-15T07:22:05.658Z"
   },
   {
    "duration": 171,
    "start_time": "2022-10-15T07:22:05.893Z"
   },
   {
    "duration": 168,
    "start_time": "2022-10-15T07:22:06.067Z"
   },
   {
    "duration": 183,
    "start_time": "2022-10-15T07:22:06.237Z"
   },
   {
    "duration": 340,
    "start_time": "2022-10-15T07:22:06.422Z"
   },
   {
    "duration": 157,
    "start_time": "2022-10-15T07:22:06.764Z"
   },
   {
    "duration": 193,
    "start_time": "2022-10-15T07:22:06.923Z"
   },
   {
    "duration": 240,
    "start_time": "2022-10-15T07:22:07.118Z"
   },
   {
    "duration": 183,
    "start_time": "2022-10-15T07:22:07.360Z"
   },
   {
    "duration": 23,
    "start_time": "2022-10-15T07:22:07.545Z"
   },
   {
    "duration": 167,
    "start_time": "2022-10-15T07:22:07.569Z"
   },
   {
    "duration": 491,
    "start_time": "2022-10-15T07:23:23.487Z"
   },
   {
    "duration": 38,
    "start_time": "2022-10-15T07:23:23.980Z"
   },
   {
    "duration": 14,
    "start_time": "2022-10-15T07:23:24.020Z"
   },
   {
    "duration": 2112,
    "start_time": "2022-10-15T07:23:24.036Z"
   },
   {
    "duration": 12,
    "start_time": "2022-10-15T07:23:26.150Z"
   },
   {
    "duration": 56,
    "start_time": "2022-10-15T07:23:26.164Z"
   },
   {
    "duration": 32,
    "start_time": "2022-10-15T07:23:26.222Z"
   },
   {
    "duration": 47,
    "start_time": "2022-10-15T07:23:26.255Z"
   },
   {
    "duration": 1736,
    "start_time": "2022-10-15T07:23:26.304Z"
   },
   {
    "duration": 5,
    "start_time": "2022-10-15T07:23:28.043Z"
   },
   {
    "duration": 39,
    "start_time": "2022-10-15T07:23:28.049Z"
   },
   {
    "duration": 24,
    "start_time": "2022-10-15T07:23:28.090Z"
   },
   {
    "duration": 1262,
    "start_time": "2022-10-15T07:23:28.115Z"
   },
   {
    "duration": 1247,
    "start_time": "2022-10-15T07:23:29.378Z"
   },
   {
    "duration": 6,
    "start_time": "2022-10-15T07:23:30.627Z"
   },
   {
    "duration": 16,
    "start_time": "2022-10-15T07:23:30.635Z"
   },
   {
    "duration": 1226,
    "start_time": "2022-10-15T07:23:30.653Z"
   },
   {
    "duration": 1248,
    "start_time": "2022-10-15T07:23:31.880Z"
   },
   {
    "duration": 6,
    "start_time": "2022-10-15T07:23:33.129Z"
   },
   {
    "duration": 13,
    "start_time": "2022-10-15T07:23:33.137Z"
   },
   {
    "duration": 21,
    "start_time": "2022-10-15T07:23:33.151Z"
   },
   {
    "duration": 36,
    "start_time": "2022-10-15T07:23:33.173Z"
   },
   {
    "duration": 6,
    "start_time": "2022-10-15T07:23:33.211Z"
   },
   {
    "duration": 4,
    "start_time": "2022-10-15T07:23:33.218Z"
   },
   {
    "duration": 10,
    "start_time": "2022-10-15T07:23:33.224Z"
   },
   {
    "duration": 12,
    "start_time": "2022-10-15T07:23:33.236Z"
   },
   {
    "duration": 8,
    "start_time": "2022-10-15T07:23:33.249Z"
   },
   {
    "duration": 8,
    "start_time": "2022-10-15T07:23:33.261Z"
   },
   {
    "duration": 160,
    "start_time": "2022-10-15T07:23:33.270Z"
   },
   {
    "duration": 6,
    "start_time": "2022-10-15T07:23:33.432Z"
   },
   {
    "duration": 213,
    "start_time": "2022-10-15T07:23:33.439Z"
   },
   {
    "duration": 210,
    "start_time": "2022-10-15T07:23:33.654Z"
   },
   {
    "duration": 264,
    "start_time": "2022-10-15T07:23:33.866Z"
   },
   {
    "duration": 1163,
    "start_time": "2022-10-15T07:23:34.132Z"
   },
   {
    "duration": 204,
    "start_time": "2022-10-15T07:23:35.297Z"
   },
   {
    "duration": 208,
    "start_time": "2022-10-15T07:23:35.502Z"
   },
   {
    "duration": 151,
    "start_time": "2022-10-15T07:23:35.712Z"
   },
   {
    "duration": 117,
    "start_time": "2022-10-15T07:23:35.864Z"
   },
   {
    "duration": 175,
    "start_time": "2022-10-15T07:23:35.983Z"
   },
   {
    "duration": 234,
    "start_time": "2022-10-15T07:23:36.160Z"
   },
   {
    "duration": 314,
    "start_time": "2022-10-15T07:23:36.396Z"
   },
   {
    "duration": 216,
    "start_time": "2022-10-15T07:23:36.712Z"
   },
   {
    "duration": 249,
    "start_time": "2022-10-15T07:23:36.930Z"
   },
   {
    "duration": 229,
    "start_time": "2022-10-15T07:23:37.181Z"
   },
   {
    "duration": 174,
    "start_time": "2022-10-15T07:23:37.412Z"
   },
   {
    "duration": 162,
    "start_time": "2022-10-15T07:23:37.588Z"
   },
   {
    "duration": 166,
    "start_time": "2022-10-15T07:23:37.751Z"
   },
   {
    "duration": 339,
    "start_time": "2022-10-15T07:23:37.919Z"
   },
   {
    "duration": 171,
    "start_time": "2022-10-15T07:23:38.260Z"
   },
   {
    "duration": 200,
    "start_time": "2022-10-15T07:23:38.433Z"
   },
   {
    "duration": 260,
    "start_time": "2022-10-15T07:23:38.635Z"
   },
   {
    "duration": 180,
    "start_time": "2022-10-15T07:23:38.896Z"
   },
   {
    "duration": 20,
    "start_time": "2022-10-15T07:23:39.078Z"
   },
   {
    "duration": 156,
    "start_time": "2022-10-15T07:23:39.109Z"
   },
   {
    "duration": 7,
    "start_time": "2022-10-15T07:45:10.082Z"
   },
   {
    "duration": 17,
    "start_time": "2022-10-15T07:45:40.293Z"
   },
   {
    "duration": 76,
    "start_time": "2022-10-15T07:45:43.572Z"
   },
   {
    "duration": 7,
    "start_time": "2022-10-15T07:46:09.359Z"
   },
   {
    "duration": 807,
    "start_time": "2022-10-17T09:05:38.394Z"
   },
   {
    "duration": 332,
    "start_time": "2022-10-17T09:05:39.203Z"
   },
   {
    "duration": 41,
    "start_time": "2022-10-17T09:05:39.536Z"
   },
   {
    "duration": 15,
    "start_time": "2022-10-17T09:05:39.578Z"
   },
   {
    "duration": 1904,
    "start_time": "2022-10-17T09:05:39.596Z"
   },
   {
    "duration": 11,
    "start_time": "2022-10-17T09:05:41.502Z"
   },
   {
    "duration": 8,
    "start_time": "2022-10-17T09:05:41.515Z"
   },
   {
    "duration": 7,
    "start_time": "2022-10-17T09:05:41.525Z"
   },
   {
    "duration": 39,
    "start_time": "2022-10-17T09:05:41.533Z"
   },
   {
    "duration": 2059,
    "start_time": "2022-10-17T09:05:41.598Z"
   },
   {
    "duration": 4,
    "start_time": "2022-10-17T09:05:43.659Z"
   },
   {
    "duration": 11,
    "start_time": "2022-10-17T09:05:43.664Z"
   },
   {
    "duration": 21,
    "start_time": "2022-10-17T09:05:43.676Z"
   },
   {
    "duration": 1449,
    "start_time": "2022-10-17T09:05:43.698Z"
   },
   {
    "duration": 1448,
    "start_time": "2022-10-17T09:05:45.149Z"
   },
   {
    "duration": 8,
    "start_time": "2022-10-17T09:05:46.599Z"
   },
   {
    "duration": 9,
    "start_time": "2022-10-17T09:05:46.608Z"
   },
   {
    "duration": 1462,
    "start_time": "2022-10-17T09:05:46.618Z"
   },
   {
    "duration": 1473,
    "start_time": "2022-10-17T09:05:48.082Z"
   },
   {
    "duration": 6,
    "start_time": "2022-10-17T09:05:49.557Z"
   },
   {
    "duration": 27,
    "start_time": "2022-10-17T09:05:49.564Z"
   },
   {
    "duration": 23,
    "start_time": "2022-10-17T09:05:49.592Z"
   },
   {
    "duration": 12,
    "start_time": "2022-10-17T09:05:49.617Z"
   },
   {
    "duration": 15,
    "start_time": "2022-10-17T09:05:49.631Z"
   },
   {
    "duration": 11,
    "start_time": "2022-10-17T09:05:49.648Z"
   },
   {
    "duration": 24,
    "start_time": "2022-10-17T09:05:49.661Z"
   },
   {
    "duration": 11,
    "start_time": "2022-10-17T09:05:49.687Z"
   },
   {
    "duration": 8,
    "start_time": "2022-10-17T09:05:49.701Z"
   },
   {
    "duration": 10,
    "start_time": "2022-10-17T09:05:49.711Z"
   },
   {
    "duration": 105,
    "start_time": "2022-10-17T09:05:49.723Z"
   },
   {
    "duration": 7,
    "start_time": "2022-10-17T09:05:49.830Z"
   },
   {
    "duration": 252,
    "start_time": "2022-10-17T09:05:49.839Z"
   },
   {
    "duration": 238,
    "start_time": "2022-10-17T09:05:50.093Z"
   },
   {
    "duration": 322,
    "start_time": "2022-10-17T09:05:50.333Z"
   },
   {
    "duration": 1295,
    "start_time": "2022-10-17T09:05:50.657Z"
   },
   {
    "duration": 240,
    "start_time": "2022-10-17T09:05:51.954Z"
   },
   {
    "duration": 229,
    "start_time": "2022-10-17T09:05:52.196Z"
   },
   {
    "duration": 160,
    "start_time": "2022-10-17T09:05:52.427Z"
   },
   {
    "duration": 130,
    "start_time": "2022-10-17T09:05:52.589Z"
   },
   {
    "duration": 194,
    "start_time": "2022-10-17T09:05:52.721Z"
   },
   {
    "duration": 252,
    "start_time": "2022-10-17T09:05:52.917Z"
   },
   {
    "duration": 382,
    "start_time": "2022-10-17T09:05:53.171Z"
   },
   {
    "duration": 237,
    "start_time": "2022-10-17T09:05:53.555Z"
   },
   {
    "duration": 282,
    "start_time": "2022-10-17T09:05:53.793Z"
   },
   {
    "duration": 253,
    "start_time": "2022-10-17T09:05:54.077Z"
   },
   {
    "duration": 207,
    "start_time": "2022-10-17T09:05:54.332Z"
   },
   {
    "duration": 185,
    "start_time": "2022-10-17T09:05:54.541Z"
   },
   {
    "duration": 182,
    "start_time": "2022-10-17T09:05:54.727Z"
   },
   {
    "duration": 409,
    "start_time": "2022-10-17T09:05:54.911Z"
   },
   {
    "duration": 180,
    "start_time": "2022-10-17T09:05:55.322Z"
   },
   {
    "duration": 217,
    "start_time": "2022-10-17T09:05:55.504Z"
   },
   {
    "duration": 275,
    "start_time": "2022-10-17T09:05:55.722Z"
   },
   {
    "duration": 201,
    "start_time": "2022-10-17T09:05:55.999Z"
   },
   {
    "duration": 22,
    "start_time": "2022-10-17T09:05:56.202Z"
   },
   {
    "duration": 176,
    "start_time": "2022-10-17T09:05:56.225Z"
   },
   {
    "duration": 3,
    "start_time": "2022-10-17T09:06:07.775Z"
   },
   {
    "duration": 35,
    "start_time": "2022-10-17T09:06:22.171Z"
   },
   {
    "duration": 93,
    "start_time": "2022-10-17T09:07:12.362Z"
   },
   {
    "duration": 3,
    "start_time": "2022-10-17T09:09:15.893Z"
   },
   {
    "duration": 666,
    "start_time": "2022-10-17T09:09:21.167Z"
   },
   {
    "duration": 102,
    "start_time": "2022-10-17T09:09:21.835Z"
   },
   {
    "duration": 45,
    "start_time": "2022-10-17T09:09:21.939Z"
   },
   {
    "duration": 26,
    "start_time": "2022-10-17T09:09:21.986Z"
   },
   {
    "duration": 2012,
    "start_time": "2022-10-17T09:09:22.013Z"
   },
   {
    "duration": 11,
    "start_time": "2022-10-17T09:09:24.027Z"
   },
   {
    "duration": 10,
    "start_time": "2022-10-17T09:09:24.040Z"
   },
   {
    "duration": 7,
    "start_time": "2022-10-17T09:09:24.052Z"
   },
   {
    "duration": 34,
    "start_time": "2022-10-17T09:09:24.061Z"
   },
   {
    "duration": 2156,
    "start_time": "2022-10-17T09:09:24.097Z"
   },
   {
    "duration": 4,
    "start_time": "2022-10-17T09:09:26.254Z"
   },
   {
    "duration": 10,
    "start_time": "2022-10-17T09:09:26.260Z"
   },
   {
    "duration": 12,
    "start_time": "2022-10-17T09:09:26.271Z"
   },
   {
    "duration": 1525,
    "start_time": "2022-10-17T09:09:26.297Z"
   },
   {
    "duration": 1507,
    "start_time": "2022-10-17T09:09:27.824Z"
   },
   {
    "duration": 6,
    "start_time": "2022-10-17T09:09:29.332Z"
   },
   {
    "duration": 9,
    "start_time": "2022-10-17T09:09:29.340Z"
   },
   {
    "duration": 1498,
    "start_time": "2022-10-17T09:09:29.351Z"
   },
   {
    "duration": 1568,
    "start_time": "2022-10-17T09:09:30.851Z"
   },
   {
    "duration": 6,
    "start_time": "2022-10-17T09:09:32.420Z"
   },
   {
    "duration": 9,
    "start_time": "2022-10-17T09:09:32.428Z"
   },
   {
    "duration": 22,
    "start_time": "2022-10-17T09:09:32.438Z"
   },
   {
    "duration": 37,
    "start_time": "2022-10-17T09:09:32.461Z"
   },
   {
    "duration": 8,
    "start_time": "2022-10-17T09:09:32.499Z"
   },
   {
    "duration": 5,
    "start_time": "2022-10-17T09:09:32.508Z"
   },
   {
    "duration": 16,
    "start_time": "2022-10-17T09:09:32.514Z"
   },
   {
    "duration": 11,
    "start_time": "2022-10-17T09:09:32.531Z"
   },
   {
    "duration": 14,
    "start_time": "2022-10-17T09:09:32.545Z"
   },
   {
    "duration": 7,
    "start_time": "2022-10-17T09:09:32.561Z"
   },
   {
    "duration": 112,
    "start_time": "2022-10-17T09:09:32.570Z"
   },
   {
    "duration": 17,
    "start_time": "2022-10-17T09:09:32.684Z"
   },
   {
    "duration": 234,
    "start_time": "2022-10-17T09:09:32.703Z"
   },
   {
    "duration": 229,
    "start_time": "2022-10-17T09:09:32.939Z"
   },
   {
    "duration": 304,
    "start_time": "2022-10-17T09:09:33.170Z"
   },
   {
    "duration": 1299,
    "start_time": "2022-10-17T09:09:33.476Z"
   },
   {
    "duration": 226,
    "start_time": "2022-10-17T09:09:34.777Z"
   },
   {
    "duration": 232,
    "start_time": "2022-10-17T09:09:35.005Z"
   },
   {
    "duration": 149,
    "start_time": "2022-10-17T09:09:35.238Z"
   },
   {
    "duration": 122,
    "start_time": "2022-10-17T09:09:35.388Z"
   },
   {
    "duration": 189,
    "start_time": "2022-10-17T09:09:35.511Z"
   },
   {
    "duration": 227,
    "start_time": "2022-10-17T09:09:35.702Z"
   },
   {
    "duration": 352,
    "start_time": "2022-10-17T09:09:35.930Z"
   },
   {
    "duration": 217,
    "start_time": "2022-10-17T09:09:36.283Z"
   },
   {
    "duration": 274,
    "start_time": "2022-10-17T09:09:36.502Z"
   },
   {
    "duration": 247,
    "start_time": "2022-10-17T09:09:36.778Z"
   },
   {
    "duration": 188,
    "start_time": "2022-10-17T09:09:37.027Z"
   },
   {
    "duration": 165,
    "start_time": "2022-10-17T09:09:37.216Z"
   },
   {
    "duration": 176,
    "start_time": "2022-10-17T09:09:37.382Z"
   },
   {
    "duration": 392,
    "start_time": "2022-10-17T09:09:37.560Z"
   },
   {
    "duration": 212,
    "start_time": "2022-10-17T09:09:37.954Z"
   },
   {
    "duration": 214,
    "start_time": "2022-10-17T09:09:38.168Z"
   },
   {
    "duration": 259,
    "start_time": "2022-10-17T09:09:38.384Z"
   },
   {
    "duration": 205,
    "start_time": "2022-10-17T09:09:38.645Z"
   },
   {
    "duration": 23,
    "start_time": "2022-10-17T09:09:38.851Z"
   },
   {
    "duration": 180,
    "start_time": "2022-10-17T09:09:38.876Z"
   },
   {
    "duration": 2461,
    "start_time": "2022-10-17T09:09:39.060Z"
   },
   {
    "duration": 673,
    "start_time": "2022-10-17T09:09:55.735Z"
   },
   {
    "duration": 95,
    "start_time": "2022-10-17T09:09:56.409Z"
   },
   {
    "duration": 37,
    "start_time": "2022-10-17T09:09:56.506Z"
   },
   {
    "duration": 16,
    "start_time": "2022-10-17T09:09:56.545Z"
   },
   {
    "duration": 2034,
    "start_time": "2022-10-17T09:09:56.562Z"
   },
   {
    "duration": 10,
    "start_time": "2022-10-17T09:09:58.598Z"
   },
   {
    "duration": 12,
    "start_time": "2022-10-17T09:09:58.609Z"
   },
   {
    "duration": 9,
    "start_time": "2022-10-17T09:09:58.623Z"
   },
   {
    "duration": 37,
    "start_time": "2022-10-17T09:09:58.633Z"
   },
   {
    "duration": 2134,
    "start_time": "2022-10-17T09:09:58.698Z"
   },
   {
    "duration": 4,
    "start_time": "2022-10-17T09:10:00.833Z"
   },
   {
    "duration": 15,
    "start_time": "2022-10-17T09:10:00.839Z"
   },
   {
    "duration": 16,
    "start_time": "2022-10-17T09:10:00.855Z"
   },
   {
    "duration": 1494,
    "start_time": "2022-10-17T09:10:00.873Z"
   },
   {
    "duration": 1540,
    "start_time": "2022-10-17T09:10:02.368Z"
   },
   {
    "duration": 6,
    "start_time": "2022-10-17T09:10:03.910Z"
   },
   {
    "duration": 26,
    "start_time": "2022-10-17T09:10:03.918Z"
   },
   {
    "duration": 1594,
    "start_time": "2022-10-17T09:10:03.945Z"
   },
   {
    "duration": 1575,
    "start_time": "2022-10-17T09:10:05.540Z"
   },
   {
    "duration": 9,
    "start_time": "2022-10-17T09:10:07.117Z"
   },
   {
    "duration": 20,
    "start_time": "2022-10-17T09:10:07.127Z"
   },
   {
    "duration": 34,
    "start_time": "2022-10-17T09:10:07.149Z"
   },
   {
    "duration": 21,
    "start_time": "2022-10-17T09:10:07.185Z"
   },
   {
    "duration": 20,
    "start_time": "2022-10-17T09:10:07.207Z"
   },
   {
    "duration": 25,
    "start_time": "2022-10-17T09:10:07.229Z"
   },
   {
    "duration": 30,
    "start_time": "2022-10-17T09:10:07.256Z"
   },
   {
    "duration": 27,
    "start_time": "2022-10-17T09:10:07.288Z"
   },
   {
    "duration": 29,
    "start_time": "2022-10-17T09:10:07.319Z"
   },
   {
    "duration": 10,
    "start_time": "2022-10-17T09:10:07.350Z"
   },
   {
    "duration": 124,
    "start_time": "2022-10-17T09:10:07.361Z"
   },
   {
    "duration": 11,
    "start_time": "2022-10-17T09:10:07.486Z"
   },
   {
    "duration": 248,
    "start_time": "2022-10-17T09:10:07.499Z"
   },
   {
    "duration": 235,
    "start_time": "2022-10-17T09:10:07.749Z"
   },
   {
    "duration": 360,
    "start_time": "2022-10-17T09:10:07.986Z"
   },
   {
    "duration": 1312,
    "start_time": "2022-10-17T09:10:08.348Z"
   },
   {
    "duration": 250,
    "start_time": "2022-10-17T09:10:09.662Z"
   },
   {
    "duration": 237,
    "start_time": "2022-10-17T09:10:09.914Z"
   },
   {
    "duration": 158,
    "start_time": "2022-10-17T09:10:10.153Z"
   },
   {
    "duration": 119,
    "start_time": "2022-10-17T09:10:10.312Z"
   },
   {
    "duration": 180,
    "start_time": "2022-10-17T09:10:10.433Z"
   },
   {
    "duration": 236,
    "start_time": "2022-10-17T09:10:10.615Z"
   },
   {
    "duration": 372,
    "start_time": "2022-10-17T09:10:10.853Z"
   },
   {
    "duration": 222,
    "start_time": "2022-10-17T09:10:11.227Z"
   },
   {
    "duration": 284,
    "start_time": "2022-10-17T09:10:11.451Z"
   },
   {
    "duration": 235,
    "start_time": "2022-10-17T09:10:11.736Z"
   },
   {
    "duration": 184,
    "start_time": "2022-10-17T09:10:11.973Z"
   },
   {
    "duration": 169,
    "start_time": "2022-10-17T09:10:12.158Z"
   },
   {
    "duration": 178,
    "start_time": "2022-10-17T09:10:12.329Z"
   },
   {
    "duration": 397,
    "start_time": "2022-10-17T09:10:12.508Z"
   },
   {
    "duration": 181,
    "start_time": "2022-10-17T09:10:12.906Z"
   },
   {
    "duration": 218,
    "start_time": "2022-10-17T09:10:13.089Z"
   },
   {
    "duration": 282,
    "start_time": "2022-10-17T09:10:13.309Z"
   },
   {
    "duration": 199,
    "start_time": "2022-10-17T09:10:13.592Z"
   },
   {
    "duration": 22,
    "start_time": "2022-10-17T09:10:13.796Z"
   },
   {
    "duration": 177,
    "start_time": "2022-10-17T09:10:13.820Z"
   },
   {
    "duration": 620,
    "start_time": "2022-10-17T09:32:48.427Z"
   },
   {
    "duration": 102,
    "start_time": "2022-10-17T09:32:49.049Z"
   },
   {
    "duration": 39,
    "start_time": "2022-10-17T09:32:49.152Z"
   },
   {
    "duration": 28,
    "start_time": "2022-10-17T09:32:49.193Z"
   },
   {
    "duration": 1966,
    "start_time": "2022-10-17T09:32:49.222Z"
   },
   {
    "duration": 10,
    "start_time": "2022-10-17T09:32:51.191Z"
   },
   {
    "duration": 24,
    "start_time": "2022-10-17T09:32:51.203Z"
   },
   {
    "duration": 16,
    "start_time": "2022-10-17T09:32:51.229Z"
   },
   {
    "duration": 49,
    "start_time": "2022-10-17T09:32:51.246Z"
   },
   {
    "duration": 2206,
    "start_time": "2022-10-17T09:32:51.298Z"
   },
   {
    "duration": 5,
    "start_time": "2022-10-17T09:32:53.506Z"
   },
   {
    "duration": 32,
    "start_time": "2022-10-17T09:32:53.512Z"
   },
   {
    "duration": 23,
    "start_time": "2022-10-17T09:32:53.545Z"
   },
   {
    "duration": 19,
    "start_time": "2022-10-17T09:32:53.570Z"
   },
   {
    "duration": 84,
    "start_time": "2022-10-17T09:32:53.591Z"
   },
   {
    "duration": 0,
    "start_time": "2022-10-17T09:32:53.677Z"
   },
   {
    "duration": 0,
    "start_time": "2022-10-17T09:32:53.678Z"
   },
   {
    "duration": 0,
    "start_time": "2022-10-17T09:32:53.679Z"
   },
   {
    "duration": 0,
    "start_time": "2022-10-17T09:32:53.681Z"
   },
   {
    "duration": 0,
    "start_time": "2022-10-17T09:32:53.682Z"
   },
   {
    "duration": 0,
    "start_time": "2022-10-17T09:32:53.682Z"
   },
   {
    "duration": 0,
    "start_time": "2022-10-17T09:32:53.683Z"
   },
   {
    "duration": 0,
    "start_time": "2022-10-17T09:32:53.684Z"
   },
   {
    "duration": 0,
    "start_time": "2022-10-17T09:32:53.685Z"
   },
   {
    "duration": 0,
    "start_time": "2022-10-17T09:32:53.696Z"
   },
   {
    "duration": 0,
    "start_time": "2022-10-17T09:32:53.697Z"
   },
   {
    "duration": 0,
    "start_time": "2022-10-17T09:32:53.698Z"
   },
   {
    "duration": 0,
    "start_time": "2022-10-17T09:32:53.699Z"
   },
   {
    "duration": 0,
    "start_time": "2022-10-17T09:32:53.700Z"
   },
   {
    "duration": 0,
    "start_time": "2022-10-17T09:32:53.701Z"
   },
   {
    "duration": 0,
    "start_time": "2022-10-17T09:32:53.702Z"
   },
   {
    "duration": 0,
    "start_time": "2022-10-17T09:32:53.703Z"
   },
   {
    "duration": 0,
    "start_time": "2022-10-17T09:32:53.704Z"
   },
   {
    "duration": 0,
    "start_time": "2022-10-17T09:32:53.705Z"
   },
   {
    "duration": 0,
    "start_time": "2022-10-17T09:32:53.706Z"
   },
   {
    "duration": 0,
    "start_time": "2022-10-17T09:32:53.708Z"
   },
   {
    "duration": 0,
    "start_time": "2022-10-17T09:32:53.709Z"
   },
   {
    "duration": 0,
    "start_time": "2022-10-17T09:32:53.710Z"
   },
   {
    "duration": 0,
    "start_time": "2022-10-17T09:32:53.711Z"
   },
   {
    "duration": 0,
    "start_time": "2022-10-17T09:32:53.712Z"
   },
   {
    "duration": 0,
    "start_time": "2022-10-17T09:32:53.713Z"
   },
   {
    "duration": 0,
    "start_time": "2022-10-17T09:32:53.714Z"
   },
   {
    "duration": 0,
    "start_time": "2022-10-17T09:32:53.716Z"
   },
   {
    "duration": 0,
    "start_time": "2022-10-17T09:32:53.717Z"
   },
   {
    "duration": 0,
    "start_time": "2022-10-17T09:32:53.719Z"
   },
   {
    "duration": 0,
    "start_time": "2022-10-17T09:32:53.722Z"
   },
   {
    "duration": 0,
    "start_time": "2022-10-17T09:32:53.723Z"
   },
   {
    "duration": 0,
    "start_time": "2022-10-17T09:32:53.724Z"
   },
   {
    "duration": 15,
    "start_time": "2022-10-17T09:33:22.788Z"
   },
   {
    "duration": 19,
    "start_time": "2022-10-17T09:33:31.108Z"
   },
   {
    "duration": 888,
    "start_time": "2022-10-17T09:35:12.770Z"
   },
   {
    "duration": 96,
    "start_time": "2022-10-17T09:35:13.660Z"
   },
   {
    "duration": 46,
    "start_time": "2022-10-17T09:35:13.757Z"
   },
   {
    "duration": 16,
    "start_time": "2022-10-17T09:35:13.805Z"
   },
   {
    "duration": 2001,
    "start_time": "2022-10-17T09:35:13.823Z"
   },
   {
    "duration": 10,
    "start_time": "2022-10-17T09:35:15.826Z"
   },
   {
    "duration": 7,
    "start_time": "2022-10-17T09:35:15.838Z"
   },
   {
    "duration": 8,
    "start_time": "2022-10-17T09:35:15.847Z"
   },
   {
    "duration": 33,
    "start_time": "2022-10-17T09:35:15.857Z"
   },
   {
    "duration": 2167,
    "start_time": "2022-10-17T09:35:15.896Z"
   },
   {
    "duration": 4,
    "start_time": "2022-10-17T09:35:18.065Z"
   },
   {
    "duration": 9,
    "start_time": "2022-10-17T09:35:18.071Z"
   },
   {
    "duration": 23,
    "start_time": "2022-10-17T09:35:18.082Z"
   },
   {
    "duration": 11,
    "start_time": "2022-10-17T09:35:18.107Z"
   },
   {
    "duration": 31,
    "start_time": "2022-10-17T09:35:18.120Z"
   },
   {
    "duration": 43,
    "start_time": "2022-10-17T09:35:18.154Z"
   },
   {
    "duration": 12,
    "start_time": "2022-10-17T09:35:18.199Z"
   },
   {
    "duration": 6,
    "start_time": "2022-10-17T09:35:18.213Z"
   },
   {
    "duration": 19,
    "start_time": "2022-10-17T09:35:18.221Z"
   },
   {
    "duration": 34,
    "start_time": "2022-10-17T09:35:18.243Z"
   },
   {
    "duration": 10,
    "start_time": "2022-10-17T09:35:18.279Z"
   },
   {
    "duration": 13,
    "start_time": "2022-10-17T09:35:18.290Z"
   },
   {
    "duration": 130,
    "start_time": "2022-10-17T09:35:18.305Z"
   },
   {
    "duration": 8,
    "start_time": "2022-10-17T09:35:18.437Z"
   },
   {
    "duration": 269,
    "start_time": "2022-10-17T09:35:18.447Z"
   },
   {
    "duration": 253,
    "start_time": "2022-10-17T09:35:18.718Z"
   },
   {
    "duration": 337,
    "start_time": "2022-10-17T09:35:18.972Z"
   },
   {
    "duration": 1296,
    "start_time": "2022-10-17T09:35:19.312Z"
   },
   {
    "duration": 248,
    "start_time": "2022-10-17T09:35:20.610Z"
   },
   {
    "duration": 245,
    "start_time": "2022-10-17T09:35:20.860Z"
   },
   {
    "duration": 155,
    "start_time": "2022-10-17T09:35:21.107Z"
   },
   {
    "duration": 129,
    "start_time": "2022-10-17T09:35:21.264Z"
   },
   {
    "duration": 185,
    "start_time": "2022-10-17T09:35:21.396Z"
   },
   {
    "duration": 251,
    "start_time": "2022-10-17T09:35:21.583Z"
   },
   {
    "duration": 394,
    "start_time": "2022-10-17T09:35:21.835Z"
   },
   {
    "duration": 235,
    "start_time": "2022-10-17T09:35:22.230Z"
   },
   {
    "duration": 311,
    "start_time": "2022-10-17T09:35:22.467Z"
   },
   {
    "duration": 249,
    "start_time": "2022-10-17T09:35:22.781Z"
   },
   {
    "duration": 184,
    "start_time": "2022-10-17T09:35:23.032Z"
   },
   {
    "duration": 166,
    "start_time": "2022-10-17T09:35:23.218Z"
   },
   {
    "duration": 177,
    "start_time": "2022-10-17T09:35:23.386Z"
   },
   {
    "duration": 410,
    "start_time": "2022-10-17T09:35:23.565Z"
   },
   {
    "duration": 180,
    "start_time": "2022-10-17T09:35:23.977Z"
   },
   {
    "duration": 205,
    "start_time": "2022-10-17T09:35:24.158Z"
   },
   {
    "duration": 300,
    "start_time": "2022-10-17T09:35:24.364Z"
   },
   {
    "duration": 210,
    "start_time": "2022-10-17T09:35:24.665Z"
   },
   {
    "duration": 28,
    "start_time": "2022-10-17T09:35:24.877Z"
   },
   {
    "duration": 180,
    "start_time": "2022-10-17T09:35:24.907Z"
   },
   {
    "duration": 8,
    "start_time": "2022-10-17T09:37:49.626Z"
   },
   {
    "duration": 659,
    "start_time": "2022-10-17T09:43:54.147Z"
   },
   {
    "duration": 97,
    "start_time": "2022-10-17T09:43:54.808Z"
   },
   {
    "duration": 37,
    "start_time": "2022-10-17T09:43:54.907Z"
   },
   {
    "duration": 15,
    "start_time": "2022-10-17T09:43:54.946Z"
   },
   {
    "duration": 1977,
    "start_time": "2022-10-17T09:43:54.963Z"
   },
   {
    "duration": 9,
    "start_time": "2022-10-17T09:43:56.942Z"
   },
   {
    "duration": 7,
    "start_time": "2022-10-17T09:43:56.952Z"
   },
   {
    "duration": 8,
    "start_time": "2022-10-17T09:43:56.961Z"
   },
   {
    "duration": 32,
    "start_time": "2022-10-17T09:43:56.971Z"
   },
   {
    "duration": 2188,
    "start_time": "2022-10-17T09:43:57.006Z"
   },
   {
    "duration": 5,
    "start_time": "2022-10-17T09:43:59.196Z"
   },
   {
    "duration": 8,
    "start_time": "2022-10-17T09:43:59.202Z"
   },
   {
    "duration": 9,
    "start_time": "2022-10-17T09:43:59.211Z"
   },
   {
    "duration": 9,
    "start_time": "2022-10-17T09:43:59.222Z"
   },
   {
    "duration": 21,
    "start_time": "2022-10-17T09:43:59.232Z"
   },
   {
    "duration": 42,
    "start_time": "2022-10-17T09:43:59.255Z"
   },
   {
    "duration": 8,
    "start_time": "2022-10-17T09:43:59.298Z"
   },
   {
    "duration": 103,
    "start_time": "2022-10-17T09:43:59.307Z"
   },
   {
    "duration": 4,
    "start_time": "2022-10-17T09:43:59.412Z"
   },
   {
    "duration": 35,
    "start_time": "2022-10-17T09:43:59.418Z"
   },
   {
    "duration": 15,
    "start_time": "2022-10-17T09:43:59.455Z"
   },
   {
    "duration": 19,
    "start_time": "2022-10-17T09:43:59.472Z"
   },
   {
    "duration": 21,
    "start_time": "2022-10-17T09:43:59.492Z"
   },
   {
    "duration": 129,
    "start_time": "2022-10-17T09:43:59.515Z"
   },
   {
    "duration": 8,
    "start_time": "2022-10-17T09:43:59.646Z"
   },
   {
    "duration": 265,
    "start_time": "2022-10-17T09:43:59.655Z"
   },
   {
    "duration": 236,
    "start_time": "2022-10-17T09:43:59.922Z"
   },
   {
    "duration": 338,
    "start_time": "2022-10-17T09:44:00.161Z"
   },
   {
    "duration": 1363,
    "start_time": "2022-10-17T09:44:00.500Z"
   },
   {
    "duration": 247,
    "start_time": "2022-10-17T09:44:01.865Z"
   },
   {
    "duration": 230,
    "start_time": "2022-10-17T09:44:02.113Z"
   },
   {
    "duration": 160,
    "start_time": "2022-10-17T09:44:02.344Z"
   },
   {
    "duration": 121,
    "start_time": "2022-10-17T09:44:02.506Z"
   },
   {
    "duration": 201,
    "start_time": "2022-10-17T09:44:02.629Z"
   },
   {
    "duration": 228,
    "start_time": "2022-10-17T09:44:02.832Z"
   },
   {
    "duration": 365,
    "start_time": "2022-10-17T09:44:03.062Z"
   },
   {
    "duration": 238,
    "start_time": "2022-10-17T09:44:03.429Z"
   },
   {
    "duration": 294,
    "start_time": "2022-10-17T09:44:03.668Z"
   },
   {
    "duration": 238,
    "start_time": "2022-10-17T09:44:03.963Z"
   },
   {
    "duration": 178,
    "start_time": "2022-10-17T09:44:04.203Z"
   },
   {
    "duration": 192,
    "start_time": "2022-10-17T09:44:04.382Z"
   },
   {
    "duration": 169,
    "start_time": "2022-10-17T09:44:04.576Z"
   },
   {
    "duration": 284,
    "start_time": "2022-10-17T09:44:04.746Z"
   },
   {
    "duration": 176,
    "start_time": "2022-10-17T09:44:05.032Z"
   },
   {
    "duration": 211,
    "start_time": "2022-10-17T09:44:05.210Z"
   },
   {
    "duration": 273,
    "start_time": "2022-10-17T09:44:05.424Z"
   },
   {
    "duration": 202,
    "start_time": "2022-10-17T09:44:05.699Z"
   },
   {
    "duration": 21,
    "start_time": "2022-10-17T09:44:05.903Z"
   },
   {
    "duration": 176,
    "start_time": "2022-10-17T09:44:05.926Z"
   },
   {
    "duration": 4,
    "start_time": "2022-10-17T09:45:47.263Z"
   },
   {
    "duration": 39,
    "start_time": "2022-10-17T09:45:56.255Z"
   },
   {
    "duration": 676,
    "start_time": "2022-10-17T09:47:58.559Z"
   },
   {
    "duration": 99,
    "start_time": "2022-10-17T09:47:59.237Z"
   },
   {
    "duration": 38,
    "start_time": "2022-10-17T09:47:59.337Z"
   },
   {
    "duration": 28,
    "start_time": "2022-10-17T09:47:59.377Z"
   },
   {
    "duration": 2223,
    "start_time": "2022-10-17T09:47:59.406Z"
   },
   {
    "duration": 11,
    "start_time": "2022-10-17T09:48:01.630Z"
   },
   {
    "duration": 20,
    "start_time": "2022-10-17T09:48:01.645Z"
   },
   {
    "duration": 16,
    "start_time": "2022-10-17T09:48:01.667Z"
   },
   {
    "duration": 38,
    "start_time": "2022-10-17T09:48:01.685Z"
   },
   {
    "duration": 2224,
    "start_time": "2022-10-17T09:48:01.726Z"
   },
   {
    "duration": 6,
    "start_time": "2022-10-17T09:48:03.952Z"
   },
   {
    "duration": 17,
    "start_time": "2022-10-17T09:48:03.960Z"
   },
   {
    "duration": 18,
    "start_time": "2022-10-17T09:48:03.979Z"
   },
   {
    "duration": 10,
    "start_time": "2022-10-17T09:48:03.999Z"
   },
   {
    "duration": 26,
    "start_time": "2022-10-17T09:48:04.011Z"
   },
   {
    "duration": 15,
    "start_time": "2022-10-17T09:48:04.038Z"
   },
   {
    "duration": 13,
    "start_time": "2022-10-17T09:48:04.054Z"
   },
   {
    "duration": 104,
    "start_time": "2022-10-17T09:48:04.096Z"
   },
   {
    "duration": 32,
    "start_time": "2022-10-17T09:48:04.202Z"
   },
   {
    "duration": 17,
    "start_time": "2022-10-17T09:48:04.235Z"
   },
   {
    "duration": 6,
    "start_time": "2022-10-17T09:48:04.253Z"
   },
   {
    "duration": 12,
    "start_time": "2022-10-17T09:48:04.261Z"
   },
   {
    "duration": 12,
    "start_time": "2022-10-17T09:48:04.274Z"
   },
   {
    "duration": 16,
    "start_time": "2022-10-17T09:48:04.288Z"
   },
   {
    "duration": 8,
    "start_time": "2022-10-17T09:48:04.305Z"
   },
   {
    "duration": 133,
    "start_time": "2022-10-17T09:48:04.315Z"
   },
   {
    "duration": 8,
    "start_time": "2022-10-17T09:48:04.450Z"
   },
   {
    "duration": 308,
    "start_time": "2022-10-17T09:48:04.461Z"
   },
   {
    "duration": 243,
    "start_time": "2022-10-17T09:48:04.771Z"
   },
   {
    "duration": 357,
    "start_time": "2022-10-17T09:48:05.016Z"
   },
   {
    "duration": 1407,
    "start_time": "2022-10-17T09:48:05.375Z"
   },
   {
    "duration": 250,
    "start_time": "2022-10-17T09:48:06.784Z"
   },
   {
    "duration": 242,
    "start_time": "2022-10-17T09:48:07.036Z"
   },
   {
    "duration": 156,
    "start_time": "2022-10-17T09:48:07.281Z"
   },
   {
    "duration": 114,
    "start_time": "2022-10-17T09:48:07.439Z"
   },
   {
    "duration": 208,
    "start_time": "2022-10-17T09:48:07.554Z"
   },
   {
    "duration": 246,
    "start_time": "2022-10-17T09:48:07.764Z"
   },
   {
    "duration": 441,
    "start_time": "2022-10-17T09:48:08.013Z"
   },
   {
    "duration": 237,
    "start_time": "2022-10-17T09:48:08.456Z"
   },
   {
    "duration": 287,
    "start_time": "2022-10-17T09:48:08.696Z"
   },
   {
    "duration": 241,
    "start_time": "2022-10-17T09:48:08.985Z"
   },
   {
    "duration": 185,
    "start_time": "2022-10-17T09:48:09.228Z"
   },
   {
    "duration": 165,
    "start_time": "2022-10-17T09:48:09.414Z"
   },
   {
    "duration": 169,
    "start_time": "2022-10-17T09:48:09.581Z"
   },
   {
    "duration": 262,
    "start_time": "2022-10-17T09:48:09.752Z"
   },
   {
    "duration": 165,
    "start_time": "2022-10-17T09:48:10.015Z"
   },
   {
    "duration": 208,
    "start_time": "2022-10-17T09:48:10.181Z"
   },
   {
    "duration": 266,
    "start_time": "2022-10-17T09:48:10.391Z"
   },
   {
    "duration": 208,
    "start_time": "2022-10-17T09:48:10.658Z"
   },
   {
    "duration": 31,
    "start_time": "2022-10-17T09:48:10.867Z"
   },
   {
    "duration": 162,
    "start_time": "2022-10-17T09:48:10.899Z"
   },
   {
    "duration": 95,
    "start_time": "2022-10-17T09:48:21.388Z"
   },
   {
    "duration": 94,
    "start_time": "2022-10-17T09:48:43.563Z"
   },
   {
    "duration": 110,
    "start_time": "2022-10-17T09:49:09.920Z"
   },
   {
    "duration": 631,
    "start_time": "2022-10-17T09:52:25.062Z"
   },
   {
    "duration": 109,
    "start_time": "2022-10-17T09:52:25.696Z"
   },
   {
    "duration": 44,
    "start_time": "2022-10-17T09:52:25.807Z"
   },
   {
    "duration": 16,
    "start_time": "2022-10-17T09:52:25.853Z"
   },
   {
    "duration": 1934,
    "start_time": "2022-10-17T09:52:25.870Z"
   },
   {
    "duration": 9,
    "start_time": "2022-10-17T09:52:27.806Z"
   },
   {
    "duration": 8,
    "start_time": "2022-10-17T09:52:27.817Z"
   },
   {
    "duration": 9,
    "start_time": "2022-10-17T09:52:27.827Z"
   },
   {
    "duration": 39,
    "start_time": "2022-10-17T09:52:27.838Z"
   },
   {
    "duration": 2186,
    "start_time": "2022-10-17T09:52:27.879Z"
   },
   {
    "duration": 5,
    "start_time": "2022-10-17T09:52:30.066Z"
   },
   {
    "duration": 8,
    "start_time": "2022-10-17T09:52:30.073Z"
   },
   {
    "duration": 22,
    "start_time": "2022-10-17T09:52:30.083Z"
   },
   {
    "duration": 28,
    "start_time": "2022-10-17T09:52:30.107Z"
   },
   {
    "duration": 28,
    "start_time": "2022-10-17T09:52:30.137Z"
   },
   {
    "duration": 11,
    "start_time": "2022-10-17T09:52:30.167Z"
   },
   {
    "duration": 15,
    "start_time": "2022-10-17T09:52:30.180Z"
   },
   {
    "duration": 98,
    "start_time": "2022-10-17T09:52:30.197Z"
   },
   {
    "duration": 4,
    "start_time": "2022-10-17T09:52:30.297Z"
   },
   {
    "duration": 28,
    "start_time": "2022-10-17T09:52:30.302Z"
   },
   {
    "duration": 33,
    "start_time": "2022-10-17T09:52:30.332Z"
   },
   {
    "duration": 13,
    "start_time": "2022-10-17T09:52:30.367Z"
   },
   {
    "duration": 18,
    "start_time": "2022-10-17T09:52:30.382Z"
   },
   {
    "duration": 109,
    "start_time": "2022-10-17T09:52:30.401Z"
   },
   {
    "duration": 7,
    "start_time": "2022-10-17T09:52:30.511Z"
   },
   {
    "duration": 293,
    "start_time": "2022-10-17T09:52:30.519Z"
   },
   {
    "duration": 250,
    "start_time": "2022-10-17T09:52:30.814Z"
   },
   {
    "duration": 345,
    "start_time": "2022-10-17T09:52:31.069Z"
   },
   {
    "duration": 1375,
    "start_time": "2022-10-17T09:52:31.416Z"
   },
   {
    "duration": 258,
    "start_time": "2022-10-17T09:52:32.797Z"
   },
   {
    "duration": 229,
    "start_time": "2022-10-17T09:52:33.057Z"
   },
   {
    "duration": 161,
    "start_time": "2022-10-17T09:52:33.289Z"
   },
   {
    "duration": 127,
    "start_time": "2022-10-17T09:52:33.452Z"
   },
   {
    "duration": 189,
    "start_time": "2022-10-17T09:52:33.581Z"
   },
   {
    "duration": 245,
    "start_time": "2022-10-17T09:52:33.771Z"
   },
   {
    "duration": 373,
    "start_time": "2022-10-17T09:52:34.019Z"
   },
   {
    "duration": 266,
    "start_time": "2022-10-17T09:52:34.397Z"
   },
   {
    "duration": 291,
    "start_time": "2022-10-17T09:52:34.665Z"
   },
   {
    "duration": 246,
    "start_time": "2022-10-17T09:52:34.958Z"
   },
   {
    "duration": 179,
    "start_time": "2022-10-17T09:52:35.206Z"
   },
   {
    "duration": 165,
    "start_time": "2022-10-17T09:52:35.387Z"
   },
   {
    "duration": 161,
    "start_time": "2022-10-17T09:52:35.553Z"
   },
   {
    "duration": 255,
    "start_time": "2022-10-17T09:52:35.716Z"
   },
   {
    "duration": 190,
    "start_time": "2022-10-17T09:52:35.973Z"
   },
   {
    "duration": 237,
    "start_time": "2022-10-17T09:52:36.165Z"
   },
   {
    "duration": 260,
    "start_time": "2022-10-17T09:52:36.404Z"
   },
   {
    "duration": 204,
    "start_time": "2022-10-17T09:52:36.666Z"
   },
   {
    "duration": 30,
    "start_time": "2022-10-17T09:52:36.871Z"
   },
   {
    "duration": 169,
    "start_time": "2022-10-17T09:52:36.903Z"
   },
   {
    "duration": 1357,
    "start_time": "2022-10-17T09:53:12.110Z"
   },
   {
    "duration": 1454,
    "start_time": "2022-10-17T09:53:22.671Z"
   },
   {
    "duration": 1483,
    "start_time": "2022-10-17T09:53:50.177Z"
   },
   {
    "duration": 7,
    "start_time": "2022-10-17T09:54:05.569Z"
   },
   {
    "duration": 1494,
    "start_time": "2022-10-17T09:54:29.380Z"
   },
   {
    "duration": 1437,
    "start_time": "2022-10-17T09:54:36.401Z"
   },
   {
    "duration": 1422,
    "start_time": "2022-10-17T09:54:39.036Z"
   },
   {
    "duration": 1437,
    "start_time": "2022-10-17T09:54:41.929Z"
   },
   {
    "duration": 1426,
    "start_time": "2022-10-17T09:54:45.579Z"
   },
   {
    "duration": 1490,
    "start_time": "2022-10-17T09:54:50.415Z"
   },
   {
    "duration": 1449,
    "start_time": "2022-10-17T09:54:56.518Z"
   },
   {
    "duration": 9,
    "start_time": "2022-10-17T09:56:19.163Z"
   },
   {
    "duration": 44,
    "start_time": "2022-10-17T09:56:27.502Z"
   },
   {
    "duration": 649,
    "start_time": "2022-10-17T09:57:00.010Z"
   },
   {
    "duration": 96,
    "start_time": "2022-10-17T09:57:00.661Z"
   },
   {
    "duration": 40,
    "start_time": "2022-10-17T09:57:00.758Z"
   },
   {
    "duration": 14,
    "start_time": "2022-10-17T09:57:00.800Z"
   },
   {
    "duration": 1941,
    "start_time": "2022-10-17T09:57:00.816Z"
   },
   {
    "duration": 11,
    "start_time": "2022-10-17T09:57:02.758Z"
   },
   {
    "duration": 10,
    "start_time": "2022-10-17T09:57:02.771Z"
   },
   {
    "duration": 14,
    "start_time": "2022-10-17T09:57:02.784Z"
   },
   {
    "duration": 33,
    "start_time": "2022-10-17T09:57:02.800Z"
   },
   {
    "duration": 2169,
    "start_time": "2022-10-17T09:57:02.836Z"
   },
   {
    "duration": 5,
    "start_time": "2022-10-17T09:57:05.007Z"
   },
   {
    "duration": 15,
    "start_time": "2022-10-17T09:57:05.013Z"
   },
   {
    "duration": 11,
    "start_time": "2022-10-17T09:57:05.030Z"
   },
   {
    "duration": 8,
    "start_time": "2022-10-17T09:57:05.043Z"
   },
   {
    "duration": 44,
    "start_time": "2022-10-17T09:57:05.053Z"
   },
   {
    "duration": 13,
    "start_time": "2022-10-17T09:57:05.098Z"
   },
   {
    "duration": 8,
    "start_time": "2022-10-17T09:57:05.112Z"
   },
   {
    "duration": 116,
    "start_time": "2022-10-17T09:57:05.122Z"
   },
   {
    "duration": 4,
    "start_time": "2022-10-17T09:57:05.240Z"
   },
   {
    "duration": 12,
    "start_time": "2022-10-17T09:57:05.245Z"
   },
   {
    "duration": 19,
    "start_time": "2022-10-17T09:57:05.258Z"
   },
   {
    "duration": 19,
    "start_time": "2022-10-17T09:57:05.279Z"
   },
   {
    "duration": 12,
    "start_time": "2022-10-17T09:57:05.299Z"
   },
   {
    "duration": 122,
    "start_time": "2022-10-17T09:57:05.312Z"
   },
   {
    "duration": 7,
    "start_time": "2022-10-17T09:57:05.435Z"
   },
   {
    "duration": 266,
    "start_time": "2022-10-17T09:57:05.443Z"
   },
   {
    "duration": 241,
    "start_time": "2022-10-17T09:57:05.711Z"
   },
   {
    "duration": 357,
    "start_time": "2022-10-17T09:57:05.956Z"
   },
   {
    "duration": 42,
    "start_time": "2022-10-17T09:57:06.314Z"
   },
   {
    "duration": 249,
    "start_time": "2022-10-17T09:57:06.358Z"
   },
   {
    "duration": 248,
    "start_time": "2022-10-17T09:57:06.608Z"
   },
   {
    "duration": 163,
    "start_time": "2022-10-17T09:57:06.858Z"
   },
   {
    "duration": 128,
    "start_time": "2022-10-17T09:57:07.023Z"
   },
   {
    "duration": 190,
    "start_time": "2022-10-17T09:57:07.153Z"
   },
   {
    "duration": 226,
    "start_time": "2022-10-17T09:57:07.344Z"
   },
   {
    "duration": 302,
    "start_time": "2022-10-17T09:57:07.572Z"
   },
   {
    "duration": 231,
    "start_time": "2022-10-17T09:57:07.876Z"
   },
   {
    "duration": 360,
    "start_time": "2022-10-17T09:57:08.109Z"
   },
   {
    "duration": 239,
    "start_time": "2022-10-17T09:57:08.471Z"
   },
   {
    "duration": 170,
    "start_time": "2022-10-17T09:57:08.712Z"
   },
   {
    "duration": 164,
    "start_time": "2022-10-17T09:57:08.884Z"
   },
   {
    "duration": 162,
    "start_time": "2022-10-17T09:57:09.050Z"
   },
   {
    "duration": 193,
    "start_time": "2022-10-17T09:57:09.213Z"
   },
   {
    "duration": 244,
    "start_time": "2022-10-17T09:57:09.409Z"
   },
   {
    "duration": 213,
    "start_time": "2022-10-17T09:57:09.654Z"
   },
   {
    "duration": 269,
    "start_time": "2022-10-17T09:57:09.869Z"
   },
   {
    "duration": 199,
    "start_time": "2022-10-17T09:57:10.140Z"
   },
   {
    "duration": 23,
    "start_time": "2022-10-17T09:57:10.341Z"
   },
   {
    "duration": 168,
    "start_time": "2022-10-17T09:57:10.366Z"
   },
   {
    "duration": 661,
    "start_time": "2022-10-17T10:00:35.089Z"
   },
   {
    "duration": 96,
    "start_time": "2022-10-17T10:00:35.752Z"
   },
   {
    "duration": 41,
    "start_time": "2022-10-17T10:00:35.850Z"
   },
   {
    "duration": 16,
    "start_time": "2022-10-17T10:00:35.893Z"
   },
   {
    "duration": 1946,
    "start_time": "2022-10-17T10:00:35.911Z"
   },
   {
    "duration": 10,
    "start_time": "2022-10-17T10:00:37.858Z"
   },
   {
    "duration": 8,
    "start_time": "2022-10-17T10:00:37.869Z"
   },
   {
    "duration": 18,
    "start_time": "2022-10-17T10:00:37.879Z"
   },
   {
    "duration": 32,
    "start_time": "2022-10-17T10:00:37.899Z"
   },
   {
    "duration": 2219,
    "start_time": "2022-10-17T10:00:37.934Z"
   },
   {
    "duration": 4,
    "start_time": "2022-10-17T10:00:40.155Z"
   },
   {
    "duration": 24,
    "start_time": "2022-10-17T10:00:40.161Z"
   },
   {
    "duration": 28,
    "start_time": "2022-10-17T10:00:40.187Z"
   },
   {
    "duration": 39,
    "start_time": "2022-10-17T10:00:40.217Z"
   },
   {
    "duration": 35,
    "start_time": "2022-10-17T10:00:40.257Z"
   },
   {
    "duration": 17,
    "start_time": "2022-10-17T10:00:40.294Z"
   },
   {
    "duration": 19,
    "start_time": "2022-10-17T10:00:40.312Z"
   },
   {
    "duration": 112,
    "start_time": "2022-10-17T10:00:40.332Z"
   },
   {
    "duration": 4,
    "start_time": "2022-10-17T10:00:40.445Z"
   },
   {
    "duration": 30,
    "start_time": "2022-10-17T10:00:40.450Z"
   },
   {
    "duration": 21,
    "start_time": "2022-10-17T10:00:40.482Z"
   },
   {
    "duration": 44,
    "start_time": "2022-10-17T10:00:40.505Z"
   },
   {
    "duration": 29,
    "start_time": "2022-10-17T10:00:40.550Z"
   },
   {
    "duration": 125,
    "start_time": "2022-10-17T10:00:40.580Z"
   },
   {
    "duration": 7,
    "start_time": "2022-10-17T10:00:40.707Z"
   },
   {
    "duration": 271,
    "start_time": "2022-10-17T10:00:40.715Z"
   },
   {
    "duration": 245,
    "start_time": "2022-10-17T10:00:40.987Z"
   },
   {
    "duration": 339,
    "start_time": "2022-10-17T10:00:41.235Z"
   },
   {
    "duration": 1516,
    "start_time": "2022-10-17T10:00:41.576Z"
   },
   {
    "duration": 313,
    "start_time": "2022-10-17T10:00:43.097Z"
   },
   {
    "duration": 285,
    "start_time": "2022-10-17T10:00:43.413Z"
   },
   {
    "duration": 162,
    "start_time": "2022-10-17T10:00:43.701Z"
   },
   {
    "duration": 122,
    "start_time": "2022-10-17T10:00:43.864Z"
   },
   {
    "duration": 191,
    "start_time": "2022-10-17T10:00:43.988Z"
   },
   {
    "duration": 246,
    "start_time": "2022-10-17T10:00:44.180Z"
   },
   {
    "duration": 391,
    "start_time": "2022-10-17T10:00:44.428Z"
   },
   {
    "duration": 225,
    "start_time": "2022-10-17T10:00:44.821Z"
   },
   {
    "duration": 294,
    "start_time": "2022-10-17T10:00:45.048Z"
   },
   {
    "duration": 243,
    "start_time": "2022-10-17T10:00:45.344Z"
   },
   {
    "duration": 178,
    "start_time": "2022-10-17T10:00:45.589Z"
   },
   {
    "duration": 162,
    "start_time": "2022-10-17T10:00:45.769Z"
   },
   {
    "duration": 163,
    "start_time": "2022-10-17T10:00:45.933Z"
   },
   {
    "duration": 251,
    "start_time": "2022-10-17T10:00:46.098Z"
   },
   {
    "duration": 169,
    "start_time": "2022-10-17T10:00:46.350Z"
   },
   {
    "duration": 222,
    "start_time": "2022-10-17T10:00:46.521Z"
   },
   {
    "duration": 269,
    "start_time": "2022-10-17T10:00:46.745Z"
   },
   {
    "duration": 199,
    "start_time": "2022-10-17T10:00:47.015Z"
   },
   {
    "duration": 24,
    "start_time": "2022-10-17T10:00:47.215Z"
   },
   {
    "duration": 169,
    "start_time": "2022-10-17T10:00:47.240Z"
   },
   {
    "duration": 698,
    "start_time": "2022-10-17T10:01:30.192Z"
   },
   {
    "duration": 97,
    "start_time": "2022-10-17T10:01:30.892Z"
   },
   {
    "duration": 39,
    "start_time": "2022-10-17T10:01:30.990Z"
   },
   {
    "duration": 39,
    "start_time": "2022-10-17T10:01:31.032Z"
   },
   {
    "duration": 1945,
    "start_time": "2022-10-17T10:01:31.072Z"
   },
   {
    "duration": 9,
    "start_time": "2022-10-17T10:01:33.019Z"
   },
   {
    "duration": 9,
    "start_time": "2022-10-17T10:01:33.030Z"
   },
   {
    "duration": 9,
    "start_time": "2022-10-17T10:01:33.041Z"
   },
   {
    "duration": 32,
    "start_time": "2022-10-17T10:01:33.052Z"
   },
   {
    "duration": 2174,
    "start_time": "2022-10-17T10:01:33.087Z"
   },
   {
    "duration": 4,
    "start_time": "2022-10-17T10:01:35.263Z"
   },
   {
    "duration": 8,
    "start_time": "2022-10-17T10:01:35.269Z"
   },
   {
    "duration": 19,
    "start_time": "2022-10-17T10:01:35.278Z"
   },
   {
    "duration": 11,
    "start_time": "2022-10-17T10:01:35.299Z"
   },
   {
    "duration": 22,
    "start_time": "2022-10-17T10:01:35.312Z"
   },
   {
    "duration": 11,
    "start_time": "2022-10-17T10:01:35.336Z"
   },
   {
    "duration": 14,
    "start_time": "2022-10-17T10:01:35.349Z"
   },
   {
    "duration": 120,
    "start_time": "2022-10-17T10:01:35.365Z"
   },
   {
    "duration": 10,
    "start_time": "2022-10-17T10:01:35.487Z"
   },
   {
    "duration": 8,
    "start_time": "2022-10-17T10:01:35.498Z"
   },
   {
    "duration": 11,
    "start_time": "2022-10-17T10:01:35.508Z"
   },
   {
    "duration": 7,
    "start_time": "2022-10-17T10:01:35.521Z"
   },
   {
    "duration": 11,
    "start_time": "2022-10-17T10:01:35.529Z"
   },
   {
    "duration": 131,
    "start_time": "2022-10-17T10:01:35.541Z"
   },
   {
    "duration": 7,
    "start_time": "2022-10-17T10:01:35.674Z"
   },
   {
    "duration": 264,
    "start_time": "2022-10-17T10:01:35.682Z"
   },
   {
    "duration": 248,
    "start_time": "2022-10-17T10:01:35.948Z"
   },
   {
    "duration": 338,
    "start_time": "2022-10-17T10:01:36.201Z"
   },
   {
    "duration": 77,
    "start_time": "2022-10-17T10:01:36.541Z"
   },
   {
    "duration": 0,
    "start_time": "2022-10-17T10:01:36.619Z"
   },
   {
    "duration": 0,
    "start_time": "2022-10-17T10:01:36.620Z"
   },
   {
    "duration": 0,
    "start_time": "2022-10-17T10:01:36.621Z"
   },
   {
    "duration": 0,
    "start_time": "2022-10-17T10:01:36.622Z"
   },
   {
    "duration": 0,
    "start_time": "2022-10-17T10:01:36.623Z"
   },
   {
    "duration": 0,
    "start_time": "2022-10-17T10:01:36.624Z"
   },
   {
    "duration": 0,
    "start_time": "2022-10-17T10:01:36.625Z"
   },
   {
    "duration": 0,
    "start_time": "2022-10-17T10:01:36.626Z"
   },
   {
    "duration": 0,
    "start_time": "2022-10-17T10:01:36.627Z"
   },
   {
    "duration": 0,
    "start_time": "2022-10-17T10:01:36.628Z"
   },
   {
    "duration": 0,
    "start_time": "2022-10-17T10:01:36.629Z"
   },
   {
    "duration": 0,
    "start_time": "2022-10-17T10:01:36.629Z"
   },
   {
    "duration": 0,
    "start_time": "2022-10-17T10:01:36.630Z"
   },
   {
    "duration": 0,
    "start_time": "2022-10-17T10:01:36.632Z"
   },
   {
    "duration": 0,
    "start_time": "2022-10-17T10:01:36.632Z"
   },
   {
    "duration": 0,
    "start_time": "2022-10-17T10:01:36.633Z"
   },
   {
    "duration": 0,
    "start_time": "2022-10-17T10:01:36.634Z"
   },
   {
    "duration": 0,
    "start_time": "2022-10-17T10:01:36.635Z"
   },
   {
    "duration": 0,
    "start_time": "2022-10-17T10:01:36.636Z"
   },
   {
    "duration": 0,
    "start_time": "2022-10-17T10:01:36.637Z"
   },
   {
    "duration": 1372,
    "start_time": "2022-10-17T10:01:46.512Z"
   },
   {
    "duration": 689,
    "start_time": "2022-10-17T10:02:13.261Z"
   },
   {
    "duration": 97,
    "start_time": "2022-10-17T10:02:13.952Z"
   },
   {
    "duration": 39,
    "start_time": "2022-10-17T10:02:14.051Z"
   },
   {
    "duration": 16,
    "start_time": "2022-10-17T10:02:14.096Z"
   },
   {
    "duration": 2000,
    "start_time": "2022-10-17T10:02:14.113Z"
   },
   {
    "duration": 11,
    "start_time": "2022-10-17T10:02:16.115Z"
   },
   {
    "duration": 9,
    "start_time": "2022-10-17T10:02:16.128Z"
   },
   {
    "duration": 12,
    "start_time": "2022-10-17T10:02:16.138Z"
   },
   {
    "duration": 34,
    "start_time": "2022-10-17T10:02:16.151Z"
   },
   {
    "duration": 2232,
    "start_time": "2022-10-17T10:02:16.187Z"
   },
   {
    "duration": 4,
    "start_time": "2022-10-17T10:02:18.420Z"
   },
   {
    "duration": 14,
    "start_time": "2022-10-17T10:02:18.426Z"
   },
   {
    "duration": 15,
    "start_time": "2022-10-17T10:02:18.442Z"
   },
   {
    "duration": 21,
    "start_time": "2022-10-17T10:02:18.459Z"
   },
   {
    "duration": 28,
    "start_time": "2022-10-17T10:02:18.482Z"
   },
   {
    "duration": 14,
    "start_time": "2022-10-17T10:02:18.512Z"
   },
   {
    "duration": 8,
    "start_time": "2022-10-17T10:02:18.528Z"
   },
   {
    "duration": 121,
    "start_time": "2022-10-17T10:02:18.537Z"
   },
   {
    "duration": 5,
    "start_time": "2022-10-17T10:02:18.660Z"
   },
   {
    "duration": 15,
    "start_time": "2022-10-17T10:02:18.667Z"
   },
   {
    "duration": 16,
    "start_time": "2022-10-17T10:02:18.684Z"
   },
   {
    "duration": 10,
    "start_time": "2022-10-17T10:02:18.702Z"
   },
   {
    "duration": 9,
    "start_time": "2022-10-17T10:02:18.713Z"
   },
   {
    "duration": 131,
    "start_time": "2022-10-17T10:02:18.723Z"
   },
   {
    "duration": 7,
    "start_time": "2022-10-17T10:02:18.856Z"
   },
   {
    "duration": 266,
    "start_time": "2022-10-17T10:02:18.865Z"
   },
   {
    "duration": 235,
    "start_time": "2022-10-17T10:02:19.132Z"
   },
   {
    "duration": 345,
    "start_time": "2022-10-17T10:02:19.371Z"
   },
   {
    "duration": 1356,
    "start_time": "2022-10-17T10:02:19.717Z"
   },
   {
    "duration": 247,
    "start_time": "2022-10-17T10:02:21.075Z"
   },
   {
    "duration": 240,
    "start_time": "2022-10-17T10:02:21.323Z"
   },
   {
    "duration": 161,
    "start_time": "2022-10-17T10:02:21.565Z"
   },
   {
    "duration": 122,
    "start_time": "2022-10-17T10:02:21.728Z"
   },
   {
    "duration": 193,
    "start_time": "2022-10-17T10:02:21.852Z"
   },
   {
    "duration": 241,
    "start_time": "2022-10-17T10:02:22.046Z"
   },
   {
    "duration": 362,
    "start_time": "2022-10-17T10:02:22.288Z"
   },
   {
    "duration": 237,
    "start_time": "2022-10-17T10:02:22.652Z"
   },
   {
    "duration": 294,
    "start_time": "2022-10-17T10:02:22.891Z"
   },
   {
    "duration": 239,
    "start_time": "2022-10-17T10:02:23.187Z"
   },
   {
    "duration": 173,
    "start_time": "2022-10-17T10:02:23.428Z"
   },
   {
    "duration": 164,
    "start_time": "2022-10-17T10:02:23.603Z"
   },
   {
    "duration": 165,
    "start_time": "2022-10-17T10:02:23.768Z"
   },
   {
    "duration": 273,
    "start_time": "2022-10-17T10:02:23.934Z"
   },
   {
    "duration": 176,
    "start_time": "2022-10-17T10:02:24.209Z"
   },
   {
    "duration": 254,
    "start_time": "2022-10-17T10:02:24.387Z"
   },
   {
    "duration": 283,
    "start_time": "2022-10-17T10:02:24.644Z"
   },
   {
    "duration": 204,
    "start_time": "2022-10-17T10:02:24.929Z"
   },
   {
    "duration": 23,
    "start_time": "2022-10-17T10:02:25.135Z"
   },
   {
    "duration": 188,
    "start_time": "2022-10-17T10:02:25.159Z"
   },
   {
    "duration": 257,
    "start_time": "2022-10-17T10:04:08.440Z"
   },
   {
    "duration": 336,
    "start_time": "2022-10-17T10:04:33.757Z"
   },
   {
    "duration": 268,
    "start_time": "2022-10-17T10:04:38.945Z"
   },
   {
    "duration": 227,
    "start_time": "2022-10-17T10:04:44.994Z"
   },
   {
    "duration": 238,
    "start_time": "2022-10-17T10:04:50.810Z"
   },
   {
    "duration": 242,
    "start_time": "2022-10-17T10:04:56.449Z"
   },
   {
    "duration": 252,
    "start_time": "2022-10-17T10:05:26.881Z"
   },
   {
    "duration": 326,
    "start_time": "2022-10-17T10:05:30.784Z"
   },
   {
    "duration": 254,
    "start_time": "2022-10-17T10:06:49.707Z"
   },
   {
    "duration": 164,
    "start_time": "2022-10-17T10:09:25.557Z"
   },
   {
    "duration": 128,
    "start_time": "2022-10-17T10:09:57.569Z"
   },
   {
    "duration": 135,
    "start_time": "2022-10-17T10:10:04.767Z"
   },
   {
    "duration": 200,
    "start_time": "2022-10-17T10:10:33.800Z"
   },
   {
    "duration": 245,
    "start_time": "2022-10-17T10:10:47.396Z"
   },
   {
    "duration": 334,
    "start_time": "2022-10-17T10:11:04.466Z"
   },
   {
    "duration": 247,
    "start_time": "2022-10-17T10:11:21.425Z"
   },
   {
    "duration": 683,
    "start_time": "2022-10-17T10:12:23.687Z"
   },
   {
    "duration": 98,
    "start_time": "2022-10-17T10:12:24.373Z"
   },
   {
    "duration": 45,
    "start_time": "2022-10-17T10:12:24.473Z"
   },
   {
    "duration": 17,
    "start_time": "2022-10-17T10:12:24.521Z"
   },
   {
    "duration": 1973,
    "start_time": "2022-10-17T10:12:24.540Z"
   },
   {
    "duration": 11,
    "start_time": "2022-10-17T10:12:26.514Z"
   },
   {
    "duration": 15,
    "start_time": "2022-10-17T10:12:26.527Z"
   },
   {
    "duration": 11,
    "start_time": "2022-10-17T10:12:26.543Z"
   },
   {
    "duration": 51,
    "start_time": "2022-10-17T10:12:26.555Z"
   },
   {
    "duration": 2139,
    "start_time": "2022-10-17T10:12:26.609Z"
   },
   {
    "duration": 5,
    "start_time": "2022-10-17T10:12:28.749Z"
   },
   {
    "duration": 7,
    "start_time": "2022-10-17T10:12:28.756Z"
   },
   {
    "duration": 14,
    "start_time": "2022-10-17T10:12:28.764Z"
   },
   {
    "duration": 21,
    "start_time": "2022-10-17T10:12:28.779Z"
   },
   {
    "duration": 24,
    "start_time": "2022-10-17T10:12:28.802Z"
   },
   {
    "duration": 12,
    "start_time": "2022-10-17T10:12:28.828Z"
   },
   {
    "duration": 9,
    "start_time": "2022-10-17T10:12:28.841Z"
   },
   {
    "duration": 118,
    "start_time": "2022-10-17T10:12:28.851Z"
   },
   {
    "duration": 3,
    "start_time": "2022-10-17T10:12:28.971Z"
   },
   {
    "duration": 10,
    "start_time": "2022-10-17T10:12:28.976Z"
   },
   {
    "duration": 7,
    "start_time": "2022-10-17T10:12:28.996Z"
   },
   {
    "duration": 7,
    "start_time": "2022-10-17T10:12:29.005Z"
   },
   {
    "duration": 7,
    "start_time": "2022-10-17T10:12:29.014Z"
   },
   {
    "duration": 128,
    "start_time": "2022-10-17T10:12:29.023Z"
   },
   {
    "duration": 8,
    "start_time": "2022-10-17T10:12:29.153Z"
   },
   {
    "duration": 279,
    "start_time": "2022-10-17T10:12:29.163Z"
   },
   {
    "duration": 243,
    "start_time": "2022-10-17T10:12:29.443Z"
   },
   {
    "duration": 341,
    "start_time": "2022-10-17T10:12:29.696Z"
   },
   {
    "duration": 1370,
    "start_time": "2022-10-17T10:12:30.039Z"
   },
   {
    "duration": 257,
    "start_time": "2022-10-17T10:12:31.411Z"
   },
   {
    "duration": 252,
    "start_time": "2022-10-17T10:12:31.669Z"
   },
   {
    "duration": 173,
    "start_time": "2022-10-17T10:12:31.922Z"
   },
   {
    "duration": 128,
    "start_time": "2022-10-17T10:12:32.097Z"
   },
   {
    "duration": 205,
    "start_time": "2022-10-17T10:12:32.227Z"
   },
   {
    "duration": 255,
    "start_time": "2022-10-17T10:12:32.434Z"
   },
   {
    "duration": 418,
    "start_time": "2022-10-17T10:12:32.690Z"
   },
   {
    "duration": 255,
    "start_time": "2022-10-17T10:12:33.110Z"
   },
   {
    "duration": 312,
    "start_time": "2022-10-17T10:12:33.367Z"
   },
   {
    "duration": 240,
    "start_time": "2022-10-17T10:12:33.680Z"
   },
   {
    "duration": 176,
    "start_time": "2022-10-17T10:12:33.921Z"
   },
   {
    "duration": 166,
    "start_time": "2022-10-17T10:12:34.099Z"
   },
   {
    "duration": 172,
    "start_time": "2022-10-17T10:12:34.267Z"
   },
   {
    "duration": 269,
    "start_time": "2022-10-17T10:12:34.441Z"
   },
   {
    "duration": 165,
    "start_time": "2022-10-17T10:12:34.712Z"
   },
   {
    "duration": 207,
    "start_time": "2022-10-17T10:12:34.879Z"
   },
   {
    "duration": 265,
    "start_time": "2022-10-17T10:12:35.088Z"
   },
   {
    "duration": 222,
    "start_time": "2022-10-17T10:12:35.355Z"
   },
   {
    "duration": 34,
    "start_time": "2022-10-17T10:12:35.578Z"
   },
   {
    "duration": 169,
    "start_time": "2022-10-17T10:12:35.614Z"
   },
   {
    "duration": 236,
    "start_time": "2022-10-17T10:18:31.177Z"
   },
   {
    "duration": 653,
    "start_time": "2022-10-17T10:19:25.583Z"
   },
   {
    "duration": 96,
    "start_time": "2022-10-17T10:19:26.238Z"
   },
   {
    "duration": 39,
    "start_time": "2022-10-17T10:19:26.336Z"
   },
   {
    "duration": 27,
    "start_time": "2022-10-17T10:19:26.378Z"
   },
   {
    "duration": 1985,
    "start_time": "2022-10-17T10:19:26.407Z"
   },
   {
    "duration": 9,
    "start_time": "2022-10-17T10:19:28.394Z"
   },
   {
    "duration": 9,
    "start_time": "2022-10-17T10:19:28.404Z"
   },
   {
    "duration": 9,
    "start_time": "2022-10-17T10:19:28.415Z"
   },
   {
    "duration": 33,
    "start_time": "2022-10-17T10:19:28.426Z"
   },
   {
    "duration": 2119,
    "start_time": "2022-10-17T10:19:28.463Z"
   },
   {
    "duration": 13,
    "start_time": "2022-10-17T10:19:30.584Z"
   },
   {
    "duration": 28,
    "start_time": "2022-10-17T10:19:30.599Z"
   },
   {
    "duration": 39,
    "start_time": "2022-10-17T10:19:30.629Z"
   },
   {
    "duration": 43,
    "start_time": "2022-10-17T10:19:30.670Z"
   },
   {
    "duration": 24,
    "start_time": "2022-10-17T10:19:30.714Z"
   },
   {
    "duration": 12,
    "start_time": "2022-10-17T10:19:30.740Z"
   },
   {
    "duration": 23,
    "start_time": "2022-10-17T10:19:30.753Z"
   },
   {
    "duration": 109,
    "start_time": "2022-10-17T10:19:30.778Z"
   },
   {
    "duration": 8,
    "start_time": "2022-10-17T10:19:30.888Z"
   },
   {
    "duration": 17,
    "start_time": "2022-10-17T10:19:30.897Z"
   },
   {
    "duration": 21,
    "start_time": "2022-10-17T10:19:30.915Z"
   },
   {
    "duration": 25,
    "start_time": "2022-10-17T10:19:30.938Z"
   },
   {
    "duration": 24,
    "start_time": "2022-10-17T10:19:30.965Z"
   },
   {
    "duration": 121,
    "start_time": "2022-10-17T10:19:30.990Z"
   },
   {
    "duration": 7,
    "start_time": "2022-10-17T10:19:31.113Z"
   },
   {
    "duration": 283,
    "start_time": "2022-10-17T10:19:31.122Z"
   },
   {
    "duration": 262,
    "start_time": "2022-10-17T10:19:31.406Z"
   },
   {
    "duration": 375,
    "start_time": "2022-10-17T10:19:31.671Z"
   },
   {
    "duration": 1403,
    "start_time": "2022-10-17T10:19:32.048Z"
   },
   {
    "duration": 263,
    "start_time": "2022-10-17T10:19:33.453Z"
   },
   {
    "duration": 237,
    "start_time": "2022-10-17T10:19:33.717Z"
   },
   {
    "duration": 176,
    "start_time": "2022-10-17T10:19:33.956Z"
   },
   {
    "duration": 140,
    "start_time": "2022-10-17T10:19:34.134Z"
   },
   {
    "duration": 215,
    "start_time": "2022-10-17T10:19:34.276Z"
   },
   {
    "duration": 269,
    "start_time": "2022-10-17T10:19:34.496Z"
   },
   {
    "duration": 367,
    "start_time": "2022-10-17T10:19:34.767Z"
   },
   {
    "duration": 234,
    "start_time": "2022-10-17T10:19:35.135Z"
   },
   {
    "duration": 309,
    "start_time": "2022-10-17T10:19:35.370Z"
   },
   {
    "duration": 251,
    "start_time": "2022-10-17T10:19:35.681Z"
   },
   {
    "duration": 184,
    "start_time": "2022-10-17T10:19:35.934Z"
   },
   {
    "duration": 159,
    "start_time": "2022-10-17T10:19:36.120Z"
   },
   {
    "duration": 169,
    "start_time": "2022-10-17T10:19:36.281Z"
   },
   {
    "duration": 269,
    "start_time": "2022-10-17T10:19:36.452Z"
   },
   {
    "duration": 177,
    "start_time": "2022-10-17T10:19:36.723Z"
   },
   {
    "duration": 206,
    "start_time": "2022-10-17T10:19:36.902Z"
   },
   {
    "duration": 265,
    "start_time": "2022-10-17T10:19:37.109Z"
   },
   {
    "duration": 197,
    "start_time": "2022-10-17T10:19:37.375Z"
   },
   {
    "duration": 29,
    "start_time": "2022-10-17T10:19:37.573Z"
   },
   {
    "duration": 170,
    "start_time": "2022-10-17T10:19:37.603Z"
   },
   {
    "duration": 110,
    "start_time": "2022-10-17T10:22:06.736Z"
   },
   {
    "duration": 247,
    "start_time": "2022-10-17T10:22:11.376Z"
   },
   {
    "duration": 1593,
    "start_time": "2022-10-17T10:23:02.006Z"
   },
   {
    "duration": 237,
    "start_time": "2022-10-17T10:23:09.872Z"
   },
   {
    "duration": 232,
    "start_time": "2022-10-17T10:24:31.288Z"
   },
   {
    "duration": 230,
    "start_time": "2022-10-17T10:24:39.648Z"
   },
   {
    "duration": 237,
    "start_time": "2022-10-17T10:24:54.784Z"
   },
   {
    "duration": 163,
    "start_time": "2022-10-17T10:29:25.105Z"
   },
   {
    "duration": 166,
    "start_time": "2022-10-17T10:29:27.993Z"
   },
   {
    "duration": 244,
    "start_time": "2022-10-17T10:29:31.267Z"
   },
   {
    "duration": 167,
    "start_time": "2022-10-17T10:29:34.555Z"
   },
   {
    "duration": 171,
    "start_time": "2022-10-17T10:29:38.526Z"
   },
   {
    "duration": 184,
    "start_time": "2022-10-17T10:29:42.145Z"
   },
   {
    "duration": 203,
    "start_time": "2022-10-17T10:32:06.086Z"
   },
   {
    "duration": 202,
    "start_time": "2022-10-17T10:32:10.197Z"
   },
   {
    "duration": 187,
    "start_time": "2022-10-17T10:32:16.370Z"
   },
   {
    "duration": 196,
    "start_time": "2022-10-17T10:32:19.237Z"
   },
   {
    "duration": 258,
    "start_time": "2022-10-17T10:32:29.987Z"
   },
   {
    "duration": 203,
    "start_time": "2022-10-17T10:32:36.076Z"
   },
   {
    "duration": 248,
    "start_time": "2022-10-17T10:32:40.176Z"
   },
   {
    "duration": 173,
    "start_time": "2022-10-17T10:32:46.515Z"
   },
   {
    "duration": 176,
    "start_time": "2022-10-17T10:32:49.569Z"
   },
   {
    "duration": 182,
    "start_time": "2022-10-17T10:32:52.774Z"
   },
   {
    "duration": 204,
    "start_time": "2022-10-17T10:32:54.495Z"
   },
   {
    "duration": 152,
    "start_time": "2022-10-17T10:33:03.852Z"
   },
   {
    "duration": 154,
    "start_time": "2022-10-17T10:33:07.817Z"
   },
   {
    "duration": 163,
    "start_time": "2022-10-17T10:33:10.938Z"
   },
   {
    "duration": 152,
    "start_time": "2022-10-17T10:33:44.912Z"
   },
   {
    "duration": 165,
    "start_time": "2022-10-17T10:33:48.792Z"
   },
   {
    "duration": 156,
    "start_time": "2022-10-17T10:39:11.146Z"
   },
   {
    "duration": 179,
    "start_time": "2022-10-17T10:39:41.739Z"
   },
   {
    "duration": 169,
    "start_time": "2022-10-17T10:40:39.488Z"
   },
   {
    "duration": 166,
    "start_time": "2022-10-17T10:40:46.931Z"
   },
   {
    "duration": 156,
    "start_time": "2022-10-17T10:40:53.216Z"
   },
   {
    "duration": 170,
    "start_time": "2022-10-17T10:40:56.527Z"
   },
   {
    "duration": 175,
    "start_time": "2022-10-17T10:41:02.716Z"
   },
   {
    "duration": 181,
    "start_time": "2022-10-17T10:41:08.628Z"
   },
   {
    "duration": 339,
    "start_time": "2022-10-17T10:43:04.893Z"
   },
   {
    "duration": 338,
    "start_time": "2022-10-17T10:43:37.517Z"
   },
   {
    "duration": 22,
    "start_time": "2022-10-17T10:43:51.218Z"
   },
   {
    "duration": 202,
    "start_time": "2022-10-17T10:44:32.977Z"
   },
   {
    "duration": 164,
    "start_time": "2022-10-17T10:44:40.896Z"
   },
   {
    "duration": 165,
    "start_time": "2022-10-17T10:44:46.635Z"
   },
   {
    "duration": 164,
    "start_time": "2022-10-17T10:44:51.713Z"
   },
   {
    "duration": 32,
    "start_time": "2022-10-17T10:45:00.005Z"
   },
   {
    "duration": 155,
    "start_time": "2022-10-17T10:45:56.844Z"
   },
   {
    "duration": 152,
    "start_time": "2022-10-17T10:46:12.542Z"
   },
   {
    "duration": 155,
    "start_time": "2022-10-17T10:46:21.387Z"
   },
   {
    "duration": 183,
    "start_time": "2022-10-17T10:46:42.930Z"
   },
   {
    "duration": 157,
    "start_time": "2022-10-17T10:46:47.818Z"
   },
   {
    "duration": 151,
    "start_time": "2022-10-17T10:47:02.844Z"
   },
   {
    "duration": 163,
    "start_time": "2022-10-17T10:47:16.499Z"
   },
   {
    "duration": 697,
    "start_time": "2022-10-18T10:09:07.012Z"
   },
   {
    "duration": 89,
    "start_time": "2022-10-18T10:09:07.712Z"
   },
   {
    "duration": 48,
    "start_time": "2022-10-18T10:09:07.802Z"
   },
   {
    "duration": 14,
    "start_time": "2022-10-18T10:09:07.852Z"
   },
   {
    "duration": 1891,
    "start_time": "2022-10-18T10:09:07.868Z"
   },
   {
    "duration": 8,
    "start_time": "2022-10-18T10:09:09.761Z"
   },
   {
    "duration": 15,
    "start_time": "2022-10-18T10:09:09.770Z"
   },
   {
    "duration": 23,
    "start_time": "2022-10-18T10:09:09.786Z"
   },
   {
    "duration": 32,
    "start_time": "2022-10-18T10:09:09.816Z"
   },
   {
    "duration": 2031,
    "start_time": "2022-10-18T10:09:09.849Z"
   },
   {
    "duration": 4,
    "start_time": "2022-10-18T10:09:11.881Z"
   },
   {
    "duration": 21,
    "start_time": "2022-10-18T10:09:11.886Z"
   },
   {
    "duration": 13,
    "start_time": "2022-10-18T10:09:11.910Z"
   },
   {
    "duration": 9,
    "start_time": "2022-10-18T10:09:11.927Z"
   },
   {
    "duration": 21,
    "start_time": "2022-10-18T10:09:11.937Z"
   },
   {
    "duration": 11,
    "start_time": "2022-10-18T10:09:11.960Z"
   },
   {
    "duration": 46,
    "start_time": "2022-10-18T10:09:11.973Z"
   },
   {
    "duration": 96,
    "start_time": "2022-10-18T10:09:12.021Z"
   },
   {
    "duration": 4,
    "start_time": "2022-10-18T10:09:12.119Z"
   },
   {
    "duration": 15,
    "start_time": "2022-10-18T10:09:12.124Z"
   },
   {
    "duration": 11,
    "start_time": "2022-10-18T10:09:12.141Z"
   },
   {
    "duration": 7,
    "start_time": "2022-10-18T10:09:12.153Z"
   },
   {
    "duration": 6,
    "start_time": "2022-10-18T10:09:12.162Z"
   },
   {
    "duration": 118,
    "start_time": "2022-10-18T10:09:12.170Z"
   },
   {
    "duration": 6,
    "start_time": "2022-10-18T10:09:12.290Z"
   },
   {
    "duration": 248,
    "start_time": "2022-10-18T10:09:12.305Z"
   },
   {
    "duration": 239,
    "start_time": "2022-10-18T10:09:12.555Z"
   },
   {
    "duration": 330,
    "start_time": "2022-10-18T10:09:12.796Z"
   },
   {
    "duration": 1275,
    "start_time": "2022-10-18T10:09:13.127Z"
   },
   {
    "duration": 244,
    "start_time": "2022-10-18T10:09:14.406Z"
   },
   {
    "duration": 242,
    "start_time": "2022-10-18T10:09:14.651Z"
   },
   {
    "duration": 162,
    "start_time": "2022-10-18T10:09:14.895Z"
   },
   {
    "duration": 126,
    "start_time": "2022-10-18T10:09:15.059Z"
   },
   {
    "duration": 184,
    "start_time": "2022-10-18T10:09:15.187Z"
   },
   {
    "duration": 242,
    "start_time": "2022-10-18T10:09:15.373Z"
   },
   {
    "duration": 351,
    "start_time": "2022-10-18T10:09:15.617Z"
   },
   {
    "duration": 230,
    "start_time": "2022-10-18T10:09:15.969Z"
   },
   {
    "duration": 294,
    "start_time": "2022-10-18T10:09:16.201Z"
   },
   {
    "duration": 230,
    "start_time": "2022-10-18T10:09:16.496Z"
   },
   {
    "duration": 192,
    "start_time": "2022-10-18T10:09:16.727Z"
   },
   {
    "duration": 155,
    "start_time": "2022-10-18T10:09:16.924Z"
   },
   {
    "duration": 170,
    "start_time": "2022-10-18T10:09:17.081Z"
   },
   {
    "duration": 302,
    "start_time": "2022-10-18T10:09:17.253Z"
   },
   {
    "duration": 181,
    "start_time": "2022-10-18T10:09:17.557Z"
   },
   {
    "duration": 237,
    "start_time": "2022-10-18T10:09:17.740Z"
   },
   {
    "duration": 289,
    "start_time": "2022-10-18T10:09:17.978Z"
   },
   {
    "duration": 218,
    "start_time": "2022-10-18T10:09:18.269Z"
   },
   {
    "duration": 154,
    "start_time": "2022-10-18T10:09:18.488Z"
   },
   {
    "duration": 177,
    "start_time": "2022-10-18T10:09:18.644Z"
   },
   {
    "duration": 14,
    "start_time": "2022-10-18T10:11:01.292Z"
   },
   {
    "duration": 101,
    "start_time": "2022-10-18T10:11:04.870Z"
   },
   {
    "duration": 57,
    "start_time": "2022-10-18T10:38:24.628Z"
   },
   {
    "duration": 8,
    "start_time": "2022-10-18T10:38:46.640Z"
   },
   {
    "duration": 836,
    "start_time": "2022-10-18T10:38:54.002Z"
   },
   {
    "duration": 125,
    "start_time": "2022-10-18T10:38:54.840Z"
   },
   {
    "duration": 44,
    "start_time": "2022-10-18T10:38:54.967Z"
   },
   {
    "duration": 17,
    "start_time": "2022-10-18T10:38:55.020Z"
   },
   {
    "duration": 2148,
    "start_time": "2022-10-18T10:38:55.039Z"
   },
   {
    "duration": 8,
    "start_time": "2022-10-18T10:38:57.189Z"
   },
   {
    "duration": 22,
    "start_time": "2022-10-18T10:38:57.199Z"
   },
   {
    "duration": 19,
    "start_time": "2022-10-18T10:38:57.223Z"
   },
   {
    "duration": 41,
    "start_time": "2022-10-18T10:38:57.244Z"
   },
   {
    "duration": 2274,
    "start_time": "2022-10-18T10:38:57.288Z"
   },
   {
    "duration": 5,
    "start_time": "2022-10-18T10:38:59.564Z"
   },
   {
    "duration": 11,
    "start_time": "2022-10-18T10:38:59.571Z"
   },
   {
    "duration": 20,
    "start_time": "2022-10-18T10:38:59.583Z"
   },
   {
    "duration": 19,
    "start_time": "2022-10-18T10:38:59.605Z"
   },
   {
    "duration": 25,
    "start_time": "2022-10-18T10:38:59.626Z"
   },
   {
    "duration": 12,
    "start_time": "2022-10-18T10:38:59.653Z"
   },
   {
    "duration": 23,
    "start_time": "2022-10-18T10:38:59.667Z"
   },
   {
    "duration": 129,
    "start_time": "2022-10-18T10:38:59.692Z"
   },
   {
    "duration": 4,
    "start_time": "2022-10-18T10:38:59.823Z"
   },
   {
    "duration": 22,
    "start_time": "2022-10-18T10:38:59.829Z"
   },
   {
    "duration": 44,
    "start_time": "2022-10-18T10:38:59.852Z"
   },
   {
    "duration": 10,
    "start_time": "2022-10-18T10:38:59.898Z"
   },
   {
    "duration": 31,
    "start_time": "2022-10-18T10:38:59.910Z"
   },
   {
    "duration": 125,
    "start_time": "2022-10-18T10:38:59.943Z"
   },
   {
    "duration": 8,
    "start_time": "2022-10-18T10:39:00.071Z"
   },
   {
    "duration": 301,
    "start_time": "2022-10-18T10:39:00.080Z"
   },
   {
    "duration": 281,
    "start_time": "2022-10-18T10:39:00.383Z"
   },
   {
    "duration": 408,
    "start_time": "2022-10-18T10:39:00.668Z"
   },
   {
    "duration": 1482,
    "start_time": "2022-10-18T10:39:01.078Z"
   },
   {
    "duration": 314,
    "start_time": "2022-10-18T10:39:02.562Z"
   },
   {
    "duration": 261,
    "start_time": "2022-10-18T10:39:02.878Z"
   },
   {
    "duration": 182,
    "start_time": "2022-10-18T10:39:03.141Z"
   },
   {
    "duration": 141,
    "start_time": "2022-10-18T10:39:03.325Z"
   },
   {
    "duration": 217,
    "start_time": "2022-10-18T10:39:03.468Z"
   },
   {
    "duration": 275,
    "start_time": "2022-10-18T10:39:03.687Z"
   },
   {
    "duration": 416,
    "start_time": "2022-10-18T10:39:03.964Z"
   },
   {
    "duration": 253,
    "start_time": "2022-10-18T10:39:04.382Z"
   },
   {
    "duration": 326,
    "start_time": "2022-10-18T10:39:04.637Z"
   },
   {
    "duration": 249,
    "start_time": "2022-10-18T10:39:04.965Z"
   },
   {
    "duration": 188,
    "start_time": "2022-10-18T10:39:05.216Z"
   },
   {
    "duration": 183,
    "start_time": "2022-10-18T10:39:05.405Z"
   },
   {
    "duration": 182,
    "start_time": "2022-10-18T10:39:05.590Z"
   },
   {
    "duration": 277,
    "start_time": "2022-10-18T10:39:05.774Z"
   },
   {
    "duration": 179,
    "start_time": "2022-10-18T10:39:06.053Z"
   },
   {
    "duration": 214,
    "start_time": "2022-10-18T10:39:06.233Z"
   },
   {
    "duration": 273,
    "start_time": "2022-10-18T10:39:06.449Z"
   },
   {
    "duration": 204,
    "start_time": "2022-10-18T10:39:06.724Z"
   },
   {
    "duration": 164,
    "start_time": "2022-10-18T10:39:06.930Z"
   },
   {
    "duration": 190,
    "start_time": "2022-10-18T10:39:07.096Z"
   },
   {
    "duration": 689,
    "start_time": "2022-10-18T10:39:38.655Z"
   },
   {
    "duration": 78,
    "start_time": "2022-10-18T10:39:39.346Z"
   },
   {
    "duration": 41,
    "start_time": "2022-10-18T10:39:39.426Z"
   },
   {
    "duration": 15,
    "start_time": "2022-10-18T10:39:39.469Z"
   },
   {
    "duration": 1985,
    "start_time": "2022-10-18T10:39:39.486Z"
   },
   {
    "duration": 9,
    "start_time": "2022-10-18T10:39:41.472Z"
   },
   {
    "duration": 12,
    "start_time": "2022-10-18T10:39:41.483Z"
   },
   {
    "duration": 9,
    "start_time": "2022-10-18T10:39:41.496Z"
   },
   {
    "duration": 36,
    "start_time": "2022-10-18T10:39:41.507Z"
   },
   {
    "duration": 2220,
    "start_time": "2022-10-18T10:39:41.546Z"
   },
   {
    "duration": 4,
    "start_time": "2022-10-18T10:39:43.768Z"
   },
   {
    "duration": 13,
    "start_time": "2022-10-18T10:39:43.773Z"
   },
   {
    "duration": 30,
    "start_time": "2022-10-18T10:39:43.787Z"
   },
   {
    "duration": 15,
    "start_time": "2022-10-18T10:39:43.819Z"
   },
   {
    "duration": 31,
    "start_time": "2022-10-18T10:39:43.835Z"
   },
   {
    "duration": 13,
    "start_time": "2022-10-18T10:39:43.869Z"
   },
   {
    "duration": 8,
    "start_time": "2022-10-18T10:39:43.883Z"
   },
   {
    "duration": 128,
    "start_time": "2022-10-18T10:39:43.893Z"
   },
   {
    "duration": 4,
    "start_time": "2022-10-18T10:39:44.023Z"
   },
   {
    "duration": 11,
    "start_time": "2022-10-18T10:39:44.028Z"
   },
   {
    "duration": 12,
    "start_time": "2022-10-18T10:39:44.041Z"
   },
   {
    "duration": 8,
    "start_time": "2022-10-18T10:39:44.054Z"
   },
   {
    "duration": 8,
    "start_time": "2022-10-18T10:39:44.063Z"
   },
   {
    "duration": 140,
    "start_time": "2022-10-18T10:39:44.072Z"
   },
   {
    "duration": 8,
    "start_time": "2022-10-18T10:39:44.220Z"
   },
   {
    "duration": 279,
    "start_time": "2022-10-18T10:39:44.229Z"
   },
   {
    "duration": 260,
    "start_time": "2022-10-18T10:39:44.509Z"
   },
   {
    "duration": 362,
    "start_time": "2022-10-18T10:39:44.773Z"
   },
   {
    "duration": 1420,
    "start_time": "2022-10-18T10:39:45.136Z"
   },
   {
    "duration": 267,
    "start_time": "2022-10-18T10:39:46.557Z"
   },
   {
    "duration": 273,
    "start_time": "2022-10-18T10:39:46.826Z"
   },
   {
    "duration": 182,
    "start_time": "2022-10-18T10:39:47.102Z"
   },
   {
    "duration": 142,
    "start_time": "2022-10-18T10:39:47.285Z"
   },
   {
    "duration": 209,
    "start_time": "2022-10-18T10:39:47.428Z"
   },
   {
    "duration": 285,
    "start_time": "2022-10-18T10:39:47.639Z"
   },
   {
    "duration": 426,
    "start_time": "2022-10-18T10:39:47.926Z"
   },
   {
    "duration": 244,
    "start_time": "2022-10-18T10:39:48.354Z"
   },
   {
    "duration": 356,
    "start_time": "2022-10-18T10:39:48.600Z"
   },
   {
    "duration": 334,
    "start_time": "2022-10-18T10:39:48.959Z"
   },
   {
    "duration": 201,
    "start_time": "2022-10-18T10:39:49.294Z"
   },
   {
    "duration": 187,
    "start_time": "2022-10-18T10:39:49.497Z"
   },
   {
    "duration": 186,
    "start_time": "2022-10-18T10:39:49.686Z"
   },
   {
    "duration": 271,
    "start_time": "2022-10-18T10:39:49.873Z"
   },
   {
    "duration": 167,
    "start_time": "2022-10-18T10:39:50.146Z"
   },
   {
    "duration": 215,
    "start_time": "2022-10-18T10:39:50.320Z"
   },
   {
    "duration": 278,
    "start_time": "2022-10-18T10:39:50.537Z"
   },
   {
    "duration": 200,
    "start_time": "2022-10-18T10:39:50.817Z"
   },
   {
    "duration": 166,
    "start_time": "2022-10-18T10:39:51.020Z"
   },
   {
    "duration": 182,
    "start_time": "2022-10-18T10:39:51.188Z"
   },
   {
    "duration": 46,
    "start_time": "2022-10-18T10:40:44.190Z"
   },
   {
    "duration": 678,
    "start_time": "2022-10-18T10:40:51.493Z"
   },
   {
    "duration": 80,
    "start_time": "2022-10-18T10:40:52.173Z"
   },
   {
    "duration": 41,
    "start_time": "2022-10-18T10:40:52.256Z"
   },
   {
    "duration": 28,
    "start_time": "2022-10-18T10:40:52.300Z"
   },
   {
    "duration": 2061,
    "start_time": "2022-10-18T10:40:52.330Z"
   },
   {
    "duration": 8,
    "start_time": "2022-10-18T10:40:54.393Z"
   },
   {
    "duration": 14,
    "start_time": "2022-10-18T10:40:54.403Z"
   },
   {
    "duration": 9,
    "start_time": "2022-10-18T10:40:54.418Z"
   },
   {
    "duration": 39,
    "start_time": "2022-10-18T10:40:54.428Z"
   },
   {
    "duration": 2358,
    "start_time": "2022-10-18T10:40:54.470Z"
   },
   {
    "duration": 5,
    "start_time": "2022-10-18T10:40:56.830Z"
   },
   {
    "duration": 20,
    "start_time": "2022-10-18T10:40:56.837Z"
   },
   {
    "duration": 30,
    "start_time": "2022-10-18T10:40:56.858Z"
   },
   {
    "duration": 20,
    "start_time": "2022-10-18T10:40:56.889Z"
   },
   {
    "duration": 27,
    "start_time": "2022-10-18T10:40:56.910Z"
   },
   {
    "duration": 12,
    "start_time": "2022-10-18T10:40:56.939Z"
   },
   {
    "duration": 10,
    "start_time": "2022-10-18T10:40:56.953Z"
   },
   {
    "duration": 67,
    "start_time": "2022-10-18T10:40:56.964Z"
   },
   {
    "duration": 4,
    "start_time": "2022-10-18T10:40:57.033Z"
   },
   {
    "duration": 17,
    "start_time": "2022-10-18T10:40:57.038Z"
   },
   {
    "duration": 16,
    "start_time": "2022-10-18T10:40:57.056Z"
   },
   {
    "duration": 12,
    "start_time": "2022-10-18T10:40:57.074Z"
   },
   {
    "duration": 9,
    "start_time": "2022-10-18T10:40:57.088Z"
   },
   {
    "duration": 139,
    "start_time": "2022-10-18T10:40:57.099Z"
   },
   {
    "duration": 7,
    "start_time": "2022-10-18T10:40:57.240Z"
   },
   {
    "duration": 285,
    "start_time": "2022-10-18T10:40:57.248Z"
   },
   {
    "duration": 263,
    "start_time": "2022-10-18T10:40:57.534Z"
   },
   {
    "duration": 385,
    "start_time": "2022-10-18T10:40:57.802Z"
   },
   {
    "duration": 1543,
    "start_time": "2022-10-18T10:40:58.189Z"
   },
   {
    "duration": 273,
    "start_time": "2022-10-18T10:40:59.734Z"
   },
   {
    "duration": 253,
    "start_time": "2022-10-18T10:41:00.009Z"
   },
   {
    "duration": 180,
    "start_time": "2022-10-18T10:41:00.264Z"
   },
   {
    "duration": 135,
    "start_time": "2022-10-18T10:41:00.446Z"
   },
   {
    "duration": 207,
    "start_time": "2022-10-18T10:41:00.583Z"
   },
   {
    "duration": 263,
    "start_time": "2022-10-18T10:41:00.792Z"
   },
   {
    "duration": 416,
    "start_time": "2022-10-18T10:41:01.057Z"
   },
   {
    "duration": 259,
    "start_time": "2022-10-18T10:41:01.474Z"
   },
   {
    "duration": 348,
    "start_time": "2022-10-18T10:41:01.735Z"
   },
   {
    "duration": 252,
    "start_time": "2022-10-18T10:41:02.085Z"
   },
   {
    "duration": 195,
    "start_time": "2022-10-18T10:41:02.339Z"
   },
   {
    "duration": 191,
    "start_time": "2022-10-18T10:41:02.535Z"
   },
   {
    "duration": 195,
    "start_time": "2022-10-18T10:41:02.728Z"
   },
   {
    "duration": 273,
    "start_time": "2022-10-18T10:41:02.925Z"
   },
   {
    "duration": 186,
    "start_time": "2022-10-18T10:41:03.200Z"
   },
   {
    "duration": 213,
    "start_time": "2022-10-18T10:41:03.388Z"
   },
   {
    "duration": 283,
    "start_time": "2022-10-18T10:41:03.603Z"
   },
   {
    "duration": 208,
    "start_time": "2022-10-18T10:41:03.888Z"
   },
   {
    "duration": 173,
    "start_time": "2022-10-18T10:41:04.098Z"
   },
   {
    "duration": 194,
    "start_time": "2022-10-18T10:41:04.273Z"
   },
   {
    "duration": 656,
    "start_time": "2022-10-18T10:41:25.676Z"
   },
   {
    "duration": 81,
    "start_time": "2022-10-18T10:41:26.334Z"
   },
   {
    "duration": 41,
    "start_time": "2022-10-18T10:41:26.417Z"
   },
   {
    "duration": 16,
    "start_time": "2022-10-18T10:41:26.460Z"
   },
   {
    "duration": 2109,
    "start_time": "2022-10-18T10:41:26.478Z"
   },
   {
    "duration": 10,
    "start_time": "2022-10-18T10:41:28.589Z"
   },
   {
    "duration": 27,
    "start_time": "2022-10-18T10:41:28.600Z"
   },
   {
    "duration": 43,
    "start_time": "2022-10-18T10:41:28.629Z"
   },
   {
    "duration": 51,
    "start_time": "2022-10-18T10:41:28.674Z"
   },
   {
    "duration": 2513,
    "start_time": "2022-10-18T10:41:28.727Z"
   },
   {
    "duration": 4,
    "start_time": "2022-10-18T10:41:31.242Z"
   },
   {
    "duration": 41,
    "start_time": "2022-10-18T10:41:31.248Z"
   },
   {
    "duration": 46,
    "start_time": "2022-10-18T10:41:31.290Z"
   },
   {
    "duration": 39,
    "start_time": "2022-10-18T10:41:31.338Z"
   },
   {
    "duration": 50,
    "start_time": "2022-10-18T10:41:31.379Z"
   },
   {
    "duration": 12,
    "start_time": "2022-10-18T10:41:31.431Z"
   },
   {
    "duration": 51,
    "start_time": "2022-10-18T10:41:31.445Z"
   },
   {
    "duration": 20,
    "start_time": "2022-10-18T10:41:31.497Z"
   },
   {
    "duration": 48,
    "start_time": "2022-10-18T10:41:31.518Z"
   },
   {
    "duration": 15,
    "start_time": "2022-10-18T10:41:31.567Z"
   },
   {
    "duration": 30,
    "start_time": "2022-10-18T10:41:31.584Z"
   },
   {
    "duration": 37,
    "start_time": "2022-10-18T10:41:31.616Z"
   },
   {
    "duration": 41,
    "start_time": "2022-10-18T10:41:31.655Z"
   },
   {
    "duration": 23,
    "start_time": "2022-10-18T10:41:31.698Z"
   },
   {
    "duration": 117,
    "start_time": "2022-10-18T10:41:31.722Z"
   },
   {
    "duration": 7,
    "start_time": "2022-10-18T10:41:31.841Z"
   },
   {
    "duration": 306,
    "start_time": "2022-10-18T10:41:31.850Z"
   },
   {
    "duration": 258,
    "start_time": "2022-10-18T10:41:32.160Z"
   },
   {
    "duration": 420,
    "start_time": "2022-10-18T10:41:32.420Z"
   },
   {
    "duration": 1396,
    "start_time": "2022-10-18T10:41:32.842Z"
   },
   {
    "duration": 267,
    "start_time": "2022-10-18T10:41:34.240Z"
   },
   {
    "duration": 264,
    "start_time": "2022-10-18T10:41:34.509Z"
   },
   {
    "duration": 177,
    "start_time": "2022-10-18T10:41:34.775Z"
   },
   {
    "duration": 141,
    "start_time": "2022-10-18T10:41:34.953Z"
   },
   {
    "duration": 208,
    "start_time": "2022-10-18T10:41:35.096Z"
   },
   {
    "duration": 248,
    "start_time": "2022-10-18T10:41:35.305Z"
   },
   {
    "duration": 414,
    "start_time": "2022-10-18T10:41:35.555Z"
   },
   {
    "duration": 257,
    "start_time": "2022-10-18T10:41:35.971Z"
   },
   {
    "duration": 348,
    "start_time": "2022-10-18T10:41:36.231Z"
   },
   {
    "duration": 251,
    "start_time": "2022-10-18T10:41:36.581Z"
   },
   {
    "duration": 203,
    "start_time": "2022-10-18T10:41:36.835Z"
   },
   {
    "duration": 188,
    "start_time": "2022-10-18T10:41:37.040Z"
   },
   {
    "duration": 204,
    "start_time": "2022-10-18T10:41:37.230Z"
   },
   {
    "duration": 286,
    "start_time": "2022-10-18T10:41:37.436Z"
   },
   {
    "duration": 184,
    "start_time": "2022-10-18T10:41:37.724Z"
   },
   {
    "duration": 232,
    "start_time": "2022-10-18T10:41:37.910Z"
   },
   {
    "duration": 279,
    "start_time": "2022-10-18T10:41:38.144Z"
   },
   {
    "duration": 207,
    "start_time": "2022-10-18T10:41:38.425Z"
   },
   {
    "duration": 168,
    "start_time": "2022-10-18T10:41:38.634Z"
   },
   {
    "duration": 234,
    "start_time": "2022-10-18T10:41:38.804Z"
   }
  ],
  "kernelspec": {
   "display_name": "Python 3 (ipykernel)",
   "language": "python",
   "name": "python3"
  },
  "language_info": {
   "codemirror_mode": {
    "name": "ipython",
    "version": 3
   },
   "file_extension": ".py",
   "mimetype": "text/x-python",
   "name": "python",
   "nbconvert_exporter": "python",
   "pygments_lexer": "ipython3",
   "version": "3.9.5"
  },
  "toc": {
   "base_numbering": 1,
   "nav_menu": {},
   "number_sections": true,
   "sideBar": true,
   "skip_h1_title": true,
   "title_cell": "Table of Contents",
   "title_sidebar": "Contents",
   "toc_cell": false,
   "toc_position": {},
   "toc_section_display": true,
   "toc_window_display": false
  }
 },
 "nbformat": 4,
 "nbformat_minor": 2
}
