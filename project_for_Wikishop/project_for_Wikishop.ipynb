{
 "cells": [
  {
   "cell_type": "markdown",
   "metadata": {
    "toc": true
   },
   "source": [
    "<h1>Содержание<span class=\"tocSkip\"></span></h1>\n",
    "<div class=\"toc\"><ul class=\"toc-item\"><li><span><a href=\"#Подготовка\" data-toc-modified-id=\"Подготовка-1\"><span class=\"toc-item-num\">1&nbsp;&nbsp;</span>Подготовка</a></span><ul class=\"toc-item\"><li><span><a href=\"#Загрузим-необходимые-библиотеки,-датасет.-Посмотрим-общую-информацию-по-датасету\" data-toc-modified-id=\"Загрузим-необходимые-библиотеки,-датасет.-Посмотрим-общую-информацию-по-датасету-1.1\"><span class=\"toc-item-num\">1.1&nbsp;&nbsp;</span>Загрузим необходимые библиотеки, датасет. Посмотрим общую информацию по датасету</a></span></li><li><span><a href=\"#Посмотрим-на-распределение-классов-в-данных\" data-toc-modified-id=\"Посмотрим-на-распределение-классов-в-данных-1.2\"><span class=\"toc-item-num\">1.2&nbsp;&nbsp;</span>Посмотрим на распределение классов в данных</a></span></li><li><span><a href=\"#Подготовим-текст\" data-toc-modified-id=\"Подготовим-текст-1.3\"><span class=\"toc-item-num\">1.3&nbsp;&nbsp;</span>Подготовим текст</a></span></li><li><span><a href=\"#Проведём-частотный-анализ-текста\" data-toc-modified-id=\"Проведём-частотный-анализ-текста-1.4\"><span class=\"toc-item-num\">1.4&nbsp;&nbsp;</span>Проведём частотный анализ текста</a></span></li><li><span><a href=\"#Проведём-частотный-анализ-облака-слов\" data-toc-modified-id=\"Проведём-частотный-анализ-облака-слов-1.5\"><span class=\"toc-item-num\">1.5&nbsp;&nbsp;</span>Проведём частотный анализ облака слов</a></span></li><li><span><a href=\"#Разделим-на-выборки\" data-toc-modified-id=\"Разделим-на-выборки-1.6\"><span class=\"toc-item-num\">1.6&nbsp;&nbsp;</span>Разделим на выборки</a></span></li><li><span><a href=\"#Уберём-ненужные-слова-из-текста\" data-toc-modified-id=\"Уберём-ненужные-слова-из-текста-1.7\"><span class=\"toc-item-num\">1.7&nbsp;&nbsp;</span>Уберём ненужные слова из текста</a></span></li></ul></li><li><span><a href=\"#Обучение\" data-toc-modified-id=\"Обучение-2\"><span class=\"toc-item-num\">2&nbsp;&nbsp;</span>Обучение</a></span><ul class=\"toc-item\"><li><span><a href=\"#LogisticRegression\" data-toc-modified-id=\"LogisticRegression-2.1\"><span class=\"toc-item-num\">2.1&nbsp;&nbsp;</span>LogisticRegression</a></span></li><li><span><a href=\"#DecisionTreeClassifier\" data-toc-modified-id=\"DecisionTreeClassifier-2.2\"><span class=\"toc-item-num\">2.2&nbsp;&nbsp;</span>DecisionTreeClassifier</a></span></li><li><span><a href=\"#SGDClassifier\" data-toc-modified-id=\"SGDClassifier-2.3\"><span class=\"toc-item-num\">2.3&nbsp;&nbsp;</span>SGDClassifier</a></span></li><li><span><a href=\"#Создадим-таблицу-результатов\" data-toc-modified-id=\"Создадим-таблицу-результатов-2.4\"><span class=\"toc-item-num\">2.4&nbsp;&nbsp;</span>Создадим таблицу результатов</a></span></li></ul></li><li><span><a href=\"#Выводы\" data-toc-modified-id=\"Выводы-3\"><span class=\"toc-item-num\">3&nbsp;&nbsp;</span>Выводы</a></span><ul class=\"toc-item\"><li><span><a href=\"#LogisticRegression\" data-toc-modified-id=\"LogisticRegression-3.1\"><span class=\"toc-item-num\">3.1&nbsp;&nbsp;</span>LogisticRegression</a></span></li><li><span><a href=\"#SGDClassifier\" data-toc-modified-id=\"SGDClassifier-3.2\"><span class=\"toc-item-num\">3.2&nbsp;&nbsp;</span>SGDClassifier</a></span></li><li><span><a href=\"#Вывод\" data-toc-modified-id=\"Вывод-3.3\"><span class=\"toc-item-num\">3.3&nbsp;&nbsp;</span>Вывод</a></span></li></ul></li><li><span><a href=\"#Чек-лист-проверки\" data-toc-modified-id=\"Чек-лист-проверки-4\"><span class=\"toc-item-num\">4&nbsp;&nbsp;</span>Чек-лист проверки</a></span></li></ul></div>"
   ]
  },
  {
   "cell_type": "markdown",
   "metadata": {},
   "source": [
    "# Проект для «Викишоп»"
   ]
  },
  {
   "cell_type": "markdown",
   "metadata": {},
   "source": [
    "Интернет-магазин «Викишоп» запускает новый сервис. Теперь пользователи могут редактировать и дополнять описания товаров, как в вики-сообществах. То есть клиенты предлагают свои правки и комментируют изменения других. Магазину нужен инструмент, который будет искать токсичные комментарии и отправлять их на модерацию. \n",
    "\n",
    "Обучите модель классифицировать комментарии на позитивные и негативные. В вашем распоряжении набор данных с разметкой о токсичности правок.\n",
    "\n",
    "Постройте модель со значением метрики качества *F1* не меньше 0.75. \n",
    "\n",
    "**Инструкция по выполнению проекта**\n",
    "\n",
    "1. Загрузите и подготовьте данные.\n",
    "2. Обучите разные модели. \n",
    "3. Сделайте выводы.\n",
    "\n",
    "Для выполнения проекта применять *BERT* необязательно, но вы можете попробовать.\n",
    "\n",
    "**Описание данных**\n",
    "\n",
    "Данные находятся в файле `toxic_comments.csv`. Столбец *text* в нём содержит текст комментария, а *toxic* — целевой признак."
   ]
  },
  {
   "cell_type": "markdown",
   "metadata": {},
   "source": [
    "## Подготовка"
   ]
  },
  {
   "cell_type": "markdown",
   "metadata": {},
   "source": [
    "### Загрузим необходимые библиотеки, датасет. Посмотрим общую информацию по датасету"
   ]
  },
  {
   "cell_type": "code",
   "execution_count": 1,
   "metadata": {},
   "outputs": [
    {
     "name": "stdout",
     "output_type": "stream",
     "text": [
      "Requirement already satisfied: ydata_profiling in /opt/conda/lib/python3.9/site-packages (4.0.0)\n",
      "Requirement already satisfied: visions[type_image_path]==0.7.5 in /opt/conda/lib/python3.9/site-packages (from ydata_profiling) (0.7.5)\n",
      "Requirement already satisfied: jinja2<3.2,>=2.11.1 in /opt/conda/lib/python3.9/site-packages (from ydata_profiling) (3.0.1)\n",
      "Requirement already satisfied: pydantic<1.11,>=1.8.1 in /opt/conda/lib/python3.9/site-packages (from ydata_profiling) (1.8.2)\n",
      "Requirement already satisfied: statsmodels<0.14,>=0.13.2 in /opt/conda/lib/python3.9/site-packages (from ydata_profiling) (0.13.2)\n",
      "Requirement already satisfied: PyYAML<6.1,>=5.0.0 in /opt/conda/lib/python3.9/site-packages (from ydata_profiling) (6.0)\n",
      "Requirement already satisfied: numpy<1.24,>=1.16.0 in /opt/conda/lib/python3.9/site-packages (from ydata_profiling) (1.21.1)\n",
      "Requirement already satisfied: pandas!=1.4.0,<1.6,>1.1 in /opt/conda/lib/python3.9/site-packages (from ydata_profiling) (1.2.4)\n",
      "Requirement already satisfied: matplotlib<3.7,>=3.2 in /opt/conda/lib/python3.9/site-packages (from ydata_profiling) (3.3.4)\n",
      "Requirement already satisfied: htmlmin==0.1.12 in /opt/conda/lib/python3.9/site-packages (from ydata_profiling) (0.1.12)\n",
      "Requirement already satisfied: scipy<1.10,>=1.4.1 in /opt/conda/lib/python3.9/site-packages (from ydata_profiling) (1.9.1)\n",
      "Requirement already satisfied: phik<0.13,>=0.11.1 in /opt/conda/lib/python3.9/site-packages (from ydata_profiling) (0.12.3)\n",
      "Requirement already satisfied: tqdm<4.65,>=4.48.2 in /opt/conda/lib/python3.9/site-packages (from ydata_profiling) (4.61.2)\n",
      "Requirement already satisfied: seaborn<0.13,>=0.10.1 in /opt/conda/lib/python3.9/site-packages (from ydata_profiling) (0.11.1)\n",
      "Requirement already satisfied: multimethod<1.10,>=1.4 in /opt/conda/lib/python3.9/site-packages (from ydata_profiling) (1.9.1)\n",
      "Requirement already satisfied: requests<2.29,>=2.24.0 in /opt/conda/lib/python3.9/site-packages (from ydata_profiling) (2.25.1)\n",
      "Requirement already satisfied: typeguard<2.14,>=2.13.2 in /opt/conda/lib/python3.9/site-packages (from ydata_profiling) (2.13.3)\n",
      "Requirement already satisfied: networkx>=2.4 in /opt/conda/lib/python3.9/site-packages (from visions[type_image_path]==0.7.5->ydata_profiling) (3.0)\n",
      "Requirement already satisfied: attrs>=19.3.0 in /opt/conda/lib/python3.9/site-packages (from visions[type_image_path]==0.7.5->ydata_profiling) (21.2.0)\n",
      "Requirement already satisfied: tangled-up-in-unicode>=0.0.4 in /opt/conda/lib/python3.9/site-packages (from visions[type_image_path]==0.7.5->ydata_profiling) (0.2.0)\n",
      "Requirement already satisfied: Pillow in /opt/conda/lib/python3.9/site-packages (from visions[type_image_path]==0.7.5->ydata_profiling) (8.4.0)\n",
      "Requirement already satisfied: imagehash in /opt/conda/lib/python3.9/site-packages (from visions[type_image_path]==0.7.5->ydata_profiling) (4.3.1)\n",
      "Requirement already satisfied: MarkupSafe>=2.0 in /opt/conda/lib/python3.9/site-packages (from jinja2<3.2,>=2.11.1->ydata_profiling) (2.1.1)\n",
      "Requirement already satisfied: cycler>=0.10 in /opt/conda/lib/python3.9/site-packages (from matplotlib<3.7,>=3.2->ydata_profiling) (0.11.0)\n",
      "Requirement already satisfied: pyparsing!=2.0.4,!=2.1.2,!=2.1.6,>=2.0.3 in /opt/conda/lib/python3.9/site-packages (from matplotlib<3.7,>=3.2->ydata_profiling) (2.4.7)\n",
      "Requirement already satisfied: python-dateutil>=2.1 in /opt/conda/lib/python3.9/site-packages (from matplotlib<3.7,>=3.2->ydata_profiling) (2.8.1)\n",
      "Requirement already satisfied: kiwisolver>=1.0.1 in /opt/conda/lib/python3.9/site-packages (from matplotlib<3.7,>=3.2->ydata_profiling) (1.4.4)\n",
      "Requirement already satisfied: pytz>=2017.3 in /opt/conda/lib/python3.9/site-packages (from pandas!=1.4.0,<1.6,>1.1->ydata_profiling) (2021.1)\n",
      "Requirement already satisfied: joblib>=0.14.1 in /opt/conda/lib/python3.9/site-packages (from phik<0.13,>=0.11.1->ydata_profiling) (1.1.0)\n",
      "Requirement already satisfied: typing-extensions>=3.7.4.3 in /opt/conda/lib/python3.9/site-packages (from pydantic<1.11,>=1.8.1->ydata_profiling) (4.3.0)\n",
      "Requirement already satisfied: six>=1.5 in /opt/conda/lib/python3.9/site-packages (from python-dateutil>=2.1->matplotlib<3.7,>=3.2->ydata_profiling) (1.16.0)\n",
      "Requirement already satisfied: idna<3,>=2.5 in /opt/conda/lib/python3.9/site-packages (from requests<2.29,>=2.24.0->ydata_profiling) (2.10)\n",
      "Requirement already satisfied: certifi>=2017.4.17 in /opt/conda/lib/python3.9/site-packages (from requests<2.29,>=2.24.0->ydata_profiling) (2022.6.15)\n",
      "Requirement already satisfied: chardet<5,>=3.0.2 in /opt/conda/lib/python3.9/site-packages (from requests<2.29,>=2.24.0->ydata_profiling) (4.0.0)\n",
      "Requirement already satisfied: urllib3<1.27,>=1.21.1 in /opt/conda/lib/python3.9/site-packages (from requests<2.29,>=2.24.0->ydata_profiling) (1.26.6)\n",
      "Requirement already satisfied: patsy>=0.5.2 in /opt/conda/lib/python3.9/site-packages (from statsmodels<0.14,>=0.13.2->ydata_profiling) (0.5.2)\n",
      "Requirement already satisfied: packaging>=21.3 in /opt/conda/lib/python3.9/site-packages (from statsmodels<0.14,>=0.13.2->ydata_profiling) (21.3)\n",
      "Requirement already satisfied: PyWavelets in /opt/conda/lib/python3.9/site-packages (from imagehash->visions[type_image_path]==0.7.5->ydata_profiling) (1.4.1)\n",
      "Note: you may need to restart the kernel to use updated packages.\n"
     ]
    }
   ],
   "source": [
    "pip install ydata_profiling"
   ]
  },
  {
   "cell_type": "code",
   "execution_count": 2,
   "metadata": {},
   "outputs": [
    {
     "name": "stdout",
     "output_type": "stream",
     "text": [
      "Requirement already satisfied: wordcloud in /opt/conda/lib/python3.9/site-packages (1.8.2.2)\n",
      "Requirement already satisfied: matplotlib in /opt/conda/lib/python3.9/site-packages (from wordcloud) (3.3.4)\n",
      "Requirement already satisfied: numpy>=1.6.1 in /opt/conda/lib/python3.9/site-packages (from wordcloud) (1.21.1)\n",
      "Requirement already satisfied: pillow in /opt/conda/lib/python3.9/site-packages (from wordcloud) (8.4.0)\n",
      "Requirement already satisfied: cycler>=0.10 in /opt/conda/lib/python3.9/site-packages (from matplotlib->wordcloud) (0.11.0)\n",
      "Requirement already satisfied: pyparsing!=2.0.4,!=2.1.2,!=2.1.6,>=2.0.3 in /opt/conda/lib/python3.9/site-packages (from matplotlib->wordcloud) (2.4.7)\n",
      "Requirement already satisfied: python-dateutil>=2.1 in /opt/conda/lib/python3.9/site-packages (from matplotlib->wordcloud) (2.8.1)\n",
      "Requirement already satisfied: kiwisolver>=1.0.1 in /opt/conda/lib/python3.9/site-packages (from matplotlib->wordcloud) (1.4.4)\n",
      "Requirement already satisfied: six>=1.5 in /opt/conda/lib/python3.9/site-packages (from python-dateutil>=2.1->matplotlib->wordcloud) (1.16.0)\n",
      "Note: you may need to restart the kernel to use updated packages.\n"
     ]
    }
   ],
   "source": [
    "pip install wordcloud"
   ]
  },
  {
   "cell_type": "code",
   "execution_count": 27,
   "metadata": {},
   "outputs": [],
   "source": [
    "import pandas as pd\n",
    "import seaborn as sns\n",
    "import matplotlib.pyplot as plt\n",
    "import re\n",
    "import nltk\n",
    "import spacy\n",
    "import random\n",
    "from tqdm.notebook import tqdm\n",
    "from nltk import word_tokenize\n",
    "from nltk.probability import FreqDist\n",
    "from nltk.stem import WordNetLemmatizer\n",
    "from nltk.corpus import stopwords as nltk_stopwords\n",
    "from sklearn.feature_extraction.text import TfidfVectorizer\n",
    "from sklearn.model_selection import train_test_split, GridSearchCV\n",
    "from sklearn.linear_model import LogisticRegression, SGDClassifier\n",
    "from sklearn.tree import DecisionTreeClassifier\n",
    "from sklearn.metrics import f1_score\n",
    "from sklearn.pipeline import Pipeline\n",
    "from sklearn.feature_extraction.text import CountVectorizer\n",
    "from sklearn.feature_extraction.text import TfidfTransformer\n",
    "import warnings\n",
    "warnings.filterwarnings('ignore')\n",
    "%matplotlib inline\n",
    "\n",
    "import ydata_profiling\n",
    "from wordcloud import WordCloud"
   ]
  },
  {
   "cell_type": "code",
   "execution_count": 4,
   "metadata": {},
   "outputs": [],
   "source": [
    "try:\n",
    "    data = pd.read_csv('/datasets/toxic_comments.csv', index_col=0)   \n",
    "except:\n",
    "    data = pd.read_csv('https://code.s3.yandex.net/toxic_comments.csv', index_col=0)"
   ]
  },
  {
   "cell_type": "code",
   "execution_count": 5,
   "metadata": {},
   "outputs": [
    {
     "data": {
      "text/html": [
       "<div>\n",
       "<style scoped>\n",
       "    .dataframe tbody tr th:only-of-type {\n",
       "        vertical-align: middle;\n",
       "    }\n",
       "\n",
       "    .dataframe tbody tr th {\n",
       "        vertical-align: top;\n",
       "    }\n",
       "\n",
       "    .dataframe thead th {\n",
       "        text-align: right;\n",
       "    }\n",
       "</style>\n",
       "<table border=\"1\" class=\"dataframe\">\n",
       "  <thead>\n",
       "    <tr style=\"text-align: right;\">\n",
       "      <th></th>\n",
       "      <th>text</th>\n",
       "      <th>toxic</th>\n",
       "    </tr>\n",
       "  </thead>\n",
       "  <tbody>\n",
       "    <tr>\n",
       "      <th>61131</th>\n",
       "      <td>Also see the section called History, some sect...</td>\n",
       "      <td>0</td>\n",
       "    </tr>\n",
       "    <tr>\n",
       "      <th>19896</th>\n",
       "      <td>\"\\n\\n 2008 Harvey Host\\nAdded link, hopefully ...</td>\n",
       "      <td>0</td>\n",
       "    </tr>\n",
       "    <tr>\n",
       "      <th>110273</th>\n",
       "      <td>\"\\n\\nSkomorokh, if what you say is the case th...</td>\n",
       "      <td>0</td>\n",
       "    </tr>\n",
       "    <tr>\n",
       "      <th>140954</th>\n",
       "      <td>Kiernan knows this so feels he can get away wi...</td>\n",
       "      <td>0</td>\n",
       "    </tr>\n",
       "    <tr>\n",
       "      <th>133360</th>\n",
       "      <td>Units of measure formatting tool \\n\\nHi,\\n\\nYo...</td>\n",
       "      <td>0</td>\n",
       "    </tr>\n",
       "    <tr>\n",
       "      <th>77558</th>\n",
       "      <td>Hii \\n\\nIt seems that we are both being picked...</td>\n",
       "      <td>0</td>\n",
       "    </tr>\n",
       "    <tr>\n",
       "      <th>103371</th>\n",
       "      <td>\"\\n\\nno, i wouldn't consider the proposed chan...</td>\n",
       "      <td>0</td>\n",
       "    </tr>\n",
       "    <tr>\n",
       "      <th>119484</th>\n",
       "      <td>\"\\nThank you John. I have to agree on the Pano...</td>\n",
       "      <td>0</td>\n",
       "    </tr>\n",
       "    <tr>\n",
       "      <th>22434</th>\n",
       "      <td>Stop \\n\\nHey, I dislike your white-washing, I ...</td>\n",
       "      <td>1</td>\n",
       "    </tr>\n",
       "    <tr>\n",
       "      <th>134928</th>\n",
       "      <td>Hi Corporate Minion,\\n\\nThanks for explaining....</td>\n",
       "      <td>0</td>\n",
       "    </tr>\n",
       "  </tbody>\n",
       "</table>\n",
       "</div>"
      ],
      "text/plain": [
       "                                                     text  toxic\n",
       "61131   Also see the section called History, some sect...      0\n",
       "19896   \"\\n\\n 2008 Harvey Host\\nAdded link, hopefully ...      0\n",
       "110273  \"\\n\\nSkomorokh, if what you say is the case th...      0\n",
       "140954  Kiernan knows this so feels he can get away wi...      0\n",
       "133360  Units of measure formatting tool \\n\\nHi,\\n\\nYo...      0\n",
       "77558   Hii \\n\\nIt seems that we are both being picked...      0\n",
       "103371  \"\\n\\nno, i wouldn't consider the proposed chan...      0\n",
       "119484  \"\\nThank you John. I have to agree on the Pano...      0\n",
       "22434   Stop \\n\\nHey, I dislike your white-washing, I ...      1\n",
       "134928  Hi Corporate Minion,\\n\\nThanks for explaining....      0"
      ]
     },
     "execution_count": 5,
     "metadata": {},
     "output_type": "execute_result"
    }
   ],
   "source": [
    "data.sample(10)"
   ]
  },
  {
   "cell_type": "code",
   "execution_count": 6,
   "metadata": {},
   "outputs": [
    {
     "name": "stdout",
     "output_type": "stream",
     "text": [
      "<class 'pandas.core.frame.DataFrame'>\n",
      "Int64Index: 159292 entries, 0 to 159450\n",
      "Data columns (total 2 columns):\n",
      " #   Column  Non-Null Count   Dtype \n",
      "---  ------  --------------   ----- \n",
      " 0   text    159292 non-null  object\n",
      " 1   toxic   159292 non-null  int64 \n",
      "dtypes: int64(1), object(1)\n",
      "memory usage: 3.6+ MB\n"
     ]
    }
   ],
   "source": [
    "data.info()"
   ]
  },
  {
   "cell_type": "code",
   "execution_count": 7,
   "metadata": {},
   "outputs": [
    {
     "data": {
      "text/html": [
       "<div>\n",
       "<style scoped>\n",
       "    .dataframe tbody tr th:only-of-type {\n",
       "        vertical-align: middle;\n",
       "    }\n",
       "\n",
       "    .dataframe tbody tr th {\n",
       "        vertical-align: top;\n",
       "    }\n",
       "\n",
       "    .dataframe thead th {\n",
       "        text-align: right;\n",
       "    }\n",
       "</style>\n",
       "<table border=\"1\" class=\"dataframe\">\n",
       "  <thead>\n",
       "    <tr style=\"text-align: right;\">\n",
       "      <th></th>\n",
       "      <th>toxic</th>\n",
       "    </tr>\n",
       "  </thead>\n",
       "  <tbody>\n",
       "    <tr>\n",
       "      <th>count</th>\n",
       "      <td>159292.000000</td>\n",
       "    </tr>\n",
       "    <tr>\n",
       "      <th>mean</th>\n",
       "      <td>0.101612</td>\n",
       "    </tr>\n",
       "    <tr>\n",
       "      <th>std</th>\n",
       "      <td>0.302139</td>\n",
       "    </tr>\n",
       "    <tr>\n",
       "      <th>min</th>\n",
       "      <td>0.000000</td>\n",
       "    </tr>\n",
       "    <tr>\n",
       "      <th>25%</th>\n",
       "      <td>0.000000</td>\n",
       "    </tr>\n",
       "    <tr>\n",
       "      <th>50%</th>\n",
       "      <td>0.000000</td>\n",
       "    </tr>\n",
       "    <tr>\n",
       "      <th>75%</th>\n",
       "      <td>0.000000</td>\n",
       "    </tr>\n",
       "    <tr>\n",
       "      <th>max</th>\n",
       "      <td>1.000000</td>\n",
       "    </tr>\n",
       "  </tbody>\n",
       "</table>\n",
       "</div>"
      ],
      "text/plain": [
       "               toxic\n",
       "count  159292.000000\n",
       "mean        0.101612\n",
       "std         0.302139\n",
       "min         0.000000\n",
       "25%         0.000000\n",
       "50%         0.000000\n",
       "75%         0.000000\n",
       "max         1.000000"
      ]
     },
     "execution_count": 7,
     "metadata": {},
     "output_type": "execute_result"
    }
   ],
   "source": [
    "data.describe()"
   ]
  },
  {
   "cell_type": "code",
   "execution_count": 8,
   "metadata": {
    "scrolled": true
   },
   "outputs": [],
   "source": [
    "# ydata_profiling.ProfileReport(data)"
   ]
  },
  {
   "cell_type": "markdown",
   "metadata": {},
   "source": [
    "### Посмотрим на распределение классов в данных"
   ]
  },
  {
   "cell_type": "code",
   "execution_count": 9,
   "metadata": {},
   "outputs": [
    {
     "data": {
      "image/png": "[encoded data removed]",
      "text/plain": [
       "<Figure size 396x396 with 1 Axes>"
      ]
     },
     "metadata": {},
     "output_type": "display_data"
    }
   ],
   "source": [
    "sns.set_style('darkgrid')\n",
    "data['toxic'].value_counts(normalize=True).plot(kind='pie',figsize=[5.5,5.5], legend=False, autopct='%1.1f%%',labels=['Отзыв токсичный, класс [0]','Отзыв не токсичный, класс [1]'])\n",
    "plt.title('Баланс распределения классов в данных')\n",
    "plt.xlabel('Класс')\n",
    "plt.ylabel('')\n",
    "plt.show()"
   ]
  },
  {
   "cell_type": "markdown",
   "metadata": {},
   "source": [
    "### Подготовим текст"
   ]
  },
  {
   "cell_type": "code",
   "execution_count": 10,
   "metadata": {},
   "outputs": [
    {
     "data": {
      "application/vnd.jupyter.widget-view+json": {
       "model_id": "feee8c2377324a6d87adb2aa495b64ea",
       "version_major": 2,
       "version_minor": 0
      },
      "text/plain": [
       "  0%|          | 0/159292 [00:00<?, ?it/s]"
      ]
     },
     "metadata": {},
     "output_type": "display_data"
    },
    {
     "name": "stdout",
     "output_type": "stream",
     "text": [
      "CPU times: user 44min 35s, sys: 15.2 s, total: 44min 50s\n",
      "Wall time: 45min 57s\n"
     ]
    }
   ],
   "source": [
    "%%time\n",
    "\n",
    "tqdm.pandas()\n",
    "nlp = spacy.load('en_core_web_sm')\n",
    "\n",
    "def lemmatize_text(text):\n",
    "    doc = nlp(text)\n",
    "    lemm_text = \" \".join([token.lemma_ for token in doc])\n",
    "    cleared_text = re.sub(r'[^a-zA-Z]', ' ', lemm_text) \n",
    "    return \" \".join(cleared_text.split())\n",
    "\n",
    "data['lemm_text'] = data['text'].progress_apply(lemmatize_text)\n",
    "\n",
    "data = data.drop(['text'], axis=1)"
   ]
  },
  {
   "cell_type": "code",
   "execution_count": 11,
   "metadata": {},
   "outputs": [
    {
     "data": {
      "text/plain": [
       "152920    resonse to AniMate re Veronika Zemanova articl...\n",
       "145595    in keep with the Northern Ireland wikipedia pa...\n",
       "149993    hello Again Lee I already block you several ti...\n",
       "33029     none of those two book be quote how be I suppo...\n",
       "118071       thank thank for the barnstar talk contribution\n",
       "135909           for his good friend cheeeeeze belly Cheeze\n",
       "57956     please stop if you continue to vandalize page ...\n",
       "126374    your mother be suck my cock right now you lose...\n",
       "14179               perhaps he ll avoid those in the future\n",
       "105067    this smack of label critic as capitalism advoc...\n",
       "Name: lemm_text, dtype: object"
      ]
     },
     "execution_count": 11,
     "metadata": {},
     "output_type": "execute_result"
    }
   ],
   "source": [
    "data['lemm_text'].sample(10)"
   ]
  },
  {
   "cell_type": "markdown",
   "metadata": {},
   "source": [
    "### Проведём частотный анализ текста"
   ]
  },
  {
   "cell_type": "code",
   "execution_count": 12,
   "metadata": {},
   "outputs": [],
   "source": [
    "text_tokens = (data['lemm_text']).apply(word_tokenize)"
   ]
  },
  {
   "cell_type": "code",
   "execution_count": 13,
   "metadata": {},
   "outputs": [],
   "source": [
    "data = data.reset_index(drop=True)\n",
    "text_tokens = text_tokens.reset_index(drop=True)"
   ]
  },
  {
   "cell_type": "code",
   "execution_count": 14,
   "metadata": {},
   "outputs": [],
   "source": [
    "text_toxic = text_tokens.iloc[data.loc[data['toxic'] == 1].index]\n",
    "text_non_toxic = text_tokens.iloc[data.loc[data['toxic'] == 0].index]"
   ]
  },
  {
   "cell_type": "code",
   "execution_count": 15,
   "metadata": {},
   "outputs": [],
   "source": [
    "new_text_tocix = []\n",
    "\n",
    "for i in text_toxic:\n",
    "    for g in i:\n",
    "        new_text_tocix.append(g)\n",
    "\n",
    "new_text_non_toxic = []\n",
    "\n",
    "for i in text_non_toxic:\n",
    "    for g in i:\n",
    "        new_text_non_toxic.append(g)"
   ]
  },
  {
   "cell_type": "code",
   "execution_count": 16,
   "metadata": {},
   "outputs": [],
   "source": [
    "fdist_toxic = FreqDist(new_text_tocix)   \n",
    "fdist_non_toxic = FreqDist(new_text_non_toxic)   "
   ]
  },
  {
   "cell_type": "code",
   "execution_count": 17,
   "metadata": {},
   "outputs": [
    {
     "data": {
      "text/plain": [
       "[('be', 42568), ('you', 40187), ('I', 30463), ('the', 23048), ('a', 21969)]"
      ]
     },
     "execution_count": 17,
     "metadata": {},
     "output_type": "execute_result"
    }
   ],
   "source": [
    "fdist_toxic.most_common(5)"
   ]
  },
  {
   "cell_type": "code",
   "execution_count": 18,
   "metadata": {},
   "outputs": [
    {
     "data": {
      "text/plain": [
       "[('be', 483080),\n",
       " ('the', 472799),\n",
       " ('to', 279836),\n",
       " ('I', 244817),\n",
       " ('of', 211890)]"
      ]
     },
     "execution_count": 18,
     "metadata": {},
     "output_type": "execute_result"
    }
   ],
   "source": [
    "fdist_non_toxic.most_common(5)"
   ]
  },
  {
   "cell_type": "code",
   "execution_count": 19,
   "metadata": {
    "scrolled": true
   },
   "outputs": [
    {
     "data": {
      "image/png": "[encoded data removed]",
      "text/plain": [
       "<Figure size 504x360 with 1 Axes>"
      ]
     },
     "metadata": {},
     "output_type": "display_data"
    }
   ],
   "source": [
    "plt.figure(figsize=(7, 5))\n",
    "fdist_toxic.plot(30, cumulative=False)\n",
    "plt.show()"
   ]
  },
  {
   "cell_type": "code",
   "execution_count": 20,
   "metadata": {},
   "outputs": [
    {
     "data": {
      "image/png": "[encoded data removed]",
      "text/plain": [
       "<Figure size 504x360 with 1 Axes>"
      ]
     },
     "metadata": {},
     "output_type": "display_data"
    }
   ],
   "source": [
    "plt.figure(figsize=(7, 5))\n",
    "fdist_non_toxic.plot(30, cumulative=False)\n",
    "plt.show()"
   ]
  },
  {
   "cell_type": "markdown",
   "metadata": {},
   "source": [
    "### Проведём частотный анализ облака слов"
   ]
  },
  {
   "cell_type": "code",
   "execution_count": 21,
   "metadata": {},
   "outputs": [],
   "source": [
    "text_raw_toxic = \" \".join(data.loc[data['toxic'] == 1]['lemm_text'])\n",
    "text_raw_non_toxic = \" \".join(data.loc[data['toxic'] == 0]['lemm_text'])"
   ]
  },
  {
   "cell_type": "code",
   "execution_count": 22,
   "metadata": {},
   "outputs": [
    {
     "data": {
      "image/png": "[encoded data removed]",
      "text/plain": [
       "<Figure size 720x576 with 1 Axes>"
      ]
     },
     "metadata": {},
     "output_type": "display_data"
    }
   ],
   "source": [
    "wordcloud_toxic = WordCloud().generate(text_raw_toxic)\n",
    "\n",
    "plt.figure(figsize=(10, 8))\n",
    "plt.imshow(wordcloud_toxic, interpolation='bilinear')\n",
    "plt.axis(\"off\")\n",
    "plt.margins(x=0, y=0)\n",
    "plt.show()"
   ]
  },
  {
   "cell_type": "code",
   "execution_count": 23,
   "metadata": {},
   "outputs": [
    {
     "data": {
      "image/png": "[encoded data removed]",
      "text/plain": [
       "<Figure size 720x576 with 1 Axes>"
      ]
     },
     "metadata": {},
     "output_type": "display_data"
    }
   ],
   "source": [
    "wordcloud_non_toxic = WordCloud().generate(text_raw_non_toxic)\n",
    "\n",
    "plt.figure(figsize=(10, 8))\n",
    "plt.imshow(wordcloud_non_toxic, interpolation='bilinear')\n",
    "plt.axis(\"off\")\n",
    "plt.margins(x=0, y=0)\n",
    "plt.show()"
   ]
  },
  {
   "cell_type": "markdown",
   "metadata": {},
   "source": [
    "### Разделим на выборки"
   ]
  },
  {
   "cell_type": "code",
   "execution_count": 24,
   "metadata": {},
   "outputs": [],
   "source": [
    "target = data['toxic']\n",
    "features = data.drop(['toxic'], axis=1)\n",
    "\n",
    "features_train, features_test, target_train, target_test = train_test_split(features, \n",
    "                                                                              target, \n",
    "                                                                              test_size=0.25, \n",
    "                                                                              random_state=42,\n",
    "                                                                              shuffle=True,\n",
    "                                                                              stratify=target\n",
    "                                                                              )"
   ]
  },
  {
   "cell_type": "markdown",
   "metadata": {},
   "source": [
    "### Уберём ненужные слова из текста"
   ]
  },
  {
   "cell_type": "code",
   "execution_count": 25,
   "metadata": {},
   "outputs": [],
   "source": [
    "nltk.download('stopwords')\n",
    "stopwords = set(nltk_stopwords.words('english'))\n",
    "\n",
    "count_tf_idf = TfidfVectorizer(stop_words=stopwords)\n",
    "\n",
    "features_train = count_tf_idf.fit_transform(features_train['lemm_text'])\n",
    "features_test = count_tf_idf.transform(features_test['lemm_text'])"
   ]
  },
  {
   "cell_type": "markdown",
   "metadata": {},
   "source": [
    "**Вывод**\n",
    "\n",
    "В ходе преподготовки были получены признаки для обучения и разделена выборка на обучающую и тестовую."
   ]
  },
  {
   "cell_type": "markdown",
   "metadata": {},
   "source": [
    "## Обучение"
   ]
  },
  {
   "cell_type": "markdown",
   "metadata": {},
   "source": [
    "### LogisticRegression"
   ]
  },
  {
   "cell_type": "code",
   "execution_count": 28,
   "metadata": {},
   "outputs": [],
   "source": [
    "random.seed(42)"
   ]
  },
  {
   "cell_type": "code",
   "execution_count": null,
   "metadata": {},
   "outputs": [],
   "source": [
    "%%time\n",
    "\n",
    "params = {'model__solver':['newton-cg', 'lbfgs', 'liblinear'],\n",
    "          'model__C':[0.1, 1, 10],\n",
    "          'model__class_weight':['balanced', None]}\n",
    "\n",
    "pipeline = Pipeline([\n",
    "    ('vect', CountVectorizer(ngram_range=(1,4))),\n",
    "    ('tfidf', TfidfTransformer()),\n",
    "    ('model',LogisticRegression())])\n",
    "\n",
    "grid = GridSearchCV(pipeline, cv=5, n_jobs=-1, param_grid=params, scoring='f1')\n",
    "grid.fit(features_train['lemm_text'], target_train)\n",
    "grid.score(features_test, target_test)"
   ]
  },
  {
   "cell_type": "code",
   "execution_count": null,
   "metadata": {},
   "outputs": [],
   "source": [
    "%%time\n",
    "\n",
    "class_ratio = data['toxic'].value_counts()[0] / data['toxic'].value_counts()[1]\n",
    "dict_classes={0:1, 1:class_ratio}\n",
    "\n",
    "classificator = LogisticRegression()\n",
    "hyperparams = [{'solver':['newton-cg', 'lbfgs', 'liblinear'],\n",
    "                'C':[0.1, 1, 10],\n",
    "                'class_weight':[dict_classes],\n",
    "                'random_state':[42]}]\n",
    "\n",
    "\n",
    "print('# Tuning hyper-parameters for f1_score')\n",
    "print()\n",
    "clf = GridSearchCV(classificator, hyperparams, scoring='f1', cv=3)\n",
    "clf.fit(features_train, target_train)\n",
    "print(\"Best parameters set found on development set:\")\n",
    "print()\n",
    "LR_best_params = clf.best_params_\n",
    "print(LR_best_params)\n",
    "print()\n",
    "print(\"Grid scores on development set:\")\n",
    "print()\n",
    "means = clf.cv_results_['mean_test_score']\n",
    "stds = clf.cv_results_['std_test_score']\n",
    "for mean, std, params in zip(means, stds, clf.cv_results_['params']):\n",
    "    print(\"%0.6f for %r\"% (mean, params))\n",
    "print()\n",
    "\n",
    "cv_f1_LR = max(means)\n",
    "\n",
    "print(f'Best F1 - {cv_f1_LR}')"
   ]
  },
  {
   "cell_type": "code",
   "execution_count": null,
   "metadata": {},
   "outputs": [],
   "source": [
    "classificator = LogisticRegression()\n",
    "classificator.set_params(**LR_best_params)\n",
    "classificator.fit(features_train, target_train)\n",
    "target_predict = classificator.predict(features_valid)\n",
    "valid_f1_LR = f1_score(target_valid, target_predict)\n",
    "print('F1 на cv', cv_f1_LR)\n",
    "print('F1 на валидации', valid_f1_LR)"
   ]
  },
  {
   "cell_type": "markdown",
   "metadata": {},
   "source": [
    "### DecisionTreeClassifier"
   ]
  },
  {
   "cell_type": "code",
   "execution_count": null,
   "metadata": {},
   "outputs": [],
   "source": [
    "%%time\n",
    "\n",
    "classificator = DecisionTreeClassifier()\n",
    "hyperparams = [{'max_depth':[x for x in range(50,100,2)],\n",
    "                'random_state':[42],\n",
    "                'class_weight':[dict_classes]}]\n",
    "\n",
    "\n",
    "print('# Tuning hyper-parameters for f1_score')\n",
    "print()\n",
    "clf = GridSearchCV(classificator, hyperparams, scoring='f1',cv=3)\n",
    "clf.fit(features_train, target_train)\n",
    "print(\"Best parameters set found on development set:\")\n",
    "print()\n",
    "DTC_best_params = clf.best_params_\n",
    "print(DTC_best_params)\n",
    "print()\n",
    "print(\"Grid scores on development set:\")\n",
    "print()\n",
    "means = clf.cv_results_['mean_test_score']\n",
    "stds = clf.cv_results_['std_test_score']\n",
    "for mean, std, params in zip(means, stds, clf.cv_results_['params']):\n",
    "    print(\"%0.6f for %r\"% (mean, params))\n",
    "print()\n",
    "\n",
    "cv_f1_DTC = max(means)\n",
    "\n",
    "print(f'Best F1 - {cv_f1_DTC}')"
   ]
  },
  {
   "cell_type": "code",
   "execution_count": null,
   "metadata": {},
   "outputs": [],
   "source": [
    "classificator = DecisionTreeClassifier()\n",
    "classificator.set_params(**DTC_best_params)\n",
    "classificator.fit(features_train, target_train)\n",
    "target_predict = classificator.predict(features_valid)\n",
    "valid_f1_DTC = f1_score(target_valid, target_predict)\n",
    "print('F1 на cv', cv_f1_DTC)\n",
    "print('F1 на валидации', valid_f1_DTC)"
   ]
  },
  {
   "cell_type": "markdown",
   "metadata": {},
   "source": [
    "### SGDClassifier"
   ]
  },
  {
   "cell_type": "code",
   "execution_count": null,
   "metadata": {},
   "outputs": [],
   "source": [
    "%%time\n",
    "\n",
    "classificator = SGDClassifier()\n",
    "hyperparams = [{'loss':['hinge', 'log', 'modified_huber'],\n",
    "                'learning_rate':['constant', 'optimal', 'invscaling', 'adaptive'],\n",
    "                'eta0':[0.01, 0.05, 0.1, 0.2, 0.3, 0.5],\n",
    "                'random_state':[42],\n",
    "                'class_weight':[dict_classes]}]\n",
    "\n",
    "\n",
    "print('# Tuning hyper-parameters for f1_score')\n",
    "print()\n",
    "clf = GridSearchCV(classificator, hyperparams, scoring='f1',cv=3)\n",
    "clf.fit(features_train, target_train)\n",
    "print(\"Best parameters set found on development set:\")\n",
    "print()\n",
    "SGDC_best_params = clf.best_params_\n",
    "print(SGDC_best_params)\n",
    "print()\n",
    "print(\"Grid scores on development set:\")\n",
    "print()\n",
    "means = clf.cv_results_['mean_test_score']\n",
    "stds = clf.cv_results_['std_test_score']\n",
    "for mean, std, params in zip(means, stds, clf.cv_results_['params']):\n",
    "    print(\"%0.6f for %r\"% (mean, params))\n",
    "print()\n",
    "\n",
    "cv_f1_SGDC = max(means)\n",
    "\n",
    "print(f'Best F1 - {cv_f1_SGDC}')"
   ]
  },
  {
   "cell_type": "code",
   "execution_count": null,
   "metadata": {},
   "outputs": [],
   "source": [
    "classificator = SGDClassifier()\n",
    "classificator.set_params(**SGDC_best_params)\n",
    "classificator.fit(features_train, target_train)\n",
    "target_predict = classificator.predict(features_valid)\n",
    "valid_f1_SGDC = f1_score(target_valid, target_predict)\n",
    "print('F1 на cv', cv_f1_SGDC)\n",
    "print('F1 на валидации', valid_f1_SGDC)"
   ]
  },
  {
   "cell_type": "markdown",
   "metadata": {},
   "source": [
    "### Создадим таблицу результатов"
   ]
  },
  {
   "cell_type": "code",
   "execution_count": null,
   "metadata": {},
   "outputs": [],
   "source": [
    "index = ['LogisticRegression',\n",
    "         'DecisionTreeClassifier',\n",
    "         'SGDClassifier']\n",
    "data = {'F1 на CV':[cv_f1_LR,\n",
    "                    cv_f1_DTC,\n",
    "                    cv_f1_SGDC],\n",
    "        'F1 на валидации':[valid_f1_LR,\n",
    "                           valid_f1_DTC,\n",
    "                           valid_f1_SGDC]}\n",
    "\n",
    "scores_data = pd.DataFrame(data=data, index=index)\n",
    "scores_data['Выполнение задачи'] = scores_data['F1 на валидации'] > 0.75\n",
    "scores_data"
   ]
  },
  {
   "cell_type": "markdown",
   "metadata": {},
   "source": [
    "**Вывод**\n",
    "\n",
    "Из данных таблицу видно, что лучшими моделями являются LogisticRegression и SGDClassifier. Их мы и будем использовать на тестовой выборке"
   ]
  },
  {
   "cell_type": "markdown",
   "metadata": {},
   "source": [
    "## Выводы"
   ]
  },
  {
   "cell_type": "markdown",
   "metadata": {},
   "source": [
    "### LogisticRegression"
   ]
  },
  {
   "cell_type": "code",
   "execution_count": null,
   "metadata": {},
   "outputs": [],
   "source": [
    "model_lr = LogisticRegression(C=10, class_weight={0: 1, 1: 8.841344371679229}, solver='lbfgs')\n",
    "model_lr.fit(features_train, target_train)\n",
    "prediction_lr = model_lr.predict(features_test)\n",
    "f1_lr = f1_score(target_test, prediction_lr)\n",
    "print(f'Метрика F1 модели LogisticRegression на тренировочной выборке - {f1_lr}')"
   ]
  },
  {
   "cell_type": "markdown",
   "metadata": {},
   "source": [
    "### SGDClassifier"
   ]
  },
  {
   "cell_type": "code",
   "execution_count": null,
   "metadata": {
    "scrolled": true
   },
   "outputs": [],
   "source": [
    "model_sgd = SGDClassifier(class_weight={0: 1, 1: 8.841344371679229}, eta0=0.1, learning_rate='adaptive', loss='modified_huber', random_state=42)\n",
    "model_sgd.fit(features_train, target_train)\n",
    "prediction_sgd = model_sgd.predict(features_test)\n",
    "f1_sgd = f1_score(target_test, prediction_sgd)\n",
    "print(f'Метрика F1 модели SGDClassifier на тренировочной выборке - {f1_sgd}')"
   ]
  },
  {
   "cell_type": "markdown",
   "metadata": {},
   "source": [
    "### Вывод"
   ]
  },
  {
   "cell_type": "markdown",
   "metadata": {},
   "source": [
    "**Вывод**\n",
    "\n",
    "Было прделано:\n",
    "\n",
    "- Данные и библиотеки загружены.\n",
    "- Данные подготовлены.\n",
    "- Сформированы обучающая, валидационная и тестовая выборка.\n",
    "- Обучены модели и выбраны лучшии из них на валидационной выборке.\n",
    "- Лучшии модели протестированны на тестовой выборке\n",
    "\n",
    "Лучшей моделью оказалась LogisticRegression c показателем F1 - 0.754"
   ]
  }
 ],
 "metadata": {
  "ExecuteTimeLog": [
   {
    "duration": 420,
    "start_time": "2023-02-28T10:15:48.950Z"
   },
   {
    "duration": 65,
    "start_time": "2023-02-28T10:16:29.095Z"
   },
   {
    "duration": 2,
    "start_time": "2023-02-28T10:16:31.625Z"
   },
   {
    "duration": 3273,
    "start_time": "2023-02-28T10:16:32.673Z"
   },
   {
    "duration": 4267,
    "start_time": "2023-02-28T10:17:34.994Z"
   },
   {
    "duration": 415,
    "start_time": "2023-02-28T10:20:20.244Z"
   },
   {
    "duration": 3857,
    "start_time": "2023-02-28T10:20:20.660Z"
   },
   {
    "duration": 16,
    "start_time": "2023-02-28T10:21:31.686Z"
   },
   {
    "duration": 1352,
    "start_time": "2023-02-28T10:33:32.480Z"
   },
   {
    "duration": 51,
    "start_time": "2023-03-02T05:40:24.108Z"
   },
   {
    "duration": 1817,
    "start_time": "2023-03-02T05:40:25.445Z"
   },
   {
    "duration": 3339,
    "start_time": "2023-03-02T05:40:27.264Z"
   },
   {
    "duration": 11,
    "start_time": "2023-03-02T05:40:34.963Z"
   },
   {
    "duration": 28,
    "start_time": "2023-03-02T05:41:16.640Z"
   },
   {
    "duration": 19,
    "start_time": "2023-03-02T05:41:25.323Z"
   },
   {
    "duration": 98,
    "start_time": "2023-03-02T05:42:45.122Z"
   },
   {
    "duration": 12952,
    "start_time": "2023-03-02T05:42:55.401Z"
   },
   {
    "duration": 669,
    "start_time": "2023-03-02T05:43:08.355Z"
   },
   {
    "duration": 28906,
    "start_time": "2023-03-02T05:43:19.455Z"
   },
   {
    "duration": 84,
    "start_time": "2023-03-02T05:53:49.607Z"
   },
   {
    "duration": 6692,
    "start_time": "2023-03-02T05:54:27.044Z"
   },
   {
    "duration": 50,
    "start_time": "2023-03-02T05:59:08.195Z"
   },
   {
    "duration": 4,
    "start_time": "2023-03-02T05:59:17.413Z"
   },
   {
    "duration": 2844,
    "start_time": "2023-03-02T05:59:17.419Z"
   },
   {
    "duration": 3308,
    "start_time": "2023-03-02T05:59:20.265Z"
   },
   {
    "duration": 12,
    "start_time": "2023-03-02T05:59:23.576Z"
   },
   {
    "duration": 26,
    "start_time": "2023-03-02T05:59:23.589Z"
   },
   {
    "duration": 19,
    "start_time": "2023-03-02T05:59:23.617Z"
   },
   {
    "duration": 3,
    "start_time": "2023-03-02T05:59:46.523Z"
   },
   {
    "duration": 2149,
    "start_time": "2023-03-02T05:59:46.529Z"
   },
   {
    "duration": 801,
    "start_time": "2023-03-02T05:59:48.680Z"
   },
   {
    "duration": 11,
    "start_time": "2023-03-02T05:59:49.485Z"
   },
   {
    "duration": 27,
    "start_time": "2023-03-02T05:59:49.497Z"
   },
   {
    "duration": 28,
    "start_time": "2023-03-02T05:59:49.526Z"
   },
   {
    "duration": 3,
    "start_time": "2023-03-02T05:59:49.556Z"
   },
   {
    "duration": 6824,
    "start_time": "2023-03-02T05:59:49.560Z"
   },
   {
    "duration": 10128,
    "start_time": "2023-03-02T05:59:56.386Z"
   },
   {
    "duration": 248,
    "start_time": "2023-03-02T06:00:06.517Z"
   },
   {
    "duration": 0,
    "start_time": "2023-03-02T06:00:06.766Z"
   },
   {
    "duration": 0,
    "start_time": "2023-03-02T06:00:06.768Z"
   },
   {
    "duration": 4,
    "start_time": "2023-03-02T06:02:48.987Z"
   },
   {
    "duration": 15,
    "start_time": "2023-03-02T06:03:00.496Z"
   },
   {
    "duration": 4,
    "start_time": "2023-03-02T06:03:13.909Z"
   },
   {
    "duration": 2296,
    "start_time": "2023-03-02T06:03:13.914Z"
   },
   {
    "duration": 837,
    "start_time": "2023-03-02T06:03:16.211Z"
   },
   {
    "duration": 10,
    "start_time": "2023-03-02T06:03:17.050Z"
   },
   {
    "duration": 32,
    "start_time": "2023-03-02T06:03:17.062Z"
   },
   {
    "duration": 21,
    "start_time": "2023-03-02T06:03:17.095Z"
   },
   {
    "duration": 2,
    "start_time": "2023-03-02T06:03:17.117Z"
   },
   {
    "duration": 6743,
    "start_time": "2023-03-02T06:03:17.121Z"
   },
   {
    "duration": 38,
    "start_time": "2023-03-02T06:03:23.865Z"
   },
   {
    "duration": 10162,
    "start_time": "2023-03-02T06:03:23.905Z"
   },
   {
    "duration": 4,
    "start_time": "2023-03-02T06:04:18.553Z"
   },
   {
    "duration": 234,
    "start_time": "2023-03-02T06:21:03.827Z"
   },
   {
    "duration": 15,
    "start_time": "2023-03-02T06:21:33.814Z"
   },
   {
    "duration": 15,
    "start_time": "2023-03-02T06:22:02.654Z"
   },
   {
    "duration": 20,
    "start_time": "2023-03-02T06:22:09.923Z"
   },
   {
    "duration": 379155,
    "start_time": "2023-03-02T06:22:23.669Z"
   },
   {
    "duration": 496073,
    "start_time": "2023-03-02T06:35:56.718Z"
   },
   {
    "duration": 4,
    "start_time": "2023-03-02T07:04:51.737Z"
   },
   {
    "duration": 4,
    "start_time": "2023-03-02T07:05:02.232Z"
   },
   {
    "duration": 4,
    "start_time": "2023-03-02T07:05:07.881Z"
   },
   {
    "duration": 37636,
    "start_time": "2023-03-02T07:12:01.153Z"
   },
   {
    "duration": 16,
    "start_time": "2023-03-02T07:17:07.226Z"
   },
   {
    "duration": 2179877,
    "start_time": "2023-03-02T07:17:41.168Z"
   },
   {
    "duration": 46981,
    "start_time": "2023-03-02T07:54:01.047Z"
   },
   {
    "duration": 85,
    "start_time": "2023-03-02T08:00:12.805Z"
   },
   {
    "duration": 157029,
    "start_time": "2023-03-02T08:00:18.027Z"
   },
   {
    "duration": 1309,
    "start_time": "2023-03-02T08:05:40.376Z"
   },
   {
    "duration": 17,
    "start_time": "2023-03-02T09:16:08.615Z"
   },
   {
    "duration": 18,
    "start_time": "2023-03-02T09:16:30.829Z"
   },
   {
    "duration": 17,
    "start_time": "2023-03-02T09:22:41.163Z"
   },
   {
    "duration": 46067,
    "start_time": "2023-03-02T09:23:11.227Z"
   },
   {
    "duration": 26865,
    "start_time": "2023-03-02T09:24:09.931Z"
   },
   {
    "duration": 0,
    "start_time": "2023-03-02T09:24:36.801Z"
   },
   {
    "duration": 45989,
    "start_time": "2023-03-02T09:24:38.816Z"
   },
   {
    "duration": 1443,
    "start_time": "2023-03-02T09:26:22.815Z"
   },
   {
    "duration": 45661,
    "start_time": "2023-03-02T09:27:33.146Z"
   },
   {
    "duration": 1489,
    "start_time": "2023-03-02T09:28:18.809Z"
   },
   {
    "duration": 742,
    "start_time": "2023-03-02T09:29:17.977Z"
   },
   {
    "duration": 141,
    "start_time": "2023-03-02T09:32:05.101Z"
   },
   {
    "duration": 2495,
    "start_time": "2023-03-02T09:32:16.011Z"
   },
   {
    "duration": 56,
    "start_time": "2023-03-02T09:34:15.904Z"
   },
   {
    "duration": 38,
    "start_time": "2023-03-02T09:34:42.782Z"
   },
   {
    "duration": 55,
    "start_time": "2023-03-02T09:34:51.014Z"
   },
   {
    "duration": 1438,
    "start_time": "2023-03-02T09:39:32.277Z"
   },
   {
    "duration": 45798,
    "start_time": "2023-03-02T09:40:23.535Z"
   },
   {
    "duration": 1517,
    "start_time": "2023-03-02T09:41:09.335Z"
   },
   {
    "duration": 59,
    "start_time": "2023-03-05T03:45:04.442Z"
   },
   {
    "duration": 10,
    "start_time": "2023-03-05T03:45:30.990Z"
   },
   {
    "duration": 16428,
    "start_time": "2023-03-05T03:45:47.597Z"
   },
   {
    "duration": 2713,
    "start_time": "2023-03-05T03:46:04.027Z"
   },
   {
    "duration": 2638,
    "start_time": "2023-03-05T03:46:06.741Z"
   },
   {
    "duration": 12,
    "start_time": "2023-03-05T03:46:09.381Z"
   },
   {
    "duration": 39,
    "start_time": "2023-03-05T03:46:09.394Z"
   },
   {
    "duration": 29,
    "start_time": "2023-03-05T03:46:09.435Z"
   },
   {
    "duration": 3,
    "start_time": "2023-03-05T03:46:09.467Z"
   },
   {
    "duration": 344,
    "start_time": "2023-03-05T03:46:09.472Z"
   },
   {
    "duration": 0,
    "start_time": "2023-03-05T03:46:09.818Z"
   },
   {
    "duration": 0,
    "start_time": "2023-03-05T03:46:09.820Z"
   },
   {
    "duration": 0,
    "start_time": "2023-03-05T03:46:09.821Z"
   },
   {
    "duration": 0,
    "start_time": "2023-03-05T03:46:09.822Z"
   },
   {
    "duration": 0,
    "start_time": "2023-03-05T03:46:09.824Z"
   },
   {
    "duration": 0,
    "start_time": "2023-03-05T03:46:09.825Z"
   },
   {
    "duration": 0,
    "start_time": "2023-03-05T03:46:09.826Z"
   },
   {
    "duration": 0,
    "start_time": "2023-03-05T03:46:09.827Z"
   },
   {
    "duration": 0,
    "start_time": "2023-03-05T03:46:09.848Z"
   },
   {
    "duration": 0,
    "start_time": "2023-03-05T03:46:09.849Z"
   },
   {
    "duration": 0,
    "start_time": "2023-03-05T03:46:09.850Z"
   },
   {
    "duration": 0,
    "start_time": "2023-03-05T03:46:09.851Z"
   },
   {
    "duration": 0,
    "start_time": "2023-03-05T03:46:09.852Z"
   },
   {
    "duration": 5,
    "start_time": "2023-03-05T03:46:33.476Z"
   },
   {
    "duration": 111,
    "start_time": "2023-03-05T03:46:36.321Z"
   },
   {
    "duration": 10,
    "start_time": "2023-03-05T03:49:36.532Z"
   },
   {
    "duration": 11,
    "start_time": "2023-03-05T03:49:41.715Z"
   },
   {
    "duration": 8023,
    "start_time": "2023-03-05T03:58:58.583Z"
   },
   {
    "duration": 10,
    "start_time": "2023-03-05T03:59:06.608Z"
   },
   {
    "duration": 2790,
    "start_time": "2023-03-05T04:02:16.572Z"
   },
   {
    "duration": 59,
    "start_time": "2023-03-05T04:02:47.030Z"
   },
   {
    "duration": 26,
    "start_time": "2023-03-05T04:02:55.730Z"
   },
   {
    "duration": 2922,
    "start_time": "2023-03-05T04:03:03.386Z"
   },
   {
    "duration": 294,
    "start_time": "2023-03-05T04:03:10.566Z"
   },
   {
    "duration": 552,
    "start_time": "2023-03-05T04:03:33.605Z"
   },
   {
    "duration": 1553,
    "start_time": "2023-03-05T04:05:32.788Z"
   },
   {
    "duration": 2882,
    "start_time": "2023-03-05T04:05:49.618Z"
   },
   {
    "duration": 2630,
    "start_time": "2023-03-05T04:05:52.503Z"
   },
   {
    "duration": 977,
    "start_time": "2023-03-05T04:05:55.135Z"
   },
   {
    "duration": 14,
    "start_time": "2023-03-05T04:05:56.114Z"
   },
   {
    "duration": 51,
    "start_time": "2023-03-05T04:05:56.129Z"
   },
   {
    "duration": 16,
    "start_time": "2023-03-05T04:05:56.182Z"
   },
   {
    "duration": 3,
    "start_time": "2023-03-05T04:05:56.200Z"
   },
   {
    "duration": 173,
    "start_time": "2023-03-05T04:05:56.204Z"
   },
   {
    "duration": 2916,
    "start_time": "2023-03-05T04:05:56.379Z"
   },
   {
    "duration": 1020,
    "start_time": "2023-03-05T04:05:59.297Z"
   },
   {
    "duration": 0,
    "start_time": "2023-03-05T04:06:00.318Z"
   },
   {
    "duration": 0,
    "start_time": "2023-03-05T04:06:00.320Z"
   },
   {
    "duration": 0,
    "start_time": "2023-03-05T04:06:00.321Z"
   },
   {
    "duration": 0,
    "start_time": "2023-03-05T04:06:00.322Z"
   },
   {
    "duration": 0,
    "start_time": "2023-03-05T04:06:00.324Z"
   },
   {
    "duration": 0,
    "start_time": "2023-03-05T04:06:00.325Z"
   },
   {
    "duration": 0,
    "start_time": "2023-03-05T04:06:00.326Z"
   },
   {
    "duration": 0,
    "start_time": "2023-03-05T04:06:00.327Z"
   },
   {
    "duration": 0,
    "start_time": "2023-03-05T04:06:00.328Z"
   },
   {
    "duration": 0,
    "start_time": "2023-03-05T04:06:00.329Z"
   },
   {
    "duration": 0,
    "start_time": "2023-03-05T04:06:00.357Z"
   },
   {
    "duration": 0,
    "start_time": "2023-03-05T04:06:00.366Z"
   },
   {
    "duration": 0,
    "start_time": "2023-03-05T04:06:00.367Z"
   },
   {
    "duration": 1,
    "start_time": "2023-03-05T04:06:00.367Z"
   },
   {
    "duration": 567,
    "start_time": "2023-03-05T04:06:37.217Z"
   },
   {
    "duration": 550,
    "start_time": "2023-03-05T04:16:13.029Z"
   },
   {
    "duration": 564,
    "start_time": "2023-03-05T04:16:28.270Z"
   },
   {
    "duration": 544,
    "start_time": "2023-03-05T04:16:54.714Z"
   },
   {
    "duration": 797,
    "start_time": "2023-03-05T04:17:08.099Z"
   },
   {
    "duration": 89,
    "start_time": "2023-03-05T04:17:44.600Z"
   },
   {
    "duration": 514,
    "start_time": "2023-03-05T04:17:57.017Z"
   },
   {
    "duration": 6624,
    "start_time": "2023-03-05T04:23:03.725Z"
   },
   {
    "duration": 26,
    "start_time": "2023-03-05T04:23:10.356Z"
   },
   {
    "duration": 4,
    "start_time": "2023-03-05T04:23:48.535Z"
   },
   {
    "duration": 5597,
    "start_time": "2023-03-05T04:23:48.541Z"
   },
   {
    "duration": 960,
    "start_time": "2023-03-05T04:23:54.140Z"
   },
   {
    "duration": 16,
    "start_time": "2023-03-05T04:23:55.102Z"
   },
   {
    "duration": 50,
    "start_time": "2023-03-05T04:23:55.120Z"
   },
   {
    "duration": 20,
    "start_time": "2023-03-05T04:23:55.172Z"
   },
   {
    "duration": 2,
    "start_time": "2023-03-05T04:23:55.194Z"
   },
   {
    "duration": 166,
    "start_time": "2023-03-05T04:23:55.198Z"
   },
   {
    "duration": 1311,
    "start_time": "2023-03-05T04:23:55.366Z"
   },
   {
    "duration": 0,
    "start_time": "2023-03-05T04:23:56.679Z"
   },
   {
    "duration": 0,
    "start_time": "2023-03-05T04:23:56.680Z"
   },
   {
    "duration": 0,
    "start_time": "2023-03-05T04:23:56.681Z"
   },
   {
    "duration": 0,
    "start_time": "2023-03-05T04:23:56.681Z"
   },
   {
    "duration": 0,
    "start_time": "2023-03-05T04:23:56.683Z"
   },
   {
    "duration": 0,
    "start_time": "2023-03-05T04:23:56.684Z"
   },
   {
    "duration": 0,
    "start_time": "2023-03-05T04:23:56.685Z"
   },
   {
    "duration": 0,
    "start_time": "2023-03-05T04:23:56.686Z"
   },
   {
    "duration": 0,
    "start_time": "2023-03-05T04:23:56.687Z"
   },
   {
    "duration": 0,
    "start_time": "2023-03-05T04:23:56.688Z"
   },
   {
    "duration": 0,
    "start_time": "2023-03-05T04:23:56.689Z"
   },
   {
    "duration": 0,
    "start_time": "2023-03-05T04:23:56.690Z"
   },
   {
    "duration": 0,
    "start_time": "2023-03-05T04:23:56.691Z"
   },
   {
    "duration": 830,
    "start_time": "2023-03-05T04:24:59.740Z"
   },
   {
    "duration": 799,
    "start_time": "2023-03-05T04:25:27.189Z"
   },
   {
    "duration": 837,
    "start_time": "2023-03-05T04:28:20.069Z"
   },
   {
    "duration": 1218,
    "start_time": "2023-03-05T04:28:36.921Z"
   },
   {
    "duration": 0,
    "start_time": "2023-03-05T04:33:25.220Z"
   },
   {
    "duration": 0,
    "start_time": "2023-03-05T04:33:25.222Z"
   },
   {
    "duration": 517,
    "start_time": "2023-03-05T04:33:27.583Z"
   },
   {
    "duration": 4,
    "start_time": "2023-03-05T04:33:40.889Z"
   },
   {
    "duration": 0,
    "start_time": "2023-03-05T04:34:55.229Z"
   },
   {
    "duration": 46135,
    "start_time": "2023-03-05T04:34:58.375Z"
   },
   {
    "duration": 658,
    "start_time": "2023-03-05T04:35:45.478Z"
   },
   {
    "duration": 3,
    "start_time": "2023-03-05T04:35:51.690Z"
   },
   {
    "duration": 636,
    "start_time": "2023-03-05T04:35:52.613Z"
   },
   {
    "duration": 38,
    "start_time": "2023-03-05T04:37:05.633Z"
   },
   {
    "duration": 4935,
    "start_time": "2023-03-05T04:37:21.937Z"
   },
   {
    "duration": 35,
    "start_time": "2023-03-05T04:38:32.273Z"
   },
   {
    "duration": 11525,
    "start_time": "2023-03-05T04:38:34.815Z"
   },
   {
    "duration": 834,
    "start_time": "2023-03-05T04:38:49.871Z"
   },
   {
    "duration": 590,
    "start_time": "2023-03-05T04:38:55.475Z"
   },
   {
    "duration": 921,
    "start_time": "2023-03-05T04:38:58.709Z"
   },
   {
    "duration": 573,
    "start_time": "2023-03-05T04:39:29.177Z"
   },
   {
    "duration": 3,
    "start_time": "2023-03-05T04:39:44.487Z"
   },
   {
    "duration": 5635,
    "start_time": "2023-03-05T04:39:44.492Z"
   },
   {
    "duration": 1011,
    "start_time": "2023-03-05T04:39:50.129Z"
   },
   {
    "duration": 24,
    "start_time": "2023-03-05T04:39:51.141Z"
   },
   {
    "duration": 38,
    "start_time": "2023-03-05T04:39:51.169Z"
   },
   {
    "duration": 16,
    "start_time": "2023-03-05T04:39:51.209Z"
   },
   {
    "duration": 2,
    "start_time": "2023-03-05T04:39:51.226Z"
   },
   {
    "duration": 156,
    "start_time": "2023-03-05T04:39:51.250Z"
   },
   {
    "duration": 3,
    "start_time": "2023-03-05T04:39:51.408Z"
   },
   {
    "duration": 1141,
    "start_time": "2023-03-05T04:39:51.413Z"
   },
   {
    "duration": 1012,
    "start_time": "2023-03-05T04:39:52.560Z"
   },
   {
    "duration": 0,
    "start_time": "2023-03-05T04:39:53.574Z"
   },
   {
    "duration": 0,
    "start_time": "2023-03-05T04:39:53.575Z"
   },
   {
    "duration": 0,
    "start_time": "2023-03-05T04:39:53.576Z"
   },
   {
    "duration": 0,
    "start_time": "2023-03-05T04:39:53.577Z"
   },
   {
    "duration": 0,
    "start_time": "2023-03-05T04:39:53.578Z"
   },
   {
    "duration": 0,
    "start_time": "2023-03-05T04:39:53.579Z"
   },
   {
    "duration": 0,
    "start_time": "2023-03-05T04:39:53.580Z"
   },
   {
    "duration": 0,
    "start_time": "2023-03-05T04:39:53.581Z"
   },
   {
    "duration": 0,
    "start_time": "2023-03-05T04:39:53.582Z"
   },
   {
    "duration": 0,
    "start_time": "2023-03-05T04:39:53.583Z"
   },
   {
    "duration": 0,
    "start_time": "2023-03-05T04:39:53.584Z"
   },
   {
    "duration": 3162125,
    "start_time": "2023-03-05T04:43:50.705Z"
   },
   {
    "duration": 20,
    "start_time": "2023-03-05T05:36:32.832Z"
   },
   {
    "duration": 5,
    "start_time": "2023-03-05T05:37:46.730Z"
   },
   {
    "duration": 11,
    "start_time": "2023-03-05T05:38:13.000Z"
   },
   {
    "duration": 19,
    "start_time": "2023-03-05T05:38:27.457Z"
   },
   {
    "duration": 82,
    "start_time": "2023-03-05T05:44:36.869Z"
   },
   {
    "duration": 73,
    "start_time": "2023-03-05T05:44:39.870Z"
   },
   {
    "duration": 86,
    "start_time": "2023-03-05T05:45:20.649Z"
   },
   {
    "duration": 135,
    "start_time": "2023-03-05T05:45:29.340Z"
   },
   {
    "duration": 123,
    "start_time": "2023-03-05T05:45:47.472Z"
   },
   {
    "duration": 170,
    "start_time": "2023-03-05T05:46:59.346Z"
   },
   {
    "duration": 69,
    "start_time": "2023-03-05T05:48:18.321Z"
   },
   {
    "duration": 66,
    "start_time": "2023-03-05T05:48:24.541Z"
   },
   {
    "duration": 57,
    "start_time": "2023-03-05T05:48:29.015Z"
   },
   {
    "duration": 49,
    "start_time": "2023-03-05T05:48:34.280Z"
   },
   {
    "duration": 49,
    "start_time": "2023-03-05T05:49:27.969Z"
   },
   {
    "duration": 138,
    "start_time": "2023-03-05T05:49:46.294Z"
   },
   {
    "duration": 75,
    "start_time": "2023-03-05T05:49:50.098Z"
   },
   {
    "duration": 7773,
    "start_time": "2023-03-05T05:50:06.578Z"
   },
   {
    "duration": 23,
    "start_time": "2023-03-05T06:09:56.871Z"
   },
   {
    "duration": 166,
    "start_time": "2023-03-05T06:10:36.567Z"
   },
   {
    "duration": 41,
    "start_time": "2023-03-05T06:10:39.825Z"
   },
   {
    "duration": 799,
    "start_time": "2023-03-05T06:11:29.787Z"
   },
   {
    "duration": 42,
    "start_time": "2023-03-05T06:11:45.530Z"
   },
   {
    "duration": 642,
    "start_time": "2023-03-05T06:13:58.299Z"
   },
   {
    "duration": 27,
    "start_time": "2023-03-05T06:30:44.159Z"
   },
   {
    "duration": 27,
    "start_time": "2023-03-05T06:30:47.279Z"
   },
   {
    "duration": 10,
    "start_time": "2023-03-05T06:32:30.112Z"
   },
   {
    "duration": 10,
    "start_time": "2023-03-05T06:32:50.815Z"
   },
   {
    "duration": 13,
    "start_time": "2023-03-05T06:33:01.563Z"
   },
   {
    "duration": 11,
    "start_time": "2023-03-05T06:33:08.987Z"
   },
   {
    "duration": 9,
    "start_time": "2023-03-05T06:33:55.753Z"
   },
   {
    "duration": 23,
    "start_time": "2023-03-05T06:34:16.628Z"
   },
   {
    "duration": 15,
    "start_time": "2023-03-05T06:34:19.760Z"
   },
   {
    "duration": 9,
    "start_time": "2023-03-05T06:34:27.256Z"
   },
   {
    "duration": 9,
    "start_time": "2023-03-05T06:34:41.375Z"
   },
   {
    "duration": 132,
    "start_time": "2023-03-05T06:34:57.074Z"
   },
   {
    "duration": 37,
    "start_time": "2023-03-05T06:34:59.018Z"
   },
   {
    "duration": 8,
    "start_time": "2023-03-05T06:35:06.372Z"
   },
   {
    "duration": 33,
    "start_time": "2023-03-05T06:35:16.918Z"
   },
   {
    "duration": 0,
    "start_time": "2023-03-05T06:36:04.211Z"
   },
   {
    "duration": 1430,
    "start_time": "2023-03-05T06:36:05.505Z"
   },
   {
    "duration": 1459,
    "start_time": "2023-03-05T06:37:01.011Z"
   },
   {
    "duration": 1431,
    "start_time": "2023-03-05T06:37:14.352Z"
   },
   {
    "duration": 170,
    "start_time": "2023-03-05T06:37:43.183Z"
   },
   {
    "duration": 1424,
    "start_time": "2023-03-05T06:37:54.128Z"
   },
   {
    "duration": 1464,
    "start_time": "2023-03-05T06:38:49.985Z"
   },
   {
    "duration": 1414,
    "start_time": "2023-03-05T06:39:24.531Z"
   },
   {
    "duration": 1757,
    "start_time": "2023-03-05T06:39:36.960Z"
   },
   {
    "duration": 1589,
    "start_time": "2023-03-05T06:39:54.273Z"
   },
   {
    "duration": 1511,
    "start_time": "2023-03-05T06:40:07.608Z"
   },
   {
    "duration": 1511,
    "start_time": "2023-03-05T06:40:12.868Z"
   },
   {
    "duration": 728,
    "start_time": "2023-03-05T06:40:33.829Z"
   },
   {
    "duration": 758,
    "start_time": "2023-03-05T06:40:45.267Z"
   },
   {
    "duration": 39,
    "start_time": "2023-03-05T07:24:25.734Z"
   },
   {
    "duration": 3316,
    "start_time": "2023-03-05T07:24:42.161Z"
   },
   {
    "duration": 29,
    "start_time": "2023-03-05T07:24:54.108Z"
   },
   {
    "duration": 149,
    "start_time": "2023-03-05T07:26:06.832Z"
   },
   {
    "duration": 2681,
    "start_time": "2023-03-05T07:26:12.177Z"
   },
   {
    "duration": 2643,
    "start_time": "2023-03-05T07:26:30.574Z"
   },
   {
    "duration": 2932,
    "start_time": "2023-03-05T07:28:34.970Z"
   },
   {
    "duration": 2990,
    "start_time": "2023-03-05T07:29:02.998Z"
   },
   {
    "duration": 2981,
    "start_time": "2023-03-05T07:30:24.367Z"
   },
   {
    "duration": 3067,
    "start_time": "2023-03-05T07:30:37.101Z"
   },
   {
    "duration": 3133,
    "start_time": "2023-03-05T07:31:16.383Z"
   },
   {
    "duration": 3439,
    "start_time": "2023-03-05T07:31:28.651Z"
   },
   {
    "duration": 3448,
    "start_time": "2023-03-05T07:31:44.482Z"
   },
   {
    "duration": 3025,
    "start_time": "2023-03-05T07:32:01.567Z"
   },
   {
    "duration": 25597,
    "start_time": "2023-03-05T07:32:14.713Z"
   },
   {
    "duration": 29225,
    "start_time": "2023-03-05T07:32:42.062Z"
   },
   {
    "duration": 38,
    "start_time": "2023-03-05T07:39:22.326Z"
   },
   {
    "duration": 34,
    "start_time": "2023-03-05T07:40:13.068Z"
   },
   {
    "duration": 35,
    "start_time": "2023-03-05T07:40:24.633Z"
   },
   {
    "duration": 4,
    "start_time": "2023-03-05T07:40:46.437Z"
   },
   {
    "duration": 36,
    "start_time": "2023-03-05T07:40:47.976Z"
   },
   {
    "duration": 3,
    "start_time": "2023-03-05T07:41:47.404Z"
   },
   {
    "duration": 37,
    "start_time": "2023-03-05T07:41:48.938Z"
   },
   {
    "duration": 4,
    "start_time": "2023-03-05T07:42:10.058Z"
   },
   {
    "duration": 27,
    "start_time": "2023-03-05T07:42:18.469Z"
   },
   {
    "duration": 37,
    "start_time": "2023-03-05T07:42:24.434Z"
   },
   {
    "duration": 29,
    "start_time": "2023-03-05T07:42:58.990Z"
   },
   {
    "duration": 45,
    "start_time": "2023-03-05T07:43:42.249Z"
   },
   {
    "duration": 59,
    "start_time": "2023-03-05T07:43:51.365Z"
   },
   {
    "duration": 33,
    "start_time": "2023-03-05T07:47:12.098Z"
   },
   {
    "duration": 29,
    "start_time": "2023-03-05T07:47:24.241Z"
   },
   {
    "duration": 4,
    "start_time": "2023-03-05T07:47:32.896Z"
   },
   {
    "duration": 4,
    "start_time": "2023-03-05T07:47:34.313Z"
   },
   {
    "duration": 61,
    "start_time": "2023-03-05T07:47:48.280Z"
   },
   {
    "duration": 59,
    "start_time": "2023-03-05T07:48:39.473Z"
   },
   {
    "duration": 67,
    "start_time": "2023-03-05T07:48:49.509Z"
   },
   {
    "duration": 52,
    "start_time": "2023-03-05T07:51:12.478Z"
   },
   {
    "duration": 61,
    "start_time": "2023-03-05T07:51:22.440Z"
   },
   {
    "duration": 69,
    "start_time": "2023-03-05T07:51:46.417Z"
   },
   {
    "duration": 25,
    "start_time": "2023-03-05T07:52:03.256Z"
   },
   {
    "duration": 23,
    "start_time": "2023-03-05T07:52:15.676Z"
   },
   {
    "duration": 30,
    "start_time": "2023-03-05T07:54:18.028Z"
   },
   {
    "duration": 909,
    "start_time": "2023-03-05T07:54:36.187Z"
   },
   {
    "duration": 486,
    "start_time": "2023-03-05T07:55:15.935Z"
   },
   {
    "duration": 4,
    "start_time": "2023-03-05T07:56:58.688Z"
   },
   {
    "duration": 7,
    "start_time": "2023-03-05T07:56:58.694Z"
   },
   {
    "duration": 5785,
    "start_time": "2023-03-05T07:56:58.702Z"
   },
   {
    "duration": 0,
    "start_time": "2023-03-05T07:57:04.489Z"
   },
   {
    "duration": 0,
    "start_time": "2023-03-05T07:57:04.491Z"
   },
   {
    "duration": 0,
    "start_time": "2023-03-05T07:57:04.492Z"
   },
   {
    "duration": 0,
    "start_time": "2023-03-05T07:57:04.493Z"
   },
   {
    "duration": 0,
    "start_time": "2023-03-05T07:57:04.494Z"
   },
   {
    "duration": 0,
    "start_time": "2023-03-05T07:57:04.495Z"
   },
   {
    "duration": 0,
    "start_time": "2023-03-05T07:57:04.496Z"
   },
   {
    "duration": 0,
    "start_time": "2023-03-05T07:57:04.498Z"
   },
   {
    "duration": 0,
    "start_time": "2023-03-05T07:57:04.499Z"
   },
   {
    "duration": 0,
    "start_time": "2023-03-05T07:57:04.499Z"
   },
   {
    "duration": 0,
    "start_time": "2023-03-05T07:57:04.501Z"
   },
   {
    "duration": 0,
    "start_time": "2023-03-05T07:57:04.502Z"
   },
   {
    "duration": 0,
    "start_time": "2023-03-05T07:57:04.503Z"
   },
   {
    "duration": 0,
    "start_time": "2023-03-05T07:57:04.504Z"
   },
   {
    "duration": 0,
    "start_time": "2023-03-05T07:57:04.505Z"
   },
   {
    "duration": 0,
    "start_time": "2023-03-05T07:57:04.506Z"
   },
   {
    "duration": 0,
    "start_time": "2023-03-05T07:57:04.507Z"
   },
   {
    "duration": 0,
    "start_time": "2023-03-05T07:57:04.508Z"
   },
   {
    "duration": 0,
    "start_time": "2023-03-05T07:57:04.509Z"
   },
   {
    "duration": 0,
    "start_time": "2023-03-05T07:57:04.510Z"
   },
   {
    "duration": 0,
    "start_time": "2023-03-05T07:57:04.511Z"
   },
   {
    "duration": 0,
    "start_time": "2023-03-05T07:57:04.512Z"
   },
   {
    "duration": 0,
    "start_time": "2023-03-05T07:57:04.512Z"
   },
   {
    "duration": 0,
    "start_time": "2023-03-05T07:57:04.513Z"
   },
   {
    "duration": 0,
    "start_time": "2023-03-05T07:57:04.513Z"
   },
   {
    "duration": 0,
    "start_time": "2023-03-05T07:57:04.514Z"
   },
   {
    "duration": 0,
    "start_time": "2023-03-05T07:57:04.514Z"
   },
   {
    "duration": 0,
    "start_time": "2023-03-05T07:57:04.550Z"
   },
   {
    "duration": 0,
    "start_time": "2023-03-05T07:57:04.551Z"
   },
   {
    "duration": 0,
    "start_time": "2023-03-05T07:57:04.552Z"
   },
   {
    "duration": 0,
    "start_time": "2023-03-05T07:57:04.553Z"
   },
   {
    "duration": 0,
    "start_time": "2023-03-05T07:57:04.554Z"
   },
   {
    "duration": 0,
    "start_time": "2023-03-05T07:57:04.555Z"
   },
   {
    "duration": 0,
    "start_time": "2023-03-05T07:57:04.559Z"
   },
   {
    "duration": 2488,
    "start_time": "2023-03-05T07:57:21.041Z"
   },
   {
    "duration": 4,
    "start_time": "2023-03-05T07:57:28.157Z"
   },
   {
    "duration": 2467,
    "start_time": "2023-03-05T07:57:28.162Z"
   },
   {
    "duration": 5672,
    "start_time": "2023-03-05T07:57:30.631Z"
   },
   {
    "duration": 0,
    "start_time": "2023-03-05T07:57:36.305Z"
   },
   {
    "duration": 0,
    "start_time": "2023-03-05T07:57:36.306Z"
   },
   {
    "duration": 0,
    "start_time": "2023-03-05T07:57:36.307Z"
   },
   {
    "duration": 1,
    "start_time": "2023-03-05T07:57:36.308Z"
   },
   {
    "duration": 0,
    "start_time": "2023-03-05T07:57:36.310Z"
   },
   {
    "duration": 0,
    "start_time": "2023-03-05T07:57:36.311Z"
   },
   {
    "duration": 0,
    "start_time": "2023-03-05T07:57:36.312Z"
   },
   {
    "duration": 0,
    "start_time": "2023-03-05T07:57:36.313Z"
   },
   {
    "duration": 0,
    "start_time": "2023-03-05T07:57:36.314Z"
   },
   {
    "duration": 0,
    "start_time": "2023-03-05T07:57:36.314Z"
   },
   {
    "duration": 0,
    "start_time": "2023-03-05T07:57:36.315Z"
   },
   {
    "duration": 0,
    "start_time": "2023-03-05T07:57:36.316Z"
   },
   {
    "duration": 0,
    "start_time": "2023-03-05T07:57:36.317Z"
   },
   {
    "duration": 0,
    "start_time": "2023-03-05T07:57:36.318Z"
   },
   {
    "duration": 0,
    "start_time": "2023-03-05T07:57:36.319Z"
   },
   {
    "duration": 0,
    "start_time": "2023-03-05T07:57:36.351Z"
   },
   {
    "duration": 0,
    "start_time": "2023-03-05T07:57:36.352Z"
   },
   {
    "duration": 0,
    "start_time": "2023-03-05T07:57:36.355Z"
   },
   {
    "duration": 0,
    "start_time": "2023-03-05T07:57:36.356Z"
   },
   {
    "duration": 0,
    "start_time": "2023-03-05T07:57:36.357Z"
   },
   {
    "duration": 0,
    "start_time": "2023-03-05T07:57:36.358Z"
   },
   {
    "duration": 0,
    "start_time": "2023-03-05T07:57:36.360Z"
   },
   {
    "duration": 0,
    "start_time": "2023-03-05T07:57:36.363Z"
   },
   {
    "duration": 0,
    "start_time": "2023-03-05T07:57:36.364Z"
   },
   {
    "duration": 0,
    "start_time": "2023-03-05T07:57:36.365Z"
   },
   {
    "duration": 0,
    "start_time": "2023-03-05T07:57:36.366Z"
   },
   {
    "duration": 0,
    "start_time": "2023-03-05T07:57:36.367Z"
   },
   {
    "duration": 0,
    "start_time": "2023-03-05T07:57:36.368Z"
   },
   {
    "duration": 0,
    "start_time": "2023-03-05T07:57:36.369Z"
   },
   {
    "duration": 0,
    "start_time": "2023-03-05T07:57:36.370Z"
   },
   {
    "duration": 0,
    "start_time": "2023-03-05T07:57:36.371Z"
   },
   {
    "duration": 0,
    "start_time": "2023-03-05T07:57:36.372Z"
   },
   {
    "duration": 0,
    "start_time": "2023-03-05T07:57:36.373Z"
   },
   {
    "duration": 0,
    "start_time": "2023-03-05T07:57:36.374Z"
   },
   {
    "duration": 31,
    "start_time": "2023-03-05T07:59:26.237Z"
   },
   {
    "duration": 17,
    "start_time": "2023-03-05T07:59:29.141Z"
   },
   {
    "duration": 3,
    "start_time": "2023-03-05T07:59:39.769Z"
   },
   {
    "duration": 2462,
    "start_time": "2023-03-05T07:59:39.774Z"
   },
   {
    "duration": 5400,
    "start_time": "2023-03-05T07:59:42.239Z"
   },
   {
    "duration": 1003,
    "start_time": "2023-03-05T07:59:47.641Z"
   },
   {
    "duration": 18,
    "start_time": "2023-03-05T07:59:48.655Z"
   },
   {
    "duration": 34,
    "start_time": "2023-03-05T07:59:48.675Z"
   },
   {
    "duration": 17,
    "start_time": "2023-03-05T07:59:48.711Z"
   },
   {
    "duration": 4,
    "start_time": "2023-03-05T07:59:48.752Z"
   },
   {
    "duration": 143,
    "start_time": "2023-03-05T07:59:48.758Z"
   },
   {
    "duration": 4,
    "start_time": "2023-03-05T07:59:48.903Z"
   },
   {
    "duration": 3028325,
    "start_time": "2023-03-05T07:59:48.909Z"
   },
   {
    "duration": 16,
    "start_time": "2023-03-05T08:50:17.236Z"
   },
   {
    "duration": 195,
    "start_time": "2023-03-05T08:50:17.254Z"
   },
   {
    "duration": 8,
    "start_time": "2023-03-05T08:50:17.452Z"
   },
   {
    "duration": 36,
    "start_time": "2023-03-05T08:50:17.462Z"
   },
   {
    "duration": 1549,
    "start_time": "2023-03-05T08:50:17.500Z"
   },
   {
    "duration": 751,
    "start_time": "2023-03-05T08:50:19.051Z"
   },
   {
    "duration": 130,
    "start_time": "2023-03-05T08:50:19.803Z"
   },
   {
    "duration": 445,
    "start_time": "2023-03-05T08:50:19.936Z"
   },
   {
    "duration": 0,
    "start_time": "2023-03-05T08:50:20.384Z"
   },
   {
    "duration": 0,
    "start_time": "2023-03-05T08:50:20.386Z"
   },
   {
    "duration": 0,
    "start_time": "2023-03-05T08:50:20.388Z"
   },
   {
    "duration": 0,
    "start_time": "2023-03-05T08:50:20.389Z"
   },
   {
    "duration": 0,
    "start_time": "2023-03-05T08:50:20.391Z"
   },
   {
    "duration": 0,
    "start_time": "2023-03-05T08:50:20.393Z"
   },
   {
    "duration": 0,
    "start_time": "2023-03-05T08:50:20.394Z"
   },
   {
    "duration": 0,
    "start_time": "2023-03-05T08:50:20.396Z"
   },
   {
    "duration": 0,
    "start_time": "2023-03-05T08:50:20.398Z"
   },
   {
    "duration": 0,
    "start_time": "2023-03-05T08:50:20.400Z"
   },
   {
    "duration": 0,
    "start_time": "2023-03-05T08:50:20.401Z"
   },
   {
    "duration": 0,
    "start_time": "2023-03-05T08:50:20.402Z"
   },
   {
    "duration": 0,
    "start_time": "2023-03-05T08:50:20.404Z"
   },
   {
    "duration": 0,
    "start_time": "2023-03-05T08:50:20.405Z"
   },
   {
    "duration": 0,
    "start_time": "2023-03-05T08:50:20.406Z"
   },
   {
    "duration": 0,
    "start_time": "2023-03-05T08:50:20.408Z"
   },
   {
    "duration": 0,
    "start_time": "2023-03-05T08:50:20.410Z"
   },
   {
    "duration": 0,
    "start_time": "2023-03-05T08:50:20.446Z"
   },
   {
    "duration": 72,
    "start_time": "2023-03-05T09:11:24.668Z"
   },
   {
    "duration": 69,
    "start_time": "2023-03-05T09:11:30.460Z"
   },
   {
    "duration": 551,
    "start_time": "2023-03-05T09:11:39.609Z"
   },
   {
    "duration": 562,
    "start_time": "2023-03-05T09:11:59.156Z"
   },
   {
    "duration": 593,
    "start_time": "2023-03-05T09:12:15.453Z"
   },
   {
    "duration": 55,
    "start_time": "2023-03-05T09:14:58.898Z"
   },
   {
    "duration": 1357,
    "start_time": "2023-03-05T09:15:14.293Z"
   },
   {
    "duration": 1419,
    "start_time": "2023-03-05T09:15:28.965Z"
   },
   {
    "duration": 9,
    "start_time": "2023-03-05T09:16:55.690Z"
   },
   {
    "duration": 4,
    "start_time": "2023-03-05T09:17:16.540Z"
   },
   {
    "duration": 3,
    "start_time": "2023-03-05T09:17:28.749Z"
   },
   {
    "duration": 12,
    "start_time": "2023-03-05T09:17:49.125Z"
   },
   {
    "duration": 8,
    "start_time": "2023-03-05T09:18:16.024Z"
   },
   {
    "duration": 9,
    "start_time": "2023-03-05T09:18:20.995Z"
   },
   {
    "duration": 3,
    "start_time": "2023-03-05T09:18:34.581Z"
   },
   {
    "duration": 3,
    "start_time": "2023-03-05T09:18:36.967Z"
   },
   {
    "duration": 4,
    "start_time": "2023-03-05T09:18:43.873Z"
   },
   {
    "duration": 7,
    "start_time": "2023-03-05T09:18:50.593Z"
   },
   {
    "duration": 9,
    "start_time": "2023-03-05T09:18:55.732Z"
   },
   {
    "duration": 22,
    "start_time": "2023-03-05T09:19:03.811Z"
   },
   {
    "duration": 21,
    "start_time": "2023-03-05T09:19:06.936Z"
   },
   {
    "duration": 23,
    "start_time": "2023-03-05T09:19:13.084Z"
   },
   {
    "duration": 5,
    "start_time": "2023-03-05T09:19:29.687Z"
   },
   {
    "duration": 49,
    "start_time": "2023-03-05T09:20:00.426Z"
   },
   {
    "duration": 27,
    "start_time": "2023-03-05T09:21:42.275Z"
   },
   {
    "duration": 3,
    "start_time": "2023-03-05T09:22:27.033Z"
   },
   {
    "duration": 1633,
    "start_time": "2023-03-05T09:22:29.018Z"
   },
   {
    "duration": 11,
    "start_time": "2023-03-05T09:22:50.529Z"
   },
   {
    "duration": 16,
    "start_time": "2023-03-05T09:23:03.627Z"
   },
   {
    "duration": 50,
    "start_time": "2023-03-05T09:23:16.463Z"
   },
   {
    "duration": 22,
    "start_time": "2023-03-05T09:23:27.410Z"
   },
   {
    "duration": 18,
    "start_time": "2023-03-05T09:23:46.535Z"
   },
   {
    "duration": 1518,
    "start_time": "2023-03-05T09:24:16.071Z"
   },
   {
    "duration": 1429,
    "start_time": "2023-03-05T09:27:11.562Z"
   },
   {
    "duration": 6,
    "start_time": "2023-03-05T09:28:22.512Z"
   },
   {
    "duration": 9,
    "start_time": "2023-03-05T09:28:40.903Z"
   },
   {
    "duration": 3,
    "start_time": "2023-03-05T09:28:45.934Z"
   },
   {
    "duration": 1504,
    "start_time": "2023-03-05T09:28:50.875Z"
   },
   {
    "duration": 1565,
    "start_time": "2023-03-05T09:29:49.098Z"
   },
   {
    "duration": 73,
    "start_time": "2023-03-05T09:30:38.817Z"
   },
   {
    "duration": 4,
    "start_time": "2023-03-05T09:30:41.678Z"
   },
   {
    "duration": 4,
    "start_time": "2023-03-05T09:30:49.737Z"
   },
   {
    "duration": 5,
    "start_time": "2023-03-05T09:32:24.227Z"
   },
   {
    "duration": 3,
    "start_time": "2023-03-05T09:32:26.875Z"
   },
   {
    "duration": 5,
    "start_time": "2023-03-05T09:32:32.589Z"
   },
   {
    "duration": 9,
    "start_time": "2023-03-05T09:32:38.491Z"
   },
   {
    "duration": 23,
    "start_time": "2023-03-05T09:32:53.183Z"
   },
   {
    "duration": 6,
    "start_time": "2023-03-05T09:32:59.078Z"
   },
   {
    "duration": 39,
    "start_time": "2023-03-05T09:33:59.554Z"
   },
   {
    "duration": 9,
    "start_time": "2023-03-05T09:34:05.074Z"
   },
   {
    "duration": 6,
    "start_time": "2023-03-05T09:34:10.638Z"
   },
   {
    "duration": 76,
    "start_time": "2023-03-05T09:35:42.254Z"
   },
   {
    "duration": 438,
    "start_time": "2023-03-05T09:36:04.034Z"
   },
   {
    "duration": 5,
    "start_time": "2023-03-05T09:36:19.702Z"
   },
   {
    "duration": 4,
    "start_time": "2023-03-05T09:36:22.845Z"
   },
   {
    "duration": 4,
    "start_time": "2023-03-05T09:36:29.190Z"
   },
   {
    "duration": 3,
    "start_time": "2023-03-05T09:36:31.779Z"
   },
   {
    "duration": 1519,
    "start_time": "2023-03-05T09:36:40.415Z"
   },
   {
    "duration": 22,
    "start_time": "2023-03-05T09:38:29.482Z"
   },
   {
    "duration": 25,
    "start_time": "2023-03-05T09:38:41.527Z"
   },
   {
    "duration": 4,
    "start_time": "2023-03-05T09:38:48.021Z"
   },
   {
    "duration": 8,
    "start_time": "2023-03-05T09:38:51.309Z"
   },
   {
    "duration": 4,
    "start_time": "2023-03-05T09:39:04.366Z"
   },
   {
    "duration": 8,
    "start_time": "2023-03-05T09:39:06.362Z"
   },
   {
    "duration": 1608,
    "start_time": "2023-03-05T09:39:12.699Z"
   },
   {
    "duration": 3,
    "start_time": "2023-03-05T09:39:26.207Z"
   },
   {
    "duration": 4,
    "start_time": "2023-03-05T09:39:27.688Z"
   },
   {
    "duration": 1683,
    "start_time": "2023-03-05T09:40:34.421Z"
   },
   {
    "duration": 26,
    "start_time": "2023-03-05T09:43:48.274Z"
   },
   {
    "duration": 1705,
    "start_time": "2023-03-05T09:49:05.272Z"
   },
   {
    "duration": 1876,
    "start_time": "2023-03-05T09:52:59.449Z"
   },
   {
    "duration": 1365,
    "start_time": "2023-03-05T15:06:46.884Z"
   },
   {
    "duration": 14310,
    "start_time": "2023-03-06T00:59:58.594Z"
   },
   {
    "duration": 2594,
    "start_time": "2023-03-06T01:00:12.906Z"
   },
   {
    "duration": 5762,
    "start_time": "2023-03-06T01:00:15.502Z"
   },
   {
    "duration": 2489,
    "start_time": "2023-03-06T01:00:21.266Z"
   },
   {
    "duration": 15,
    "start_time": "2023-03-06T01:00:23.757Z"
   },
   {
    "duration": 44,
    "start_time": "2023-03-06T01:00:23.774Z"
   },
   {
    "duration": 29,
    "start_time": "2023-03-06T01:00:23.819Z"
   },
   {
    "duration": 2,
    "start_time": "2023-03-06T01:00:23.850Z"
   },
   {
    "duration": 124,
    "start_time": "2023-03-06T01:00:23.854Z"
   },
   {
    "duration": 33106,
    "start_time": "2023-03-06T01:00:23.982Z"
   },
   {
    "duration": 860,
    "start_time": "2023-03-06T01:00:57.090Z"
   },
   {
    "duration": 0,
    "start_time": "2023-03-06T01:00:57.953Z"
   },
   {
    "duration": 0,
    "start_time": "2023-03-06T01:00:57.954Z"
   },
   {
    "duration": 0,
    "start_time": "2023-03-06T01:00:57.955Z"
   },
   {
    "duration": 0,
    "start_time": "2023-03-06T01:00:57.957Z"
   },
   {
    "duration": 0,
    "start_time": "2023-03-06T01:00:57.958Z"
   },
   {
    "duration": 0,
    "start_time": "2023-03-06T01:00:57.959Z"
   },
   {
    "duration": 0,
    "start_time": "2023-03-06T01:00:57.961Z"
   },
   {
    "duration": 0,
    "start_time": "2023-03-06T01:00:57.962Z"
   },
   {
    "duration": 0,
    "start_time": "2023-03-06T01:00:57.964Z"
   },
   {
    "duration": 0,
    "start_time": "2023-03-06T01:00:57.965Z"
   },
   {
    "duration": 0,
    "start_time": "2023-03-06T01:00:57.966Z"
   },
   {
    "duration": 0,
    "start_time": "2023-03-06T01:00:57.968Z"
   },
   {
    "duration": 0,
    "start_time": "2023-03-06T01:00:57.969Z"
   },
   {
    "duration": 0,
    "start_time": "2023-03-06T01:00:57.972Z"
   },
   {
    "duration": 0,
    "start_time": "2023-03-06T01:00:57.974Z"
   },
   {
    "duration": 0,
    "start_time": "2023-03-06T01:00:57.975Z"
   },
   {
    "duration": 0,
    "start_time": "2023-03-06T01:00:57.976Z"
   },
   {
    "duration": 0,
    "start_time": "2023-03-06T01:00:57.977Z"
   },
   {
    "duration": 0,
    "start_time": "2023-03-06T01:00:57.979Z"
   },
   {
    "duration": 0,
    "start_time": "2023-03-06T01:00:57.980Z"
   },
   {
    "duration": 0,
    "start_time": "2023-03-06T01:00:57.981Z"
   },
   {
    "duration": 941,
    "start_time": "2023-03-06T01:01:06.499Z"
   },
   {
    "duration": 2584135,
    "start_time": "2023-03-06T01:02:10.336Z"
   },
   {
    "duration": 9,
    "start_time": "2023-03-06T01:45:14.473Z"
   },
   {
    "duration": 44978,
    "start_time": "2023-03-06T01:47:39.698Z"
   },
   {
    "duration": 9,
    "start_time": "2023-03-06T01:51:20.843Z"
   },
   {
    "duration": 10553,
    "start_time": "2023-03-06T01:55:48.186Z"
   },
   {
    "duration": 46297,
    "start_time": "2023-03-06T01:56:21.126Z"
   },
   {
    "duration": 0,
    "start_time": "2023-03-06T01:57:07.425Z"
   },
   {
    "duration": 4851,
    "start_time": "2023-03-06T01:57:46.020Z"
   },
   {
    "duration": 0,
    "start_time": "2023-03-06T01:57:50.873Z"
   },
   {
    "duration": 47776,
    "start_time": "2023-03-06T02:02:02.038Z"
   },
   {
    "duration": 8,
    "start_time": "2023-03-06T02:02:49.817Z"
   },
   {
    "duration": 46793,
    "start_time": "2023-03-06T02:03:28.871Z"
   },
   {
    "duration": 44289,
    "start_time": "2023-03-06T02:05:06.472Z"
   },
   {
    "duration": 6,
    "start_time": "2023-03-06T02:07:06.755Z"
   },
   {
    "duration": 5,
    "start_time": "2023-03-06T02:07:12.884Z"
   },
   {
    "duration": 14,
    "start_time": "2023-03-06T02:07:25.000Z"
   },
   {
    "duration": 53,
    "start_time": "2023-03-06T02:08:44.283Z"
   },
   {
    "duration": 8349,
    "start_time": "2023-03-06T02:08:54.507Z"
   },
   {
    "duration": 2708,
    "start_time": "2023-03-06T02:09:02.858Z"
   },
   {
    "duration": 1425,
    "start_time": "2023-03-06T02:09:07.568Z"
   },
   {
    "duration": 97500,
    "start_time": "2023-03-06T02:09:14.734Z"
   },
   {
    "duration": 12,
    "start_time": "2023-03-06T02:11:25.832Z"
   },
   {
    "duration": 67,
    "start_time": "2023-03-06T02:11:35.327Z"
   },
   {
    "duration": 93,
    "start_time": "2023-03-06T02:11:46.905Z"
   },
   {
    "duration": 82,
    "start_time": "2023-03-06T02:12:42.193Z"
   },
   {
    "duration": 1430,
    "start_time": "2023-03-06T02:13:56.689Z"
   },
   {
    "duration": 3771,
    "start_time": "2023-03-06T02:14:02.923Z"
   },
   {
    "duration": 7682,
    "start_time": "2023-03-06T02:15:40.327Z"
   },
   {
    "duration": 3027,
    "start_time": "2023-03-06T02:15:48.011Z"
   },
   {
    "duration": 92097,
    "start_time": "2023-03-06T02:15:51.040Z"
   },
   {
    "duration": 14,
    "start_time": "2023-03-06T02:17:23.138Z"
   },
   {
    "duration": 441,
    "start_time": "2023-03-06T02:18:01.082Z"
   },
   {
    "duration": 13,
    "start_time": "2023-03-06T02:18:18.272Z"
   },
   {
    "duration": 7,
    "start_time": "2023-03-06T02:18:38.198Z"
   },
   {
    "duration": 33,
    "start_time": "2023-03-06T02:18:56.578Z"
   },
   {
    "duration": 3114611,
    "start_time": "2023-03-06T02:19:22.278Z"
   },
   {
    "duration": 16,
    "start_time": "2023-03-06T03:11:16.893Z"
   },
   {
    "duration": 61713,
    "start_time": "2023-03-06T03:11:16.913Z"
   },
   {
    "duration": 39,
    "start_time": "2023-03-06T03:12:18.632Z"
   },
   {
    "duration": 0,
    "start_time": "2023-03-06T03:12:18.672Z"
   },
   {
    "duration": 0,
    "start_time": "2023-03-06T03:12:18.674Z"
   },
   {
    "duration": 0,
    "start_time": "2023-03-06T03:12:18.675Z"
   },
   {
    "duration": 0,
    "start_time": "2023-03-06T03:12:18.676Z"
   },
   {
    "duration": 25,
    "start_time": "2023-03-06T03:12:40.212Z"
   },
   {
    "duration": 124,
    "start_time": "2023-03-06T03:12:42.802Z"
   },
   {
    "duration": 4,
    "start_time": "2023-03-06T03:12:46.634Z"
   },
   {
    "duration": 4,
    "start_time": "2023-03-06T03:13:04.727Z"
   },
   {
    "duration": 11,
    "start_time": "2023-03-06T03:13:39.569Z"
   },
   {
    "duration": 33,
    "start_time": "2023-03-06T03:13:46.513Z"
   },
   {
    "duration": 29,
    "start_time": "2023-03-06T03:14:15.475Z"
   },
   {
    "duration": 62,
    "start_time": "2023-03-06T03:14:16.768Z"
   },
   {
    "duration": 52,
    "start_time": "2023-03-06T03:14:33.091Z"
   },
   {
    "duration": 8,
    "start_time": "2023-03-06T03:16:27.035Z"
   },
   {
    "duration": 1817,
    "start_time": "2023-03-06T03:17:49.020Z"
   },
   {
    "duration": 1826,
    "start_time": "2023-03-06T03:17:51.678Z"
   },
   {
    "duration": 6,
    "start_time": "2023-03-06T03:19:33.108Z"
   },
   {
    "duration": 39,
    "start_time": "2023-03-06T03:19:38.699Z"
   },
   {
    "duration": 43,
    "start_time": "2023-03-06T03:19:42.374Z"
   },
   {
    "duration": 21,
    "start_time": "2023-03-06T03:19:48.474Z"
   },
   {
    "duration": 18,
    "start_time": "2023-03-06T03:19:52.279Z"
   },
   {
    "duration": 16,
    "start_time": "2023-03-06T03:20:14.573Z"
   },
   {
    "duration": 16,
    "start_time": "2023-03-06T03:20:28.942Z"
   },
   {
    "duration": 8,
    "start_time": "2023-03-06T03:20:32.205Z"
   },
   {
    "duration": 12,
    "start_time": "2023-03-06T03:20:35.174Z"
   },
   {
    "duration": 7,
    "start_time": "2023-03-06T03:20:43.712Z"
   },
   {
    "duration": 15,
    "start_time": "2023-03-06T03:20:47.351Z"
   },
   {
    "duration": 41,
    "start_time": "2023-03-06T03:21:22.428Z"
   },
   {
    "duration": 20,
    "start_time": "2023-03-06T03:22:14.947Z"
   },
   {
    "duration": 4,
    "start_time": "2023-03-06T03:22:25.428Z"
   },
   {
    "duration": 30,
    "start_time": "2023-03-06T03:22:41.425Z"
   },
   {
    "duration": 4,
    "start_time": "2023-03-06T03:24:07.099Z"
   },
   {
    "duration": 14,
    "start_time": "2023-03-06T03:24:08.550Z"
   },
   {
    "duration": 4,
    "start_time": "2023-03-06T03:24:21.575Z"
   },
   {
    "duration": 57,
    "start_time": "2023-03-06T03:25:47.240Z"
   },
   {
    "duration": 57,
    "start_time": "2023-03-06T03:27:41.842Z"
   },
   {
    "duration": 2425,
    "start_time": "2023-03-06T03:29:47.666Z"
   },
   {
    "duration": 2282,
    "start_time": "2023-03-06T03:29:50.093Z"
   },
   {
    "duration": 5387,
    "start_time": "2023-03-06T03:29:52.377Z"
   },
   {
    "duration": 857,
    "start_time": "2023-03-06T03:29:57.769Z"
   },
   {
    "duration": 36,
    "start_time": "2023-03-06T03:29:58.628Z"
   },
   {
    "duration": 48,
    "start_time": "2023-03-06T03:29:58.673Z"
   },
   {
    "duration": 17,
    "start_time": "2023-03-06T03:29:58.723Z"
   },
   {
    "duration": 9,
    "start_time": "2023-03-06T03:29:58.742Z"
   },
   {
    "duration": 184,
    "start_time": "2023-03-06T03:29:58.755Z"
   },
   {
    "duration": 2976678,
    "start_time": "2023-03-06T03:29:58.941Z"
   },
   {
    "duration": 8,
    "start_time": "2023-03-06T04:19:35.621Z"
   },
   {
    "duration": 46605,
    "start_time": "2023-03-06T04:19:35.631Z"
   },
   {
    "duration": 4,
    "start_time": "2023-03-06T04:20:22.237Z"
   },
   {
    "duration": 46,
    "start_time": "2023-03-06T04:20:22.250Z"
   },
   {
    "duration": 18,
    "start_time": "2023-03-06T04:20:22.297Z"
   },
   {
    "duration": 20,
    "start_time": "2023-03-06T04:20:22.317Z"
   },
   {
    "duration": 79,
    "start_time": "2023-03-06T04:20:22.339Z"
   },
   {
    "duration": 15,
    "start_time": "2023-03-06T04:20:22.420Z"
   },
   {
    "duration": 9,
    "start_time": "2023-03-06T04:20:22.437Z"
   },
   {
    "duration": 16,
    "start_time": "2023-03-06T04:20:22.447Z"
   },
   {
    "duration": 32,
    "start_time": "2023-03-06T04:20:22.465Z"
   },
   {
    "duration": 430,
    "start_time": "2023-03-06T04:20:22.499Z"
   },
   {
    "duration": 1,
    "start_time": "2023-03-06T04:20:22.930Z"
   },
   {
    "duration": 0,
    "start_time": "2023-03-06T04:20:22.932Z"
   },
   {
    "duration": 0,
    "start_time": "2023-03-06T04:20:22.932Z"
   },
   {
    "duration": 0,
    "start_time": "2023-03-06T04:20:22.934Z"
   },
   {
    "duration": 1,
    "start_time": "2023-03-06T04:20:22.934Z"
   },
   {
    "duration": 0,
    "start_time": "2023-03-06T04:20:22.952Z"
   },
   {
    "duration": 0,
    "start_time": "2023-03-06T04:20:22.953Z"
   },
   {
    "duration": 0,
    "start_time": "2023-03-06T04:20:22.954Z"
   },
   {
    "duration": 0,
    "start_time": "2023-03-06T04:20:22.955Z"
   },
   {
    "duration": 0,
    "start_time": "2023-03-06T04:20:22.956Z"
   },
   {
    "duration": 0,
    "start_time": "2023-03-06T04:20:22.957Z"
   },
   {
    "duration": 0,
    "start_time": "2023-03-06T04:20:22.957Z"
   },
   {
    "duration": 0,
    "start_time": "2023-03-06T04:20:22.958Z"
   },
   {
    "duration": 0,
    "start_time": "2023-03-06T04:20:22.959Z"
   },
   {
    "duration": 0,
    "start_time": "2023-03-06T04:20:22.960Z"
   },
   {
    "duration": 0,
    "start_time": "2023-03-06T04:20:22.961Z"
   },
   {
    "duration": 0,
    "start_time": "2023-03-06T04:20:22.962Z"
   },
   {
    "duration": 0,
    "start_time": "2023-03-06T04:20:22.964Z"
   },
   {
    "duration": 0,
    "start_time": "2023-03-06T04:20:22.965Z"
   },
   {
    "duration": 0,
    "start_time": "2023-03-06T04:20:22.966Z"
   },
   {
    "duration": 0,
    "start_time": "2023-03-06T04:20:22.967Z"
   },
   {
    "duration": 7,
    "start_time": "2023-03-06T07:37:03.361Z"
   },
   {
    "duration": 17,
    "start_time": "2023-03-06T07:37:09.480Z"
   },
   {
    "duration": 7,
    "start_time": "2023-03-06T07:37:23.793Z"
   },
   {
    "duration": 888,
    "start_time": "2023-03-06T07:37:34.091Z"
   },
   {
    "duration": 9,
    "start_time": "2023-03-06T07:37:48.397Z"
   },
   {
    "duration": 870,
    "start_time": "2023-03-06T07:37:55.435Z"
   },
   {
    "duration": 37,
    "start_time": "2023-03-06T07:38:10.856Z"
   },
   {
    "duration": 36,
    "start_time": "2023-03-06T07:38:30.254Z"
   },
   {
    "duration": 19,
    "start_time": "2023-03-06T07:38:32.183Z"
   },
   {
    "duration": 8,
    "start_time": "2023-03-06T07:39:25.009Z"
   },
   {
    "duration": 10,
    "start_time": "2023-03-06T07:39:28.759Z"
   },
   {
    "duration": 39,
    "start_time": "2023-03-06T07:39:32.896Z"
   },
   {
    "duration": 3,
    "start_time": "2023-03-06T07:40:33.300Z"
   },
   {
    "duration": 15,
    "start_time": "2023-03-06T07:40:41.477Z"
   },
   {
    "duration": 34,
    "start_time": "2023-03-06T07:41:02.216Z"
   },
   {
    "duration": 4,
    "start_time": "2023-03-06T07:41:51.880Z"
   },
   {
    "duration": 24,
    "start_time": "2023-03-06T07:44:22.036Z"
   },
   {
    "duration": 12,
    "start_time": "2023-03-06T07:44:36.242Z"
   },
   {
    "duration": 16187,
    "start_time": "2023-03-06T07:44:40.793Z"
   },
   {
    "duration": 31,
    "start_time": "2023-03-06T07:45:22.710Z"
   },
   {
    "duration": 3,
    "start_time": "2023-03-06T07:46:38.252Z"
   },
   {
    "duration": 61351,
    "start_time": "2023-03-06T07:46:40.583Z"
   },
   {
    "duration": 40192,
    "start_time": "2023-03-06T07:47:53.587Z"
   },
   {
    "duration": 47,
    "start_time": "2023-03-06T07:48:33.781Z"
   },
   {
    "duration": 5,
    "start_time": "2023-03-06T07:49:02.408Z"
   },
   {
    "duration": 4,
    "start_time": "2023-03-06T07:49:16.149Z"
   },
   {
    "duration": 10,
    "start_time": "2023-03-06T07:49:23.554Z"
   },
   {
    "duration": 4,
    "start_time": "2023-03-06T07:49:55.600Z"
   },
   {
    "duration": 5,
    "start_time": "2023-03-06T07:50:01.851Z"
   },
   {
    "duration": 9,
    "start_time": "2023-03-06T07:50:23.493Z"
   },
   {
    "duration": 7265,
    "start_time": "2023-03-06T07:50:27.681Z"
   },
   {
    "duration": 10,
    "start_time": "2023-03-06T07:50:41.385Z"
   },
   {
    "duration": 28,
    "start_time": "2023-03-06T07:51:41.098Z"
   },
   {
    "duration": 55,
    "start_time": "2023-03-06T07:51:47.054Z"
   },
   {
    "duration": 9,
    "start_time": "2023-03-06T07:52:06.787Z"
   },
   {
    "duration": 4,
    "start_time": "2023-03-06T07:52:15.851Z"
   },
   {
    "duration": 29232,
    "start_time": "2023-03-06T07:52:19.389Z"
   },
   {
    "duration": 7291,
    "start_time": "2023-03-06T07:52:48.623Z"
   },
   {
    "duration": 2483,
    "start_time": "2023-03-06T07:53:49.389Z"
   },
   {
    "duration": 3,
    "start_time": "2023-03-06T07:56:18.990Z"
   },
   {
    "duration": 10,
    "start_time": "2023-03-06T07:56:23.706Z"
   },
   {
    "duration": 3,
    "start_time": "2023-03-06T07:56:29.783Z"
   },
   {
    "duration": 3,
    "start_time": "2023-03-06T07:56:31.795Z"
   },
   {
    "duration": 15,
    "start_time": "2023-03-06T07:56:33.648Z"
   },
   {
    "duration": 14,
    "start_time": "2023-03-06T07:57:20.354Z"
   },
   {
    "duration": 786,
    "start_time": "2023-03-06T07:57:47.986Z"
   },
   {
    "duration": 4,
    "start_time": "2023-03-06T07:58:01.274Z"
   },
   {
    "duration": 15,
    "start_time": "2023-03-06T07:58:17.584Z"
   },
   {
    "duration": 27,
    "start_time": "2023-03-06T07:58:29.493Z"
   },
   {
    "duration": 5,
    "start_time": "2023-03-06T07:58:36.787Z"
   },
   {
    "duration": 38,
    "start_time": "2023-03-06T08:00:17.085Z"
   },
   {
    "duration": 4,
    "start_time": "2023-03-06T08:00:21.385Z"
   },
   {
    "duration": 8,
    "start_time": "2023-03-06T08:00:42.582Z"
   },
   {
    "duration": 3,
    "start_time": "2023-03-06T08:00:44.152Z"
   },
   {
    "duration": 24,
    "start_time": "2023-03-06T08:01:10.612Z"
   },
   {
    "duration": 7,
    "start_time": "2023-03-06T08:03:20.147Z"
   },
   {
    "duration": 28,
    "start_time": "2023-03-06T08:03:35.658Z"
   },
   {
    "duration": 9,
    "start_time": "2023-03-06T08:04:01.451Z"
   },
   {
    "duration": 22,
    "start_time": "2023-03-06T08:04:08.020Z"
   },
   {
    "duration": 23,
    "start_time": "2023-03-06T08:04:10.513Z"
   },
   {
    "duration": 4,
    "start_time": "2023-03-06T08:04:16.048Z"
   },
   {
    "duration": 3,
    "start_time": "2023-03-06T08:04:23.581Z"
   },
   {
    "duration": 5,
    "start_time": "2023-03-06T08:06:21.685Z"
   },
   {
    "duration": 483,
    "start_time": "2023-03-06T08:06:24.700Z"
   },
   {
    "duration": 528,
    "start_time": "2023-03-06T08:07:45.982Z"
   },
   {
    "duration": 24,
    "start_time": "2023-03-06T08:08:14.891Z"
   },
   {
    "duration": 128,
    "start_time": "2023-03-06T08:11:40.785Z"
   },
   {
    "duration": 34,
    "start_time": "2023-03-06T08:12:27.992Z"
   },
   {
    "duration": 473,
    "start_time": "2023-03-06T08:13:01.585Z"
   },
   {
    "duration": 93,
    "start_time": "2023-03-06T08:14:44.960Z"
   },
   {
    "duration": 7,
    "start_time": "2023-03-06T08:14:48.990Z"
   },
   {
    "duration": 43101,
    "start_time": "2023-03-06T08:16:01.688Z"
   },
   {
    "duration": 55,
    "start_time": "2023-03-06T08:16:44.793Z"
   },
   {
    "duration": 50,
    "start_time": "2023-03-06T08:16:44.862Z"
   },
   {
    "duration": 925,
    "start_time": "2023-03-06T08:16:44.914Z"
   },
   {
    "duration": 6385,
    "start_time": "2023-03-06T08:16:45.847Z"
   },
   {
    "duration": 14,
    "start_time": "2023-03-06T08:17:12.779Z"
   },
   {
    "duration": 52,
    "start_time": "2023-03-06T08:17:14.366Z"
   },
   {
    "duration": 793,
    "start_time": "2023-03-06T08:17:18.488Z"
   },
   {
    "duration": 330,
    "start_time": "2023-03-06T08:17:19.283Z"
   },
   {
    "duration": 306,
    "start_time": "2023-03-06T08:17:37.807Z"
   },
   {
    "duration": 312,
    "start_time": "2023-03-06T08:17:41.566Z"
   },
   {
    "duration": 263,
    "start_time": "2023-03-06T08:17:48.492Z"
   },
   {
    "duration": 291,
    "start_time": "2023-03-06T08:17:52.178Z"
   },
   {
    "duration": 122,
    "start_time": "2023-03-06T08:18:00.700Z"
   },
   {
    "duration": 2490,
    "start_time": "2023-03-06T08:18:01.049Z"
   },
   {
    "duration": 46,
    "start_time": "2023-03-06T08:18:14.905Z"
   },
   {
    "duration": 2195,
    "start_time": "2023-03-06T08:19:45.693Z"
   },
   {
    "duration": 2482,
    "start_time": "2023-03-06T08:19:47.891Z"
   },
   {
    "duration": 7088,
    "start_time": "2023-03-06T08:19:50.375Z"
   },
   {
    "duration": 2393,
    "start_time": "2023-03-06T08:19:57.465Z"
   },
   {
    "duration": 17,
    "start_time": "2023-03-06T08:19:59.860Z"
   },
   {
    "duration": 41,
    "start_time": "2023-03-06T08:19:59.879Z"
   },
   {
    "duration": 15,
    "start_time": "2023-03-06T08:19:59.922Z"
   },
   {
    "duration": 9,
    "start_time": "2023-03-06T08:19:59.939Z"
   },
   {
    "duration": 138,
    "start_time": "2023-03-06T08:19:59.950Z"
   },
   {
    "duration": 2814218,
    "start_time": "2023-03-06T08:20:00.091Z"
   },
   {
    "duration": 9,
    "start_time": "2023-03-06T09:06:54.311Z"
   },
   {
    "duration": 41325,
    "start_time": "2023-03-06T09:06:54.321Z"
   },
   {
    "duration": 45,
    "start_time": "2023-03-06T09:07:35.653Z"
   },
   {
    "duration": 57,
    "start_time": "2023-03-06T09:07:35.699Z"
   },
   {
    "duration": 900,
    "start_time": "2023-03-06T09:07:35.760Z"
   },
   {
    "duration": 6179,
    "start_time": "2023-03-06T09:07:36.663Z"
   },
   {
    "duration": 16,
    "start_time": "2023-03-06T09:07:42.849Z"
   },
   {
    "duration": 49,
    "start_time": "2023-03-06T09:07:42.866Z"
   },
   {
    "duration": 571,
    "start_time": "2023-03-06T09:07:42.917Z"
   },
   {
    "duration": 319,
    "start_time": "2023-03-06T09:07:43.490Z"
   },
   {
    "duration": 150,
    "start_time": "2023-03-06T09:07:43.811Z"
   },
   {
    "duration": 2671,
    "start_time": "2023-03-06T09:07:43.963Z"
   },
   {
    "duration": 24741,
    "start_time": "2023-03-06T09:07:46.636Z"
   },
   {
    "duration": 384,
    "start_time": "2023-03-06T09:08:11.379Z"
   },
   {
    "duration": 0,
    "start_time": "2023-03-06T09:08:11.765Z"
   },
   {
    "duration": 0,
    "start_time": "2023-03-06T09:08:11.766Z"
   },
   {
    "duration": 0,
    "start_time": "2023-03-06T09:08:11.767Z"
   },
   {
    "duration": 0,
    "start_time": "2023-03-06T09:08:11.768Z"
   },
   {
    "duration": 0,
    "start_time": "2023-03-06T09:08:11.769Z"
   },
   {
    "duration": 0,
    "start_time": "2023-03-06T09:08:11.770Z"
   },
   {
    "duration": 0,
    "start_time": "2023-03-06T09:08:11.771Z"
   },
   {
    "duration": 0,
    "start_time": "2023-03-06T09:08:11.772Z"
   },
   {
    "duration": 0,
    "start_time": "2023-03-06T09:08:11.773Z"
   },
   {
    "duration": 0,
    "start_time": "2023-03-06T09:08:11.774Z"
   },
   {
    "duration": 0,
    "start_time": "2023-03-06T09:08:11.775Z"
   },
   {
    "duration": 0,
    "start_time": "2023-03-06T09:08:11.776Z"
   },
   {
    "duration": 25,
    "start_time": "2023-03-06T09:14:15.373Z"
   },
   {
    "duration": 75,
    "start_time": "2023-03-06T09:14:20.718Z"
   },
   {
    "duration": 43,
    "start_time": "2023-03-06T09:15:06.789Z"
   },
   {
    "duration": 2286,
    "start_time": "2023-03-06T09:16:10.493Z"
   },
   {
    "duration": 2118,
    "start_time": "2023-03-06T09:16:12.781Z"
   },
   {
    "duration": 6733,
    "start_time": "2023-03-06T09:16:14.901Z"
   },
   {
    "duration": 2693,
    "start_time": "2023-03-06T09:16:21.636Z"
   },
   {
    "duration": 25,
    "start_time": "2023-03-06T09:16:24.331Z"
   },
   {
    "duration": 42,
    "start_time": "2023-03-06T09:16:24.358Z"
   },
   {
    "duration": 15,
    "start_time": "2023-03-06T09:16:24.402Z"
   },
   {
    "duration": 2,
    "start_time": "2023-03-06T09:16:24.419Z"
   },
   {
    "duration": 124,
    "start_time": "2023-03-06T09:16:24.422Z"
   },
   {
    "duration": 2757945,
    "start_time": "2023-03-06T09:16:24.559Z"
   },
   {
    "duration": 10,
    "start_time": "2023-03-06T10:02:22.506Z"
   },
   {
    "duration": 43799,
    "start_time": "2023-03-06T10:02:22.535Z"
   },
   {
    "duration": 58,
    "start_time": "2023-03-06T10:03:06.340Z"
   },
   {
    "duration": 60,
    "start_time": "2023-03-06T10:03:06.401Z"
   },
   {
    "duration": 881,
    "start_time": "2023-03-06T10:03:06.463Z"
   },
   {
    "duration": 5761,
    "start_time": "2023-03-06T10:03:07.346Z"
   },
   {
    "duration": 13,
    "start_time": "2023-03-06T10:03:13.109Z"
   },
   {
    "duration": 63,
    "start_time": "2023-03-06T10:03:13.131Z"
   },
   {
    "duration": 793,
    "start_time": "2023-03-06T10:03:13.196Z"
   },
   {
    "duration": 311,
    "start_time": "2023-03-06T10:03:13.991Z"
   },
   {
    "duration": 141,
    "start_time": "2023-03-06T10:03:14.304Z"
   },
   {
    "duration": 2626,
    "start_time": "2023-03-06T10:03:14.447Z"
   },
   {
    "duration": 25142,
    "start_time": "2023-03-06T10:03:17.075Z"
   },
   {
    "duration": 92,
    "start_time": "2023-03-06T10:03:42.220Z"
   },
   {
    "duration": 3,
    "start_time": "2023-03-06T10:03:42.313Z"
   },
   {
    "duration": 444,
    "start_time": "2023-03-06T10:03:42.318Z"
   },
   {
    "duration": 0,
    "start_time": "2023-03-06T10:03:42.763Z"
   },
   {
    "duration": 0,
    "start_time": "2023-03-06T10:03:42.765Z"
   },
   {
    "duration": 0,
    "start_time": "2023-03-06T10:03:42.766Z"
   },
   {
    "duration": 0,
    "start_time": "2023-03-06T10:03:42.768Z"
   },
   {
    "duration": 0,
    "start_time": "2023-03-06T10:03:42.769Z"
   },
   {
    "duration": 0,
    "start_time": "2023-03-06T10:03:42.770Z"
   },
   {
    "duration": 0,
    "start_time": "2023-03-06T10:03:42.771Z"
   },
   {
    "duration": 0,
    "start_time": "2023-03-06T10:03:42.772Z"
   },
   {
    "duration": 0,
    "start_time": "2023-03-06T10:03:42.773Z"
   },
   {
    "duration": 0,
    "start_time": "2023-03-06T10:03:42.774Z"
   },
   {
    "duration": 0,
    "start_time": "2023-03-06T10:03:42.775Z"
   },
   {
    "duration": 7,
    "start_time": "2023-03-06T11:20:50.987Z"
   },
   {
    "duration": 3,
    "start_time": "2023-03-06T11:20:55.501Z"
   }
  ],
  "kernelspec": {
   "display_name": "Python 3 (ipykernel)",
   "language": "python",
   "name": "python3"
  },
  "language_info": {
   "codemirror_mode": {
    "name": "ipython",
    "version": 3
   },
   "file_extension": ".py",
   "mimetype": "text/x-python",
   "name": "python",
   "nbconvert_exporter": "python",
   "pygments_lexer": "ipython3",
   "version": "3.9.5"
  },
  "toc": {
   "base_numbering": 1,
   "nav_menu": {},
   "number_sections": true,
   "sideBar": true,
   "skip_h1_title": true,
   "title_cell": "Содержание",
   "title_sidebar": "Contents",
   "toc_cell": true,
   "toc_position": {
    "height": "calc(100% - 180px)",
    "left": "10px",
    "top": "150px",
    "width": "302.391px"
   },
   "toc_section_display": true,
   "toc_window_display": false
  }
 },
 "nbformat": 4,
 "nbformat_minor": 2
}
