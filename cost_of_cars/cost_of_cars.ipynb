{
 "cells": [
  {
   "cell_type": "markdown",
   "metadata": {},
   "source": [
    "# Определение стоимости автомобилей"
   ]
  },
  {
   "cell_type": "markdown",
   "metadata": {},
   "source": [
    "Сервис по продаже автомобилей с пробегом «Не бит, не крашен» разрабатывает приложение для привлечения новых клиентов. В нём можно быстро узнать рыночную стоимость своего автомобиля. В вашем распоряжении исторические данные: технические характеристики, комплектации и цены автомобилей. Вам нужно построить модель для определения стоимости. \n",
    "\n",
    "Заказчику важны:\n",
    "\n",
    "- качество предсказания;\n",
    "- скорость предсказания;\n",
    "- время обучения."
   ]
  },
  {
   "cell_type": "markdown",
   "metadata": {},
   "source": [
    "## Подготовка данных"
   ]
  },
  {
   "cell_type": "markdown",
   "metadata": {},
   "source": [
    "###  Загрузим библиотеки и скачаем датасеты"
   ]
  },
  {
   "cell_type": "code",
   "execution_count": 3,
   "metadata": {},
   "outputs": [],
   "source": [
    "import pandas as pd\n",
    "import numpy as np\n",
    "import matplotlib.pyplot as plt\n",
    "import seaborn as sns\n",
    "import lightgbm as lgbm\n",
    "import time\n",
    "from sklearn.model_selection import train_test_split\n",
    "from sklearn.preprocessing import OrdinalEncoder\n",
    "from sklearn.ensemble import RandomForestRegressor\n",
    "from catboost import CatBoostRegressor, cv, train\n",
    "from sklearn.metrics import mean_squared_error\n",
    "import warnings\n",
    "warnings.filterwarnings('ignore')"
   ]
  },
  {
   "cell_type": "code",
   "execution_count": null,
   "metadata": {},
   "outputs": [],
   "source": [
    "try:\n",
    "    data = pd.read_csv('/datasets/autos.csv')   \n",
    "except:\n",
    "    data = pd.read_csv('https://code.s3.yandex.net/datasets/autos.csv')"
   ]
  },
  {
   "cell_type": "markdown",
   "metadata": {},
   "source": [
    "###  Посмотрим общую информацию про датасет"
   ]
  },
  {
   "cell_type": "code",
   "execution_count": 4,
   "metadata": {},
   "outputs": [
    {
     "data": {
      "text/html": [
       "<div>\n",
       "<style scoped>\n",
       "    .dataframe tbody tr th:only-of-type {\n",
       "        vertical-align: middle;\n",
       "    }\n",
       "\n",
       "    .dataframe tbody tr th {\n",
       "        vertical-align: top;\n",
       "    }\n",
       "\n",
       "    .dataframe thead th {\n",
       "        text-align: right;\n",
       "    }\n",
       "</style>\n",
       "<table border=\"1\" class=\"dataframe\">\n",
       "  <thead>\n",
       "    <tr style=\"text-align: right;\">\n",
       "      <th></th>\n",
       "      <th>DateCrawled</th>\n",
       "      <th>Price</th>\n",
       "      <th>VehicleType</th>\n",
       "      <th>RegistrationYear</th>\n",
       "      <th>Gearbox</th>\n",
       "      <th>Power</th>\n",
       "      <th>Model</th>\n",
       "      <th>Kilometer</th>\n",
       "      <th>RegistrationMonth</th>\n",
       "      <th>FuelType</th>\n",
       "      <th>Brand</th>\n",
       "      <th>Repaired</th>\n",
       "      <th>DateCreated</th>\n",
       "      <th>NumberOfPictures</th>\n",
       "      <th>PostalCode</th>\n",
       "      <th>LastSeen</th>\n",
       "    </tr>\n",
       "  </thead>\n",
       "  <tbody>\n",
       "    <tr>\n",
       "      <th>0</th>\n",
       "      <td>2016-03-24 11:52:17</td>\n",
       "      <td>480</td>\n",
       "      <td>NaN</td>\n",
       "      <td>1993</td>\n",
       "      <td>manual</td>\n",
       "      <td>0</td>\n",
       "      <td>golf</td>\n",
       "      <td>150000</td>\n",
       "      <td>0</td>\n",
       "      <td>petrol</td>\n",
       "      <td>volkswagen</td>\n",
       "      <td>NaN</td>\n",
       "      <td>2016-03-24 00:00:00</td>\n",
       "      <td>0</td>\n",
       "      <td>70435</td>\n",
       "      <td>2016-04-07 03:16:57</td>\n",
       "    </tr>\n",
       "    <tr>\n",
       "      <th>1</th>\n",
       "      <td>2016-03-24 10:58:45</td>\n",
       "      <td>18300</td>\n",
       "      <td>coupe</td>\n",
       "      <td>2011</td>\n",
       "      <td>manual</td>\n",
       "      <td>190</td>\n",
       "      <td>NaN</td>\n",
       "      <td>125000</td>\n",
       "      <td>5</td>\n",
       "      <td>gasoline</td>\n",
       "      <td>audi</td>\n",
       "      <td>yes</td>\n",
       "      <td>2016-03-24 00:00:00</td>\n",
       "      <td>0</td>\n",
       "      <td>66954</td>\n",
       "      <td>2016-04-07 01:46:50</td>\n",
       "    </tr>\n",
       "    <tr>\n",
       "      <th>2</th>\n",
       "      <td>2016-03-14 12:52:21</td>\n",
       "      <td>9800</td>\n",
       "      <td>suv</td>\n",
       "      <td>2004</td>\n",
       "      <td>auto</td>\n",
       "      <td>163</td>\n",
       "      <td>grand</td>\n",
       "      <td>125000</td>\n",
       "      <td>8</td>\n",
       "      <td>gasoline</td>\n",
       "      <td>jeep</td>\n",
       "      <td>NaN</td>\n",
       "      <td>2016-03-14 00:00:00</td>\n",
       "      <td>0</td>\n",
       "      <td>90480</td>\n",
       "      <td>2016-04-05 12:47:46</td>\n",
       "    </tr>\n",
       "    <tr>\n",
       "      <th>3</th>\n",
       "      <td>2016-03-17 16:54:04</td>\n",
       "      <td>1500</td>\n",
       "      <td>small</td>\n",
       "      <td>2001</td>\n",
       "      <td>manual</td>\n",
       "      <td>75</td>\n",
       "      <td>golf</td>\n",
       "      <td>150000</td>\n",
       "      <td>6</td>\n",
       "      <td>petrol</td>\n",
       "      <td>volkswagen</td>\n",
       "      <td>no</td>\n",
       "      <td>2016-03-17 00:00:00</td>\n",
       "      <td>0</td>\n",
       "      <td>91074</td>\n",
       "      <td>2016-03-17 17:40:17</td>\n",
       "    </tr>\n",
       "    <tr>\n",
       "      <th>4</th>\n",
       "      <td>2016-03-31 17:25:20</td>\n",
       "      <td>3600</td>\n",
       "      <td>small</td>\n",
       "      <td>2008</td>\n",
       "      <td>manual</td>\n",
       "      <td>69</td>\n",
       "      <td>fabia</td>\n",
       "      <td>90000</td>\n",
       "      <td>7</td>\n",
       "      <td>gasoline</td>\n",
       "      <td>skoda</td>\n",
       "      <td>no</td>\n",
       "      <td>2016-03-31 00:00:00</td>\n",
       "      <td>0</td>\n",
       "      <td>60437</td>\n",
       "      <td>2016-04-06 10:17:21</td>\n",
       "    </tr>\n",
       "  </tbody>\n",
       "</table>\n",
       "</div>"
      ],
      "text/plain": [
       "           DateCrawled  Price VehicleType  RegistrationYear Gearbox  Power  \\\n",
       "0  2016-03-24 11:52:17    480         NaN              1993  manual      0   \n",
       "1  2016-03-24 10:58:45  18300       coupe              2011  manual    190   \n",
       "2  2016-03-14 12:52:21   9800         suv              2004    auto    163   \n",
       "3  2016-03-17 16:54:04   1500       small              2001  manual     75   \n",
       "4  2016-03-31 17:25:20   3600       small              2008  manual     69   \n",
       "\n",
       "   Model  Kilometer  RegistrationMonth  FuelType       Brand Repaired  \\\n",
       "0   golf     150000                  0    petrol  volkswagen      NaN   \n",
       "1    NaN     125000                  5  gasoline        audi      yes   \n",
       "2  grand     125000                  8  gasoline        jeep      NaN   \n",
       "3   golf     150000                  6    petrol  volkswagen       no   \n",
       "4  fabia      90000                  7  gasoline       skoda       no   \n",
       "\n",
       "           DateCreated  NumberOfPictures  PostalCode             LastSeen  \n",
       "0  2016-03-24 00:00:00                 0       70435  2016-04-07 03:16:57  \n",
       "1  2016-03-24 00:00:00                 0       66954  2016-04-07 01:46:50  \n",
       "2  2016-03-14 00:00:00                 0       90480  2016-04-05 12:47:46  \n",
       "3  2016-03-17 00:00:00                 0       91074  2016-03-17 17:40:17  \n",
       "4  2016-03-31 00:00:00                 0       60437  2016-04-06 10:17:21  "
      ]
     },
     "execution_count": 4,
     "metadata": {},
     "output_type": "execute_result"
    }
   ],
   "source": [
    "data.head()"
   ]
  },
  {
   "cell_type": "code",
   "execution_count": 5,
   "metadata": {},
   "outputs": [
    {
     "name": "stdout",
     "output_type": "stream",
     "text": [
      "<class 'pandas.core.frame.DataFrame'>\n",
      "RangeIndex: 354369 entries, 0 to 354368\n",
      "Data columns (total 16 columns):\n",
      " #   Column             Non-Null Count   Dtype \n",
      "---  ------             --------------   ----- \n",
      " 0   DateCrawled        354369 non-null  object\n",
      " 1   Price              354369 non-null  int64 \n",
      " 2   VehicleType        316879 non-null  object\n",
      " 3   RegistrationYear   354369 non-null  int64 \n",
      " 4   Gearbox            334536 non-null  object\n",
      " 5   Power              354369 non-null  int64 \n",
      " 6   Model              334664 non-null  object\n",
      " 7   Kilometer          354369 non-null  int64 \n",
      " 8   RegistrationMonth  354369 non-null  int64 \n",
      " 9   FuelType           321474 non-null  object\n",
      " 10  Brand              354369 non-null  object\n",
      " 11  Repaired           283215 non-null  object\n",
      " 12  DateCreated        354369 non-null  object\n",
      " 13  NumberOfPictures   354369 non-null  int64 \n",
      " 14  PostalCode         354369 non-null  int64 \n",
      " 15  LastSeen           354369 non-null  object\n",
      "dtypes: int64(7), object(9)\n",
      "memory usage: 43.3+ MB\n"
     ]
    }
   ],
   "source": [
    "data.info()"
   ]
  },
  {
   "cell_type": "code",
   "execution_count": 6,
   "metadata": {},
   "outputs": [
    {
     "data": {
      "text/html": [
       "<div>\n",
       "<style scoped>\n",
       "    .dataframe tbody tr th:only-of-type {\n",
       "        vertical-align: middle;\n",
       "    }\n",
       "\n",
       "    .dataframe tbody tr th {\n",
       "        vertical-align: top;\n",
       "    }\n",
       "\n",
       "    .dataframe thead th {\n",
       "        text-align: right;\n",
       "    }\n",
       "</style>\n",
       "<table border=\"1\" class=\"dataframe\">\n",
       "  <thead>\n",
       "    <tr style=\"text-align: right;\">\n",
       "      <th></th>\n",
       "      <th>Price</th>\n",
       "      <th>RegistrationYear</th>\n",
       "      <th>Power</th>\n",
       "      <th>Kilometer</th>\n",
       "      <th>RegistrationMonth</th>\n",
       "      <th>NumberOfPictures</th>\n",
       "      <th>PostalCode</th>\n",
       "    </tr>\n",
       "  </thead>\n",
       "  <tbody>\n",
       "    <tr>\n",
       "      <th>count</th>\n",
       "      <td>354369.000000</td>\n",
       "      <td>354369.000000</td>\n",
       "      <td>354369.000000</td>\n",
       "      <td>354369.000000</td>\n",
       "      <td>354369.000000</td>\n",
       "      <td>354369.0</td>\n",
       "      <td>354369.000000</td>\n",
       "    </tr>\n",
       "    <tr>\n",
       "      <th>mean</th>\n",
       "      <td>4416.656776</td>\n",
       "      <td>2004.234448</td>\n",
       "      <td>110.094337</td>\n",
       "      <td>128211.172535</td>\n",
       "      <td>5.714645</td>\n",
       "      <td>0.0</td>\n",
       "      <td>50508.689087</td>\n",
       "    </tr>\n",
       "    <tr>\n",
       "      <th>std</th>\n",
       "      <td>4514.158514</td>\n",
       "      <td>90.227958</td>\n",
       "      <td>189.850405</td>\n",
       "      <td>37905.341530</td>\n",
       "      <td>3.726421</td>\n",
       "      <td>0.0</td>\n",
       "      <td>25783.096248</td>\n",
       "    </tr>\n",
       "    <tr>\n",
       "      <th>min</th>\n",
       "      <td>0.000000</td>\n",
       "      <td>1000.000000</td>\n",
       "      <td>0.000000</td>\n",
       "      <td>5000.000000</td>\n",
       "      <td>0.000000</td>\n",
       "      <td>0.0</td>\n",
       "      <td>1067.000000</td>\n",
       "    </tr>\n",
       "    <tr>\n",
       "      <th>25%</th>\n",
       "      <td>1050.000000</td>\n",
       "      <td>1999.000000</td>\n",
       "      <td>69.000000</td>\n",
       "      <td>125000.000000</td>\n",
       "      <td>3.000000</td>\n",
       "      <td>0.0</td>\n",
       "      <td>30165.000000</td>\n",
       "    </tr>\n",
       "    <tr>\n",
       "      <th>50%</th>\n",
       "      <td>2700.000000</td>\n",
       "      <td>2003.000000</td>\n",
       "      <td>105.000000</td>\n",
       "      <td>150000.000000</td>\n",
       "      <td>6.000000</td>\n",
       "      <td>0.0</td>\n",
       "      <td>49413.000000</td>\n",
       "    </tr>\n",
       "    <tr>\n",
       "      <th>75%</th>\n",
       "      <td>6400.000000</td>\n",
       "      <td>2008.000000</td>\n",
       "      <td>143.000000</td>\n",
       "      <td>150000.000000</td>\n",
       "      <td>9.000000</td>\n",
       "      <td>0.0</td>\n",
       "      <td>71083.000000</td>\n",
       "    </tr>\n",
       "    <tr>\n",
       "      <th>max</th>\n",
       "      <td>20000.000000</td>\n",
       "      <td>9999.000000</td>\n",
       "      <td>20000.000000</td>\n",
       "      <td>150000.000000</td>\n",
       "      <td>12.000000</td>\n",
       "      <td>0.0</td>\n",
       "      <td>99998.000000</td>\n",
       "    </tr>\n",
       "  </tbody>\n",
       "</table>\n",
       "</div>"
      ],
      "text/plain": [
       "               Price  RegistrationYear          Power      Kilometer  \\\n",
       "count  354369.000000     354369.000000  354369.000000  354369.000000   \n",
       "mean     4416.656776       2004.234448     110.094337  128211.172535   \n",
       "std      4514.158514         90.227958     189.850405   37905.341530   \n",
       "min         0.000000       1000.000000       0.000000    5000.000000   \n",
       "25%      1050.000000       1999.000000      69.000000  125000.000000   \n",
       "50%      2700.000000       2003.000000     105.000000  150000.000000   \n",
       "75%      6400.000000       2008.000000     143.000000  150000.000000   \n",
       "max     20000.000000       9999.000000   20000.000000  150000.000000   \n",
       "\n",
       "       RegistrationMonth  NumberOfPictures     PostalCode  \n",
       "count      354369.000000          354369.0  354369.000000  \n",
       "mean            5.714645               0.0   50508.689087  \n",
       "std             3.726421               0.0   25783.096248  \n",
       "min             0.000000               0.0    1067.000000  \n",
       "25%             3.000000               0.0   30165.000000  \n",
       "50%             6.000000               0.0   49413.000000  \n",
       "75%             9.000000               0.0   71083.000000  \n",
       "max            12.000000               0.0   99998.000000  "
      ]
     },
     "execution_count": 6,
     "metadata": {},
     "output_type": "execute_result"
    }
   ],
   "source": [
    "data.describe()"
   ]
  },
  {
   "cell_type": "markdown",
   "metadata": {},
   "source": [
    "### Удалим ненужные столбцы"
   ]
  },
  {
   "cell_type": "markdown",
   "metadata": {},
   "source": [
    "В столбце 'NumberOfPictures' все значения - это 0. Другие столбцы просто нам не нужны для дальнейшего обучения моделей. "
   ]
  },
  {
   "cell_type": "code",
   "execution_count": 8,
   "metadata": {},
   "outputs": [
    {
     "name": "stdout",
     "output_type": "stream",
     "text": [
      "<class 'pandas.core.frame.DataFrame'>\n",
      "RangeIndex: 354369 entries, 0 to 354368\n",
      "Data columns (total 10 columns):\n",
      " #   Column            Non-Null Count   Dtype \n",
      "---  ------            --------------   ----- \n",
      " 0   Price             354369 non-null  int64 \n",
      " 1   VehicleType       316879 non-null  object\n",
      " 2   RegistrationYear  354369 non-null  int64 \n",
      " 3   Gearbox           334536 non-null  object\n",
      " 4   Power             354369 non-null  int64 \n",
      " 5   Kilometer         354369 non-null  int64 \n",
      " 6   FuelType          321474 non-null  object\n",
      " 7   Brand             354369 non-null  object\n",
      " 8   Repaired          283215 non-null  object\n",
      " 9   PostalCode        354369 non-null  int64 \n",
      "dtypes: int64(5), object(5)\n",
      "memory usage: 27.0+ MB\n"
     ]
    }
   ],
   "source": [
    "data = data.drop(columns=['DateCrawled', 'Model',\n",
    "                 'RegistrationMonth', 'DateCreated', \n",
    "                 'LastSeen', 'NumberOfPictures'], axis=1)\n",
    "data.info()"
   ]
  },
  {
   "cell_type": "markdown",
   "metadata": {},
   "source": [
    "### Удалим аномальные значения в столбце Price"
   ]
  },
  {
   "cell_type": "markdown",
   "metadata": {},
   "source": [
    "Значения меньше 10 скорее всего являются ошибочными, поэтому их стоит удалить"
   ]
  },
  {
   "cell_type": "code",
   "execution_count": 9,
   "metadata": {},
   "outputs": [],
   "source": [
    "data = data.loc[data['Price'] >= 10 ]"
   ]
  },
  {
   "cell_type": "markdown",
   "metadata": {},
   "source": [
    "### Удлаим аномальные значения столбца Power"
   ]
  },
  {
   "cell_type": "code",
   "execution_count": 10,
   "metadata": {},
   "outputs": [
    {
     "data": {
      "image/png": "[encoded data removed]",
      "text/plain": [
       "<Figure size 864x432 with 1 Axes>"
      ]
     },
     "metadata": {
      "needs_background": "light"
     },
     "output_type": "display_data"
    }
   ],
   "source": [
    "pd.Series(list(data.Power.unique())).sort_values(ascending=False).plot(kind='hist', figsize=(12,6), grid=True, bins=50)\n",
    "plt.title('График распределения уникальных значений мощности а/м')\n",
    "plt.ylabel('количество')\n",
    "plt.xlabel('Мощность, л.с.')\n",
    "plt.show()"
   ]
  },
  {
   "cell_type": "code",
   "execution_count": 11,
   "metadata": {},
   "outputs": [],
   "source": [
    "data=data.query('Power > 15 & Power < 1600')"
   ]
  },
  {
   "cell_type": "markdown",
   "metadata": {},
   "source": [
    "### Удалим ненужные значения в столбце RegistrationYear "
   ]
  },
  {
   "cell_type": "code",
   "execution_count": 12,
   "metadata": {},
   "outputs": [],
   "source": [
    "data = data.query('RegistrationYear >= 1950 & RegistrationYear < 2018')"
   ]
  },
  {
   "cell_type": "markdown",
   "metadata": {},
   "source": [
    "### Заполним пропущенные значения категориальных признаков заглушкой"
   ]
  },
  {
   "cell_type": "code",
   "execution_count": 13,
   "metadata": {},
   "outputs": [],
   "source": [
    "data = data.fillna('unknown')"
   ]
  },
  {
   "cell_type": "code",
   "execution_count": 14,
   "metadata": {},
   "outputs": [
    {
     "name": "stdout",
     "output_type": "stream",
     "text": [
      "<class 'pandas.core.frame.DataFrame'>\n",
      "Int64Index: 303089 entries, 1 to 354368\n",
      "Data columns (total 10 columns):\n",
      " #   Column            Non-Null Count   Dtype \n",
      "---  ------            --------------   ----- \n",
      " 0   Price             303089 non-null  int64 \n",
      " 1   VehicleType       303089 non-null  object\n",
      " 2   RegistrationYear  303089 non-null  int64 \n",
      " 3   Gearbox           303089 non-null  object\n",
      " 4   Power             303089 non-null  int64 \n",
      " 5   Kilometer         303089 non-null  int64 \n",
      " 6   FuelType          303089 non-null  object\n",
      " 7   Brand             303089 non-null  object\n",
      " 8   Repaired          303089 non-null  object\n",
      " 9   PostalCode        303089 non-null  int64 \n",
      "dtypes: int64(5), object(5)\n",
      "memory usage: 25.4+ MB\n"
     ]
    }
   ],
   "source": [
    "data.info()"
   ]
  },
  {
   "cell_type": "markdown",
   "metadata": {},
   "source": [
    "### Добавим столбец разделение машин по возрастам"
   ]
  },
  {
   "cell_type": "code",
   "execution_count": 15,
   "metadata": {},
   "outputs": [],
   "source": [
    "k=[]\n",
    "for i in data['RegistrationYear']:\n",
    "    if i <= 1980:\n",
    "        s_old='Super Retro'\n",
    "        k.append(s_old)\n",
    "    if i > 1980 and i <= 2000:\n",
    "        retro='Retro'\n",
    "        k.append(retro)\n",
    "    if i > 2000 and i <= 2012:\n",
    "        old='Old'\n",
    "        k.append(old)\n",
    "    if i > 2012:\n",
    "        new='New'\n",
    "        k.append(new)\n",
    "data['AgeType']=k"
   ]
  },
  {
   "cell_type": "markdown",
   "metadata": {},
   "source": [
    "### Разделим выборки на features и target"
   ]
  },
  {
   "cell_type": "code",
   "execution_count": 16,
   "metadata": {},
   "outputs": [],
   "source": [
    "target = data[['Price']]\n",
    "features = data.drop(['Price'], axis=1)"
   ]
  },
  {
   "cell_type": "markdown",
   "metadata": {},
   "source": [
    "### Определим тестовую, валидационную и тренировочную выбрки"
   ]
  },
  {
   "cell_type": "code",
   "execution_count": 17,
   "metadata": {},
   "outputs": [],
   "source": [
    "features_80, features_test, target_80, target_test = train_test_split(\n",
    "    features, target, test_size=.2, random_state=12345)\n",
    "\n",
    "features_train, features_valid, target_train, target_valid = train_test_split(\n",
    "    features_80, target_80, test_size=.25, random_state=12345)"
   ]
  },
  {
   "cell_type": "markdown",
   "metadata": {},
   "source": [
    "### Применим OrdinalEncoder для категориальных признаков"
   ]
  },
  {
   "cell_type": "markdown",
   "metadata": {},
   "source": [
    "Обозначим категориальные признаки"
   ]
  },
  {
   "cell_type": "code",
   "execution_count": 18,
   "metadata": {},
   "outputs": [],
   "source": [
    "cat_features = ['VehicleType', 'Gearbox', 'FuelType', 'Brand', 'Repaired', 'AgeType']"
   ]
  },
  {
   "cell_type": "markdown",
   "metadata": {},
   "source": [
    "Преобразуем категориальные признаки в численные с помощью техники порядкового кодирования OE"
   ]
  },
  {
   "cell_type": "code",
   "execution_count": 19,
   "metadata": {},
   "outputs": [],
   "source": [
    "encoder = OrdinalEncoder()\n",
    "encoder.fit(features_train[cat_features])\n",
    "features_train[cat_features]= encoder.transform(features_train[cat_features])\n",
    "features_valid[cat_features]= encoder.transform(features_valid[cat_features])\n",
    "features_test[cat_features]= encoder.transform(features_test[cat_features])\n",
    "features_80[cat_features]= encoder.transform(features_80[cat_features])"
   ]
  },
  {
   "cell_type": "markdown",
   "metadata": {},
   "source": [
    "**Вывод**\n",
    "\n",
    "- Удалены признаки, которые не помогут в исследовании:\n",
    "    - DateCrawled — дата скачивания анкеты из базы\n",
    "    - Model — модель автомобиля\n",
    "    - RegistrationMonth — месяц регистрации автомобиля\n",
    "    - DateCreated — дата создания анкеты\n",
    "    - LastSeen — дата последней активности пользователя\n",
    "    - NumberOfPictures - количество фотографий автомобиля (здесь сохранены только нули)\n",
    "- Удалены аномальные значения в целевом признаке\n",
    "- Пропусков в количественных признаках нет\n",
    "- Пропуски в категориальных признаках заменены заглушкой\n",
    "- Категориальные признаки преобразованы в численные\n",
    "- Данные подготовлены к проведению исследования"
   ]
  },
  {
   "cell_type": "markdown",
   "metadata": {},
   "source": [
    "## Обучение моделей"
   ]
  },
  {
   "cell_type": "markdown",
   "metadata": {},
   "source": [
    "### Для понимания, какие факторы важны при моделировании, создадим функцию, используя feature_importances_"
   ]
  },
  {
   "cell_type": "code",
   "execution_count": 20,
   "metadata": {},
   "outputs": [],
   "source": [
    "def importances(model,features):\n",
    "    features = features.columns\n",
    "    importances = model.feature_importances_\n",
    "    indices = np.argsort(importances)\n",
    "    \n",
    "    plt.figure(figsize=(11, 5))\n",
    "    plt.title('Важность функции')\n",
    "    plt.barh(range(len(indices)), importances[indices], color='#6495ED', align='center')\n",
    "    plt.yticks(range(len(indices)), features[indices])\n",
    "    plt.xlabel('Относительная важность')\n",
    "    plt.show()\n",
    "        \n",
    "    feat_importances = pd.Series(importances, index=features).sort_values(ascending=False)\n",
    "    feat_importances = feat_importances.to_frame()\n",
    "    feat_importances.columns=['Относительная важность']\n",
    "    display(feat_importances)"
   ]
  },
  {
   "cell_type": "markdown",
   "metadata": {},
   "source": [
    "### Градиентный бустинг LightGBM"
   ]
  },
  {
   "cell_type": "code",
   "execution_count": 21,
   "metadata": {},
   "outputs": [
    {
     "name": "stdout",
     "output_type": "stream",
     "text": [
      "[100]\tvalid_0's rmse: 1664.2\n",
      "[200]\tvalid_0's rmse: 1637.52\n",
      "[300]\tvalid_0's rmse: 1629.02\n",
      "[400]\tvalid_0's rmse: 1626.15\n",
      "[500]\tvalid_0's rmse: 1626.26\n",
      "[600]\tvalid_0's rmse: 1625.07\n",
      "[700]\tvalid_0's rmse: 1626.31\n",
      "[800]\tvalid_0's rmse: 1625.01\n",
      "[900]\tvalid_0's rmse: 1625.94\n",
      "[1000]\tvalid_0's rmse: 1626.98\n",
      "CPU times: user 31.2 s, sys: 0 ns, total: 31.2 s\n",
      "Wall time: 31.4 s\n"
     ]
    }
   ],
   "source": [
    "%%time\n",
    "start = time.time()\n",
    "model_LGB = lgbm.sklearn.LGBMRegressor(n_estimators=1000, random_state=123, learning_rate=0.4, objective='rmse')\n",
    "model_LGB.fit(features_train, target_train, eval_set=(features_valid, target_valid), verbose=100)\n",
    "end = time.time()\n",
    "t_lgb=round(end-start,2)"
   ]
  },
  {
   "cell_type": "code",
   "execution_count": 22,
   "metadata": {},
   "outputs": [
    {
     "name": "stdout",
     "output_type": "stream",
     "text": [
      "CPU times: user 4.7 s, sys: 0 ns, total: 4.7 s\n",
      "Wall time: 4.73 s\n"
     ]
    },
    {
     "data": {
      "text/plain": [
       "1626.98"
      ]
     },
     "execution_count": 22,
     "metadata": {},
     "output_type": "execute_result"
    }
   ],
   "source": [
    "%%time\n",
    "start = time.time()\n",
    "predict_LGB= model_LGB.predict(features_valid)\n",
    "end = time.time()\n",
    "t_lgb_p=round(end-start,2)\n",
    "\n",
    "((mean_squared_error(target_valid, predict_LGB))**0.5).round(2)"
   ]
  },
  {
   "cell_type": "markdown",
   "metadata": {},
   "source": [
    "#### Факторы важности модели LightGBM"
   ]
  },
  {
   "cell_type": "code",
   "execution_count": 23,
   "metadata": {},
   "outputs": [
    {
     "data": {
      "image/png": "[encoded data removed]",
      "text/plain": [
       "<Figure size 792x360 with 1 Axes>"
      ]
     },
     "metadata": {
      "needs_background": "light"
     },
     "output_type": "display_data"
    },
    {
     "data": {
      "text/html": [
       "<div>\n",
       "<style scoped>\n",
       "    .dataframe tbody tr th:only-of-type {\n",
       "        vertical-align: middle;\n",
       "    }\n",
       "\n",
       "    .dataframe tbody tr th {\n",
       "        vertical-align: top;\n",
       "    }\n",
       "\n",
       "    .dataframe thead th {\n",
       "        text-align: right;\n",
       "    }\n",
       "</style>\n",
       "<table border=\"1\" class=\"dataframe\">\n",
       "  <thead>\n",
       "    <tr style=\"text-align: right;\">\n",
       "      <th></th>\n",
       "      <th>Относительная важность</th>\n",
       "    </tr>\n",
       "  </thead>\n",
       "  <tbody>\n",
       "    <tr>\n",
       "      <th>PostalCode</th>\n",
       "      <td>7485</td>\n",
       "    </tr>\n",
       "    <tr>\n",
       "      <th>Power</th>\n",
       "      <td>6684</td>\n",
       "    </tr>\n",
       "    <tr>\n",
       "      <th>RegistrationYear</th>\n",
       "      <td>5283</td>\n",
       "    </tr>\n",
       "    <tr>\n",
       "      <th>Brand</th>\n",
       "      <td>3495</td>\n",
       "    </tr>\n",
       "    <tr>\n",
       "      <th>Kilometer</th>\n",
       "      <td>2508</td>\n",
       "    </tr>\n",
       "    <tr>\n",
       "      <th>VehicleType</th>\n",
       "      <td>2284</td>\n",
       "    </tr>\n",
       "    <tr>\n",
       "      <th>FuelType</th>\n",
       "      <td>905</td>\n",
       "    </tr>\n",
       "    <tr>\n",
       "      <th>Repaired</th>\n",
       "      <td>682</td>\n",
       "    </tr>\n",
       "    <tr>\n",
       "      <th>Gearbox</th>\n",
       "      <td>672</td>\n",
       "    </tr>\n",
       "    <tr>\n",
       "      <th>AgeType</th>\n",
       "      <td>2</td>\n",
       "    </tr>\n",
       "  </tbody>\n",
       "</table>\n",
       "</div>"
      ],
      "text/plain": [
       "                  Относительная важность\n",
       "PostalCode                          7485\n",
       "Power                               6684\n",
       "RegistrationYear                    5283\n",
       "Brand                               3495\n",
       "Kilometer                           2508\n",
       "VehicleType                         2284\n",
       "FuelType                             905\n",
       "Repaired                             682\n",
       "Gearbox                              672\n",
       "AgeType                                2"
      ]
     },
     "metadata": {},
     "output_type": "display_data"
    }
   ],
   "source": [
    "importances(model_LGB, features_train)"
   ]
  },
  {
   "cell_type": "markdown",
   "metadata": {},
   "source": [
    "### Градиентный бустинг CatBoost"
   ]
  },
  {
   "cell_type": "code",
   "execution_count": 24,
   "metadata": {
    "scrolled": false
   },
   "outputs": [
    {
     "name": "stdout",
     "output_type": "stream",
     "text": [
      "0:\tlearn: 3530.7031830\ttest: 3500.4653626\tbest: 3500.4653626 (0)\ttotal: 81ms\tremaining: 1m 20s\n",
      "100:\tlearn: 1674.3733261\ttest: 1708.0770859\tbest: 1708.0770859 (100)\ttotal: 2.75s\tremaining: 24.4s\n",
      "200:\tlearn: 1593.8531765\ttest: 1667.1666327\tbest: 1667.1666327 (200)\ttotal: 5.48s\tremaining: 21.8s\n",
      "300:\tlearn: 1547.3300978\ttest: 1647.6185899\tbest: 1647.6185899 (300)\ttotal: 8.07s\tremaining: 18.7s\n",
      "400:\tlearn: 1512.7258717\ttest: 1637.5779769\tbest: 1637.5676629 (398)\ttotal: 10.7s\tremaining: 16s\n",
      "500:\tlearn: 1485.5736727\ttest: 1629.5836570\tbest: 1629.5836570 (500)\ttotal: 13.3s\tremaining: 13.3s\n",
      "600:\tlearn: 1460.5702277\ttest: 1625.0062959\tbest: 1624.8473815 (591)\ttotal: 15.9s\tremaining: 10.6s\n",
      "700:\tlearn: 1440.1707397\ttest: 1620.8729314\tbest: 1620.8729314 (700)\ttotal: 18.6s\tremaining: 7.93s\n",
      "800:\tlearn: 1423.4587984\ttest: 1617.9885728\tbest: 1617.9086968 (798)\ttotal: 21.2s\tremaining: 5.26s\n",
      "900:\tlearn: 1407.8921940\ttest: 1615.8848012\tbest: 1615.8848012 (900)\ttotal: 23.8s\tremaining: 2.61s\n",
      "999:\tlearn: 1393.8125430\ttest: 1614.5140822\tbest: 1614.3950347 (964)\ttotal: 26.5s\tremaining: 0us\n",
      "\n",
      "bestTest = 1614.395035\n",
      "bestIteration = 964\n",
      "\n",
      "Shrink model to first 965 iterations.\n",
      "CPU times: user 26.6 s, sys: 240 ms, total: 26.8 s\n",
      "Wall time: 28.3 s\n"
     ]
    }
   ],
   "source": [
    "%%time\n",
    "start = time.time()\n",
    "model_cat = CatBoostRegressor(random_state=123, learning_rate=0.4, verbose=100,n_estimators=1000)\n",
    "model_cat.fit(features_train, target_train, eval_set=(features_valid, target_valid))\n",
    "end = time.time()\n",
    "t_cat=round(end-start,2)"
   ]
  },
  {
   "cell_type": "code",
   "execution_count": 25,
   "metadata": {},
   "outputs": [
    {
     "name": "stdout",
     "output_type": "stream",
     "text": [
      "CPU times: user 67.8 ms, sys: 394 µs, total: 68.2 ms\n",
      "Wall time: 66.2 ms\n"
     ]
    },
    {
     "data": {
      "text/plain": [
       "1614.4"
      ]
     },
     "execution_count": 25,
     "metadata": {},
     "output_type": "execute_result"
    }
   ],
   "source": [
    "%%time\n",
    "start = time.time()\n",
    "predict_cat = model_cat.predict(features_valid)\n",
    "end = time.time()\n",
    "t_cat_p = round(end-start,2)\n",
    "\n",
    "((mean_squared_error(target_valid, predict_cat))**0.5).round(2)"
   ]
  },
  {
   "cell_type": "markdown",
   "metadata": {},
   "source": [
    "#### Факторы важности модели CatBoost"
   ]
  },
  {
   "cell_type": "code",
   "execution_count": 26,
   "metadata": {},
   "outputs": [
    {
     "data": {
      "image/png": "[encoded data removed]",
      "text/plain": [
       "<Figure size 792x360 with 1 Axes>"
      ]
     },
     "metadata": {
      "needs_background": "light"
     },
     "output_type": "display_data"
    },
    {
     "data": {
      "text/html": [
       "<div>\n",
       "<style scoped>\n",
       "    .dataframe tbody tr th:only-of-type {\n",
       "        vertical-align: middle;\n",
       "    }\n",
       "\n",
       "    .dataframe tbody tr th {\n",
       "        vertical-align: top;\n",
       "    }\n",
       "\n",
       "    .dataframe thead th {\n",
       "        text-align: right;\n",
       "    }\n",
       "</style>\n",
       "<table border=\"1\" class=\"dataframe\">\n",
       "  <thead>\n",
       "    <tr style=\"text-align: right;\">\n",
       "      <th></th>\n",
       "      <th>Относительная важность</th>\n",
       "    </tr>\n",
       "  </thead>\n",
       "  <tbody>\n",
       "    <tr>\n",
       "      <th>RegistrationYear</th>\n",
       "      <td>38.426956</td>\n",
       "    </tr>\n",
       "    <tr>\n",
       "      <th>Power</th>\n",
       "      <td>24.545052</td>\n",
       "    </tr>\n",
       "    <tr>\n",
       "      <th>Kilometer</th>\n",
       "      <td>12.040988</td>\n",
       "    </tr>\n",
       "    <tr>\n",
       "      <th>Brand</th>\n",
       "      <td>9.270800</td>\n",
       "    </tr>\n",
       "    <tr>\n",
       "      <th>VehicleType</th>\n",
       "      <td>6.067188</td>\n",
       "    </tr>\n",
       "    <tr>\n",
       "      <th>AgeType</th>\n",
       "      <td>2.576709</td>\n",
       "    </tr>\n",
       "    <tr>\n",
       "      <th>Repaired</th>\n",
       "      <td>2.282644</td>\n",
       "    </tr>\n",
       "    <tr>\n",
       "      <th>PostalCode</th>\n",
       "      <td>2.112620</td>\n",
       "    </tr>\n",
       "    <tr>\n",
       "      <th>FuelType</th>\n",
       "      <td>1.944333</td>\n",
       "    </tr>\n",
       "    <tr>\n",
       "      <th>Gearbox</th>\n",
       "      <td>0.732710</td>\n",
       "    </tr>\n",
       "  </tbody>\n",
       "</table>\n",
       "</div>"
      ],
      "text/plain": [
       "                  Относительная важность\n",
       "RegistrationYear               38.426956\n",
       "Power                          24.545052\n",
       "Kilometer                      12.040988\n",
       "Brand                           9.270800\n",
       "VehicleType                     6.067188\n",
       "AgeType                         2.576709\n",
       "Repaired                        2.282644\n",
       "PostalCode                      2.112620\n",
       "FuelType                        1.944333\n",
       "Gearbox                         0.732710"
      ]
     },
     "metadata": {},
     "output_type": "display_data"
    }
   ],
   "source": [
    "importances(model_cat, features_train)"
   ]
  },
  {
   "cell_type": "markdown",
   "metadata": {},
   "source": [
    "### Модель RandomForestRegressor"
   ]
  },
  {
   "cell_type": "code",
   "execution_count": 27,
   "metadata": {},
   "outputs": [
    {
     "name": "stdout",
     "output_type": "stream",
     "text": [
      "CPU times: user 1min 3s, sys: 1.29 s, total: 1min 4s\n",
      "Wall time: 1min 4s\n"
     ]
    }
   ],
   "source": [
    "%%time\n",
    "start = time.time()\n",
    "model_rf = RandomForestRegressor(random_state=12345, criterion='mse',warm_start=False, n_estimators=100)\n",
    "model_rf.fit(features_train, target_train)\n",
    "end = time.time()\n",
    "t_rf = round(end-start,2)"
   ]
  },
  {
   "cell_type": "code",
   "execution_count": 28,
   "metadata": {},
   "outputs": [
    {
     "name": "stdout",
     "output_type": "stream",
     "text": [
      "CPU times: user 3.2 s, sys: 12.3 ms, total: 3.21 s\n",
      "Wall time: 3.22 s\n"
     ]
    },
    {
     "data": {
      "text/plain": [
       "1640.11"
      ]
     },
     "execution_count": 28,
     "metadata": {},
     "output_type": "execute_result"
    }
   ],
   "source": [
    "%%time\n",
    "start = time.time()\n",
    "pred_rf=model_rf.predict(features_valid)\n",
    "end = time.time()\n",
    "t_rf_p = round(end-start,2)\n",
    "\n",
    "((mean_squared_error(target_valid, pred_rf))**0.5).round(2)"
   ]
  },
  {
   "cell_type": "markdown",
   "metadata": {},
   "source": [
    "#### Факторы важности модели RandomForestRegressor"
   ]
  },
  {
   "cell_type": "code",
   "execution_count": 29,
   "metadata": {},
   "outputs": [
    {
     "data": {
      "image/png": "[encoded data removed]",
      "text/plain": [
       "<Figure size 792x360 with 1 Axes>"
      ]
     },
     "metadata": {
      "needs_background": "light"
     },
     "output_type": "display_data"
    },
    {
     "data": {
      "text/html": [
       "<div>\n",
       "<style scoped>\n",
       "    .dataframe tbody tr th:only-of-type {\n",
       "        vertical-align: middle;\n",
       "    }\n",
       "\n",
       "    .dataframe tbody tr th {\n",
       "        vertical-align: top;\n",
       "    }\n",
       "\n",
       "    .dataframe thead th {\n",
       "        text-align: right;\n",
       "    }\n",
       "</style>\n",
       "<table border=\"1\" class=\"dataframe\">\n",
       "  <thead>\n",
       "    <tr style=\"text-align: right;\">\n",
       "      <th></th>\n",
       "      <th>Относительная важность</th>\n",
       "    </tr>\n",
       "  </thead>\n",
       "  <tbody>\n",
       "    <tr>\n",
       "      <th>RegistrationYear</th>\n",
       "      <td>0.466237</td>\n",
       "    </tr>\n",
       "    <tr>\n",
       "      <th>Power</th>\n",
       "      <td>0.281772</td>\n",
       "    </tr>\n",
       "    <tr>\n",
       "      <th>Kilometer</th>\n",
       "      <td>0.079561</td>\n",
       "    </tr>\n",
       "    <tr>\n",
       "      <th>PostalCode</th>\n",
       "      <td>0.058145</td>\n",
       "    </tr>\n",
       "    <tr>\n",
       "      <th>Brand</th>\n",
       "      <td>0.044939</td>\n",
       "    </tr>\n",
       "    <tr>\n",
       "      <th>VehicleType</th>\n",
       "      <td>0.034008</td>\n",
       "    </tr>\n",
       "    <tr>\n",
       "      <th>Repaired</th>\n",
       "      <td>0.015318</td>\n",
       "    </tr>\n",
       "    <tr>\n",
       "      <th>FuelType</th>\n",
       "      <td>0.009926</td>\n",
       "    </tr>\n",
       "    <tr>\n",
       "      <th>Gearbox</th>\n",
       "      <td>0.007007</td>\n",
       "    </tr>\n",
       "    <tr>\n",
       "      <th>AgeType</th>\n",
       "      <td>0.003087</td>\n",
       "    </tr>\n",
       "  </tbody>\n",
       "</table>\n",
       "</div>"
      ],
      "text/plain": [
       "                  Относительная важность\n",
       "RegistrationYear                0.466237\n",
       "Power                           0.281772\n",
       "Kilometer                       0.079561\n",
       "PostalCode                      0.058145\n",
       "Brand                           0.044939\n",
       "VehicleType                     0.034008\n",
       "Repaired                        0.015318\n",
       "FuelType                        0.009926\n",
       "Gearbox                         0.007007\n",
       "AgeType                         0.003087"
      ]
     },
     "metadata": {},
     "output_type": "display_data"
    }
   ],
   "source": [
    "importances(model_rf, features_train)"
   ]
  },
  {
   "cell_type": "markdown",
   "metadata": {},
   "source": [
    "**Вывод**\n",
    "\n",
    "Показатели RMSE:\n",
    "- Результат LightGBM - 1627\n",
    "- Результат CatBoost - 1614\n",
    "- Результат RandomForestRegressor - 1640\n",
    "\n",
    "Показатели времени:\n",
    "- LightGBM: fit - 3min 19s, predict - 5 s                  \n",
    "- CatBoost: fit - 27 s, predict - 68 ms     \n",
    "- RandomForestRegressor: fit - 1min 3s, predict - 3 s\n",
    "                        \n",
    "Факторы важности:\n",
    "- LightGBM  --  PostalCode\t\n",
    "- CatBoost  --  RegistrationYear\n",
    "- RandomForestRegressor  --  RegistrationYear\n",
    "\n",
    "Из полученных результатов видно, что лучшей моделью является CatBoost. Её мы и будет использовать на тестовой выборке."
   ]
  },
  {
   "cell_type": "markdown",
   "metadata": {},
   "source": [
    "## Проверка лучшей модели на тестовой выборке"
   ]
  },
  {
   "cell_type": "code",
   "execution_count": 30,
   "metadata": {},
   "outputs": [
    {
     "name": "stdout",
     "output_type": "stream",
     "text": [
      "0:\tlearn: 3520.9770632\ttest: 3510.8633700\tbest: 3510.8633700 (0)\ttotal: 26.2ms\tremaining: 26.2s\n",
      "100:\tlearn: 1670.9011627\ttest: 1695.5620824\tbest: 1695.5620824 (100)\ttotal: 2.65s\tremaining: 23.6s\n",
      "200:\tlearn: 1592.4849352\ttest: 1653.0801177\tbest: 1653.0801177 (200)\ttotal: 5.33s\tremaining: 21.2s\n",
      "300:\tlearn: 1546.3366771\ttest: 1633.0667665\tbest: 1632.9713973 (298)\ttotal: 7.99s\tremaining: 18.6s\n",
      "400:\tlearn: 1512.8616873\ttest: 1622.7309032\tbest: 1622.7021488 (399)\ttotal: 10.7s\tremaining: 15.9s\n",
      "500:\tlearn: 1486.1079203\ttest: 1616.6340265\tbest: 1616.5150125 (494)\ttotal: 13.1s\tremaining: 13.1s\n",
      "600:\tlearn: 1462.2942593\ttest: 1610.0350520\tbest: 1610.0350520 (600)\ttotal: 15.5s\tremaining: 10.3s\n",
      "700:\tlearn: 1441.6999461\ttest: 1606.3131162\tbest: 1606.2503634 (698)\ttotal: 18s\tremaining: 7.67s\n",
      "800:\tlearn: 1423.7764894\ttest: 1603.1674505\tbest: 1603.1674505 (800)\ttotal: 20.5s\tremaining: 5.08s\n",
      "900:\tlearn: 1407.3755970\ttest: 1601.6872585\tbest: 1601.4527568 (893)\ttotal: 23s\tremaining: 2.53s\n",
      "999:\tlearn: 1392.3599304\ttest: 1599.6782133\tbest: 1599.5145408 (982)\ttotal: 25.5s\tremaining: 0us\n",
      "\n",
      "bestTest = 1599.514541\n",
      "bestIteration = 982\n",
      "\n",
      "Shrink model to first 983 iterations.\n"
     ]
    },
    {
     "data": {
      "text/plain": [
       "1599.514540757783"
      ]
     },
     "execution_count": 30,
     "metadata": {},
     "output_type": "execute_result"
    }
   ],
   "source": [
    "model_cat = CatBoostRegressor(random_state=12345, learning_rate=0.4, verbose=100, n_estimators=1000)\n",
    "model_cat.fit(features_train, target_train, eval_set=(features_test, target_test))\n",
    "predict_cat = model_cat.predict(features_test)\n",
    "mean_squared_error(target_test, predict_cat) ** .5"
   ]
  },
  {
   "cell_type": "markdown",
   "metadata": {},
   "source": [
    "**Вывод**\n",
    "\n",
    "Качество предсказаний, полученное на тестовой выборке удовлетворяет обозначенному условию"
   ]
  },
  {
   "cell_type": "markdown",
   "metadata": {},
   "source": [
    "## Вывод"
   ]
  },
  {
   "cell_type": "markdown",
   "metadata": {},
   "source": [
    "- в ходе предобработки и анализа полученных данных удалены ненужные признаки, категориальные признаки преобразованы в количественные, обработаны пропуски в признаках, удалены аномальные значения признаков\n",
    "- подготовлены выборки для обучения моделей при помощи train_test_split\n",
    "- обучены модели и получены такие результаты метрики RMSE:\n",
    "\n",
    "    - Результат LightGBM - 1627\n",
    "    - Результат CatBoost - 1614\n",
    "    - Результат RandomForestRegressor - 1640\n",
    "\n",
    "\n",
    "- время обучения и предсказания моделей:\n",
    "\n",
    "    - LightGBM: fit - 3min 19s, predict - 5 s\n",
    "    - CatBoost: fit - 27 s, predict - 68 ms\n",
    "    - RandomForestRegressor: fit - 1min 3s, predict - 3 s\n",
    "\n",
    "\n",
    "- общее заключение: для решения поставленной задачи наиболее подходящей моделью является *CatBoost*\n",
    "- результат модели RandomForestRegressor на тестовой выборке - 1600"
   ]
  }
 ],
 "metadata": {
  "ExecuteTimeLog": [
   {
    "duration": 56,
    "start_time": "2023-02-08T08:17:01.646Z"
   },
   {
    "duration": 1895,
    "start_time": "2023-02-08T08:17:05.627Z"
   },
   {
    "duration": 3010,
    "start_time": "2023-02-08T08:17:08.761Z"
   },
   {
    "duration": 13678,
    "start_time": "2023-02-08T08:17:31.610Z"
   },
   {
    "duration": 2505,
    "start_time": "2023-02-08T08:17:58.390Z"
   },
   {
    "duration": 843,
    "start_time": "2023-02-08T08:18:01.753Z"
   },
   {
    "duration": 16,
    "start_time": "2023-02-08T08:18:45.813Z"
   },
   {
    "duration": 130,
    "start_time": "2023-02-08T08:19:11.783Z"
   },
   {
    "duration": 89,
    "start_time": "2023-02-08T08:19:20.245Z"
   },
   {
    "duration": 38492,
    "start_time": "2023-02-08T08:19:29.061Z"
   },
   {
    "duration": 152,
    "start_time": "2023-02-08T08:22:53.451Z"
   },
   {
    "duration": 598,
    "start_time": "2023-02-08T08:23:01.202Z"
   },
   {
    "duration": 440,
    "start_time": "2023-02-08T08:24:31.040Z"
   },
   {
    "duration": 30,
    "start_time": "2023-02-08T08:32:01.652Z"
   },
   {
    "duration": 29,
    "start_time": "2023-02-08T08:32:26.252Z"
   },
   {
    "duration": 89,
    "start_time": "2023-02-08T08:32:40.000Z"
   },
   {
    "duration": 11,
    "start_time": "2023-02-08T08:37:52.745Z"
   },
   {
    "duration": 11,
    "start_time": "2023-02-08T08:38:00.351Z"
   },
   {
    "duration": 31,
    "start_time": "2023-02-08T08:38:06.220Z"
   },
   {
    "duration": 7,
    "start_time": "2023-02-08T08:45:09.156Z"
   },
   {
    "duration": 37,
    "start_time": "2023-02-08T08:45:15.864Z"
   },
   {
    "duration": 20,
    "start_time": "2023-02-08T08:46:01.487Z"
   },
   {
    "duration": 26,
    "start_time": "2023-02-08T08:46:05.734Z"
   },
   {
    "duration": 19,
    "start_time": "2023-02-08T08:46:30.299Z"
   },
   {
    "duration": 30,
    "start_time": "2023-02-08T08:46:31.863Z"
   },
   {
    "duration": 2326,
    "start_time": "2023-02-08T08:46:46.105Z"
   },
   {
    "duration": 886,
    "start_time": "2023-02-08T08:46:48.433Z"
   },
   {
    "duration": 18,
    "start_time": "2023-02-08T08:46:49.320Z"
   },
   {
    "duration": 179,
    "start_time": "2023-02-08T08:46:49.349Z"
   },
   {
    "duration": 106,
    "start_time": "2023-02-08T08:46:49.530Z"
   },
   {
    "duration": 42531,
    "start_time": "2023-02-08T08:46:49.638Z"
   },
   {
    "duration": 188,
    "start_time": "2023-02-08T08:47:32.172Z"
   },
   {
    "duration": 35,
    "start_time": "2023-02-08T08:47:32.362Z"
   },
   {
    "duration": 71,
    "start_time": "2023-02-08T08:47:32.399Z"
   },
   {
    "duration": 28,
    "start_time": "2023-02-08T08:47:32.473Z"
   },
   {
    "duration": 21,
    "start_time": "2023-02-08T08:47:32.504Z"
   },
   {
    "duration": 272,
    "start_time": "2023-02-08T08:51:19.632Z"
   },
   {
    "duration": 1006,
    "start_time": "2023-02-08T08:51:26.100Z"
   },
   {
    "duration": 287,
    "start_time": "2023-02-08T08:51:35.184Z"
   },
   {
    "duration": 33,
    "start_time": "2023-02-08T08:53:08.520Z"
   },
   {
    "duration": 70,
    "start_time": "2023-02-08T08:53:33.885Z"
   },
   {
    "duration": 22,
    "start_time": "2023-02-08T08:56:27.928Z"
   },
   {
    "duration": 80,
    "start_time": "2023-02-08T08:56:33.254Z"
   },
   {
    "duration": 1995,
    "start_time": "2023-02-08T08:58:00.394Z"
   },
   {
    "duration": 881,
    "start_time": "2023-02-08T08:58:02.391Z"
   },
   {
    "duration": 19,
    "start_time": "2023-02-08T08:58:03.274Z"
   },
   {
    "duration": 170,
    "start_time": "2023-02-08T08:58:03.294Z"
   },
   {
    "duration": 109,
    "start_time": "2023-02-08T08:58:03.466Z"
   },
   {
    "duration": 39577,
    "start_time": "2023-02-08T08:58:03.577Z"
   },
   {
    "duration": 200,
    "start_time": "2023-02-08T08:58:43.157Z"
   },
   {
    "duration": 37,
    "start_time": "2023-02-08T08:58:43.360Z"
   },
   {
    "duration": 331,
    "start_time": "2023-02-08T08:58:43.400Z"
   },
   {
    "duration": 37,
    "start_time": "2023-02-08T08:58:43.733Z"
   },
   {
    "duration": 24,
    "start_time": "2023-02-08T08:58:43.772Z"
   },
   {
    "duration": 94,
    "start_time": "2023-02-08T08:58:43.798Z"
   },
   {
    "duration": 70,
    "start_time": "2023-02-08T09:01:45.042Z"
   },
   {
    "duration": 68,
    "start_time": "2023-02-08T09:01:53.999Z"
   },
   {
    "duration": 3,
    "start_time": "2023-02-08T09:01:55.804Z"
   },
   {
    "duration": 178,
    "start_time": "2023-02-08T09:01:57.091Z"
   },
   {
    "duration": 17,
    "start_time": "2023-02-08T09:02:14.356Z"
   },
   {
    "duration": 3,
    "start_time": "2023-02-08T09:02:38.475Z"
   },
   {
    "duration": 725,
    "start_time": "2023-02-08T09:02:40.162Z"
   },
   {
    "duration": 49,
    "start_time": "2023-02-09T07:45:31.645Z"
   },
   {
    "duration": 481,
    "start_time": "2023-02-09T07:45:35.934Z"
   },
   {
    "duration": 0,
    "start_time": "2023-02-09T07:45:36.417Z"
   },
   {
    "duration": 0,
    "start_time": "2023-02-09T07:45:36.418Z"
   },
   {
    "duration": 0,
    "start_time": "2023-02-09T07:45:36.419Z"
   },
   {
    "duration": 0,
    "start_time": "2023-02-09T07:45:36.420Z"
   },
   {
    "duration": 0,
    "start_time": "2023-02-09T07:45:36.421Z"
   },
   {
    "duration": 0,
    "start_time": "2023-02-09T07:45:36.422Z"
   },
   {
    "duration": 0,
    "start_time": "2023-02-09T07:45:36.423Z"
   },
   {
    "duration": 0,
    "start_time": "2023-02-09T07:45:36.424Z"
   },
   {
    "duration": 0,
    "start_time": "2023-02-09T07:45:36.425Z"
   },
   {
    "duration": 0,
    "start_time": "2023-02-09T07:45:36.426Z"
   },
   {
    "duration": 0,
    "start_time": "2023-02-09T07:45:36.427Z"
   },
   {
    "duration": 0,
    "start_time": "2023-02-09T07:45:36.428Z"
   },
   {
    "duration": 0,
    "start_time": "2023-02-09T07:45:36.429Z"
   },
   {
    "duration": 0,
    "start_time": "2023-02-09T07:45:36.430Z"
   },
   {
    "duration": 0,
    "start_time": "2023-02-09T07:45:36.431Z"
   },
   {
    "duration": 0,
    "start_time": "2023-02-09T07:45:36.432Z"
   },
   {
    "duration": 14641,
    "start_time": "2023-02-09T08:20:00.585Z"
   },
   {
    "duration": 2279,
    "start_time": "2023-02-09T08:22:16.097Z"
   },
   {
    "duration": 950,
    "start_time": "2023-02-09T08:22:18.378Z"
   },
   {
    "duration": 16,
    "start_time": "2023-02-09T08:22:19.330Z"
   },
   {
    "duration": 111,
    "start_time": "2023-02-09T08:22:19.348Z"
   },
   {
    "duration": 96,
    "start_time": "2023-02-09T08:22:19.461Z"
   },
   {
    "duration": 33431,
    "start_time": "2023-02-09T08:22:19.558Z"
   },
   {
    "duration": 139,
    "start_time": "2023-02-09T08:22:52.991Z"
   },
   {
    "duration": 78,
    "start_time": "2023-02-09T08:22:53.132Z"
   },
   {
    "duration": 225,
    "start_time": "2023-02-09T08:22:53.211Z"
   },
   {
    "duration": 23,
    "start_time": "2023-02-09T08:22:53.438Z"
   },
   {
    "duration": 21,
    "start_time": "2023-02-09T08:22:53.462Z"
   },
   {
    "duration": 70,
    "start_time": "2023-02-09T08:22:53.484Z"
   },
   {
    "duration": 63,
    "start_time": "2023-02-09T08:22:53.555Z"
   },
   {
    "duration": 3,
    "start_time": "2023-02-09T08:22:53.619Z"
   },
   {
    "duration": 695,
    "start_time": "2023-02-09T08:22:53.623Z"
   },
   {
    "duration": 10,
    "start_time": "2023-02-09T08:22:54.320Z"
   },
   {
    "duration": 43,
    "start_time": "2023-02-09T08:22:54.331Z"
   },
   {
    "duration": 51104,
    "start_time": "2023-02-09T08:31:38.524Z"
   },
   {
    "duration": 11,
    "start_time": "2023-02-09T08:32:44.027Z"
   },
   {
    "duration": 13,
    "start_time": "2023-02-09T08:33:19.635Z"
   },
   {
    "duration": 2300,
    "start_time": "2023-02-09T08:35:44.107Z"
   },
   {
    "duration": 0,
    "start_time": "2023-02-09T08:35:46.410Z"
   },
   {
    "duration": 0,
    "start_time": "2023-02-09T08:35:46.411Z"
   },
   {
    "duration": 0,
    "start_time": "2023-02-09T08:35:46.412Z"
   },
   {
    "duration": 0,
    "start_time": "2023-02-09T08:35:46.413Z"
   },
   {
    "duration": 0,
    "start_time": "2023-02-09T08:35:46.414Z"
   },
   {
    "duration": 0,
    "start_time": "2023-02-09T08:35:46.415Z"
   },
   {
    "duration": 0,
    "start_time": "2023-02-09T08:35:46.416Z"
   },
   {
    "duration": 0,
    "start_time": "2023-02-09T08:35:46.418Z"
   },
   {
    "duration": 0,
    "start_time": "2023-02-09T08:35:46.419Z"
   },
   {
    "duration": 0,
    "start_time": "2023-02-09T08:35:46.420Z"
   },
   {
    "duration": 0,
    "start_time": "2023-02-09T08:35:46.422Z"
   },
   {
    "duration": 0,
    "start_time": "2023-02-09T08:35:46.423Z"
   },
   {
    "duration": 0,
    "start_time": "2023-02-09T08:35:46.424Z"
   },
   {
    "duration": 0,
    "start_time": "2023-02-09T08:35:46.425Z"
   },
   {
    "duration": 0,
    "start_time": "2023-02-09T08:35:46.425Z"
   },
   {
    "duration": 0,
    "start_time": "2023-02-09T08:35:46.426Z"
   },
   {
    "duration": 0,
    "start_time": "2023-02-09T08:35:46.427Z"
   },
   {
    "duration": 0,
    "start_time": "2023-02-09T08:35:46.429Z"
   },
   {
    "duration": 3,
    "start_time": "2023-02-09T10:44:34.978Z"
   },
   {
    "duration": 2001,
    "start_time": "2023-02-09T10:44:40.286Z"
   },
   {
    "duration": 798,
    "start_time": "2023-02-09T10:44:42.289Z"
   },
   {
    "duration": 20,
    "start_time": "2023-02-09T10:44:43.090Z"
   },
   {
    "duration": 119,
    "start_time": "2023-02-09T10:44:43.113Z"
   },
   {
    "duration": 119,
    "start_time": "2023-02-09T10:44:43.234Z"
   },
   {
    "duration": 35922,
    "start_time": "2023-02-09T10:44:43.355Z"
   },
   {
    "duration": 155,
    "start_time": "2023-02-09T10:45:19.279Z"
   },
   {
    "duration": 83,
    "start_time": "2023-02-09T10:45:19.436Z"
   },
   {
    "duration": 247,
    "start_time": "2023-02-09T10:45:19.521Z"
   },
   {
    "duration": 39,
    "start_time": "2023-02-09T10:45:19.771Z"
   },
   {
    "duration": 23,
    "start_time": "2023-02-09T10:45:19.811Z"
   },
   {
    "duration": 74,
    "start_time": "2023-02-09T10:45:19.836Z"
   },
   {
    "duration": 61,
    "start_time": "2023-02-09T10:45:19.911Z"
   },
   {
    "duration": 2,
    "start_time": "2023-02-09T10:45:19.974Z"
   },
   {
    "duration": 694,
    "start_time": "2023-02-09T10:45:19.978Z"
   },
   {
    "duration": 9,
    "start_time": "2023-02-09T10:45:20.674Z"
   },
   {
    "duration": 54,
    "start_time": "2023-02-09T10:45:20.685Z"
   },
   {
    "duration": 49478,
    "start_time": "2023-02-09T10:48:44.182Z"
   },
   {
    "duration": 2134,
    "start_time": "2023-02-09T10:52:40.358Z"
   },
   {
    "duration": 1095,
    "start_time": "2023-02-09T10:52:42.494Z"
   },
   {
    "duration": 25,
    "start_time": "2023-02-09T10:52:43.591Z"
   },
   {
    "duration": 145,
    "start_time": "2023-02-09T10:52:43.618Z"
   },
   {
    "duration": 102,
    "start_time": "2023-02-09T10:52:43.765Z"
   },
   {
    "duration": 36432,
    "start_time": "2023-02-09T10:52:43.869Z"
   },
   {
    "duration": 130,
    "start_time": "2023-02-09T10:53:20.302Z"
   },
   {
    "duration": 77,
    "start_time": "2023-02-09T10:53:20.434Z"
   },
   {
    "duration": 234,
    "start_time": "2023-02-09T10:53:20.513Z"
   },
   {
    "duration": 28,
    "start_time": "2023-02-09T10:53:20.749Z"
   },
   {
    "duration": 38,
    "start_time": "2023-02-09T10:53:20.779Z"
   },
   {
    "duration": 62,
    "start_time": "2023-02-09T10:53:20.818Z"
   },
   {
    "duration": 87,
    "start_time": "2023-02-09T10:53:20.882Z"
   },
   {
    "duration": 3,
    "start_time": "2023-02-09T10:53:20.971Z"
   },
   {
    "duration": 715,
    "start_time": "2023-02-09T10:53:20.976Z"
   },
   {
    "duration": 17,
    "start_time": "2023-02-09T10:53:21.693Z"
   },
   {
    "duration": 44,
    "start_time": "2023-02-09T10:53:21.711Z"
   },
   {
    "duration": 4,
    "start_time": "2023-02-09T10:53:21.757Z"
   },
   {
    "duration": 45657,
    "start_time": "2023-02-09T10:53:21.762Z"
   },
   {
    "duration": 11495,
    "start_time": "2023-02-09T10:54:07.420Z"
   },
   {
    "duration": 49716,
    "start_time": "2023-02-09T10:54:18.917Z"
   },
   {
    "duration": 2050,
    "start_time": "2023-02-09T10:57:38.053Z"
   },
   {
    "duration": 773,
    "start_time": "2023-02-09T10:57:40.105Z"
   },
   {
    "duration": 17,
    "start_time": "2023-02-09T10:57:40.880Z"
   },
   {
    "duration": 164,
    "start_time": "2023-02-09T10:57:40.909Z"
   },
   {
    "duration": 100,
    "start_time": "2023-02-09T10:57:41.076Z"
   },
   {
    "duration": 38023,
    "start_time": "2023-02-09T10:57:41.178Z"
   },
   {
    "duration": 145,
    "start_time": "2023-02-09T10:58:19.204Z"
   },
   {
    "duration": 89,
    "start_time": "2023-02-09T10:58:19.352Z"
   },
   {
    "duration": 287,
    "start_time": "2023-02-09T10:58:19.443Z"
   },
   {
    "duration": 27,
    "start_time": "2023-02-09T10:58:19.732Z"
   },
   {
    "duration": 24,
    "start_time": "2023-02-09T10:58:19.761Z"
   },
   {
    "duration": 78,
    "start_time": "2023-02-09T10:58:19.787Z"
   },
   {
    "duration": 74,
    "start_time": "2023-02-09T10:58:19.867Z"
   },
   {
    "duration": 2,
    "start_time": "2023-02-09T10:58:19.944Z"
   },
   {
    "duration": 703,
    "start_time": "2023-02-09T10:58:19.948Z"
   },
   {
    "duration": 10,
    "start_time": "2023-02-09T10:58:20.653Z"
   },
   {
    "duration": 63,
    "start_time": "2023-02-09T10:58:20.665Z"
   },
   {
    "duration": 4,
    "start_time": "2023-02-09T10:58:20.730Z"
   },
   {
    "duration": 56792,
    "start_time": "2023-02-09T10:58:20.736Z"
   },
   {
    "duration": 14286,
    "start_time": "2023-02-09T10:59:17.529Z"
   },
   {
    "duration": 54670,
    "start_time": "2023-02-09T10:59:31.817Z"
   },
   {
    "duration": 2065,
    "start_time": "2023-02-09T11:39:14.372Z"
   },
   {
    "duration": 872,
    "start_time": "2023-02-09T11:39:16.440Z"
   },
   {
    "duration": 17,
    "start_time": "2023-02-09T11:39:17.314Z"
   },
   {
    "duration": 124,
    "start_time": "2023-02-09T11:39:17.333Z"
   },
   {
    "duration": 110,
    "start_time": "2023-02-09T11:39:17.459Z"
   },
   {
    "duration": 38635,
    "start_time": "2023-02-09T11:39:17.570Z"
   },
   {
    "duration": 233,
    "start_time": "2023-02-09T11:39:56.208Z"
   },
   {
    "duration": 80,
    "start_time": "2023-02-09T11:39:56.443Z"
   },
   {
    "duration": 230,
    "start_time": "2023-02-09T11:39:56.525Z"
   },
   {
    "duration": 28,
    "start_time": "2023-02-09T11:39:56.758Z"
   },
   {
    "duration": 36,
    "start_time": "2023-02-09T11:39:56.788Z"
   },
   {
    "duration": 87,
    "start_time": "2023-02-09T11:39:56.826Z"
   },
   {
    "duration": 79,
    "start_time": "2023-02-09T11:39:56.916Z"
   },
   {
    "duration": 13,
    "start_time": "2023-02-09T11:39:56.997Z"
   },
   {
    "duration": 757,
    "start_time": "2023-02-09T11:39:57.012Z"
   },
   {
    "duration": 12,
    "start_time": "2023-02-09T11:39:57.771Z"
   },
   {
    "duration": 60,
    "start_time": "2023-02-09T11:39:57.785Z"
   },
   {
    "duration": 4,
    "start_time": "2023-02-09T11:39:57.846Z"
   },
   {
    "duration": 1007068,
    "start_time": "2023-02-09T11:39:57.852Z"
   },
   {
    "duration": 12290,
    "start_time": "2023-02-09T11:56:44.922Z"
   },
   {
    "duration": 51591,
    "start_time": "2023-02-09T11:56:57.214Z"
   },
   {
    "duration": 12,
    "start_time": "2023-02-09T12:47:58.182Z"
   },
   {
    "duration": 310,
    "start_time": "2023-02-09T12:50:34.578Z"
   },
   {
    "duration": 216550,
    "start_time": "2023-02-09T12:50:40.605Z"
   },
   {
    "duration": 2022,
    "start_time": "2023-02-09T13:10:57.118Z"
   },
   {
    "duration": 801,
    "start_time": "2023-02-09T13:10:59.141Z"
   },
   {
    "duration": 17,
    "start_time": "2023-02-09T13:10:59.944Z"
   },
   {
    "duration": 131,
    "start_time": "2023-02-09T13:10:59.963Z"
   },
   {
    "duration": 99,
    "start_time": "2023-02-09T13:11:00.096Z"
   },
   {
    "duration": 35473,
    "start_time": "2023-02-09T13:11:00.196Z"
   },
   {
    "duration": 150,
    "start_time": "2023-02-09T13:11:35.671Z"
   },
   {
    "duration": 29,
    "start_time": "2023-02-09T13:11:35.822Z"
   },
   {
    "duration": 269,
    "start_time": "2023-02-09T13:11:35.853Z"
   },
   {
    "duration": 29,
    "start_time": "2023-02-09T13:11:36.126Z"
   },
   {
    "duration": 24,
    "start_time": "2023-02-09T13:11:36.157Z"
   },
   {
    "duration": 82,
    "start_time": "2023-02-09T13:11:36.183Z"
   },
   {
    "duration": 89,
    "start_time": "2023-02-09T13:11:36.268Z"
   },
   {
    "duration": 3,
    "start_time": "2023-02-09T13:11:36.358Z"
   },
   {
    "duration": 766,
    "start_time": "2023-02-09T13:11:36.363Z"
   },
   {
    "duration": 16,
    "start_time": "2023-02-09T13:11:37.132Z"
   },
   {
    "duration": 75,
    "start_time": "2023-02-09T13:11:37.149Z"
   },
   {
    "duration": 4,
    "start_time": "2023-02-09T13:11:37.227Z"
   },
   {
    "duration": 60783,
    "start_time": "2023-02-09T13:11:37.233Z"
   },
   {
    "duration": 16198,
    "start_time": "2023-02-09T13:12:38.018Z"
   },
   {
    "duration": 54068,
    "start_time": "2023-02-09T13:12:54.218Z"
   },
   {
    "duration": 219471,
    "start_time": "2023-02-09T13:13:48.288Z"
   },
   {
    "duration": 626,
    "start_time": "2023-02-10T07:58:52.268Z"
   },
   {
    "duration": 0,
    "start_time": "2023-02-10T07:58:52.897Z"
   },
   {
    "duration": 0,
    "start_time": "2023-02-10T07:58:52.898Z"
   },
   {
    "duration": 0,
    "start_time": "2023-02-10T07:58:52.899Z"
   },
   {
    "duration": 0,
    "start_time": "2023-02-10T07:58:52.900Z"
   },
   {
    "duration": 0,
    "start_time": "2023-02-10T07:58:52.901Z"
   },
   {
    "duration": 0,
    "start_time": "2023-02-10T07:58:52.902Z"
   },
   {
    "duration": 0,
    "start_time": "2023-02-10T07:58:52.903Z"
   },
   {
    "duration": 0,
    "start_time": "2023-02-10T07:58:52.904Z"
   },
   {
    "duration": 0,
    "start_time": "2023-02-10T07:58:52.905Z"
   },
   {
    "duration": 0,
    "start_time": "2023-02-10T07:58:52.906Z"
   },
   {
    "duration": 0,
    "start_time": "2023-02-10T07:58:52.907Z"
   },
   {
    "duration": 0,
    "start_time": "2023-02-10T07:58:52.908Z"
   },
   {
    "duration": 0,
    "start_time": "2023-02-10T07:58:52.909Z"
   },
   {
    "duration": 0,
    "start_time": "2023-02-10T07:58:52.910Z"
   },
   {
    "duration": 0,
    "start_time": "2023-02-10T07:58:52.911Z"
   },
   {
    "duration": 0,
    "start_time": "2023-02-10T07:58:52.912Z"
   },
   {
    "duration": 0,
    "start_time": "2023-02-10T07:58:52.913Z"
   },
   {
    "duration": 0,
    "start_time": "2023-02-10T07:58:52.914Z"
   },
   {
    "duration": 0,
    "start_time": "2023-02-10T07:58:52.915Z"
   },
   {
    "duration": 0,
    "start_time": "2023-02-10T07:58:52.916Z"
   },
   {
    "duration": 0,
    "start_time": "2023-02-10T07:58:52.917Z"
   },
   {
    "duration": 18062,
    "start_time": "2023-02-10T07:59:07.777Z"
   },
   {
    "duration": 5427,
    "start_time": "2023-02-10T07:59:38.202Z"
   },
   {
    "duration": 1904,
    "start_time": "2023-02-10T07:59:43.632Z"
   },
   {
    "duration": 168,
    "start_time": "2023-02-10T07:59:45.538Z"
   },
   {
    "duration": 754,
    "start_time": "2023-02-10T07:59:45.709Z"
   },
   {
    "duration": 132,
    "start_time": "2023-02-10T07:59:46.465Z"
   },
   {
    "duration": 53398,
    "start_time": "2023-02-10T07:59:46.599Z"
   },
   {
    "duration": 237,
    "start_time": "2023-02-10T08:00:39.999Z"
   },
   {
    "duration": 86,
    "start_time": "2023-02-10T08:00:40.238Z"
   },
   {
    "duration": 381,
    "start_time": "2023-02-10T08:00:40.326Z"
   },
   {
    "duration": 34,
    "start_time": "2023-02-10T08:00:40.710Z"
   },
   {
    "duration": 29,
    "start_time": "2023-02-10T08:00:40.746Z"
   },
   {
    "duration": 119,
    "start_time": "2023-02-10T08:00:40.795Z"
   },
   {
    "duration": 125,
    "start_time": "2023-02-10T08:00:40.921Z"
   },
   {
    "duration": 4,
    "start_time": "2023-02-10T08:00:41.050Z"
   },
   {
    "duration": 1242,
    "start_time": "2023-02-10T08:00:41.055Z"
   },
   {
    "duration": 15,
    "start_time": "2023-02-10T08:00:42.299Z"
   },
   {
    "duration": 87,
    "start_time": "2023-02-10T08:00:42.319Z"
   },
   {
    "duration": 5,
    "start_time": "2023-02-10T08:00:42.408Z"
   },
   {
    "duration": 2855,
    "start_time": "2023-02-10T08:24:20.878Z"
   },
   {
    "duration": 1301,
    "start_time": "2023-02-10T08:24:23.736Z"
   },
   {
    "duration": 25,
    "start_time": "2023-02-10T08:24:25.040Z"
   },
   {
    "duration": 253,
    "start_time": "2023-02-10T08:24:25.068Z"
   },
   {
    "duration": 133,
    "start_time": "2023-02-10T08:24:25.327Z"
   },
   {
    "duration": 50828,
    "start_time": "2023-02-10T08:24:25.463Z"
   },
   {
    "duration": 252,
    "start_time": "2023-02-10T08:25:16.309Z"
   },
   {
    "duration": 68,
    "start_time": "2023-02-10T08:25:16.563Z"
   },
   {
    "duration": 281,
    "start_time": "2023-02-10T08:25:16.633Z"
   },
   {
    "duration": 30,
    "start_time": "2023-02-10T08:25:16.915Z"
   },
   {
    "duration": 23,
    "start_time": "2023-02-10T08:25:16.947Z"
   },
   {
    "duration": 98,
    "start_time": "2023-02-10T08:25:16.972Z"
   },
   {
    "duration": 137,
    "start_time": "2023-02-10T08:25:17.072Z"
   },
   {
    "duration": 8,
    "start_time": "2023-02-10T08:25:17.212Z"
   },
   {
    "duration": 1297,
    "start_time": "2023-02-10T08:25:17.222Z"
   },
   {
    "duration": 14,
    "start_time": "2023-02-10T08:25:18.521Z"
   },
   {
    "duration": 78,
    "start_time": "2023-02-10T08:25:18.537Z"
   },
   {
    "duration": 12,
    "start_time": "2023-02-10T08:25:18.620Z"
   },
   {
    "duration": 342,
    "start_time": "2023-02-10T08:25:18.641Z"
   },
   {
    "duration": 2636,
    "start_time": "2023-02-10T08:26:00.456Z"
   },
   {
    "duration": 1145,
    "start_time": "2023-02-10T08:26:03.094Z"
   },
   {
    "duration": 39,
    "start_time": "2023-02-10T08:26:04.242Z"
   },
   {
    "duration": 280,
    "start_time": "2023-02-10T08:26:04.285Z"
   },
   {
    "duration": 143,
    "start_time": "2023-02-10T08:26:04.568Z"
   },
   {
    "duration": 51631,
    "start_time": "2023-02-10T08:26:04.719Z"
   },
   {
    "duration": 262,
    "start_time": "2023-02-10T08:26:56.353Z"
   },
   {
    "duration": 33,
    "start_time": "2023-02-10T08:26:56.617Z"
   },
   {
    "duration": 332,
    "start_time": "2023-02-10T08:26:56.651Z"
   },
   {
    "duration": 44,
    "start_time": "2023-02-10T08:26:56.985Z"
   },
   {
    "duration": 29,
    "start_time": "2023-02-10T08:26:57.032Z"
   },
   {
    "duration": 121,
    "start_time": "2023-02-10T08:26:57.063Z"
   },
   {
    "duration": 136,
    "start_time": "2023-02-10T08:26:57.186Z"
   },
   {
    "duration": 4,
    "start_time": "2023-02-10T08:26:57.329Z"
   },
   {
    "duration": 1233,
    "start_time": "2023-02-10T08:26:57.335Z"
   },
   {
    "duration": 34,
    "start_time": "2023-02-10T08:26:58.570Z"
   },
   {
    "duration": 68,
    "start_time": "2023-02-10T08:26:58.610Z"
   },
   {
    "duration": 5,
    "start_time": "2023-02-10T08:26:58.680Z"
   },
   {
    "duration": 2162726,
    "start_time": "2023-02-10T08:26:58.686Z"
   },
   {
    "duration": 1428619,
    "start_time": "2023-02-10T09:03:01.414Z"
   },
   {
    "duration": 69490,
    "start_time": "2023-02-10T09:26:50.039Z"
   },
   {
    "duration": 228444,
    "start_time": "2023-02-10T09:27:59.530Z"
   },
   {
    "duration": 5215,
    "start_time": "2023-02-10T09:48:36.121Z"
   },
   {
    "duration": 230,
    "start_time": "2023-02-10T10:16:32.030Z"
   },
   {
    "duration": 42080,
    "start_time": "2023-02-10T10:16:46.556Z"
   },
   {
    "duration": 42442,
    "start_time": "2023-02-10T10:18:36.824Z"
   },
   {
    "duration": 54698,
    "start_time": "2023-02-10T10:26:14.532Z"
   },
   {
    "duration": 2180,
    "start_time": "2023-02-10T10:32:51.147Z"
   },
   {
    "duration": 920,
    "start_time": "2023-02-10T10:32:53.328Z"
   },
   {
    "duration": 21,
    "start_time": "2023-02-10T10:32:54.250Z"
   },
   {
    "duration": 198,
    "start_time": "2023-02-10T10:32:54.273Z"
   },
   {
    "duration": 115,
    "start_time": "2023-02-10T10:32:54.473Z"
   },
   {
    "duration": 39588,
    "start_time": "2023-02-10T10:32:54.596Z"
   },
   {
    "duration": 267,
    "start_time": "2023-02-10T10:33:34.186Z"
   },
   {
    "duration": 39,
    "start_time": "2023-02-10T10:33:34.455Z"
   },
   {
    "duration": 342,
    "start_time": "2023-02-10T10:33:34.498Z"
   },
   {
    "duration": 26,
    "start_time": "2023-02-10T10:33:34.843Z"
   },
   {
    "duration": 44,
    "start_time": "2023-02-10T10:33:34.871Z"
   },
   {
    "duration": 77,
    "start_time": "2023-02-10T10:33:34.924Z"
   },
   {
    "duration": 79,
    "start_time": "2023-02-10T10:33:35.009Z"
   },
   {
    "duration": 2,
    "start_time": "2023-02-10T10:33:35.090Z"
   },
   {
    "duration": 823,
    "start_time": "2023-02-10T10:33:35.094Z"
   },
   {
    "duration": 12,
    "start_time": "2023-02-10T10:33:35.923Z"
   },
   {
    "duration": 62,
    "start_time": "2023-02-10T10:33:35.936Z"
   },
   {
    "duration": 8,
    "start_time": "2023-02-10T10:33:36.000Z"
   },
   {
    "duration": 1713303,
    "start_time": "2023-02-10T10:33:36.012Z"
   },
   {
    "duration": 497194,
    "start_time": "2023-02-10T11:02:09.317Z"
   },
   {
    "duration": 59335,
    "start_time": "2023-02-10T11:10:26.520Z"
   },
   {
    "duration": 214552,
    "start_time": "2023-02-10T11:11:25.856Z"
   },
   {
    "duration": 55025,
    "start_time": "2023-02-10T11:15:00.418Z"
   },
   {
    "duration": 14914,
    "start_time": "2023-02-12T00:51:54.364Z"
   },
   {
    "duration": 2313,
    "start_time": "2023-02-12T00:52:09.280Z"
   },
   {
    "duration": 1125,
    "start_time": "2023-02-12T00:52:11.595Z"
   },
   {
    "duration": 125,
    "start_time": "2023-02-12T00:52:12.723Z"
   },
   {
    "duration": 127,
    "start_time": "2023-02-12T00:52:12.850Z"
   },
   {
    "duration": 109,
    "start_time": "2023-02-12T00:52:12.979Z"
   },
   {
    "duration": 38631,
    "start_time": "2023-02-12T00:52:13.090Z"
   },
   {
    "duration": 132,
    "start_time": "2023-02-12T00:52:51.728Z"
   },
   {
    "duration": 81,
    "start_time": "2023-02-12T00:52:51.862Z"
   },
   {
    "duration": 274,
    "start_time": "2023-02-12T00:52:51.946Z"
   },
   {
    "duration": 26,
    "start_time": "2023-02-12T00:52:52.226Z"
   },
   {
    "duration": 27,
    "start_time": "2023-02-12T00:52:52.254Z"
   },
   {
    "duration": 81,
    "start_time": "2023-02-12T00:52:52.283Z"
   },
   {
    "duration": 76,
    "start_time": "2023-02-12T00:52:52.366Z"
   },
   {
    "duration": 3,
    "start_time": "2023-02-12T00:52:52.444Z"
   },
   {
    "duration": 794,
    "start_time": "2023-02-12T00:52:52.449Z"
   },
   {
    "duration": 16,
    "start_time": "2023-02-12T00:52:53.245Z"
   },
   {
    "duration": 84,
    "start_time": "2023-02-12T00:52:53.262Z"
   },
   {
    "duration": 5,
    "start_time": "2023-02-12T00:52:53.349Z"
   },
   {
    "duration": 193184,
    "start_time": "2023-02-12T00:52:53.356Z"
   },
   {
    "duration": 13689,
    "start_time": "2023-02-12T00:56:06.542Z"
   },
   {
    "duration": 62083,
    "start_time": "2023-02-12T00:56:20.232Z"
   },
   {
    "duration": 2277,
    "start_time": "2023-02-12T00:57:47.955Z"
   },
   {
    "duration": 2813,
    "start_time": "2023-02-12T00:57:50.235Z"
   },
   {
    "duration": 807,
    "start_time": "2023-02-12T00:57:53.050Z"
   },
   {
    "duration": 18,
    "start_time": "2023-02-12T00:57:53.859Z"
   },
   {
    "duration": 124,
    "start_time": "2023-02-12T00:57:53.879Z"
   },
   {
    "duration": 102,
    "start_time": "2023-02-12T00:57:54.005Z"
   },
   {
    "duration": 37308,
    "start_time": "2023-02-12T00:57:54.109Z"
   },
   {
    "duration": 24,
    "start_time": "2023-02-12T00:58:31.420Z"
   },
   {
    "duration": 143,
    "start_time": "2023-02-12T00:58:31.446Z"
   },
   {
    "duration": 60,
    "start_time": "2023-02-12T00:58:31.592Z"
   },
   {
    "duration": 254,
    "start_time": "2023-02-12T00:58:31.654Z"
   },
   {
    "duration": 32,
    "start_time": "2023-02-12T00:58:31.910Z"
   },
   {
    "duration": 26,
    "start_time": "2023-02-12T00:58:31.944Z"
   },
   {
    "duration": 7,
    "start_time": "2023-02-12T00:58:31.971Z"
   },
   {
    "duration": 88,
    "start_time": "2023-02-12T00:58:31.979Z"
   },
   {
    "duration": 70,
    "start_time": "2023-02-12T00:58:32.069Z"
   },
   {
    "duration": 2,
    "start_time": "2023-02-12T00:58:32.141Z"
   },
   {
    "duration": 779,
    "start_time": "2023-02-12T00:58:32.145Z"
   },
   {
    "duration": 14,
    "start_time": "2023-02-12T00:58:32.926Z"
   },
   {
    "duration": 68,
    "start_time": "2023-02-12T00:58:32.941Z"
   },
   {
    "duration": 3,
    "start_time": "2023-02-12T00:58:33.011Z"
   },
   {
    "duration": 2401,
    "start_time": "2023-02-12T01:00:00.479Z"
   },
   {
    "duration": 3782,
    "start_time": "2023-02-12T01:00:02.882Z"
   },
   {
    "duration": 1015,
    "start_time": "2023-02-12T01:00:06.666Z"
   },
   {
    "duration": 20,
    "start_time": "2023-02-12T01:00:07.683Z"
   },
   {
    "duration": 129,
    "start_time": "2023-02-12T01:00:07.705Z"
   },
   {
    "duration": 113,
    "start_time": "2023-02-12T01:00:07.836Z"
   },
   {
    "duration": 37746,
    "start_time": "2023-02-12T01:00:07.950Z"
   },
   {
    "duration": 31,
    "start_time": "2023-02-12T01:00:45.699Z"
   },
   {
    "duration": 129,
    "start_time": "2023-02-12T01:00:45.732Z"
   },
   {
    "duration": 63,
    "start_time": "2023-02-12T01:00:45.864Z"
   },
   {
    "duration": 255,
    "start_time": "2023-02-12T01:00:45.929Z"
   },
   {
    "duration": 26,
    "start_time": "2023-02-12T01:00:46.186Z"
   },
   {
    "duration": 35,
    "start_time": "2023-02-12T01:00:46.214Z"
   },
   {
    "duration": 216,
    "start_time": "2023-02-12T01:00:46.251Z"
   },
   {
    "duration": 0,
    "start_time": "2023-02-12T01:00:46.469Z"
   },
   {
    "duration": 0,
    "start_time": "2023-02-12T01:00:46.470Z"
   },
   {
    "duration": 0,
    "start_time": "2023-02-12T01:00:46.472Z"
   },
   {
    "duration": 0,
    "start_time": "2023-02-12T01:00:46.473Z"
   },
   {
    "duration": 0,
    "start_time": "2023-02-12T01:00:46.475Z"
   },
   {
    "duration": 0,
    "start_time": "2023-02-12T01:00:46.476Z"
   },
   {
    "duration": 0,
    "start_time": "2023-02-12T01:00:46.477Z"
   },
   {
    "duration": 0,
    "start_time": "2023-02-12T01:00:46.478Z"
   },
   {
    "duration": 0,
    "start_time": "2023-02-12T01:00:46.480Z"
   },
   {
    "duration": 0,
    "start_time": "2023-02-12T01:00:46.481Z"
   },
   {
    "duration": 0,
    "start_time": "2023-02-12T01:00:46.482Z"
   },
   {
    "duration": 0,
    "start_time": "2023-02-12T01:00:46.484Z"
   },
   {
    "duration": 14,
    "start_time": "2023-02-12T01:01:16.027Z"
   },
   {
    "duration": 16,
    "start_time": "2023-02-12T01:01:24.911Z"
   },
   {
    "duration": 28,
    "start_time": "2023-02-12T01:01:26.518Z"
   },
   {
    "duration": 62,
    "start_time": "2023-02-12T01:03:05.336Z"
   },
   {
    "duration": 2,
    "start_time": "2023-02-12T01:17:22.966Z"
   },
   {
    "duration": 25,
    "start_time": "2023-02-12T01:22:38.417Z"
   },
   {
    "duration": 85,
    "start_time": "2023-02-12T01:22:39.937Z"
   },
   {
    "duration": 30,
    "start_time": "2023-02-12T01:22:41.455Z"
   },
   {
    "duration": 3,
    "start_time": "2023-02-12T01:22:43.007Z"
   },
   {
    "duration": 478,
    "start_time": "2023-02-12T01:22:48.702Z"
   },
   {
    "duration": 97,
    "start_time": "2023-02-12T01:22:51.759Z"
   },
   {
    "duration": 20,
    "start_time": "2023-02-12T01:22:56.771Z"
   },
   {
    "duration": 37,
    "start_time": "2023-02-12T01:23:27.312Z"
   },
   {
    "duration": 34,
    "start_time": "2023-02-12T01:23:37.113Z"
   },
   {
    "duration": 2242,
    "start_time": "2023-02-12T01:23:51.840Z"
   },
   {
    "duration": 934,
    "start_time": "2023-02-12T01:23:54.084Z"
   },
   {
    "duration": 26,
    "start_time": "2023-02-12T01:23:55.020Z"
   },
   {
    "duration": 172,
    "start_time": "2023-02-12T01:23:55.049Z"
   },
   {
    "duration": 116,
    "start_time": "2023-02-12T01:23:55.222Z"
   },
   {
    "duration": 39941,
    "start_time": "2023-02-12T01:23:55.339Z"
   },
   {
    "duration": 169,
    "start_time": "2023-02-12T01:24:35.282Z"
   },
   {
    "duration": 80,
    "start_time": "2023-02-12T01:24:35.453Z"
   },
   {
    "duration": 276,
    "start_time": "2023-02-12T01:24:35.535Z"
   },
   {
    "duration": 40,
    "start_time": "2023-02-12T01:24:35.814Z"
   },
   {
    "duration": 27,
    "start_time": "2023-02-12T01:24:35.855Z"
   },
   {
    "duration": 88,
    "start_time": "2023-02-12T01:24:35.884Z"
   },
   {
    "duration": 33,
    "start_time": "2023-02-12T01:24:35.974Z"
   },
   {
    "duration": 3,
    "start_time": "2023-02-12T01:24:36.009Z"
   },
   {
    "duration": 891,
    "start_time": "2023-02-12T01:24:36.026Z"
   },
   {
    "duration": 525,
    "start_time": "2023-02-12T01:24:36.920Z"
   },
   {
    "duration": 183,
    "start_time": "2023-02-12T01:24:37.448Z"
   },
   {
    "duration": 0,
    "start_time": "2023-02-12T01:24:37.633Z"
   },
   {
    "duration": 0,
    "start_time": "2023-02-12T01:24:37.635Z"
   },
   {
    "duration": 0,
    "start_time": "2023-02-12T01:24:37.636Z"
   },
   {
    "duration": 0,
    "start_time": "2023-02-12T01:24:37.638Z"
   },
   {
    "duration": 0,
    "start_time": "2023-02-12T01:24:37.639Z"
   },
   {
    "duration": 0,
    "start_time": "2023-02-12T01:24:37.640Z"
   },
   {
    "duration": 0,
    "start_time": "2023-02-12T01:24:37.642Z"
   },
   {
    "duration": 0,
    "start_time": "2023-02-12T01:24:37.643Z"
   },
   {
    "duration": 31,
    "start_time": "2023-02-12T01:26:55.499Z"
   },
   {
    "duration": 2116,
    "start_time": "2023-02-12T01:28:35.761Z"
   },
   {
    "duration": 895,
    "start_time": "2023-02-12T01:28:37.879Z"
   },
   {
    "duration": 19,
    "start_time": "2023-02-12T01:28:38.776Z"
   },
   {
    "duration": 144,
    "start_time": "2023-02-12T01:28:38.797Z"
   },
   {
    "duration": 120,
    "start_time": "2023-02-12T01:28:38.943Z"
   },
   {
    "duration": 42784,
    "start_time": "2023-02-12T01:28:39.065Z"
   },
   {
    "duration": 116,
    "start_time": "2023-02-12T01:29:21.852Z"
   },
   {
    "duration": 82,
    "start_time": "2023-02-12T01:29:21.970Z"
   },
   {
    "duration": 284,
    "start_time": "2023-02-12T01:29:22.054Z"
   },
   {
    "duration": 27,
    "start_time": "2023-02-12T01:29:22.342Z"
   },
   {
    "duration": 34,
    "start_time": "2023-02-12T01:29:22.371Z"
   },
   {
    "duration": 83,
    "start_time": "2023-02-12T01:29:22.407Z"
   },
   {
    "duration": 47,
    "start_time": "2023-02-12T01:29:22.492Z"
   },
   {
    "duration": 3,
    "start_time": "2023-02-12T01:29:22.542Z"
   },
   {
    "duration": 723,
    "start_time": "2023-02-12T01:29:22.547Z"
   },
   {
    "duration": 1,
    "start_time": "2023-02-12T01:29:23.271Z"
   },
   {
    "duration": 0,
    "start_time": "2023-02-12T01:29:23.273Z"
   },
   {
    "duration": 0,
    "start_time": "2023-02-12T01:29:23.274Z"
   },
   {
    "duration": 0,
    "start_time": "2023-02-12T01:29:23.275Z"
   },
   {
    "duration": 0,
    "start_time": "2023-02-12T01:29:23.276Z"
   },
   {
    "duration": 0,
    "start_time": "2023-02-12T01:29:23.277Z"
   },
   {
    "duration": 0,
    "start_time": "2023-02-12T01:29:23.278Z"
   },
   {
    "duration": 0,
    "start_time": "2023-02-12T01:29:23.279Z"
   },
   {
    "duration": 33,
    "start_time": "2023-02-12T01:34:37.446Z"
   },
   {
    "duration": 2084,
    "start_time": "2023-02-12T01:34:45.144Z"
   },
   {
    "duration": 864,
    "start_time": "2023-02-12T01:34:47.230Z"
   },
   {
    "duration": 19,
    "start_time": "2023-02-12T01:34:48.096Z"
   },
   {
    "duration": 132,
    "start_time": "2023-02-12T01:34:48.117Z"
   },
   {
    "duration": 108,
    "start_time": "2023-02-12T01:34:48.251Z"
   },
   {
    "duration": 38003,
    "start_time": "2023-02-12T01:34:48.361Z"
   },
   {
    "duration": 102,
    "start_time": "2023-02-12T01:35:26.366Z"
   },
   {
    "duration": 78,
    "start_time": "2023-02-12T01:35:26.470Z"
   },
   {
    "duration": 281,
    "start_time": "2023-02-12T01:35:26.550Z"
   },
   {
    "duration": 27,
    "start_time": "2023-02-12T01:35:26.833Z"
   },
   {
    "duration": 26,
    "start_time": "2023-02-12T01:35:26.862Z"
   },
   {
    "duration": 93,
    "start_time": "2023-02-12T01:35:26.890Z"
   },
   {
    "duration": 42,
    "start_time": "2023-02-12T01:35:26.985Z"
   },
   {
    "duration": 3,
    "start_time": "2023-02-12T01:35:27.030Z"
   },
   {
    "duration": 713,
    "start_time": "2023-02-12T01:35:27.035Z"
   },
   {
    "duration": 0,
    "start_time": "2023-02-12T01:35:27.749Z"
   },
   {
    "duration": 0,
    "start_time": "2023-02-12T01:35:27.751Z"
   },
   {
    "duration": 0,
    "start_time": "2023-02-12T01:35:27.752Z"
   },
   {
    "duration": 0,
    "start_time": "2023-02-12T01:35:27.753Z"
   },
   {
    "duration": 0,
    "start_time": "2023-02-12T01:35:27.754Z"
   },
   {
    "duration": 0,
    "start_time": "2023-02-12T01:35:27.755Z"
   },
   {
    "duration": 0,
    "start_time": "2023-02-12T01:35:27.756Z"
   },
   {
    "duration": 0,
    "start_time": "2023-02-12T01:35:27.757Z"
   },
   {
    "duration": 3163,
    "start_time": "2023-02-12T01:36:27.481Z"
   },
   {
    "duration": 905,
    "start_time": "2023-02-12T01:36:30.647Z"
   },
   {
    "duration": 19,
    "start_time": "2023-02-12T01:36:31.554Z"
   },
   {
    "duration": 136,
    "start_time": "2023-02-12T01:36:31.575Z"
   },
   {
    "duration": 114,
    "start_time": "2023-02-12T01:36:31.713Z"
   },
   {
    "duration": 39352,
    "start_time": "2023-02-12T01:36:31.829Z"
   },
   {
    "duration": 145,
    "start_time": "2023-02-12T01:37:11.183Z"
   },
   {
    "duration": 30,
    "start_time": "2023-02-12T01:37:11.329Z"
   },
   {
    "duration": 275,
    "start_time": "2023-02-12T01:37:11.360Z"
   },
   {
    "duration": 27,
    "start_time": "2023-02-12T01:37:11.638Z"
   },
   {
    "duration": 27,
    "start_time": "2023-02-12T01:37:11.666Z"
   },
   {
    "duration": 88,
    "start_time": "2023-02-12T01:37:11.695Z"
   },
   {
    "duration": 32,
    "start_time": "2023-02-12T01:37:11.784Z"
   },
   {
    "duration": 9,
    "start_time": "2023-02-12T01:37:11.818Z"
   },
   {
    "duration": 482,
    "start_time": "2023-02-12T01:37:11.829Z"
   },
   {
    "duration": 108,
    "start_time": "2023-02-12T01:37:12.313Z"
   },
   {
    "duration": 182,
    "start_time": "2023-02-12T01:37:12.423Z"
   },
   {
    "duration": 0,
    "start_time": "2023-02-12T01:37:12.607Z"
   },
   {
    "duration": 0,
    "start_time": "2023-02-12T01:37:12.608Z"
   },
   {
    "duration": 0,
    "start_time": "2023-02-12T01:37:12.609Z"
   },
   {
    "duration": 0,
    "start_time": "2023-02-12T01:37:12.611Z"
   },
   {
    "duration": 0,
    "start_time": "2023-02-12T01:37:12.611Z"
   },
   {
    "duration": 0,
    "start_time": "2023-02-12T01:37:12.628Z"
   },
   {
    "duration": 29,
    "start_time": "2023-02-12T01:38:24.420Z"
   },
   {
    "duration": 2248,
    "start_time": "2023-02-12T01:38:30.097Z"
   },
   {
    "duration": 923,
    "start_time": "2023-02-12T01:38:32.347Z"
   },
   {
    "duration": 20,
    "start_time": "2023-02-12T01:38:33.271Z"
   },
   {
    "duration": 128,
    "start_time": "2023-02-12T01:38:33.292Z"
   },
   {
    "duration": 109,
    "start_time": "2023-02-12T01:38:33.429Z"
   },
   {
    "duration": 41153,
    "start_time": "2023-02-12T01:38:33.540Z"
   },
   {
    "duration": 83,
    "start_time": "2023-02-12T01:39:14.695Z"
   },
   {
    "duration": 36,
    "start_time": "2023-02-12T01:39:14.827Z"
   },
   {
    "duration": 299,
    "start_time": "2023-02-12T01:39:14.864Z"
   },
   {
    "duration": 27,
    "start_time": "2023-02-12T01:39:15.165Z"
   },
   {
    "duration": 41,
    "start_time": "2023-02-12T01:39:15.194Z"
   },
   {
    "duration": 69,
    "start_time": "2023-02-12T01:39:15.237Z"
   },
   {
    "duration": 50,
    "start_time": "2023-02-12T01:39:15.307Z"
   },
   {
    "duration": 2,
    "start_time": "2023-02-12T01:39:15.360Z"
   },
   {
    "duration": 554,
    "start_time": "2023-02-12T01:39:15.364Z"
   },
   {
    "duration": 113,
    "start_time": "2023-02-12T01:39:15.920Z"
   },
   {
    "duration": 6,
    "start_time": "2023-02-12T01:39:16.035Z"
   },
   {
    "duration": 1497897,
    "start_time": "2023-02-12T01:39:16.042Z"
   },
   {
    "duration": 2073,
    "start_time": "2023-02-12T02:16:33.037Z"
   },
   {
    "duration": 875,
    "start_time": "2023-02-12T02:16:35.112Z"
   },
   {
    "duration": 19,
    "start_time": "2023-02-12T02:16:35.989Z"
   },
   {
    "duration": 138,
    "start_time": "2023-02-12T02:16:36.010Z"
   },
   {
    "duration": 118,
    "start_time": "2023-02-12T02:16:36.149Z"
   },
   {
    "duration": 37557,
    "start_time": "2023-02-12T02:16:36.268Z"
   },
   {
    "duration": 208,
    "start_time": "2023-02-12T02:17:13.827Z"
   },
   {
    "duration": 33,
    "start_time": "2023-02-12T02:17:14.038Z"
   },
   {
    "duration": 260,
    "start_time": "2023-02-12T02:17:14.073Z"
   },
   {
    "duration": 26,
    "start_time": "2023-02-12T02:17:14.337Z"
   },
   {
    "duration": 25,
    "start_time": "2023-02-12T02:17:14.365Z"
   },
   {
    "duration": 85,
    "start_time": "2023-02-12T02:17:14.392Z"
   },
   {
    "duration": 32,
    "start_time": "2023-02-12T02:17:14.479Z"
   },
   {
    "duration": 3,
    "start_time": "2023-02-12T02:17:14.512Z"
   },
   {
    "duration": 491,
    "start_time": "2023-02-12T02:17:14.526Z"
   },
   {
    "duration": 108,
    "start_time": "2023-02-12T02:17:15.019Z"
   },
   {
    "duration": 253,
    "start_time": "2023-02-12T02:17:15.129Z"
   },
   {
    "duration": 79,
    "start_time": "2023-02-12T02:17:15.384Z"
   },
   {
    "duration": 2071,
    "start_time": "2023-02-12T02:17:15.466Z"
   },
   {
    "duration": 110,
    "start_time": "2023-02-12T02:17:17.539Z"
   },
   {
    "duration": 34,
    "start_time": "2023-02-12T02:17:17.651Z"
   },
   {
    "duration": 3138,
    "start_time": "2023-02-12T02:17:58.918Z"
   },
   {
    "duration": 899,
    "start_time": "2023-02-12T02:18:02.058Z"
   },
   {
    "duration": 18,
    "start_time": "2023-02-12T02:18:02.959Z"
   },
   {
    "duration": 131,
    "start_time": "2023-02-12T02:18:02.979Z"
   },
   {
    "duration": 106,
    "start_time": "2023-02-12T02:18:03.112Z"
   },
   {
    "duration": 38065,
    "start_time": "2023-02-12T02:18:03.219Z"
   },
   {
    "duration": 86,
    "start_time": "2023-02-12T02:18:41.286Z"
   },
   {
    "duration": 80,
    "start_time": "2023-02-12T02:18:41.374Z"
   },
   {
    "duration": 265,
    "start_time": "2023-02-12T02:18:41.456Z"
   },
   {
    "duration": 27,
    "start_time": "2023-02-12T02:18:41.728Z"
   },
   {
    "duration": 27,
    "start_time": "2023-02-12T02:18:41.757Z"
   },
   {
    "duration": 87,
    "start_time": "2023-02-12T02:18:41.786Z"
   },
   {
    "duration": 33,
    "start_time": "2023-02-12T02:18:41.874Z"
   },
   {
    "duration": 2,
    "start_time": "2023-02-12T02:18:41.909Z"
   },
   {
    "duration": 532,
    "start_time": "2023-02-12T02:18:41.927Z"
   },
   {
    "duration": 110,
    "start_time": "2023-02-12T02:18:42.461Z"
   },
   {
    "duration": 287,
    "start_time": "2023-02-12T02:18:42.573Z"
   },
   {
    "duration": 82,
    "start_time": "2023-02-12T02:18:42.861Z"
   },
   {
    "duration": 2033,
    "start_time": "2023-02-12T02:18:42.945Z"
   },
   {
    "duration": 110,
    "start_time": "2023-02-12T02:18:44.980Z"
   },
   {
    "duration": 33,
    "start_time": "2023-02-12T02:18:45.092Z"
   },
   {
    "duration": 2194,
    "start_time": "2023-02-12T02:22:02.826Z"
   },
   {
    "duration": 801,
    "start_time": "2023-02-12T02:22:05.022Z"
   },
   {
    "duration": 17,
    "start_time": "2023-02-12T02:22:05.825Z"
   },
   {
    "duration": 135,
    "start_time": "2023-02-12T02:22:05.844Z"
   },
   {
    "duration": 110,
    "start_time": "2023-02-12T02:22:05.980Z"
   },
   {
    "duration": 38617,
    "start_time": "2023-02-12T02:22:06.091Z"
   },
   {
    "duration": 123,
    "start_time": "2023-02-12T02:22:44.710Z"
   },
   {
    "duration": 28,
    "start_time": "2023-02-12T02:22:44.835Z"
   },
   {
    "duration": 337,
    "start_time": "2023-02-12T02:22:44.864Z"
   },
   {
    "duration": 38,
    "start_time": "2023-02-12T02:22:45.204Z"
   },
   {
    "duration": 30,
    "start_time": "2023-02-12T02:22:45.244Z"
   },
   {
    "duration": 81,
    "start_time": "2023-02-12T02:22:45.276Z"
   },
   {
    "duration": 39,
    "start_time": "2023-02-12T02:22:45.359Z"
   },
   {
    "duration": 3,
    "start_time": "2023-02-12T02:22:45.399Z"
   },
   {
    "duration": 501,
    "start_time": "2023-02-12T02:22:45.404Z"
   },
   {
    "duration": 101,
    "start_time": "2023-02-12T02:22:45.907Z"
   },
   {
    "duration": 2079,
    "start_time": "2023-02-12T02:46:11.152Z"
   },
   {
    "duration": 842,
    "start_time": "2023-02-12T02:46:13.232Z"
   },
   {
    "duration": 19,
    "start_time": "2023-02-12T02:46:14.075Z"
   },
   {
    "duration": 123,
    "start_time": "2023-02-12T02:46:14.097Z"
   },
   {
    "duration": 105,
    "start_time": "2023-02-12T02:46:14.227Z"
   },
   {
    "duration": 37936,
    "start_time": "2023-02-12T02:46:14.334Z"
   },
   {
    "duration": 155,
    "start_time": "2023-02-12T02:46:52.272Z"
   },
   {
    "duration": 30,
    "start_time": "2023-02-12T02:46:52.429Z"
   },
   {
    "duration": 283,
    "start_time": "2023-02-12T02:46:52.461Z"
   },
   {
    "duration": 28,
    "start_time": "2023-02-12T02:46:52.746Z"
   },
   {
    "duration": 27,
    "start_time": "2023-02-12T02:46:52.775Z"
   },
   {
    "duration": 93,
    "start_time": "2023-02-12T02:46:52.804Z"
   },
   {
    "duration": 41,
    "start_time": "2023-02-12T02:46:52.899Z"
   },
   {
    "duration": 2,
    "start_time": "2023-02-12T02:46:52.942Z"
   },
   {
    "duration": 514,
    "start_time": "2023-02-12T02:46:52.946Z"
   },
   {
    "duration": 104,
    "start_time": "2023-02-12T02:46:53.461Z"
   },
   {
    "duration": 33271,
    "start_time": "2023-02-12T02:46:53.567Z"
   },
   {
    "duration": 187,
    "start_time": "2023-02-12T02:47:26.840Z"
   },
   {
    "duration": 2254,
    "start_time": "2023-02-12T02:47:27.029Z"
   },
   {
    "duration": 96,
    "start_time": "2023-02-12T02:47:29.285Z"
   },
   {
    "duration": 31,
    "start_time": "2023-02-12T02:47:29.383Z"
   },
   {
    "duration": 2147,
    "start_time": "2023-02-12T02:48:46.073Z"
   },
   {
    "duration": 907,
    "start_time": "2023-02-12T02:48:48.222Z"
   },
   {
    "duration": 25,
    "start_time": "2023-02-12T02:48:49.131Z"
   },
   {
    "duration": 140,
    "start_time": "2023-02-12T02:48:49.158Z"
   },
   {
    "duration": 120,
    "start_time": "2023-02-12T02:48:49.299Z"
   },
   {
    "duration": 38283,
    "start_time": "2023-02-12T02:48:49.421Z"
   },
   {
    "duration": 139,
    "start_time": "2023-02-12T02:49:27.706Z"
   },
   {
    "duration": 29,
    "start_time": "2023-02-12T02:49:27.847Z"
   },
   {
    "duration": 288,
    "start_time": "2023-02-12T02:49:27.878Z"
   },
   {
    "duration": 26,
    "start_time": "2023-02-12T02:49:28.168Z"
   },
   {
    "duration": 38,
    "start_time": "2023-02-12T02:49:28.196Z"
   },
   {
    "duration": 66,
    "start_time": "2023-02-12T02:49:28.236Z"
   },
   {
    "duration": 43,
    "start_time": "2023-02-12T02:49:28.304Z"
   },
   {
    "duration": 3,
    "start_time": "2023-02-12T02:49:28.349Z"
   },
   {
    "duration": 504,
    "start_time": "2023-02-12T02:49:28.353Z"
   },
   {
    "duration": 103,
    "start_time": "2023-02-12T02:49:28.859Z"
   },
   {
    "duration": 188,
    "start_time": "2023-02-12T02:49:54.739Z"
   },
   {
    "duration": 185,
    "start_time": "2023-02-12T02:49:54.929Z"
   },
   {
    "duration": 0,
    "start_time": "2023-02-12T02:49:55.117Z"
   },
   {
    "duration": 0,
    "start_time": "2023-02-12T02:49:55.118Z"
   },
   {
    "duration": 0,
    "start_time": "2023-02-12T02:49:55.120Z"
   },
   {
    "duration": 0,
    "start_time": "2023-02-12T02:49:55.127Z"
   },
   {
    "duration": 25835,
    "start_time": "2023-02-12T02:49:59.502Z"
   },
   {
    "duration": 13,
    "start_time": "2023-02-12T02:50:25.464Z"
   },
   {
    "duration": 2096,
    "start_time": "2023-02-12T02:58:46.076Z"
   },
   {
    "duration": 846,
    "start_time": "2023-02-12T02:58:48.174Z"
   },
   {
    "duration": 19,
    "start_time": "2023-02-12T02:58:49.022Z"
   },
   {
    "duration": 145,
    "start_time": "2023-02-12T02:58:49.044Z"
   },
   {
    "duration": 119,
    "start_time": "2023-02-12T02:58:49.191Z"
   },
   {
    "duration": 39312,
    "start_time": "2023-02-12T02:58:49.312Z"
   },
   {
    "duration": 129,
    "start_time": "2023-02-12T02:59:28.627Z"
   },
   {
    "duration": 77,
    "start_time": "2023-02-12T02:59:28.758Z"
   },
   {
    "duration": 251,
    "start_time": "2023-02-12T02:59:28.837Z"
   },
   {
    "duration": 36,
    "start_time": "2023-02-12T02:59:29.091Z"
   },
   {
    "duration": 30,
    "start_time": "2023-02-12T02:59:29.129Z"
   },
   {
    "duration": 82,
    "start_time": "2023-02-12T02:59:29.160Z"
   },
   {
    "duration": 31,
    "start_time": "2023-02-12T02:59:29.244Z"
   },
   {
    "duration": 3,
    "start_time": "2023-02-12T02:59:29.276Z"
   },
   {
    "duration": 525,
    "start_time": "2023-02-12T02:59:29.281Z"
   },
   {
    "duration": 123,
    "start_time": "2023-02-12T02:59:29.808Z"
   },
   {
    "duration": 177,
    "start_time": "2023-02-12T02:59:29.933Z"
   },
   {
    "duration": 0,
    "start_time": "2023-02-12T02:59:30.113Z"
   },
   {
    "duration": 0,
    "start_time": "2023-02-12T02:59:30.114Z"
   },
   {
    "duration": 0,
    "start_time": "2023-02-12T02:59:30.116Z"
   },
   {
    "duration": 0,
    "start_time": "2023-02-12T02:59:30.127Z"
   },
   {
    "duration": 0,
    "start_time": "2023-02-12T02:59:30.128Z"
   },
   {
    "duration": 0,
    "start_time": "2023-02-12T02:59:30.130Z"
   },
   {
    "duration": 0,
    "start_time": "2023-02-12T02:59:30.131Z"
   },
   {
    "duration": 0,
    "start_time": "2023-02-12T02:59:30.132Z"
   },
   {
    "duration": 0,
    "start_time": "2023-02-12T02:59:30.133Z"
   },
   {
    "duration": 1,
    "start_time": "2023-02-12T02:59:30.134Z"
   },
   {
    "duration": 0,
    "start_time": "2023-02-12T02:59:30.136Z"
   },
   {
    "duration": 2056,
    "start_time": "2023-02-12T03:01:30.824Z"
   },
   {
    "duration": 829,
    "start_time": "2023-02-12T03:01:32.882Z"
   },
   {
    "duration": 25,
    "start_time": "2023-02-12T03:01:33.713Z"
   },
   {
    "duration": 114,
    "start_time": "2023-02-12T03:01:33.740Z"
   },
   {
    "duration": 152,
    "start_time": "2023-02-12T03:01:33.856Z"
   },
   {
    "duration": 38335,
    "start_time": "2023-02-12T03:01:34.009Z"
   },
   {
    "duration": 207,
    "start_time": "2023-02-12T03:02:12.346Z"
   },
   {
    "duration": 72,
    "start_time": "2023-02-12T03:02:12.556Z"
   },
   {
    "duration": 256,
    "start_time": "2023-02-12T03:02:12.630Z"
   },
   {
    "duration": 26,
    "start_time": "2023-02-12T03:02:12.889Z"
   },
   {
    "duration": 25,
    "start_time": "2023-02-12T03:02:12.926Z"
   },
   {
    "duration": 79,
    "start_time": "2023-02-12T03:02:12.953Z"
   },
   {
    "duration": 31,
    "start_time": "2023-02-12T03:02:13.033Z"
   },
   {
    "duration": 3,
    "start_time": "2023-02-12T03:02:13.066Z"
   },
   {
    "duration": 513,
    "start_time": "2023-02-12T03:02:13.072Z"
   },
   {
    "duration": 106,
    "start_time": "2023-02-12T03:02:13.586Z"
   },
   {
    "duration": 4,
    "start_time": "2023-02-12T03:02:13.693Z"
   },
   {
    "duration": 2211128,
    "start_time": "2023-02-12T03:02:13.699Z"
   },
   {
    "duration": 1398502,
    "start_time": "2023-02-12T03:39:04.829Z"
   },
   {
    "duration": 2361,
    "start_time": "2023-02-12T04:02:23.333Z"
   },
   {
    "duration": 118,
    "start_time": "2023-02-12T04:02:25.696Z"
   },
   {
    "duration": 3547625,
    "start_time": "2023-02-12T04:02:25.816Z"
   },
   {
    "duration": 90,
    "start_time": "2023-02-12T05:01:33.443Z"
   },
   {
    "duration": 73382,
    "start_time": "2023-02-12T05:01:33.535Z"
   },
   {
    "duration": 90,
    "start_time": "2023-02-12T05:02:46.919Z"
   },
   {
    "duration": 82,
    "start_time": "2023-02-12T05:02:47.011Z"
   },
   {
    "duration": 101,
    "start_time": "2023-02-12T05:02:47.095Z"
   },
   {
    "duration": 32,
    "start_time": "2023-02-12T05:02:47.199Z"
   },
   {
    "duration": 78,
    "start_time": "2023-02-12T05:06:11.955Z"
   },
   {
    "duration": 104,
    "start_time": "2023-02-12T05:06:18.345Z"
   },
   {
    "duration": 140,
    "start_time": "2023-02-12T05:06:23.069Z"
   },
   {
    "duration": 14793,
    "start_time": "2023-02-12T05:06:53.286Z"
   },
   {
    "duration": 584,
    "start_time": "2023-02-12T05:08:08.749Z"
   },
   {
    "duration": 24,
    "start_time": "2023-02-12T05:08:15.506Z"
   },
   {
    "duration": 21,
    "start_time": "2023-02-12T05:08:42.668Z"
   },
   {
    "duration": 2183,
    "start_time": "2023-02-12T05:09:06.061Z"
   },
   {
    "duration": 15,
    "start_time": "2023-02-12T05:18:06.755Z"
   },
   {
    "duration": 354,
    "start_time": "2023-02-12T05:18:14.700Z"
   },
   {
    "duration": 19,
    "start_time": "2023-02-12T05:18:45.283Z"
   },
   {
    "duration": 142,
    "start_time": "2023-02-12T05:19:50.314Z"
   },
   {
    "duration": 2097,
    "start_time": "2023-02-12T05:20:03.273Z"
   },
   {
    "duration": 826,
    "start_time": "2023-02-12T05:20:05.372Z"
   },
   {
    "duration": 20,
    "start_time": "2023-02-12T05:20:06.200Z"
   },
   {
    "duration": 136,
    "start_time": "2023-02-12T05:20:06.226Z"
   },
   {
    "duration": 129,
    "start_time": "2023-02-12T05:20:06.364Z"
   },
   {
    "duration": 40674,
    "start_time": "2023-02-12T05:20:06.495Z"
   },
   {
    "duration": 88,
    "start_time": "2023-02-12T05:20:47.171Z"
   },
   {
    "duration": 77,
    "start_time": "2023-02-12T05:20:47.261Z"
   },
   {
    "duration": 294,
    "start_time": "2023-02-12T05:20:47.340Z"
   },
   {
    "duration": 27,
    "start_time": "2023-02-12T05:20:47.637Z"
   },
   {
    "duration": 27,
    "start_time": "2023-02-12T05:20:47.666Z"
   },
   {
    "duration": 111,
    "start_time": "2023-02-12T05:20:47.696Z"
   },
   {
    "duration": 41,
    "start_time": "2023-02-12T05:20:47.809Z"
   },
   {
    "duration": 3,
    "start_time": "2023-02-12T05:20:47.851Z"
   },
   {
    "duration": 555,
    "start_time": "2023-02-12T05:20:47.856Z"
   },
   {
    "duration": 624,
    "start_time": "2023-02-12T05:20:48.413Z"
   },
   {
    "duration": 18,
    "start_time": "2023-02-12T05:20:49.039Z"
   },
   {
    "duration": 192,
    "start_time": "2023-02-12T05:20:49.058Z"
   },
   {
    "duration": 0,
    "start_time": "2023-02-12T05:20:49.252Z"
   },
   {
    "duration": 0,
    "start_time": "2023-02-12T05:20:49.253Z"
   },
   {
    "duration": 0,
    "start_time": "2023-02-12T05:20:49.255Z"
   },
   {
    "duration": 0,
    "start_time": "2023-02-12T05:20:49.255Z"
   },
   {
    "duration": 0,
    "start_time": "2023-02-12T05:20:49.257Z"
   },
   {
    "duration": 0,
    "start_time": "2023-02-12T05:20:49.258Z"
   },
   {
    "duration": 0,
    "start_time": "2023-02-12T05:20:49.259Z"
   },
   {
    "duration": 0,
    "start_time": "2023-02-12T05:20:49.260Z"
   },
   {
    "duration": 0,
    "start_time": "2023-02-12T05:20:49.261Z"
   },
   {
    "duration": 0,
    "start_time": "2023-02-12T05:20:49.262Z"
   },
   {
    "duration": 0,
    "start_time": "2023-02-12T05:20:49.263Z"
   },
   {
    "duration": 0,
    "start_time": "2023-02-12T05:20:49.264Z"
   },
   {
    "duration": 0,
    "start_time": "2023-02-12T05:20:49.265Z"
   },
   {
    "duration": 311,
    "start_time": "2023-02-12T05:21:46.864Z"
   },
   {
    "duration": 2051,
    "start_time": "2023-02-12T05:22:01.744Z"
   },
   {
    "duration": 862,
    "start_time": "2023-02-12T05:22:03.798Z"
   },
   {
    "duration": 21,
    "start_time": "2023-02-12T05:22:04.662Z"
   },
   {
    "duration": 129,
    "start_time": "2023-02-12T05:22:04.686Z"
   },
   {
    "duration": 117,
    "start_time": "2023-02-12T05:22:04.817Z"
   },
   {
    "duration": 41585,
    "start_time": "2023-02-12T05:22:04.936Z"
   },
   {
    "duration": 128,
    "start_time": "2023-02-12T05:22:46.523Z"
   },
   {
    "duration": 86,
    "start_time": "2023-02-12T05:22:46.654Z"
   },
   {
    "duration": 258,
    "start_time": "2023-02-12T05:22:46.742Z"
   },
   {
    "duration": 34,
    "start_time": "2023-02-12T05:22:47.003Z"
   },
   {
    "duration": 26,
    "start_time": "2023-02-12T05:22:47.039Z"
   },
   {
    "duration": 89,
    "start_time": "2023-02-12T05:22:47.067Z"
   },
   {
    "duration": 33,
    "start_time": "2023-02-12T05:22:47.158Z"
   },
   {
    "duration": 2,
    "start_time": "2023-02-12T05:22:47.193Z"
   },
   {
    "duration": 508,
    "start_time": "2023-02-12T05:22:47.198Z"
   },
   {
    "duration": 191,
    "start_time": "2023-02-12T05:22:47.708Z"
   },
   {
    "duration": 0,
    "start_time": "2023-02-12T05:22:47.901Z"
   },
   {
    "duration": 0,
    "start_time": "2023-02-12T05:22:47.903Z"
   },
   {
    "duration": 0,
    "start_time": "2023-02-12T05:22:47.904Z"
   },
   {
    "duration": 0,
    "start_time": "2023-02-12T05:22:47.905Z"
   },
   {
    "duration": 0,
    "start_time": "2023-02-12T05:22:47.906Z"
   },
   {
    "duration": 0,
    "start_time": "2023-02-12T05:22:47.907Z"
   },
   {
    "duration": 0,
    "start_time": "2023-02-12T05:22:47.908Z"
   },
   {
    "duration": 0,
    "start_time": "2023-02-12T05:22:47.909Z"
   },
   {
    "duration": 0,
    "start_time": "2023-02-12T05:22:47.927Z"
   },
   {
    "duration": 0,
    "start_time": "2023-02-12T05:22:47.928Z"
   },
   {
    "duration": 0,
    "start_time": "2023-02-12T05:22:47.929Z"
   },
   {
    "duration": 0,
    "start_time": "2023-02-12T05:22:47.931Z"
   },
   {
    "duration": 0,
    "start_time": "2023-02-12T05:22:47.932Z"
   },
   {
    "duration": 0,
    "start_time": "2023-02-12T05:22:47.932Z"
   },
   {
    "duration": 0,
    "start_time": "2023-02-12T05:22:47.934Z"
   },
   {
    "duration": 0,
    "start_time": "2023-02-12T05:22:47.935Z"
   },
   {
    "duration": 2155,
    "start_time": "2023-02-12T05:25:04.576Z"
   },
   {
    "duration": 958,
    "start_time": "2023-02-12T05:25:06.734Z"
   },
   {
    "duration": 23,
    "start_time": "2023-02-12T05:25:07.694Z"
   },
   {
    "duration": 135,
    "start_time": "2023-02-12T05:25:07.719Z"
   },
   {
    "duration": 118,
    "start_time": "2023-02-12T05:25:07.856Z"
   },
   {
    "duration": 41083,
    "start_time": "2023-02-12T05:25:07.977Z"
   },
   {
    "duration": 197,
    "start_time": "2023-02-12T05:25:49.063Z"
   },
   {
    "duration": 85,
    "start_time": "2023-02-12T05:25:49.262Z"
   },
   {
    "duration": 275,
    "start_time": "2023-02-12T05:25:49.349Z"
   },
   {
    "duration": 28,
    "start_time": "2023-02-12T05:25:49.628Z"
   },
   {
    "duration": 27,
    "start_time": "2023-02-12T05:25:49.658Z"
   },
   {
    "duration": 92,
    "start_time": "2023-02-12T05:25:49.687Z"
   },
   {
    "duration": 33,
    "start_time": "2023-02-12T05:25:49.781Z"
   },
   {
    "duration": 3,
    "start_time": "2023-02-12T05:25:49.828Z"
   },
   {
    "duration": 584,
    "start_time": "2023-02-12T05:25:49.834Z"
   },
   {
    "duration": 44,
    "start_time": "2023-02-12T05:25:50.422Z"
   },
   {
    "duration": 220,
    "start_time": "2023-02-12T05:25:50.468Z"
   },
   {
    "duration": 0,
    "start_time": "2023-02-12T05:25:50.690Z"
   },
   {
    "duration": 0,
    "start_time": "2023-02-12T05:25:50.692Z"
   },
   {
    "duration": 0,
    "start_time": "2023-02-12T05:25:50.693Z"
   },
   {
    "duration": 0,
    "start_time": "2023-02-12T05:25:50.695Z"
   },
   {
    "duration": 0,
    "start_time": "2023-02-12T05:25:50.696Z"
   },
   {
    "duration": 0,
    "start_time": "2023-02-12T05:25:50.698Z"
   },
   {
    "duration": 0,
    "start_time": "2023-02-12T05:25:50.699Z"
   },
   {
    "duration": 0,
    "start_time": "2023-02-12T05:25:50.700Z"
   },
   {
    "duration": 0,
    "start_time": "2023-02-12T05:25:50.702Z"
   },
   {
    "duration": 0,
    "start_time": "2023-02-12T05:25:50.703Z"
   },
   {
    "duration": 0,
    "start_time": "2023-02-12T05:25:50.705Z"
   },
   {
    "duration": 0,
    "start_time": "2023-02-12T05:25:50.728Z"
   },
   {
    "duration": 0,
    "start_time": "2023-02-12T05:25:50.731Z"
   },
   {
    "duration": 0,
    "start_time": "2023-02-12T05:25:50.732Z"
   },
   {
    "duration": 0,
    "start_time": "2023-02-12T05:25:50.734Z"
   },
   {
    "duration": 2177,
    "start_time": "2023-02-12T05:26:58.161Z"
   },
   {
    "duration": 966,
    "start_time": "2023-02-12T05:27:00.341Z"
   },
   {
    "duration": 27,
    "start_time": "2023-02-12T05:27:01.309Z"
   },
   {
    "duration": 244,
    "start_time": "2023-02-12T05:27:01.338Z"
   },
   {
    "duration": 157,
    "start_time": "2023-02-12T05:27:01.584Z"
   },
   {
    "duration": 23862,
    "start_time": "2023-02-12T05:27:01.743Z"
   },
   {
    "duration": 0,
    "start_time": "2023-02-12T05:27:25.609Z"
   },
   {
    "duration": 0,
    "start_time": "2023-02-12T05:27:25.610Z"
   },
   {
    "duration": 0,
    "start_time": "2023-02-12T05:27:25.613Z"
   },
   {
    "duration": 0,
    "start_time": "2023-02-12T05:27:25.614Z"
   },
   {
    "duration": 0,
    "start_time": "2023-02-12T05:27:25.615Z"
   },
   {
    "duration": 0,
    "start_time": "2023-02-12T05:27:25.629Z"
   },
   {
    "duration": 1,
    "start_time": "2023-02-12T05:27:25.630Z"
   },
   {
    "duration": 0,
    "start_time": "2023-02-12T05:27:25.635Z"
   },
   {
    "duration": 0,
    "start_time": "2023-02-12T05:27:25.636Z"
   },
   {
    "duration": 0,
    "start_time": "2023-02-12T05:27:25.637Z"
   },
   {
    "duration": 0,
    "start_time": "2023-02-12T05:27:25.638Z"
   },
   {
    "duration": 0,
    "start_time": "2023-02-12T05:27:25.640Z"
   },
   {
    "duration": 0,
    "start_time": "2023-02-12T05:27:25.641Z"
   },
   {
    "duration": 0,
    "start_time": "2023-02-12T05:27:25.642Z"
   },
   {
    "duration": 0,
    "start_time": "2023-02-12T05:27:25.643Z"
   },
   {
    "duration": 0,
    "start_time": "2023-02-12T05:27:25.645Z"
   },
   {
    "duration": 0,
    "start_time": "2023-02-12T05:27:25.646Z"
   },
   {
    "duration": 0,
    "start_time": "2023-02-12T05:27:25.647Z"
   },
   {
    "duration": 0,
    "start_time": "2023-02-12T05:27:25.648Z"
   },
   {
    "duration": 0,
    "start_time": "2023-02-12T05:27:25.649Z"
   },
   {
    "duration": 0,
    "start_time": "2023-02-12T05:27:25.650Z"
   },
   {
    "duration": 0,
    "start_time": "2023-02-12T05:27:25.652Z"
   },
   {
    "duration": 0,
    "start_time": "2023-02-12T05:27:25.653Z"
   },
   {
    "duration": 0,
    "start_time": "2023-02-12T05:27:25.654Z"
   },
   {
    "duration": 0,
    "start_time": "2023-02-12T05:27:25.655Z"
   },
   {
    "duration": 0,
    "start_time": "2023-02-12T05:27:25.656Z"
   },
   {
    "duration": 2074,
    "start_time": "2023-02-12T05:28:26.952Z"
   },
   {
    "duration": 909,
    "start_time": "2023-02-12T05:28:29.028Z"
   },
   {
    "duration": 23,
    "start_time": "2023-02-12T05:28:29.938Z"
   },
   {
    "duration": 125,
    "start_time": "2023-02-12T05:28:29.963Z"
   },
   {
    "duration": 190,
    "start_time": "2023-02-12T05:28:30.090Z"
   },
   {
    "duration": 43094,
    "start_time": "2023-02-12T05:28:30.282Z"
   },
   {
    "duration": 161,
    "start_time": "2023-02-12T05:29:13.378Z"
   },
   {
    "duration": 32,
    "start_time": "2023-02-12T05:29:13.541Z"
   },
   {
    "duration": 312,
    "start_time": "2023-02-12T05:29:13.575Z"
   },
   {
    "duration": 41,
    "start_time": "2023-02-12T05:29:13.889Z"
   },
   {
    "duration": 47,
    "start_time": "2023-02-12T05:29:13.932Z"
   },
   {
    "duration": 87,
    "start_time": "2023-02-12T05:29:13.981Z"
   },
   {
    "duration": 31,
    "start_time": "2023-02-12T05:29:14.071Z"
   },
   {
    "duration": 3,
    "start_time": "2023-02-12T05:29:14.104Z"
   },
   {
    "duration": 559,
    "start_time": "2023-02-12T05:29:14.109Z"
   },
   {
    "duration": 39,
    "start_time": "2023-02-12T05:29:14.674Z"
   },
   {
    "duration": 199,
    "start_time": "2023-02-12T05:29:14.715Z"
   },
   {
    "duration": 0,
    "start_time": "2023-02-12T05:29:14.916Z"
   },
   {
    "duration": 0,
    "start_time": "2023-02-12T05:29:14.918Z"
   },
   {
    "duration": 0,
    "start_time": "2023-02-12T05:29:14.927Z"
   },
   {
    "duration": 0,
    "start_time": "2023-02-12T05:29:14.928Z"
   },
   {
    "duration": 0,
    "start_time": "2023-02-12T05:29:14.929Z"
   },
   {
    "duration": 0,
    "start_time": "2023-02-12T05:29:14.930Z"
   },
   {
    "duration": 0,
    "start_time": "2023-02-12T05:29:14.931Z"
   },
   {
    "duration": 0,
    "start_time": "2023-02-12T05:29:14.932Z"
   },
   {
    "duration": 0,
    "start_time": "2023-02-12T05:29:14.933Z"
   },
   {
    "duration": 0,
    "start_time": "2023-02-12T05:29:14.934Z"
   },
   {
    "duration": 0,
    "start_time": "2023-02-12T05:29:14.935Z"
   },
   {
    "duration": 0,
    "start_time": "2023-02-12T05:29:14.936Z"
   },
   {
    "duration": 0,
    "start_time": "2023-02-12T05:29:14.937Z"
   },
   {
    "duration": 0,
    "start_time": "2023-02-12T05:29:14.939Z"
   },
   {
    "duration": 0,
    "start_time": "2023-02-12T05:29:14.940Z"
   },
   {
    "duration": 40,
    "start_time": "2023-02-12T05:29:43.269Z"
   },
   {
    "duration": 3387,
    "start_time": "2023-02-12T05:30:26.181Z"
   },
   {
    "duration": 1129,
    "start_time": "2023-02-12T05:30:29.571Z"
   },
   {
    "duration": 27,
    "start_time": "2023-02-12T05:30:30.702Z"
   },
   {
    "duration": 163,
    "start_time": "2023-02-12T05:30:30.732Z"
   },
   {
    "duration": 114,
    "start_time": "2023-02-12T05:30:30.897Z"
   },
   {
    "duration": 3,
    "start_time": "2023-02-12T05:30:31.012Z"
   },
   {
    "duration": 127,
    "start_time": "2023-02-12T05:30:31.017Z"
   },
   {
    "duration": 40,
    "start_time": "2023-02-12T05:30:31.147Z"
   },
   {
    "duration": 313,
    "start_time": "2023-02-12T05:30:31.189Z"
   },
   {
    "duration": 36,
    "start_time": "2023-02-12T05:30:31.505Z"
   },
   {
    "duration": 147,
    "start_time": "2023-02-12T05:30:31.543Z"
   },
   {
    "duration": 78,
    "start_time": "2023-02-12T05:30:31.692Z"
   },
   {
    "duration": 32,
    "start_time": "2023-02-12T05:30:31.772Z"
   },
   {
    "duration": 2,
    "start_time": "2023-02-12T05:30:31.806Z"
   },
   {
    "duration": 567,
    "start_time": "2023-02-12T05:30:31.810Z"
   },
   {
    "duration": 184,
    "start_time": "2023-02-12T05:30:32.379Z"
   },
   {
    "duration": 0,
    "start_time": "2023-02-12T05:30:32.565Z"
   },
   {
    "duration": 0,
    "start_time": "2023-02-12T05:30:32.566Z"
   },
   {
    "duration": 0,
    "start_time": "2023-02-12T05:30:32.567Z"
   },
   {
    "duration": 0,
    "start_time": "2023-02-12T05:30:32.568Z"
   },
   {
    "duration": 0,
    "start_time": "2023-02-12T05:30:32.569Z"
   },
   {
    "duration": 0,
    "start_time": "2023-02-12T05:30:32.570Z"
   },
   {
    "duration": 0,
    "start_time": "2023-02-12T05:30:32.571Z"
   },
   {
    "duration": 0,
    "start_time": "2023-02-12T05:30:32.572Z"
   },
   {
    "duration": 0,
    "start_time": "2023-02-12T05:30:32.574Z"
   },
   {
    "duration": 0,
    "start_time": "2023-02-12T05:30:32.575Z"
   },
   {
    "duration": 0,
    "start_time": "2023-02-12T05:30:32.576Z"
   },
   {
    "duration": 0,
    "start_time": "2023-02-12T05:30:32.577Z"
   },
   {
    "duration": 0,
    "start_time": "2023-02-12T05:30:32.578Z"
   },
   {
    "duration": 0,
    "start_time": "2023-02-12T05:30:32.579Z"
   },
   {
    "duration": 0,
    "start_time": "2023-02-12T05:30:32.579Z"
   },
   {
    "duration": 26,
    "start_time": "2023-02-12T05:31:25.927Z"
   },
   {
    "duration": 2187,
    "start_time": "2023-02-12T05:32:26.173Z"
   },
   {
    "duration": 1039,
    "start_time": "2023-02-12T05:32:28.363Z"
   },
   {
    "duration": 25,
    "start_time": "2023-02-12T05:32:29.404Z"
   },
   {
    "duration": 141,
    "start_time": "2023-02-12T05:32:29.432Z"
   },
   {
    "duration": 122,
    "start_time": "2023-02-12T05:32:29.575Z"
   },
   {
    "duration": 3,
    "start_time": "2023-02-12T05:32:29.699Z"
   },
   {
    "duration": 112,
    "start_time": "2023-02-12T05:32:29.705Z"
   },
   {
    "duration": 36,
    "start_time": "2023-02-12T05:32:29.819Z"
   },
   {
    "duration": 347,
    "start_time": "2023-02-12T05:32:29.857Z"
   },
   {
    "duration": 38,
    "start_time": "2023-02-12T05:32:30.207Z"
   },
   {
    "duration": 311,
    "start_time": "2023-02-12T05:32:30.246Z"
   },
   {
    "duration": 117,
    "start_time": "2023-02-12T05:32:30.559Z"
   },
   {
    "duration": 193,
    "start_time": "2023-02-12T05:32:30.686Z"
   },
   {
    "duration": 129,
    "start_time": "2023-02-12T05:32:30.882Z"
   },
   {
    "duration": 62,
    "start_time": "2023-02-12T05:32:31.013Z"
   },
   {
    "duration": 596,
    "start_time": "2023-02-12T05:32:31.077Z"
   },
   {
    "duration": 24,
    "start_time": "2023-02-12T05:32:31.675Z"
   },
   {
    "duration": 155,
    "start_time": "2023-02-12T05:32:31.701Z"
   },
   {
    "duration": 5,
    "start_time": "2023-02-12T05:32:31.859Z"
   },
   {
    "duration": 268,
    "start_time": "2023-02-12T05:32:31.867Z"
   },
   {
    "duration": 0,
    "start_time": "2023-02-12T05:32:32.138Z"
   },
   {
    "duration": 0,
    "start_time": "2023-02-12T05:32:32.139Z"
   },
   {
    "duration": 0,
    "start_time": "2023-02-12T05:32:32.141Z"
   },
   {
    "duration": 0,
    "start_time": "2023-02-12T05:32:32.143Z"
   },
   {
    "duration": 0,
    "start_time": "2023-02-12T05:32:32.144Z"
   },
   {
    "duration": 0,
    "start_time": "2023-02-12T05:32:32.146Z"
   },
   {
    "duration": 1,
    "start_time": "2023-02-12T05:32:32.147Z"
   },
   {
    "duration": 0,
    "start_time": "2023-02-12T05:32:32.149Z"
   },
   {
    "duration": 0,
    "start_time": "2023-02-12T05:32:32.150Z"
   },
   {
    "duration": 0,
    "start_time": "2023-02-12T05:32:32.151Z"
   },
   {
    "duration": 3357,
    "start_time": "2023-02-12T05:33:00.006Z"
   },
   {
    "duration": 948,
    "start_time": "2023-02-12T05:33:03.365Z"
   },
   {
    "duration": 25,
    "start_time": "2023-02-12T05:33:04.315Z"
   },
   {
    "duration": 140,
    "start_time": "2023-02-12T05:33:04.343Z"
   },
   {
    "duration": 114,
    "start_time": "2023-02-12T05:33:04.485Z"
   },
   {
    "duration": 3,
    "start_time": "2023-02-12T05:33:04.601Z"
   },
   {
    "duration": 110,
    "start_time": "2023-02-12T05:33:04.606Z"
   },
   {
    "duration": 34,
    "start_time": "2023-02-12T05:33:04.726Z"
   },
   {
    "duration": 272,
    "start_time": "2023-02-12T05:33:04.762Z"
   },
   {
    "duration": 28,
    "start_time": "2023-02-12T05:33:05.037Z"
   },
   {
    "duration": 161,
    "start_time": "2023-02-12T05:33:05.071Z"
   },
   {
    "duration": 71,
    "start_time": "2023-02-12T05:33:05.234Z"
   },
   {
    "duration": 45,
    "start_time": "2023-02-12T05:33:05.307Z"
   },
   {
    "duration": 90,
    "start_time": "2023-02-12T05:33:05.354Z"
   },
   {
    "duration": 182,
    "start_time": "2023-02-12T05:33:05.446Z"
   },
   {
    "duration": 0,
    "start_time": "2023-02-12T05:33:05.629Z"
   },
   {
    "duration": 0,
    "start_time": "2023-02-12T05:33:05.631Z"
   },
   {
    "duration": 0,
    "start_time": "2023-02-12T05:33:05.632Z"
   },
   {
    "duration": 0,
    "start_time": "2023-02-12T05:33:05.634Z"
   },
   {
    "duration": 0,
    "start_time": "2023-02-12T05:33:05.635Z"
   },
   {
    "duration": 0,
    "start_time": "2023-02-12T05:33:05.636Z"
   },
   {
    "duration": 0,
    "start_time": "2023-02-12T05:33:05.638Z"
   },
   {
    "duration": 0,
    "start_time": "2023-02-12T05:33:05.640Z"
   },
   {
    "duration": 0,
    "start_time": "2023-02-12T05:33:05.641Z"
   },
   {
    "duration": 0,
    "start_time": "2023-02-12T05:33:05.642Z"
   },
   {
    "duration": 0,
    "start_time": "2023-02-12T05:33:05.644Z"
   },
   {
    "duration": 0,
    "start_time": "2023-02-12T05:33:05.645Z"
   },
   {
    "duration": 0,
    "start_time": "2023-02-12T05:33:05.646Z"
   },
   {
    "duration": 0,
    "start_time": "2023-02-12T05:33:05.648Z"
   },
   {
    "duration": 0,
    "start_time": "2023-02-12T05:33:05.649Z"
   },
   {
    "duration": 0,
    "start_time": "2023-02-12T05:33:05.650Z"
   },
   {
    "duration": 21,
    "start_time": "2023-02-12T05:33:11.093Z"
   },
   {
    "duration": 2678,
    "start_time": "2023-02-12T05:33:59.563Z"
   },
   {
    "duration": 1565,
    "start_time": "2023-02-12T05:34:02.244Z"
   },
   {
    "duration": 20,
    "start_time": "2023-02-12T05:34:03.811Z"
   },
   {
    "duration": 147,
    "start_time": "2023-02-12T05:34:03.833Z"
   },
   {
    "duration": 174,
    "start_time": "2023-02-12T05:34:03.984Z"
   },
   {
    "duration": 4,
    "start_time": "2023-02-12T05:34:04.159Z"
   },
   {
    "duration": 123,
    "start_time": "2023-02-12T05:34:04.164Z"
   },
   {
    "duration": 50,
    "start_time": "2023-02-12T05:34:04.289Z"
   },
   {
    "duration": 338,
    "start_time": "2023-02-12T05:34:04.342Z"
   },
   {
    "duration": 32,
    "start_time": "2023-02-12T05:34:04.682Z"
   },
   {
    "duration": 159,
    "start_time": "2023-02-12T05:34:04.715Z"
   },
   {
    "duration": 84,
    "start_time": "2023-02-12T05:34:04.876Z"
   },
   {
    "duration": 74,
    "start_time": "2023-02-12T05:34:04.962Z"
   },
   {
    "duration": 4,
    "start_time": "2023-02-12T05:34:05.040Z"
   },
   {
    "duration": 553,
    "start_time": "2023-02-12T05:34:05.046Z"
   },
   {
    "duration": 157,
    "start_time": "2023-02-12T05:34:05.601Z"
   },
   {
    "duration": 4,
    "start_time": "2023-02-12T05:34:05.760Z"
   },
   {
    "duration": 210,
    "start_time": "2023-02-12T05:34:05.766Z"
   },
   {
    "duration": 0,
    "start_time": "2023-02-12T05:34:05.978Z"
   },
   {
    "duration": 0,
    "start_time": "2023-02-12T05:34:05.979Z"
   },
   {
    "duration": 0,
    "start_time": "2023-02-12T05:34:05.980Z"
   },
   {
    "duration": 0,
    "start_time": "2023-02-12T05:34:05.981Z"
   },
   {
    "duration": 0,
    "start_time": "2023-02-12T05:34:05.982Z"
   },
   {
    "duration": 0,
    "start_time": "2023-02-12T05:34:05.983Z"
   },
   {
    "duration": 0,
    "start_time": "2023-02-12T05:34:05.984Z"
   },
   {
    "duration": 0,
    "start_time": "2023-02-12T05:34:05.985Z"
   },
   {
    "duration": 0,
    "start_time": "2023-02-12T05:34:05.986Z"
   },
   {
    "duration": 0,
    "start_time": "2023-02-12T05:34:05.988Z"
   },
   {
    "duration": 14,
    "start_time": "2023-02-12T05:35:59.435Z"
   },
   {
    "duration": 21,
    "start_time": "2023-02-12T05:36:06.794Z"
   },
   {
    "duration": 29,
    "start_time": "2023-02-12T05:39:42.752Z"
   },
   {
    "duration": 64,
    "start_time": "2023-02-12T05:40:14.892Z"
   },
   {
    "duration": 30,
    "start_time": "2023-02-12T05:41:26.844Z"
   },
   {
    "duration": 3565,
    "start_time": "2023-02-12T05:41:35.526Z"
   },
   {
    "duration": 2353,
    "start_time": "2023-02-12T05:41:39.128Z"
   },
   {
    "duration": 24,
    "start_time": "2023-02-12T05:41:41.483Z"
   },
   {
    "duration": 136,
    "start_time": "2023-02-12T05:41:41.510Z"
   },
   {
    "duration": 119,
    "start_time": "2023-02-12T05:41:41.648Z"
   },
   {
    "duration": 37,
    "start_time": "2023-02-12T05:41:41.769Z"
   },
   {
    "duration": 103,
    "start_time": "2023-02-12T05:41:41.808Z"
   },
   {
    "duration": 53,
    "start_time": "2023-02-12T05:41:41.913Z"
   },
   {
    "duration": 316,
    "start_time": "2023-02-12T05:41:41.968Z"
   },
   {
    "duration": 26,
    "start_time": "2023-02-12T05:41:42.287Z"
   },
   {
    "duration": 154,
    "start_time": "2023-02-12T05:41:42.315Z"
   },
   {
    "duration": 84,
    "start_time": "2023-02-12T05:41:42.471Z"
   },
   {
    "duration": 34,
    "start_time": "2023-02-12T05:41:42.557Z"
   },
   {
    "duration": 5,
    "start_time": "2023-02-12T05:41:42.593Z"
   },
   {
    "duration": 796,
    "start_time": "2023-02-12T05:41:42.600Z"
   },
   {
    "duration": 0,
    "start_time": "2023-02-12T05:41:43.398Z"
   },
   {
    "duration": 0,
    "start_time": "2023-02-12T05:41:43.401Z"
   },
   {
    "duration": 0,
    "start_time": "2023-02-12T05:41:43.403Z"
   },
   {
    "duration": 0,
    "start_time": "2023-02-12T05:41:43.405Z"
   },
   {
    "duration": 0,
    "start_time": "2023-02-12T05:41:43.406Z"
   },
   {
    "duration": 0,
    "start_time": "2023-02-12T05:41:43.407Z"
   },
   {
    "duration": 0,
    "start_time": "2023-02-12T05:41:43.409Z"
   },
   {
    "duration": 0,
    "start_time": "2023-02-12T05:41:43.410Z"
   },
   {
    "duration": 0,
    "start_time": "2023-02-12T05:41:43.427Z"
   },
   {
    "duration": 0,
    "start_time": "2023-02-12T05:41:43.428Z"
   },
   {
    "duration": 0,
    "start_time": "2023-02-12T05:41:43.430Z"
   },
   {
    "duration": 0,
    "start_time": "2023-02-12T05:41:43.433Z"
   },
   {
    "duration": 0,
    "start_time": "2023-02-12T05:41:43.434Z"
   },
   {
    "duration": 42,
    "start_time": "2023-02-12T05:41:50.171Z"
   },
   {
    "duration": 3556,
    "start_time": "2023-02-12T05:41:55.482Z"
   },
   {
    "duration": 2019,
    "start_time": "2023-02-12T05:41:59.041Z"
   },
   {
    "duration": 66,
    "start_time": "2023-02-12T05:42:01.063Z"
   },
   {
    "duration": 309,
    "start_time": "2023-02-12T05:42:01.131Z"
   },
   {
    "duration": 228,
    "start_time": "2023-02-12T05:42:01.442Z"
   },
   {
    "duration": 56,
    "start_time": "2023-02-12T05:42:01.671Z"
   },
   {
    "duration": 320,
    "start_time": "2023-02-12T05:42:01.730Z"
   },
   {
    "duration": 95,
    "start_time": "2023-02-12T05:42:02.052Z"
   },
   {
    "duration": 320,
    "start_time": "2023-02-12T05:42:02.149Z"
   },
   {
    "duration": 26,
    "start_time": "2023-02-12T05:42:02.472Z"
   },
   {
    "duration": 165,
    "start_time": "2023-02-12T05:42:02.499Z"
   },
   {
    "duration": 117,
    "start_time": "2023-02-12T05:42:02.667Z"
   },
   {
    "duration": 50,
    "start_time": "2023-02-12T05:42:02.786Z"
   },
   {
    "duration": 8,
    "start_time": "2023-02-12T05:42:02.838Z"
   },
   {
    "duration": 648,
    "start_time": "2023-02-12T05:42:02.849Z"
   },
   {
    "duration": 131,
    "start_time": "2023-02-12T05:42:03.499Z"
   },
   {
    "duration": 6,
    "start_time": "2023-02-12T05:42:03.633Z"
   },
   {
    "duration": 246,
    "start_time": "2023-02-12T05:42:03.641Z"
   },
   {
    "duration": 0,
    "start_time": "2023-02-12T05:42:03.888Z"
   },
   {
    "duration": 0,
    "start_time": "2023-02-12T05:42:03.890Z"
   },
   {
    "duration": 0,
    "start_time": "2023-02-12T05:42:03.891Z"
   },
   {
    "duration": 0,
    "start_time": "2023-02-12T05:42:03.892Z"
   },
   {
    "duration": 0,
    "start_time": "2023-02-12T05:42:03.893Z"
   },
   {
    "duration": 0,
    "start_time": "2023-02-12T05:42:03.894Z"
   },
   {
    "duration": 0,
    "start_time": "2023-02-12T05:42:03.895Z"
   },
   {
    "duration": 0,
    "start_time": "2023-02-12T05:42:03.896Z"
   },
   {
    "duration": 0,
    "start_time": "2023-02-12T05:42:03.897Z"
   },
   {
    "duration": 0,
    "start_time": "2023-02-12T05:42:03.899Z"
   },
   {
    "duration": 3047,
    "start_time": "2023-02-12T05:42:52.215Z"
   },
   {
    "duration": 1706,
    "start_time": "2023-02-12T05:42:55.265Z"
   },
   {
    "duration": 19,
    "start_time": "2023-02-12T05:42:56.974Z"
   },
   {
    "duration": 167,
    "start_time": "2023-02-12T05:42:56.996Z"
   },
   {
    "duration": 119,
    "start_time": "2023-02-12T05:42:57.165Z"
   },
   {
    "duration": 2,
    "start_time": "2023-02-12T05:42:57.286Z"
   },
   {
    "duration": 107,
    "start_time": "2023-02-12T05:42:57.290Z"
   },
   {
    "duration": 43,
    "start_time": "2023-02-12T05:42:57.399Z"
   },
   {
    "duration": 316,
    "start_time": "2023-02-12T05:42:57.445Z"
   },
   {
    "duration": 27,
    "start_time": "2023-02-12T05:42:57.764Z"
   },
   {
    "duration": 157,
    "start_time": "2023-02-12T05:42:57.793Z"
   },
   {
    "duration": 125,
    "start_time": "2023-02-12T05:42:57.953Z"
   },
   {
    "duration": 35,
    "start_time": "2023-02-12T05:42:58.080Z"
   },
   {
    "duration": 3,
    "start_time": "2023-02-12T05:42:58.127Z"
   },
   {
    "duration": 771,
    "start_time": "2023-02-12T05:42:58.132Z"
   },
   {
    "duration": 141,
    "start_time": "2023-02-12T05:42:58.906Z"
   },
   {
    "duration": 5,
    "start_time": "2023-02-12T05:42:59.049Z"
   },
   {
    "duration": 298922,
    "start_time": "2023-02-12T05:42:59.056Z"
   },
   {
    "duration": 0,
    "start_time": "2023-02-12T05:47:57.981Z"
   },
   {
    "duration": 0,
    "start_time": "2023-02-12T05:47:57.982Z"
   },
   {
    "duration": 0,
    "start_time": "2023-02-12T05:47:57.983Z"
   },
   {
    "duration": 0,
    "start_time": "2023-02-12T05:47:57.984Z"
   },
   {
    "duration": 0,
    "start_time": "2023-02-12T05:47:57.986Z"
   },
   {
    "duration": 0,
    "start_time": "2023-02-12T05:47:57.988Z"
   },
   {
    "duration": 0,
    "start_time": "2023-02-12T05:47:57.989Z"
   },
   {
    "duration": 0,
    "start_time": "2023-02-12T05:47:57.991Z"
   },
   {
    "duration": 0,
    "start_time": "2023-02-12T05:47:57.992Z"
   },
   {
    "duration": 0,
    "start_time": "2023-02-12T05:47:57.993Z"
   },
   {
    "duration": 8012,
    "start_time": "2023-02-12T05:48:05.419Z"
   },
   {
    "duration": 94,
    "start_time": "2023-02-12T05:48:13.433Z"
   },
   {
    "duration": 100550,
    "start_time": "2023-02-12T05:48:23.945Z"
   },
   {
    "duration": 160,
    "start_time": "2023-02-12T05:50:55.284Z"
   },
   {
    "duration": 89,
    "start_time": "2023-02-12T05:51:11.530Z"
   },
   {
    "duration": 119,
    "start_time": "2023-02-12T05:51:30.975Z"
   },
   {
    "duration": 28,
    "start_time": "2023-02-12T05:52:13.786Z"
   },
   {
    "duration": 21,
    "start_time": "2023-02-12T05:53:09.512Z"
   },
   {
    "duration": 123,
    "start_time": "2023-02-12T05:53:11.535Z"
   },
   {
    "duration": 24,
    "start_time": "2023-02-12T05:53:25.808Z"
   },
   {
    "duration": 16,
    "start_time": "2023-02-12T05:53:35.509Z"
   },
   {
    "duration": 25,
    "start_time": "2023-02-12T05:53:38.891Z"
   },
   {
    "duration": 23,
    "start_time": "2023-02-12T05:54:06.693Z"
   },
   {
    "duration": 11,
    "start_time": "2023-02-12T05:54:19.781Z"
   },
   {
    "duration": 15,
    "start_time": "2023-02-12T05:54:21.004Z"
   },
   {
    "duration": 129,
    "start_time": "2023-02-12T05:54:24.055Z"
   },
   {
    "duration": 13,
    "start_time": "2023-02-12T05:54:39.776Z"
   },
   {
    "duration": 18,
    "start_time": "2023-02-12T05:54:46.607Z"
   },
   {
    "duration": 41,
    "start_time": "2023-02-12T05:55:31.556Z"
   },
   {
    "duration": 2406,
    "start_time": "2023-02-12T05:55:37.085Z"
   },
   {
    "duration": 1039,
    "start_time": "2023-02-12T05:55:39.495Z"
   },
   {
    "duration": 27,
    "start_time": "2023-02-12T05:55:40.537Z"
   },
   {
    "duration": 235,
    "start_time": "2023-02-12T05:55:40.568Z"
   },
   {
    "duration": 162,
    "start_time": "2023-02-12T05:55:40.806Z"
   },
   {
    "duration": 3,
    "start_time": "2023-02-12T05:55:40.970Z"
   },
   {
    "duration": 125,
    "start_time": "2023-02-12T05:55:40.975Z"
   },
   {
    "duration": 45,
    "start_time": "2023-02-12T05:55:41.103Z"
   },
   {
    "duration": 290,
    "start_time": "2023-02-12T05:55:41.150Z"
   },
   {
    "duration": 29,
    "start_time": "2023-02-12T05:55:41.445Z"
   },
   {
    "duration": 163,
    "start_time": "2023-02-12T05:55:41.476Z"
   },
   {
    "duration": 72,
    "start_time": "2023-02-12T05:55:41.641Z"
   },
   {
    "duration": 34,
    "start_time": "2023-02-12T05:55:41.728Z"
   },
   {
    "duration": 4,
    "start_time": "2023-02-12T05:55:41.764Z"
   },
   {
    "duration": 533,
    "start_time": "2023-02-12T05:55:41.770Z"
   },
   {
    "duration": 169,
    "start_time": "2023-02-12T05:55:42.306Z"
   },
   {
    "duration": 6,
    "start_time": "2023-02-12T05:55:42.528Z"
   },
   {
    "duration": 4664,
    "start_time": "2023-02-12T05:55:42.537Z"
   },
   {
    "duration": 0,
    "start_time": "2023-02-12T05:55:47.203Z"
   },
   {
    "duration": 0,
    "start_time": "2023-02-12T05:55:47.205Z"
   },
   {
    "duration": 0,
    "start_time": "2023-02-12T05:55:47.206Z"
   },
   {
    "duration": 0,
    "start_time": "2023-02-12T05:55:47.208Z"
   },
   {
    "duration": 0,
    "start_time": "2023-02-12T05:55:47.210Z"
   },
   {
    "duration": 0,
    "start_time": "2023-02-12T05:55:47.211Z"
   },
   {
    "duration": 0,
    "start_time": "2023-02-12T05:55:47.228Z"
   },
   {
    "duration": 0,
    "start_time": "2023-02-12T05:55:47.229Z"
   },
   {
    "duration": 0,
    "start_time": "2023-02-12T05:55:47.230Z"
   },
   {
    "duration": 1,
    "start_time": "2023-02-12T05:55:47.232Z"
   },
   {
    "duration": 0,
    "start_time": "2023-02-12T05:55:47.234Z"
   },
   {
    "duration": 0,
    "start_time": "2023-02-12T05:55:47.236Z"
   },
   {
    "duration": 370,
    "start_time": "2023-02-12T05:55:53.570Z"
   },
   {
    "duration": 55,
    "start_time": "2023-02-12T05:55:55.584Z"
   },
   {
    "duration": 189,
    "start_time": "2023-02-12T05:55:59.295Z"
   },
   {
    "duration": 178,
    "start_time": "2023-02-12T05:56:25.287Z"
   },
   {
    "duration": 2476,
    "start_time": "2023-02-12T05:56:33.492Z"
   },
   {
    "duration": 2156,
    "start_time": "2023-02-12T05:56:35.971Z"
   },
   {
    "duration": 21,
    "start_time": "2023-02-12T05:56:38.129Z"
   },
   {
    "duration": 225,
    "start_time": "2023-02-12T05:56:38.152Z"
   },
   {
    "duration": 156,
    "start_time": "2023-02-12T05:56:38.380Z"
   },
   {
    "duration": 3,
    "start_time": "2023-02-12T05:56:38.538Z"
   },
   {
    "duration": 126,
    "start_time": "2023-02-12T05:56:38.543Z"
   },
   {
    "duration": 36,
    "start_time": "2023-02-12T05:56:38.672Z"
   },
   {
    "duration": 299,
    "start_time": "2023-02-12T05:56:38.711Z"
   },
   {
    "duration": 36,
    "start_time": "2023-02-12T05:56:39.015Z"
   },
   {
    "duration": 180,
    "start_time": "2023-02-12T05:56:39.053Z"
   },
   {
    "duration": 92,
    "start_time": "2023-02-12T05:56:39.235Z"
   },
   {
    "duration": 38,
    "start_time": "2023-02-12T05:56:39.329Z"
   },
   {
    "duration": 5,
    "start_time": "2023-02-12T05:56:39.370Z"
   },
   {
    "duration": 692,
    "start_time": "2023-02-12T05:56:39.377Z"
   },
   {
    "duration": 98,
    "start_time": "2023-02-12T05:56:40.071Z"
   },
   {
    "duration": 5,
    "start_time": "2023-02-12T05:56:40.171Z"
   },
   {
    "duration": 1812,
    "start_time": "2023-02-12T05:56:40.178Z"
   },
   {
    "duration": 0,
    "start_time": "2023-02-12T05:56:41.993Z"
   },
   {
    "duration": 0,
    "start_time": "2023-02-12T05:56:41.994Z"
   },
   {
    "duration": 0,
    "start_time": "2023-02-12T05:56:41.996Z"
   },
   {
    "duration": 0,
    "start_time": "2023-02-12T05:56:41.997Z"
   },
   {
    "duration": 0,
    "start_time": "2023-02-12T05:56:41.999Z"
   },
   {
    "duration": 1,
    "start_time": "2023-02-12T05:56:42.000Z"
   },
   {
    "duration": 0,
    "start_time": "2023-02-12T05:56:42.002Z"
   },
   {
    "duration": 0,
    "start_time": "2023-02-12T05:56:42.004Z"
   },
   {
    "duration": 0,
    "start_time": "2023-02-12T05:56:42.005Z"
   },
   {
    "duration": 0,
    "start_time": "2023-02-12T05:56:42.006Z"
   },
   {
    "duration": 0,
    "start_time": "2023-02-12T05:56:42.008Z"
   },
   {
    "duration": 0,
    "start_time": "2023-02-12T05:56:42.028Z"
   },
   {
    "duration": 0,
    "start_time": "2023-02-12T05:56:42.030Z"
   },
   {
    "duration": 117,
    "start_time": "2023-02-12T05:56:43.795Z"
   },
   {
    "duration": 29,
    "start_time": "2023-02-12T05:58:11.124Z"
   },
   {
    "duration": 4410,
    "start_time": "2023-02-12T05:58:43.356Z"
   },
   {
    "duration": 1242,
    "start_time": "2023-02-12T05:58:47.770Z"
   },
   {
    "duration": 29,
    "start_time": "2023-02-12T05:58:49.015Z"
   },
   {
    "duration": 147,
    "start_time": "2023-02-12T05:58:49.047Z"
   },
   {
    "duration": 119,
    "start_time": "2023-02-12T05:58:49.196Z"
   },
   {
    "duration": 9,
    "start_time": "2023-02-12T05:58:49.318Z"
   },
   {
    "duration": 152,
    "start_time": "2023-02-12T05:58:49.329Z"
   },
   {
    "duration": 35,
    "start_time": "2023-02-12T05:58:49.483Z"
   },
   {
    "duration": 298,
    "start_time": "2023-02-12T05:58:49.528Z"
   },
   {
    "duration": 23,
    "start_time": "2023-02-12T05:58:49.830Z"
   },
   {
    "duration": 152,
    "start_time": "2023-02-12T05:58:49.855Z"
   },
   {
    "duration": 108,
    "start_time": "2023-02-12T05:58:50.009Z"
   },
   {
    "duration": 46,
    "start_time": "2023-02-12T05:58:50.119Z"
   },
   {
    "duration": 292,
    "start_time": "2023-02-12T05:58:50.167Z"
   },
   {
    "duration": 0,
    "start_time": "2023-02-12T05:58:50.461Z"
   },
   {
    "duration": 0,
    "start_time": "2023-02-12T05:58:50.463Z"
   },
   {
    "duration": 0,
    "start_time": "2023-02-12T05:58:50.464Z"
   },
   {
    "duration": 0,
    "start_time": "2023-02-12T05:58:50.466Z"
   },
   {
    "duration": 0,
    "start_time": "2023-02-12T05:58:50.467Z"
   },
   {
    "duration": 0,
    "start_time": "2023-02-12T05:58:50.469Z"
   },
   {
    "duration": 0,
    "start_time": "2023-02-12T05:58:50.470Z"
   },
   {
    "duration": 0,
    "start_time": "2023-02-12T05:58:50.471Z"
   },
   {
    "duration": 0,
    "start_time": "2023-02-12T05:58:50.472Z"
   },
   {
    "duration": 0,
    "start_time": "2023-02-12T05:58:50.473Z"
   },
   {
    "duration": 1,
    "start_time": "2023-02-12T05:58:50.474Z"
   },
   {
    "duration": 0,
    "start_time": "2023-02-12T05:58:50.476Z"
   },
   {
    "duration": 1,
    "start_time": "2023-02-12T05:58:50.476Z"
   },
   {
    "duration": 0,
    "start_time": "2023-02-12T05:58:50.478Z"
   },
   {
    "duration": 0,
    "start_time": "2023-02-12T05:58:50.479Z"
   },
   {
    "duration": 0,
    "start_time": "2023-02-12T05:58:50.480Z"
   },
   {
    "duration": 0,
    "start_time": "2023-02-12T05:58:50.482Z"
   },
   {
    "duration": 0,
    "start_time": "2023-02-12T05:58:50.483Z"
   },
   {
    "duration": 0,
    "start_time": "2023-02-12T05:58:50.485Z"
   },
   {
    "duration": 111,
    "start_time": "2023-02-12T05:58:58.196Z"
   },
   {
    "duration": 111,
    "start_time": "2023-02-12T05:59:11.895Z"
   },
   {
    "duration": 17,
    "start_time": "2023-02-12T05:59:23.341Z"
   },
   {
    "duration": 4,
    "start_time": "2023-02-12T05:59:28.557Z"
   },
   {
    "duration": 528,
    "start_time": "2023-02-12T05:59:29.779Z"
   },
   {
    "duration": 22,
    "start_time": "2023-02-12T05:59:31.814Z"
   },
   {
    "duration": 15,
    "start_time": "2023-02-12T05:59:43.359Z"
   },
   {
    "duration": 22,
    "start_time": "2023-02-12T05:59:47.419Z"
   },
   {
    "duration": 3558,
    "start_time": "2023-02-12T05:59:55.865Z"
   },
   {
    "duration": 923,
    "start_time": "2023-02-12T05:59:59.426Z"
   },
   {
    "duration": 26,
    "start_time": "2023-02-12T06:00:00.355Z"
   },
   {
    "duration": 267,
    "start_time": "2023-02-12T06:00:00.384Z"
   },
   {
    "duration": 123,
    "start_time": "2023-02-12T06:00:00.654Z"
   },
   {
    "duration": 3,
    "start_time": "2023-02-12T06:00:00.779Z"
   },
   {
    "duration": 163,
    "start_time": "2023-02-12T06:00:00.783Z"
   },
   {
    "duration": 42,
    "start_time": "2023-02-12T06:00:00.948Z"
   },
   {
    "duration": 329,
    "start_time": "2023-02-12T06:00:00.992Z"
   },
   {
    "duration": 26,
    "start_time": "2023-02-12T06:00:01.326Z"
   },
   {
    "duration": 156,
    "start_time": "2023-02-12T06:00:01.354Z"
   },
   {
    "duration": 74,
    "start_time": "2023-02-12T06:00:01.513Z"
   },
   {
    "duration": 119,
    "start_time": "2023-02-12T06:00:01.589Z"
   },
   {
    "duration": 41,
    "start_time": "2023-02-12T06:00:01.710Z"
   },
   {
    "duration": 163,
    "start_time": "2023-02-12T06:00:01.753Z"
   },
   {
    "duration": 56,
    "start_time": "2023-02-12T06:00:01.918Z"
   },
   {
    "duration": 64,
    "start_time": "2023-02-12T06:00:01.976Z"
   },
   {
    "duration": 529,
    "start_time": "2023-02-12T06:00:02.042Z"
   },
   {
    "duration": 28,
    "start_time": "2023-02-12T06:00:02.573Z"
   },
   {
    "duration": 122,
    "start_time": "2023-02-12T06:00:02.603Z"
   },
   {
    "duration": 5,
    "start_time": "2023-02-12T06:00:02.727Z"
   },
   {
    "duration": 1812,
    "start_time": "2023-02-12T06:00:02.733Z"
   },
   {
    "duration": 0,
    "start_time": "2023-02-12T06:00:04.547Z"
   },
   {
    "duration": 0,
    "start_time": "2023-02-12T06:00:04.549Z"
   },
   {
    "duration": 0,
    "start_time": "2023-02-12T06:00:04.550Z"
   },
   {
    "duration": 0,
    "start_time": "2023-02-12T06:00:04.552Z"
   },
   {
    "duration": 0,
    "start_time": "2023-02-12T06:00:04.553Z"
   },
   {
    "duration": 0,
    "start_time": "2023-02-12T06:00:04.554Z"
   },
   {
    "duration": 0,
    "start_time": "2023-02-12T06:00:04.555Z"
   },
   {
    "duration": 0,
    "start_time": "2023-02-12T06:00:04.557Z"
   },
   {
    "duration": 1,
    "start_time": "2023-02-12T06:00:04.558Z"
   },
   {
    "duration": 0,
    "start_time": "2023-02-12T06:00:04.559Z"
   },
   {
    "duration": 0,
    "start_time": "2023-02-12T06:00:04.561Z"
   },
   {
    "duration": 0,
    "start_time": "2023-02-12T06:00:04.562Z"
   },
   {
    "duration": 0,
    "start_time": "2023-02-12T06:00:04.565Z"
   },
   {
    "duration": 3681,
    "start_time": "2023-02-12T06:03:29.846Z"
   },
   {
    "duration": 1754,
    "start_time": "2023-02-12T06:03:33.531Z"
   },
   {
    "duration": 28,
    "start_time": "2023-02-12T06:03:35.288Z"
   },
   {
    "duration": 237,
    "start_time": "2023-02-12T06:03:35.318Z"
   },
   {
    "duration": 120,
    "start_time": "2023-02-12T06:03:35.558Z"
   },
   {
    "duration": 3,
    "start_time": "2023-02-12T06:03:35.680Z"
   },
   {
    "duration": 109,
    "start_time": "2023-02-12T06:03:35.684Z"
   },
   {
    "duration": 50,
    "start_time": "2023-02-12T06:03:35.795Z"
   },
   {
    "duration": 349,
    "start_time": "2023-02-12T06:03:35.848Z"
   },
   {
    "duration": 41,
    "start_time": "2023-02-12T06:03:36.199Z"
   },
   {
    "duration": 167,
    "start_time": "2023-02-12T06:03:36.243Z"
   },
   {
    "duration": 119,
    "start_time": "2023-02-12T06:03:36.412Z"
   },
   {
    "duration": 82,
    "start_time": "2023-02-12T06:03:36.533Z"
   },
   {
    "duration": 33,
    "start_time": "2023-02-12T06:03:36.629Z"
   },
   {
    "duration": 7,
    "start_time": "2023-02-12T06:03:36.664Z"
   },
   {
    "duration": 528,
    "start_time": "2023-02-12T06:03:36.672Z"
   },
   {
    "duration": 107,
    "start_time": "2023-02-12T06:03:37.202Z"
   },
   {
    "duration": 4,
    "start_time": "2023-02-12T06:03:37.311Z"
   },
   {
    "duration": 2754,
    "start_time": "2023-02-12T06:03:37.317Z"
   },
   {
    "duration": 0,
    "start_time": "2023-02-12T06:03:40.073Z"
   },
   {
    "duration": 0,
    "start_time": "2023-02-12T06:03:40.075Z"
   },
   {
    "duration": 0,
    "start_time": "2023-02-12T06:03:40.076Z"
   },
   {
    "duration": 0,
    "start_time": "2023-02-12T06:03:40.077Z"
   },
   {
    "duration": 0,
    "start_time": "2023-02-12T06:03:40.079Z"
   },
   {
    "duration": 0,
    "start_time": "2023-02-12T06:03:40.080Z"
   },
   {
    "duration": 0,
    "start_time": "2023-02-12T06:03:40.081Z"
   },
   {
    "duration": 0,
    "start_time": "2023-02-12T06:03:40.084Z"
   },
   {
    "duration": 0,
    "start_time": "2023-02-12T06:03:40.086Z"
   },
   {
    "duration": 0,
    "start_time": "2023-02-12T06:03:40.088Z"
   },
   {
    "duration": 0,
    "start_time": "2023-02-12T06:03:40.089Z"
   },
   {
    "duration": 0,
    "start_time": "2023-02-12T06:03:40.090Z"
   },
   {
    "duration": 0,
    "start_time": "2023-02-12T06:03:40.091Z"
   },
   {
    "duration": 114,
    "start_time": "2023-02-12T06:03:44.688Z"
   },
   {
    "duration": 28,
    "start_time": "2023-02-12T06:04:05.188Z"
   },
   {
    "duration": 24,
    "start_time": "2023-02-12T06:04:15.191Z"
   },
   {
    "duration": 23,
    "start_time": "2023-02-12T06:06:42.938Z"
   },
   {
    "duration": 19,
    "start_time": "2023-02-12T06:06:54.380Z"
   },
   {
    "duration": 23115,
    "start_time": "2023-02-12T06:07:09.510Z"
   },
   {
    "duration": 19,
    "start_time": "2023-02-12T06:07:32.628Z"
   },
   {
    "duration": 24,
    "start_time": "2023-02-12T06:07:35.879Z"
   },
   {
    "duration": 556,
    "start_time": "2023-02-12T09:23:17.005Z"
   },
   {
    "duration": 0,
    "start_time": "2023-02-12T09:23:17.564Z"
   },
   {
    "duration": 0,
    "start_time": "2023-02-12T09:23:17.565Z"
   },
   {
    "duration": 0,
    "start_time": "2023-02-12T09:23:17.567Z"
   },
   {
    "duration": 0,
    "start_time": "2023-02-12T09:23:17.569Z"
   },
   {
    "duration": 0,
    "start_time": "2023-02-12T09:23:17.570Z"
   },
   {
    "duration": 0,
    "start_time": "2023-02-12T09:23:17.572Z"
   },
   {
    "duration": 0,
    "start_time": "2023-02-12T09:23:17.573Z"
   },
   {
    "duration": 0,
    "start_time": "2023-02-12T09:23:17.574Z"
   },
   {
    "duration": 0,
    "start_time": "2023-02-12T09:23:17.575Z"
   },
   {
    "duration": 0,
    "start_time": "2023-02-12T09:23:17.577Z"
   },
   {
    "duration": 0,
    "start_time": "2023-02-12T09:23:17.578Z"
   },
   {
    "duration": 0,
    "start_time": "2023-02-12T09:23:17.579Z"
   },
   {
    "duration": 0,
    "start_time": "2023-02-12T09:23:17.580Z"
   },
   {
    "duration": 0,
    "start_time": "2023-02-12T09:23:17.582Z"
   },
   {
    "duration": 7148,
    "start_time": "2023-02-12T09:23:46.951Z"
   },
   {
    "duration": 1214,
    "start_time": "2023-02-12T09:23:54.101Z"
   },
   {
    "duration": 17,
    "start_time": "2023-02-12T09:23:55.317Z"
   },
   {
    "duration": 142,
    "start_time": "2023-02-12T09:23:55.339Z"
   },
   {
    "duration": 108,
    "start_time": "2023-02-12T09:23:55.484Z"
   },
   {
    "duration": 114,
    "start_time": "2023-02-12T09:23:55.593Z"
   },
   {
    "duration": 43,
    "start_time": "2023-02-12T09:23:55.709Z"
   },
   {
    "duration": 274,
    "start_time": "2023-02-12T09:23:55.754Z"
   },
   {
    "duration": 33,
    "start_time": "2023-02-12T09:23:56.030Z"
   },
   {
    "duration": 26,
    "start_time": "2023-02-12T09:23:56.065Z"
   },
   {
    "duration": 101,
    "start_time": "2023-02-12T09:23:56.093Z"
   },
   {
    "duration": 87,
    "start_time": "2023-02-12T09:23:56.196Z"
   },
   {
    "duration": 31,
    "start_time": "2023-02-12T09:23:57.450Z"
   },
   {
    "duration": 4,
    "start_time": "2023-02-12T09:23:58.979Z"
   },
   {
    "duration": 871,
    "start_time": "2023-02-12T09:24:13.509Z"
   },
   {
    "duration": 17,
    "start_time": "2023-02-12T09:24:15.950Z"
   },
   {
    "duration": 22,
    "start_time": "2023-02-12T09:24:16.146Z"
   },
   {
    "duration": 15134,
    "start_time": "2023-02-13T05:37:52.150Z"
   },
   {
    "duration": 55,
    "start_time": "2023-02-13T05:41:04.500Z"
   },
   {
    "duration": 2569,
    "start_time": "2023-02-13T05:41:14.022Z"
   },
   {
    "duration": 2373,
    "start_time": "2023-02-13T05:41:16.594Z"
   },
   {
    "duration": 3063,
    "start_time": "2023-02-13T05:41:18.969Z"
   },
   {
    "duration": 121,
    "start_time": "2023-02-13T05:41:22.034Z"
   },
   {
    "duration": 152,
    "start_time": "2023-02-13T05:41:22.156Z"
   },
   {
    "duration": 114,
    "start_time": "2023-02-13T05:41:22.310Z"
   },
   {
    "duration": 43283,
    "start_time": "2023-02-13T05:41:22.426Z"
   },
   {
    "duration": 162,
    "start_time": "2023-02-13T05:42:05.711Z"
   },
   {
    "duration": 82,
    "start_time": "2023-02-13T05:42:05.875Z"
   },
   {
    "duration": 280,
    "start_time": "2023-02-13T05:42:05.959Z"
   },
   {
    "duration": 31,
    "start_time": "2023-02-13T05:42:06.242Z"
   },
   {
    "duration": 21,
    "start_time": "2023-02-13T05:42:06.275Z"
   },
   {
    "duration": 4,
    "start_time": "2023-02-13T05:42:06.298Z"
   },
   {
    "duration": 204,
    "start_time": "2023-02-13T05:42:06.304Z"
   },
   {
    "duration": 0,
    "start_time": "2023-02-13T05:42:06.510Z"
   },
   {
    "duration": 0,
    "start_time": "2023-02-13T05:42:06.511Z"
   },
   {
    "duration": 0,
    "start_time": "2023-02-13T05:42:06.512Z"
   },
   {
    "duration": 0,
    "start_time": "2023-02-13T05:42:06.513Z"
   },
   {
    "duration": 0,
    "start_time": "2023-02-13T05:42:06.515Z"
   },
   {
    "duration": 0,
    "start_time": "2023-02-13T05:42:06.515Z"
   },
   {
    "duration": 0,
    "start_time": "2023-02-13T05:42:06.516Z"
   },
   {
    "duration": 0,
    "start_time": "2023-02-13T05:42:06.517Z"
   },
   {
    "duration": 0,
    "start_time": "2023-02-13T05:42:06.519Z"
   },
   {
    "duration": 0,
    "start_time": "2023-02-13T05:42:06.520Z"
   },
   {
    "duration": 0,
    "start_time": "2023-02-13T05:42:06.520Z"
   },
   {
    "duration": 0,
    "start_time": "2023-02-13T05:42:06.520Z"
   },
   {
    "duration": 0,
    "start_time": "2023-02-13T05:42:06.521Z"
   },
   {
    "duration": 0,
    "start_time": "2023-02-13T05:42:06.522Z"
   },
   {
    "duration": 0,
    "start_time": "2023-02-13T05:42:06.540Z"
   },
   {
    "duration": 0,
    "start_time": "2023-02-13T05:42:06.542Z"
   },
   {
    "duration": 0,
    "start_time": "2023-02-13T05:42:06.543Z"
   },
   {
    "duration": 0,
    "start_time": "2023-02-13T05:42:06.544Z"
   },
   {
    "duration": 0,
    "start_time": "2023-02-13T05:42:06.545Z"
   },
   {
    "duration": 1,
    "start_time": "2023-02-13T05:42:06.546Z"
   },
   {
    "duration": 5,
    "start_time": "2023-02-13T05:43:03.956Z"
   },
   {
    "duration": 30,
    "start_time": "2023-02-13T05:43:15.731Z"
   },
   {
    "duration": 87,
    "start_time": "2023-02-13T05:43:18.050Z"
   },
   {
    "duration": 75,
    "start_time": "2023-02-13T05:43:20.476Z"
   },
   {
    "duration": 26,
    "start_time": "2023-02-13T05:49:00.154Z"
   },
   {
    "duration": 112,
    "start_time": "2023-02-13T05:49:19.217Z"
   },
   {
    "duration": 3,
    "start_time": "2023-02-13T05:49:22.383Z"
   },
   {
    "duration": 422,
    "start_time": "2023-02-13T05:51:16.004Z"
   },
   {
    "duration": 75,
    "start_time": "2023-02-13T05:51:19.468Z"
   },
   {
    "duration": 18,
    "start_time": "2023-02-13T05:51:21.139Z"
   },
   {
    "duration": 115,
    "start_time": "2023-02-13T05:51:40.732Z"
   },
   {
    "duration": 2580,
    "start_time": "2023-02-13T05:52:52.446Z"
   },
   {
    "duration": 2184,
    "start_time": "2023-02-13T05:52:55.028Z"
   },
   {
    "duration": 855,
    "start_time": "2023-02-13T05:52:57.214Z"
   },
   {
    "duration": 20,
    "start_time": "2023-02-13T05:52:58.072Z"
   },
   {
    "duration": 193,
    "start_time": "2023-02-13T05:52:58.094Z"
   },
   {
    "duration": 115,
    "start_time": "2023-02-13T05:52:58.290Z"
   },
   {
    "duration": 41278,
    "start_time": "2023-02-13T05:52:58.407Z"
   },
   {
    "duration": 158,
    "start_time": "2023-02-13T05:53:39.687Z"
   },
   {
    "duration": 31,
    "start_time": "2023-02-13T05:53:39.848Z"
   },
   {
    "duration": 310,
    "start_time": "2023-02-13T05:53:39.882Z"
   },
   {
    "duration": 24,
    "start_time": "2023-02-13T05:53:40.193Z"
   },
   {
    "duration": 40,
    "start_time": "2023-02-13T05:53:40.219Z"
   },
   {
    "duration": 69,
    "start_time": "2023-02-13T05:53:40.260Z"
   },
   {
    "duration": 73,
    "start_time": "2023-02-13T05:53:40.338Z"
   },
   {
    "duration": 43,
    "start_time": "2023-02-13T05:53:40.413Z"
   },
   {
    "duration": 124,
    "start_time": "2023-02-13T05:53:40.458Z"
   },
   {
    "duration": 4,
    "start_time": "2023-02-13T05:53:40.583Z"
   },
   {
    "duration": 1237,
    "start_time": "2023-02-13T05:53:40.589Z"
   },
   {
    "duration": 5,
    "start_time": "2023-02-13T05:53:41.828Z"
   },
   {
    "duration": 13848,
    "start_time": "2023-02-13T05:53:41.839Z"
   },
   {
    "duration": 0,
    "start_time": "2023-02-13T05:53:55.688Z"
   },
   {
    "duration": 0,
    "start_time": "2023-02-13T05:53:55.690Z"
   },
   {
    "duration": 0,
    "start_time": "2023-02-13T05:53:55.692Z"
   },
   {
    "duration": 0,
    "start_time": "2023-02-13T05:53:55.693Z"
   },
   {
    "duration": 0,
    "start_time": "2023-02-13T05:53:55.694Z"
   },
   {
    "duration": 0,
    "start_time": "2023-02-13T05:53:55.695Z"
   },
   {
    "duration": 0,
    "start_time": "2023-02-13T05:53:55.696Z"
   },
   {
    "duration": 0,
    "start_time": "2023-02-13T05:53:55.697Z"
   },
   {
    "duration": 0,
    "start_time": "2023-02-13T05:53:55.698Z"
   },
   {
    "duration": 0,
    "start_time": "2023-02-13T05:53:55.699Z"
   },
   {
    "duration": 22,
    "start_time": "2023-02-13T05:54:06.813Z"
   },
   {
    "duration": 15,
    "start_time": "2023-02-13T05:54:10.532Z"
   },
   {
    "duration": 13,
    "start_time": "2023-02-13T05:54:26.234Z"
   },
   {
    "duration": 8064,
    "start_time": "2023-02-13T05:55:05.415Z"
   },
   {
    "duration": 39035,
    "start_time": "2023-02-13T05:58:28.028Z"
   },
   {
    "duration": 13354,
    "start_time": "2023-02-13T05:59:07.139Z"
   },
   {
    "duration": 66774,
    "start_time": "2023-02-13T05:59:20.494Z"
   },
   {
    "duration": 511,
    "start_time": "2023-02-13T06:00:27.270Z"
   },
   {
    "duration": 52057,
    "start_time": "2023-02-13T06:00:27.783Z"
   },
   {
    "duration": 5102,
    "start_time": "2023-02-13T06:01:19.842Z"
   },
   {
    "duration": 12462,
    "start_time": "2023-02-13T06:03:33.844Z"
   },
   {
    "duration": 12898,
    "start_time": "2023-02-13T06:04:10.640Z"
   },
   {
    "duration": 5,
    "start_time": "2023-02-13T06:06:00.381Z"
   },
   {
    "duration": 13,
    "start_time": "2023-02-13T06:08:34.903Z"
   },
   {
    "duration": 32249,
    "start_time": "2023-02-13T06:08:37.691Z"
   },
   {
    "duration": 18,
    "start_time": "2023-02-13T06:09:09.942Z"
   },
   {
    "duration": 17,
    "start_time": "2023-02-13T06:09:11.727Z"
   },
   {
    "duration": 2937,
    "start_time": "2023-02-13T06:09:13.093Z"
   },
   {
    "duration": 159,
    "start_time": "2023-02-13T06:09:16.033Z"
   },
   {
    "duration": 5,
    "start_time": "2023-02-13T06:11:35.949Z"
   },
   {
    "duration": 42471,
    "start_time": "2023-02-13T06:11:37.284Z"
   },
   {
    "duration": 28794,
    "start_time": "2023-02-13T06:12:29.958Z"
   },
   {
    "duration": 176,
    "start_time": "2023-02-13T06:12:58.754Z"
   },
   {
    "duration": 67,
    "start_time": "2023-02-13T06:13:01.185Z"
   },
   {
    "duration": 64,
    "start_time": "2023-02-13T06:13:13.808Z"
   },
   {
    "duration": 174,
    "start_time": "2023-02-13T06:13:37.373Z"
   },
   {
    "duration": 54,
    "start_time": "2023-02-13T06:13:55.864Z"
   },
   {
    "duration": 63853,
    "start_time": "2023-02-13T06:14:06.076Z"
   },
   {
    "duration": 3159,
    "start_time": "2023-02-13T06:15:09.931Z"
   },
   {
    "duration": 446,
    "start_time": "2023-02-13T06:15:13.093Z"
   },
   {
    "duration": 415,
    "start_time": "2023-02-13T06:15:57.235Z"
   },
   {
    "duration": 2405,
    "start_time": "2023-02-13T06:17:49.276Z"
   },
   {
    "duration": 1954,
    "start_time": "2023-02-13T06:17:51.683Z"
   },
   {
    "duration": 789,
    "start_time": "2023-02-13T06:17:53.638Z"
   },
   {
    "duration": 21,
    "start_time": "2023-02-13T06:17:54.429Z"
   },
   {
    "duration": 142,
    "start_time": "2023-02-13T06:17:54.452Z"
   },
   {
    "duration": 102,
    "start_time": "2023-02-13T06:17:54.596Z"
   },
   {
    "duration": 39109,
    "start_time": "2023-02-13T06:17:54.700Z"
   },
   {
    "duration": 145,
    "start_time": "2023-02-13T06:18:33.810Z"
   },
   {
    "duration": 31,
    "start_time": "2023-02-13T06:18:33.956Z"
   },
   {
    "duration": 292,
    "start_time": "2023-02-13T06:18:33.990Z"
   },
   {
    "duration": 24,
    "start_time": "2023-02-13T06:18:34.284Z"
   },
   {
    "duration": 37,
    "start_time": "2023-02-13T06:18:34.310Z"
   },
   {
    "duration": 77,
    "start_time": "2023-02-13T06:18:34.348Z"
   },
   {
    "duration": 70,
    "start_time": "2023-02-13T06:18:34.438Z"
   },
   {
    "duration": 43,
    "start_time": "2023-02-13T06:18:34.510Z"
   },
   {
    "duration": 120,
    "start_time": "2023-02-13T06:18:34.554Z"
   },
   {
    "duration": 3,
    "start_time": "2023-02-13T06:18:34.676Z"
   },
   {
    "duration": 1225,
    "start_time": "2023-02-13T06:18:34.680Z"
   },
   {
    "duration": 5,
    "start_time": "2023-02-13T06:18:35.907Z"
   },
   {
    "duration": 29429,
    "start_time": "2023-02-13T06:18:35.913Z"
   },
   {
    "duration": 4531,
    "start_time": "2023-02-13T06:19:05.345Z"
   },
   {
    "duration": 213,
    "start_time": "2023-02-13T06:19:09.878Z"
   },
   {
    "duration": 27607,
    "start_time": "2023-02-13T06:19:10.092Z"
   },
   {
    "duration": 65,
    "start_time": "2023-02-13T06:19:37.701Z"
   },
   {
    "duration": 184,
    "start_time": "2023-02-13T06:19:37.768Z"
   },
   {
    "duration": 62526,
    "start_time": "2023-02-13T06:19:37.954Z"
   },
   {
    "duration": 2893,
    "start_time": "2023-02-13T06:20:40.481Z"
   },
   {
    "duration": 423,
    "start_time": "2023-02-13T06:20:43.377Z"
   },
   {
    "duration": 45538,
    "start_time": "2023-02-13T06:20:43.803Z"
   },
   {
    "duration": 14113,
    "start_time": "2023-02-13T06:21:29.343Z"
   },
   {
    "duration": 65596,
    "start_time": "2023-02-13T06:21:43.458Z"
   },
   {
    "duration": 458,
    "start_time": "2023-02-13T06:22:49.056Z"
   },
   {
    "duration": 32849,
    "start_time": "2023-02-13T06:22:49.516Z"
   },
   {
    "duration": 60,
    "start_time": "2023-02-13T06:23:22.367Z"
   },
   {
    "duration": 0,
    "start_time": "2023-02-13T06:23:28.970Z"
   },
   {
    "duration": 0,
    "start_time": "2023-02-13T06:23:28.972Z"
   },
   {
    "duration": 171,
    "start_time": "2023-02-13T06:23:35.760Z"
   },
   {
    "duration": 155,
    "start_time": "2023-02-13T06:23:42.989Z"
   },
   {
    "duration": 72,
    "start_time": "2023-02-13T06:27:07.662Z"
   },
   {
    "duration": 2636,
    "start_time": "2023-02-13T06:29:27.203Z"
   },
   {
    "duration": 2185,
    "start_time": "2023-02-13T06:29:29.842Z"
   },
   {
    "duration": 973,
    "start_time": "2023-02-13T06:29:32.029Z"
   },
   {
    "duration": 22,
    "start_time": "2023-02-13T06:29:33.004Z"
   },
   {
    "duration": 153,
    "start_time": "2023-02-13T06:29:33.028Z"
   },
   {
    "duration": 110,
    "start_time": "2023-02-13T06:29:33.184Z"
   },
   {
    "duration": 40897,
    "start_time": "2023-02-13T06:29:33.296Z"
   },
   {
    "duration": 152,
    "start_time": "2023-02-13T06:30:14.195Z"
   },
   {
    "duration": 30,
    "start_time": "2023-02-13T06:30:14.350Z"
   },
   {
    "duration": 306,
    "start_time": "2023-02-13T06:30:14.383Z"
   },
   {
    "duration": 28,
    "start_time": "2023-02-13T06:30:14.691Z"
   },
   {
    "duration": 34,
    "start_time": "2023-02-13T06:30:14.721Z"
   },
   {
    "duration": 89,
    "start_time": "2023-02-13T06:30:14.757Z"
   },
   {
    "duration": 74,
    "start_time": "2023-02-13T06:30:14.848Z"
   },
   {
    "duration": 34,
    "start_time": "2023-02-13T06:30:14.938Z"
   },
   {
    "duration": 126,
    "start_time": "2023-02-13T06:30:14.974Z"
   },
   {
    "duration": 3,
    "start_time": "2023-02-13T06:30:15.102Z"
   },
   {
    "duration": 1201,
    "start_time": "2023-02-13T06:30:15.106Z"
   },
   {
    "duration": 5,
    "start_time": "2023-02-13T06:30:16.309Z"
   },
   {
    "duration": 199732,
    "start_time": "2023-02-13T06:30:16.316Z"
   },
   {
    "duration": 4526,
    "start_time": "2023-02-13T06:33:36.050Z"
   },
   {
    "duration": 235,
    "start_time": "2023-02-13T06:33:40.578Z"
   },
   {
    "duration": 26990,
    "start_time": "2023-02-13T06:33:40.815Z"
   },
   {
    "duration": 65,
    "start_time": "2023-02-13T06:34:07.807Z"
   },
   {
    "duration": 174,
    "start_time": "2023-02-13T06:34:07.874Z"
   },
   {
    "duration": 63958,
    "start_time": "2023-02-13T06:34:08.049Z"
   },
   {
    "duration": 3192,
    "start_time": "2023-02-13T06:35:12.009Z"
   },
   {
    "duration": 431,
    "start_time": "2023-02-13T06:35:15.203Z"
   },
   {
    "duration": 54275,
    "start_time": "2023-02-13T06:35:15.638Z"
   },
   {
    "duration": 71,
    "start_time": "2023-02-13T06:36:14.251Z"
   },
   {
    "duration": 65,
    "start_time": "2023-02-13T06:36:40.237Z"
   },
   {
    "duration": 26965,
    "start_time": "2023-02-13T06:40:38.567Z"
   },
   {
    "duration": 54645,
    "start_time": "2023-02-13T06:42:32.909Z"
   },
   {
    "duration": 26522,
    "start_time": "2023-02-13T06:43:58.927Z"
   },
   {
    "duration": 78,
    "start_time": "2023-02-13T06:56:32.856Z"
   },
   {
    "duration": 4537,
    "start_time": "2023-02-13T06:56:51.604Z"
   },
   {
    "duration": 73,
    "start_time": "2023-02-13T07:06:54.944Z"
   },
   {
    "duration": 1016052,
    "start_time": "2023-02-13T07:26:17.098Z"
   },
   {
    "duration": 548,
    "start_time": "2023-02-13T07:45:14.862Z"
   },
   {
    "duration": 54058,
    "start_time": "2023-02-13T07:46:11.191Z"
   },
   {
    "duration": 121,
    "start_time": "2023-02-13T07:54:08.700Z"
   },
   {
    "duration": 21,
    "start_time": "2023-02-13T07:54:17.719Z"
   },
   {
    "duration": 2684,
    "start_time": "2023-02-13T07:54:45.400Z"
   },
   {
    "duration": 2672,
    "start_time": "2023-02-13T07:54:48.087Z"
   },
   {
    "duration": 926,
    "start_time": "2023-02-13T07:54:50.761Z"
   },
   {
    "duration": 19,
    "start_time": "2023-02-13T07:54:51.689Z"
   },
   {
    "duration": 185,
    "start_time": "2023-02-13T07:54:51.710Z"
   },
   {
    "duration": 123,
    "start_time": "2023-02-13T07:54:51.897Z"
   },
   {
    "duration": 41671,
    "start_time": "2023-02-13T07:54:52.022Z"
   },
   {
    "duration": 265,
    "start_time": "2023-02-13T07:55:33.695Z"
   },
   {
    "duration": 79,
    "start_time": "2023-02-13T07:55:33.962Z"
   },
   {
    "duration": 263,
    "start_time": "2023-02-13T07:55:34.045Z"
   },
   {
    "duration": 42,
    "start_time": "2023-02-13T07:55:34.310Z"
   },
   {
    "duration": 30,
    "start_time": "2023-02-13T07:55:34.354Z"
   },
   {
    "duration": 96,
    "start_time": "2023-02-13T07:55:34.387Z"
   },
   {
    "duration": 74,
    "start_time": "2023-02-13T07:55:34.485Z"
   },
   {
    "duration": 31,
    "start_time": "2023-02-13T07:55:34.561Z"
   },
   {
    "duration": 128,
    "start_time": "2023-02-13T07:55:34.594Z"
   },
   {
    "duration": 171,
    "start_time": "2023-02-13T07:55:34.724Z"
   },
   {
    "duration": 3,
    "start_time": "2023-02-13T07:55:34.897Z"
   },
   {
    "duration": 1688,
    "start_time": "2023-02-13T07:55:34.902Z"
   },
   {
    "duration": 5,
    "start_time": "2023-02-13T07:55:36.592Z"
   },
   {
    "duration": 58548,
    "start_time": "2023-02-13T07:55:36.599Z"
   },
   {
    "duration": 4622,
    "start_time": "2023-02-13T07:56:35.149Z"
   },
   {
    "duration": 210,
    "start_time": "2023-02-13T07:56:39.773Z"
   },
   {
    "duration": 27927,
    "start_time": "2023-02-13T07:56:39.984Z"
   },
   {
    "duration": 74,
    "start_time": "2023-02-13T07:57:07.913Z"
   },
   {
    "duration": 217,
    "start_time": "2023-02-13T07:57:07.988Z"
   },
   {
    "duration": 67470,
    "start_time": "2023-02-13T07:57:08.207Z"
   },
   {
    "duration": 3144,
    "start_time": "2023-02-13T07:58:15.681Z"
   },
   {
    "duration": 446,
    "start_time": "2023-02-13T07:58:18.826Z"
   },
   {
    "duration": 28312,
    "start_time": "2023-02-13T07:58:19.275Z"
   },
   {
    "duration": 115,
    "start_time": "2023-02-13T08:05:26.923Z"
   },
   {
    "duration": 2421,
    "start_time": "2023-02-13T08:13:22.999Z"
   },
   {
    "duration": 2204,
    "start_time": "2023-02-13T08:13:25.423Z"
   },
   {
    "duration": 925,
    "start_time": "2023-02-13T08:13:27.629Z"
   },
   {
    "duration": 19,
    "start_time": "2023-02-13T08:13:28.556Z"
   },
   {
    "duration": 166,
    "start_time": "2023-02-13T08:13:28.576Z"
   },
   {
    "duration": 110,
    "start_time": "2023-02-13T08:13:28.744Z"
   },
   {
    "duration": 39279,
    "start_time": "2023-02-13T08:13:28.856Z"
   },
   {
    "duration": 210,
    "start_time": "2023-02-13T08:14:08.137Z"
   },
   {
    "duration": 28,
    "start_time": "2023-02-13T08:14:08.349Z"
   },
   {
    "duration": 280,
    "start_time": "2023-02-13T08:14:08.380Z"
   },
   {
    "duration": 29,
    "start_time": "2023-02-13T08:14:08.662Z"
   },
   {
    "duration": 22,
    "start_time": "2023-02-13T08:14:08.693Z"
   },
   {
    "duration": 86,
    "start_time": "2023-02-13T08:14:08.717Z"
   },
   {
    "duration": 81,
    "start_time": "2023-02-13T08:14:08.805Z"
   },
   {
    "duration": 135,
    "start_time": "2023-02-13T08:14:08.888Z"
   },
   {
    "duration": 40,
    "start_time": "2023-02-13T08:14:09.025Z"
   },
   {
    "duration": 139,
    "start_time": "2023-02-13T08:14:09.067Z"
   },
   {
    "duration": 3,
    "start_time": "2023-02-13T08:14:09.208Z"
   },
   {
    "duration": 1530,
    "start_time": "2023-02-13T08:14:09.213Z"
   },
   {
    "duration": 6,
    "start_time": "2023-02-13T08:14:10.745Z"
   },
   {
    "duration": 31399,
    "start_time": "2023-02-13T08:14:10.752Z"
   },
   {
    "duration": 4787,
    "start_time": "2023-02-13T08:14:42.153Z"
   },
   {
    "duration": 199,
    "start_time": "2023-02-13T08:14:46.942Z"
   },
   {
    "duration": 28340,
    "start_time": "2023-02-13T08:14:47.143Z"
   },
   {
    "duration": 73,
    "start_time": "2023-02-13T08:15:15.485Z"
   },
   {
    "duration": 197,
    "start_time": "2023-02-13T08:15:15.560Z"
   },
   {
    "duration": 64940,
    "start_time": "2023-02-13T08:15:15.759Z"
   },
   {
    "duration": 3223,
    "start_time": "2023-02-13T08:16:20.703Z"
   },
   {
    "duration": 434,
    "start_time": "2023-02-13T08:16:23.928Z"
   },
   {
    "duration": 26979,
    "start_time": "2023-02-13T08:16:24.364Z"
   }
  ],
  "kernelspec": {
   "display_name": "Python 3",
   "language": "python",
   "name": "python3"
  },
  "language_info": {
   "codemirror_mode": {
    "name": "ipython",
    "version": 3
   },
   "file_extension": ".py",
   "mimetype": "text/x-python",
   "name": "python",
   "nbconvert_exporter": "python",
   "pygments_lexer": "ipython3",
   "version": "3.12.7"
  },
  "toc": {
   "base_numbering": 1,
   "nav_menu": {},
   "number_sections": true,
   "sideBar": true,
   "skip_h1_title": true,
   "title_cell": "Table of Contents",
   "title_sidebar": "Contents",
   "toc_cell": false,
   "toc_position": {
    "height": "calc(100% - 180px)",
    "left": "10px",
    "top": "150px",
    "width": "358.188px"
   },
   "toc_section_display": true,
   "toc_window_display": true
  }
 },
 "nbformat": 4,
 "nbformat_minor": 2
}
