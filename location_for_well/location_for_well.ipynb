{
 "cells": [
  {
   "cell_type": "markdown",
   "metadata": {},
   "source": [
    "# Выбор локации для скважины"
   ]
  },
  {
   "cell_type": "markdown",
   "metadata": {},
   "source": [
    "Допустим, вы работаете в добывающей компании «ГлавРосГосНефть». Нужно решить, где бурить новую скважину.\n",
    "\n",
    "Вам предоставлены пробы нефти в трёх регионах: в каждом 10 000 месторождений, где измерили качество нефти и объём её запасов. Постройте модель машинного обучения, которая поможет определить регион, где добыча принесёт наибольшую прибыль. Проанализируйте возможную прибыль и риски техникой *Bootstrap.*\n",
    "\n",
    "Шаги для выбора локации:\n",
    "\n",
    "- В избранном регионе ищут месторождения, для каждого определяют значения признаков;\n",
    "- Строят модель и оценивают объём запасов;\n",
    "- Выбирают месторождения с самым высокими оценками значений. Количество месторождений зависит от бюджета компании и стоимости разработки одной скважины;\n",
    "- Прибыль равна суммарной прибыли отобранных месторождений."
   ]
  },
  {
   "cell_type": "markdown",
   "metadata": {},
   "source": [
    "## Загрузка и подготовка данных"
   ]
  },
  {
   "cell_type": "markdown",
   "metadata": {},
   "source": [
    "###  Импортируем необходимые библиотеки и загружаем датасеты"
   ]
  },
  {
   "cell_type": "code",
   "execution_count": 3,
   "metadata": {},
   "outputs": [],
   "source": [
    "import math\n",
    "import numpy as np\n",
    "import pandas as pd\n",
    "import seaborn as sns\n",
    "from tqdm.notebook import tqdm\n",
    "from scipy import stats as st\n",
    "import matplotlib.pyplot as plt\n",
    "from numpy.random import RandomState\n",
    "from sklearn.model_selection import train_test_split\n",
    "from sklearn.preprocessing import StandardScaler\n",
    "from sklearn.linear_model import LinearRegression\n",
    "from sklearn.metrics import mean_squared_error, r2_score, mean_absolute_error\n",
    "from sklearn.model_selection import GridSearchCV\n",
    "import warnings\n",
    "warnings.filterwarnings(\"ignore\")"
   ]
  },
  {
   "cell_type": "code",
   "execution_count": 4,
   "metadata": {},
   "outputs": [],
   "source": [
    "try:\n",
    "    data_0 = pd.read_csv('/datasets/geo_data_0.csv')\n",
    "    data_1 = pd.read_csv('/datasets/geo_data_1.csv')\n",
    "    data_2 = pd.read_csv('/datasets/geo_data_2.csv')\n",
    "except:\n",
    "    data_0 = pd.read_csv('https://code.s3.yandex.net/datasets/geo_data_0.csv')\n",
    "    data_1 = pd.read_csv('https://code.s3.yandex.net/datasets/geo_data_1.csv')\n",
    "    data_2 = pd.read_csv('https://code.s3.yandex.net/datasets/geo_data_2.csv')"
   ]
  },
  {
   "cell_type": "markdown",
   "metadata": {},
   "source": [
    "### Посмотрим 3 датасет"
   ]
  },
  {
   "cell_type": "code",
   "execution_count": 5,
   "metadata": {},
   "outputs": [
    {
     "data": {
      "text/html": [
       "<div>\n",
       "<style scoped>\n",
       "    .dataframe tbody tr th:only-of-type {\n",
       "        vertical-align: middle;\n",
       "    }\n",
       "\n",
       "    .dataframe tbody tr th {\n",
       "        vertical-align: top;\n",
       "    }\n",
       "\n",
       "    .dataframe thead th {\n",
       "        text-align: right;\n",
       "    }\n",
       "</style>\n",
       "<table border=\"1\" class=\"dataframe\">\n",
       "  <thead>\n",
       "    <tr style=\"text-align: right;\">\n",
       "      <th></th>\n",
       "      <th>id</th>\n",
       "      <th>f0</th>\n",
       "      <th>f1</th>\n",
       "      <th>f2</th>\n",
       "      <th>product</th>\n",
       "    </tr>\n",
       "  </thead>\n",
       "  <tbody>\n",
       "    <tr>\n",
       "      <th>0</th>\n",
       "      <td>txEyH</td>\n",
       "      <td>0.705745</td>\n",
       "      <td>-0.497823</td>\n",
       "      <td>1.221170</td>\n",
       "      <td>105.280062</td>\n",
       "    </tr>\n",
       "    <tr>\n",
       "      <th>1</th>\n",
       "      <td>2acmU</td>\n",
       "      <td>1.334711</td>\n",
       "      <td>-0.340164</td>\n",
       "      <td>4.365080</td>\n",
       "      <td>73.037750</td>\n",
       "    </tr>\n",
       "    <tr>\n",
       "      <th>2</th>\n",
       "      <td>409Wp</td>\n",
       "      <td>1.022732</td>\n",
       "      <td>0.151990</td>\n",
       "      <td>1.419926</td>\n",
       "      <td>85.265647</td>\n",
       "    </tr>\n",
       "    <tr>\n",
       "      <th>3</th>\n",
       "      <td>iJLyR</td>\n",
       "      <td>-0.032172</td>\n",
       "      <td>0.139033</td>\n",
       "      <td>2.978566</td>\n",
       "      <td>168.620776</td>\n",
       "    </tr>\n",
       "    <tr>\n",
       "      <th>4</th>\n",
       "      <td>Xdl7t</td>\n",
       "      <td>1.988431</td>\n",
       "      <td>0.155413</td>\n",
       "      <td>4.751769</td>\n",
       "      <td>154.036647</td>\n",
       "    </tr>\n",
       "    <tr>\n",
       "      <th>5</th>\n",
       "      <td>wX4Hy</td>\n",
       "      <td>0.969570</td>\n",
       "      <td>0.489775</td>\n",
       "      <td>-0.735383</td>\n",
       "      <td>64.741541</td>\n",
       "    </tr>\n",
       "    <tr>\n",
       "      <th>6</th>\n",
       "      <td>tL6pL</td>\n",
       "      <td>0.645075</td>\n",
       "      <td>0.530656</td>\n",
       "      <td>1.780266</td>\n",
       "      <td>49.055285</td>\n",
       "    </tr>\n",
       "    <tr>\n",
       "      <th>7</th>\n",
       "      <td>BYPU6</td>\n",
       "      <td>-0.400648</td>\n",
       "      <td>0.808337</td>\n",
       "      <td>-5.624670</td>\n",
       "      <td>72.943292</td>\n",
       "    </tr>\n",
       "    <tr>\n",
       "      <th>8</th>\n",
       "      <td>j9Oui</td>\n",
       "      <td>0.643105</td>\n",
       "      <td>-0.551583</td>\n",
       "      <td>2.372141</td>\n",
       "      <td>113.356160</td>\n",
       "    </tr>\n",
       "    <tr>\n",
       "      <th>9</th>\n",
       "      <td>OLuZU</td>\n",
       "      <td>2.173381</td>\n",
       "      <td>0.563698</td>\n",
       "      <td>9.441852</td>\n",
       "      <td>127.910945</td>\n",
       "    </tr>\n",
       "    <tr>\n",
       "      <th>10</th>\n",
       "      <td>b8WQ6</td>\n",
       "      <td>0.371066</td>\n",
       "      <td>-0.036585</td>\n",
       "      <td>0.009208</td>\n",
       "      <td>70.326617</td>\n",
       "    </tr>\n",
       "    <tr>\n",
       "      <th>11</th>\n",
       "      <td>1YYm1</td>\n",
       "      <td>0.015920</td>\n",
       "      <td>1.062729</td>\n",
       "      <td>-0.722248</td>\n",
       "      <td>45.110381</td>\n",
       "    </tr>\n",
       "    <tr>\n",
       "      <th>12</th>\n",
       "      <td>zIYPq</td>\n",
       "      <td>-0.276476</td>\n",
       "      <td>0.924865</td>\n",
       "      <td>0.095584</td>\n",
       "      <td>89.158678</td>\n",
       "    </tr>\n",
       "    <tr>\n",
       "      <th>13</th>\n",
       "      <td>iqTqq</td>\n",
       "      <td>0.212696</td>\n",
       "      <td>-0.111147</td>\n",
       "      <td>5.770095</td>\n",
       "      <td>164.298520</td>\n",
       "    </tr>\n",
       "    <tr>\n",
       "      <th>14</th>\n",
       "      <td>Ct5yY</td>\n",
       "      <td>-0.018578</td>\n",
       "      <td>0.187516</td>\n",
       "      <td>2.944683</td>\n",
       "      <td>158.633720</td>\n",
       "    </tr>\n",
       "    <tr>\n",
       "      <th>15</th>\n",
       "      <td>Q77WQ</td>\n",
       "      <td>1.324566</td>\n",
       "      <td>-0.419149</td>\n",
       "      <td>-4.097429</td>\n",
       "      <td>60.677876</td>\n",
       "    </tr>\n",
       "    <tr>\n",
       "      <th>16</th>\n",
       "      <td>6vJcD</td>\n",
       "      <td>-0.000247</td>\n",
       "      <td>0.360146</td>\n",
       "      <td>0.794115</td>\n",
       "      <td>163.143987</td>\n",
       "    </tr>\n",
       "    <tr>\n",
       "      <th>17</th>\n",
       "      <td>AgRR6</td>\n",
       "      <td>0.380913</td>\n",
       "      <td>1.114558</td>\n",
       "      <td>0.992377</td>\n",
       "      <td>125.942543</td>\n",
       "    </tr>\n",
       "    <tr>\n",
       "      <th>18</th>\n",
       "      <td>tgSSC</td>\n",
       "      <td>0.160021</td>\n",
       "      <td>0.788151</td>\n",
       "      <td>7.629164</td>\n",
       "      <td>113.793566</td>\n",
       "    </tr>\n",
       "    <tr>\n",
       "      <th>19</th>\n",
       "      <td>s2g8E</td>\n",
       "      <td>0.593078</td>\n",
       "      <td>-0.414964</td>\n",
       "      <td>-0.715774</td>\n",
       "      <td>28.207978</td>\n",
       "    </tr>\n",
       "  </tbody>\n",
       "</table>\n",
       "</div>"
      ],
      "text/plain": [
       "       id        f0        f1        f2     product\n",
       "0   txEyH  0.705745 -0.497823  1.221170  105.280062\n",
       "1   2acmU  1.334711 -0.340164  4.365080   73.037750\n",
       "2   409Wp  1.022732  0.151990  1.419926   85.265647\n",
       "3   iJLyR -0.032172  0.139033  2.978566  168.620776\n",
       "4   Xdl7t  1.988431  0.155413  4.751769  154.036647\n",
       "5   wX4Hy  0.969570  0.489775 -0.735383   64.741541\n",
       "6   tL6pL  0.645075  0.530656  1.780266   49.055285\n",
       "7   BYPU6 -0.400648  0.808337 -5.624670   72.943292\n",
       "8   j9Oui  0.643105 -0.551583  2.372141  113.356160\n",
       "9   OLuZU  2.173381  0.563698  9.441852  127.910945\n",
       "10  b8WQ6  0.371066 -0.036585  0.009208   70.326617\n",
       "11  1YYm1  0.015920  1.062729 -0.722248   45.110381\n",
       "12  zIYPq -0.276476  0.924865  0.095584   89.158678\n",
       "13  iqTqq  0.212696 -0.111147  5.770095  164.298520\n",
       "14  Ct5yY -0.018578  0.187516  2.944683  158.633720\n",
       "15  Q77WQ  1.324566 -0.419149 -4.097429   60.677876\n",
       "16  6vJcD -0.000247  0.360146  0.794115  163.143987\n",
       "17  AgRR6  0.380913  1.114558  0.992377  125.942543\n",
       "18  tgSSC  0.160021  0.788151  7.629164  113.793566\n",
       "19  s2g8E  0.593078 -0.414964 -0.715774   28.207978"
      ]
     },
     "execution_count": 5,
     "metadata": {},
     "output_type": "execute_result"
    }
   ],
   "source": [
    "data_0.head(20)"
   ]
  },
  {
   "cell_type": "code",
   "execution_count": 6,
   "metadata": {},
   "outputs": [
    {
     "name": "stdout",
     "output_type": "stream",
     "text": [
      "<class 'pandas.core.frame.DataFrame'>\n",
      "RangeIndex: 100000 entries, 0 to 99999\n",
      "Data columns (total 5 columns):\n",
      " #   Column   Non-Null Count   Dtype  \n",
      "---  ------   --------------   -----  \n",
      " 0   id       100000 non-null  object \n",
      " 1   f0       100000 non-null  float64\n",
      " 2   f1       100000 non-null  float64\n",
      " 3   f2       100000 non-null  float64\n",
      " 4   product  100000 non-null  float64\n",
      "dtypes: float64(4), object(1)\n",
      "memory usage: 3.8+ MB\n"
     ]
    }
   ],
   "source": [
    "data_0.info()"
   ]
  },
  {
   "cell_type": "code",
   "execution_count": 7,
   "metadata": {},
   "outputs": [
    {
     "data": {
      "text/html": [
       "<div>\n",
       "<style scoped>\n",
       "    .dataframe tbody tr th:only-of-type {\n",
       "        vertical-align: middle;\n",
       "    }\n",
       "\n",
       "    .dataframe tbody tr th {\n",
       "        vertical-align: top;\n",
       "    }\n",
       "\n",
       "    .dataframe thead th {\n",
       "        text-align: right;\n",
       "    }\n",
       "</style>\n",
       "<table border=\"1\" class=\"dataframe\">\n",
       "  <thead>\n",
       "    <tr style=\"text-align: right;\">\n",
       "      <th></th>\n",
       "      <th>f0</th>\n",
       "      <th>f1</th>\n",
       "      <th>f2</th>\n",
       "      <th>product</th>\n",
       "    </tr>\n",
       "  </thead>\n",
       "  <tbody>\n",
       "    <tr>\n",
       "      <th>count</th>\n",
       "      <td>100000.000000</td>\n",
       "      <td>100000.000000</td>\n",
       "      <td>100000.000000</td>\n",
       "      <td>100000.000000</td>\n",
       "    </tr>\n",
       "    <tr>\n",
       "      <th>mean</th>\n",
       "      <td>0.500419</td>\n",
       "      <td>0.250143</td>\n",
       "      <td>2.502647</td>\n",
       "      <td>92.500000</td>\n",
       "    </tr>\n",
       "    <tr>\n",
       "      <th>std</th>\n",
       "      <td>0.871832</td>\n",
       "      <td>0.504433</td>\n",
       "      <td>3.248248</td>\n",
       "      <td>44.288691</td>\n",
       "    </tr>\n",
       "    <tr>\n",
       "      <th>min</th>\n",
       "      <td>-1.408605</td>\n",
       "      <td>-0.848218</td>\n",
       "      <td>-12.088328</td>\n",
       "      <td>0.000000</td>\n",
       "    </tr>\n",
       "    <tr>\n",
       "      <th>25%</th>\n",
       "      <td>-0.072580</td>\n",
       "      <td>-0.200881</td>\n",
       "      <td>0.287748</td>\n",
       "      <td>56.497507</td>\n",
       "    </tr>\n",
       "    <tr>\n",
       "      <th>50%</th>\n",
       "      <td>0.502360</td>\n",
       "      <td>0.250252</td>\n",
       "      <td>2.515969</td>\n",
       "      <td>91.849972</td>\n",
       "    </tr>\n",
       "    <tr>\n",
       "      <th>75%</th>\n",
       "      <td>1.073581</td>\n",
       "      <td>0.700646</td>\n",
       "      <td>4.715088</td>\n",
       "      <td>128.564089</td>\n",
       "    </tr>\n",
       "    <tr>\n",
       "      <th>max</th>\n",
       "      <td>2.362331</td>\n",
       "      <td>1.343769</td>\n",
       "      <td>16.003790</td>\n",
       "      <td>185.364347</td>\n",
       "    </tr>\n",
       "  </tbody>\n",
       "</table>\n",
       "</div>"
      ],
      "text/plain": [
       "                  f0             f1             f2        product\n",
       "count  100000.000000  100000.000000  100000.000000  100000.000000\n",
       "mean        0.500419       0.250143       2.502647      92.500000\n",
       "std         0.871832       0.504433       3.248248      44.288691\n",
       "min        -1.408605      -0.848218     -12.088328       0.000000\n",
       "25%        -0.072580      -0.200881       0.287748      56.497507\n",
       "50%         0.502360       0.250252       2.515969      91.849972\n",
       "75%         1.073581       0.700646       4.715088     128.564089\n",
       "max         2.362331       1.343769      16.003790     185.364347"
      ]
     },
     "execution_count": 7,
     "metadata": {},
     "output_type": "execute_result"
    }
   ],
   "source": [
    "data_0.describe()"
   ]
  },
  {
   "cell_type": "markdown",
   "metadata": {},
   "source": [
    "### Посмотрим 2 датасет"
   ]
  },
  {
   "cell_type": "code",
   "execution_count": 8,
   "metadata": {},
   "outputs": [
    {
     "data": {
      "text/html": [
       "<div>\n",
       "<style scoped>\n",
       "    .dataframe tbody tr th:only-of-type {\n",
       "        vertical-align: middle;\n",
       "    }\n",
       "\n",
       "    .dataframe tbody tr th {\n",
       "        vertical-align: top;\n",
       "    }\n",
       "\n",
       "    .dataframe thead th {\n",
       "        text-align: right;\n",
       "    }\n",
       "</style>\n",
       "<table border=\"1\" class=\"dataframe\">\n",
       "  <thead>\n",
       "    <tr style=\"text-align: right;\">\n",
       "      <th></th>\n",
       "      <th>id</th>\n",
       "      <th>f0</th>\n",
       "      <th>f1</th>\n",
       "      <th>f2</th>\n",
       "      <th>product</th>\n",
       "    </tr>\n",
       "  </thead>\n",
       "  <tbody>\n",
       "    <tr>\n",
       "      <th>0</th>\n",
       "      <td>kBEdx</td>\n",
       "      <td>-15.001348</td>\n",
       "      <td>-8.276000</td>\n",
       "      <td>-0.005876</td>\n",
       "      <td>3.179103</td>\n",
       "    </tr>\n",
       "    <tr>\n",
       "      <th>1</th>\n",
       "      <td>62mP7</td>\n",
       "      <td>14.272088</td>\n",
       "      <td>-3.475083</td>\n",
       "      <td>0.999183</td>\n",
       "      <td>26.953261</td>\n",
       "    </tr>\n",
       "    <tr>\n",
       "      <th>2</th>\n",
       "      <td>vyE1P</td>\n",
       "      <td>6.263187</td>\n",
       "      <td>-5.948386</td>\n",
       "      <td>5.001160</td>\n",
       "      <td>134.766305</td>\n",
       "    </tr>\n",
       "    <tr>\n",
       "      <th>3</th>\n",
       "      <td>KcrkZ</td>\n",
       "      <td>-13.081196</td>\n",
       "      <td>-11.506057</td>\n",
       "      <td>4.999415</td>\n",
       "      <td>137.945408</td>\n",
       "    </tr>\n",
       "    <tr>\n",
       "      <th>4</th>\n",
       "      <td>AHL4O</td>\n",
       "      <td>12.702195</td>\n",
       "      <td>-8.147433</td>\n",
       "      <td>5.004363</td>\n",
       "      <td>134.766305</td>\n",
       "    </tr>\n",
       "    <tr>\n",
       "      <th>5</th>\n",
       "      <td>HHckp</td>\n",
       "      <td>-3.327590</td>\n",
       "      <td>-2.205276</td>\n",
       "      <td>3.003647</td>\n",
       "      <td>84.038886</td>\n",
       "    </tr>\n",
       "    <tr>\n",
       "      <th>6</th>\n",
       "      <td>h5Ujo</td>\n",
       "      <td>-11.142655</td>\n",
       "      <td>-10.133399</td>\n",
       "      <td>4.002382</td>\n",
       "      <td>110.992147</td>\n",
       "    </tr>\n",
       "    <tr>\n",
       "      <th>7</th>\n",
       "      <td>muH9x</td>\n",
       "      <td>4.234715</td>\n",
       "      <td>-0.001354</td>\n",
       "      <td>2.004588</td>\n",
       "      <td>53.906522</td>\n",
       "    </tr>\n",
       "    <tr>\n",
       "      <th>8</th>\n",
       "      <td>YiRkx</td>\n",
       "      <td>13.355129</td>\n",
       "      <td>-0.332068</td>\n",
       "      <td>4.998647</td>\n",
       "      <td>134.766305</td>\n",
       "    </tr>\n",
       "    <tr>\n",
       "      <th>9</th>\n",
       "      <td>jG6Gi</td>\n",
       "      <td>1.069227</td>\n",
       "      <td>-11.025667</td>\n",
       "      <td>4.997844</td>\n",
       "      <td>137.945408</td>\n",
       "    </tr>\n",
       "    <tr>\n",
       "      <th>10</th>\n",
       "      <td>7uHUe</td>\n",
       "      <td>11.777049</td>\n",
       "      <td>-5.334084</td>\n",
       "      <td>2.003033</td>\n",
       "      <td>53.906522</td>\n",
       "    </tr>\n",
       "    <tr>\n",
       "      <th>11</th>\n",
       "      <td>OXyvW</td>\n",
       "      <td>16.320755</td>\n",
       "      <td>-0.562946</td>\n",
       "      <td>-0.001783</td>\n",
       "      <td>0.000000</td>\n",
       "    </tr>\n",
       "    <tr>\n",
       "      <th>12</th>\n",
       "      <td>cB8re</td>\n",
       "      <td>7.736313</td>\n",
       "      <td>-6.093374</td>\n",
       "      <td>3.982531</td>\n",
       "      <td>107.813044</td>\n",
       "    </tr>\n",
       "    <tr>\n",
       "      <th>13</th>\n",
       "      <td>igmai</td>\n",
       "      <td>6.695604</td>\n",
       "      <td>-0.749449</td>\n",
       "      <td>-0.007630</td>\n",
       "      <td>0.000000</td>\n",
       "    </tr>\n",
       "    <tr>\n",
       "      <th>14</th>\n",
       "      <td>3OdkE</td>\n",
       "      <td>-10.985487</td>\n",
       "      <td>-5.605994</td>\n",
       "      <td>2.991130</td>\n",
       "      <td>84.038886</td>\n",
       "    </tr>\n",
       "    <tr>\n",
       "      <th>15</th>\n",
       "      <td>3tVUO</td>\n",
       "      <td>-0.347599</td>\n",
       "      <td>-6.275884</td>\n",
       "      <td>-0.003448</td>\n",
       "      <td>3.179103</td>\n",
       "    </tr>\n",
       "    <tr>\n",
       "      <th>16</th>\n",
       "      <td>siveY</td>\n",
       "      <td>12.300570</td>\n",
       "      <td>2.944454</td>\n",
       "      <td>2.005541</td>\n",
       "      <td>53.906522</td>\n",
       "    </tr>\n",
       "    <tr>\n",
       "      <th>17</th>\n",
       "      <td>gIqzq</td>\n",
       "      <td>8.900460</td>\n",
       "      <td>-5.632857</td>\n",
       "      <td>4.994324</td>\n",
       "      <td>134.766305</td>\n",
       "    </tr>\n",
       "    <tr>\n",
       "      <th>18</th>\n",
       "      <td>zO5EU</td>\n",
       "      <td>-13.412826</td>\n",
       "      <td>-4.729495</td>\n",
       "      <td>2.998590</td>\n",
       "      <td>84.038886</td>\n",
       "    </tr>\n",
       "    <tr>\n",
       "      <th>19</th>\n",
       "      <td>dkcEb</td>\n",
       "      <td>-4.373526</td>\n",
       "      <td>-8.590017</td>\n",
       "      <td>2.995379</td>\n",
       "      <td>84.038886</td>\n",
       "    </tr>\n",
       "  </tbody>\n",
       "</table>\n",
       "</div>"
      ],
      "text/plain": [
       "       id         f0         f1        f2     product\n",
       "0   kBEdx -15.001348  -8.276000 -0.005876    3.179103\n",
       "1   62mP7  14.272088  -3.475083  0.999183   26.953261\n",
       "2   vyE1P   6.263187  -5.948386  5.001160  134.766305\n",
       "3   KcrkZ -13.081196 -11.506057  4.999415  137.945408\n",
       "4   AHL4O  12.702195  -8.147433  5.004363  134.766305\n",
       "5   HHckp  -3.327590  -2.205276  3.003647   84.038886\n",
       "6   h5Ujo -11.142655 -10.133399  4.002382  110.992147\n",
       "7   muH9x   4.234715  -0.001354  2.004588   53.906522\n",
       "8   YiRkx  13.355129  -0.332068  4.998647  134.766305\n",
       "9   jG6Gi   1.069227 -11.025667  4.997844  137.945408\n",
       "10  7uHUe  11.777049  -5.334084  2.003033   53.906522\n",
       "11  OXyvW  16.320755  -0.562946 -0.001783    0.000000\n",
       "12  cB8re   7.736313  -6.093374  3.982531  107.813044\n",
       "13  igmai   6.695604  -0.749449 -0.007630    0.000000\n",
       "14  3OdkE -10.985487  -5.605994  2.991130   84.038886\n",
       "15  3tVUO  -0.347599  -6.275884 -0.003448    3.179103\n",
       "16  siveY  12.300570   2.944454  2.005541   53.906522\n",
       "17  gIqzq   8.900460  -5.632857  4.994324  134.766305\n",
       "18  zO5EU -13.412826  -4.729495  2.998590   84.038886\n",
       "19  dkcEb  -4.373526  -8.590017  2.995379   84.038886"
      ]
     },
     "execution_count": 8,
     "metadata": {},
     "output_type": "execute_result"
    }
   ],
   "source": [
    "data_1.head(20)"
   ]
  },
  {
   "cell_type": "code",
   "execution_count": 9,
   "metadata": {},
   "outputs": [
    {
     "name": "stdout",
     "output_type": "stream",
     "text": [
      "<class 'pandas.core.frame.DataFrame'>\n",
      "RangeIndex: 100000 entries, 0 to 99999\n",
      "Data columns (total 5 columns):\n",
      " #   Column   Non-Null Count   Dtype  \n",
      "---  ------   --------------   -----  \n",
      " 0   id       100000 non-null  object \n",
      " 1   f0       100000 non-null  float64\n",
      " 2   f1       100000 non-null  float64\n",
      " 3   f2       100000 non-null  float64\n",
      " 4   product  100000 non-null  float64\n",
      "dtypes: float64(4), object(1)\n",
      "memory usage: 3.8+ MB\n"
     ]
    }
   ],
   "source": [
    "data_1.info()"
   ]
  },
  {
   "cell_type": "code",
   "execution_count": 10,
   "metadata": {},
   "outputs": [
    {
     "data": {
      "text/html": [
       "<div>\n",
       "<style scoped>\n",
       "    .dataframe tbody tr th:only-of-type {\n",
       "        vertical-align: middle;\n",
       "    }\n",
       "\n",
       "    .dataframe tbody tr th {\n",
       "        vertical-align: top;\n",
       "    }\n",
       "\n",
       "    .dataframe thead th {\n",
       "        text-align: right;\n",
       "    }\n",
       "</style>\n",
       "<table border=\"1\" class=\"dataframe\">\n",
       "  <thead>\n",
       "    <tr style=\"text-align: right;\">\n",
       "      <th></th>\n",
       "      <th>f0</th>\n",
       "      <th>f1</th>\n",
       "      <th>f2</th>\n",
       "      <th>product</th>\n",
       "    </tr>\n",
       "  </thead>\n",
       "  <tbody>\n",
       "    <tr>\n",
       "      <th>count</th>\n",
       "      <td>100000.000000</td>\n",
       "      <td>100000.000000</td>\n",
       "      <td>100000.000000</td>\n",
       "      <td>100000.000000</td>\n",
       "    </tr>\n",
       "    <tr>\n",
       "      <th>mean</th>\n",
       "      <td>1.141296</td>\n",
       "      <td>-4.796579</td>\n",
       "      <td>2.494541</td>\n",
       "      <td>68.825000</td>\n",
       "    </tr>\n",
       "    <tr>\n",
       "      <th>std</th>\n",
       "      <td>8.965932</td>\n",
       "      <td>5.119872</td>\n",
       "      <td>1.703572</td>\n",
       "      <td>45.944423</td>\n",
       "    </tr>\n",
       "    <tr>\n",
       "      <th>min</th>\n",
       "      <td>-31.609576</td>\n",
       "      <td>-26.358598</td>\n",
       "      <td>-0.018144</td>\n",
       "      <td>0.000000</td>\n",
       "    </tr>\n",
       "    <tr>\n",
       "      <th>25%</th>\n",
       "      <td>-6.298551</td>\n",
       "      <td>-8.267985</td>\n",
       "      <td>1.000021</td>\n",
       "      <td>26.953261</td>\n",
       "    </tr>\n",
       "    <tr>\n",
       "      <th>50%</th>\n",
       "      <td>1.153055</td>\n",
       "      <td>-4.813172</td>\n",
       "      <td>2.011479</td>\n",
       "      <td>57.085625</td>\n",
       "    </tr>\n",
       "    <tr>\n",
       "      <th>75%</th>\n",
       "      <td>8.621015</td>\n",
       "      <td>-1.332816</td>\n",
       "      <td>3.999904</td>\n",
       "      <td>107.813044</td>\n",
       "    </tr>\n",
       "    <tr>\n",
       "      <th>max</th>\n",
       "      <td>29.421755</td>\n",
       "      <td>18.734063</td>\n",
       "      <td>5.019721</td>\n",
       "      <td>137.945408</td>\n",
       "    </tr>\n",
       "  </tbody>\n",
       "</table>\n",
       "</div>"
      ],
      "text/plain": [
       "                  f0             f1             f2        product\n",
       "count  100000.000000  100000.000000  100000.000000  100000.000000\n",
       "mean        1.141296      -4.796579       2.494541      68.825000\n",
       "std         8.965932       5.119872       1.703572      45.944423\n",
       "min       -31.609576     -26.358598      -0.018144       0.000000\n",
       "25%        -6.298551      -8.267985       1.000021      26.953261\n",
       "50%         1.153055      -4.813172       2.011479      57.085625\n",
       "75%         8.621015      -1.332816       3.999904     107.813044\n",
       "max        29.421755      18.734063       5.019721     137.945408"
      ]
     },
     "execution_count": 10,
     "metadata": {},
     "output_type": "execute_result"
    }
   ],
   "source": [
    "data_1.describe()"
   ]
  },
  {
   "cell_type": "markdown",
   "metadata": {},
   "source": [
    "### Посмотрим 3 датасет"
   ]
  },
  {
   "cell_type": "code",
   "execution_count": 11,
   "metadata": {},
   "outputs": [
    {
     "data": {
      "text/html": [
       "<div>\n",
       "<style scoped>\n",
       "    .dataframe tbody tr th:only-of-type {\n",
       "        vertical-align: middle;\n",
       "    }\n",
       "\n",
       "    .dataframe tbody tr th {\n",
       "        vertical-align: top;\n",
       "    }\n",
       "\n",
       "    .dataframe thead th {\n",
       "        text-align: right;\n",
       "    }\n",
       "</style>\n",
       "<table border=\"1\" class=\"dataframe\">\n",
       "  <thead>\n",
       "    <tr style=\"text-align: right;\">\n",
       "      <th></th>\n",
       "      <th>id</th>\n",
       "      <th>f0</th>\n",
       "      <th>f1</th>\n",
       "      <th>f2</th>\n",
       "      <th>product</th>\n",
       "    </tr>\n",
       "  </thead>\n",
       "  <tbody>\n",
       "    <tr>\n",
       "      <th>0</th>\n",
       "      <td>fwXo0</td>\n",
       "      <td>-1.146987</td>\n",
       "      <td>0.963328</td>\n",
       "      <td>-0.828965</td>\n",
       "      <td>27.758673</td>\n",
       "    </tr>\n",
       "    <tr>\n",
       "      <th>1</th>\n",
       "      <td>WJtFt</td>\n",
       "      <td>0.262778</td>\n",
       "      <td>0.269839</td>\n",
       "      <td>-2.530187</td>\n",
       "      <td>56.069697</td>\n",
       "    </tr>\n",
       "    <tr>\n",
       "      <th>2</th>\n",
       "      <td>ovLUW</td>\n",
       "      <td>0.194587</td>\n",
       "      <td>0.289035</td>\n",
       "      <td>-5.586433</td>\n",
       "      <td>62.871910</td>\n",
       "    </tr>\n",
       "    <tr>\n",
       "      <th>3</th>\n",
       "      <td>q6cA6</td>\n",
       "      <td>2.236060</td>\n",
       "      <td>-0.553760</td>\n",
       "      <td>0.930038</td>\n",
       "      <td>114.572842</td>\n",
       "    </tr>\n",
       "    <tr>\n",
       "      <th>4</th>\n",
       "      <td>WPMUX</td>\n",
       "      <td>-0.515993</td>\n",
       "      <td>1.716266</td>\n",
       "      <td>5.899011</td>\n",
       "      <td>149.600746</td>\n",
       "    </tr>\n",
       "    <tr>\n",
       "      <th>5</th>\n",
       "      <td>LzZXx</td>\n",
       "      <td>-0.758092</td>\n",
       "      <td>0.710691</td>\n",
       "      <td>2.585887</td>\n",
       "      <td>90.222465</td>\n",
       "    </tr>\n",
       "    <tr>\n",
       "      <th>6</th>\n",
       "      <td>WBHRv</td>\n",
       "      <td>-0.574891</td>\n",
       "      <td>0.317727</td>\n",
       "      <td>1.773745</td>\n",
       "      <td>45.641478</td>\n",
       "    </tr>\n",
       "    <tr>\n",
       "      <th>7</th>\n",
       "      <td>XO8fn</td>\n",
       "      <td>-1.906649</td>\n",
       "      <td>-2.458350</td>\n",
       "      <td>-0.177097</td>\n",
       "      <td>72.480640</td>\n",
       "    </tr>\n",
       "    <tr>\n",
       "      <th>8</th>\n",
       "      <td>ybmQ5</td>\n",
       "      <td>1.776292</td>\n",
       "      <td>-0.279356</td>\n",
       "      <td>3.004156</td>\n",
       "      <td>106.616832</td>\n",
       "    </tr>\n",
       "    <tr>\n",
       "      <th>9</th>\n",
       "      <td>OilcN</td>\n",
       "      <td>-1.214452</td>\n",
       "      <td>-0.439314</td>\n",
       "      <td>5.922514</td>\n",
       "      <td>52.954532</td>\n",
       "    </tr>\n",
       "    <tr>\n",
       "      <th>10</th>\n",
       "      <td>myq2g</td>\n",
       "      <td>0.628659</td>\n",
       "      <td>-2.120049</td>\n",
       "      <td>5.362437</td>\n",
       "      <td>166.799132</td>\n",
       "    </tr>\n",
       "    <tr>\n",
       "      <th>11</th>\n",
       "      <td>V9R1y</td>\n",
       "      <td>-0.544565</td>\n",
       "      <td>0.039088</td>\n",
       "      <td>8.635293</td>\n",
       "      <td>150.859435</td>\n",
       "    </tr>\n",
       "    <tr>\n",
       "      <th>12</th>\n",
       "      <td>bKDo0</td>\n",
       "      <td>-0.960453</td>\n",
       "      <td>-0.127113</td>\n",
       "      <td>7.764734</td>\n",
       "      <td>96.910855</td>\n",
       "    </tr>\n",
       "    <tr>\n",
       "      <th>13</th>\n",
       "      <td>eXvhs</td>\n",
       "      <td>1.432891</td>\n",
       "      <td>-1.242074</td>\n",
       "      <td>3.557168</td>\n",
       "      <td>8.704162</td>\n",
       "    </tr>\n",
       "    <tr>\n",
       "      <th>14</th>\n",
       "      <td>wI4j3</td>\n",
       "      <td>-0.935464</td>\n",
       "      <td>2.420523</td>\n",
       "      <td>1.150536</td>\n",
       "      <td>116.829811</td>\n",
       "    </tr>\n",
       "    <tr>\n",
       "      <th>15</th>\n",
       "      <td>XOWTx</td>\n",
       "      <td>-2.628353</td>\n",
       "      <td>0.937303</td>\n",
       "      <td>0.057847</td>\n",
       "      <td>68.655498</td>\n",
       "    </tr>\n",
       "    <tr>\n",
       "      <th>16</th>\n",
       "      <td>2oVFv</td>\n",
       "      <td>-0.428050</td>\n",
       "      <td>-2.246556</td>\n",
       "      <td>6.970420</td>\n",
       "      <td>84.500464</td>\n",
       "    </tr>\n",
       "    <tr>\n",
       "      <th>17</th>\n",
       "      <td>0wbDA</td>\n",
       "      <td>0.735307</td>\n",
       "      <td>0.913124</td>\n",
       "      <td>7.899539</td>\n",
       "      <td>96.284701</td>\n",
       "    </tr>\n",
       "    <tr>\n",
       "      <th>18</th>\n",
       "      <td>NhHaR</td>\n",
       "      <td>0.706261</td>\n",
       "      <td>-0.993553</td>\n",
       "      <td>3.155582</td>\n",
       "      <td>48.052268</td>\n",
       "    </tr>\n",
       "    <tr>\n",
       "      <th>19</th>\n",
       "      <td>DMNMZ</td>\n",
       "      <td>-1.867846</td>\n",
       "      <td>2.744144</td>\n",
       "      <td>5.918278</td>\n",
       "      <td>153.815137</td>\n",
       "    </tr>\n",
       "  </tbody>\n",
       "</table>\n",
       "</div>"
      ],
      "text/plain": [
       "       id        f0        f1        f2     product\n",
       "0   fwXo0 -1.146987  0.963328 -0.828965   27.758673\n",
       "1   WJtFt  0.262778  0.269839 -2.530187   56.069697\n",
       "2   ovLUW  0.194587  0.289035 -5.586433   62.871910\n",
       "3   q6cA6  2.236060 -0.553760  0.930038  114.572842\n",
       "4   WPMUX -0.515993  1.716266  5.899011  149.600746\n",
       "5   LzZXx -0.758092  0.710691  2.585887   90.222465\n",
       "6   WBHRv -0.574891  0.317727  1.773745   45.641478\n",
       "7   XO8fn -1.906649 -2.458350 -0.177097   72.480640\n",
       "8   ybmQ5  1.776292 -0.279356  3.004156  106.616832\n",
       "9   OilcN -1.214452 -0.439314  5.922514   52.954532\n",
       "10  myq2g  0.628659 -2.120049  5.362437  166.799132\n",
       "11  V9R1y -0.544565  0.039088  8.635293  150.859435\n",
       "12  bKDo0 -0.960453 -0.127113  7.764734   96.910855\n",
       "13  eXvhs  1.432891 -1.242074  3.557168    8.704162\n",
       "14  wI4j3 -0.935464  2.420523  1.150536  116.829811\n",
       "15  XOWTx -2.628353  0.937303  0.057847   68.655498\n",
       "16  2oVFv -0.428050 -2.246556  6.970420   84.500464\n",
       "17  0wbDA  0.735307  0.913124  7.899539   96.284701\n",
       "18  NhHaR  0.706261 -0.993553  3.155582   48.052268\n",
       "19  DMNMZ -1.867846  2.744144  5.918278  153.815137"
      ]
     },
     "execution_count": 11,
     "metadata": {},
     "output_type": "execute_result"
    }
   ],
   "source": [
    "data_2.head(20)"
   ]
  },
  {
   "cell_type": "code",
   "execution_count": 12,
   "metadata": {},
   "outputs": [
    {
     "name": "stdout",
     "output_type": "stream",
     "text": [
      "<class 'pandas.core.frame.DataFrame'>\n",
      "RangeIndex: 100000 entries, 0 to 99999\n",
      "Data columns (total 5 columns):\n",
      " #   Column   Non-Null Count   Dtype  \n",
      "---  ------   --------------   -----  \n",
      " 0   id       100000 non-null  object \n",
      " 1   f0       100000 non-null  float64\n",
      " 2   f1       100000 non-null  float64\n",
      " 3   f2       100000 non-null  float64\n",
      " 4   product  100000 non-null  float64\n",
      "dtypes: float64(4), object(1)\n",
      "memory usage: 3.8+ MB\n"
     ]
    }
   ],
   "source": [
    "data_2.info()"
   ]
  },
  {
   "cell_type": "code",
   "execution_count": 13,
   "metadata": {},
   "outputs": [
    {
     "data": {
      "text/html": [
       "<div>\n",
       "<style scoped>\n",
       "    .dataframe tbody tr th:only-of-type {\n",
       "        vertical-align: middle;\n",
       "    }\n",
       "\n",
       "    .dataframe tbody tr th {\n",
       "        vertical-align: top;\n",
       "    }\n",
       "\n",
       "    .dataframe thead th {\n",
       "        text-align: right;\n",
       "    }\n",
       "</style>\n",
       "<table border=\"1\" class=\"dataframe\">\n",
       "  <thead>\n",
       "    <tr style=\"text-align: right;\">\n",
       "      <th></th>\n",
       "      <th>f0</th>\n",
       "      <th>f1</th>\n",
       "      <th>f2</th>\n",
       "      <th>product</th>\n",
       "    </tr>\n",
       "  </thead>\n",
       "  <tbody>\n",
       "    <tr>\n",
       "      <th>count</th>\n",
       "      <td>100000.000000</td>\n",
       "      <td>100000.000000</td>\n",
       "      <td>100000.000000</td>\n",
       "      <td>100000.000000</td>\n",
       "    </tr>\n",
       "    <tr>\n",
       "      <th>mean</th>\n",
       "      <td>0.002023</td>\n",
       "      <td>-0.002081</td>\n",
       "      <td>2.495128</td>\n",
       "      <td>95.000000</td>\n",
       "    </tr>\n",
       "    <tr>\n",
       "      <th>std</th>\n",
       "      <td>1.732045</td>\n",
       "      <td>1.730417</td>\n",
       "      <td>3.473445</td>\n",
       "      <td>44.749921</td>\n",
       "    </tr>\n",
       "    <tr>\n",
       "      <th>min</th>\n",
       "      <td>-8.760004</td>\n",
       "      <td>-7.084020</td>\n",
       "      <td>-11.970335</td>\n",
       "      <td>0.000000</td>\n",
       "    </tr>\n",
       "    <tr>\n",
       "      <th>25%</th>\n",
       "      <td>-1.162288</td>\n",
       "      <td>-1.174820</td>\n",
       "      <td>0.130359</td>\n",
       "      <td>59.450441</td>\n",
       "    </tr>\n",
       "    <tr>\n",
       "      <th>50%</th>\n",
       "      <td>0.009424</td>\n",
       "      <td>-0.009482</td>\n",
       "      <td>2.484236</td>\n",
       "      <td>94.925613</td>\n",
       "    </tr>\n",
       "    <tr>\n",
       "      <th>75%</th>\n",
       "      <td>1.158535</td>\n",
       "      <td>1.163678</td>\n",
       "      <td>4.858794</td>\n",
       "      <td>130.595027</td>\n",
       "    </tr>\n",
       "    <tr>\n",
       "      <th>max</th>\n",
       "      <td>7.238262</td>\n",
       "      <td>7.844801</td>\n",
       "      <td>16.739402</td>\n",
       "      <td>190.029838</td>\n",
       "    </tr>\n",
       "  </tbody>\n",
       "</table>\n",
       "</div>"
      ],
      "text/plain": [
       "                  f0             f1             f2        product\n",
       "count  100000.000000  100000.000000  100000.000000  100000.000000\n",
       "mean        0.002023      -0.002081       2.495128      95.000000\n",
       "std         1.732045       1.730417       3.473445      44.749921\n",
       "min        -8.760004      -7.084020     -11.970335       0.000000\n",
       "25%        -1.162288      -1.174820       0.130359      59.450441\n",
       "50%         0.009424      -0.009482       2.484236      94.925613\n",
       "75%         1.158535       1.163678       4.858794     130.595027\n",
       "max         7.238262       7.844801      16.739402     190.029838"
      ]
     },
     "execution_count": 13,
     "metadata": {},
     "output_type": "execute_result"
    }
   ],
   "source": [
    "data_2.describe()"
   ]
  },
  {
   "cell_type": "markdown",
   "metadata": {},
   "source": [
    "### Построим графики зависимостей значений в таблице"
   ]
  },
  {
   "cell_type": "code",
   "execution_count": 14,
   "metadata": {},
   "outputs": [
    {
     "data": {
      "image/png": "[encoded data removed]",
      "text/plain": [
       "<Figure size 1200x700 with 1 Axes>"
      ]
     },
     "metadata": {},
     "output_type": "display_data"
    }
   ],
   "source": [
    "plt.title('Графики распределения запасов сырья в регионах')\n",
    "ax=data_0['product'].plot(kind='hist',figsize=(12,7),grid=True, legend=True, alpha=0.7, histtype='step', linewidth=5, label='1 регион')\n",
    "ax1=data_1['product'].plot(kind='hist',figsize=(12,7),grid=True, legend=True, alpha=0.7,histtype='step', linewidth=5, label='2 регион', ax=ax)\n",
    "data_2['product'].plot(kind='hist',figsize=(12,7),grid=True, legend=True, alpha=0.7,histtype='step', linewidth=5, label='3 регион', ax=ax1)\n",
    "plt.xlabel('Распределение данных по запасам сырья в регионах')\n",
    "plt.ylabel('Запасы сырья, тыс.баррелей')\n",
    "plt.show()"
   ]
  },
  {
   "cell_type": "markdown",
   "metadata": {},
   "source": [
    "**Вывод** <br>\n",
    "Данные успешно загружены и не требуют дополнительной предобработки. На графике отчётливо показана разительно отличающаяся кривая распределения запасов сырья по скважинам 2 региона. Так же заметна довольно высокая корреляция между признаком f2 и целевым признаком product."
   ]
  },
  {
   "cell_type": "markdown",
   "metadata": {},
   "source": [
    "## Обучение и проверка модели"
   ]
  },
  {
   "cell_type": "markdown",
   "metadata": {},
   "source": [
    "### Разделин данные на обучающую и валидационную выборки в соотношении 75:25"
   ]
  },
  {
   "cell_type": "code",
   "execution_count": 15,
   "metadata": {},
   "outputs": [],
   "source": [
    "data_0_train, data_0_valid = train_test_split(data_0, test_size=0.25, random_state=12345)\n",
    "data_1_train, data_1_valid = train_test_split(data_1, test_size=0.25, random_state=12345)\n",
    "data_2_train, data_2_valid = train_test_split(data_2, test_size=0.25, random_state=12345)"
   ]
  },
  {
   "cell_type": "code",
   "execution_count": 16,
   "metadata": {},
   "outputs": [],
   "source": [
    "features_train_0 = data_0.drop(['product', 'id'], axis=1)\n",
    "target_train_0 = data_0['product']\n",
    "\n",
    "features_valid_0 = data_0.drop(['product', 'id'], axis=1)\n",
    "target_valid_0 = data_0['product']"
   ]
  },
  {
   "cell_type": "code",
   "execution_count": 17,
   "metadata": {},
   "outputs": [],
   "source": [
    "features_train_1 = data_1.drop(['product', 'id'], axis=1)\n",
    "target_train_1 = data_1['product']\n",
    "\n",
    "features_valid_1 = data_1.drop(['product', 'id'], axis=1)\n",
    "target_valid_1 = data_1['product']"
   ]
  },
  {
   "cell_type": "code",
   "execution_count": 18,
   "metadata": {},
   "outputs": [],
   "source": [
    "features_train_2 = data_2.drop(['product', 'id'], axis=1)\n",
    "target_train_2 = data_2['product']\n",
    "\n",
    "features_valid_2 = data_2.drop(['product', 'id'], axis=1)\n",
    "target_valid_2 = data_2['product']"
   ]
  },
  {
   "cell_type": "markdown",
   "metadata": {},
   "source": [
    "### Обучим модель и сделаем предсказания на валидационной выборке"
   ]
  },
  {
   "cell_type": "code",
   "execution_count": 19,
   "metadata": {},
   "outputs": [],
   "source": [
    "model_0 = LinearRegression()\n",
    "model_0.fit(features_train_0, target_train_0)\n",
    "prediction_0 = model_0.predict(features_valid_0)"
   ]
  },
  {
   "cell_type": "code",
   "execution_count": 20,
   "metadata": {},
   "outputs": [],
   "source": [
    "model_1 = LinearRegression()\n",
    "model_1.fit(features_train_1, target_train_1)\n",
    "prediction_1 = model_1.predict(features_valid_1)"
   ]
  },
  {
   "cell_type": "code",
   "execution_count": 21,
   "metadata": {},
   "outputs": [],
   "source": [
    "model_2 = LinearRegression()\n",
    "model_2.fit(features_train_2, target_train_2)\n",
    "prediction_2 = model_2.predict(features_valid_2)"
   ]
  },
  {
   "cell_type": "markdown",
   "metadata": {},
   "source": [
    "### Найдём средний запас предсказанного сырья и RMSE модели"
   ]
  },
  {
   "cell_type": "code",
   "execution_count": 22,
   "metadata": {},
   "outputs": [
    {
     "data": {
      "text/html": [
       "<div>\n",
       "<style scoped>\n",
       "    .dataframe tbody tr th:only-of-type {\n",
       "        vertical-align: middle;\n",
       "    }\n",
       "\n",
       "    .dataframe tbody tr th {\n",
       "        vertical-align: top;\n",
       "    }\n",
       "\n",
       "    .dataframe thead th {\n",
       "        text-align: right;\n",
       "    }\n",
       "</style>\n",
       "<table border=\"1\" class=\"dataframe\">\n",
       "  <thead>\n",
       "    <tr style=\"text-align: right;\">\n",
       "      <th></th>\n",
       "      <th>1 регион</th>\n",
       "      <th>2 регион</th>\n",
       "      <th>3 регион</th>\n",
       "    </tr>\n",
       "  </thead>\n",
       "  <tbody>\n",
       "    <tr>\n",
       "      <th>Cредний запас предсказанного сырья</th>\n",
       "      <td>92.500000</td>\n",
       "      <td>68.825000</td>\n",
       "      <td>95.000000</td>\n",
       "    </tr>\n",
       "    <tr>\n",
       "      <th>RMSE</th>\n",
       "      <td>37.691845</td>\n",
       "      <td>0.890376</td>\n",
       "      <td>40.055202</td>\n",
       "    </tr>\n",
       "  </tbody>\n",
       "</table>\n",
       "</div>"
      ],
      "text/plain": [
       "                                     1 регион   2 регион   3 регион\n",
       "Cредний запас предсказанного сырья  92.500000  68.825000  95.000000\n",
       "RMSE                                37.691845   0.890376  40.055202"
      ]
     },
     "execution_count": 22,
     "metadata": {},
     "output_type": "execute_result"
    }
   ],
   "source": [
    "comparison_tabl = pd.DataFrame(index=['Cредний запас предсказанного сырья','RMSE'], columns=['1 регион','2 регион','3 регион'])\n",
    "comparison_tabl['1 регион'] = prediction_0.mean(), mean_squared_error(target_valid_0, prediction_0)**0.5\n",
    "comparison_tabl['2 регион'] = prediction_1.mean(), mean_squared_error(target_valid_1, prediction_1)**0.5\n",
    "comparison_tabl['3 регион'] = prediction_2.mean(), mean_squared_error(target_valid_2, prediction_2)**0.5\n",
    "comparison_tabl"
   ]
  },
  {
   "cell_type": "markdown",
   "metadata": {},
   "source": [
    "**Вывод** <br>\n",
    "Модели обучены и проверены на качество предсказания метрикой RMSE. Исходя из полученных данный в нашей сводной таблицы, можно заметить, что величина RMSE во втором регионе сильно отличается от двух других, это связано с тем, что модель обучилась на практически равных по величине данных, и величина ошибки этой модели не может сильно варьирываться."
   ]
  },
  {
   "cell_type": "markdown",
   "metadata": {},
   "source": [
    "## Подготовка к расчёту прибыли"
   ]
  },
  {
   "cell_type": "markdown",
   "metadata": {},
   "source": [
    "### Все ключевые значения для расчётов сохраним в отдельных переменных"
   ]
  },
  {
   "cell_type": "markdown",
   "metadata": {},
   "source": [
    "При разведке региона исследуюем 500 точек, из которых с помощью машинного обучения выберем 200 лучших для разработки.\n",
    "Бюджет на разработку скважин в регионе — 10 млрд рублей.\n",
    "При нынешних ценах один баррель сырья приносит 450 рублей дохода. Доход с каждой единицы продукта составляет 450 тыс.\n",
    "рублей, поскольку объём указан в тысячах баррелей.\n",
    "После оценки рисков оставим лишь те регионы, в которых вероятность убытков меньше 2.5%. Среди них выберем регион с наибольшей средней прибылью"
   ]
  },
  {
   "cell_type": "code",
   "execution_count": 23,
   "metadata": {},
   "outputs": [],
   "source": [
    "# Количество скважин\n",
    "COUNT_OF_WELLS = 200\n",
    "\n",
    "# Бюджет\n",
    "BUDGET = 10_000_000_000\n",
    "\n",
    "# Цена одной скважины\n",
    "PRICE_ONE_WELL = BUDGET / COUNT_OF_WELLS\n",
    "#50000000\n",
    "\n",
    "# Доход с одной единицы продукта\n",
    "PRICE_ONE_THOUSAND_BARRELS = 450_000"
   ]
  },
  {
   "cell_type": "code",
   "execution_count": 24,
   "metadata": {},
   "outputs": [
    {
     "name": "stdout",
     "output_type": "stream",
     "text": [
      "Cредний запас сырья в 1 регионе: 92.50 млн.баррелей\n",
      "Cредний запас сырья в 2 регионе: 68.83 млн.баррелей\n",
      "Cредний запас сырья в 3 регионе: 95.00 млн.баррелей\n"
     ]
    }
   ],
   "source": [
    "product_mean_0 = data_0['product'].mean()\n",
    "product_mean_1 = data_1['product'].mean()\n",
    "product_mean_2 = data_2['product'].mean()\n",
    "\n",
    "print('Cредний запас сырья в 1 регионе: %.2f млн.баррелей'%product_mean_0)\n",
    "print('Cредний запас сырья в 2 регионе: %.2f млн.баррелей'%product_mean_1)\n",
    "print('Cредний запас сырья в 3 регионе: %.2f млн.баррелей'%product_mean_2)"
   ]
  },
  {
   "cell_type": "markdown",
   "metadata": {},
   "source": [
    "### Рассчитаем достаточный объём сырья для безубыточной разработки новой скважины"
   ]
  },
  {
   "cell_type": "code",
   "execution_count": 25,
   "metadata": {},
   "outputs": [
    {
     "name": "stdout",
     "output_type": "stream",
     "text": [
      "Объём каждой скважины для безубыточной разработки должен составлять не менее: 111.11 тыс.баррелей\n"
     ]
    }
   ],
   "source": [
    "v_prod = PRICE_ONE_WELL / PRICE_ONE_THOUSAND_BARRELS\n",
    "print('Объём каждой скважины для безубыточной разработки должен составлять не менее: %.2f'%v_prod,'тыс.баррелей')"
   ]
  },
  {
   "cell_type": "markdown",
   "metadata": {},
   "source": [
    "**Вывод** <br>\n",
    "Исходя из полученных данных видно, что среднее количество запасов сырья по регионам недостаточное даже для окупаемости разработки, поэтому требуется выбрать скважины с максимальными запасами."
   ]
  },
  {
   "cell_type": "markdown",
   "metadata": {},
   "source": [
    "## Функция для расчёта прибыли по выбранным скважинам и предсказаниям модели"
   ]
  },
  {
   "cell_type": "markdown",
   "metadata": {},
   "source": [
    "### Напишем функцию "
   ]
  },
  {
   "cell_type": "code",
   "execution_count": 26,
   "metadata": {},
   "outputs": [],
   "source": [
    "def profit(prediction, target):\n",
    "    probs_sorted = pd.Series(prediction, index=target.index).sort_values(ascending=False)\n",
    "    max_pred = probs_sorted[:200].sum()\n",
    "    profit_pred=(max_pred * PRICE_ONE_THOUSAND_BARRELS) - BUDGET\n",
    "    print('Суммарный запас сырья в 200 лучших скважинах составит: %.2f тыс.баррелей'%max_pred)\n",
    "    print('Прибыль для полученного объёма сырья составит %.2f млн.рублей'%(profit_pred/1000000))"
   ]
  },
  {
   "cell_type": "markdown",
   "metadata": {},
   "source": [
    "### Прибыль для первого региона"
   ]
  },
  {
   "cell_type": "code",
   "execution_count": 27,
   "metadata": {},
   "outputs": [
    {
     "name": "stdout",
     "output_type": "stream",
     "text": [
      "Суммарный запас сырья в 200 лучших скважинах составит: 32655.65 тыс.баррелей\n",
      "Прибыль для полученного объёма сырья составит 4695.04 млн.рублей\n"
     ]
    }
   ],
   "source": [
    "profit(prediction_0, target_valid_0)"
   ]
  },
  {
   "cell_type": "markdown",
   "metadata": {},
   "source": [
    "### Прибыль для второго региона"
   ]
  },
  {
   "cell_type": "code",
   "execution_count": 28,
   "metadata": {},
   "outputs": [
    {
     "name": "stdout",
     "output_type": "stream",
     "text": [
      "Суммарный запас сырья в 200 лучших скважинах составит: 27832.02 тыс.баррелей\n",
      "Прибыль для полученного объёма сырья составит 2524.41 млн.рублей\n"
     ]
    }
   ],
   "source": [
    "profit(prediction_1, target_valid_1)"
   ]
  },
  {
   "cell_type": "markdown",
   "metadata": {},
   "source": [
    "### Прибыль для третьего региона"
   ]
  },
  {
   "cell_type": "code",
   "execution_count": 29,
   "metadata": {},
   "outputs": [
    {
     "name": "stdout",
     "output_type": "stream",
     "text": [
      "Суммарный запас сырья в 200 лучших скважинах составит: 31325.41 тыс.баррелей\n",
      "Прибыль для полученного объёма сырья составит 4096.43 млн.рублей\n"
     ]
    }
   ],
   "source": [
    "profit(prediction_2, target_valid_2)"
   ]
  },
  {
   "cell_type": "markdown",
   "metadata": {},
   "source": [
    "**Вывод** <br>\n",
    "Отлично, все три региона потенциально прибыльные. Осталось выяснить, какой регион наиболее выгодный с точки зрения окупаемости вложений и рисков убытка."
   ]
  },
  {
   "cell_type": "markdown",
   "metadata": {},
   "source": [
    "## Посчитаем риски и прибыль для каждого региона"
   ]
  },
  {
   "cell_type": "code",
   "execution_count": 30,
   "metadata": {},
   "outputs": [],
   "source": [
    "def profit_1(prediction, target, count):\n",
    "    probs_sorted = pd.Series(prediction).sort_values(ascending=False)\n",
    "    selected_points = target[probs_sorted.index][:count]\n",
    "    product = selected_points.sum()\n",
    "    revenue = product * PRICE_ONE_THOUSAND_BARRELS\n",
    "    return revenue - BUDGET"
   ]
  },
  {
   "cell_type": "code",
   "execution_count": 31,
   "metadata": {},
   "outputs": [],
   "source": [
    "def bootstap(target, prediction):\n",
    "    values = []\n",
    "    count=0\n",
    "    state = np.random.RandomState(12345)\n",
    "    predict_e = pd.Series(prediction, index=target.index)\n",
    "    \n",
    "    for i in tqdm(range(1000)):\n",
    "        target_subsample = target.sample(n=500,replace=True, random_state=state)\n",
    "  \n",
    "        probs_subsample = predict_e[target_subsample.index]\n",
    "        values.append(profit_1(probs_subsample, target_subsample, 200))  \n",
    "    for i in values:\n",
    "        if i < 0:\n",
    "            count +=1\n",
    "            \n",
    "    values = pd.Series(values)\n",
    "    mean = values.mean()\n",
    "    confidence_interval = st.t.interval(0.95, len(values)-1, values.mean(), values.sem())\n",
    "    \n",
    "    low_95 = values.quantile(0.025)\n",
    "    high_95 = values.quantile(0.975)\n",
    "    \n",
    "    print(\"Средняя прибыль: {:.2f} млн.руб\".format(mean/1000000))\n",
    "    print('С вероятностью 95% прибыль в данном регионе будет составлять от: {:.2f} млн.руб до: {:.2f} млн.руб'.format((low_95/1000),(high_95/1000)))\n",
    "    print(\"95%-ый доверительный интервал: от {:.2f} млн.руб до {:.2f} млн.руб\". format((confidence_interval[0]/1000),(confidence_interval[1]/1000)))\n",
    "    print ('Процент вероятности убытка в данном регионе составит {:.1%}'.format(count/1000))"
   ]
  },
  {
   "cell_type": "code",
   "execution_count": 32,
   "metadata": {},
   "outputs": [
    {
     "data": {
      "application/vnd.jupyter.widget-view+json": {
       "model_id": "89a66c7aee8248afa31e57e0bea1903c",
       "version_major": 2,
       "version_minor": 0
      },
      "text/plain": [
       "  0%|          | 0/1000 [00:00<?, ?it/s]"
      ]
     },
     "metadata": {},
     "output_type": "display_data"
    },
    {
     "name": "stdout",
     "output_type": "stream",
     "text": [
      "Средняя прибыль: 430.84 млн.руб\n",
      "С вероятностью 95% прибыль в данном регионе будет составлять от: -62739.43 млн.руб до: 984446.33 млн.руб\n",
      "95%-ый доверительный интервал: от 413922.32 млн.руб до 447750.97 млн.руб\n",
      "Процент вероятности убытка в данном регионе составит 5.2%\n"
     ]
    }
   ],
   "source": [
    "bootstap(target_valid_0, prediction_0)"
   ]
  },
  {
   "cell_type": "code",
   "execution_count": 33,
   "metadata": {},
   "outputs": [
    {
     "data": {
      "application/vnd.jupyter.widget-view+json": {
       "model_id": "ef56630a4a964e5cbafcb5682c8f7733",
       "version_major": 2,
       "version_minor": 0
      },
      "text/plain": [
       "  0%|          | 0/1000 [00:00<?, ?it/s]"
      ]
     },
     "metadata": {},
     "output_type": "display_data"
    },
    {
     "name": "stdout",
     "output_type": "stream",
     "text": [
      "Средняя прибыль: 462.96 млн.руб\n",
      "С вероятностью 95% прибыль в данном регионе будет составлять от: 55988.53 млн.руб до: 845839.33 млн.руб\n",
      "95%-ый доверительный интервал: от 450552.47 млн.руб до 475369.36 млн.руб\n",
      "Процент вероятности убытка в данном регионе составит 1.3%\n"
     ]
    }
   ],
   "source": [
    "bootstap(target_valid_1, prediction_1)"
   ]
  },
  {
   "cell_type": "code",
   "execution_count": 34,
   "metadata": {},
   "outputs": [
    {
     "data": {
      "application/vnd.jupyter.widget-view+json": {
       "model_id": "5b075398216c43869c770fa9de155e73",
       "version_major": 2,
       "version_minor": 0
      },
      "text/plain": [
       "  0%|          | 0/1000 [00:00<?, ?it/s]"
      ]
     },
     "metadata": {},
     "output_type": "display_data"
    },
    {
     "name": "stdout",
     "output_type": "stream",
     "text": [
      "Средняя прибыль: 380.69 млн.руб\n",
      "С вероятностью 95% прибыль в данном регионе будет составлять от: -169381.45 млн.руб до: 900769.34 млн.руб\n",
      "95%-ый доверительный интервал: от 363311.24 млн.руб до 398073.86 млн.руб\n",
      "Процент вероятности убытка в данном регионе составит 8.9%\n"
     ]
    }
   ],
   "source": [
    "bootstap(target_valid_2, prediction_2)"
   ]
  },
  {
   "cell_type": "markdown",
   "metadata": {},
   "source": [
    "**Вывод** <br>\n",
    "Как мы видим, самым прибыльным оказался 2 регион. Средняя прибыль в этом регионе составит 462.96 млн.рублей, при этом процент вероятности убытка в данном регионе всего 1.3%. Два других региона не подходят из-за слишком высокой вероятности убытка. Таким образом не смотря на сравнительно меньшие запасы сырья, по сравнению с другими регионами, средняя доходность со скважин во втором регионе прогнозируется выше других."
   ]
  },
  {
   "cell_type": "markdown",
   "metadata": {},
   "source": [
    "## Вывод"
   ]
  },
  {
   "cell_type": "markdown",
   "metadata": {},
   "source": [
    "**В ходе исследования было сделано:** <br>\n",
    "\n",
    "1. Загрузили данные, посмотрели общую информацию о датасетах\n",
    "2. Построили график распределения запасов сырья\n",
    "3. Разделили данные на выборки\n",
    "4. Обчили модели и сделали предсказания\n",
    "5. Напечатали на экране средний запас предсказанного сырья и RMSE модели\n",
    "6. Сохранили все ключевые для расчёта значения\n",
    "7. Рассчитали достаточный объём сырья для безубыточной разработки новой скважины\n",
    "8. Посчитали прибыль от 200 лучших скважин в каждом регионе\n",
    "9. Посчитали риски и прибыль для каждого региона\n",
    "10. Использовали технологию bootstrap\n",
    "\n",
    "\n",
    "**Общий вывод** <br>\n",
    "Средний запас ресурсов по регионам недостаточен даже для окупаемости вложений на разработку <br>\n",
    "Лучшим регионом является второй, так как не смотря на сравнительно меньшие предсказания запасов сырья в 27.75 млн.баррелей, 200 лучших скважин в этом регионе дают вероятность возникновения убытка всего 1.3% и прибыль 462.96 млн.рублей."
   ]
  }
 ],
 "metadata": {
  "ExecuteTimeLog": [
   {
    "duration": 1496,
    "start_time": "2022-12-18T04:20:42.033Z"
   },
   {
    "duration": 4,
    "start_time": "2022-12-18T04:20:44.075Z"
   },
   {
    "duration": 639,
    "start_time": "2022-12-18T04:20:52.359Z"
   },
   {
    "duration": 5,
    "start_time": "2022-12-18T04:20:56.211Z"
   },
   {
    "duration": 381,
    "start_time": "2022-12-18T04:20:57.412Z"
   },
   {
    "duration": 109,
    "start_time": "2022-12-18T04:22:18.975Z"
   },
   {
    "duration": 22,
    "start_time": "2022-12-18T04:22:55.293Z"
   },
   {
    "duration": 17,
    "start_time": "2022-12-18T04:23:09.715Z"
   },
   {
    "duration": 37,
    "start_time": "2022-12-18T04:24:01.515Z"
   },
   {
    "duration": 11,
    "start_time": "2022-12-18T04:25:30.865Z"
   },
   {
    "duration": 15,
    "start_time": "2022-12-18T04:27:01.815Z"
   },
   {
    "duration": 33,
    "start_time": "2022-12-18T04:27:20.878Z"
   },
   {
    "duration": 10,
    "start_time": "2022-12-18T04:28:07.692Z"
   },
   {
    "duration": 11,
    "start_time": "2022-12-18T04:28:12.081Z"
   },
   {
    "duration": 14,
    "start_time": "2022-12-18T04:28:14.369Z"
   },
   {
    "duration": 33,
    "start_time": "2022-12-18T04:28:21.011Z"
   },
   {
    "duration": 5,
    "start_time": "2022-12-18T04:30:38.919Z"
   },
   {
    "duration": 1301,
    "start_time": "2022-12-18T04:30:45.757Z"
   },
   {
    "duration": 371,
    "start_time": "2022-12-18T04:30:47.060Z"
   },
   {
    "duration": 15,
    "start_time": "2022-12-18T04:30:47.433Z"
   },
   {
    "duration": 14,
    "start_time": "2022-12-18T04:30:47.450Z"
   },
   {
    "duration": 52,
    "start_time": "2022-12-18T04:30:47.465Z"
   },
   {
    "duration": 10,
    "start_time": "2022-12-18T04:30:47.518Z"
   },
   {
    "duration": 15,
    "start_time": "2022-12-18T04:30:47.530Z"
   },
   {
    "duration": 35,
    "start_time": "2022-12-18T04:30:47.547Z"
   },
   {
    "duration": 36,
    "start_time": "2022-12-18T04:30:47.584Z"
   },
   {
    "duration": 18,
    "start_time": "2022-12-18T04:30:47.622Z"
   },
   {
    "duration": 34,
    "start_time": "2022-12-18T04:30:47.642Z"
   },
   {
    "duration": 4,
    "start_time": "2022-12-18T04:38:50.186Z"
   },
   {
    "duration": 325,
    "start_time": "2022-12-18T04:38:57.248Z"
   },
   {
    "duration": 3,
    "start_time": "2022-12-18T04:40:37.259Z"
   },
   {
    "duration": 294,
    "start_time": "2022-12-18T04:40:38.672Z"
   },
   {
    "duration": 356,
    "start_time": "2022-12-18T04:40:53.047Z"
   },
   {
    "duration": 292,
    "start_time": "2022-12-18T04:41:00.981Z"
   },
   {
    "duration": 3,
    "start_time": "2022-12-18T04:42:24.569Z"
   },
   {
    "duration": 350,
    "start_time": "2022-12-18T04:42:27.144Z"
   },
   {
    "duration": 368,
    "start_time": "2022-12-18T04:42:30.097Z"
   },
   {
    "duration": 361,
    "start_time": "2022-12-18T04:42:32.467Z"
   },
   {
    "duration": 9,
    "start_time": "2022-12-18T04:48:07.219Z"
   },
   {
    "duration": 16,
    "start_time": "2022-12-18T04:49:00.235Z"
   },
   {
    "duration": 240,
    "start_time": "2022-12-18T04:51:47.178Z"
   },
   {
    "duration": 42,
    "start_time": "2022-12-18T05:02:48.469Z"
   },
   {
    "duration": 11,
    "start_time": "2022-12-18T05:02:49.715Z"
   },
   {
    "duration": 11,
    "start_time": "2022-12-18T05:03:16.537Z"
   },
   {
    "duration": 12,
    "start_time": "2022-12-18T05:03:37.732Z"
   },
   {
    "duration": 106,
    "start_time": "2022-12-18T05:12:52.681Z"
   },
   {
    "duration": 7,
    "start_time": "2022-12-18T05:12:56.647Z"
   },
   {
    "duration": 48,
    "start_time": "2022-12-18T05:12:57.843Z"
   },
   {
    "duration": 1386,
    "start_time": "2022-12-18T05:14:42.951Z"
   },
   {
    "duration": 398,
    "start_time": "2022-12-18T05:14:44.339Z"
   },
   {
    "duration": 15,
    "start_time": "2022-12-18T05:14:44.739Z"
   },
   {
    "duration": 14,
    "start_time": "2022-12-18T05:14:44.756Z"
   },
   {
    "duration": 53,
    "start_time": "2022-12-18T05:14:44.772Z"
   },
   {
    "duration": 13,
    "start_time": "2022-12-18T05:14:44.826Z"
   },
   {
    "duration": 20,
    "start_time": "2022-12-18T05:14:44.841Z"
   },
   {
    "duration": 62,
    "start_time": "2022-12-18T05:14:44.864Z"
   },
   {
    "duration": 12,
    "start_time": "2022-12-18T05:14:44.928Z"
   },
   {
    "duration": 16,
    "start_time": "2022-12-18T05:14:44.943Z"
   },
   {
    "duration": 65,
    "start_time": "2022-12-18T05:14:44.961Z"
   },
   {
    "duration": 301,
    "start_time": "2022-12-18T05:14:45.028Z"
   },
   {
    "duration": 46,
    "start_time": "2022-12-18T05:14:45.331Z"
   },
   {
    "duration": 9,
    "start_time": "2022-12-18T05:14:45.378Z"
   },
   {
    "duration": 27,
    "start_time": "2022-12-18T05:14:45.389Z"
   },
   {
    "duration": 11,
    "start_time": "2022-12-18T05:14:45.418Z"
   },
   {
    "duration": 7,
    "start_time": "2022-12-18T05:14:45.430Z"
   },
   {
    "duration": 88,
    "start_time": "2022-12-18T05:14:45.438Z"
   },
   {
    "duration": 205,
    "start_time": "2022-12-18T05:14:45.528Z"
   },
   {
    "duration": 5,
    "start_time": "2022-12-18T05:15:14.404Z"
   },
   {
    "duration": 145,
    "start_time": "2022-12-18T05:15:15.874Z"
   },
   {
    "duration": 38,
    "start_time": "2022-12-18T05:15:47.981Z"
   },
   {
    "duration": 47,
    "start_time": "2022-12-18T05:16:12.770Z"
   },
   {
    "duration": 17,
    "start_time": "2022-12-18T06:33:10.551Z"
   },
   {
    "duration": 21,
    "start_time": "2022-12-18T06:33:11.929Z"
   },
   {
    "duration": 17,
    "start_time": "2022-12-18T06:33:13.472Z"
   },
   {
    "duration": 16,
    "start_time": "2022-12-18T06:34:42.427Z"
   },
   {
    "duration": 56,
    "start_time": "2022-12-18T06:36:05.286Z"
   },
   {
    "duration": 1418,
    "start_time": "2022-12-18T06:36:26.028Z"
   },
   {
    "duration": 411,
    "start_time": "2022-12-18T06:36:27.448Z"
   },
   {
    "duration": 21,
    "start_time": "2022-12-18T06:36:27.861Z"
   },
   {
    "duration": 16,
    "start_time": "2022-12-18T06:36:27.884Z"
   },
   {
    "duration": 41,
    "start_time": "2022-12-18T06:36:27.915Z"
   },
   {
    "duration": 13,
    "start_time": "2022-12-18T06:36:27.957Z"
   },
   {
    "duration": 44,
    "start_time": "2022-12-18T06:36:27.972Z"
   },
   {
    "duration": 43,
    "start_time": "2022-12-18T06:36:28.018Z"
   },
   {
    "duration": 15,
    "start_time": "2022-12-18T06:36:28.063Z"
   },
   {
    "duration": 44,
    "start_time": "2022-12-18T06:36:28.081Z"
   },
   {
    "duration": 45,
    "start_time": "2022-12-18T06:36:28.128Z"
   },
   {
    "duration": 316,
    "start_time": "2022-12-18T06:36:28.175Z"
   },
   {
    "duration": 56,
    "start_time": "2022-12-18T06:36:28.493Z"
   },
   {
    "duration": 8,
    "start_time": "2022-12-18T06:36:28.551Z"
   },
   {
    "duration": 12,
    "start_time": "2022-12-18T06:36:28.561Z"
   },
   {
    "duration": 11,
    "start_time": "2022-12-18T06:36:28.574Z"
   },
   {
    "duration": 49,
    "start_time": "2022-12-18T06:36:28.586Z"
   },
   {
    "duration": 180,
    "start_time": "2022-12-18T06:36:28.636Z"
   },
   {
    "duration": 119,
    "start_time": "2022-12-18T06:36:28.818Z"
   },
   {
    "duration": 177,
    "start_time": "2022-12-18T06:36:28.940Z"
   },
   {
    "duration": 18,
    "start_time": "2022-12-18T06:38:08.510Z"
   },
   {
    "duration": 23,
    "start_time": "2022-12-18T06:38:09.564Z"
   },
   {
    "duration": 17,
    "start_time": "2022-12-18T06:38:10.596Z"
   },
   {
    "duration": 54,
    "start_time": "2022-12-18T06:38:20.114Z"
   },
   {
    "duration": 53,
    "start_time": "2022-12-18T06:38:30.906Z"
   },
   {
    "duration": 17,
    "start_time": "2022-12-18T06:39:57.631Z"
   },
   {
    "duration": 17,
    "start_time": "2022-12-18T06:40:05.727Z"
   },
   {
    "duration": 1374,
    "start_time": "2022-12-18T06:40:39.852Z"
   },
   {
    "duration": 382,
    "start_time": "2022-12-18T06:40:41.228Z"
   },
   {
    "duration": 22,
    "start_time": "2022-12-18T06:40:41.611Z"
   },
   {
    "duration": 20,
    "start_time": "2022-12-18T06:40:41.634Z"
   },
   {
    "duration": 37,
    "start_time": "2022-12-18T06:40:41.656Z"
   },
   {
    "duration": 26,
    "start_time": "2022-12-18T06:40:41.695Z"
   },
   {
    "duration": 16,
    "start_time": "2022-12-18T06:40:41.723Z"
   },
   {
    "duration": 34,
    "start_time": "2022-12-18T06:40:41.741Z"
   },
   {
    "duration": 12,
    "start_time": "2022-12-18T06:40:41.776Z"
   },
   {
    "duration": 35,
    "start_time": "2022-12-18T06:40:41.791Z"
   },
   {
    "duration": 34,
    "start_time": "2022-12-18T06:40:41.827Z"
   },
   {
    "duration": 308,
    "start_time": "2022-12-18T06:40:41.863Z"
   },
   {
    "duration": 60,
    "start_time": "2022-12-18T06:40:42.172Z"
   },
   {
    "duration": 8,
    "start_time": "2022-12-18T06:40:42.234Z"
   },
   {
    "duration": 14,
    "start_time": "2022-12-18T06:40:42.243Z"
   },
   {
    "duration": 9,
    "start_time": "2022-12-18T06:40:42.259Z"
   },
   {
    "duration": 18,
    "start_time": "2022-12-18T06:40:42.269Z"
   },
   {
    "duration": 117,
    "start_time": "2022-12-18T06:40:42.315Z"
   },
   {
    "duration": 110,
    "start_time": "2022-12-18T06:40:42.434Z"
   },
   {
    "duration": 226,
    "start_time": "2022-12-18T06:40:42.620Z"
   },
   {
    "duration": 17,
    "start_time": "2022-12-18T06:41:02.153Z"
   },
   {
    "duration": 2,
    "start_time": "2022-12-18T06:55:58.574Z"
   },
   {
    "duration": 3,
    "start_time": "2022-12-18T06:56:07.705Z"
   },
   {
    "duration": 4,
    "start_time": "2022-12-18T06:56:17.871Z"
   },
   {
    "duration": 3,
    "start_time": "2022-12-18T06:56:50.156Z"
   },
   {
    "duration": 3,
    "start_time": "2022-12-18T07:02:54.136Z"
   },
   {
    "duration": 6,
    "start_time": "2022-12-18T07:03:19.429Z"
   },
   {
    "duration": 3,
    "start_time": "2022-12-18T07:07:25.613Z"
   },
   {
    "duration": 4,
    "start_time": "2022-12-18T07:24:24.277Z"
   },
   {
    "duration": 9,
    "start_time": "2022-12-18T07:24:41.763Z"
   },
   {
    "duration": 16,
    "start_time": "2022-12-18T07:24:45.077Z"
   },
   {
    "duration": 18,
    "start_time": "2022-12-18T07:24:48.823Z"
   },
   {
    "duration": 18,
    "start_time": "2022-12-18T07:25:06.725Z"
   },
   {
    "duration": 23,
    "start_time": "2022-12-18T07:26:35.796Z"
   },
   {
    "duration": 18,
    "start_time": "2022-12-18T07:26:49.509Z"
   },
   {
    "duration": 10,
    "start_time": "2022-12-18T07:26:58.711Z"
   },
   {
    "duration": 7,
    "start_time": "2022-12-18T07:27:01.885Z"
   },
   {
    "duration": 20,
    "start_time": "2022-12-18T07:27:12.895Z"
   },
   {
    "duration": 26,
    "start_time": "2022-12-18T07:27:28.382Z"
   },
   {
    "duration": 24,
    "start_time": "2022-12-18T07:29:06.676Z"
   },
   {
    "duration": 29,
    "start_time": "2022-12-18T07:29:07.914Z"
   },
   {
    "duration": 22,
    "start_time": "2022-12-18T07:29:09.792Z"
   },
   {
    "duration": 19,
    "start_time": "2022-12-18T07:29:13.079Z"
   },
   {
    "duration": 542,
    "start_time": "2022-12-18T07:30:21.276Z"
   },
   {
    "duration": 4,
    "start_time": "2022-12-18T07:32:21.583Z"
   },
   {
    "duration": 5,
    "start_time": "2022-12-18T07:33:10.623Z"
   },
   {
    "duration": 14,
    "start_time": "2022-12-18T07:33:12.054Z"
   },
   {
    "duration": 4,
    "start_time": "2022-12-18T07:33:30.251Z"
   },
   {
    "duration": 33,
    "start_time": "2022-12-18T07:33:31.687Z"
   },
   {
    "duration": 5,
    "start_time": "2022-12-18T07:33:41.471Z"
   },
   {
    "duration": 16,
    "start_time": "2022-12-18T07:33:43.537Z"
   },
   {
    "duration": 4,
    "start_time": "2022-12-18T07:34:08.657Z"
   },
   {
    "duration": 17,
    "start_time": "2022-12-18T07:34:10.069Z"
   },
   {
    "duration": 5,
    "start_time": "2022-12-18T07:34:17.952Z"
   },
   {
    "duration": 18,
    "start_time": "2022-12-18T07:34:20.113Z"
   },
   {
    "duration": 15,
    "start_time": "2022-12-18T07:35:37.367Z"
   },
   {
    "duration": 17,
    "start_time": "2022-12-18T07:35:39.150Z"
   },
   {
    "duration": 1708,
    "start_time": "2022-12-19T09:10:13.015Z"
   },
   {
    "duration": 744,
    "start_time": "2022-12-19T09:10:14.727Z"
   },
   {
    "duration": 23,
    "start_time": "2022-12-19T09:10:15.474Z"
   },
   {
    "duration": 17,
    "start_time": "2022-12-19T09:10:15.499Z"
   },
   {
    "duration": 51,
    "start_time": "2022-12-19T09:10:15.518Z"
   },
   {
    "duration": 15,
    "start_time": "2022-12-19T09:10:15.570Z"
   },
   {
    "duration": 33,
    "start_time": "2022-12-19T09:10:15.587Z"
   },
   {
    "duration": 63,
    "start_time": "2022-12-19T09:10:15.623Z"
   },
   {
    "duration": 16,
    "start_time": "2022-12-19T09:10:15.689Z"
   },
   {
    "duration": 39,
    "start_time": "2022-12-19T09:10:15.709Z"
   },
   {
    "duration": 50,
    "start_time": "2022-12-19T09:10:15.751Z"
   },
   {
    "duration": 363,
    "start_time": "2022-12-19T09:10:15.804Z"
   },
   {
    "duration": 65,
    "start_time": "2022-12-19T09:10:16.170Z"
   },
   {
    "duration": 33,
    "start_time": "2022-12-19T09:10:16.238Z"
   },
   {
    "duration": 59,
    "start_time": "2022-12-19T09:10:16.274Z"
   },
   {
    "duration": 19,
    "start_time": "2022-12-19T09:10:16.335Z"
   },
   {
    "duration": 58,
    "start_time": "2022-12-19T09:10:16.357Z"
   },
   {
    "duration": 136,
    "start_time": "2022-12-19T09:10:16.417Z"
   },
   {
    "duration": 186,
    "start_time": "2022-12-19T09:10:16.560Z"
   },
   {
    "duration": 100,
    "start_time": "2022-12-19T09:10:16.753Z"
   },
   {
    "duration": 26,
    "start_time": "2022-12-19T09:10:16.858Z"
   },
   {
    "duration": 19,
    "start_time": "2022-12-19T09:10:16.935Z"
   },
   {
    "duration": 63,
    "start_time": "2022-12-19T09:10:16.957Z"
   },
   {
    "duration": 14,
    "start_time": "2022-12-19T09:10:17.022Z"
   },
   {
    "duration": 43,
    "start_time": "2022-12-19T09:10:17.038Z"
   },
   {
    "duration": 17,
    "start_time": "2022-12-19T09:10:17.083Z"
   },
   {
    "duration": 17,
    "start_time": "2022-12-19T09:10:17.102Z"
   },
   {
    "duration": 4,
    "start_time": "2022-12-19T09:16:53.822Z"
   },
   {
    "duration": 7,
    "start_time": "2022-12-19T09:16:55.814Z"
   },
   {
    "duration": 6,
    "start_time": "2022-12-19T09:17:48.090Z"
   },
   {
    "duration": 116,
    "start_time": "2022-12-19T09:18:12.162Z"
   },
   {
    "duration": 16,
    "start_time": "2022-12-19T09:18:16.457Z"
   },
   {
    "duration": 9,
    "start_time": "2022-12-19T09:18:33.915Z"
   },
   {
    "duration": 7,
    "start_time": "2022-12-19T09:18:37.296Z"
   },
   {
    "duration": 1521,
    "start_time": "2022-12-19T09:18:38.838Z"
   },
   {
    "duration": 4,
    "start_time": "2022-12-19T09:18:57.075Z"
   },
   {
    "duration": 1592,
    "start_time": "2022-12-19T09:19:02.487Z"
   },
   {
    "duration": 1517,
    "start_time": "2022-12-19T09:21:46.662Z"
   },
   {
    "duration": 1623,
    "start_time": "2022-12-19T09:21:48.326Z"
   },
   {
    "duration": 79,
    "start_time": "2022-12-19T09:28:38.496Z"
   },
   {
    "duration": 1599,
    "start_time": "2022-12-19T09:28:39.827Z"
   },
   {
    "duration": 1720,
    "start_time": "2022-12-19T09:28:41.435Z"
   },
   {
    "duration": 1512,
    "start_time": "2022-12-19T09:28:43.193Z"
   },
   {
    "duration": 1586,
    "start_time": "2022-12-19T10:00:56.066Z"
   },
   {
    "duration": 407,
    "start_time": "2022-12-19T10:00:57.655Z"
   },
   {
    "duration": 23,
    "start_time": "2022-12-19T10:00:58.064Z"
   },
   {
    "duration": 21,
    "start_time": "2022-12-19T10:00:58.090Z"
   },
   {
    "duration": 67,
    "start_time": "2022-12-19T10:00:58.113Z"
   },
   {
    "duration": 14,
    "start_time": "2022-12-19T10:00:58.183Z"
   },
   {
    "duration": 27,
    "start_time": "2022-12-19T10:00:58.199Z"
   },
   {
    "duration": 43,
    "start_time": "2022-12-19T10:00:58.228Z"
   },
   {
    "duration": 12,
    "start_time": "2022-12-19T10:00:58.273Z"
   },
   {
    "duration": 40,
    "start_time": "2022-12-19T10:00:58.289Z"
   },
   {
    "duration": 57,
    "start_time": "2022-12-19T10:00:58.336Z"
   },
   {
    "duration": 406,
    "start_time": "2022-12-19T10:00:58.395Z"
   },
   {
    "duration": 53,
    "start_time": "2022-12-19T10:00:58.803Z"
   },
   {
    "duration": 10,
    "start_time": "2022-12-19T10:00:58.858Z"
   },
   {
    "duration": 19,
    "start_time": "2022-12-19T10:00:58.869Z"
   },
   {
    "duration": 37,
    "start_time": "2022-12-19T10:00:58.890Z"
   },
   {
    "duration": 51,
    "start_time": "2022-12-19T10:00:58.929Z"
   },
   {
    "duration": 155,
    "start_time": "2022-12-19T10:00:58.981Z"
   },
   {
    "duration": 298,
    "start_time": "2022-12-19T10:00:59.138Z"
   },
   {
    "duration": 22,
    "start_time": "2022-12-19T10:00:59.439Z"
   },
   {
    "duration": 14,
    "start_time": "2022-12-19T10:00:59.463Z"
   },
   {
    "duration": 72,
    "start_time": "2022-12-19T10:00:59.480Z"
   },
   {
    "duration": 19,
    "start_time": "2022-12-19T10:00:59.554Z"
   },
   {
    "duration": 23,
    "start_time": "2022-12-19T10:00:59.576Z"
   },
   {
    "duration": 55,
    "start_time": "2022-12-19T10:00:59.602Z"
   },
   {
    "duration": 20,
    "start_time": "2022-12-19T10:00:59.659Z"
   },
   {
    "duration": 23,
    "start_time": "2022-12-19T10:00:59.681Z"
   },
   {
    "duration": 5,
    "start_time": "2022-12-19T10:00:59.708Z"
   },
   {
    "duration": 11,
    "start_time": "2022-12-19T10:00:59.735Z"
   },
   {
    "duration": 1780,
    "start_time": "2022-12-19T10:00:59.748Z"
   },
   {
    "duration": 2013,
    "start_time": "2022-12-19T10:01:01.535Z"
   },
   {
    "duration": 1785,
    "start_time": "2022-12-19T10:01:03.550Z"
   },
   {
    "duration": 1486,
    "start_time": "2022-12-19T10:01:57.653Z"
   },
   {
    "duration": 384,
    "start_time": "2022-12-19T10:01:59.141Z"
   },
   {
    "duration": 15,
    "start_time": "2022-12-19T10:01:59.527Z"
   },
   {
    "duration": 17,
    "start_time": "2022-12-19T10:01:59.545Z"
   },
   {
    "duration": 50,
    "start_time": "2022-12-19T10:01:59.564Z"
   },
   {
    "duration": 24,
    "start_time": "2022-12-19T10:01:59.616Z"
   },
   {
    "duration": 37,
    "start_time": "2022-12-19T10:01:59.642Z"
   },
   {
    "duration": 37,
    "start_time": "2022-12-19T10:01:59.681Z"
   },
   {
    "duration": 17,
    "start_time": "2022-12-19T10:01:59.720Z"
   },
   {
    "duration": 32,
    "start_time": "2022-12-19T10:01:59.740Z"
   },
   {
    "duration": 36,
    "start_time": "2022-12-19T10:01:59.774Z"
   },
   {
    "duration": 368,
    "start_time": "2022-12-19T10:01:59.812Z"
   },
   {
    "duration": 66,
    "start_time": "2022-12-19T10:02:00.182Z"
   },
   {
    "duration": 9,
    "start_time": "2022-12-19T10:02:00.250Z"
   },
   {
    "duration": 50,
    "start_time": "2022-12-19T10:02:00.261Z"
   },
   {
    "duration": 27,
    "start_time": "2022-12-19T10:02:00.314Z"
   },
   {
    "duration": 54,
    "start_time": "2022-12-19T10:02:00.343Z"
   },
   {
    "duration": 118,
    "start_time": "2022-12-19T10:02:00.436Z"
   },
   {
    "duration": 194,
    "start_time": "2022-12-19T10:02:00.557Z"
   },
   {
    "duration": 202,
    "start_time": "2022-12-19T10:02:00.753Z"
   },
   {
    "duration": 40,
    "start_time": "2022-12-19T10:02:00.956Z"
   },
   {
    "duration": 65,
    "start_time": "2022-12-19T10:02:00.998Z"
   },
   {
    "duration": 67,
    "start_time": "2022-12-19T10:02:01.065Z"
   },
   {
    "duration": 45,
    "start_time": "2022-12-19T10:02:01.134Z"
   },
   {
    "duration": 50,
    "start_time": "2022-12-19T10:02:01.181Z"
   },
   {
    "duration": 41,
    "start_time": "2022-12-19T10:02:01.233Z"
   },
   {
    "duration": 43,
    "start_time": "2022-12-19T10:02:01.276Z"
   },
   {
    "duration": 63,
    "start_time": "2022-12-19T10:02:01.323Z"
   },
   {
    "duration": 29,
    "start_time": "2022-12-19T10:02:01.388Z"
   },
   {
    "duration": 1667,
    "start_time": "2022-12-19T10:02:01.419Z"
   },
   {
    "duration": 1462,
    "start_time": "2022-12-19T10:02:03.088Z"
   },
   {
    "duration": 1491,
    "start_time": "2022-12-19T10:02:04.552Z"
   },
   {
    "duration": 2339,
    "start_time": "2022-12-20T08:17:29.633Z"
   },
   {
    "duration": 2887,
    "start_time": "2022-12-20T08:17:31.977Z"
   },
   {
    "duration": 43,
    "start_time": "2022-12-20T08:17:34.866Z"
   },
   {
    "duration": 101,
    "start_time": "2022-12-20T08:17:34.917Z"
   },
   {
    "duration": 68,
    "start_time": "2022-12-20T08:17:35.023Z"
   },
   {
    "duration": 18,
    "start_time": "2022-12-20T08:17:35.093Z"
   },
   {
    "duration": 74,
    "start_time": "2022-12-20T08:17:35.114Z"
   },
   {
    "duration": 54,
    "start_time": "2022-12-20T08:17:35.189Z"
   },
   {
    "duration": 24,
    "start_time": "2022-12-20T08:17:35.245Z"
   },
   {
    "duration": 36,
    "start_time": "2022-12-20T08:17:35.271Z"
   },
   {
    "duration": 63,
    "start_time": "2022-12-20T08:17:35.309Z"
   },
   {
    "duration": 377,
    "start_time": "2022-12-20T08:17:35.375Z"
   },
   {
    "duration": 62,
    "start_time": "2022-12-20T08:17:35.753Z"
   },
   {
    "duration": 13,
    "start_time": "2022-12-20T08:17:35.823Z"
   },
   {
    "duration": 36,
    "start_time": "2022-12-20T08:17:35.841Z"
   },
   {
    "duration": 13,
    "start_time": "2022-12-20T08:17:35.880Z"
   },
   {
    "duration": 47,
    "start_time": "2022-12-20T08:17:35.895Z"
   },
   {
    "duration": 177,
    "start_time": "2022-12-20T08:17:35.944Z"
   },
   {
    "duration": 178,
    "start_time": "2022-12-20T08:17:36.142Z"
   },
   {
    "duration": 130,
    "start_time": "2022-12-20T08:17:36.333Z"
   },
   {
    "duration": 15,
    "start_time": "2022-12-20T08:17:36.479Z"
   },
   {
    "duration": 83,
    "start_time": "2022-12-20T08:17:36.496Z"
   },
   {
    "duration": 5,
    "start_time": "2022-12-20T08:17:36.582Z"
   },
   {
    "duration": 33,
    "start_time": "2022-12-20T08:17:36.589Z"
   },
   {
    "duration": 79,
    "start_time": "2022-12-20T08:17:36.623Z"
   },
   {
    "duration": 121,
    "start_time": "2022-12-20T08:17:36.704Z"
   },
   {
    "duration": 72,
    "start_time": "2022-12-20T08:17:36.832Z"
   },
   {
    "duration": 30,
    "start_time": "2022-12-20T08:17:36.909Z"
   },
   {
    "duration": 134,
    "start_time": "2022-12-20T08:17:36.948Z"
   },
   {
    "duration": 2097,
    "start_time": "2022-12-20T08:17:37.087Z"
   },
   {
    "duration": 1936,
    "start_time": "2022-12-20T08:17:39.187Z"
   },
   {
    "duration": 2054,
    "start_time": "2022-12-20T08:17:41.135Z"
   },
   {
    "duration": 157,
    "start_time": "2022-12-20T08:19:56.972Z"
   },
   {
    "duration": 30842,
    "start_time": "2022-12-20T08:20:10.441Z"
   },
   {
    "duration": 15923,
    "start_time": "2022-12-20T08:21:27.053Z"
   },
   {
    "duration": 2293,
    "start_time": "2022-12-20T08:21:42.979Z"
   },
   {
    "duration": 438,
    "start_time": "2022-12-20T08:21:45.273Z"
   },
   {
    "duration": 21,
    "start_time": "2022-12-20T08:21:45.717Z"
   },
   {
    "duration": 57,
    "start_time": "2022-12-20T08:21:45.740Z"
   },
   {
    "duration": 53,
    "start_time": "2022-12-20T08:21:45.799Z"
   },
   {
    "duration": 35,
    "start_time": "2022-12-20T08:21:45.855Z"
   },
   {
    "duration": 38,
    "start_time": "2022-12-20T08:21:45.892Z"
   },
   {
    "duration": 85,
    "start_time": "2022-12-20T08:21:45.932Z"
   },
   {
    "duration": 17,
    "start_time": "2022-12-20T08:21:46.020Z"
   },
   {
    "duration": 44,
    "start_time": "2022-12-20T08:21:46.039Z"
   },
   {
    "duration": 43,
    "start_time": "2022-12-20T08:21:46.085Z"
   },
   {
    "duration": 378,
    "start_time": "2022-12-20T08:21:46.130Z"
   },
   {
    "duration": 67,
    "start_time": "2022-12-20T08:21:46.515Z"
   },
   {
    "duration": 12,
    "start_time": "2022-12-20T08:21:46.584Z"
   },
   {
    "duration": 47,
    "start_time": "2022-12-20T08:21:46.612Z"
   },
   {
    "duration": 32,
    "start_time": "2022-12-20T08:21:46.661Z"
   },
   {
    "duration": 54,
    "start_time": "2022-12-20T08:21:46.695Z"
   },
   {
    "duration": 204,
    "start_time": "2022-12-20T08:21:46.753Z"
   },
   {
    "duration": 187,
    "start_time": "2022-12-20T08:21:46.961Z"
   },
   {
    "duration": 172,
    "start_time": "2022-12-20T08:21:47.151Z"
   },
   {
    "duration": 21,
    "start_time": "2022-12-20T08:21:47.333Z"
   },
   {
    "duration": 8,
    "start_time": "2022-12-20T08:21:47.357Z"
   },
   {
    "duration": 4,
    "start_time": "2022-12-20T08:21:47.367Z"
   },
   {
    "duration": 7,
    "start_time": "2022-12-20T08:21:47.372Z"
   },
   {
    "duration": 22,
    "start_time": "2022-12-20T08:21:47.380Z"
   },
   {
    "duration": 22,
    "start_time": "2022-12-20T08:21:47.404Z"
   },
   {
    "duration": 40,
    "start_time": "2022-12-20T08:21:47.429Z"
   },
   {
    "duration": 4,
    "start_time": "2022-12-20T08:21:47.472Z"
   },
   {
    "duration": 10,
    "start_time": "2022-12-20T08:21:47.478Z"
   },
   {
    "duration": 1716,
    "start_time": "2022-12-20T08:21:47.491Z"
   },
   {
    "duration": 1679,
    "start_time": "2022-12-20T08:21:49.208Z"
   },
   {
    "duration": 1685,
    "start_time": "2022-12-20T08:21:50.889Z"
   },
   {
    "duration": 2326,
    "start_time": "2022-12-20T08:21:58.336Z"
   },
   {
    "duration": 448,
    "start_time": "2022-12-20T08:22:00.665Z"
   },
   {
    "duration": 23,
    "start_time": "2022-12-20T08:22:01.115Z"
   },
   {
    "duration": 38,
    "start_time": "2022-12-20T08:22:01.139Z"
   },
   {
    "duration": 56,
    "start_time": "2022-12-20T08:22:01.180Z"
   },
   {
    "duration": 23,
    "start_time": "2022-12-20T08:22:01.237Z"
   },
   {
    "duration": 32,
    "start_time": "2022-12-20T08:22:01.263Z"
   },
   {
    "duration": 58,
    "start_time": "2022-12-20T08:22:01.298Z"
   },
   {
    "duration": 31,
    "start_time": "2022-12-20T08:22:01.358Z"
   },
   {
    "duration": 64,
    "start_time": "2022-12-20T08:22:01.391Z"
   },
   {
    "duration": 49,
    "start_time": "2022-12-20T08:22:01.457Z"
   },
   {
    "duration": 354,
    "start_time": "2022-12-20T08:22:01.508Z"
   },
   {
    "duration": 89,
    "start_time": "2022-12-20T08:22:01.864Z"
   },
   {
    "duration": 12,
    "start_time": "2022-12-20T08:22:01.957Z"
   },
   {
    "duration": 23,
    "start_time": "2022-12-20T08:22:01.971Z"
   },
   {
    "duration": 17,
    "start_time": "2022-12-20T08:22:01.996Z"
   },
   {
    "duration": 66,
    "start_time": "2022-12-20T08:22:02.015Z"
   },
   {
    "duration": 137,
    "start_time": "2022-12-20T08:22:02.083Z"
   },
   {
    "duration": 137,
    "start_time": "2022-12-20T08:22:02.229Z"
   },
   {
    "duration": 117,
    "start_time": "2022-12-20T08:22:02.416Z"
   },
   {
    "duration": 18,
    "start_time": "2022-12-20T08:22:02.539Z"
   },
   {
    "duration": 19,
    "start_time": "2022-12-20T08:22:02.560Z"
   },
   {
    "duration": 18,
    "start_time": "2022-12-20T08:22:02.581Z"
   },
   {
    "duration": 44,
    "start_time": "2022-12-20T08:22:02.601Z"
   },
   {
    "duration": 29,
    "start_time": "2022-12-20T08:22:02.648Z"
   },
   {
    "duration": 22,
    "start_time": "2022-12-20T08:22:02.680Z"
   },
   {
    "duration": 27,
    "start_time": "2022-12-20T08:22:02.705Z"
   },
   {
    "duration": 46,
    "start_time": "2022-12-20T08:22:02.734Z"
   },
   {
    "duration": 11,
    "start_time": "2022-12-20T08:22:02.783Z"
   },
   {
    "duration": 1751,
    "start_time": "2022-12-20T08:22:02.796Z"
   },
   {
    "duration": 1741,
    "start_time": "2022-12-20T08:22:04.551Z"
   },
   {
    "duration": 1986,
    "start_time": "2022-12-20T08:22:06.294Z"
   },
   {
    "duration": 261,
    "start_time": "2022-12-20T08:23:03.894Z"
   },
   {
    "duration": 12078,
    "start_time": "2022-12-20T08:23:10.146Z"
   },
   {
    "duration": 2225,
    "start_time": "2022-12-20T08:32:29.930Z"
   },
   {
    "duration": 449,
    "start_time": "2022-12-20T08:32:32.157Z"
   },
   {
    "duration": 20,
    "start_time": "2022-12-20T08:32:32.608Z"
   },
   {
    "duration": 64,
    "start_time": "2022-12-20T08:32:32.629Z"
   },
   {
    "duration": 49,
    "start_time": "2022-12-20T08:32:32.695Z"
   },
   {
    "duration": 15,
    "start_time": "2022-12-20T08:32:32.748Z"
   },
   {
    "duration": 25,
    "start_time": "2022-12-20T08:32:32.765Z"
   },
   {
    "duration": 46,
    "start_time": "2022-12-20T08:32:32.792Z"
   },
   {
    "duration": 22,
    "start_time": "2022-12-20T08:32:32.839Z"
   },
   {
    "duration": 22,
    "start_time": "2022-12-20T08:32:32.863Z"
   },
   {
    "duration": 48,
    "start_time": "2022-12-20T08:32:32.887Z"
   },
   {
    "duration": 332,
    "start_time": "2022-12-20T08:32:32.937Z"
   },
   {
    "duration": 12338,
    "start_time": "2022-12-20T08:32:33.271Z"
   },
   {
    "duration": 10983,
    "start_time": "2022-12-20T08:32:45.613Z"
   },
   {
    "duration": 11530,
    "start_time": "2022-12-20T08:32:56.598Z"
   },
   {
    "duration": 108,
    "start_time": "2022-12-20T08:33:08.130Z"
   },
   {
    "duration": 12,
    "start_time": "2022-12-20T08:33:08.240Z"
   },
   {
    "duration": 26,
    "start_time": "2022-12-20T08:33:08.256Z"
   },
   {
    "duration": 37,
    "start_time": "2022-12-20T08:33:08.284Z"
   },
   {
    "duration": 59,
    "start_time": "2022-12-20T08:33:08.324Z"
   },
   {
    "duration": 173,
    "start_time": "2022-12-20T08:33:08.385Z"
   },
   {
    "duration": 172,
    "start_time": "2022-12-20T08:33:08.565Z"
   },
   {
    "duration": 120,
    "start_time": "2022-12-20T08:33:08.739Z"
   },
   {
    "duration": 3,
    "start_time": "2022-12-20T08:33:08.861Z"
   },
   {
    "duration": 50,
    "start_time": "2022-12-20T08:33:08.866Z"
   },
   {
    "duration": 4,
    "start_time": "2022-12-20T08:33:08.918Z"
   },
   {
    "duration": 40,
    "start_time": "2022-12-20T08:33:08.923Z"
   },
   {
    "duration": 33,
    "start_time": "2022-12-20T08:33:08.965Z"
   },
   {
    "duration": 28,
    "start_time": "2022-12-20T08:33:09.001Z"
   },
   {
    "duration": 40,
    "start_time": "2022-12-20T08:33:09.031Z"
   },
   {
    "duration": 14,
    "start_time": "2022-12-20T08:33:09.073Z"
   },
   {
    "duration": 58,
    "start_time": "2022-12-20T08:33:09.089Z"
   },
   {
    "duration": 1846,
    "start_time": "2022-12-20T08:33:09.150Z"
   },
   {
    "duration": 1717,
    "start_time": "2022-12-20T08:33:11.011Z"
   },
   {
    "duration": 1831,
    "start_time": "2022-12-20T08:33:12.734Z"
   },
   {
    "duration": 2608,
    "start_time": "2022-12-20T08:42:48.974Z"
   },
   {
    "duration": 487,
    "start_time": "2022-12-20T08:42:51.585Z"
   },
   {
    "duration": 19,
    "start_time": "2022-12-20T08:42:52.074Z"
   },
   {
    "duration": 41,
    "start_time": "2022-12-20T08:42:52.096Z"
   },
   {
    "duration": 71,
    "start_time": "2022-12-20T08:42:52.140Z"
   },
   {
    "duration": 23,
    "start_time": "2022-12-20T08:42:52.213Z"
   },
   {
    "duration": 92,
    "start_time": "2022-12-20T08:42:52.240Z"
   },
   {
    "duration": 116,
    "start_time": "2022-12-20T08:42:52.334Z"
   },
   {
    "duration": 50,
    "start_time": "2022-12-20T08:42:52.452Z"
   },
   {
    "duration": 75,
    "start_time": "2022-12-20T08:42:52.504Z"
   },
   {
    "duration": 52,
    "start_time": "2022-12-20T08:42:52.582Z"
   },
   {
    "duration": 348,
    "start_time": "2022-12-20T08:42:52.640Z"
   },
   {
    "duration": 12840,
    "start_time": "2022-12-20T08:42:52.991Z"
   },
   {
    "duration": 11852,
    "start_time": "2022-12-20T08:43:05.835Z"
   },
   {
    "duration": 12250,
    "start_time": "2022-12-20T08:43:17.690Z"
   },
   {
    "duration": 122,
    "start_time": "2022-12-20T08:43:29.942Z"
   },
   {
    "duration": 10,
    "start_time": "2022-12-20T08:43:30.070Z"
   },
   {
    "duration": 37,
    "start_time": "2022-12-20T08:43:30.114Z"
   },
   {
    "duration": 51,
    "start_time": "2022-12-20T08:43:30.154Z"
   },
   {
    "duration": 76,
    "start_time": "2022-12-20T08:43:30.208Z"
   },
   {
    "duration": 150,
    "start_time": "2022-12-20T08:43:30.286Z"
   },
   {
    "duration": 183,
    "start_time": "2022-12-20T08:43:30.443Z"
   },
   {
    "duration": 112,
    "start_time": "2022-12-20T08:43:30.640Z"
   },
   {
    "duration": 27,
    "start_time": "2022-12-20T08:43:30.758Z"
   },
   {
    "duration": 28,
    "start_time": "2022-12-20T08:43:30.787Z"
   },
   {
    "duration": 54,
    "start_time": "2022-12-20T08:43:30.818Z"
   },
   {
    "duration": 15,
    "start_time": "2022-12-20T08:43:30.874Z"
   },
   {
    "duration": 76,
    "start_time": "2022-12-20T08:43:30.891Z"
   },
   {
    "duration": 17,
    "start_time": "2022-12-20T08:43:30.969Z"
   },
   {
    "duration": 27,
    "start_time": "2022-12-20T08:43:30.988Z"
   },
   {
    "duration": 26,
    "start_time": "2022-12-20T08:43:31.016Z"
   },
   {
    "duration": 34,
    "start_time": "2022-12-20T08:43:31.044Z"
   },
   {
    "duration": 2015,
    "start_time": "2022-12-20T08:43:31.080Z"
   },
   {
    "duration": 1973,
    "start_time": "2022-12-20T08:43:33.097Z"
   },
   {
    "duration": 2151,
    "start_time": "2022-12-20T08:43:35.072Z"
   },
   {
    "duration": 488,
    "start_time": "2022-12-29T06:37:05.653Z"
   },
   {
    "duration": 0,
    "start_time": "2022-12-29T06:37:06.144Z"
   },
   {
    "duration": 0,
    "start_time": "2022-12-29T06:37:06.145Z"
   },
   {
    "duration": 0,
    "start_time": "2022-12-29T06:37:06.146Z"
   },
   {
    "duration": 0,
    "start_time": "2022-12-29T06:37:06.147Z"
   },
   {
    "duration": 0,
    "start_time": "2022-12-29T06:37:06.148Z"
   },
   {
    "duration": 0,
    "start_time": "2022-12-29T06:37:06.149Z"
   },
   {
    "duration": 0,
    "start_time": "2022-12-29T06:37:06.150Z"
   },
   {
    "duration": 0,
    "start_time": "2022-12-29T06:37:06.151Z"
   },
   {
    "duration": 0,
    "start_time": "2022-12-29T06:37:06.152Z"
   },
   {
    "duration": 0,
    "start_time": "2022-12-29T06:37:06.153Z"
   },
   {
    "duration": 0,
    "start_time": "2022-12-29T06:37:06.155Z"
   },
   {
    "duration": 0,
    "start_time": "2022-12-29T06:37:06.156Z"
   },
   {
    "duration": 0,
    "start_time": "2022-12-29T06:37:06.158Z"
   },
   {
    "duration": 0,
    "start_time": "2022-12-29T06:37:06.159Z"
   },
   {
    "duration": 0,
    "start_time": "2022-12-29T06:37:06.160Z"
   },
   {
    "duration": 0,
    "start_time": "2022-12-29T06:37:06.161Z"
   },
   {
    "duration": 0,
    "start_time": "2022-12-29T06:37:06.162Z"
   },
   {
    "duration": 0,
    "start_time": "2022-12-29T06:37:06.163Z"
   },
   {
    "duration": 0,
    "start_time": "2022-12-29T06:37:06.164Z"
   },
   {
    "duration": 0,
    "start_time": "2022-12-29T06:37:06.165Z"
   },
   {
    "duration": 0,
    "start_time": "2022-12-29T06:37:06.166Z"
   },
   {
    "duration": 0,
    "start_time": "2022-12-29T06:37:06.167Z"
   },
   {
    "duration": 0,
    "start_time": "2022-12-29T06:37:06.169Z"
   },
   {
    "duration": 0,
    "start_time": "2022-12-29T06:37:06.170Z"
   },
   {
    "duration": 0,
    "start_time": "2022-12-29T06:37:06.172Z"
   },
   {
    "duration": 0,
    "start_time": "2022-12-29T06:37:06.173Z"
   },
   {
    "duration": 0,
    "start_time": "2022-12-29T06:37:06.174Z"
   },
   {
    "duration": 0,
    "start_time": "2022-12-29T06:37:06.175Z"
   },
   {
    "duration": 0,
    "start_time": "2022-12-29T06:37:06.177Z"
   },
   {
    "duration": 0,
    "start_time": "2022-12-29T06:37:06.178Z"
   },
   {
    "duration": 0,
    "start_time": "2022-12-29T06:37:06.179Z"
   },
   {
    "duration": 0,
    "start_time": "2022-12-29T06:37:06.180Z"
   },
   {
    "duration": 0,
    "start_time": "2022-12-29T06:37:06.235Z"
   },
   {
    "duration": 0,
    "start_time": "2022-12-29T06:37:06.237Z"
   }
  ],
  "kernelspec": {
   "display_name": "Python 3 (ipykernel)",
   "language": "python",
   "name": "python3"
  },
  "language_info": {
   "codemirror_mode": {
    "name": "ipython",
    "version": 3
   },
   "file_extension": ".py",
   "mimetype": "text/x-python",
   "name": "python",
   "nbconvert_exporter": "python",
   "pygments_lexer": "ipython3",
   "version": "3.12.7"
  },
  "toc": {
   "base_numbering": 1,
   "nav_menu": {},
   "number_sections": true,
   "sideBar": true,
   "skip_h1_title": true,
   "title_cell": "Table of Contents",
   "title_sidebar": "Contents",
   "toc_cell": false,
   "toc_position": {},
   "toc_section_display": true,
   "toc_window_display": false
  }
 },
 "nbformat": 4,
 "nbformat_minor": 2
}
