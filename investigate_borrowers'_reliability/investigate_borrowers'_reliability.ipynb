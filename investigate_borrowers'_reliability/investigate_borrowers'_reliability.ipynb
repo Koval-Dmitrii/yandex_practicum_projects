{
 "cells": [
  {
   "cell_type": "markdown",
   "id": "f98ad787",
   "metadata": {
    "deletable": false,
    "editable": false,
    "id": "c81daeeb"
   },
   "source": [
    "# Исследование надежности заемщиков\n"
   ]
  },
  {
   "cell_type": "markdown",
   "id": "4cc050d2",
   "metadata": {
    "deletable": false,
    "editable": false,
    "id": "744d7639"
   },
   "source": [
    "## Откройте таблицу и изучите общую информацию о данных"
   ]
  },
  {
   "cell_type": "markdown",
   "id": "fa6e12fe",
   "metadata": {
    "deletable": false,
    "editable": false,
    "id": "e7a14c31"
   },
   "source": [
    "**Задание 1. Импортируйте библиотеку pandas. Считайте данные из csv-файла в датафрейм и сохраните в переменную `data`. Путь к файлу:**\n",
    "\n",
    "`/datasets/data.csv`"
   ]
  },
  {
   "cell_type": "code",
   "execution_count": 1,
   "id": "11b962dc",
   "metadata": {
    "deletable": false,
    "id": "7bcf75c9"
   },
   "outputs": [],
   "source": [
    "import pandas as pd\n",
    "\n",
    "try:\n",
    "    data = pd.read_csv('/datasets/data.csv')\n",
    "except:\n",
    "    data = pd.read_csv('https://code.s3.yandex.net/datasets/data.csv')"
   ]
  },
  {
   "cell_type": "markdown",
   "id": "bc1c9926",
   "metadata": {
    "deletable": false,
    "editable": false,
    "id": "b8038fe3"
   },
   "source": [
    "**Задание 2. Выведите первые 20 строчек датафрейма `data` на экран.**"
   ]
  },
  {
   "cell_type": "code",
   "execution_count": 2,
   "id": "317ab99c",
   "metadata": {
    "deletable": false,
    "id": "2a7cab99",
    "outputId": "1a8f3ef2-d323-4ec2-ddf7-89670b5944c4"
   },
   "outputs": [
    {
     "data": {
      "text/html": [
       "<div>\n",
       "<style scoped>\n",
       "    .dataframe tbody tr th:only-of-type {\n",
       "        vertical-align: middle;\n",
       "    }\n",
       "\n",
       "    .dataframe tbody tr th {\n",
       "        vertical-align: top;\n",
       "    }\n",
       "\n",
       "    .dataframe thead th {\n",
       "        text-align: right;\n",
       "    }\n",
       "</style>\n",
       "<table border=\"1\" class=\"dataframe\">\n",
       "  <thead>\n",
       "    <tr style=\"text-align: right;\">\n",
       "      <th></th>\n",
       "      <th>children</th>\n",
       "      <th>days_employed</th>\n",
       "      <th>dob_years</th>\n",
       "      <th>education</th>\n",
       "      <th>education_id</th>\n",
       "      <th>family_status</th>\n",
       "      <th>family_status_id</th>\n",
       "      <th>gender</th>\n",
       "      <th>income_type</th>\n",
       "      <th>debt</th>\n",
       "      <th>total_income</th>\n",
       "      <th>purpose</th>\n",
       "    </tr>\n",
       "  </thead>\n",
       "  <tbody>\n",
       "    <tr>\n",
       "      <th>0</th>\n",
       "      <td>1</td>\n",
       "      <td>-8437.673028</td>\n",
       "      <td>42</td>\n",
       "      <td>высшее</td>\n",
       "      <td>0</td>\n",
       "      <td>женат / замужем</td>\n",
       "      <td>0</td>\n",
       "      <td>F</td>\n",
       "      <td>сотрудник</td>\n",
       "      <td>0</td>\n",
       "      <td>253875.639453</td>\n",
       "      <td>покупка жилья</td>\n",
       "    </tr>\n",
       "    <tr>\n",
       "      <th>1</th>\n",
       "      <td>1</td>\n",
       "      <td>-4024.803754</td>\n",
       "      <td>36</td>\n",
       "      <td>среднее</td>\n",
       "      <td>1</td>\n",
       "      <td>женат / замужем</td>\n",
       "      <td>0</td>\n",
       "      <td>F</td>\n",
       "      <td>сотрудник</td>\n",
       "      <td>0</td>\n",
       "      <td>112080.014102</td>\n",
       "      <td>приобретение автомобиля</td>\n",
       "    </tr>\n",
       "    <tr>\n",
       "      <th>2</th>\n",
       "      <td>0</td>\n",
       "      <td>-5623.422610</td>\n",
       "      <td>33</td>\n",
       "      <td>Среднее</td>\n",
       "      <td>1</td>\n",
       "      <td>женат / замужем</td>\n",
       "      <td>0</td>\n",
       "      <td>M</td>\n",
       "      <td>сотрудник</td>\n",
       "      <td>0</td>\n",
       "      <td>145885.952297</td>\n",
       "      <td>покупка жилья</td>\n",
       "    </tr>\n",
       "    <tr>\n",
       "      <th>3</th>\n",
       "      <td>3</td>\n",
       "      <td>-4124.747207</td>\n",
       "      <td>32</td>\n",
       "      <td>среднее</td>\n",
       "      <td>1</td>\n",
       "      <td>женат / замужем</td>\n",
       "      <td>0</td>\n",
       "      <td>M</td>\n",
       "      <td>сотрудник</td>\n",
       "      <td>0</td>\n",
       "      <td>267628.550329</td>\n",
       "      <td>дополнительное образование</td>\n",
       "    </tr>\n",
       "    <tr>\n",
       "      <th>4</th>\n",
       "      <td>0</td>\n",
       "      <td>340266.072047</td>\n",
       "      <td>53</td>\n",
       "      <td>среднее</td>\n",
       "      <td>1</td>\n",
       "      <td>гражданский брак</td>\n",
       "      <td>1</td>\n",
       "      <td>F</td>\n",
       "      <td>пенсионер</td>\n",
       "      <td>0</td>\n",
       "      <td>158616.077870</td>\n",
       "      <td>сыграть свадьбу</td>\n",
       "    </tr>\n",
       "    <tr>\n",
       "      <th>5</th>\n",
       "      <td>0</td>\n",
       "      <td>-926.185831</td>\n",
       "      <td>27</td>\n",
       "      <td>высшее</td>\n",
       "      <td>0</td>\n",
       "      <td>гражданский брак</td>\n",
       "      <td>1</td>\n",
       "      <td>M</td>\n",
       "      <td>компаньон</td>\n",
       "      <td>0</td>\n",
       "      <td>255763.565419</td>\n",
       "      <td>покупка жилья</td>\n",
       "    </tr>\n",
       "    <tr>\n",
       "      <th>6</th>\n",
       "      <td>0</td>\n",
       "      <td>-2879.202052</td>\n",
       "      <td>43</td>\n",
       "      <td>высшее</td>\n",
       "      <td>0</td>\n",
       "      <td>женат / замужем</td>\n",
       "      <td>0</td>\n",
       "      <td>F</td>\n",
       "      <td>компаньон</td>\n",
       "      <td>0</td>\n",
       "      <td>240525.971920</td>\n",
       "      <td>операции с жильем</td>\n",
       "    </tr>\n",
       "    <tr>\n",
       "      <th>7</th>\n",
       "      <td>0</td>\n",
       "      <td>-152.779569</td>\n",
       "      <td>50</td>\n",
       "      <td>СРЕДНЕЕ</td>\n",
       "      <td>1</td>\n",
       "      <td>женат / замужем</td>\n",
       "      <td>0</td>\n",
       "      <td>M</td>\n",
       "      <td>сотрудник</td>\n",
       "      <td>0</td>\n",
       "      <td>135823.934197</td>\n",
       "      <td>образование</td>\n",
       "    </tr>\n",
       "    <tr>\n",
       "      <th>8</th>\n",
       "      <td>2</td>\n",
       "      <td>-6929.865299</td>\n",
       "      <td>35</td>\n",
       "      <td>ВЫСШЕЕ</td>\n",
       "      <td>0</td>\n",
       "      <td>гражданский брак</td>\n",
       "      <td>1</td>\n",
       "      <td>F</td>\n",
       "      <td>сотрудник</td>\n",
       "      <td>0</td>\n",
       "      <td>95856.832424</td>\n",
       "      <td>на проведение свадьбы</td>\n",
       "    </tr>\n",
       "    <tr>\n",
       "      <th>9</th>\n",
       "      <td>0</td>\n",
       "      <td>-2188.756445</td>\n",
       "      <td>41</td>\n",
       "      <td>среднее</td>\n",
       "      <td>1</td>\n",
       "      <td>женат / замужем</td>\n",
       "      <td>0</td>\n",
       "      <td>M</td>\n",
       "      <td>сотрудник</td>\n",
       "      <td>0</td>\n",
       "      <td>144425.938277</td>\n",
       "      <td>покупка жилья для семьи</td>\n",
       "    </tr>\n",
       "    <tr>\n",
       "      <th>10</th>\n",
       "      <td>2</td>\n",
       "      <td>-4171.483647</td>\n",
       "      <td>36</td>\n",
       "      <td>высшее</td>\n",
       "      <td>0</td>\n",
       "      <td>женат / замужем</td>\n",
       "      <td>0</td>\n",
       "      <td>M</td>\n",
       "      <td>компаньон</td>\n",
       "      <td>0</td>\n",
       "      <td>113943.491460</td>\n",
       "      <td>покупка недвижимости</td>\n",
       "    </tr>\n",
       "    <tr>\n",
       "      <th>11</th>\n",
       "      <td>0</td>\n",
       "      <td>-792.701887</td>\n",
       "      <td>40</td>\n",
       "      <td>среднее</td>\n",
       "      <td>1</td>\n",
       "      <td>женат / замужем</td>\n",
       "      <td>0</td>\n",
       "      <td>F</td>\n",
       "      <td>сотрудник</td>\n",
       "      <td>0</td>\n",
       "      <td>77069.234271</td>\n",
       "      <td>покупка коммерческой недвижимости</td>\n",
       "    </tr>\n",
       "    <tr>\n",
       "      <th>12</th>\n",
       "      <td>0</td>\n",
       "      <td>NaN</td>\n",
       "      <td>65</td>\n",
       "      <td>среднее</td>\n",
       "      <td>1</td>\n",
       "      <td>гражданский брак</td>\n",
       "      <td>1</td>\n",
       "      <td>M</td>\n",
       "      <td>пенсионер</td>\n",
       "      <td>0</td>\n",
       "      <td>NaN</td>\n",
       "      <td>сыграть свадьбу</td>\n",
       "    </tr>\n",
       "    <tr>\n",
       "      <th>13</th>\n",
       "      <td>0</td>\n",
       "      <td>-1846.641941</td>\n",
       "      <td>54</td>\n",
       "      <td>неоконченное высшее</td>\n",
       "      <td>2</td>\n",
       "      <td>женат / замужем</td>\n",
       "      <td>0</td>\n",
       "      <td>F</td>\n",
       "      <td>сотрудник</td>\n",
       "      <td>0</td>\n",
       "      <td>130458.228857</td>\n",
       "      <td>приобретение автомобиля</td>\n",
       "    </tr>\n",
       "    <tr>\n",
       "      <th>14</th>\n",
       "      <td>0</td>\n",
       "      <td>-1844.956182</td>\n",
       "      <td>56</td>\n",
       "      <td>высшее</td>\n",
       "      <td>0</td>\n",
       "      <td>гражданский брак</td>\n",
       "      <td>1</td>\n",
       "      <td>F</td>\n",
       "      <td>компаньон</td>\n",
       "      <td>1</td>\n",
       "      <td>165127.911772</td>\n",
       "      <td>покупка жилой недвижимости</td>\n",
       "    </tr>\n",
       "    <tr>\n",
       "      <th>15</th>\n",
       "      <td>1</td>\n",
       "      <td>-972.364419</td>\n",
       "      <td>26</td>\n",
       "      <td>среднее</td>\n",
       "      <td>1</td>\n",
       "      <td>женат / замужем</td>\n",
       "      <td>0</td>\n",
       "      <td>F</td>\n",
       "      <td>сотрудник</td>\n",
       "      <td>0</td>\n",
       "      <td>116820.904450</td>\n",
       "      <td>строительство собственной недвижимости</td>\n",
       "    </tr>\n",
       "    <tr>\n",
       "      <th>16</th>\n",
       "      <td>0</td>\n",
       "      <td>-1719.934226</td>\n",
       "      <td>35</td>\n",
       "      <td>среднее</td>\n",
       "      <td>1</td>\n",
       "      <td>женат / замужем</td>\n",
       "      <td>0</td>\n",
       "      <td>F</td>\n",
       "      <td>сотрудник</td>\n",
       "      <td>0</td>\n",
       "      <td>289202.704229</td>\n",
       "      <td>недвижимость</td>\n",
       "    </tr>\n",
       "    <tr>\n",
       "      <th>17</th>\n",
       "      <td>0</td>\n",
       "      <td>-2369.999720</td>\n",
       "      <td>33</td>\n",
       "      <td>высшее</td>\n",
       "      <td>0</td>\n",
       "      <td>гражданский брак</td>\n",
       "      <td>1</td>\n",
       "      <td>M</td>\n",
       "      <td>сотрудник</td>\n",
       "      <td>0</td>\n",
       "      <td>90410.586745</td>\n",
       "      <td>строительство недвижимости</td>\n",
       "    </tr>\n",
       "    <tr>\n",
       "      <th>18</th>\n",
       "      <td>0</td>\n",
       "      <td>400281.136913</td>\n",
       "      <td>53</td>\n",
       "      <td>среднее</td>\n",
       "      <td>1</td>\n",
       "      <td>вдовец / вдова</td>\n",
       "      <td>2</td>\n",
       "      <td>F</td>\n",
       "      <td>пенсионер</td>\n",
       "      <td>0</td>\n",
       "      <td>56823.777243</td>\n",
       "      <td>на покупку подержанного автомобиля</td>\n",
       "    </tr>\n",
       "    <tr>\n",
       "      <th>19</th>\n",
       "      <td>0</td>\n",
       "      <td>-10038.818549</td>\n",
       "      <td>48</td>\n",
       "      <td>СРЕДНЕЕ</td>\n",
       "      <td>1</td>\n",
       "      <td>в разводе</td>\n",
       "      <td>3</td>\n",
       "      <td>F</td>\n",
       "      <td>сотрудник</td>\n",
       "      <td>0</td>\n",
       "      <td>242831.107982</td>\n",
       "      <td>на покупку своего автомобиля</td>\n",
       "    </tr>\n",
       "  </tbody>\n",
       "</table>\n",
       "</div>"
      ],
      "text/plain": [
       "    children  days_employed  dob_years            education  education_id  \\\n",
       "0          1   -8437.673028         42               высшее             0   \n",
       "1          1   -4024.803754         36              среднее             1   \n",
       "2          0   -5623.422610         33              Среднее             1   \n",
       "3          3   -4124.747207         32              среднее             1   \n",
       "4          0  340266.072047         53              среднее             1   \n",
       "5          0    -926.185831         27               высшее             0   \n",
       "6          0   -2879.202052         43               высшее             0   \n",
       "7          0    -152.779569         50              СРЕДНЕЕ             1   \n",
       "8          2   -6929.865299         35               ВЫСШЕЕ             0   \n",
       "9          0   -2188.756445         41              среднее             1   \n",
       "10         2   -4171.483647         36               высшее             0   \n",
       "11         0    -792.701887         40              среднее             1   \n",
       "12         0            NaN         65              среднее             1   \n",
       "13         0   -1846.641941         54  неоконченное высшее             2   \n",
       "14         0   -1844.956182         56               высшее             0   \n",
       "15         1    -972.364419         26              среднее             1   \n",
       "16         0   -1719.934226         35              среднее             1   \n",
       "17         0   -2369.999720         33               высшее             0   \n",
       "18         0  400281.136913         53              среднее             1   \n",
       "19         0  -10038.818549         48              СРЕДНЕЕ             1   \n",
       "\n",
       "       family_status  family_status_id gender income_type  debt  \\\n",
       "0    женат / замужем                 0      F   сотрудник     0   \n",
       "1    женат / замужем                 0      F   сотрудник     0   \n",
       "2    женат / замужем                 0      M   сотрудник     0   \n",
       "3    женат / замужем                 0      M   сотрудник     0   \n",
       "4   гражданский брак                 1      F   пенсионер     0   \n",
       "5   гражданский брак                 1      M   компаньон     0   \n",
       "6    женат / замужем                 0      F   компаньон     0   \n",
       "7    женат / замужем                 0      M   сотрудник     0   \n",
       "8   гражданский брак                 1      F   сотрудник     0   \n",
       "9    женат / замужем                 0      M   сотрудник     0   \n",
       "10   женат / замужем                 0      M   компаньон     0   \n",
       "11   женат / замужем                 0      F   сотрудник     0   \n",
       "12  гражданский брак                 1      M   пенсионер     0   \n",
       "13   женат / замужем                 0      F   сотрудник     0   \n",
       "14  гражданский брак                 1      F   компаньон     1   \n",
       "15   женат / замужем                 0      F   сотрудник     0   \n",
       "16   женат / замужем                 0      F   сотрудник     0   \n",
       "17  гражданский брак                 1      M   сотрудник     0   \n",
       "18    вдовец / вдова                 2      F   пенсионер     0   \n",
       "19         в разводе                 3      F   сотрудник     0   \n",
       "\n",
       "     total_income                                 purpose  \n",
       "0   253875.639453                           покупка жилья  \n",
       "1   112080.014102                 приобретение автомобиля  \n",
       "2   145885.952297                           покупка жилья  \n",
       "3   267628.550329              дополнительное образование  \n",
       "4   158616.077870                         сыграть свадьбу  \n",
       "5   255763.565419                           покупка жилья  \n",
       "6   240525.971920                       операции с жильем  \n",
       "7   135823.934197                             образование  \n",
       "8    95856.832424                   на проведение свадьбы  \n",
       "9   144425.938277                 покупка жилья для семьи  \n",
       "10  113943.491460                    покупка недвижимости  \n",
       "11   77069.234271       покупка коммерческой недвижимости  \n",
       "12            NaN                         сыграть свадьбу  \n",
       "13  130458.228857                 приобретение автомобиля  \n",
       "14  165127.911772              покупка жилой недвижимости  \n",
       "15  116820.904450  строительство собственной недвижимости  \n",
       "16  289202.704229                            недвижимость  \n",
       "17   90410.586745              строительство недвижимости  \n",
       "18   56823.777243      на покупку подержанного автомобиля  \n",
       "19  242831.107982            на покупку своего автомобиля  "
      ]
     },
     "execution_count": 2,
     "metadata": {},
     "output_type": "execute_result"
    }
   ],
   "source": [
    "data.head(20)"
   ]
  },
  {
   "cell_type": "markdown",
   "id": "204e20f8",
   "metadata": {
    "deletable": false,
    "editable": false,
    "id": "1c12e233"
   },
   "source": [
    "**Задание 3. Выведите основную информацию о датафрейме с помощью метода `info()`.**"
   ]
  },
  {
   "cell_type": "code",
   "execution_count": 3,
   "id": "52f9ac70",
   "metadata": {
    "deletable": false,
    "id": "2b757bca",
    "outputId": "15376089-8dad-46c9-b520-c05248d43158"
   },
   "outputs": [
    {
     "name": "stdout",
     "output_type": "stream",
     "text": [
      "<class 'pandas.core.frame.DataFrame'>\n",
      "RangeIndex: 21525 entries, 0 to 21524\n",
      "Data columns (total 12 columns):\n",
      " #   Column            Non-Null Count  Dtype  \n",
      "---  ------            --------------  -----  \n",
      " 0   children          21525 non-null  int64  \n",
      " 1   days_employed     19351 non-null  float64\n",
      " 2   dob_years         21525 non-null  int64  \n",
      " 3   education         21525 non-null  object \n",
      " 4   education_id      21525 non-null  int64  \n",
      " 5   family_status     21525 non-null  object \n",
      " 6   family_status_id  21525 non-null  int64  \n",
      " 7   gender            21525 non-null  object \n",
      " 8   income_type       21525 non-null  object \n",
      " 9   debt              21525 non-null  int64  \n",
      " 10  total_income      19351 non-null  float64\n",
      " 11  purpose           21525 non-null  object \n",
      "dtypes: float64(2), int64(5), object(5)\n",
      "memory usage: 2.0+ MB\n"
     ]
    }
   ],
   "source": [
    "data.info()"
   ]
  },
  {
   "cell_type": "markdown",
   "id": "10f82292",
   "metadata": {
    "deletable": false,
    "editable": false,
    "id": "333ec665"
   },
   "source": [
    "## Предобработка данных"
   ]
  },
  {
   "cell_type": "markdown",
   "id": "47882225",
   "metadata": {
    "deletable": false,
    "editable": false,
    "id": "02d92d53"
   },
   "source": [
    "### Удаление пропусков"
   ]
  },
  {
   "cell_type": "markdown",
   "id": "a24c7662",
   "metadata": {
    "deletable": false,
    "editable": false,
    "id": "cd84967c"
   },
   "source": [
    "**Задание 4. Выведите количество пропущенных значений для каждого столбца. Используйте комбинацию двух методов.**"
   ]
  },
  {
   "cell_type": "code",
   "execution_count": 4,
   "id": "2eb94295",
   "metadata": {
    "deletable": false,
    "id": "7f9b2309",
    "outputId": "81f4d817-781c-465c-ed15-91ce4446810d"
   },
   "outputs": [
    {
     "data": {
      "text/plain": [
       "children               0\n",
       "days_employed       2174\n",
       "dob_years              0\n",
       "education              0\n",
       "education_id           0\n",
       "family_status          0\n",
       "family_status_id       0\n",
       "gender                 0\n",
       "income_type            0\n",
       "debt                   0\n",
       "total_income        2174\n",
       "purpose                0\n",
       "dtype: int64"
      ]
     },
     "execution_count": 4,
     "metadata": {},
     "output_type": "execute_result"
    }
   ],
   "source": [
    "data.isna().sum()"
   ]
  },
  {
   "cell_type": "markdown",
   "id": "241a4408",
   "metadata": {
    "deletable": false,
    "editable": false,
    "id": "db86e27b"
   },
   "source": [
    "**Задание 5. В двух столбцах есть пропущенные значения. Один из них — `days_employed`. Пропуски в этом столбце вы обработаете на следующем этапе. Другой столбец с пропущенными значениями — `total_income` — хранит данные о доходах. На сумму дохода сильнее всего влияет тип занятости, поэтому заполнить пропуски в этом столбце нужно медианным значением по каждому типу из столбца `income_type`. Например, у человека с типом занятости `сотрудник` пропуск в столбце `total_income` должен быть заполнен медианным доходом среди всех записей с тем же типом.**"
   ]
  },
  {
   "cell_type": "code",
   "execution_count": 5,
   "id": "bb8d56aa",
   "metadata": {
    "deletable": false,
    "id": "42006a93"
   },
   "outputs": [],
   "source": [
    "for t in data['income_type'].unique():\n",
    "    data.loc[(data['income_type'] == t) & (data['total_income'].isna()), 'total_income'] = \\\n",
    "    data.loc[(data['income_type'] == t), 'total_income'].median()"
   ]
  },
  {
   "cell_type": "markdown",
   "id": "8fd8a7fa",
   "metadata": {
    "deletable": false,
    "editable": false,
    "id": "89da5ece"
   },
   "source": [
    "### Обработка аномальных значений"
   ]
  },
  {
   "cell_type": "markdown",
   "id": "ad03d187",
   "metadata": {
    "deletable": false,
    "editable": false,
    "id": "57964554"
   },
   "source": [
    "**Задание 6. В данных могут встречаться артефакты (аномалии) — значения, которые не отражают действительность и появились по какой-то ошибке. Таким артефактом будет отрицательное количество дней трудового стажа в столбце `days_employed`. Для реальных данных это нормально. Обработайте значения в этом столбце: замените все отрицательные значения положительными с помощью метода `abs()`.**"
   ]
  },
  {
   "cell_type": "code",
   "execution_count": 6,
   "id": "44172115",
   "metadata": {
    "deletable": false,
    "id": "f6f055bf"
   },
   "outputs": [],
   "source": [
    "data['days_employed'] = data['days_employed'].abs()"
   ]
  },
  {
   "cell_type": "markdown",
   "id": "a45b2b70",
   "metadata": {
    "deletable": false,
    "editable": false,
    "id": "6107dd2f"
   },
   "source": [
    "**Задание 7. Для каждого типа занятости выведите медианное значение трудового стажа `days_employed` в днях.**"
   ]
  },
  {
   "cell_type": "code",
   "execution_count": 7,
   "id": "1756695d",
   "metadata": {
    "deletable": false,
    "id": "85a5faf6",
    "outputId": "801ef80e-522b-4668-f34e-565af7432bcf"
   },
   "outputs": [
    {
     "data": {
      "text/plain": [
       "income_type\n",
       "безработный        366413.652744\n",
       "в декрете            3296.759962\n",
       "госслужащий          2689.368353\n",
       "компаньон            1547.382223\n",
       "пенсионер          365213.306266\n",
       "предприниматель       520.848083\n",
       "сотрудник            1574.202821\n",
       "студент               578.751554\n",
       "Name: days_employed, dtype: float64"
      ]
     },
     "execution_count": 7,
     "metadata": {},
     "output_type": "execute_result"
    }
   ],
   "source": [
    "data.groupby('income_type')['days_employed'].agg('median')"
   ]
  },
  {
   "cell_type": "markdown",
   "id": "7e8cee56",
   "metadata": {
    "deletable": false,
    "editable": false,
    "id": "38d1a030"
   },
   "source": [
    "У двух типов (безработные и пенсионеры) получатся аномально большие значения. Исправить такие значения сложно, поэтому оставьте их как есть. Тем более этот столбец не понадобится вам для исследования."
   ]
  },
  {
   "cell_type": "markdown",
   "id": "6d60f37d",
   "metadata": {
    "deletable": false,
    "editable": false,
    "id": "d8a9f147"
   },
   "source": [
    "**Задание 8. Выведите перечень уникальных значений столбца `children`.**"
   ]
  },
  {
   "cell_type": "code",
   "execution_count": 8,
   "id": "7971be96",
   "metadata": {
    "deletable": false,
    "id": "ef5056eb",
    "outputId": "6975b15c-7f95-4697-d16d-a0c79b657b03"
   },
   "outputs": [
    {
     "data": {
      "text/plain": [
       "array([ 1,  0,  3,  2, -1,  4, 20,  5])"
      ]
     },
     "execution_count": 8,
     "metadata": {},
     "output_type": "execute_result"
    }
   ],
   "source": [
    "data['children'].unique()"
   ]
  },
  {
   "cell_type": "markdown",
   "id": "fcfa2b19",
   "metadata": {
    "deletable": false,
    "editable": false,
    "id": "40b9ebf2"
   },
   "source": [
    "**Задание 9. В столбце `children` есть два аномальных значения. Удалите строки, в которых встречаются такие аномальные значения из датафрейма `data`.**"
   ]
  },
  {
   "cell_type": "code",
   "execution_count": 9,
   "id": "f2293739",
   "metadata": {
    "deletable": false,
    "id": "3ff9801d"
   },
   "outputs": [],
   "source": [
    "data = data[(data['children'] != -1) & (data['children'] != 20)]"
   ]
  },
  {
   "cell_type": "markdown",
   "id": "a59530b7",
   "metadata": {
    "deletable": false,
    "editable": false,
    "id": "bbc4d0ce"
   },
   "source": [
    "**Задание 10. Ещё раз выведите перечень уникальных значений столбца `children`, чтобы убедиться, что артефакты удалены.**"
   ]
  },
  {
   "cell_type": "code",
   "execution_count": 10,
   "id": "5be74a33",
   "metadata": {
    "deletable": false,
    "id": "ad4fa8b7",
    "outputId": "b2097101-d49d-44d9-901b-32a65c9463d1"
   },
   "outputs": [
    {
     "data": {
      "text/plain": [
       "array([1, 0, 3, 2, 4, 5])"
      ]
     },
     "execution_count": 10,
     "metadata": {},
     "output_type": "execute_result"
    }
   ],
   "source": [
    "data['children'].unique()"
   ]
  },
  {
   "cell_type": "markdown",
   "id": "d0e52d14",
   "metadata": {
    "deletable": false,
    "editable": false,
    "id": "75440b63"
   },
   "source": [
    "### Удаление пропусков (продолжение)"
   ]
  },
  {
   "cell_type": "markdown",
   "id": "3aae6012",
   "metadata": {
    "deletable": false,
    "editable": false,
    "id": "f4ea573f"
   },
   "source": [
    "**Задание 11. Заполните пропуски в столбце `days_employed` медианными значениями по каждого типа занятости `income_type`.**"
   ]
  },
  {
   "cell_type": "code",
   "execution_count": 11,
   "id": "98141e6d",
   "metadata": {
    "deletable": false,
    "id": "af6b1a7e"
   },
   "outputs": [],
   "source": [
    "for t in data['income_type'].unique():\n",
    "    data.loc[(data['income_type'] == t) & (data['days_employed'].isna()), 'days_employed'] = \\\n",
    "    data.loc[(data['income_type'] == t), 'days_employed'].median()"
   ]
  },
  {
   "cell_type": "markdown",
   "id": "77e8e776",
   "metadata": {
    "deletable": false,
    "editable": false,
    "id": "2753f40d"
   },
   "source": [
    "**Задание 12. Убедитесь, что все пропуски заполнены. Проверьте себя и ещё раз выведите количество пропущенных значений для каждого столбца с помощью двух методов.**"
   ]
  },
  {
   "cell_type": "code",
   "execution_count": 12,
   "id": "3a593e33",
   "metadata": {
    "deletable": false,
    "id": "55f78bc2",
    "outputId": "8da1e4e1-358e-4e87-98c9-f261bce0a7b2"
   },
   "outputs": [
    {
     "data": {
      "text/plain": [
       "children            0\n",
       "days_employed       0\n",
       "dob_years           0\n",
       "education           0\n",
       "education_id        0\n",
       "family_status       0\n",
       "family_status_id    0\n",
       "gender              0\n",
       "income_type         0\n",
       "debt                0\n",
       "total_income        0\n",
       "purpose             0\n",
       "dtype: int64"
      ]
     },
     "execution_count": 12,
     "metadata": {},
     "output_type": "execute_result"
    }
   ],
   "source": [
    "data.isna().sum()"
   ]
  },
  {
   "cell_type": "markdown",
   "id": "85b8edc1",
   "metadata": {
    "deletable": false,
    "editable": false,
    "id": "ddc81e43"
   },
   "source": [
    "### Изменение типов данных"
   ]
  },
  {
   "cell_type": "markdown",
   "id": "b837ac0d",
   "metadata": {
    "deletable": false,
    "editable": false,
    "id": "42d19d24"
   },
   "source": [
    "**Задание 13. Замените вещественный тип данных в столбце `total_income` на целочисленный с помощью метода `astype()`.**"
   ]
  },
  {
   "cell_type": "code",
   "execution_count": 13,
   "id": "47877b63",
   "metadata": {
    "deletable": false,
    "id": "920b65ad"
   },
   "outputs": [],
   "source": [
    "data['total_income'] = data['total_income'].astype(int)"
   ]
  },
  {
   "cell_type": "markdown",
   "id": "e6d49338",
   "metadata": {
    "deletable": false,
    "editable": false,
    "id": "80c420ba"
   },
   "source": [
    "### Обработка дубликатов"
   ]
  },
  {
   "cell_type": "markdown",
   "id": "85965852",
   "metadata": {
    "deletable": false,
    "editable": false
   },
   "source": [
    "**Задание 14. Обработайте неявные дубликаты в столбце `education`. В этом столбце есть одни и те же значения, но записанные по-разному: с использованием заглавных и строчных букв. Приведите их к нижнему регистру. Проверьте остальные столбцы.**"
   ]
  },
  {
   "cell_type": "code",
   "execution_count": 14,
   "id": "69aae0f2",
   "metadata": {
    "deletable": false
   },
   "outputs": [],
   "source": [
    "data['education'] = data['education'].str.lower()"
   ]
  },
  {
   "cell_type": "markdown",
   "id": "5ad61240",
   "metadata": {
    "deletable": false,
    "editable": false,
    "id": "dc587695"
   },
   "source": [
    "**Задание 15. Выведите на экран количество строк-дубликатов в данных. Если такие строки присутствуют, удалите их.**"
   ]
  },
  {
   "cell_type": "code",
   "execution_count": 15,
   "id": "d294bcbf",
   "metadata": {
    "deletable": false,
    "id": "3ee445e4",
    "outputId": "9684deba-1934-42d1-99e1-cda61740f822"
   },
   "outputs": [
    {
     "data": {
      "text/plain": [
       "71"
      ]
     },
     "execution_count": 15,
     "metadata": {},
     "output_type": "execute_result"
    }
   ],
   "source": [
    "data.duplicated().sum()"
   ]
  },
  {
   "cell_type": "code",
   "execution_count": 16,
   "id": "19ff2fef",
   "metadata": {
    "deletable": false,
    "id": "8575fe05"
   },
   "outputs": [],
   "source": [
    "data = data.drop_duplicates()"
   ]
  },
  {
   "cell_type": "markdown",
   "id": "202b910a",
   "metadata": {
    "deletable": false,
    "editable": false,
    "id": "9904cf55"
   },
   "source": [
    "### Категоризация данных"
   ]
  },
  {
   "cell_type": "markdown",
   "id": "f7e4bc66",
   "metadata": {
    "deletable": false,
    "editable": false,
    "id": "72fcc8a2"
   },
   "source": [
    "**Задание 16. На основании диапазонов, указанных ниже, создайте в датафрейме `data` столбец `total_income_category` с категориями:**\n",
    "\n",
    "- 0–30000 — `'E'`;\n",
    "- 30001–50000 — `'D'`;\n",
    "- 50001–200000 — `'C'`;\n",
    "- 200001–1000000 — `'B'`;\n",
    "- 1000001 и выше — `'A'`.\n",
    "\n",
    "\n",
    "**Например, кредитополучателю с доходом 25000 нужно назначить категорию `'E'`, а клиенту, получающему 235000, — `'B'`. Используйте собственную функцию с именем `categorize_income()` и метод `apply()`.**"
   ]
  },
  {
   "cell_type": "code",
   "execution_count": 17,
   "id": "aee21a64",
   "metadata": {
    "deletable": false,
    "id": "e1771346"
   },
   "outputs": [],
   "source": [
    "def categorize_income(income):\n",
    "    try:\n",
    "        if 0 <= income <= 30000:\n",
    "            return 'E'\n",
    "        elif 30001 <= income <= 50000:\n",
    "            return 'D'\n",
    "        elif 50001 <= income <= 200000:\n",
    "            return 'C'\n",
    "        elif 200001 <= income <= 1000000:\n",
    "            return 'B'\n",
    "        elif income >= 1000001:\n",
    "            return 'A'\n",
    "    except:\n",
    "        pass"
   ]
  },
  {
   "cell_type": "code",
   "execution_count": 18,
   "id": "543962b3",
   "metadata": {
    "deletable": false,
    "id": "d5f3586d"
   },
   "outputs": [],
   "source": [
    "data['total_income_category'] = data['total_income'].apply(categorize_income)"
   ]
  },
  {
   "cell_type": "markdown",
   "id": "8c01b26d",
   "metadata": {
    "deletable": false,
    "editable": false,
    "id": "dde49b5c"
   },
   "source": [
    "**Задание 17. Выведите на экран перечень уникальных целей взятия кредита из столбца `purpose`.**"
   ]
  },
  {
   "cell_type": "code",
   "execution_count": 19,
   "id": "5c218206",
   "metadata": {
    "deletable": false,
    "id": "f67ce9b3",
    "outputId": "673c12d9-7d7e-4ae0-9812-c622c89dd244"
   },
   "outputs": [
    {
     "data": {
      "text/plain": [
       "array(['покупка жилья', 'приобретение автомобиля',\n",
       "       'дополнительное образование', 'сыграть свадьбу',\n",
       "       'операции с жильем', 'образование', 'на проведение свадьбы',\n",
       "       'покупка жилья для семьи', 'покупка недвижимости',\n",
       "       'покупка коммерческой недвижимости', 'покупка жилой недвижимости',\n",
       "       'строительство собственной недвижимости', 'недвижимость',\n",
       "       'строительство недвижимости', 'на покупку подержанного автомобиля',\n",
       "       'на покупку своего автомобиля',\n",
       "       'операции с коммерческой недвижимостью',\n",
       "       'строительство жилой недвижимости', 'жилье',\n",
       "       'операции со своей недвижимостью', 'автомобили',\n",
       "       'заняться образованием', 'сделка с подержанным автомобилем',\n",
       "       'получение образования', 'автомобиль', 'свадьба',\n",
       "       'получение дополнительного образования', 'покупка своего жилья',\n",
       "       'операции с недвижимостью', 'получение высшего образования',\n",
       "       'свой автомобиль', 'сделка с автомобилем',\n",
       "       'профильное образование', 'высшее образование',\n",
       "       'покупка жилья для сдачи', 'на покупку автомобиля', 'ремонт жилью',\n",
       "       'заняться высшим образованием'], dtype=object)"
      ]
     },
     "execution_count": 19,
     "metadata": {},
     "output_type": "execute_result"
    }
   ],
   "source": [
    "data['purpose'].unique()"
   ]
  },
  {
   "cell_type": "markdown",
   "id": "8cb1257b",
   "metadata": {
    "deletable": false,
    "editable": false,
    "id": "85d0aef0"
   },
   "source": [
    "**Задание 18. Создайте функцию, которая на основании данных из столбца `purpose` сформирует новый столбец `purpose_category`, в который войдут следующие категории:**\n",
    "\n",
    "- `'операции с автомобилем'`,\n",
    "- `'операции с недвижимостью'`,\n",
    "- `'проведение свадьбы'`,\n",
    "- `'получение образования'`.\n",
    "\n",
    "**Например, если в столбце `purpose` находится подстрока `'на покупку автомобиля'`, то в столбце `purpose_category` должна появиться строка `'операции с автомобилем'`.**\n",
    "\n",
    "**Используйте собственную функцию с именем `categorize_purpose()` и метод `apply()`. Изучите данные в столбце `purpose` и определите, какие подстроки помогут вам правильно определить категорию.**"
   ]
  },
  {
   "cell_type": "code",
   "execution_count": 20,
   "id": "fe6f23cf",
   "metadata": {
    "deletable": false,
    "id": "e149fab4"
   },
   "outputs": [],
   "source": [
    "def categorize_purpose(row):\n",
    "    try:\n",
    "        if 'автом' in row:\n",
    "            return 'операции с автомобилем'\n",
    "        elif 'жил' in row or 'недвиж' in row:\n",
    "            return 'операции с недвижимостью'\n",
    "        elif 'свад' in row:\n",
    "            return 'проведение свадьбы'\n",
    "        elif 'образов' in row:\n",
    "            return 'получение образования'\n",
    "    except:\n",
    "        return 'нет категории'"
   ]
  },
  {
   "cell_type": "code",
   "execution_count": 21,
   "id": "e4a99daa",
   "metadata": {
    "deletable": false,
    "id": "bf36e69b"
   },
   "outputs": [],
   "source": [
    "data['purpose_category'] = data['purpose'].apply(categorize_purpose)"
   ]
  },
  {
   "cell_type": "markdown",
   "id": "b58e982a",
   "metadata": {
    "deletable": false,
    "editable": false,
    "id": "09b242bf"
   },
   "source": [
    "### Шаг 3. Исследуйте данные и ответьте на вопросы"
   ]
  },
  {
   "cell_type": "markdown",
   "id": "8e5bd10e",
   "metadata": {
    "deletable": false,
    "editable": false,
    "id": "c5d66278"
   },
   "source": [
    "#### 3.1 Есть ли зависимость между количеством детей и возвратом кредита в срок?"
   ]
  },
  {
   "cell_type": "markdown",
   "id": "2ae0ce40",
   "metadata": {},
   "source": [
    "1) Посчитаем общее количество кредитополучателей, отсортированное по количеству детей \n",
    "2) Посчитаем, сколько всего должников, в зависимости от количества детей\n",
    "3) Посчитаем количество должников в процентах от всех кредитополучателей\n",
    "4) Для удобства построим таблицу"
   ]
  },
  {
   "cell_type": "code",
   "execution_count": 22,
   "id": "21f7bbd0",
   "metadata": {
    "deletable": false,
    "id": "2cacfc4a"
   },
   "outputs": [
    {
     "data": {
      "text/html": [
       "<div>\n",
       "<style scoped>\n",
       "    .dataframe tbody tr th:only-of-type {\n",
       "        vertical-align: middle;\n",
       "    }\n",
       "\n",
       "    .dataframe tbody tr th {\n",
       "        vertical-align: top;\n",
       "    }\n",
       "\n",
       "    .dataframe thead th {\n",
       "        text-align: right;\n",
       "    }\n",
       "</style>\n",
       "<table border=\"1\" class=\"dataframe\">\n",
       "  <thead>\n",
       "    <tr style=\"text-align: right;\">\n",
       "      <th></th>\n",
       "      <th>Всего кредитополучателей</th>\n",
       "      <th>Всего должников</th>\n",
       "      <th>Доля должников</th>\n",
       "    </tr>\n",
       "    <tr>\n",
       "      <th>children</th>\n",
       "      <th></th>\n",
       "      <th></th>\n",
       "      <th></th>\n",
       "    </tr>\n",
       "  </thead>\n",
       "  <tbody>\n",
       "    <tr>\n",
       "      <th>0</th>\n",
       "      <td>14091</td>\n",
       "      <td>1063</td>\n",
       "      <td>0.075438</td>\n",
       "    </tr>\n",
       "    <tr>\n",
       "      <th>1</th>\n",
       "      <td>4808</td>\n",
       "      <td>444</td>\n",
       "      <td>0.092346</td>\n",
       "    </tr>\n",
       "    <tr>\n",
       "      <th>2</th>\n",
       "      <td>2052</td>\n",
       "      <td>194</td>\n",
       "      <td>0.094542</td>\n",
       "    </tr>\n",
       "    <tr>\n",
       "      <th>3</th>\n",
       "      <td>330</td>\n",
       "      <td>27</td>\n",
       "      <td>0.081818</td>\n",
       "    </tr>\n",
       "    <tr>\n",
       "      <th>4</th>\n",
       "      <td>41</td>\n",
       "      <td>4</td>\n",
       "      <td>0.097561</td>\n",
       "    </tr>\n",
       "    <tr>\n",
       "      <th>5</th>\n",
       "      <td>9</td>\n",
       "      <td>0</td>\n",
       "      <td>0.000000</td>\n",
       "    </tr>\n",
       "  </tbody>\n",
       "</table>\n",
       "</div>"
      ],
      "text/plain": [
       "          Всего кредитополучателей  Всего должников  Доля должников\n",
       "children                                                           \n",
       "0                            14091             1063        0.075438\n",
       "1                             4808              444        0.092346\n",
       "2                             2052              194        0.094542\n",
       "3                              330               27        0.081818\n",
       "4                               41                4        0.097561\n",
       "5                                9                0        0.000000"
      ]
     },
     "execution_count": 22,
     "metadata": {},
     "output_type": "execute_result"
    }
   ],
   "source": [
    "full_amount = data.groupby('children')['debt'].count()   #Считаем общее количество кредитополучателей\n",
    "debtors = data.groupby('children')['debt'].sum()   #Считаем количество должников\n",
    "percent_of_debtors = debtors / full_amount   #Считаем процет должников\n",
    "\n",
    "# Создаём словарь из Seires\n",
    "dictonary = {'Всего кредитополучателей': full_amount, 'Всего должников': debtors, 'Доля должников': percent_of_debtors}\n",
    "\n",
    "dependence = pd.concat(dictonary, axis=1) # Превращаем словарь в DataFrame\n",
    "\n",
    "dependence"
   ]
  },
  {
   "cell_type": "markdown",
   "id": "8b24ae9c",
   "metadata": {
    "deletable": false,
    "id": "3a6b99ec"
   },
   "source": [
    "**Вывод:** По результатам таблицы мы видем, что очень сильно выделяются семьи с 5 детьми, но их учитывать будет неправильно, т.к. выборка слишком маленькая. Так же маленькая выборка у семей с 4 и 3 детьми. А вот у семей без детей и у семей с 1 или 2 детьми выборка достаточно большая. Из них довольно сильно выделяются семьи без детей. Среди них почти на 2% меньше должников."
   ]
  },
  {
   "cell_type": "markdown",
   "id": "78aa7874",
   "metadata": {
    "deletable": false,
    "editable": false,
    "id": "97be82ca"
   },
   "source": [
    "#### 3.2 Есть ли зависимость между семейным положением и возвратом кредита в срок?"
   ]
  },
  {
   "cell_type": "markdown",
   "id": "a4ba5011",
   "metadata": {},
   "source": [
    "1) Посчитаем общее количество кредитополучателей, отсортированное по семейному положению\n",
    "2) Посчитаем, сколько всего должников, в зависимости от семейного положения\n",
    "3) Посчитаем количество должников в процентах от всех кредитополучателей\n",
    "4) Для удобства построим таблицу"
   ]
  },
  {
   "cell_type": "code",
   "execution_count": 23,
   "id": "90b14829",
   "metadata": {
    "deletable": false,
    "id": "dc3f7ee8"
   },
   "outputs": [
    {
     "data": {
      "text/html": [
       "<div>\n",
       "<style scoped>\n",
       "    .dataframe tbody tr th:only-of-type {\n",
       "        vertical-align: middle;\n",
       "    }\n",
       "\n",
       "    .dataframe tbody tr th {\n",
       "        vertical-align: top;\n",
       "    }\n",
       "\n",
       "    .dataframe thead th {\n",
       "        text-align: right;\n",
       "    }\n",
       "</style>\n",
       "<table border=\"1\" class=\"dataframe\">\n",
       "  <thead>\n",
       "    <tr style=\"text-align: right;\">\n",
       "      <th></th>\n",
       "      <th>Всего кредитополучателей</th>\n",
       "      <th>Всего должников</th>\n",
       "      <th>Доля должников</th>\n",
       "    </tr>\n",
       "    <tr>\n",
       "      <th>family_status</th>\n",
       "      <th></th>\n",
       "      <th></th>\n",
       "      <th></th>\n",
       "    </tr>\n",
       "  </thead>\n",
       "  <tbody>\n",
       "    <tr>\n",
       "      <th>Не женат / не замужем</th>\n",
       "      <td>2796</td>\n",
       "      <td>273</td>\n",
       "      <td>0.097639</td>\n",
       "    </tr>\n",
       "    <tr>\n",
       "      <th>в разводе</th>\n",
       "      <td>1189</td>\n",
       "      <td>84</td>\n",
       "      <td>0.070648</td>\n",
       "    </tr>\n",
       "    <tr>\n",
       "      <th>вдовец / вдова</th>\n",
       "      <td>951</td>\n",
       "      <td>63</td>\n",
       "      <td>0.066246</td>\n",
       "    </tr>\n",
       "    <tr>\n",
       "      <th>гражданский брак</th>\n",
       "      <td>4134</td>\n",
       "      <td>385</td>\n",
       "      <td>0.093130</td>\n",
       "    </tr>\n",
       "    <tr>\n",
       "      <th>женат / замужем</th>\n",
       "      <td>12261</td>\n",
       "      <td>927</td>\n",
       "      <td>0.075606</td>\n",
       "    </tr>\n",
       "  </tbody>\n",
       "</table>\n",
       "</div>"
      ],
      "text/plain": [
       "                       Всего кредитополучателей  Всего должников  \\\n",
       "family_status                                                      \n",
       "Не женат / не замужем                      2796              273   \n",
       "в разводе                                  1189               84   \n",
       "вдовец / вдова                              951               63   \n",
       "гражданский брак                           4134              385   \n",
       "женат / замужем                           12261              927   \n",
       "\n",
       "                       Доля должников  \n",
       "family_status                          \n",
       "Не женат / не замужем        0.097639  \n",
       "в разводе                    0.070648  \n",
       "вдовец / вдова               0.066246  \n",
       "гражданский брак             0.093130  \n",
       "женат / замужем              0.075606  "
      ]
     },
     "execution_count": 23,
     "metadata": {},
     "output_type": "execute_result"
    }
   ],
   "source": [
    "full_amount = data.groupby('family_status')['debt'].count()   #Считаем общее количество кредитополучателей\n",
    "debtors = data.groupby('family_status')['debt'].sum()   #Считаем количество должников\n",
    "percent_of_debtors = debtors / full_amount   #Считаем процет должников\n",
    "\n",
    "# Создаём словарь из Seires\n",
    "dictonary = {'Всего кредитополучателей': full_amount, 'Всего должников': debtors, 'Доля должников': percent_of_debtors}\n",
    "\n",
    "dependence = pd.concat(dictonary, axis=1) # Превращаем словарь в DataFrame\n",
    "\n",
    "dependence"
   ]
  },
  {
   "cell_type": "markdown",
   "id": "4f93838e",
   "metadata": {
    "deletable": false,
    "id": "1cef7837"
   },
   "source": [
    "**Вывод:** По результатам таблицы мы видим, что у всех групп достаточно большая выборка, то есть мы можем учитывать в исследованиях их все. Люди с семейным положением \"не женат/не замужем\" и \"гражданский брак\" имеют довольно большой процент должников, около 9,5%. В то же время, люди с семейным положением \"в разводе\", \"вдовец/вдова\" и \"женат/замужем\" имеют гораздо более низкий уровень должников, отличающийся примерно на 2%. При этом самый низкий процент у \"вдовец/ вдова\".  "
   ]
  },
  {
   "cell_type": "markdown",
   "id": "47b2d86b",
   "metadata": {
    "deletable": false,
    "editable": false,
    "id": "1e8b2fca"
   },
   "source": [
    "#### 3.3 Есть ли зависимость между уровнем дохода и возвратом кредита в срок?"
   ]
  },
  {
   "cell_type": "markdown",
   "id": "5b355643",
   "metadata": {},
   "source": [
    "1) Посчитаем общее количество кредитополучателей, отсортированное по категории общего дохода\n",
    "2) Посчитаем, сколько всего должников, в зависимости от категории общего дохода\n",
    "3) Посчитаем количество должников в процентах от всех кредитополучателей\n",
    "4) Для удобства построим таблицу"
   ]
  },
  {
   "cell_type": "code",
   "execution_count": 24,
   "id": "ba042013",
   "metadata": {
    "deletable": false,
    "id": "cd7e3720"
   },
   "outputs": [
    {
     "data": {
      "text/html": [
       "<div>\n",
       "<style scoped>\n",
       "    .dataframe tbody tr th:only-of-type {\n",
       "        vertical-align: middle;\n",
       "    }\n",
       "\n",
       "    .dataframe tbody tr th {\n",
       "        vertical-align: top;\n",
       "    }\n",
       "\n",
       "    .dataframe thead th {\n",
       "        text-align: right;\n",
       "    }\n",
       "</style>\n",
       "<table border=\"1\" class=\"dataframe\">\n",
       "  <thead>\n",
       "    <tr style=\"text-align: right;\">\n",
       "      <th></th>\n",
       "      <th>Всего кредитополучателей</th>\n",
       "      <th>Всего должников</th>\n",
       "      <th>Доля должников</th>\n",
       "    </tr>\n",
       "    <tr>\n",
       "      <th>total_income_category</th>\n",
       "      <th></th>\n",
       "      <th></th>\n",
       "      <th></th>\n",
       "    </tr>\n",
       "  </thead>\n",
       "  <tbody>\n",
       "    <tr>\n",
       "      <th>A</th>\n",
       "      <td>25</td>\n",
       "      <td>2</td>\n",
       "      <td>0.080000</td>\n",
       "    </tr>\n",
       "    <tr>\n",
       "      <th>B</th>\n",
       "      <td>5014</td>\n",
       "      <td>354</td>\n",
       "      <td>0.070602</td>\n",
       "    </tr>\n",
       "    <tr>\n",
       "      <th>C</th>\n",
       "      <td>15921</td>\n",
       "      <td>1353</td>\n",
       "      <td>0.084982</td>\n",
       "    </tr>\n",
       "    <tr>\n",
       "      <th>D</th>\n",
       "      <td>349</td>\n",
       "      <td>21</td>\n",
       "      <td>0.060172</td>\n",
       "    </tr>\n",
       "    <tr>\n",
       "      <th>E</th>\n",
       "      <td>22</td>\n",
       "      <td>2</td>\n",
       "      <td>0.090909</td>\n",
       "    </tr>\n",
       "  </tbody>\n",
       "</table>\n",
       "</div>"
      ],
      "text/plain": [
       "                       Всего кредитополучателей  Всего должников  \\\n",
       "total_income_category                                              \n",
       "A                                            25                2   \n",
       "B                                          5014              354   \n",
       "C                                         15921             1353   \n",
       "D                                           349               21   \n",
       "E                                            22                2   \n",
       "\n",
       "                       Доля должников  \n",
       "total_income_category                  \n",
       "A                            0.080000  \n",
       "B                            0.070602  \n",
       "C                            0.084982  \n",
       "D                            0.060172  \n",
       "E                            0.090909  "
      ]
     },
     "execution_count": 24,
     "metadata": {},
     "output_type": "execute_result"
    }
   ],
   "source": [
    "full_amount = data.groupby('total_income_category')['debt'].count()   #Считаем общее количество кредитополучателей\n",
    "debtors = data.groupby('total_income_category')['debt'].sum()   #Считаем количество должников\n",
    "percent_of_debtors = debtors / full_amount   #Считаем процет должников\n",
    "\n",
    "# Создаём словарь из Seires\n",
    "dictonary = {'Всего кредитополучателей': full_amount, 'Всего должников': debtors, 'Доля должников': percent_of_debtors}\n",
    "\n",
    "dependence = pd.concat(dictonary, axis=1) # Превращаем словарь в DataFrame\n",
    "\n",
    "dependence"
   ]
  },
  {
   "cell_type": "markdown",
   "id": "881806d6",
   "metadata": {
    "deletable": false,
    "id": "e8593def"
   },
   "source": [
    "**Вывод:** В данном случае, достаточно большая выборка у людей с доходом от 50000 до 200000 и у людей с доходом от 200000 до 1 млн. Среди этих двух групп, люди с доходом от 200000 до 1 млн. имеют меньший процент должников, чем люди с доходом от 50000 до 200000. Разница составляет около 1,5%."
   ]
  },
  {
   "cell_type": "markdown",
   "id": "14292739",
   "metadata": {
    "deletable": false,
    "editable": false,
    "id": "99ecbd1f"
   },
   "source": [
    "#### 3.4 Как разные цели кредита влияют на его возврат в срок?"
   ]
  },
  {
   "cell_type": "markdown",
   "id": "e26a3d40",
   "metadata": {},
   "source": [
    "1) Посчитаем общее количество кредитополучателей, отсортированное по цели кредита\n",
    "2) Посчитаем, сколько всего должников, в зависимости от цели кредита\n",
    "3) Посчитаем количество должников в процентах от всех кредитополучателей\n",
    "4) Для удобства построим таблицу"
   ]
  },
  {
   "cell_type": "code",
   "execution_count": 25,
   "id": "c9f20426",
   "metadata": {
    "deletable": false,
    "id": "2b687290"
   },
   "outputs": [
    {
     "data": {
      "text/html": [
       "<div>\n",
       "<style scoped>\n",
       "    .dataframe tbody tr th:only-of-type {\n",
       "        vertical-align: middle;\n",
       "    }\n",
       "\n",
       "    .dataframe tbody tr th {\n",
       "        vertical-align: top;\n",
       "    }\n",
       "\n",
       "    .dataframe thead th {\n",
       "        text-align: right;\n",
       "    }\n",
       "</style>\n",
       "<table border=\"1\" class=\"dataframe\">\n",
       "  <thead>\n",
       "    <tr style=\"text-align: right;\">\n",
       "      <th></th>\n",
       "      <th>Всего кредитополучателей</th>\n",
       "      <th>Всего должников</th>\n",
       "      <th>Доля должников</th>\n",
       "    </tr>\n",
       "    <tr>\n",
       "      <th>purpose_category</th>\n",
       "      <th></th>\n",
       "      <th></th>\n",
       "      <th></th>\n",
       "    </tr>\n",
       "  </thead>\n",
       "  <tbody>\n",
       "    <tr>\n",
       "      <th>операции с автомобилем</th>\n",
       "      <td>4279</td>\n",
       "      <td>400</td>\n",
       "      <td>0.093480</td>\n",
       "    </tr>\n",
       "    <tr>\n",
       "      <th>операции с недвижимостью</th>\n",
       "      <td>10751</td>\n",
       "      <td>780</td>\n",
       "      <td>0.072551</td>\n",
       "    </tr>\n",
       "    <tr>\n",
       "      <th>получение образования</th>\n",
       "      <td>3988</td>\n",
       "      <td>369</td>\n",
       "      <td>0.092528</td>\n",
       "    </tr>\n",
       "    <tr>\n",
       "      <th>проведение свадьбы</th>\n",
       "      <td>2313</td>\n",
       "      <td>183</td>\n",
       "      <td>0.079118</td>\n",
       "    </tr>\n",
       "  </tbody>\n",
       "</table>\n",
       "</div>"
      ],
      "text/plain": [
       "                          Всего кредитополучателей  Всего должников  \\\n",
       "purpose_category                                                      \n",
       "операции с автомобилем                        4279              400   \n",
       "операции с недвижимостью                     10751              780   \n",
       "получение образования                         3988              369   \n",
       "проведение свадьбы                            2313              183   \n",
       "\n",
       "                          Доля должников  \n",
       "purpose_category                          \n",
       "операции с автомобилем          0.093480  \n",
       "операции с недвижимостью        0.072551  \n",
       "получение образования           0.092528  \n",
       "проведение свадьбы              0.079118  "
      ]
     },
     "execution_count": 25,
     "metadata": {},
     "output_type": "execute_result"
    }
   ],
   "source": [
    "full_amount = data.groupby('purpose_category')['debt'].count()   #Считаем общее количество кредитополучателей\n",
    "debtors = data.groupby('purpose_category')['debt'].sum()   #Считаем количество должников\n",
    "percent_of_debtors = debtors / full_amount   #Считаем процет должников\n",
    "\n",
    "# Создаём словарь из Seires\n",
    "dictonary = {'Всего кредитополучателей': full_amount, 'Всего должников': debtors, 'Доля должников': percent_of_debtors}\n",
    "\n",
    "dependence = pd.concat(dictonary, axis=1) # Превращаем словарь в DataFrame\n",
    "\n",
    "dependence"
   ]
  },
  {
   "cell_type": "markdown",
   "id": "67f7f58e",
   "metadata": {
    "deletable": false,
    "id": "b4bb2ce6"
   },
   "source": [
    "**Вывод:** Здесь выборка достаточна большая у всех групп. Люди, которые берут кредит для операция с недвижимостью или для проведения свадьбы, чаще других возвращают кредиты. Разница составляет почти 2%."
   ]
  },
  {
   "cell_type": "markdown",
   "id": "779f9789",
   "metadata": {
    "deletable": false,
    "editable": false,
    "id": "09c3ac4c"
   },
   "source": [
    "#### 3.5 Приведите возможные причины появления пропусков в исходных данных."
   ]
  },
  {
   "cell_type": "markdown",
   "id": "7c798527",
   "metadata": {
    "deletable": false,
    "id": "9da2ceda"
   },
   "source": [
    "*Ответ:* Причинами появления пропусков в исходных данных могут быть: человеческий фактор, невозможность их получения или обработки, искажение или сокрытие информации, всевозможные поломки технического оборудования и др."
   ]
  },
  {
   "cell_type": "markdown",
   "id": "60c30d11",
   "metadata": {
    "deletable": false,
    "editable": false,
    "id": "7b0487d6"
   },
   "source": [
    "#### 3.6 Объясните, почему заполнить пропуски медианным значением — лучшее решение для количественных переменных."
   ]
  },
  {
   "cell_type": "markdown",
   "id": "7d1beb92",
   "metadata": {
    "deletable": false,
    "id": "7ecf2b8e"
   },
   "source": [
    "*Ответ:* Медианные значения имеют один большой плюс над просто средним значением - это то, что на медианные значения на влияют случайные выбросы или шум в данных. К тому же, если данные имеют нормальное распределение и их количество велико, то медиана примерно будет равняться среднему значению."
   ]
  },
  {
   "cell_type": "markdown",
   "id": "b60e2089",
   "metadata": {
    "deletable": false,
    "editable": false,
    "id": "6db5255a"
   },
   "source": [
    "### Шаг 4: общий вывод."
   ]
  },
  {
   "cell_type": "markdown",
   "id": "97905186",
   "metadata": {
    "deletable": false,
    "id": "bad65432"
   },
   "source": [
    "Напишите ваш общий вывод. Наша главная задача была проверить, как разная информация о кредитополучателях влияет на то, что они возвращают кредиты в срок. В результате мы выяснили, что:\n",
    "1) Среди семей, у которых нету детей, ниже уровент должников.    2) Люди с семейным положением не женат/не замужем и гражданский брак имеют довольно большой процент должников.   3) Банку предпочтетельней давать кредиты людям с доходом от 200000 до 1 млн.   4) Те, что берут кредиты для операций с недвижимостью или для свадьбы, реже других имеют задолженности."
   ]
  },
  {
   "cell_type": "markdown",
   "id": "580d267c",
   "metadata": {},
   "source": [
    "<div class=\"alert alert-success\">\n",
    "<b>Рубрика “Полезные ссылки”:\n",
    "✅</b> <br>\n",
    "\n",
    "<a href = \"https://coderlessons.com/tutorials/python-technologies/izuchai-siborna/siborn-kratkoe-rukovodstvo\"> Seaborn</a><br>\n",
    "<a href = \"https://habr.com/ru/post/502958/\"> Plotly</a><br>\n",
    "<a href = \"https://medium.com/@jetbootsmaker/%D0%BF%D0%BE%D0%B2%D1%8B%D1%88%D0%B0%D0%B5%D0%BC-%D0%BF%D1%80%D0%BE%D0%B4%D1%83%D0%BA%D1%82%D0%B8%D0%B2%D0%BD%D0%BE%D1%81%D1%82%D1%8C-%D0%BF%D1%80%D0%B8-%D1%80%D0%B0%D0%B1%D0%BE%D1%82%D0%B5-%D1%81-jupyter-notebook-81a1cab8bac1\"> Повышаем продуктивность при работе с Jupyter</a><br>\n",
    "<a href = \"https://www.kaggle.com/code/emstrakhov/lesson-1-eda-with-pandas/notebook\">EDA</a><br>\n",
    "<a href = \"https://towardsdatascience.com/exploratory-data-analysis-eda-visualization-using-pandas-ca5a04271607\"> EDA 2</a>\n",
    "</div>"
   ]
  }
 ],
 "metadata": {
  "ExecuteTimeLog": [
   {
    "duration": 644,
    "start_time": "2022-09-29T08:28:15.857Z"
   },
   {
    "duration": 26,
    "start_time": "2022-09-29T08:29:01.706Z"
   },
   {
    "duration": 437,
    "start_time": "2022-09-29T08:29:19.368Z"
   },
   {
    "duration": 21,
    "start_time": "2022-09-29T08:29:19.807Z"
   },
   {
    "duration": 15,
    "start_time": "2022-09-29T08:29:19.830Z"
   },
   {
    "duration": 9,
    "start_time": "2022-09-29T08:29:19.847Z"
   },
   {
    "duration": 46,
    "start_time": "2022-09-29T08:29:19.857Z"
   },
   {
    "duration": 4,
    "start_time": "2022-09-29T08:29:19.905Z"
   },
   {
    "duration": 34,
    "start_time": "2022-09-29T08:29:19.911Z"
   },
   {
    "duration": 18,
    "start_time": "2022-09-29T08:29:19.947Z"
   },
   {
    "duration": 26,
    "start_time": "2022-09-29T08:29:19.966Z"
   },
   {
    "duration": 34,
    "start_time": "2022-09-29T08:29:19.995Z"
   },
   {
    "duration": 48,
    "start_time": "2022-09-29T08:29:20.030Z"
   },
   {
    "duration": 17,
    "start_time": "2022-09-29T08:29:20.079Z"
   },
   {
    "duration": 18,
    "start_time": "2022-09-29T08:29:20.098Z"
   },
   {
    "duration": 35,
    "start_time": "2022-09-29T08:29:20.117Z"
   },
   {
    "duration": 30,
    "start_time": "2022-09-29T08:29:20.154Z"
   },
   {
    "duration": 26,
    "start_time": "2022-09-29T08:29:20.186Z"
   },
   {
    "duration": 4,
    "start_time": "2022-09-29T08:29:20.214Z"
   },
   {
    "duration": 31,
    "start_time": "2022-09-29T08:29:20.220Z"
   },
   {
    "duration": 24,
    "start_time": "2022-09-29T08:29:20.252Z"
   },
   {
    "duration": 7,
    "start_time": "2022-09-29T08:29:20.278Z"
   },
   {
    "duration": 53,
    "start_time": "2022-09-29T08:29:20.287Z"
   },
   {
    "duration": 35,
    "start_time": "2022-09-29T08:29:20.341Z"
   },
   {
    "duration": 19,
    "start_time": "2022-09-29T08:29:20.378Z"
   },
   {
    "duration": 23,
    "start_time": "2022-09-29T08:29:20.398Z"
   },
   {
    "duration": 21,
    "start_time": "2022-09-29T08:29:20.422Z"
   },
   {
    "duration": 6,
    "start_time": "2022-09-29T08:34:55.502Z"
   },
   {
    "duration": 71,
    "start_time": "2022-09-29T08:35:42.228Z"
   },
   {
    "duration": 8,
    "start_time": "2022-09-29T08:35:54.769Z"
   },
   {
    "duration": 129,
    "start_time": "2022-09-29T08:36:04.362Z"
   },
   {
    "duration": 6,
    "start_time": "2022-09-29T08:36:08.641Z"
   },
   {
    "duration": 6,
    "start_time": "2022-09-29T08:36:38.490Z"
   },
   {
    "duration": 4,
    "start_time": "2022-09-29T08:40:53.643Z"
   },
   {
    "duration": 6,
    "start_time": "2022-09-29T08:41:01.429Z"
   },
   {
    "duration": 5,
    "start_time": "2022-09-29T08:41:07.661Z"
   },
   {
    "duration": 7,
    "start_time": "2022-09-29T08:41:16.894Z"
   },
   {
    "duration": 485,
    "start_time": "2022-09-29T08:41:54.512Z"
   },
   {
    "duration": 22,
    "start_time": "2022-09-29T08:41:54.999Z"
   },
   {
    "duration": 38,
    "start_time": "2022-09-29T08:41:55.022Z"
   },
   {
    "duration": 19,
    "start_time": "2022-09-29T08:41:55.063Z"
   },
   {
    "duration": 76,
    "start_time": "2022-09-29T08:41:55.083Z"
   },
   {
    "duration": 3,
    "start_time": "2022-09-29T08:41:55.161Z"
   },
   {
    "duration": 20,
    "start_time": "2022-09-29T08:41:55.166Z"
   },
   {
    "duration": 4,
    "start_time": "2022-09-29T08:41:55.188Z"
   },
   {
    "duration": 7,
    "start_time": "2022-09-29T08:41:55.194Z"
   },
   {
    "duration": 7,
    "start_time": "2022-09-29T08:41:55.206Z"
   },
   {
    "duration": 33,
    "start_time": "2022-09-29T08:41:55.215Z"
   },
   {
    "duration": 10,
    "start_time": "2022-09-29T08:41:55.250Z"
   },
   {
    "duration": 6,
    "start_time": "2022-09-29T08:41:55.262Z"
   },
   {
    "duration": 16,
    "start_time": "2022-09-29T08:41:55.269Z"
   },
   {
    "duration": 37,
    "start_time": "2022-09-29T08:41:55.286Z"
   },
   {
    "duration": 17,
    "start_time": "2022-09-29T08:41:55.325Z"
   },
   {
    "duration": 4,
    "start_time": "2022-09-29T08:41:55.344Z"
   },
   {
    "duration": 11,
    "start_time": "2022-09-29T08:41:55.350Z"
   },
   {
    "duration": 7,
    "start_time": "2022-09-29T08:41:55.362Z"
   },
   {
    "duration": 40,
    "start_time": "2022-09-29T08:41:55.370Z"
   },
   {
    "duration": 12,
    "start_time": "2022-09-29T08:41:55.411Z"
   },
   {
    "duration": 6,
    "start_time": "2022-09-29T08:41:55.425Z"
   },
   {
    "duration": 4,
    "start_time": "2022-09-29T08:41:55.432Z"
   },
   {
    "duration": 5,
    "start_time": "2022-09-29T08:41:55.437Z"
   },
   {
    "duration": 5,
    "start_time": "2022-09-29T08:41:55.444Z"
   },
   {
    "duration": 5,
    "start_time": "2022-09-29T08:46:59.825Z"
   },
   {
    "duration": 6,
    "start_time": "2022-09-29T08:47:06.782Z"
   },
   {
    "duration": 6,
    "start_time": "2022-09-29T08:47:11.411Z"
   },
   {
    "duration": 6,
    "start_time": "2022-09-29T08:47:12.915Z"
   },
   {
    "duration": 7,
    "start_time": "2022-09-29T08:47:20.227Z"
   },
   {
    "duration": 9,
    "start_time": "2022-09-29T08:47:30.232Z"
   },
   {
    "duration": 7,
    "start_time": "2022-09-29T08:50:05.099Z"
   },
   {
    "duration": 8,
    "start_time": "2022-09-29T08:50:09.304Z"
   },
   {
    "duration": 9,
    "start_time": "2022-09-29T08:54:35.858Z"
   },
   {
    "duration": 7,
    "start_time": "2022-09-29T08:56:37.135Z"
   },
   {
    "duration": 13,
    "start_time": "2022-09-29T08:56:43.749Z"
   },
   {
    "duration": 8,
    "start_time": "2022-09-29T08:57:13.755Z"
   },
   {
    "duration": 8,
    "start_time": "2022-09-29T08:57:19.284Z"
   },
   {
    "duration": 13,
    "start_time": "2022-09-29T08:58:18.232Z"
   },
   {
    "duration": 15,
    "start_time": "2022-09-29T09:00:03.784Z"
   },
   {
    "duration": 12,
    "start_time": "2022-09-29T09:00:33.674Z"
   },
   {
    "duration": 9,
    "start_time": "2022-09-29T09:01:14.123Z"
   },
   {
    "duration": 87,
    "start_time": "2022-09-29T09:02:06.070Z"
   },
   {
    "duration": 21,
    "start_time": "2022-09-29T09:02:10.853Z"
   },
   {
    "duration": 12,
    "start_time": "2022-09-29T09:02:30.502Z"
   },
   {
    "duration": 13,
    "start_time": "2022-09-29T09:03:02.288Z"
   },
   {
    "duration": 13,
    "start_time": "2022-09-29T09:03:08.882Z"
   },
   {
    "duration": 20,
    "start_time": "2022-09-29T09:03:16.378Z"
   },
   {
    "duration": 15,
    "start_time": "2022-09-29T09:03:30.152Z"
   },
   {
    "duration": 14,
    "start_time": "2022-09-29T09:04:36.766Z"
   },
   {
    "duration": 21,
    "start_time": "2022-09-29T09:10:17.622Z"
   },
   {
    "duration": 5,
    "start_time": "2022-09-29T09:11:10.917Z"
   },
   {
    "duration": 24,
    "start_time": "2022-09-29T09:11:22.826Z"
   },
   {
    "duration": 13,
    "start_time": "2022-09-29T09:12:01.342Z"
   },
   {
    "duration": 22,
    "start_time": "2022-09-29T09:15:50.156Z"
   },
   {
    "duration": 10,
    "start_time": "2022-09-29T09:16:21.844Z"
   },
   {
    "duration": 11,
    "start_time": "2022-09-29T09:16:52.437Z"
   },
   {
    "duration": 21,
    "start_time": "2022-09-29T09:18:39.840Z"
   },
   {
    "duration": 15,
    "start_time": "2022-09-29T09:20:06.373Z"
   },
   {
    "duration": 16,
    "start_time": "2022-09-29T09:20:51.800Z"
   },
   {
    "duration": 15,
    "start_time": "2022-09-29T09:21:35.335Z"
   },
   {
    "duration": 20,
    "start_time": "2022-09-29T09:25:33.049Z"
   },
   {
    "duration": 13,
    "start_time": "2022-09-29T09:26:52.278Z"
   },
   {
    "duration": 21,
    "start_time": "2022-09-29T09:30:53.821Z"
   },
   {
    "duration": 15,
    "start_time": "2022-09-29T09:31:11.260Z"
   },
   {
    "duration": 504,
    "start_time": "2022-09-29T10:20:53.823Z"
   },
   {
    "duration": 25,
    "start_time": "2022-09-29T10:20:54.329Z"
   },
   {
    "duration": 26,
    "start_time": "2022-09-29T10:20:54.356Z"
   },
   {
    "duration": 15,
    "start_time": "2022-09-29T10:20:54.383Z"
   },
   {
    "duration": 74,
    "start_time": "2022-09-29T10:20:54.400Z"
   },
   {
    "duration": 4,
    "start_time": "2022-09-29T10:20:54.476Z"
   },
   {
    "duration": 49,
    "start_time": "2022-09-29T10:20:54.482Z"
   },
   {
    "duration": 24,
    "start_time": "2022-09-29T10:20:54.533Z"
   },
   {
    "duration": 24,
    "start_time": "2022-09-29T10:20:54.558Z"
   },
   {
    "duration": 25,
    "start_time": "2022-09-29T10:20:54.584Z"
   },
   {
    "duration": 93,
    "start_time": "2022-09-29T10:20:54.610Z"
   },
   {
    "duration": 22,
    "start_time": "2022-09-29T10:20:54.705Z"
   },
   {
    "duration": 18,
    "start_time": "2022-09-29T10:20:54.730Z"
   },
   {
    "duration": 30,
    "start_time": "2022-09-29T10:20:54.752Z"
   },
   {
    "duration": 42,
    "start_time": "2022-09-29T10:20:54.784Z"
   },
   {
    "duration": 40,
    "start_time": "2022-09-29T10:20:54.828Z"
   },
   {
    "duration": 25,
    "start_time": "2022-09-29T10:20:54.870Z"
   },
   {
    "duration": 45,
    "start_time": "2022-09-29T10:20:54.897Z"
   },
   {
    "duration": 34,
    "start_time": "2022-09-29T10:20:54.944Z"
   },
   {
    "duration": 23,
    "start_time": "2022-09-29T10:20:54.980Z"
   },
   {
    "duration": 33,
    "start_time": "2022-09-29T10:20:55.004Z"
   },
   {
    "duration": 64,
    "start_time": "2022-09-29T10:20:55.039Z"
   },
   {
    "duration": 54,
    "start_time": "2022-09-29T10:20:55.105Z"
   },
   {
    "duration": 31,
    "start_time": "2022-09-29T10:20:55.160Z"
   },
   {
    "duration": 32,
    "start_time": "2022-09-29T10:20:55.193Z"
   },
   {
    "duration": 475,
    "start_time": "2022-09-29T10:59:58.254Z"
   },
   {
    "duration": 24,
    "start_time": "2022-09-29T10:59:58.731Z"
   },
   {
    "duration": 16,
    "start_time": "2022-09-29T10:59:58.757Z"
   },
   {
    "duration": 38,
    "start_time": "2022-09-29T10:59:58.775Z"
   },
   {
    "duration": 37,
    "start_time": "2022-09-29T10:59:58.815Z"
   },
   {
    "duration": 4,
    "start_time": "2022-09-29T10:59:58.853Z"
   },
   {
    "duration": 15,
    "start_time": "2022-09-29T10:59:58.859Z"
   },
   {
    "duration": 29,
    "start_time": "2022-09-29T10:59:58.878Z"
   },
   {
    "duration": 11,
    "start_time": "2022-09-29T10:59:58.908Z"
   },
   {
    "duration": 4,
    "start_time": "2022-09-29T10:59:58.923Z"
   },
   {
    "duration": 39,
    "start_time": "2022-09-29T10:59:58.929Z"
   },
   {
    "duration": 9,
    "start_time": "2022-09-29T10:59:58.970Z"
   },
   {
    "duration": 13,
    "start_time": "2022-09-29T10:59:58.997Z"
   },
   {
    "duration": 15,
    "start_time": "2022-09-29T10:59:59.012Z"
   },
   {
    "duration": 23,
    "start_time": "2022-09-29T10:59:59.028Z"
   },
   {
    "duration": 18,
    "start_time": "2022-09-29T10:59:59.053Z"
   },
   {
    "duration": 4,
    "start_time": "2022-09-29T10:59:59.073Z"
   },
   {
    "duration": 26,
    "start_time": "2022-09-29T10:59:59.098Z"
   },
   {
    "duration": 18,
    "start_time": "2022-09-29T10:59:59.125Z"
   },
   {
    "duration": 7,
    "start_time": "2022-09-29T10:59:59.145Z"
   },
   {
    "duration": 12,
    "start_time": "2022-09-29T10:59:59.154Z"
   },
   {
    "duration": 13,
    "start_time": "2022-09-29T10:59:59.168Z"
   },
   {
    "duration": 29,
    "start_time": "2022-09-29T10:59:59.183Z"
   },
   {
    "duration": 20,
    "start_time": "2022-09-29T10:59:59.215Z"
   },
   {
    "duration": 22,
    "start_time": "2022-09-29T10:59:59.237Z"
   }
  ],
  "colab": {
   "name": "dpp_template_part2.ipynb",
   "provenance": []
  },
  "kernelspec": {
   "display_name": "Python 3 (ipykernel)",
   "language": "python",
   "name": "python3"
  },
  "language_info": {
   "codemirror_mode": {
    "name": "ipython",
    "version": 3
   },
   "file_extension": ".py",
   "mimetype": "text/x-python",
   "name": "python",
   "nbconvert_exporter": "python",
   "pygments_lexer": "ipython3",
   "version": "3.9.5"
  },
  "toc": {
   "base_numbering": 1,
   "nav_menu": {},
   "number_sections": true,
   "sideBar": true,
   "skip_h1_title": true,
   "title_cell": "Table of Contents",
   "title_sidebar": "Contents",
   "toc_cell": false,
   "toc_position": {},
   "toc_section_display": true,
   "toc_window_display": false
  }
 },
 "nbformat": 4,
 "nbformat_minor": 5
}
